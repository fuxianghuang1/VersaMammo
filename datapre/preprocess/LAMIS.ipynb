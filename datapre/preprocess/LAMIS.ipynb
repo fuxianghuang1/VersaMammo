{
 "cells": [
  {
   "cell_type": "code",
   "execution_count": null,
   "metadata": {},
   "outputs": [
    {
     "name": "stdout",
     "output_type": "stream",
     "text": [
      "Found 2216 DICOM files to process\n"
     ]
    },
    {
     "name": "stderr",
     "output_type": "stream",
     "text": [
      " 29%|██▊       | 637/2216 [05:02<09:49,  2.68it/s]"
     ]
    },
    {
     "name": "stdout",
     "output_type": "stream",
     "text": [
      "Error processing /Volumes/Newsmy/LAMISDMDB/LAMISDMDB VF/Bening/BIRADS II/Mass/ACR2/dataMG-PROC_P381_457_R_CC_11_February_2019.dcm: The length of the pixel data in the dataset (30199006 bytes) doesn't match the expected length (30200880 bytes). The dataset may be corrupted or there may be an issue with the pixel data handler.\n"
     ]
    },
    {
     "name": "stderr",
     "output_type": "stream",
     "text": [
      " 39%|███▉      | 866/2216 [06:49<10:51,  2.07it/s]"
     ]
    },
    {
     "name": "stdout",
     "output_type": "stream",
     "text": [
      "Error processing /Volumes/Newsmy/LAMISDMDB/LAMISDMDB VF/Bening/BIRADS II/Mass/ACR3/dataMG-PROC_P393_793_L_CC_12_November_2018.dcm: File is missing DICOM File Meta Information header or the 'DICM' prefix is missing from the header. Use force=True to force reading.\n"
     ]
    },
    {
     "name": "stderr",
     "output_type": "stream",
     "text": [
      " 83%|████████▎ | 1836/2216 [14:32<03:12,  1.98it/s]"
     ]
    },
    {
     "name": "stdout",
     "output_type": "stream",
     "text": [
      "Error processing /Volumes/Newsmy/LAMISDMDB/LAMISDMDB VF/Normal/BARADS I/ACR2/dataMG-PROC_P441_689_L_MLO_27_November_2018.dcm: File is missing DICOM File Meta Information header or the 'DICM' prefix is missing from the header. Use force=True to force reading.\n"
     ]
    },
    {
     "name": "stderr",
     "output_type": "stream",
     "text": [
      "100%|██████████| 2216/2216 [17:41<00:00,  2.09it/s]"
     ]
    },
    {
     "name": "stdout",
     "output_type": "stream",
     "text": [
      "Processing completed. Successfully processed 2213/2216 files\n"
     ]
    },
    {
     "name": "stderr",
     "output_type": "stream",
     "text": [
      "\n"
     ]
    }
   ],
   "source": [
    "import os\n",
    "import pydicom\n",
    "import numpy as np\n",
    "import cv2\n",
    "from PIL import Image\n",
    "import shutil\n",
    "from tqdm import tqdm\n",
    "import pandas as pd\n",
    "\n",
    "def np_CountUpContinuingOnes(b_arr):\n",
    "    \"\"\"Calculate the length of consecutive ones\"\"\"\n",
    "    left = np.arange(len(b_arr))\n",
    "    left[b_arr > 0] = 0\n",
    "    left = np.maximum.accumulate(left)\n",
    "\n",
    "    rev_arr = b_arr[::-1]\n",
    "    right = np.arange(len(rev_arr))\n",
    "    right[rev_arr > 0] = 0\n",
    "    right = np.maximum.accumulate(right)\n",
    "    right = len(rev_arr) - 1 - right[::-1]\n",
    "\n",
    "    return right - left - 1\n",
    "\n",
    "def ExtractBreast(img_array):\n",
    "    \"\"\"Breast region extraction (input: numpy array)\"\"\"\n",
    "    img_copy = img_array.copy()\n",
    "    img_array = np.where(img_array <= 40, 0, img_array)\n",
    "    height, _ = img_array.shape\n",
    "\n",
    "    # Horizontal cropping\n",
    "    y_a = height // 2 + int(height * 0.4)\n",
    "    y_b = height // 2 - int(height * 0.4)\n",
    "    b_arr = img_array[y_b:y_a].std(axis=0) != 0\n",
    "    continuing_ones = np_CountUpContinuingOnes(b_arr)\n",
    "    col_ind = np.where(continuing_ones == continuing_ones.max())[0]\n",
    "    img_array = img_array[:, col_ind]\n",
    "\n",
    "    # Vertical cropping\n",
    "    _, width = img_array.shape\n",
    "    x_a = width // 2 + int(width * 0.4)\n",
    "    x_b = width // 2 - int(width * 0.4)\n",
    "    b_arr = img_array[:, x_b:x_a].std(axis=1) != 0\n",
    "    continuing_ones = np_CountUpContinuingOnes(b_arr)\n",
    "    row_ind = np.where(continuing_ones == continuing_ones.max())[0]\n",
    "\n",
    "    return img_copy[row_ind][:, col_ind]\n",
    "\n",
    "def parse_dcm_info(filepath):\n",
    "    \"\"\"Extract metadata from file path and remove Unknown key-value pairs\"\"\"\n",
    "    parts = filepath.split(os.sep)\n",
    "    metadata = {}\n",
    "    \n",
    "    # Pathology\n",
    "    if 'Bening' in parts:\n",
    "        metadata[\"Pathology\"] = \"Benign\"\n",
    "    elif 'maling' in parts:\n",
    "        metadata[\"Pathology\"] = \"Malignant\"\n",
    "    elif 'Normal' in parts:\n",
    "        metadata[\"Pathology\"] = \"Benign\"\n",
    "    \n",
    "    # Bi-RADS\n",
    "    if 'BIRADS II' in parts:\n",
    "        metadata[\"Bi-Rads\"] = \"Bi-Rads 2\"\n",
    "    elif 'BIRADS IV' in parts:\n",
    "        metadata[\"Bi-Rads\"] = \"Bi-Rads 4\"\n",
    "    elif 'BIRADS V' in parts:\n",
    "        metadata[\"Bi-Rads\"] = \"Bi-Rads 5\"\n",
    "    elif 'BARADS I' in parts:\n",
    "        metadata[\"Bi-Rads\"] = \"Bi-Rads 1\"\n",
    "    \n",
    "    # ACR Level\n",
    "    if 'ACR1' in parts:\n",
    "        metadata[\"Composition\"] = \"Level A\"\n",
    "    elif 'ACR2' in parts:\n",
    "        metadata[\"Composition\"] = \"Level B\"\n",
    "    elif 'ACR3' in parts:\n",
    "        metadata[\"Composition\"] = \"Level C\"\n",
    "    elif 'ACR4' in parts:\n",
    "        metadata[\"Composition\"] = \"Level D\"\n",
    "    \n",
    "    return metadata\n",
    "\n",
    "def process_dcm_file(dcm_path, output_base, split_info_df):\n",
    "    try:\n",
    "        # Read DICOM file\n",
    "        dcm = pydicom.dcmread(dcm_path)\n",
    "        \n",
    "        # Get pixel array\n",
    "        img_array = dcm.pixel_array\n",
    "        if len(img_array.shape) > 2:\n",
    "            img_array = img_array.mean(axis=2)\n",
    "        \n",
    "        # Convert 16-bit to 8-bit (0-255) if needed\n",
    "        img_array = cv2.normalize(img_array, None, 0, 255, cv2.NORM_MINMAX).astype(np.uint8)\n",
    "\n",
    "        # Extract breast region\n",
    "        breast_img = ExtractBreast(img_array)\n",
    "        \n",
    "        # Convert to 8-bit\n",
    "        if breast_img.dtype != np.uint8:\n",
    "            breast_img = cv2.normalize(breast_img, None, 0, 255, cv2.NORM_MINMAX).astype(np.uint8)\n",
    "        \n",
    "        # Create output directory structure\n",
    "        filename = os.path.basename(dcm_path)\n",
    "        patient_id = filename.split('_')[1]  # Extract P118 from filename\n",
    "        study_id = filename.split('_')[2]    # Extract 81329 from filename\n",
    "        laterality = \"L\" if \"_L_\" in filename else \"R\" if \"_R_\" in filename else \"U\"\n",
    "        view = \"CC\" if \"CC\" in filename else \"MLO\" if \"MLO\" in filename or \"LMO\" in filename or \"ML\" in filename else \"UNK\"\n",
    "        \n",
    "        data_name = f\"{patient_id}_{study_id}_{laterality}_{view}\"\n",
    "        \n",
    "        # Get split information from CSV\n",
    "        split_info = split_info_df[split_info_df['data_name'] == data_name]\n",
    "        if split_info.empty:\n",
    "            print(f\"No split info found for {data_name}\")\n",
    "            return False\n",
    "            \n",
    "        data_split = split_info['data_split'].values[0]\n",
    "        output_dir = os.path.join(output_base, data_split, data_name)\n",
    "        os.makedirs(output_dir, exist_ok=True)\n",
    "        \n",
    "        # Save image\n",
    "        img_pil = Image.fromarray(breast_img)\n",
    "        img_pil.save(os.path.join(output_dir, \"img.jpg\"))\n",
    "        \n",
    "        # Save metadata (after removing Unknown values)\n",
    "        metadata = parse_dcm_info(dcm_path)\n",
    "        np.save(os.path.join(output_dir, \"info_dict.npy\"), metadata)\n",
    "        \n",
    "        return True\n",
    "        \n",
    "    except Exception as e:\n",
    "        print(f\"Error processing {dcm_path}: {str(e)}\")\n",
    "        return False\n",
    "\n",
    "def main():\n",
    "    # Input and output paths\n",
    "    input_base = \"/Volumes/Newsmy/LAMISDMDB/LAMISDMDB VF\"\n",
    "    output_base = \"../classification_data/LAMIS\"\n",
    "    os.makedirs(output_base, exist_ok=True)\n",
    "    \n",
    "    # Load split information\n",
    "    split_csv_path = \"../classification_data/classification_split.csv\"\n",
    "    split_info_df = pd.read_csv(split_csv_path)\n",
    "    split_info_df = split_info_df[split_info_df['dataset'] == 'LAMIS']\n",
    "    \n",
    "    # Find all DICOM files\n",
    "    dcm_files = []\n",
    "    for root, dirs, files in os.walk(input_base):\n",
    "        for file in files:\n",
    "            if file.endswith('.dcm'):\n",
    "                dcm_files.append(os.path.join(root, file))\n",
    "    \n",
    "    print(f\"Found {len(dcm_files)} DICOM files to process\")\n",
    "    \n",
    "    # Process all files\n",
    "    success_count = 0\n",
    "    for dcm_file in tqdm(dcm_files):\n",
    "        if process_dcm_file(dcm_file, output_base, split_info_df):\n",
    "            success_count += 1\n",
    "    \n",
    "    print(f\"Processing completed. Successfully processed {success_count}/{len(dcm_files)} files\")\n",
    "\n",
    "if __name__ == \"__main__\":\n",
    "    main()"
   ]
  },
  {
   "cell_type": "code",
   "execution_count": null,
   "metadata": {},
   "outputs": [],
   "source": []
  }
 ],
 "metadata": {
  "kernelspec": {
   "display_name": "base",
   "language": "python",
   "name": "python3"
  },
  "language_info": {
   "codemirror_mode": {
    "name": "ipython",
    "version": 3
   },
   "file_extension": ".py",
   "mimetype": "text/x-python",
   "name": "python",
   "nbconvert_exporter": "python",
   "pygments_lexer": "ipython3",
   "version": "3.9.21"
  }
 },
 "nbformat": 4,
 "nbformat_minor": 2
}
