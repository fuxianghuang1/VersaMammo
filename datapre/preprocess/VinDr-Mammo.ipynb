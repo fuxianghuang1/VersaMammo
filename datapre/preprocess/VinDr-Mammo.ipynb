{
 "cells": [
  {
   "cell_type": "markdown",
   "metadata": {},
   "source": [
    "VinDr-Mammo-finding"
   ]
  },
  {
   "cell_type": "code",
   "execution_count": null,
   "metadata": {},
   "outputs": [
    {
     "name": "stderr",
     "output_type": "stream",
     "text": [
      "  0%|          | 1/1768 [00:00<20:21,  1.45it/s]"
     ]
    },
    {
     "name": "stdout",
     "output_type": "stream",
     "text": [
      "Image and info_dict saved for 001ade2a3cb53fd808bd2856a0df5413_0 in /Volumes/Newsmy/FM_dataset/VinDr-Mammo-finding/Train/001ade2a3cb53fd808bd2856a0df5413_0\n",
      "Image and info_dict saved for 001ade2a3cb53fd808bd2856a0df5413_1 in /Volumes/Newsmy/FM_dataset/VinDr-Mammo-finding/Train/001ade2a3cb53fd808bd2856a0df5413_1\n",
      "Image and info_dict saved for 001ade2a3cb53fd808bd2856a0df5413_2 in /Volumes/Newsmy/FM_dataset/VinDr-Mammo-finding/Train/001ade2a3cb53fd808bd2856a0df5413_2\n"
     ]
    },
    {
     "name": "stderr",
     "output_type": "stream",
     "text": [
      "  0%|          | 2/1768 [00:01<20:28,  1.44it/s]"
     ]
    },
    {
     "name": "stdout",
     "output_type": "stream",
     "text": [
      "Image and info_dict saved for 002074412a8fc178c271fb93b55c3e29_0 in /Volumes/Newsmy/FM_dataset/VinDr-Mammo-finding/Train/002074412a8fc178c271fb93b55c3e29_0\n"
     ]
    },
    {
     "name": "stderr",
     "output_type": "stream",
     "text": [
      "  0%|          | 3/1768 [00:01<16:59,  1.73it/s]"
     ]
    },
    {
     "name": "stdout",
     "output_type": "stream",
     "text": [
      "Image and info_dict saved for 002460132586dc0c7b88a59dce6e77bd_0 in /Volumes/Newsmy/FM_dataset/VinDr-Mammo-finding/Train/002460132586dc0c7b88a59dce6e77bd_0\n"
     ]
    },
    {
     "name": "stderr",
     "output_type": "stream",
     "text": [
      "  0%|          | 4/1768 [00:02<18:49,  1.56it/s]"
     ]
    },
    {
     "name": "stdout",
     "output_type": "stream",
     "text": [
      "Image and info_dict saved for 005869cc3078b5868e83197922b74c62_0 in /Volumes/Newsmy/FM_dataset/VinDr-Mammo-finding/Train/005869cc3078b5868e83197922b74c62_0\n"
     ]
    },
    {
     "name": "stderr",
     "output_type": "stream",
     "text": [
      "  0%|          | 5/1768 [00:03<17:26,  1.69it/s]"
     ]
    },
    {
     "name": "stdout",
     "output_type": "stream",
     "text": [
      "Image and info_dict saved for 005918369ec07b1aed37d1dd78bc57fe_0 in /Volumes/Newsmy/FM_dataset/VinDr-Mammo-finding/Train/005918369ec07b1aed37d1dd78bc57fe_0\n"
     ]
    },
    {
     "name": "stderr",
     "output_type": "stream",
     "text": [
      "  0%|          | 6/1768 [00:03<15:43,  1.87it/s]"
     ]
    },
    {
     "name": "stdout",
     "output_type": "stream",
     "text": [
      "Image and info_dict saved for 00857417d07096982013956033da1f75_0 in /Volumes/Newsmy/FM_dataset/VinDr-Mammo-finding/Train/00857417d07096982013956033da1f75_0\n"
     ]
    },
    {
     "name": "stderr",
     "output_type": "stream",
     "text": [
      "  0%|          | 7/1768 [00:04<15:35,  1.88it/s]"
     ]
    },
    {
     "name": "stdout",
     "output_type": "stream",
     "text": [
      "Image and info_dict saved for 008bc6050f6d31fc255e5d87bcc87ba2_0 in /Volumes/Newsmy/FM_dataset/VinDr-Mammo-finding/Eval/008bc6050f6d31fc255e5d87bcc87ba2_0\n"
     ]
    },
    {
     "name": "stderr",
     "output_type": "stream",
     "text": [
      "  0%|          | 8/1768 [00:04<14:21,  2.04it/s]"
     ]
    },
    {
     "name": "stdout",
     "output_type": "stream",
     "text": [
      "Image and info_dict saved for 008c66563c73b2f5b8e42915b2cd6af5_0 in /Volumes/Newsmy/FM_dataset/VinDr-Mammo-finding/Train/008c66563c73b2f5b8e42915b2cd6af5_0\n"
     ]
    },
    {
     "name": "stderr",
     "output_type": "stream",
     "text": [
      "  1%|          | 9/1768 [00:04<14:37,  2.00it/s]"
     ]
    },
    {
     "name": "stdout",
     "output_type": "stream",
     "text": [
      "Image and info_dict saved for 00be38a5c0566291168fe381ba0028e6_0 in /Volumes/Newsmy/FM_dataset/VinDr-Mammo-finding/Train/00be38a5c0566291168fe381ba0028e6_0\n"
     ]
    },
    {
     "name": "stderr",
     "output_type": "stream",
     "text": [
      "  1%|          | 10/1768 [00:05<14:14,  2.06it/s]"
     ]
    },
    {
     "name": "stdout",
     "output_type": "stream",
     "text": [
      "Image and info_dict saved for 00ec2be128f964da6f0b0ba179c4d138_0 in /Volumes/Newsmy/FM_dataset/VinDr-Mammo-finding/Train/00ec2be128f964da6f0b0ba179c4d138_0\n"
     ]
    },
    {
     "name": "stderr",
     "output_type": "stream",
     "text": [
      "  1%|          | 11/1768 [00:05<13:13,  2.21it/s]"
     ]
    },
    {
     "name": "stdout",
     "output_type": "stream",
     "text": [
      "Image and info_dict saved for 013e4b7bcdaf536c4e37b4125ab8148b_0 in /Volumes/Newsmy/FM_dataset/VinDr-Mammo-finding/Eval/013e4b7bcdaf536c4e37b4125ab8148b_0\n"
     ]
    },
    {
     "name": "stderr",
     "output_type": "stream",
     "text": [
      "  1%|          | 12/1768 [00:06<16:18,  1.79it/s]"
     ]
    },
    {
     "name": "stdout",
     "output_type": "stream",
     "text": [
      "Image and info_dict saved for 01599597388f3185563decc34945f6b3_0 in /Volumes/Newsmy/FM_dataset/VinDr-Mammo-finding/Train/01599597388f3185563decc34945f6b3_0\n"
     ]
    },
    {
     "name": "stderr",
     "output_type": "stream",
     "text": [
      "  1%|          | 13/1768 [00:07<15:20,  1.91it/s]"
     ]
    },
    {
     "name": "stdout",
     "output_type": "stream",
     "text": [
      "Image and info_dict saved for 0171ab32059f4c226164a13c311f6824_0 in /Volumes/Newsmy/FM_dataset/VinDr-Mammo-finding/Eval/0171ab32059f4c226164a13c311f6824_0\n"
     ]
    },
    {
     "name": "stderr",
     "output_type": "stream",
     "text": [
      "  1%|          | 14/1768 [00:07<14:39,  2.00it/s]"
     ]
    },
    {
     "name": "stdout",
     "output_type": "stream",
     "text": [
      "Image and info_dict saved for 01958718afdf303581e758cdf34eaf8a_0 in /Volumes/Newsmy/FM_dataset/VinDr-Mammo-finding/Train/01958718afdf303581e758cdf34eaf8a_0\n"
     ]
    },
    {
     "name": "stderr",
     "output_type": "stream",
     "text": [
      "  1%|          | 15/1768 [00:07<14:33,  2.01it/s]"
     ]
    },
    {
     "name": "stdout",
     "output_type": "stream",
     "text": [
      "Image and info_dict saved for 019b9f6365fa641db040b5b643fadc42_0 in /Volumes/Newsmy/FM_dataset/VinDr-Mammo-finding/Train/019b9f6365fa641db040b5b643fadc42_0\n"
     ]
    },
    {
     "name": "stderr",
     "output_type": "stream",
     "text": [
      "  1%|          | 16/1768 [00:08<13:01,  2.24it/s]"
     ]
    },
    {
     "name": "stdout",
     "output_type": "stream",
     "text": [
      "Image and info_dict saved for 01df962b078e38500bf9dd9969a50083_0 in /Volumes/Newsmy/FM_dataset/VinDr-Mammo-finding/Test/01df962b078e38500bf9dd9969a50083_0\n"
     ]
    },
    {
     "name": "stderr",
     "output_type": "stream",
     "text": [
      "  1%|          | 17/1768 [00:08<12:44,  2.29it/s]"
     ]
    },
    {
     "name": "stdout",
     "output_type": "stream",
     "text": [
      "Image and info_dict saved for 01fb871dc222684a9950609b62b76772_0 in /Volumes/Newsmy/FM_dataset/VinDr-Mammo-finding/Train/01fb871dc222684a9950609b62b76772_0\n"
     ]
    },
    {
     "name": "stderr",
     "output_type": "stream",
     "text": [
      "  1%|          | 18/1768 [00:09<13:01,  2.24it/s]"
     ]
    },
    {
     "name": "stdout",
     "output_type": "stream",
     "text": [
      "Image and info_dict saved for 020a5433c9b16a5c493b5d9902d08e90_0 in /Volumes/Newsmy/FM_dataset/VinDr-Mammo-finding/Train/020a5433c9b16a5c493b5d9902d08e90_0\n"
     ]
    },
    {
     "name": "stderr",
     "output_type": "stream",
     "text": [
      "  1%|          | 19/1768 [00:09<14:55,  1.95it/s]"
     ]
    },
    {
     "name": "stdout",
     "output_type": "stream",
     "text": [
      "Image and info_dict saved for 02895cbbcb504f54c6882c4c5695f563_0 in /Volumes/Newsmy/FM_dataset/VinDr-Mammo-finding/Train/02895cbbcb504f54c6882c4c5695f563_0\n"
     ]
    },
    {
     "name": "stderr",
     "output_type": "stream",
     "text": [
      "  1%|          | 20/1768 [00:10<15:24,  1.89it/s]"
     ]
    },
    {
     "name": "stdout",
     "output_type": "stream",
     "text": [
      "Image and info_dict saved for 02b3206d267eb7f354113b0c5365127b_0 in /Volumes/Newsmy/FM_dataset/VinDr-Mammo-finding/Train/02b3206d267eb7f354113b0c5365127b_0\n",
      "Image and info_dict saved for 02d253f51556e2e0af63525de2e9ff74_0 in /Volumes/Newsmy/FM_dataset/VinDr-Mammo-finding/Train/02d253f51556e2e0af63525de2e9ff74_0\n",
      "Image and info_dict saved for 02d253f51556e2e0af63525de2e9ff74_1 in /Volumes/Newsmy/FM_dataset/VinDr-Mammo-finding/Train/02d253f51556e2e0af63525de2e9ff74_1\n"
     ]
    },
    {
     "name": "stderr",
     "output_type": "stream",
     "text": [
      "  1%|          | 21/1768 [00:11<17:31,  1.66it/s]"
     ]
    },
    {
     "name": "stdout",
     "output_type": "stream",
     "text": [
      "Image and info_dict saved for 02d253f51556e2e0af63525de2e9ff74_2 in /Volumes/Newsmy/FM_dataset/VinDr-Mammo-finding/Train/02d253f51556e2e0af63525de2e9ff74_2\n"
     ]
    },
    {
     "name": "stderr",
     "output_type": "stream",
     "text": [
      "  1%|          | 22/1768 [00:11<17:22,  1.67it/s]"
     ]
    },
    {
     "name": "stdout",
     "output_type": "stream",
     "text": [
      "Image and info_dict saved for 02db389409297f62ae588b4d03c46c6a_0 in /Volumes/Newsmy/FM_dataset/VinDr-Mammo-finding/Train/02db389409297f62ae588b4d03c46c6a_0\n"
     ]
    },
    {
     "name": "stderr",
     "output_type": "stream",
     "text": [
      "  1%|▏         | 23/1768 [00:12<16:04,  1.81it/s]"
     ]
    },
    {
     "name": "stdout",
     "output_type": "stream",
     "text": [
      "Image and info_dict saved for 031592807c30b54e2fb4bd2400e634e8_0 in /Volumes/Newsmy/FM_dataset/VinDr-Mammo-finding/Train/031592807c30b54e2fb4bd2400e634e8_0\n"
     ]
    },
    {
     "name": "stderr",
     "output_type": "stream",
     "text": [
      "  1%|▏         | 24/1768 [00:12<15:06,  1.92it/s]"
     ]
    },
    {
     "name": "stdout",
     "output_type": "stream",
     "text": [
      "Image and info_dict saved for 03234e390d3f2c9c07889e1687eafbb8_0 in /Volumes/Newsmy/FM_dataset/VinDr-Mammo-finding/Test/03234e390d3f2c9c07889e1687eafbb8_0\n"
     ]
    },
    {
     "name": "stderr",
     "output_type": "stream",
     "text": [
      "  1%|▏         | 25/1768 [00:13<14:20,  2.03it/s]"
     ]
    },
    {
     "name": "stdout",
     "output_type": "stream",
     "text": [
      "Image and info_dict saved for 032ab9e0ecd5fd673517ffa3eb805d15_0 in /Volumes/Newsmy/FM_dataset/VinDr-Mammo-finding/Train/032ab9e0ecd5fd673517ffa3eb805d15_0\n"
     ]
    },
    {
     "name": "stderr",
     "output_type": "stream",
     "text": [
      "  1%|▏         | 26/1768 [00:13<13:50,  2.10it/s]"
     ]
    },
    {
     "name": "stdout",
     "output_type": "stream",
     "text": [
      "Image and info_dict saved for 03674edf018ba8eef3c2857d1aa3305b_0 in /Volumes/Newsmy/FM_dataset/VinDr-Mammo-finding/Train/03674edf018ba8eef3c2857d1aa3305b_0\n"
     ]
    },
    {
     "name": "stderr",
     "output_type": "stream",
     "text": [
      "  2%|▏         | 27/1768 [00:14<14:13,  2.04it/s]"
     ]
    },
    {
     "name": "stdout",
     "output_type": "stream",
     "text": [
      "Image and info_dict saved for 03b3656c726cbe0d79c86a25d4296559_0 in /Volumes/Newsmy/FM_dataset/VinDr-Mammo-finding/Train/03b3656c726cbe0d79c86a25d4296559_0\n",
      "Image and info_dict saved for 03b3656c726cbe0d79c86a25d4296559_1 in /Volumes/Newsmy/FM_dataset/VinDr-Mammo-finding/Train/03b3656c726cbe0d79c86a25d4296559_1\n"
     ]
    },
    {
     "name": "stderr",
     "output_type": "stream",
     "text": [
      "  2%|▏         | 28/1768 [00:14<14:45,  1.97it/s]"
     ]
    },
    {
     "name": "stdout",
     "output_type": "stream",
     "text": [
      "Image and info_dict saved for 03e464754732750f5828aeb94af68b22_0 in /Volumes/Newsmy/FM_dataset/VinDr-Mammo-finding/Eval/03e464754732750f5828aeb94af68b22_0\n"
     ]
    },
    {
     "name": "stderr",
     "output_type": "stream",
     "text": [
      "  2%|▏         | 29/1768 [00:15<16:25,  1.77it/s]"
     ]
    },
    {
     "name": "stdout",
     "output_type": "stream",
     "text": [
      "Image and info_dict saved for 040cc172596bded4092c44094dc33fb7_0 in /Volumes/Newsmy/FM_dataset/VinDr-Mammo-finding/Train/040cc172596bded4092c44094dc33fb7_0\n",
      "Image and info_dict saved for 040cc172596bded4092c44094dc33fb7_1 in /Volumes/Newsmy/FM_dataset/VinDr-Mammo-finding/Train/040cc172596bded4092c44094dc33fb7_1\n"
     ]
    },
    {
     "name": "stderr",
     "output_type": "stream",
     "text": [
      "  2%|▏         | 30/1768 [00:16<17:40,  1.64it/s]"
     ]
    },
    {
     "name": "stdout",
     "output_type": "stream",
     "text": [
      "Image and info_dict saved for 0426e31fea8079ce30b796c80321a17c_0 in /Volumes/Newsmy/FM_dataset/VinDr-Mammo-finding/Test/0426e31fea8079ce30b796c80321a17c_0\n"
     ]
    },
    {
     "name": "stderr",
     "output_type": "stream",
     "text": [
      "  2%|▏         | 31/1768 [00:16<16:48,  1.72it/s]"
     ]
    },
    {
     "name": "stdout",
     "output_type": "stream",
     "text": [
      "Image and info_dict saved for 042733688eecb852ea06140448a8b1bf_0 in /Volumes/Newsmy/FM_dataset/VinDr-Mammo-finding/Test/042733688eecb852ea06140448a8b1bf_0\n"
     ]
    },
    {
     "name": "stderr",
     "output_type": "stream",
     "text": [
      "  2%|▏         | 32/1768 [00:17<18:26,  1.57it/s]"
     ]
    },
    {
     "name": "stdout",
     "output_type": "stream",
     "text": [
      "Image and info_dict saved for 04c64dd7683662188094816c7c2ca88d_0 in /Volumes/Newsmy/FM_dataset/VinDr-Mammo-finding/Train/04c64dd7683662188094816c7c2ca88d_0\n",
      "Image and info_dict saved for 04c64dd7683662188094816c7c2ca88d_1 in /Volumes/Newsmy/FM_dataset/VinDr-Mammo-finding/Train/04c64dd7683662188094816c7c2ca88d_1\n"
     ]
    },
    {
     "name": "stderr",
     "output_type": "stream",
     "text": [
      "  2%|▏         | 33/1768 [00:18<23:04,  1.25it/s]"
     ]
    },
    {
     "name": "stdout",
     "output_type": "stream",
     "text": [
      "Image and info_dict saved for 04ddd99e0fad1aeca36740eaacdf5607_0 in /Volumes/Newsmy/FM_dataset/VinDr-Mammo-finding/Test/04ddd99e0fad1aeca36740eaacdf5607_0\n"
     ]
    },
    {
     "name": "stderr",
     "output_type": "stream",
     "text": [
      "  2%|▏         | 34/1768 [00:18<20:46,  1.39it/s]"
     ]
    },
    {
     "name": "stdout",
     "output_type": "stream",
     "text": [
      "Image and info_dict saved for 050c2f6caf47f439d62e1fc8942396f6_0 in /Volumes/Newsmy/FM_dataset/VinDr-Mammo-finding/Train/050c2f6caf47f439d62e1fc8942396f6_0\n"
     ]
    },
    {
     "name": "stderr",
     "output_type": "stream",
     "text": [
      "  2%|▏         | 35/1768 [00:19<20:00,  1.44it/s]"
     ]
    },
    {
     "name": "stdout",
     "output_type": "stream",
     "text": [
      "Image and info_dict saved for 051525b959eefb14e973acc7ab8fcfe0_0 in /Volumes/Newsmy/FM_dataset/VinDr-Mammo-finding/Train/051525b959eefb14e973acc7ab8fcfe0_0\n"
     ]
    },
    {
     "name": "stderr",
     "output_type": "stream",
     "text": [
      "  2%|▏         | 36/1768 [00:20<20:22,  1.42it/s]"
     ]
    },
    {
     "name": "stdout",
     "output_type": "stream",
     "text": [
      "Image and info_dict saved for 051c9cdca609082df5257bde8b1ec127_0 in /Volumes/Newsmy/FM_dataset/VinDr-Mammo-finding/Train/051c9cdca609082df5257bde8b1ec127_0\n"
     ]
    },
    {
     "name": "stderr",
     "output_type": "stream",
     "text": [
      "  2%|▏         | 37/1768 [00:20<18:49,  1.53it/s]"
     ]
    },
    {
     "name": "stdout",
     "output_type": "stream",
     "text": [
      "Image and info_dict saved for 058e5f91678b4d3dac39bf1b6a798a22_0 in /Volumes/Newsmy/FM_dataset/VinDr-Mammo-finding/Train/058e5f91678b4d3dac39bf1b6a798a22_0\n"
     ]
    },
    {
     "name": "stderr",
     "output_type": "stream",
     "text": [
      "  2%|▏         | 38/1768 [00:21<17:01,  1.69it/s]"
     ]
    },
    {
     "name": "stdout",
     "output_type": "stream",
     "text": [
      "Image and info_dict saved for 05b027272d8159658b5f9a51e22e734f_0 in /Volumes/Newsmy/FM_dataset/VinDr-Mammo-finding/Train/05b027272d8159658b5f9a51e22e734f_0\n"
     ]
    },
    {
     "name": "stderr",
     "output_type": "stream",
     "text": [
      "  2%|▏         | 39/1768 [00:22<22:10,  1.30it/s]"
     ]
    },
    {
     "name": "stdout",
     "output_type": "stream",
     "text": [
      "Image and info_dict saved for 05dc96041c041ef9d6ec1cb2c86d86bf_0 in /Volumes/Newsmy/FM_dataset/VinDr-Mammo-finding/Train/05dc96041c041ef9d6ec1cb2c86d86bf_0\n"
     ]
    },
    {
     "name": "stderr",
     "output_type": "stream",
     "text": [
      "  2%|▏         | 40/1768 [00:23<22:34,  1.28it/s]"
     ]
    },
    {
     "name": "stdout",
     "output_type": "stream",
     "text": [
      "Image and info_dict saved for 0602173c47d1b21fe548b2d852433a03_0 in /Volumes/Newsmy/FM_dataset/VinDr-Mammo-finding/Train/0602173c47d1b21fe548b2d852433a03_0\n",
      "Image and info_dict saved for 0602173c47d1b21fe548b2d852433a03_1 in /Volumes/Newsmy/FM_dataset/VinDr-Mammo-finding/Train/0602173c47d1b21fe548b2d852433a03_1\n"
     ]
    },
    {
     "name": "stderr",
     "output_type": "stream",
     "text": [
      "  2%|▏         | 41/1768 [00:23<20:52,  1.38it/s]"
     ]
    },
    {
     "name": "stdout",
     "output_type": "stream",
     "text": [
      "Image and info_dict saved for 06073969e7453f71ac8108c6081dc9b8_0 in /Volumes/Newsmy/FM_dataset/VinDr-Mammo-finding/Train/06073969e7453f71ac8108c6081dc9b8_0\n"
     ]
    },
    {
     "name": "stderr",
     "output_type": "stream",
     "text": [
      "  2%|▏         | 42/1768 [00:24<18:55,  1.52it/s]"
     ]
    },
    {
     "name": "stdout",
     "output_type": "stream",
     "text": [
      "Image and info_dict saved for 061bc49a16cad3bc2b479993f7e689f8_0 in /Volumes/Newsmy/FM_dataset/VinDr-Mammo-finding/Train/061bc49a16cad3bc2b479993f7e689f8_0\n",
      "Image and info_dict saved for 061bf98fabad5f9d99fb1919346a3a76_0 in /Volumes/Newsmy/FM_dataset/VinDr-Mammo-finding/Train/061bf98fabad5f9d99fb1919346a3a76_0\n"
     ]
    },
    {
     "name": "stderr",
     "output_type": "stream",
     "text": [
      "  2%|▏         | 43/1768 [00:25<19:06,  1.51it/s]"
     ]
    },
    {
     "name": "stdout",
     "output_type": "stream",
     "text": [
      "Image and info_dict saved for 061bf98fabad5f9d99fb1919346a3a76_1 in /Volumes/Newsmy/FM_dataset/VinDr-Mammo-finding/Train/061bf98fabad5f9d99fb1919346a3a76_1\n"
     ]
    },
    {
     "name": "stderr",
     "output_type": "stream",
     "text": [
      "  2%|▏         | 44/1768 [00:25<17:29,  1.64it/s]"
     ]
    },
    {
     "name": "stdout",
     "output_type": "stream",
     "text": [
      "Image and info_dict saved for 061c11537a514e894a296a7d72064a90_0 in /Volumes/Newsmy/FM_dataset/VinDr-Mammo-finding/Train/061c11537a514e894a296a7d72064a90_0\n"
     ]
    },
    {
     "name": "stderr",
     "output_type": "stream",
     "text": [
      "  3%|▎         | 45/1768 [00:26<16:03,  1.79it/s]"
     ]
    },
    {
     "name": "stdout",
     "output_type": "stream",
     "text": [
      "Image and info_dict saved for 062a18f4573b5f00ad2a0ee1de37b99c_0 in /Volumes/Newsmy/FM_dataset/VinDr-Mammo-finding/Test/062a18f4573b5f00ad2a0ee1de37b99c_0\n"
     ]
    },
    {
     "name": "stderr",
     "output_type": "stream",
     "text": [
      "  3%|▎         | 46/1768 [00:26<14:41,  1.95it/s]"
     ]
    },
    {
     "name": "stdout",
     "output_type": "stream",
     "text": [
      "Image and info_dict saved for 064f024583e9c1a7f0152f50aac1d16d_0 in /Volumes/Newsmy/FM_dataset/VinDr-Mammo-finding/Train/064f024583e9c1a7f0152f50aac1d16d_0\n",
      "Image and info_dict saved for 06691f5dc2caa5f72c05d4b26af810cf_0 in /Volumes/Newsmy/FM_dataset/VinDr-Mammo-finding/Train/06691f5dc2caa5f72c05d4b26af810cf_0\n",
      "Image and info_dict saved for 06691f5dc2caa5f72c05d4b26af810cf_1 in /Volumes/Newsmy/FM_dataset/VinDr-Mammo-finding/Train/06691f5dc2caa5f72c05d4b26af810cf_1\n",
      "Image and info_dict saved for 06691f5dc2caa5f72c05d4b26af810cf_2 in /Volumes/Newsmy/FM_dataset/VinDr-Mammo-finding/Train/06691f5dc2caa5f72c05d4b26af810cf_2\n"
     ]
    },
    {
     "name": "stderr",
     "output_type": "stream",
     "text": [
      "  3%|▎         | 47/1768 [00:27<16:34,  1.73it/s]"
     ]
    },
    {
     "name": "stdout",
     "output_type": "stream",
     "text": [
      "Image and info_dict saved for 06691f5dc2caa5f72c05d4b26af810cf_3 in /Volumes/Newsmy/FM_dataset/VinDr-Mammo-finding/Train/06691f5dc2caa5f72c05d4b26af810cf_3\n"
     ]
    },
    {
     "name": "stderr",
     "output_type": "stream",
     "text": [
      "  3%|▎         | 48/1768 [00:27<14:40,  1.95it/s]"
     ]
    },
    {
     "name": "stdout",
     "output_type": "stream",
     "text": [
      "Image and info_dict saved for 06a407691cadae64cea5de8e8634a4ac_0 in /Volumes/Newsmy/FM_dataset/VinDr-Mammo-finding/Eval/06a407691cadae64cea5de8e8634a4ac_0\n"
     ]
    },
    {
     "name": "stderr",
     "output_type": "stream",
     "text": [
      "  3%|▎         | 49/1768 [00:28<14:40,  1.95it/s]"
     ]
    },
    {
     "name": "stdout",
     "output_type": "stream",
     "text": [
      "Image and info_dict saved for 070170f7ee43d9304852fafdde498b05_0 in /Volumes/Newsmy/FM_dataset/VinDr-Mammo-finding/Eval/070170f7ee43d9304852fafdde498b05_0\n"
     ]
    },
    {
     "name": "stderr",
     "output_type": "stream",
     "text": [
      "  3%|▎         | 50/1768 [00:28<13:56,  2.05it/s]"
     ]
    },
    {
     "name": "stdout",
     "output_type": "stream",
     "text": [
      "Image and info_dict saved for 0734a9dc7d6d89e8c91458545afeef9d_0 in /Volumes/Newsmy/FM_dataset/VinDr-Mammo-finding/Test/0734a9dc7d6d89e8c91458545afeef9d_0\n"
     ]
    },
    {
     "name": "stderr",
     "output_type": "stream",
     "text": [
      "  3%|▎         | 51/1768 [00:28<14:19,  2.00it/s]"
     ]
    },
    {
     "name": "stdout",
     "output_type": "stream",
     "text": [
      "Image and info_dict saved for 074775a9e94c93ed3ee32a82d2864c68_0 in /Volumes/Newsmy/FM_dataset/VinDr-Mammo-finding/Train/074775a9e94c93ed3ee32a82d2864c68_0\n",
      "Image and info_dict saved for 074775a9e94c93ed3ee32a82d2864c68_1 in /Volumes/Newsmy/FM_dataset/VinDr-Mammo-finding/Train/074775a9e94c93ed3ee32a82d2864c68_1\n"
     ]
    },
    {
     "name": "stderr",
     "output_type": "stream",
     "text": [
      "  3%|▎         | 52/1768 [00:29<13:18,  2.15it/s]"
     ]
    },
    {
     "name": "stdout",
     "output_type": "stream",
     "text": [
      "Image and info_dict saved for 0784895356dd8e1e6ddcf536ff3d086f_0 in /Volumes/Newsmy/FM_dataset/VinDr-Mammo-finding/Test/0784895356dd8e1e6ddcf536ff3d086f_0\n"
     ]
    },
    {
     "name": "stderr",
     "output_type": "stream",
     "text": [
      "  3%|▎         | 53/1768 [00:29<12:58,  2.20it/s]"
     ]
    },
    {
     "name": "stdout",
     "output_type": "stream",
     "text": [
      "Image and info_dict saved for 07aef1389177ff428c1f78ef882e704f_0 in /Volumes/Newsmy/FM_dataset/VinDr-Mammo-finding/Train/07aef1389177ff428c1f78ef882e704f_0\n"
     ]
    },
    {
     "name": "stderr",
     "output_type": "stream",
     "text": [
      "  3%|▎         | 54/1768 [00:30<12:46,  2.24it/s]"
     ]
    },
    {
     "name": "stdout",
     "output_type": "stream",
     "text": [
      "Image and info_dict saved for 07b7e44dbce5dfef79947f2c8bb18a55_0 in /Volumes/Newsmy/FM_dataset/VinDr-Mammo-finding/Eval/07b7e44dbce5dfef79947f2c8bb18a55_0\n"
     ]
    },
    {
     "name": "stderr",
     "output_type": "stream",
     "text": [
      "  3%|▎         | 55/1768 [00:30<13:47,  2.07it/s]"
     ]
    },
    {
     "name": "stdout",
     "output_type": "stream",
     "text": [
      "Image and info_dict saved for 07e191bc54c3378f9fdf23ddecc47420_0 in /Volumes/Newsmy/FM_dataset/VinDr-Mammo-finding/Train/07e191bc54c3378f9fdf23ddecc47420_0\n",
      "Image and info_dict saved for 07e191bc54c3378f9fdf23ddecc47420_1 in /Volumes/Newsmy/FM_dataset/VinDr-Mammo-finding/Train/07e191bc54c3378f9fdf23ddecc47420_1\n"
     ]
    },
    {
     "name": "stderr",
     "output_type": "stream",
     "text": [
      "  3%|▎         | 56/1768 [00:31<14:15,  2.00it/s]"
     ]
    },
    {
     "name": "stdout",
     "output_type": "stream",
     "text": [
      "Image and info_dict saved for 07f468d6fff5b3e3b512e4b95cf0cdda_0 in /Volumes/Newsmy/FM_dataset/VinDr-Mammo-finding/Train/07f468d6fff5b3e3b512e4b95cf0cdda_0\n",
      "Image and info_dict saved for 07f468d6fff5b3e3b512e4b95cf0cdda_1 in /Volumes/Newsmy/FM_dataset/VinDr-Mammo-finding/Train/07f468d6fff5b3e3b512e4b95cf0cdda_1\n"
     ]
    },
    {
     "name": "stderr",
     "output_type": "stream",
     "text": [
      "  3%|▎         | 57/1768 [00:32<16:39,  1.71it/s]"
     ]
    },
    {
     "name": "stdout",
     "output_type": "stream",
     "text": [
      "Image and info_dict saved for 07f5863348560d0507bba86c8bba0586_0 in /Volumes/Newsmy/FM_dataset/VinDr-Mammo-finding/Train/07f5863348560d0507bba86c8bba0586_0\n",
      "Image and info_dict saved for 07f5863348560d0507bba86c8bba0586_1 in /Volumes/Newsmy/FM_dataset/VinDr-Mammo-finding/Train/07f5863348560d0507bba86c8bba0586_1\n"
     ]
    },
    {
     "name": "stderr",
     "output_type": "stream",
     "text": [
      "  3%|▎         | 58/1768 [00:32<16:02,  1.78it/s]"
     ]
    },
    {
     "name": "stdout",
     "output_type": "stream",
     "text": [
      "Image and info_dict saved for 080220733f46127184e6e0158d66c2e3_0 in /Volumes/Newsmy/FM_dataset/VinDr-Mammo-finding/Train/080220733f46127184e6e0158d66c2e3_0\n"
     ]
    },
    {
     "name": "stderr",
     "output_type": "stream",
     "text": [
      "  3%|▎         | 59/1768 [00:33<16:57,  1.68it/s]"
     ]
    },
    {
     "name": "stdout",
     "output_type": "stream",
     "text": [
      "Image and info_dict saved for 0806729f6ebeb658662051e8bdcfab3c_0 in /Volumes/Newsmy/FM_dataset/VinDr-Mammo-finding/Train/0806729f6ebeb658662051e8bdcfab3c_0\n",
      "Image and info_dict saved for 0806729f6ebeb658662051e8bdcfab3c_1 in /Volumes/Newsmy/FM_dataset/VinDr-Mammo-finding/Train/0806729f6ebeb658662051e8bdcfab3c_1\n"
     ]
    },
    {
     "name": "stderr",
     "output_type": "stream",
     "text": [
      "  3%|▎         | 60/1768 [00:34<21:06,  1.35it/s]"
     ]
    },
    {
     "name": "stdout",
     "output_type": "stream",
     "text": [
      "Image and info_dict saved for 08490d6ee0e276c8a4daaf106d9a01e0_0 in /Volumes/Newsmy/FM_dataset/VinDr-Mammo-finding/Test/08490d6ee0e276c8a4daaf106d9a01e0_0\n"
     ]
    },
    {
     "name": "stderr",
     "output_type": "stream",
     "text": [
      "  3%|▎         | 61/1768 [00:35<20:18,  1.40it/s]"
     ]
    },
    {
     "name": "stdout",
     "output_type": "stream",
     "text": [
      "Image and info_dict saved for 085915d953d1dcb1b70b6c3b8e68e1c5_0 in /Volumes/Newsmy/FM_dataset/VinDr-Mammo-finding/Train/085915d953d1dcb1b70b6c3b8e68e1c5_0\n"
     ]
    },
    {
     "name": "stderr",
     "output_type": "stream",
     "text": [
      "  4%|▎         | 62/1768 [00:35<19:19,  1.47it/s]"
     ]
    },
    {
     "name": "stdout",
     "output_type": "stream",
     "text": [
      "Image and info_dict saved for 08806c1f309c5f9fff3c82bb6c5c2794_0 in /Volumes/Newsmy/FM_dataset/VinDr-Mammo-finding/Train/08806c1f309c5f9fff3c82bb6c5c2794_0\n",
      "Image and info_dict saved for 08a64894ac411114c25dd709e2bcc471_0 in /Volumes/Newsmy/FM_dataset/VinDr-Mammo-finding/Train/08a64894ac411114c25dd709e2bcc471_0\n",
      "Image and info_dict saved for 08a64894ac411114c25dd709e2bcc471_1 in /Volumes/Newsmy/FM_dataset/VinDr-Mammo-finding/Train/08a64894ac411114c25dd709e2bcc471_1\n"
     ]
    },
    {
     "name": "stderr",
     "output_type": "stream",
     "text": [
      "  4%|▎         | 63/1768 [00:36<19:53,  1.43it/s]"
     ]
    },
    {
     "name": "stdout",
     "output_type": "stream",
     "text": [
      "Image and info_dict saved for 08a64894ac411114c25dd709e2bcc471_2 in /Volumes/Newsmy/FM_dataset/VinDr-Mammo-finding/Train/08a64894ac411114c25dd709e2bcc471_2\n"
     ]
    },
    {
     "name": "stderr",
     "output_type": "stream",
     "text": [
      "  4%|▎         | 64/1768 [00:36<19:07,  1.48it/s]"
     ]
    },
    {
     "name": "stdout",
     "output_type": "stream",
     "text": [
      "Image and info_dict saved for 08a72a9160806b7b9334325d8870fa75_0 in /Volumes/Newsmy/FM_dataset/VinDr-Mammo-finding/Train/08a72a9160806b7b9334325d8870fa75_0\n"
     ]
    },
    {
     "name": "stderr",
     "output_type": "stream",
     "text": [
      "  4%|▎         | 65/1768 [00:37<18:20,  1.55it/s]"
     ]
    },
    {
     "name": "stdout",
     "output_type": "stream",
     "text": [
      "Image and info_dict saved for 08fa2b8a39cb0bb6650a87dcad78b22f_0 in /Volumes/Newsmy/FM_dataset/VinDr-Mammo-finding/Train/08fa2b8a39cb0bb6650a87dcad78b22f_0\n"
     ]
    },
    {
     "name": "stderr",
     "output_type": "stream",
     "text": [
      "  4%|▎         | 66/1768 [00:37<16:09,  1.75it/s]"
     ]
    },
    {
     "name": "stdout",
     "output_type": "stream",
     "text": [
      "Image and info_dict saved for 09025dbf5abd08828ecd4ebf03724341_0 in /Volumes/Newsmy/FM_dataset/VinDr-Mammo-finding/Test/09025dbf5abd08828ecd4ebf03724341_0\n"
     ]
    },
    {
     "name": "stderr",
     "output_type": "stream",
     "text": [
      "  4%|▍         | 67/1768 [00:38<16:32,  1.71it/s]"
     ]
    },
    {
     "name": "stdout",
     "output_type": "stream",
     "text": [
      "Image and info_dict saved for 0939019fd916e0748e07d9546cd8bdf5_0 in /Volumes/Newsmy/FM_dataset/VinDr-Mammo-finding/Train/0939019fd916e0748e07d9546cd8bdf5_0\n"
     ]
    },
    {
     "name": "stderr",
     "output_type": "stream",
     "text": [
      "  4%|▍         | 68/1768 [00:39<16:01,  1.77it/s]"
     ]
    },
    {
     "name": "stdout",
     "output_type": "stream",
     "text": [
      "Image and info_dict saved for 0953b01dfcb2ae000cae0a10b610fdcd_0 in /Volumes/Newsmy/FM_dataset/VinDr-Mammo-finding/Test/0953b01dfcb2ae000cae0a10b610fdcd_0\n"
     ]
    },
    {
     "name": "stderr",
     "output_type": "stream",
     "text": [
      "  4%|▍         | 69/1768 [00:39<15:21,  1.84it/s]"
     ]
    },
    {
     "name": "stdout",
     "output_type": "stream",
     "text": [
      "Image and info_dict saved for 096cc0a03198a6ee828e92b6eaed4e78_0 in /Volumes/Newsmy/FM_dataset/VinDr-Mammo-finding/Train/096cc0a03198a6ee828e92b6eaed4e78_0\n"
     ]
    },
    {
     "name": "stderr",
     "output_type": "stream",
     "text": [
      "  4%|▍         | 70/1768 [00:40<14:24,  1.96it/s]"
     ]
    },
    {
     "name": "stdout",
     "output_type": "stream",
     "text": [
      "Image and info_dict saved for 09c7c41323c29e418790f733ffb291c1_0 in /Volumes/Newsmy/FM_dataset/VinDr-Mammo-finding/Test/09c7c41323c29e418790f733ffb291c1_0\n",
      "Image and info_dict saved for 09c7c41323c29e418790f733ffb291c1_1 in /Volumes/Newsmy/FM_dataset/VinDr-Mammo-finding/Test/09c7c41323c29e418790f733ffb291c1_1\n"
     ]
    },
    {
     "name": "stderr",
     "output_type": "stream",
     "text": [
      "  4%|▍         | 71/1768 [00:40<14:16,  1.98it/s]"
     ]
    },
    {
     "name": "stdout",
     "output_type": "stream",
     "text": [
      "Image and info_dict saved for 09d71ae86ca0383de5dcbcc40fa421ce_0 in /Volumes/Newsmy/FM_dataset/VinDr-Mammo-finding/Test/09d71ae86ca0383de5dcbcc40fa421ce_0\n"
     ]
    },
    {
     "name": "stderr",
     "output_type": "stream",
     "text": [
      "  4%|▍         | 72/1768 [00:40<13:29,  2.10it/s]"
     ]
    },
    {
     "name": "stdout",
     "output_type": "stream",
     "text": [
      "Image and info_dict saved for 09e75ac07373f2e576fdcd909993b3bd_0 in /Volumes/Newsmy/FM_dataset/VinDr-Mammo-finding/Test/09e75ac07373f2e576fdcd909993b3bd_0\n"
     ]
    },
    {
     "name": "stderr",
     "output_type": "stream",
     "text": [
      "  4%|▍         | 73/1768 [00:41<13:03,  2.16it/s]"
     ]
    },
    {
     "name": "stdout",
     "output_type": "stream",
     "text": [
      "Image and info_dict saved for 0a30a11ef223f40f82ec83fd72e2b5cc_0 in /Volumes/Newsmy/FM_dataset/VinDr-Mammo-finding/Train/0a30a11ef223f40f82ec83fd72e2b5cc_0\n"
     ]
    },
    {
     "name": "stderr",
     "output_type": "stream",
     "text": [
      "  4%|▍         | 74/1768 [00:41<13:45,  2.05it/s]"
     ]
    },
    {
     "name": "stdout",
     "output_type": "stream",
     "text": [
      "Image and info_dict saved for 0a6f0eac805822cd00f3c25ba99569e8_0 in /Volumes/Newsmy/FM_dataset/VinDr-Mammo-finding/Test/0a6f0eac805822cd00f3c25ba99569e8_0\n"
     ]
    },
    {
     "name": "stderr",
     "output_type": "stream",
     "text": [
      "  4%|▍         | 75/1768 [00:42<14:32,  1.94it/s]"
     ]
    },
    {
     "name": "stdout",
     "output_type": "stream",
     "text": [
      "Image and info_dict saved for 0a8fec5108d9cd3cd1f0d053db50f531_0 in /Volumes/Newsmy/FM_dataset/VinDr-Mammo-finding/Train/0a8fec5108d9cd3cd1f0d053db50f531_0\n"
     ]
    },
    {
     "name": "stderr",
     "output_type": "stream",
     "text": [
      "  4%|▍         | 76/1768 [00:43<14:33,  1.94it/s]"
     ]
    },
    {
     "name": "stdout",
     "output_type": "stream",
     "text": [
      "Image and info_dict saved for 0aa8394efecbfb0f5c4a66ffbd215912_0 in /Volumes/Newsmy/FM_dataset/VinDr-Mammo-finding/Train/0aa8394efecbfb0f5c4a66ffbd215912_0\n"
     ]
    },
    {
     "name": "stderr",
     "output_type": "stream",
     "text": [
      "  4%|▍         | 77/1768 [00:43<14:28,  1.95it/s]"
     ]
    },
    {
     "name": "stdout",
     "output_type": "stream",
     "text": [
      "Image and info_dict saved for 0abdf3f3255cb44a2a15908a811fe6e3_0 in /Volumes/Newsmy/FM_dataset/VinDr-Mammo-finding/Test/0abdf3f3255cb44a2a15908a811fe6e3_0\n"
     ]
    },
    {
     "name": "stderr",
     "output_type": "stream",
     "text": [
      "  4%|▍         | 78/1768 [00:43<14:09,  1.99it/s]"
     ]
    },
    {
     "name": "stdout",
     "output_type": "stream",
     "text": [
      "Image and info_dict saved for 0ac950834b6f143b8fc1b3a1b2102faa_0 in /Volumes/Newsmy/FM_dataset/VinDr-Mammo-finding/Train/0ac950834b6f143b8fc1b3a1b2102faa_0\n"
     ]
    },
    {
     "name": "stderr",
     "output_type": "stream",
     "text": [
      "  4%|▍         | 79/1768 [00:44<15:10,  1.85it/s]"
     ]
    },
    {
     "name": "stdout",
     "output_type": "stream",
     "text": [
      "Image and info_dict saved for 0adb22b2b24d61c511acbe028648532e_0 in /Volumes/Newsmy/FM_dataset/VinDr-Mammo-finding/Test/0adb22b2b24d61c511acbe028648532e_0\n"
     ]
    },
    {
     "name": "stderr",
     "output_type": "stream",
     "text": [
      "  5%|▍         | 80/1768 [00:45<14:59,  1.88it/s]"
     ]
    },
    {
     "name": "stdout",
     "output_type": "stream",
     "text": [
      "Image and info_dict saved for 0adc8a85d70d053c80a88bb97d108e44_0 in /Volumes/Newsmy/FM_dataset/VinDr-Mammo-finding/Train/0adc8a85d70d053c80a88bb97d108e44_0\n"
     ]
    },
    {
     "name": "stderr",
     "output_type": "stream",
     "text": [
      "  5%|▍         | 81/1768 [00:45<14:46,  1.90it/s]"
     ]
    },
    {
     "name": "stdout",
     "output_type": "stream",
     "text": [
      "Image and info_dict saved for 0b0f0267ddfed609b645314fd6edecd7_0 in /Volumes/Newsmy/FM_dataset/VinDr-Mammo-finding/Train/0b0f0267ddfed609b645314fd6edecd7_0\n"
     ]
    },
    {
     "name": "stderr",
     "output_type": "stream",
     "text": [
      "  5%|▍         | 82/1768 [00:46<16:07,  1.74it/s]"
     ]
    },
    {
     "name": "stdout",
     "output_type": "stream",
     "text": [
      "Image and info_dict saved for 0b39adfdce0aafaa1ff02e9633e9cac5_0 in /Volumes/Newsmy/FM_dataset/VinDr-Mammo-finding/Train/0b39adfdce0aafaa1ff02e9633e9cac5_0\n"
     ]
    },
    {
     "name": "stderr",
     "output_type": "stream",
     "text": [
      "  5%|▍         | 83/1768 [00:47<17:01,  1.65it/s]"
     ]
    },
    {
     "name": "stdout",
     "output_type": "stream",
     "text": [
      "Image and info_dict saved for 0b597a53d015b5d2c2df81f4c19eeea0_0 in /Volumes/Newsmy/FM_dataset/VinDr-Mammo-finding/Train/0b597a53d015b5d2c2df81f4c19eeea0_0\n",
      "Image and info_dict saved for 0b597a53d015b5d2c2df81f4c19eeea0_1 in /Volumes/Newsmy/FM_dataset/VinDr-Mammo-finding/Train/0b597a53d015b5d2c2df81f4c19eeea0_1\n"
     ]
    },
    {
     "name": "stderr",
     "output_type": "stream",
     "text": [
      "  5%|▍         | 84/1768 [00:47<14:59,  1.87it/s]"
     ]
    },
    {
     "name": "stdout",
     "output_type": "stream",
     "text": [
      "Image and info_dict saved for 0b873faadf6723e422e7ad7c1accc7c0_0 in /Volumes/Newsmy/FM_dataset/VinDr-Mammo-finding/Train/0b873faadf6723e422e7ad7c1accc7c0_0\n"
     ]
    },
    {
     "name": "stderr",
     "output_type": "stream",
     "text": [
      "  5%|▍         | 85/1768 [00:47<15:32,  1.80it/s]"
     ]
    },
    {
     "name": "stdout",
     "output_type": "stream",
     "text": [
      "Image and info_dict saved for 0b982200144c13b7302365e7f01c490d_0 in /Volumes/Newsmy/FM_dataset/VinDr-Mammo-finding/Train/0b982200144c13b7302365e7f01c490d_0\n",
      "Image and info_dict saved for 0b982200144c13b7302365e7f01c490d_1 in /Volumes/Newsmy/FM_dataset/VinDr-Mammo-finding/Train/0b982200144c13b7302365e7f01c490d_1\n"
     ]
    },
    {
     "name": "stderr",
     "output_type": "stream",
     "text": [
      "  5%|▍         | 86/1768 [00:48<15:32,  1.80it/s]"
     ]
    },
    {
     "name": "stdout",
     "output_type": "stream",
     "text": [
      "Image and info_dict saved for 0bac94530476031873566b909b8f1161_0 in /Volumes/Newsmy/FM_dataset/VinDr-Mammo-finding/Train/0bac94530476031873566b909b8f1161_0\n"
     ]
    },
    {
     "name": "stderr",
     "output_type": "stream",
     "text": [
      "  5%|▍         | 87/1768 [00:49<16:10,  1.73it/s]"
     ]
    },
    {
     "name": "stdout",
     "output_type": "stream",
     "text": [
      "Image and info_dict saved for 0bb148da1406b21011529bb886c17e79_0 in /Volumes/Newsmy/FM_dataset/VinDr-Mammo-finding/Eval/0bb148da1406b21011529bb886c17e79_0\n",
      "Image and info_dict saved for 0bb148da1406b21011529bb886c17e79_1 in /Volumes/Newsmy/FM_dataset/VinDr-Mammo-finding/Eval/0bb148da1406b21011529bb886c17e79_1\n"
     ]
    },
    {
     "name": "stderr",
     "output_type": "stream",
     "text": [
      "  5%|▍         | 88/1768 [00:49<17:10,  1.63it/s]"
     ]
    },
    {
     "name": "stdout",
     "output_type": "stream",
     "text": [
      "Image and info_dict saved for 0bc4de293c8632352519d9aa87245e96_0 in /Volumes/Newsmy/FM_dataset/VinDr-Mammo-finding/Train/0bc4de293c8632352519d9aa87245e96_0\n"
     ]
    },
    {
     "name": "stderr",
     "output_type": "stream",
     "text": [
      "  5%|▌         | 89/1768 [00:50<16:18,  1.72it/s]"
     ]
    },
    {
     "name": "stdout",
     "output_type": "stream",
     "text": [
      "Image and info_dict saved for 0bcbcbbe010d72178ba66ded4ad519c4_0 in /Volumes/Newsmy/FM_dataset/VinDr-Mammo-finding/Train/0bcbcbbe010d72178ba66ded4ad519c4_0\n"
     ]
    },
    {
     "name": "stderr",
     "output_type": "stream",
     "text": [
      "  5%|▌         | 90/1768 [00:51<19:56,  1.40it/s]"
     ]
    },
    {
     "name": "stdout",
     "output_type": "stream",
     "text": [
      "Image and info_dict saved for 0c19be554e27e2fdc2fe05ad954e825c_0 in /Volumes/Newsmy/FM_dataset/VinDr-Mammo-finding/Train/0c19be554e27e2fdc2fe05ad954e825c_0\n"
     ]
    },
    {
     "name": "stderr",
     "output_type": "stream",
     "text": [
      "  5%|▌         | 91/1768 [00:51<16:39,  1.68it/s]"
     ]
    },
    {
     "name": "stdout",
     "output_type": "stream",
     "text": [
      "Image and info_dict saved for 0c401b1b7faaa89afc4a68983f074b16_0 in /Volumes/Newsmy/FM_dataset/VinDr-Mammo-finding/Train/0c401b1b7faaa89afc4a68983f074b16_0\n"
     ]
    },
    {
     "name": "stderr",
     "output_type": "stream",
     "text": [
      "  5%|▌         | 92/1768 [00:52<15:44,  1.77it/s]"
     ]
    },
    {
     "name": "stdout",
     "output_type": "stream",
     "text": [
      "Image and info_dict saved for 0c48ef2d25c7fe685e4a9d20b676c3a7_0 in /Volumes/Newsmy/FM_dataset/VinDr-Mammo-finding/Train/0c48ef2d25c7fe685e4a9d20b676c3a7_0\n"
     ]
    },
    {
     "name": "stderr",
     "output_type": "stream",
     "text": [
      "  5%|▌         | 93/1768 [00:52<13:56,  2.00it/s]"
     ]
    },
    {
     "name": "stdout",
     "output_type": "stream",
     "text": [
      "Image and info_dict saved for 0c57e79ec6fc2ad0aa38ae8e2f54af07_0 in /Volumes/Newsmy/FM_dataset/VinDr-Mammo-finding/Train/0c57e79ec6fc2ad0aa38ae8e2f54af07_0\n"
     ]
    },
    {
     "name": "stderr",
     "output_type": "stream",
     "text": [
      "  5%|▌         | 94/1768 [00:53<13:34,  2.06it/s]"
     ]
    },
    {
     "name": "stdout",
     "output_type": "stream",
     "text": [
      "Image and info_dict saved for 0cab307846e0ff5ff6f302421c539605_0 in /Volumes/Newsmy/FM_dataset/VinDr-Mammo-finding/Eval/0cab307846e0ff5ff6f302421c539605_0\n"
     ]
    },
    {
     "name": "stderr",
     "output_type": "stream",
     "text": [
      "  5%|▌         | 95/1768 [00:53<15:31,  1.80it/s]"
     ]
    },
    {
     "name": "stdout",
     "output_type": "stream",
     "text": [
      "Image and info_dict saved for 0cc9394905ef9d2527799723b4e87c72_0 in /Volumes/Newsmy/FM_dataset/VinDr-Mammo-finding/Train/0cc9394905ef9d2527799723b4e87c72_0\n",
      "Image and info_dict saved for 0cc9394905ef9d2527799723b4e87c72_1 in /Volumes/Newsmy/FM_dataset/VinDr-Mammo-finding/Train/0cc9394905ef9d2527799723b4e87c72_1\n",
      "Image and info_dict saved for 0cf9cd3d36a7bfb95e66c0ba482eb8c0_0 in /Volumes/Newsmy/FM_dataset/VinDr-Mammo-finding/Train/0cf9cd3d36a7bfb95e66c0ba482eb8c0_0\n",
      "Image and info_dict saved for 0cf9cd3d36a7bfb95e66c0ba482eb8c0_1 in /Volumes/Newsmy/FM_dataset/VinDr-Mammo-finding/Train/0cf9cd3d36a7bfb95e66c0ba482eb8c0_1\n"
     ]
    },
    {
     "name": "stderr",
     "output_type": "stream",
     "text": [
      "  5%|▌         | 96/1768 [00:54<17:03,  1.63it/s]"
     ]
    },
    {
     "name": "stdout",
     "output_type": "stream",
     "text": [
      "Image and info_dict saved for 0cf9cd3d36a7bfb95e66c0ba482eb8c0_2 in /Volumes/Newsmy/FM_dataset/VinDr-Mammo-finding/Train/0cf9cd3d36a7bfb95e66c0ba482eb8c0_2\n"
     ]
    },
    {
     "name": "stderr",
     "output_type": "stream",
     "text": [
      "  5%|▌         | 97/1768 [00:55<16:49,  1.66it/s]"
     ]
    },
    {
     "name": "stdout",
     "output_type": "stream",
     "text": [
      "Image and info_dict saved for 0d0826dc6e633a7729ea56fa7390c508_0 in /Volumes/Newsmy/FM_dataset/VinDr-Mammo-finding/Train/0d0826dc6e633a7729ea56fa7390c508_0\n"
     ]
    },
    {
     "name": "stderr",
     "output_type": "stream",
     "text": [
      "  6%|▌         | 98/1768 [00:55<16:52,  1.65it/s]"
     ]
    },
    {
     "name": "stdout",
     "output_type": "stream",
     "text": [
      "Image and info_dict saved for 0d08356a2638c214fbc6cbeb24251c0c_0 in /Volumes/Newsmy/FM_dataset/VinDr-Mammo-finding/Train/0d08356a2638c214fbc6cbeb24251c0c_0\n"
     ]
    },
    {
     "name": "stderr",
     "output_type": "stream",
     "text": [
      "  6%|▌         | 99/1768 [00:56<16:28,  1.69it/s]"
     ]
    },
    {
     "name": "stdout",
     "output_type": "stream",
     "text": [
      "Image and info_dict saved for 0d0c76cf04069b224806e8d8d3a9351b_0 in /Volumes/Newsmy/FM_dataset/VinDr-Mammo-finding/Train/0d0c76cf04069b224806e8d8d3a9351b_0\n"
     ]
    },
    {
     "name": "stderr",
     "output_type": "stream",
     "text": [
      "  6%|▌         | 100/1768 [00:56<17:20,  1.60it/s]"
     ]
    },
    {
     "name": "stdout",
     "output_type": "stream",
     "text": [
      "Image and info_dict saved for 0d58856b402c571d3fa0fc19d26267ca_0 in /Volumes/Newsmy/FM_dataset/VinDr-Mammo-finding/Test/0d58856b402c571d3fa0fc19d26267ca_0\n",
      "Image and info_dict saved for 0d58856b402c571d3fa0fc19d26267ca_1 in /Volumes/Newsmy/FM_dataset/VinDr-Mammo-finding/Test/0d58856b402c571d3fa0fc19d26267ca_1\n"
     ]
    },
    {
     "name": "stderr",
     "output_type": "stream",
     "text": [
      "  6%|▌         | 101/1768 [00:57<18:50,  1.48it/s]"
     ]
    },
    {
     "name": "stdout",
     "output_type": "stream",
     "text": [
      "Image and info_dict saved for 0d6987fc066d2fad238b5c15f4e9bf8e_0 in /Volumes/Newsmy/FM_dataset/VinDr-Mammo-finding/Train/0d6987fc066d2fad238b5c15f4e9bf8e_0\n",
      "Image and info_dict saved for 0d6987fc066d2fad238b5c15f4e9bf8e_1 in /Volumes/Newsmy/FM_dataset/VinDr-Mammo-finding/Train/0d6987fc066d2fad238b5c15f4e9bf8e_1\n"
     ]
    },
    {
     "name": "stderr",
     "output_type": "stream",
     "text": [
      "  6%|▌         | 102/1768 [00:58<17:19,  1.60it/s]"
     ]
    },
    {
     "name": "stdout",
     "output_type": "stream",
     "text": [
      "Image and info_dict saved for 0d818b48634b775f4c15cc0dd8a56b69_0 in /Volumes/Newsmy/FM_dataset/VinDr-Mammo-finding/Eval/0d818b48634b775f4c15cc0dd8a56b69_0\n"
     ]
    },
    {
     "name": "stderr",
     "output_type": "stream",
     "text": [
      "  6%|▌         | 103/1768 [00:58<16:02,  1.73it/s]"
     ]
    },
    {
     "name": "stdout",
     "output_type": "stream",
     "text": [
      "Image and info_dict saved for 0d9de2c106f154c469b0d0b05980fb5e_0 in /Volumes/Newsmy/FM_dataset/VinDr-Mammo-finding/Train/0d9de2c106f154c469b0d0b05980fb5e_0\n",
      "Image and info_dict saved for 0d9de2c106f154c469b0d0b05980fb5e_1 in /Volumes/Newsmy/FM_dataset/VinDr-Mammo-finding/Train/0d9de2c106f154c469b0d0b05980fb5e_1\n"
     ]
    },
    {
     "name": "stderr",
     "output_type": "stream",
     "text": [
      "  6%|▌         | 104/1768 [00:59<15:10,  1.83it/s]"
     ]
    },
    {
     "name": "stdout",
     "output_type": "stream",
     "text": [
      "Image and info_dict saved for 0dac8664468ff3ab7a3e24fda8053cf6_0 in /Volumes/Newsmy/FM_dataset/VinDr-Mammo-finding/Train/0dac8664468ff3ab7a3e24fda8053cf6_0\n",
      "Image and info_dict saved for 0dbc1663eceef924f0f339604af18364_0 in /Volumes/Newsmy/FM_dataset/VinDr-Mammo-finding/Train/0dbc1663eceef924f0f339604af18364_0\n",
      "Image and info_dict saved for 0dbc1663eceef924f0f339604af18364_1 in /Volumes/Newsmy/FM_dataset/VinDr-Mammo-finding/Train/0dbc1663eceef924f0f339604af18364_1\n",
      "Image and info_dict saved for 0dbc1663eceef924f0f339604af18364_2 in /Volumes/Newsmy/FM_dataset/VinDr-Mammo-finding/Train/0dbc1663eceef924f0f339604af18364_2\n"
     ]
    },
    {
     "name": "stderr",
     "output_type": "stream",
     "text": [
      "  6%|▌         | 105/1768 [00:59<17:00,  1.63it/s]"
     ]
    },
    {
     "name": "stdout",
     "output_type": "stream",
     "text": [
      "Image and info_dict saved for 0dbc1663eceef924f0f339604af18364_3 in /Volumes/Newsmy/FM_dataset/VinDr-Mammo-finding/Train/0dbc1663eceef924f0f339604af18364_3\n"
     ]
    },
    {
     "name": "stderr",
     "output_type": "stream",
     "text": [
      "  6%|▌         | 106/1768 [01:00<15:38,  1.77it/s]"
     ]
    },
    {
     "name": "stdout",
     "output_type": "stream",
     "text": [
      "Image and info_dict saved for 0dc38f7b2936fff46ec10a0beb5aaeb2_0 in /Volumes/Newsmy/FM_dataset/VinDr-Mammo-finding/Train/0dc38f7b2936fff46ec10a0beb5aaeb2_0\n"
     ]
    },
    {
     "name": "stderr",
     "output_type": "stream",
     "text": [
      "  6%|▌         | 107/1768 [01:00<15:11,  1.82it/s]"
     ]
    },
    {
     "name": "stdout",
     "output_type": "stream",
     "text": [
      "Image and info_dict saved for 0de15bbc9f84e965d634e2bc686d11f1_0 in /Volumes/Newsmy/FM_dataset/VinDr-Mammo-finding/Train/0de15bbc9f84e965d634e2bc686d11f1_0\n"
     ]
    },
    {
     "name": "stderr",
     "output_type": "stream",
     "text": [
      "  6%|▌         | 108/1768 [01:01<14:42,  1.88it/s]"
     ]
    },
    {
     "name": "stdout",
     "output_type": "stream",
     "text": [
      "Image and info_dict saved for 0e188b766ff729c0332e3f49599d2796_0 in /Volumes/Newsmy/FM_dataset/VinDr-Mammo-finding/Train/0e188b766ff729c0332e3f49599d2796_0\n"
     ]
    },
    {
     "name": "stderr",
     "output_type": "stream",
     "text": [
      "  6%|▌         | 109/1768 [01:01<13:12,  2.09it/s]"
     ]
    },
    {
     "name": "stdout",
     "output_type": "stream",
     "text": [
      "Image and info_dict saved for 0e31855d02eadf8670ffaeeaeddbf229_0 in /Volumes/Newsmy/FM_dataset/VinDr-Mammo-finding/Train/0e31855d02eadf8670ffaeeaeddbf229_0\n"
     ]
    },
    {
     "name": "stderr",
     "output_type": "stream",
     "text": [
      "  6%|▌         | 110/1768 [01:02<13:02,  2.12it/s]"
     ]
    },
    {
     "name": "stdout",
     "output_type": "stream",
     "text": [
      "Image and info_dict saved for 0e3db7bbea14c6dd5dbab7b95bfe82e4_0 in /Volumes/Newsmy/FM_dataset/VinDr-Mammo-finding/Test/0e3db7bbea14c6dd5dbab7b95bfe82e4_0\n"
     ]
    },
    {
     "name": "stderr",
     "output_type": "stream",
     "text": [
      "  6%|▋         | 111/1768 [01:02<12:58,  2.13it/s]"
     ]
    },
    {
     "name": "stdout",
     "output_type": "stream",
     "text": [
      "Image and info_dict saved for 0e9481c18a33d55b1fa0a353f53e0d6a_0 in /Volumes/Newsmy/FM_dataset/VinDr-Mammo-finding/Train/0e9481c18a33d55b1fa0a353f53e0d6a_0\n"
     ]
    },
    {
     "name": "stderr",
     "output_type": "stream",
     "text": [
      "  6%|▋         | 112/1768 [01:03<13:47,  2.00it/s]"
     ]
    },
    {
     "name": "stdout",
     "output_type": "stream",
     "text": [
      "Image and info_dict saved for 0f0009a94c664c2b67ae78fd675f323c_0 in /Volumes/Newsmy/FM_dataset/VinDr-Mammo-finding/Test/0f0009a94c664c2b67ae78fd675f323c_0\n",
      "Image and info_dict saved for 0f0009a94c664c2b67ae78fd675f323c_1 in /Volumes/Newsmy/FM_dataset/VinDr-Mammo-finding/Test/0f0009a94c664c2b67ae78fd675f323c_1\n"
     ]
    },
    {
     "name": "stderr",
     "output_type": "stream",
     "text": [
      "  6%|▋         | 113/1768 [01:03<13:36,  2.03it/s]"
     ]
    },
    {
     "name": "stdout",
     "output_type": "stream",
     "text": [
      "Image and info_dict saved for 0f22280d1836afa323f2023d12be9573_0 in /Volumes/Newsmy/FM_dataset/VinDr-Mammo-finding/Train/0f22280d1836afa323f2023d12be9573_0\n"
     ]
    },
    {
     "name": "stderr",
     "output_type": "stream",
     "text": [
      "  6%|▋         | 114/1768 [01:04<12:04,  2.28it/s]"
     ]
    },
    {
     "name": "stdout",
     "output_type": "stream",
     "text": [
      "Image and info_dict saved for 0f37159abdcef6a062e404df47e8f1ac_0 in /Volumes/Newsmy/FM_dataset/VinDr-Mammo-finding/Train/0f37159abdcef6a062e404df47e8f1ac_0\n"
     ]
    },
    {
     "name": "stderr",
     "output_type": "stream",
     "text": [
      "  7%|▋         | 115/1768 [01:04<11:55,  2.31it/s]"
     ]
    },
    {
     "name": "stdout",
     "output_type": "stream",
     "text": [
      "Image and info_dict saved for 0f3a1f45d84cbe6b77b3e9354bb9ea1a_0 in /Volumes/Newsmy/FM_dataset/VinDr-Mammo-finding/Train/0f3a1f45d84cbe6b77b3e9354bb9ea1a_0\n"
     ]
    },
    {
     "name": "stderr",
     "output_type": "stream",
     "text": [
      "  7%|▋         | 116/1768 [01:04<12:26,  2.21it/s]"
     ]
    },
    {
     "name": "stdout",
     "output_type": "stream",
     "text": [
      "Image and info_dict saved for 0f5457dbb9449aa73bb9cf62e1c10847_0 in /Volumes/Newsmy/FM_dataset/VinDr-Mammo-finding/Test/0f5457dbb9449aa73bb9cf62e1c10847_0\n",
      "Image and info_dict saved for 0f5457dbb9449aa73bb9cf62e1c10847_1 in /Volumes/Newsmy/FM_dataset/VinDr-Mammo-finding/Test/0f5457dbb9449aa73bb9cf62e1c10847_1\n"
     ]
    },
    {
     "name": "stderr",
     "output_type": "stream",
     "text": [
      "  7%|▋         | 117/1768 [01:05<11:24,  2.41it/s]"
     ]
    },
    {
     "name": "stdout",
     "output_type": "stream",
     "text": [
      "Image and info_dict saved for 0f714f0b91dcd0ff05a60290440d1004_0 in /Volumes/Newsmy/FM_dataset/VinDr-Mammo-finding/Train/0f714f0b91dcd0ff05a60290440d1004_0\n"
     ]
    },
    {
     "name": "stderr",
     "output_type": "stream",
     "text": [
      "  7%|▋         | 118/1768 [01:05<10:51,  2.53it/s]"
     ]
    },
    {
     "name": "stdout",
     "output_type": "stream",
     "text": [
      "Image and info_dict saved for 0fb063fe3b46db2bbe83d124a3793101_0 in /Volumes/Newsmy/FM_dataset/VinDr-Mammo-finding/Train/0fb063fe3b46db2bbe83d124a3793101_0\n"
     ]
    },
    {
     "name": "stderr",
     "output_type": "stream",
     "text": [
      "  7%|▋         | 119/1768 [01:06<11:51,  2.32it/s]"
     ]
    },
    {
     "name": "stdout",
     "output_type": "stream",
     "text": [
      "Image and info_dict saved for 0fdce081d72ba8455337d41ca7ab3073_0 in /Volumes/Newsmy/FM_dataset/VinDr-Mammo-finding/Train/0fdce081d72ba8455337d41ca7ab3073_0\n"
     ]
    },
    {
     "name": "stderr",
     "output_type": "stream",
     "text": [
      "  7%|▋         | 120/1768 [01:06<12:42,  2.16it/s]"
     ]
    },
    {
     "name": "stdout",
     "output_type": "stream",
     "text": [
      "Image and info_dict saved for 0fe4b46af3e804d83f490f1b1dafba3b_0 in /Volumes/Newsmy/FM_dataset/VinDr-Mammo-finding/Eval/0fe4b46af3e804d83f490f1b1dafba3b_0\n"
     ]
    },
    {
     "name": "stderr",
     "output_type": "stream",
     "text": [
      "  7%|▋         | 121/1768 [01:07<13:28,  2.04it/s]"
     ]
    },
    {
     "name": "stdout",
     "output_type": "stream",
     "text": [
      "Image and info_dict saved for 100f9f1f5392774416f1a1e66a5a4c71_0 in /Volumes/Newsmy/FM_dataset/VinDr-Mammo-finding/Train/100f9f1f5392774416f1a1e66a5a4c71_0\n"
     ]
    },
    {
     "name": "stderr",
     "output_type": "stream",
     "text": [
      "  7%|▋         | 122/1768 [01:07<11:57,  2.29it/s]"
     ]
    },
    {
     "name": "stdout",
     "output_type": "stream",
     "text": [
      "Image and info_dict saved for 101906844b5a3d7fab9df630876d24fd_0 in /Volumes/Newsmy/FM_dataset/VinDr-Mammo-finding/Eval/101906844b5a3d7fab9df630876d24fd_0\n"
     ]
    },
    {
     "name": "stderr",
     "output_type": "stream",
     "text": [
      "  7%|▋         | 123/1768 [01:08<12:39,  2.17it/s]"
     ]
    },
    {
     "name": "stdout",
     "output_type": "stream",
     "text": [
      "Image and info_dict saved for 104bd2676dc8eec4debd4312b47a44d8_0 in /Volumes/Newsmy/FM_dataset/VinDr-Mammo-finding/Train/104bd2676dc8eec4debd4312b47a44d8_0\n"
     ]
    },
    {
     "name": "stderr",
     "output_type": "stream",
     "text": [
      "  7%|▋         | 124/1768 [01:08<14:04,  1.95it/s]"
     ]
    },
    {
     "name": "stdout",
     "output_type": "stream",
     "text": [
      "Image and info_dict saved for 10e0019ae8ce05748b47e9b02131de7f_0 in /Volumes/Newsmy/FM_dataset/VinDr-Mammo-finding/Test/10e0019ae8ce05748b47e9b02131de7f_0\n"
     ]
    },
    {
     "name": "stderr",
     "output_type": "stream",
     "text": [
      "  7%|▋         | 125/1768 [01:09<14:04,  1.95it/s]"
     ]
    },
    {
     "name": "stdout",
     "output_type": "stream",
     "text": [
      "Image and info_dict saved for 10e0f362333df810ac84a9db8fb3fd42_0 in /Volumes/Newsmy/FM_dataset/VinDr-Mammo-finding/Test/10e0f362333df810ac84a9db8fb3fd42_0\n"
     ]
    },
    {
     "name": "stderr",
     "output_type": "stream",
     "text": [
      "  7%|▋         | 126/1768 [01:09<14:06,  1.94it/s]"
     ]
    },
    {
     "name": "stdout",
     "output_type": "stream",
     "text": [
      "Image and info_dict saved for 10e3136f3e11277d87ce71d123f7ba68_0 in /Volumes/Newsmy/FM_dataset/VinDr-Mammo-finding/Train/10e3136f3e11277d87ce71d123f7ba68_0\n"
     ]
    },
    {
     "name": "stderr",
     "output_type": "stream",
     "text": [
      "  7%|▋         | 127/1768 [01:10<13:23,  2.04it/s]"
     ]
    },
    {
     "name": "stdout",
     "output_type": "stream",
     "text": [
      "Image and info_dict saved for 1142cdfbfe725d62038252693cf064e5_0 in /Volumes/Newsmy/FM_dataset/VinDr-Mammo-finding/Train/1142cdfbfe725d62038252693cf064e5_0\n"
     ]
    },
    {
     "name": "stderr",
     "output_type": "stream",
     "text": [
      "  7%|▋         | 128/1768 [01:10<13:23,  2.04it/s]"
     ]
    },
    {
     "name": "stdout",
     "output_type": "stream",
     "text": [
      "Image and info_dict saved for 114d538a35b1b8e8ab15ba05d790dc8d_0 in /Volumes/Newsmy/FM_dataset/VinDr-Mammo-finding/Train/114d538a35b1b8e8ab15ba05d790dc8d_0\n"
     ]
    },
    {
     "name": "stderr",
     "output_type": "stream",
     "text": [
      "  7%|▋         | 129/1768 [01:11<13:31,  2.02it/s]"
     ]
    },
    {
     "name": "stdout",
     "output_type": "stream",
     "text": [
      "Image and info_dict saved for 114d913843a055357575b57d86f8305b_0 in /Volumes/Newsmy/FM_dataset/VinDr-Mammo-finding/Train/114d913843a055357575b57d86f8305b_0\n"
     ]
    },
    {
     "name": "stderr",
     "output_type": "stream",
     "text": [
      "  7%|▋         | 130/1768 [01:11<14:08,  1.93it/s]"
     ]
    },
    {
     "name": "stdout",
     "output_type": "stream",
     "text": [
      "Image and info_dict saved for 115600671e989b2ffeaac92d19d1f505_0 in /Volumes/Newsmy/FM_dataset/VinDr-Mammo-finding/Train/115600671e989b2ffeaac92d19d1f505_0\n"
     ]
    },
    {
     "name": "stderr",
     "output_type": "stream",
     "text": [
      "  7%|▋         | 131/1768 [01:12<13:23,  2.04it/s]"
     ]
    },
    {
     "name": "stdout",
     "output_type": "stream",
     "text": [
      "Image and info_dict saved for 11ad49282c890423f5bd94803842d89c_0 in /Volumes/Newsmy/FM_dataset/VinDr-Mammo-finding/Train/11ad49282c890423f5bd94803842d89c_0\n"
     ]
    },
    {
     "name": "stderr",
     "output_type": "stream",
     "text": [
      "  7%|▋         | 132/1768 [01:12<12:46,  2.14it/s]"
     ]
    },
    {
     "name": "stdout",
     "output_type": "stream",
     "text": [
      "Image and info_dict saved for 11b8d57615519367276e766b61684f04_0 in /Volumes/Newsmy/FM_dataset/VinDr-Mammo-finding/Eval/11b8d57615519367276e766b61684f04_0\n",
      "Image and info_dict saved for 11b8d57615519367276e766b61684f04_1 in /Volumes/Newsmy/FM_dataset/VinDr-Mammo-finding/Eval/11b8d57615519367276e766b61684f04_1\n"
     ]
    },
    {
     "name": "stderr",
     "output_type": "stream",
     "text": [
      "  8%|▊         | 133/1768 [01:13<14:27,  1.88it/s]"
     ]
    },
    {
     "name": "stdout",
     "output_type": "stream",
     "text": [
      "Image and info_dict saved for 11b953e33bdaee7933f8d1db574942af_0 in /Volumes/Newsmy/FM_dataset/VinDr-Mammo-finding/Train/11b953e33bdaee7933f8d1db574942af_0\n"
     ]
    },
    {
     "name": "stderr",
     "output_type": "stream",
     "text": [
      "  8%|▊         | 134/1768 [01:13<14:45,  1.84it/s]"
     ]
    },
    {
     "name": "stdout",
     "output_type": "stream",
     "text": [
      "Image and info_dict saved for 11c55b82a0c6ceebf5984208ec343b4d_0 in /Volumes/Newsmy/FM_dataset/VinDr-Mammo-finding/Train/11c55b82a0c6ceebf5984208ec343b4d_0\n"
     ]
    },
    {
     "name": "stderr",
     "output_type": "stream",
     "text": [
      "  8%|▊         | 135/1768 [01:14<14:26,  1.89it/s]"
     ]
    },
    {
     "name": "stdout",
     "output_type": "stream",
     "text": [
      "Image and info_dict saved for 11d1c20d269f487d47fa5fc80c6f7722_0 in /Volumes/Newsmy/FM_dataset/VinDr-Mammo-finding/Train/11d1c20d269f487d47fa5fc80c6f7722_0\n"
     ]
    },
    {
     "name": "stderr",
     "output_type": "stream",
     "text": [
      "  8%|▊         | 136/1768 [01:14<13:44,  1.98it/s]"
     ]
    },
    {
     "name": "stdout",
     "output_type": "stream",
     "text": [
      "Image and info_dict saved for 11d7d3658b66d8515393a4c8189104c6_0 in /Volumes/Newsmy/FM_dataset/VinDr-Mammo-finding/Test/11d7d3658b66d8515393a4c8189104c6_0\n",
      "Image and info_dict saved for 11dbf2405e94335db8d8011db532a5ac_0 in /Volumes/Newsmy/FM_dataset/VinDr-Mammo-finding/Eval/11dbf2405e94335db8d8011db532a5ac_0\n",
      "Image and info_dict saved for 11dbf2405e94335db8d8011db532a5ac_1 in /Volumes/Newsmy/FM_dataset/VinDr-Mammo-finding/Eval/11dbf2405e94335db8d8011db532a5ac_1\n"
     ]
    },
    {
     "name": "stderr",
     "output_type": "stream",
     "text": [
      "  8%|▊         | 137/1768 [01:15<15:45,  1.72it/s]"
     ]
    },
    {
     "name": "stdout",
     "output_type": "stream",
     "text": [
      "Image and info_dict saved for 11dbf2405e94335db8d8011db532a5ac_2 in /Volumes/Newsmy/FM_dataset/VinDr-Mammo-finding/Eval/11dbf2405e94335db8d8011db532a5ac_2\n"
     ]
    },
    {
     "name": "stderr",
     "output_type": "stream",
     "text": [
      "  8%|▊         | 138/1768 [01:16<14:56,  1.82it/s]"
     ]
    },
    {
     "name": "stdout",
     "output_type": "stream",
     "text": [
      "Image and info_dict saved for 11ef96e59a58cdae12a4ea27b1b3ca6c_0 in /Volumes/Newsmy/FM_dataset/VinDr-Mammo-finding/Eval/11ef96e59a58cdae12a4ea27b1b3ca6c_0\n",
      "Image and info_dict saved for 12284c56ca4887b1747c1f45bce853f1_0 in /Volumes/Newsmy/FM_dataset/VinDr-Mammo-finding/Train/12284c56ca4887b1747c1f45bce853f1_0\n",
      "Image and info_dict saved for 12284c56ca4887b1747c1f45bce853f1_1 in /Volumes/Newsmy/FM_dataset/VinDr-Mammo-finding/Train/12284c56ca4887b1747c1f45bce853f1_1\n"
     ]
    },
    {
     "name": "stderr",
     "output_type": "stream",
     "text": [
      "  8%|▊         | 139/1768 [01:16<16:30,  1.64it/s]"
     ]
    },
    {
     "name": "stdout",
     "output_type": "stream",
     "text": [
      "Image and info_dict saved for 12284c56ca4887b1747c1f45bce853f1_2 in /Volumes/Newsmy/FM_dataset/VinDr-Mammo-finding/Train/12284c56ca4887b1747c1f45bce853f1_2\n"
     ]
    },
    {
     "name": "stderr",
     "output_type": "stream",
     "text": [
      "  8%|▊         | 140/1768 [01:17<15:46,  1.72it/s]"
     ]
    },
    {
     "name": "stdout",
     "output_type": "stream",
     "text": [
      "Image and info_dict saved for 123b1009ba5b19b0f96f6d5d6804d98a_0 in /Volumes/Newsmy/FM_dataset/VinDr-Mammo-finding/Train/123b1009ba5b19b0f96f6d5d6804d98a_0\n"
     ]
    },
    {
     "name": "stderr",
     "output_type": "stream",
     "text": [
      "  8%|▊         | 141/1768 [01:17<15:02,  1.80it/s]"
     ]
    },
    {
     "name": "stdout",
     "output_type": "stream",
     "text": [
      "Image and info_dict saved for 1246963cc624ac0b8a2fd974f463a825_0 in /Volumes/Newsmy/FM_dataset/VinDr-Mammo-finding/Train/1246963cc624ac0b8a2fd974f463a825_0\n"
     ]
    },
    {
     "name": "stderr",
     "output_type": "stream",
     "text": [
      "  8%|▊         | 142/1768 [01:18<15:20,  1.77it/s]"
     ]
    },
    {
     "name": "stdout",
     "output_type": "stream",
     "text": [
      "Image and info_dict saved for 1297fb4b53170324f0f6eeaf74c4449c_0 in /Volumes/Newsmy/FM_dataset/VinDr-Mammo-finding/Test/1297fb4b53170324f0f6eeaf74c4449c_0\n",
      "Image and info_dict saved for 1297fb4b53170324f0f6eeaf74c4449c_1 in /Volumes/Newsmy/FM_dataset/VinDr-Mammo-finding/Test/1297fb4b53170324f0f6eeaf74c4449c_1\n"
     ]
    },
    {
     "name": "stderr",
     "output_type": "stream",
     "text": [
      "  8%|▊         | 143/1768 [01:18<14:05,  1.92it/s]"
     ]
    },
    {
     "name": "stdout",
     "output_type": "stream",
     "text": [
      "Image and info_dict saved for 129b633979a43461369df710e69e111d_0 in /Volumes/Newsmy/FM_dataset/VinDr-Mammo-finding/Train/129b633979a43461369df710e69e111d_0\n"
     ]
    },
    {
     "name": "stderr",
     "output_type": "stream",
     "text": [
      "  8%|▊         | 144/1768 [01:19<13:49,  1.96it/s]"
     ]
    },
    {
     "name": "stdout",
     "output_type": "stream",
     "text": [
      "Image and info_dict saved for 12fcf7d55f2b52086c8ecb5fc8006db3_0 in /Volumes/Newsmy/FM_dataset/VinDr-Mammo-finding/Train/12fcf7d55f2b52086c8ecb5fc8006db3_0\n"
     ]
    },
    {
     "name": "stderr",
     "output_type": "stream",
     "text": [
      "  8%|▊         | 145/1768 [01:20<15:50,  1.71it/s]"
     ]
    },
    {
     "name": "stdout",
     "output_type": "stream",
     "text": [
      "Image and info_dict saved for 132095e759b34fba0adcba4205e1b513_0 in /Volumes/Newsmy/FM_dataset/VinDr-Mammo-finding/Train/132095e759b34fba0adcba4205e1b513_0\n",
      "Image and info_dict saved for 132095e759b34fba0adcba4205e1b513_1 in /Volumes/Newsmy/FM_dataset/VinDr-Mammo-finding/Train/132095e759b34fba0adcba4205e1b513_1\n"
     ]
    },
    {
     "name": "stderr",
     "output_type": "stream",
     "text": [
      "  8%|▊         | 146/1768 [01:20<15:34,  1.74it/s]"
     ]
    },
    {
     "name": "stdout",
     "output_type": "stream",
     "text": [
      "Image and info_dict saved for 1369c052ee3d713c0b5258920d0bccd0_0 in /Volumes/Newsmy/FM_dataset/VinDr-Mammo-finding/Train/1369c052ee3d713c0b5258920d0bccd0_0\n"
     ]
    },
    {
     "name": "stderr",
     "output_type": "stream",
     "text": [
      "  8%|▊         | 147/1768 [01:21<14:45,  1.83it/s]"
     ]
    },
    {
     "name": "stdout",
     "output_type": "stream",
     "text": [
      "Image and info_dict saved for 136a7d195b654c4bf862fdd076c77574_0 in /Volumes/Newsmy/FM_dataset/VinDr-Mammo-finding/Train/136a7d195b654c4bf862fdd076c77574_0\n"
     ]
    },
    {
     "name": "stderr",
     "output_type": "stream",
     "text": [
      "  8%|▊         | 148/1768 [01:21<14:17,  1.89it/s]"
     ]
    },
    {
     "name": "stdout",
     "output_type": "stream",
     "text": [
      "Image and info_dict saved for 1371cabdfe2afcbe30cf48047395c641_0 in /Volumes/Newsmy/FM_dataset/VinDr-Mammo-finding/Train/1371cabdfe2afcbe30cf48047395c641_0\n"
     ]
    },
    {
     "name": "stderr",
     "output_type": "stream",
     "text": [
      "  8%|▊         | 149/1768 [01:22<17:16,  1.56it/s]"
     ]
    },
    {
     "name": "stdout",
     "output_type": "stream",
     "text": [
      "Image and info_dict saved for 13be6c55646212a038555d19e9f9c086_0 in /Volumes/Newsmy/FM_dataset/VinDr-Mammo-finding/Train/13be6c55646212a038555d19e9f9c086_0\n"
     ]
    },
    {
     "name": "stderr",
     "output_type": "stream",
     "text": [
      "  8%|▊         | 150/1768 [01:23<17:44,  1.52it/s]"
     ]
    },
    {
     "name": "stdout",
     "output_type": "stream",
     "text": [
      "Image and info_dict saved for 13dcce4e628d544820e41c43275b7806_0 in /Volumes/Newsmy/FM_dataset/VinDr-Mammo-finding/Train/13dcce4e628d544820e41c43275b7806_0\n",
      "Image and info_dict saved for 13dcce4e628d544820e41c43275b7806_1 in /Volumes/Newsmy/FM_dataset/VinDr-Mammo-finding/Train/13dcce4e628d544820e41c43275b7806_1\n"
     ]
    },
    {
     "name": "stderr",
     "output_type": "stream",
     "text": [
      "  9%|▊         | 151/1768 [01:23<16:49,  1.60it/s]"
     ]
    },
    {
     "name": "stdout",
     "output_type": "stream",
     "text": [
      "Image and info_dict saved for 13ea2c59ed904bde1da93f3160edb462_0 in /Volumes/Newsmy/FM_dataset/VinDr-Mammo-finding/Train/13ea2c59ed904bde1da93f3160edb462_0\n"
     ]
    },
    {
     "name": "stderr",
     "output_type": "stream",
     "text": [
      "  9%|▊         | 152/1768 [01:24<15:40,  1.72it/s]"
     ]
    },
    {
     "name": "stdout",
     "output_type": "stream",
     "text": [
      "Image and info_dict saved for 13eaf76f8ddd04c74b0215255afbb2e3_0 in /Volumes/Newsmy/FM_dataset/VinDr-Mammo-finding/Train/13eaf76f8ddd04c74b0215255afbb2e3_0\n"
     ]
    },
    {
     "name": "stderr",
     "output_type": "stream",
     "text": [
      "  9%|▊         | 153/1768 [01:24<14:24,  1.87it/s]"
     ]
    },
    {
     "name": "stdout",
     "output_type": "stream",
     "text": [
      "Image and info_dict saved for 1407cdbe965eb744aa05018b37923ba3_0 in /Volumes/Newsmy/FM_dataset/VinDr-Mammo-finding/Train/1407cdbe965eb744aa05018b37923ba3_0\n"
     ]
    },
    {
     "name": "stderr",
     "output_type": "stream",
     "text": [
      "  9%|▊         | 154/1768 [01:25<14:40,  1.83it/s]"
     ]
    },
    {
     "name": "stdout",
     "output_type": "stream",
     "text": [
      "Image and info_dict saved for 14387f59b61cfdebf1fc0ac124efaf6d_0 in /Volumes/Newsmy/FM_dataset/VinDr-Mammo-finding/Train/14387f59b61cfdebf1fc0ac124efaf6d_0\n",
      "Image and info_dict saved for 14387f59b61cfdebf1fc0ac124efaf6d_1 in /Volumes/Newsmy/FM_dataset/VinDr-Mammo-finding/Train/14387f59b61cfdebf1fc0ac124efaf6d_1\n"
     ]
    },
    {
     "name": "stderr",
     "output_type": "stream",
     "text": [
      "  9%|▉         | 155/1768 [01:25<13:53,  1.94it/s]"
     ]
    },
    {
     "name": "stdout",
     "output_type": "stream",
     "text": [
      "Image and info_dict saved for 14acad71e74049aafe906a0dedd22a09_0 in /Volumes/Newsmy/FM_dataset/VinDr-Mammo-finding/Train/14acad71e74049aafe906a0dedd22a09_0\n"
     ]
    },
    {
     "name": "stderr",
     "output_type": "stream",
     "text": [
      "  9%|▉         | 156/1768 [01:26<13:03,  2.06it/s]"
     ]
    },
    {
     "name": "stdout",
     "output_type": "stream",
     "text": [
      "Image and info_dict saved for 1507cf98ea325351b0104cb854a6ac83_0 in /Volumes/Newsmy/FM_dataset/VinDr-Mammo-finding/Train/1507cf98ea325351b0104cb854a6ac83_0\n"
     ]
    },
    {
     "name": "stderr",
     "output_type": "stream",
     "text": [
      "  9%|▉         | 157/1768 [01:26<13:26,  2.00it/s]"
     ]
    },
    {
     "name": "stdout",
     "output_type": "stream",
     "text": [
      "Image and info_dict saved for 150cb5d7fd49a32058caaa51714e8cd0_0 in /Volumes/Newsmy/FM_dataset/VinDr-Mammo-finding/Train/150cb5d7fd49a32058caaa51714e8cd0_0\n"
     ]
    },
    {
     "name": "stderr",
     "output_type": "stream",
     "text": [
      "  9%|▉         | 158/1768 [01:27<14:05,  1.90it/s]"
     ]
    },
    {
     "name": "stdout",
     "output_type": "stream",
     "text": [
      "Image and info_dict saved for 1513f5d691d471605b882f111d388d46_0 in /Volumes/Newsmy/FM_dataset/VinDr-Mammo-finding/Train/1513f5d691d471605b882f111d388d46_0\n"
     ]
    },
    {
     "name": "stderr",
     "output_type": "stream",
     "text": [
      "  9%|▉         | 159/1768 [01:27<13:38,  1.97it/s]"
     ]
    },
    {
     "name": "stdout",
     "output_type": "stream",
     "text": [
      "Image and info_dict saved for 15206c1ba3b120b11296ea2967afd6c0_0 in /Volumes/Newsmy/FM_dataset/VinDr-Mammo-finding/Train/15206c1ba3b120b11296ea2967afd6c0_0\n"
     ]
    },
    {
     "name": "stderr",
     "output_type": "stream",
     "text": [
      "  9%|▉         | 160/1768 [01:28<14:55,  1.80it/s]"
     ]
    },
    {
     "name": "stdout",
     "output_type": "stream",
     "text": [
      "Image and info_dict saved for 153e6a233a6694e96db4356a947c9678_0 in /Volumes/Newsmy/FM_dataset/VinDr-Mammo-finding/Train/153e6a233a6694e96db4356a947c9678_0\n",
      "Image and info_dict saved for 153e6a233a6694e96db4356a947c9678_1 in /Volumes/Newsmy/FM_dataset/VinDr-Mammo-finding/Train/153e6a233a6694e96db4356a947c9678_1\n",
      "Image and info_dict saved for 153e6a233a6694e96db4356a947c9678_2 in /Volumes/Newsmy/FM_dataset/VinDr-Mammo-finding/Train/153e6a233a6694e96db4356a947c9678_2\n"
     ]
    },
    {
     "name": "stderr",
     "output_type": "stream",
     "text": [
      "  9%|▉         | 161/1768 [01:29<16:43,  1.60it/s]"
     ]
    },
    {
     "name": "stdout",
     "output_type": "stream",
     "text": [
      "Image and info_dict saved for 1545d3528b9cc99bcdf09d4b2b434f59_0 in /Volumes/Newsmy/FM_dataset/VinDr-Mammo-finding/Train/1545d3528b9cc99bcdf09d4b2b434f59_0\n",
      "Image and info_dict saved for 1545d3528b9cc99bcdf09d4b2b434f59_1 in /Volumes/Newsmy/FM_dataset/VinDr-Mammo-finding/Train/1545d3528b9cc99bcdf09d4b2b434f59_1\n",
      "Image and info_dict saved for 1545d3528b9cc99bcdf09d4b2b434f59_2 in /Volumes/Newsmy/FM_dataset/VinDr-Mammo-finding/Train/1545d3528b9cc99bcdf09d4b2b434f59_2\n"
     ]
    },
    {
     "name": "stderr",
     "output_type": "stream",
     "text": [
      "  9%|▉         | 162/1768 [01:29<16:45,  1.60it/s]"
     ]
    },
    {
     "name": "stdout",
     "output_type": "stream",
     "text": [
      "Image and info_dict saved for 15a47ab4144332ccee35214af3cd030a_0 in /Volumes/Newsmy/FM_dataset/VinDr-Mammo-finding/Train/15a47ab4144332ccee35214af3cd030a_0\n"
     ]
    },
    {
     "name": "stderr",
     "output_type": "stream",
     "text": [
      "  9%|▉         | 163/1768 [01:30<16:28,  1.62it/s]"
     ]
    },
    {
     "name": "stdout",
     "output_type": "stream",
     "text": [
      "Image and info_dict saved for 15ad456e4bc707e7ffeee20e60a3a820_0 in /Volumes/Newsmy/FM_dataset/VinDr-Mammo-finding/Test/15ad456e4bc707e7ffeee20e60a3a820_0\n",
      "Image and info_dict saved for 15ad456e4bc707e7ffeee20e60a3a820_1 in /Volumes/Newsmy/FM_dataset/VinDr-Mammo-finding/Test/15ad456e4bc707e7ffeee20e60a3a820_1\n"
     ]
    },
    {
     "name": "stderr",
     "output_type": "stream",
     "text": [
      "  9%|▉         | 164/1768 [01:30<13:59,  1.91it/s]"
     ]
    },
    {
     "name": "stdout",
     "output_type": "stream",
     "text": [
      "Image and info_dict saved for 15c8e59fdfafb3deefc80c5a9e8a42d0_0 in /Volumes/Newsmy/FM_dataset/VinDr-Mammo-finding/Train/15c8e59fdfafb3deefc80c5a9e8a42d0_0\n"
     ]
    },
    {
     "name": "stderr",
     "output_type": "stream",
     "text": [
      "  9%|▉         | 165/1768 [01:30<12:37,  2.12it/s]"
     ]
    },
    {
     "name": "stdout",
     "output_type": "stream",
     "text": [
      "Image and info_dict saved for 15f2e36521ccae32ee5ba13db9a8c02d_0 in /Volumes/Newsmy/FM_dataset/VinDr-Mammo-finding/Eval/15f2e36521ccae32ee5ba13db9a8c02d_0\n"
     ]
    },
    {
     "name": "stderr",
     "output_type": "stream",
     "text": [
      "  9%|▉         | 166/1768 [01:31<11:28,  2.33it/s]"
     ]
    },
    {
     "name": "stdout",
     "output_type": "stream",
     "text": [
      "Image and info_dict saved for 15fc491b06ef82774b6b8fc6ab09ef23_0 in /Volumes/Newsmy/FM_dataset/VinDr-Mammo-finding/Train/15fc491b06ef82774b6b8fc6ab09ef23_0\n"
     ]
    },
    {
     "name": "stderr",
     "output_type": "stream",
     "text": [
      "  9%|▉         | 167/1768 [01:31<11:52,  2.25it/s]"
     ]
    },
    {
     "name": "stdout",
     "output_type": "stream",
     "text": [
      "Image and info_dict saved for 16249821f7b29715c3bb8bd6db88f00a_0 in /Volumes/Newsmy/FM_dataset/VinDr-Mammo-finding/Train/16249821f7b29715c3bb8bd6db88f00a_0\n"
     ]
    },
    {
     "name": "stderr",
     "output_type": "stream",
     "text": [
      " 10%|▉         | 168/1768 [01:32<12:10,  2.19it/s]"
     ]
    },
    {
     "name": "stdout",
     "output_type": "stream",
     "text": [
      "Image and info_dict saved for 162908641d0d783855f67d93c64ec900_0 in /Volumes/Newsmy/FM_dataset/VinDr-Mammo-finding/Train/162908641d0d783855f67d93c64ec900_0\n"
     ]
    },
    {
     "name": "stderr",
     "output_type": "stream",
     "text": [
      " 10%|▉         | 169/1768 [01:32<12:33,  2.12it/s]"
     ]
    },
    {
     "name": "stdout",
     "output_type": "stream",
     "text": [
      "Image and info_dict saved for 164ebeb7229eed711a9e91b572a902ff_0 in /Volumes/Newsmy/FM_dataset/VinDr-Mammo-finding/Test/164ebeb7229eed711a9e91b572a902ff_0\n"
     ]
    },
    {
     "name": "stderr",
     "output_type": "stream",
     "text": [
      " 10%|▉         | 170/1768 [01:33<12:24,  2.15it/s]"
     ]
    },
    {
     "name": "stdout",
     "output_type": "stream",
     "text": [
      "Image and info_dict saved for 166699e9441f1481ec509621753725a9_0 in /Volumes/Newsmy/FM_dataset/VinDr-Mammo-finding/Train/166699e9441f1481ec509621753725a9_0\n",
      "Image and info_dict saved for 16772df2fc68173354ed7b5684e40a56_0 in /Volumes/Newsmy/FM_dataset/VinDr-Mammo-finding/Test/16772df2fc68173354ed7b5684e40a56_0\n",
      "Image and info_dict saved for 16772df2fc68173354ed7b5684e40a56_1 in /Volumes/Newsmy/FM_dataset/VinDr-Mammo-finding/Test/16772df2fc68173354ed7b5684e40a56_1\n"
     ]
    },
    {
     "name": "stderr",
     "output_type": "stream",
     "text": [
      " 10%|▉         | 171/1768 [01:33<13:54,  1.91it/s]"
     ]
    },
    {
     "name": "stdout",
     "output_type": "stream",
     "text": [
      "Image and info_dict saved for 16772df2fc68173354ed7b5684e40a56_2 in /Volumes/Newsmy/FM_dataset/VinDr-Mammo-finding/Test/16772df2fc68173354ed7b5684e40a56_2\n",
      "Image and info_dict saved for 16772df2fc68173354ed7b5684e40a56_3 in /Volumes/Newsmy/FM_dataset/VinDr-Mammo-finding/Test/16772df2fc68173354ed7b5684e40a56_3\n"
     ]
    },
    {
     "name": "stderr",
     "output_type": "stream",
     "text": [
      " 10%|▉         | 172/1768 [01:34<13:54,  1.91it/s]"
     ]
    },
    {
     "name": "stdout",
     "output_type": "stream",
     "text": [
      "Image and info_dict saved for 169b1fe3b0a21d269af8971754e3fa7d_0 in /Volumes/Newsmy/FM_dataset/VinDr-Mammo-finding/Train/169b1fe3b0a21d269af8971754e3fa7d_0\n"
     ]
    },
    {
     "name": "stderr",
     "output_type": "stream",
     "text": [
      " 10%|▉         | 173/1768 [01:34<13:48,  1.92it/s]"
     ]
    },
    {
     "name": "stdout",
     "output_type": "stream",
     "text": [
      "Image and info_dict saved for 16a7ae04fb0ec0039afbceb6c920906f_0 in /Volumes/Newsmy/FM_dataset/VinDr-Mammo-finding/Train/16a7ae04fb0ec0039afbceb6c920906f_0\n"
     ]
    },
    {
     "name": "stderr",
     "output_type": "stream",
     "text": [
      " 10%|▉         | 174/1768 [01:35<12:13,  2.17it/s]"
     ]
    },
    {
     "name": "stdout",
     "output_type": "stream",
     "text": [
      "Image and info_dict saved for 16c5567c9a2c621c980a8992f6540c01_0 in /Volumes/Newsmy/FM_dataset/VinDr-Mammo-finding/Test/16c5567c9a2c621c980a8992f6540c01_0\n"
     ]
    },
    {
     "name": "stderr",
     "output_type": "stream",
     "text": [
      " 10%|▉         | 175/1768 [01:35<11:52,  2.23it/s]"
     ]
    },
    {
     "name": "stdout",
     "output_type": "stream",
     "text": [
      "Image and info_dict saved for 17127fbc6f1c700106b7ec6725012007_0 in /Volumes/Newsmy/FM_dataset/VinDr-Mammo-finding/Train/17127fbc6f1c700106b7ec6725012007_0\n"
     ]
    },
    {
     "name": "stderr",
     "output_type": "stream",
     "text": [
      " 10%|▉         | 176/1768 [01:36<12:10,  2.18it/s]"
     ]
    },
    {
     "name": "stdout",
     "output_type": "stream",
     "text": [
      "Image and info_dict saved for 175c9ad9cb031644884079a42f660dfc_0 in /Volumes/Newsmy/FM_dataset/VinDr-Mammo-finding/Test/175c9ad9cb031644884079a42f660dfc_0\n"
     ]
    },
    {
     "name": "stderr",
     "output_type": "stream",
     "text": [
      " 10%|█         | 177/1768 [01:36<14:51,  1.79it/s]"
     ]
    },
    {
     "name": "stdout",
     "output_type": "stream",
     "text": [
      "Image and info_dict saved for 1776d1586b4c7d8cc13c98309c5327df_0 in /Volumes/Newsmy/FM_dataset/VinDr-Mammo-finding/Train/1776d1586b4c7d8cc13c98309c5327df_0\n",
      "Image and info_dict saved for 1776d1586b4c7d8cc13c98309c5327df_1 in /Volumes/Newsmy/FM_dataset/VinDr-Mammo-finding/Train/1776d1586b4c7d8cc13c98309c5327df_1\n"
     ]
    },
    {
     "name": "stderr",
     "output_type": "stream",
     "text": [
      " 10%|█         | 178/1768 [01:37<14:35,  1.82it/s]"
     ]
    },
    {
     "name": "stdout",
     "output_type": "stream",
     "text": [
      "Image and info_dict saved for 17b3a249701b56996ab36e053d9eaf1c_0 in /Volumes/Newsmy/FM_dataset/VinDr-Mammo-finding/Train/17b3a249701b56996ab36e053d9eaf1c_0\n"
     ]
    },
    {
     "name": "stderr",
     "output_type": "stream",
     "text": [
      " 10%|█         | 179/1768 [01:37<13:40,  1.94it/s]"
     ]
    },
    {
     "name": "stdout",
     "output_type": "stream",
     "text": [
      "Image and info_dict saved for 17bceaea0bcbd44c3c89f5d88bbb430b_0 in /Volumes/Newsmy/FM_dataset/VinDr-Mammo-finding/Train/17bceaea0bcbd44c3c89f5d88bbb430b_0\n"
     ]
    },
    {
     "name": "stderr",
     "output_type": "stream",
     "text": [
      " 10%|█         | 180/1768 [01:38<12:56,  2.04it/s]"
     ]
    },
    {
     "name": "stdout",
     "output_type": "stream",
     "text": [
      "Image and info_dict saved for 17c9d5489c19c75ed3cb4032ba49afb7_0 in /Volumes/Newsmy/FM_dataset/VinDr-Mammo-finding/Eval/17c9d5489c19c75ed3cb4032ba49afb7_0\n"
     ]
    },
    {
     "name": "stderr",
     "output_type": "stream",
     "text": [
      " 10%|█         | 181/1768 [01:38<14:31,  1.82it/s]"
     ]
    },
    {
     "name": "stdout",
     "output_type": "stream",
     "text": [
      "Image and info_dict saved for 17d2f5831c5cecb238f512e28f0277d7_0 in /Volumes/Newsmy/FM_dataset/VinDr-Mammo-finding/Train/17d2f5831c5cecb238f512e28f0277d7_0\n"
     ]
    },
    {
     "name": "stderr",
     "output_type": "stream",
     "text": [
      " 10%|█         | 182/1768 [01:39<14:47,  1.79it/s]"
     ]
    },
    {
     "name": "stdout",
     "output_type": "stream",
     "text": [
      "Image and info_dict saved for 17d91701b085d4cb0ae1c7b1c0af2bb1_0 in /Volumes/Newsmy/FM_dataset/VinDr-Mammo-finding/Train/17d91701b085d4cb0ae1c7b1c0af2bb1_0\n"
     ]
    },
    {
     "name": "stderr",
     "output_type": "stream",
     "text": [
      " 10%|█         | 183/1768 [01:40<14:27,  1.83it/s]"
     ]
    },
    {
     "name": "stdout",
     "output_type": "stream",
     "text": [
      "Image and info_dict saved for 17de42eb1bf8e877778a1f4f81145506_0 in /Volumes/Newsmy/FM_dataset/VinDr-Mammo-finding/Train/17de42eb1bf8e877778a1f4f81145506_0\n",
      "Image and info_dict saved for 17de42eb1bf8e877778a1f4f81145506_1 in /Volumes/Newsmy/FM_dataset/VinDr-Mammo-finding/Train/17de42eb1bf8e877778a1f4f81145506_1\n"
     ]
    },
    {
     "name": "stderr",
     "output_type": "stream",
     "text": [
      " 10%|█         | 184/1768 [01:40<15:01,  1.76it/s]"
     ]
    },
    {
     "name": "stdout",
     "output_type": "stream",
     "text": [
      "Image and info_dict saved for 17f5002ee3df64911781868016b10c36_0 in /Volumes/Newsmy/FM_dataset/VinDr-Mammo-finding/Train/17f5002ee3df64911781868016b10c36_0\n"
     ]
    },
    {
     "name": "stderr",
     "output_type": "stream",
     "text": [
      " 10%|█         | 185/1768 [01:41<13:54,  1.90it/s]"
     ]
    },
    {
     "name": "stdout",
     "output_type": "stream",
     "text": [
      "Image and info_dict saved for 185d72636122b93911abdbe015985e40_0 in /Volumes/Newsmy/FM_dataset/VinDr-Mammo-finding/Test/185d72636122b93911abdbe015985e40_0\n"
     ]
    },
    {
     "name": "stderr",
     "output_type": "stream",
     "text": [
      " 11%|█         | 186/1768 [01:41<11:58,  2.20it/s]"
     ]
    },
    {
     "name": "stdout",
     "output_type": "stream",
     "text": [
      "Image and info_dict saved for 18636a03282a86b92f6593607cfce29f_0 in /Volumes/Newsmy/FM_dataset/VinDr-Mammo-finding/Test/18636a03282a86b92f6593607cfce29f_0\n"
     ]
    },
    {
     "name": "stderr",
     "output_type": "stream",
     "text": [
      " 11%|█         | 187/1768 [01:41<12:02,  2.19it/s]"
     ]
    },
    {
     "name": "stdout",
     "output_type": "stream",
     "text": [
      "Image and info_dict saved for 18a10e43b45786b4311bed1e5e5a56dd_0 in /Volumes/Newsmy/FM_dataset/VinDr-Mammo-finding/Eval/18a10e43b45786b4311bed1e5e5a56dd_0\n"
     ]
    },
    {
     "name": "stderr",
     "output_type": "stream",
     "text": [
      " 11%|█         | 188/1768 [01:42<10:59,  2.39it/s]"
     ]
    },
    {
     "name": "stdout",
     "output_type": "stream",
     "text": [
      "Image and info_dict saved for 18b6303a3ede8d3556f87dada8d64c49_0 in /Volumes/Newsmy/FM_dataset/VinDr-Mammo-finding/Train/18b6303a3ede8d3556f87dada8d64c49_0\n"
     ]
    },
    {
     "name": "stderr",
     "output_type": "stream",
     "text": [
      " 11%|█         | 189/1768 [01:43<16:21,  1.61it/s]"
     ]
    },
    {
     "name": "stdout",
     "output_type": "stream",
     "text": [
      "Image and info_dict saved for 18fc6298ebe7a83427f87a1de7fa143f_0 in /Volumes/Newsmy/FM_dataset/VinDr-Mammo-finding/Test/18fc6298ebe7a83427f87a1de7fa143f_0\n"
     ]
    },
    {
     "name": "stderr",
     "output_type": "stream",
     "text": [
      " 11%|█         | 190/1768 [01:43<15:29,  1.70it/s]"
     ]
    },
    {
     "name": "stdout",
     "output_type": "stream",
     "text": [
      "Image and info_dict saved for 19056b152c5d2ed98f66de006fa45a6c_0 in /Volumes/Newsmy/FM_dataset/VinDr-Mammo-finding/Train/19056b152c5d2ed98f66de006fa45a6c_0\n"
     ]
    },
    {
     "name": "stderr",
     "output_type": "stream",
     "text": [
      " 11%|█         | 191/1768 [01:44<15:01,  1.75it/s]"
     ]
    },
    {
     "name": "stdout",
     "output_type": "stream",
     "text": [
      "Image and info_dict saved for 19189466123f991dfd57d7b963c9c908_0 in /Volumes/Newsmy/FM_dataset/VinDr-Mammo-finding/Train/19189466123f991dfd57d7b963c9c908_0\n"
     ]
    },
    {
     "name": "stderr",
     "output_type": "stream",
     "text": [
      " 11%|█         | 192/1768 [01:45<16:17,  1.61it/s]"
     ]
    },
    {
     "name": "stdout",
     "output_type": "stream",
     "text": [
      "Image and info_dict saved for 19269b87da23b12053b3bfcfa65a2eeb_0 in /Volumes/Newsmy/FM_dataset/VinDr-Mammo-finding/Train/19269b87da23b12053b3bfcfa65a2eeb_0\n",
      "Image and info_dict saved for 19269b87da23b12053b3bfcfa65a2eeb_1 in /Volumes/Newsmy/FM_dataset/VinDr-Mammo-finding/Train/19269b87da23b12053b3bfcfa65a2eeb_1\n"
     ]
    },
    {
     "name": "stderr",
     "output_type": "stream",
     "text": [
      " 11%|█         | 193/1768 [01:45<15:27,  1.70it/s]"
     ]
    },
    {
     "name": "stdout",
     "output_type": "stream",
     "text": [
      "Image and info_dict saved for 194b24263d11adc0128da9953588359c_0 in /Volumes/Newsmy/FM_dataset/VinDr-Mammo-finding/Train/194b24263d11adc0128da9953588359c_0\n"
     ]
    },
    {
     "name": "stderr",
     "output_type": "stream",
     "text": [
      " 11%|█         | 194/1768 [01:46<14:31,  1.81it/s]"
     ]
    },
    {
     "name": "stdout",
     "output_type": "stream",
     "text": [
      "Image and info_dict saved for 195406593e99254943c994d82e22710a_0 in /Volumes/Newsmy/FM_dataset/VinDr-Mammo-finding/Train/195406593e99254943c994d82e22710a_0\n"
     ]
    },
    {
     "name": "stderr",
     "output_type": "stream",
     "text": [
      " 11%|█         | 195/1768 [01:46<14:04,  1.86it/s]"
     ]
    },
    {
     "name": "stdout",
     "output_type": "stream",
     "text": [
      "Image and info_dict saved for 1959ca267c7a8953a880b69c75168d13_0 in /Volumes/Newsmy/FM_dataset/VinDr-Mammo-finding/Eval/1959ca267c7a8953a880b69c75168d13_0\n"
     ]
    },
    {
     "name": "stderr",
     "output_type": "stream",
     "text": [
      " 11%|█         | 196/1768 [01:47<13:14,  1.98it/s]"
     ]
    },
    {
     "name": "stdout",
     "output_type": "stream",
     "text": [
      "Image and info_dict saved for 1966916e0825ec690dd32e51f30714e0_0 in /Volumes/Newsmy/FM_dataset/VinDr-Mammo-finding/Train/1966916e0825ec690dd32e51f30714e0_0\n"
     ]
    },
    {
     "name": "stderr",
     "output_type": "stream",
     "text": [
      " 11%|█         | 197/1768 [01:47<13:03,  2.00it/s]"
     ]
    },
    {
     "name": "stdout",
     "output_type": "stream",
     "text": [
      "Image and info_dict saved for 198b5967aaa577ad4089badb22689972_0 in /Volumes/Newsmy/FM_dataset/VinDr-Mammo-finding/Test/198b5967aaa577ad4089badb22689972_0\n"
     ]
    },
    {
     "name": "stderr",
     "output_type": "stream",
     "text": [
      " 11%|█         | 198/1768 [01:47<12:47,  2.05it/s]"
     ]
    },
    {
     "name": "stdout",
     "output_type": "stream",
     "text": [
      "Image and info_dict saved for 19aa7e28743b204e978558c4fed12fd2_0 in /Volumes/Newsmy/FM_dataset/VinDr-Mammo-finding/Train/19aa7e28743b204e978558c4fed12fd2_0\n"
     ]
    },
    {
     "name": "stderr",
     "output_type": "stream",
     "text": [
      " 11%|█▏        | 199/1768 [01:48<13:02,  2.00it/s]"
     ]
    },
    {
     "name": "stdout",
     "output_type": "stream",
     "text": [
      "Image and info_dict saved for 19acc4b912b5637af651392bc1fe6b6e_0 in /Volumes/Newsmy/FM_dataset/VinDr-Mammo-finding/Test/19acc4b912b5637af651392bc1fe6b6e_0\n",
      "Image and info_dict saved for 19c0ecd06984b4d4b2c46812e85a06e6_0 in /Volumes/Newsmy/FM_dataset/VinDr-Mammo-finding/Train/19c0ecd06984b4d4b2c46812e85a06e6_0\n",
      "Image and info_dict saved for 19c0ecd06984b4d4b2c46812e85a06e6_1 in /Volumes/Newsmy/FM_dataset/VinDr-Mammo-finding/Train/19c0ecd06984b4d4b2c46812e85a06e6_1\n",
      "Image and info_dict saved for 19c0ecd06984b4d4b2c46812e85a06e6_2 in /Volumes/Newsmy/FM_dataset/VinDr-Mammo-finding/Train/19c0ecd06984b4d4b2c46812e85a06e6_2\n"
     ]
    },
    {
     "name": "stderr",
     "output_type": "stream",
     "text": [
      " 11%|█▏        | 200/1768 [01:49<15:39,  1.67it/s]"
     ]
    },
    {
     "name": "stdout",
     "output_type": "stream",
     "text": [
      "Image and info_dict saved for 19c0ecd06984b4d4b2c46812e85a06e6_3 in /Volumes/Newsmy/FM_dataset/VinDr-Mammo-finding/Train/19c0ecd06984b4d4b2c46812e85a06e6_3\n"
     ]
    },
    {
     "name": "stderr",
     "output_type": "stream",
     "text": [
      " 11%|█▏        | 201/1768 [01:49<15:19,  1.70it/s]"
     ]
    },
    {
     "name": "stdout",
     "output_type": "stream",
     "text": [
      "Image and info_dict saved for 19d9dd9f34f4b4cb14d584a38fe02151_0 in /Volumes/Newsmy/FM_dataset/VinDr-Mammo-finding/Train/19d9dd9f34f4b4cb14d584a38fe02151_0\n"
     ]
    },
    {
     "name": "stderr",
     "output_type": "stream",
     "text": [
      " 11%|█▏        | 202/1768 [01:50<14:40,  1.78it/s]"
     ]
    },
    {
     "name": "stdout",
     "output_type": "stream",
     "text": [
      "Image and info_dict saved for 1a1a4edb97ee31ebfa7804ccc57d340f_0 in /Volumes/Newsmy/FM_dataset/VinDr-Mammo-finding/Train/1a1a4edb97ee31ebfa7804ccc57d340f_0\n"
     ]
    },
    {
     "name": "stderr",
     "output_type": "stream",
     "text": [
      " 11%|█▏        | 203/1768 [01:50<14:16,  1.83it/s]"
     ]
    },
    {
     "name": "stdout",
     "output_type": "stream",
     "text": [
      "Image and info_dict saved for 1a1d13244aaafa6a12988c4e1d3efe5b_0 in /Volumes/Newsmy/FM_dataset/VinDr-Mammo-finding/Train/1a1d13244aaafa6a12988c4e1d3efe5b_0\n",
      "Image and info_dict saved for 1a1d13244aaafa6a12988c4e1d3efe5b_1 in /Volumes/Newsmy/FM_dataset/VinDr-Mammo-finding/Train/1a1d13244aaafa6a12988c4e1d3efe5b_1\n"
     ]
    },
    {
     "name": "stderr",
     "output_type": "stream",
     "text": [
      " 12%|█▏        | 204/1768 [01:51<14:05,  1.85it/s]"
     ]
    },
    {
     "name": "stdout",
     "output_type": "stream",
     "text": [
      "Image and info_dict saved for 1a52264b19da38964392d40a72362fdd_0 in /Volumes/Newsmy/FM_dataset/VinDr-Mammo-finding/Test/1a52264b19da38964392d40a72362fdd_0\n"
     ]
    },
    {
     "name": "stderr",
     "output_type": "stream",
     "text": [
      " 12%|█▏        | 205/1768 [01:51<13:53,  1.88it/s]"
     ]
    },
    {
     "name": "stdout",
     "output_type": "stream",
     "text": [
      "Image and info_dict saved for 1a640b603b5e70a42161bfbf42eb21d1_0 in /Volumes/Newsmy/FM_dataset/VinDr-Mammo-finding/Train/1a640b603b5e70a42161bfbf42eb21d1_0\n"
     ]
    },
    {
     "name": "stderr",
     "output_type": "stream",
     "text": [
      " 12%|█▏        | 206/1768 [01:52<13:33,  1.92it/s]"
     ]
    },
    {
     "name": "stdout",
     "output_type": "stream",
     "text": [
      "Image and info_dict saved for 1a6fc2d6c56e6b1b45d348df8c63c511_0 in /Volumes/Newsmy/FM_dataset/VinDr-Mammo-finding/Train/1a6fc2d6c56e6b1b45d348df8c63c511_0\n"
     ]
    },
    {
     "name": "stderr",
     "output_type": "stream",
     "text": [
      " 12%|█▏        | 207/1768 [01:52<13:03,  1.99it/s]"
     ]
    },
    {
     "name": "stdout",
     "output_type": "stream",
     "text": [
      "Image and info_dict saved for 1a726ea772cfde63af2de1d9d1fba472_0 in /Volumes/Newsmy/FM_dataset/VinDr-Mammo-finding/Train/1a726ea772cfde63af2de1d9d1fba472_0\n"
     ]
    },
    {
     "name": "stderr",
     "output_type": "stream",
     "text": [
      " 12%|█▏        | 208/1768 [01:53<12:23,  2.10it/s]"
     ]
    },
    {
     "name": "stdout",
     "output_type": "stream",
     "text": [
      "Image and info_dict saved for 1a89e1a41d82efe8826ffe15c41db3f4_0 in /Volumes/Newsmy/FM_dataset/VinDr-Mammo-finding/Train/1a89e1a41d82efe8826ffe15c41db3f4_0\n"
     ]
    },
    {
     "name": "stderr",
     "output_type": "stream",
     "text": [
      " 12%|█▏        | 209/1768 [01:53<13:02,  1.99it/s]"
     ]
    },
    {
     "name": "stdout",
     "output_type": "stream",
     "text": [
      "Image and info_dict saved for 1aedd7fc33c55fb511e2dcb7a8493509_0 in /Volumes/Newsmy/FM_dataset/VinDr-Mammo-finding/Train/1aedd7fc33c55fb511e2dcb7a8493509_0\n"
     ]
    },
    {
     "name": "stderr",
     "output_type": "stream",
     "text": [
      " 12%|█▏        | 210/1768 [01:54<12:38,  2.05it/s]"
     ]
    },
    {
     "name": "stdout",
     "output_type": "stream",
     "text": [
      "Image and info_dict saved for 1b1463c42b11eb981faa5259f2c7b896_0 in /Volumes/Newsmy/FM_dataset/VinDr-Mammo-finding/Train/1b1463c42b11eb981faa5259f2c7b896_0\n"
     ]
    },
    {
     "name": "stderr",
     "output_type": "stream",
     "text": [
      " 12%|█▏        | 211/1768 [01:54<12:37,  2.05it/s]"
     ]
    },
    {
     "name": "stdout",
     "output_type": "stream",
     "text": [
      "Image and info_dict saved for 1b26a908ba95c2e63e58f1a44d5a3490_0 in /Volumes/Newsmy/FM_dataset/VinDr-Mammo-finding/Test/1b26a908ba95c2e63e58f1a44d5a3490_0\n"
     ]
    },
    {
     "name": "stderr",
     "output_type": "stream",
     "text": [
      " 12%|█▏        | 212/1768 [01:55<11:48,  2.19it/s]"
     ]
    },
    {
     "name": "stdout",
     "output_type": "stream",
     "text": [
      "Image and info_dict saved for 1b3ea2ffe5dc67d51c493ef22faed9e3_0 in /Volumes/Newsmy/FM_dataset/VinDr-Mammo-finding/Train/1b3ea2ffe5dc67d51c493ef22faed9e3_0\n"
     ]
    },
    {
     "name": "stderr",
     "output_type": "stream",
     "text": [
      " 12%|█▏        | 213/1768 [01:55<11:41,  2.22it/s]"
     ]
    },
    {
     "name": "stdout",
     "output_type": "stream",
     "text": [
      "Image and info_dict saved for 1bad693bff15cd631e84f1cfc717f3bb_0 in /Volumes/Newsmy/FM_dataset/VinDr-Mammo-finding/Test/1bad693bff15cd631e84f1cfc717f3bb_0\n"
     ]
    },
    {
     "name": "stderr",
     "output_type": "stream",
     "text": [
      " 12%|█▏        | 214/1768 [01:56<11:44,  2.21it/s]"
     ]
    },
    {
     "name": "stdout",
     "output_type": "stream",
     "text": [
      "Image and info_dict saved for 1bc0bb5082b6f20d9dea0014ae5276db_0 in /Volumes/Newsmy/FM_dataset/VinDr-Mammo-finding/Train/1bc0bb5082b6f20d9dea0014ae5276db_0\n"
     ]
    },
    {
     "name": "stderr",
     "output_type": "stream",
     "text": [
      " 12%|█▏        | 215/1768 [01:56<11:57,  2.16it/s]"
     ]
    },
    {
     "name": "stdout",
     "output_type": "stream",
     "text": [
      "Image and info_dict saved for 1bf3336865229b5b85439dc942721a64_0 in /Volumes/Newsmy/FM_dataset/VinDr-Mammo-finding/Train/1bf3336865229b5b85439dc942721a64_0\n"
     ]
    },
    {
     "name": "stderr",
     "output_type": "stream",
     "text": [
      " 12%|█▏        | 216/1768 [01:57<14:36,  1.77it/s]"
     ]
    },
    {
     "name": "stdout",
     "output_type": "stream",
     "text": [
      "Image and info_dict saved for 1c1b9f28c515819a9eb5191e36709d8f_0 in /Volumes/Newsmy/FM_dataset/VinDr-Mammo-finding/Train/1c1b9f28c515819a9eb5191e36709d8f_0\n"
     ]
    },
    {
     "name": "stderr",
     "output_type": "stream",
     "text": [
      " 12%|█▏        | 217/1768 [01:57<14:27,  1.79it/s]"
     ]
    },
    {
     "name": "stdout",
     "output_type": "stream",
     "text": [
      "Image and info_dict saved for 1c1d29264b338e71d94bf33db3a2849f_0 in /Volumes/Newsmy/FM_dataset/VinDr-Mammo-finding/Train/1c1d29264b338e71d94bf33db3a2849f_0\n"
     ]
    },
    {
     "name": "stderr",
     "output_type": "stream",
     "text": [
      " 12%|█▏        | 218/1768 [01:58<13:17,  1.94it/s]"
     ]
    },
    {
     "name": "stdout",
     "output_type": "stream",
     "text": [
      "Image and info_dict saved for 1c35cb30f776b18ab35a12deae0845b9_0 in /Volumes/Newsmy/FM_dataset/VinDr-Mammo-finding/Eval/1c35cb30f776b18ab35a12deae0845b9_0\n"
     ]
    },
    {
     "name": "stderr",
     "output_type": "stream",
     "text": [
      " 12%|█▏        | 219/1768 [01:58<13:47,  1.87it/s]"
     ]
    },
    {
     "name": "stdout",
     "output_type": "stream",
     "text": [
      "Image and info_dict saved for 1c77399720e266b2124c6151b7bec82b_0 in /Volumes/Newsmy/FM_dataset/VinDr-Mammo-finding/Train/1c77399720e266b2124c6151b7bec82b_0\n",
      "Image and info_dict saved for 1c77399720e266b2124c6151b7bec82b_1 in /Volumes/Newsmy/FM_dataset/VinDr-Mammo-finding/Train/1c77399720e266b2124c6151b7bec82b_1\n"
     ]
    },
    {
     "name": "stderr",
     "output_type": "stream",
     "text": [
      " 12%|█▏        | 220/1768 [01:59<12:44,  2.03it/s]"
     ]
    },
    {
     "name": "stdout",
     "output_type": "stream",
     "text": [
      "Image and info_dict saved for 1cbc0ae5d67abccd58a4ba6d657d921e_0 in /Volumes/Newsmy/FM_dataset/VinDr-Mammo-finding/Train/1cbc0ae5d67abccd58a4ba6d657d921e_0\n"
     ]
    },
    {
     "name": "stderr",
     "output_type": "stream",
     "text": [
      " 12%|█▎        | 221/1768 [01:59<12:19,  2.09it/s]"
     ]
    },
    {
     "name": "stdout",
     "output_type": "stream",
     "text": [
      "Image and info_dict saved for 1cfb1d7f513466d8ca7900c23346d309_0 in /Volumes/Newsmy/FM_dataset/VinDr-Mammo-finding/Test/1cfb1d7f513466d8ca7900c23346d309_0\n"
     ]
    },
    {
     "name": "stderr",
     "output_type": "stream",
     "text": [
      " 13%|█▎        | 222/1768 [02:00<12:12,  2.11it/s]"
     ]
    },
    {
     "name": "stdout",
     "output_type": "stream",
     "text": [
      "Image and info_dict saved for 1d136d5f293069a1f77f544cf0f8265b_0 in /Volumes/Newsmy/FM_dataset/VinDr-Mammo-finding/Train/1d136d5f293069a1f77f544cf0f8265b_0\n"
     ]
    },
    {
     "name": "stderr",
     "output_type": "stream",
     "text": [
      " 13%|█▎        | 223/1768 [02:00<11:59,  2.15it/s]"
     ]
    },
    {
     "name": "stdout",
     "output_type": "stream",
     "text": [
      "Image and info_dict saved for 1d15e5c98d1e27d9fe80aac31d573d9b_0 in /Volumes/Newsmy/FM_dataset/VinDr-Mammo-finding/Train/1d15e5c98d1e27d9fe80aac31d573d9b_0\n"
     ]
    },
    {
     "name": "stderr",
     "output_type": "stream",
     "text": [
      " 13%|█▎        | 224/1768 [02:01<12:29,  2.06it/s]"
     ]
    },
    {
     "name": "stdout",
     "output_type": "stream",
     "text": [
      "Image and info_dict saved for 1d2d50c66ee2e230c6327076c2fe6d00_0 in /Volumes/Newsmy/FM_dataset/VinDr-Mammo-finding/Train/1d2d50c66ee2e230c6327076c2fe6d00_0\n"
     ]
    },
    {
     "name": "stderr",
     "output_type": "stream",
     "text": [
      " 13%|█▎        | 225/1768 [02:01<12:19,  2.09it/s]"
     ]
    },
    {
     "name": "stdout",
     "output_type": "stream",
     "text": [
      "Image and info_dict saved for 1d51d5bd22846821409cb531a95979d2_0 in /Volumes/Newsmy/FM_dataset/VinDr-Mammo-finding/Train/1d51d5bd22846821409cb531a95979d2_0\n"
     ]
    },
    {
     "name": "stderr",
     "output_type": "stream",
     "text": [
      " 13%|█▎        | 226/1768 [02:02<11:31,  2.23it/s]"
     ]
    },
    {
     "name": "stdout",
     "output_type": "stream",
     "text": [
      "Image and info_dict saved for 1d605d35628064e2f14c0f629b34459d_0 in /Volumes/Newsmy/FM_dataset/VinDr-Mammo-finding/Train/1d605d35628064e2f14c0f629b34459d_0\n"
     ]
    },
    {
     "name": "stderr",
     "output_type": "stream",
     "text": [
      " 13%|█▎        | 227/1768 [02:02<12:47,  2.01it/s]"
     ]
    },
    {
     "name": "stdout",
     "output_type": "stream",
     "text": [
      "Image and info_dict saved for 1d6b62c0ca67fccea012daed532bb9fc_0 in /Volumes/Newsmy/FM_dataset/VinDr-Mammo-finding/Train/1d6b62c0ca67fccea012daed532bb9fc_0\n",
      "Image and info_dict saved for 1d6b62c0ca67fccea012daed532bb9fc_1 in /Volumes/Newsmy/FM_dataset/VinDr-Mammo-finding/Train/1d6b62c0ca67fccea012daed532bb9fc_1\n"
     ]
    },
    {
     "name": "stderr",
     "output_type": "stream",
     "text": [
      " 13%|█▎        | 228/1768 [02:03<12:11,  2.10it/s]"
     ]
    },
    {
     "name": "stdout",
     "output_type": "stream",
     "text": [
      "Image and info_dict saved for 1d83fd3dfe4a9beb628b030d1d37031b_0 in /Volumes/Newsmy/FM_dataset/VinDr-Mammo-finding/Train/1d83fd3dfe4a9beb628b030d1d37031b_0\n"
     ]
    },
    {
     "name": "stderr",
     "output_type": "stream",
     "text": [
      " 13%|█▎        | 229/1768 [02:03<11:00,  2.33it/s]"
     ]
    },
    {
     "name": "stdout",
     "output_type": "stream",
     "text": [
      "Image and info_dict saved for 1d9dec180a5c2bab3b77e55684cd7f95_0 in /Volumes/Newsmy/FM_dataset/VinDr-Mammo-finding/Train/1d9dec180a5c2bab3b77e55684cd7f95_0\n"
     ]
    },
    {
     "name": "stderr",
     "output_type": "stream",
     "text": [
      " 13%|█▎        | 230/1768 [02:03<10:23,  2.47it/s]"
     ]
    },
    {
     "name": "stdout",
     "output_type": "stream",
     "text": [
      "Image and info_dict saved for 1dda87c5adb8efb52c1e559ea4cabf54_0 in /Volumes/Newsmy/FM_dataset/VinDr-Mammo-finding/Train/1dda87c5adb8efb52c1e559ea4cabf54_0\n"
     ]
    },
    {
     "name": "stderr",
     "output_type": "stream",
     "text": [
      " 13%|█▎        | 231/1768 [02:04<10:54,  2.35it/s]"
     ]
    },
    {
     "name": "stdout",
     "output_type": "stream",
     "text": [
      "Image and info_dict saved for 1df290db9b7769fabaddab943891889d_0 in /Volumes/Newsmy/FM_dataset/VinDr-Mammo-finding/Train/1df290db9b7769fabaddab943891889d_0\n"
     ]
    },
    {
     "name": "stderr",
     "output_type": "stream",
     "text": [
      " 13%|█▎        | 232/1768 [02:05<16:00,  1.60it/s]"
     ]
    },
    {
     "name": "stdout",
     "output_type": "stream",
     "text": [
      "Image and info_dict saved for 1dfc7b08356eb6265b16a51a1ea208b1_0 in /Volumes/Newsmy/FM_dataset/VinDr-Mammo-finding/Eval/1dfc7b08356eb6265b16a51a1ea208b1_0\n"
     ]
    },
    {
     "name": "stderr",
     "output_type": "stream",
     "text": [
      " 13%|█▎        | 233/1768 [02:06<17:25,  1.47it/s]"
     ]
    },
    {
     "name": "stdout",
     "output_type": "stream",
     "text": [
      "Image and info_dict saved for 1e074d67076ab3ccbcb6fabb7a93e479_0 in /Volumes/Newsmy/FM_dataset/VinDr-Mammo-finding/Train/1e074d67076ab3ccbcb6fabb7a93e479_0\n",
      "Image and info_dict saved for 1e074d67076ab3ccbcb6fabb7a93e479_1 in /Volumes/Newsmy/FM_dataset/VinDr-Mammo-finding/Train/1e074d67076ab3ccbcb6fabb7a93e479_1\n"
     ]
    },
    {
     "name": "stderr",
     "output_type": "stream",
     "text": [
      " 13%|█▎        | 234/1768 [02:06<16:48,  1.52it/s]"
     ]
    },
    {
     "name": "stdout",
     "output_type": "stream",
     "text": [
      "Image and info_dict saved for 1e2d94424f5a9a847f1a7e8eae1ecdd7_0 in /Volumes/Newsmy/FM_dataset/VinDr-Mammo-finding/Test/1e2d94424f5a9a847f1a7e8eae1ecdd7_0\n"
     ]
    },
    {
     "name": "stderr",
     "output_type": "stream",
     "text": [
      " 13%|█▎        | 235/1768 [02:07<19:56,  1.28it/s]"
     ]
    },
    {
     "name": "stdout",
     "output_type": "stream",
     "text": [
      "Image and info_dict saved for 1e4a04c084b4f667c01ef1ec678a640c_0 in /Volumes/Newsmy/FM_dataset/VinDr-Mammo-finding/Train/1e4a04c084b4f667c01ef1ec678a640c_0\n"
     ]
    },
    {
     "name": "stderr",
     "output_type": "stream",
     "text": [
      " 13%|█▎        | 236/1768 [02:08<18:07,  1.41it/s]"
     ]
    },
    {
     "name": "stdout",
     "output_type": "stream",
     "text": [
      "Image and info_dict saved for 1e6d951c061c1e68ca0056aa7af70405_0 in /Volumes/Newsmy/FM_dataset/VinDr-Mammo-finding/Train/1e6d951c061c1e68ca0056aa7af70405_0\n",
      "Image and info_dict saved for 1e6d951c061c1e68ca0056aa7af70405_1 in /Volumes/Newsmy/FM_dataset/VinDr-Mammo-finding/Train/1e6d951c061c1e68ca0056aa7af70405_1\n"
     ]
    },
    {
     "name": "stderr",
     "output_type": "stream",
     "text": [
      " 13%|█▎        | 237/1768 [02:08<15:57,  1.60it/s]"
     ]
    },
    {
     "name": "stdout",
     "output_type": "stream",
     "text": [
      "Image and info_dict saved for 1e7ad5577c2f5e49294f9c3660968910_0 in /Volumes/Newsmy/FM_dataset/VinDr-Mammo-finding/Train/1e7ad5577c2f5e49294f9c3660968910_0\n"
     ]
    },
    {
     "name": "stderr",
     "output_type": "stream",
     "text": [
      " 13%|█▎        | 238/1768 [02:09<14:07,  1.80it/s]"
     ]
    },
    {
     "name": "stdout",
     "output_type": "stream",
     "text": [
      "Image and info_dict saved for 1eaafc26e519dcbb2f561902d3b6af85_0 in /Volumes/Newsmy/FM_dataset/VinDr-Mammo-finding/Test/1eaafc26e519dcbb2f561902d3b6af85_0\n"
     ]
    },
    {
     "name": "stderr",
     "output_type": "stream",
     "text": [
      " 14%|█▎        | 239/1768 [02:09<14:05,  1.81it/s]"
     ]
    },
    {
     "name": "stdout",
     "output_type": "stream",
     "text": [
      "Image and info_dict saved for 1edafb4bb142562da9c6d0ebba585b83_0 in /Volumes/Newsmy/FM_dataset/VinDr-Mammo-finding/Train/1edafb4bb142562da9c6d0ebba585b83_0\n"
     ]
    },
    {
     "name": "stderr",
     "output_type": "stream",
     "text": [
      " 14%|█▎        | 240/1768 [02:10<15:02,  1.69it/s]"
     ]
    },
    {
     "name": "stdout",
     "output_type": "stream",
     "text": [
      "Image and info_dict saved for 1edfbc7b48a507046042a9961755af6a_0 in /Volumes/Newsmy/FM_dataset/VinDr-Mammo-finding/Test/1edfbc7b48a507046042a9961755af6a_0\n"
     ]
    },
    {
     "name": "stderr",
     "output_type": "stream",
     "text": [
      " 14%|█▎        | 241/1768 [02:11<15:42,  1.62it/s]"
     ]
    },
    {
     "name": "stdout",
     "output_type": "stream",
     "text": [
      "Image and info_dict saved for 1f2ad3de97b6d7a4d8f78af09c11b580_0 in /Volumes/Newsmy/FM_dataset/VinDr-Mammo-finding/Test/1f2ad3de97b6d7a4d8f78af09c11b580_0\n",
      "Image and info_dict saved for 1f2ad3de97b6d7a4d8f78af09c11b580_1 in /Volumes/Newsmy/FM_dataset/VinDr-Mammo-finding/Test/1f2ad3de97b6d7a4d8f78af09c11b580_1\n"
     ]
    },
    {
     "name": "stderr",
     "output_type": "stream",
     "text": [
      " 14%|█▎        | 242/1768 [02:11<14:51,  1.71it/s]"
     ]
    },
    {
     "name": "stdout",
     "output_type": "stream",
     "text": [
      "Image and info_dict saved for 1f4905d08a4a71d7791c775fcde2014b_0 in /Volumes/Newsmy/FM_dataset/VinDr-Mammo-finding/Eval/1f4905d08a4a71d7791c775fcde2014b_0\n"
     ]
    },
    {
     "name": "stderr",
     "output_type": "stream",
     "text": [
      " 14%|█▎        | 243/1768 [02:11<13:39,  1.86it/s]"
     ]
    },
    {
     "name": "stdout",
     "output_type": "stream",
     "text": [
      "Image and info_dict saved for 1f4e4c2039476a9884bdd84c20d1484f_0 in /Volumes/Newsmy/FM_dataset/VinDr-Mammo-finding/Train/1f4e4c2039476a9884bdd84c20d1484f_0\n"
     ]
    },
    {
     "name": "stderr",
     "output_type": "stream",
     "text": [
      " 14%|█▍        | 244/1768 [02:12<13:03,  1.95it/s]"
     ]
    },
    {
     "name": "stdout",
     "output_type": "stream",
     "text": [
      "Image and info_dict saved for 1f7105d923abab8db6a92eaa796dea1b_0 in /Volumes/Newsmy/FM_dataset/VinDr-Mammo-finding/Train/1f7105d923abab8db6a92eaa796dea1b_0\n"
     ]
    },
    {
     "name": "stderr",
     "output_type": "stream",
     "text": [
      " 14%|█▍        | 245/1768 [02:12<13:14,  1.92it/s]"
     ]
    },
    {
     "name": "stdout",
     "output_type": "stream",
     "text": [
      "Image and info_dict saved for 1f741efcce7da5f4fcc10378eeeab159_0 in /Volumes/Newsmy/FM_dataset/VinDr-Mammo-finding/Test/1f741efcce7da5f4fcc10378eeeab159_0\n"
     ]
    },
    {
     "name": "stderr",
     "output_type": "stream",
     "text": [
      " 14%|█▍        | 246/1768 [02:13<12:54,  1.96it/s]"
     ]
    },
    {
     "name": "stdout",
     "output_type": "stream",
     "text": [
      "Image and info_dict saved for 1f7810314e30e081e2d81ddb34019cc4_0 in /Volumes/Newsmy/FM_dataset/VinDr-Mammo-finding/Train/1f7810314e30e081e2d81ddb34019cc4_0\n"
     ]
    },
    {
     "name": "stderr",
     "output_type": "stream",
     "text": [
      " 14%|█▍        | 247/1768 [02:13<13:07,  1.93it/s]"
     ]
    },
    {
     "name": "stdout",
     "output_type": "stream",
     "text": [
      "Image and info_dict saved for 1fa586cd078894845bf4a1648232cde7_0 in /Volumes/Newsmy/FM_dataset/VinDr-Mammo-finding/Train/1fa586cd078894845bf4a1648232cde7_0\n",
      "Image and info_dict saved for 1fa586cd078894845bf4a1648232cde7_1 in /Volumes/Newsmy/FM_dataset/VinDr-Mammo-finding/Train/1fa586cd078894845bf4a1648232cde7_1\n"
     ]
    },
    {
     "name": "stderr",
     "output_type": "stream",
     "text": [
      " 14%|█▍        | 248/1768 [02:14<13:01,  1.95it/s]"
     ]
    },
    {
     "name": "stdout",
     "output_type": "stream",
     "text": [
      "Image and info_dict saved for 1fbf74aa3e9be948b0e9b1e73f8b3a9b_0 in /Volumes/Newsmy/FM_dataset/VinDr-Mammo-finding/Test/1fbf74aa3e9be948b0e9b1e73f8b3a9b_0\n"
     ]
    },
    {
     "name": "stderr",
     "output_type": "stream",
     "text": [
      " 14%|█▍        | 249/1768 [02:14<11:45,  2.15it/s]"
     ]
    },
    {
     "name": "stdout",
     "output_type": "stream",
     "text": [
      "Image and info_dict saved for 1fdb46d59513d90e8e1750799d9f8d03_0 in /Volumes/Newsmy/FM_dataset/VinDr-Mammo-finding/Train/1fdb46d59513d90e8e1750799d9f8d03_0\n"
     ]
    },
    {
     "name": "stderr",
     "output_type": "stream",
     "text": [
      " 14%|█▍        | 250/1768 [02:15<12:31,  2.02it/s]"
     ]
    },
    {
     "name": "stdout",
     "output_type": "stream",
     "text": [
      "Image and info_dict saved for 1ffb933b38767a155e5afc94d852bd5b_0 in /Volumes/Newsmy/FM_dataset/VinDr-Mammo-finding/Train/1ffb933b38767a155e5afc94d852bd5b_0\n",
      "Image and info_dict saved for 1ffb933b38767a155e5afc94d852bd5b_1 in /Volumes/Newsmy/FM_dataset/VinDr-Mammo-finding/Train/1ffb933b38767a155e5afc94d852bd5b_1\n"
     ]
    },
    {
     "name": "stderr",
     "output_type": "stream",
     "text": [
      " 14%|█▍        | 251/1768 [02:15<11:55,  2.12it/s]"
     ]
    },
    {
     "name": "stdout",
     "output_type": "stream",
     "text": [
      "Image and info_dict saved for 202d1c29785f6327985ffda7100e2265_0 in /Volumes/Newsmy/FM_dataset/VinDr-Mammo-finding/Test/202d1c29785f6327985ffda7100e2265_0\n"
     ]
    },
    {
     "name": "stderr",
     "output_type": "stream",
     "text": [
      " 14%|█▍        | 252/1768 [02:16<11:10,  2.26it/s]"
     ]
    },
    {
     "name": "stdout",
     "output_type": "stream",
     "text": [
      "Image and info_dict saved for 20ac518bf6370bc7c2b1adcf7377def8_0 in /Volumes/Newsmy/FM_dataset/VinDr-Mammo-finding/Test/20ac518bf6370bc7c2b1adcf7377def8_0\n"
     ]
    },
    {
     "name": "stderr",
     "output_type": "stream",
     "text": [
      " 14%|█▍        | 253/1768 [02:16<11:22,  2.22it/s]"
     ]
    },
    {
     "name": "stdout",
     "output_type": "stream",
     "text": [
      "Image and info_dict saved for 20b4b2c70e6c4e1d4ab6d1b9b9be5308_0 in /Volumes/Newsmy/FM_dataset/VinDr-Mammo-finding/Train/20b4b2c70e6c4e1d4ab6d1b9b9be5308_0\n"
     ]
    },
    {
     "name": "stderr",
     "output_type": "stream",
     "text": [
      " 14%|█▍        | 254/1768 [02:17<12:00,  2.10it/s]"
     ]
    },
    {
     "name": "stdout",
     "output_type": "stream",
     "text": [
      "Image and info_dict saved for 20dfb3774ef8e9ee1fa642dfab995292_0 in /Volumes/Newsmy/FM_dataset/VinDr-Mammo-finding/Train/20dfb3774ef8e9ee1fa642dfab995292_0\n"
     ]
    },
    {
     "name": "stderr",
     "output_type": "stream",
     "text": [
      " 14%|█▍        | 255/1768 [02:17<11:49,  2.13it/s]"
     ]
    },
    {
     "name": "stdout",
     "output_type": "stream",
     "text": [
      "Image and info_dict saved for 20e22b55458ddc1002871f0b10bc0c91_0 in /Volumes/Newsmy/FM_dataset/VinDr-Mammo-finding/Test/20e22b55458ddc1002871f0b10bc0c91_0\n"
     ]
    },
    {
     "name": "stderr",
     "output_type": "stream",
     "text": [
      " 14%|█▍        | 256/1768 [02:18<12:11,  2.07it/s]"
     ]
    },
    {
     "name": "stdout",
     "output_type": "stream",
     "text": [
      "Image and info_dict saved for 20ef0abde078ddde96b03ddb3608e3ec_0 in /Volumes/Newsmy/FM_dataset/VinDr-Mammo-finding/Eval/20ef0abde078ddde96b03ddb3608e3ec_0\n"
     ]
    },
    {
     "name": "stderr",
     "output_type": "stream",
     "text": [
      " 15%|█▍        | 257/1768 [02:19<17:00,  1.48it/s]"
     ]
    },
    {
     "name": "stdout",
     "output_type": "stream",
     "text": [
      "Image and info_dict saved for 212bc03533346819d0c6d449d631f69f_0 in /Volumes/Newsmy/FM_dataset/VinDr-Mammo-finding/Train/212bc03533346819d0c6d449d631f69f_0\n"
     ]
    },
    {
     "name": "stderr",
     "output_type": "stream",
     "text": [
      " 15%|█▍        | 258/1768 [02:19<15:07,  1.66it/s]"
     ]
    },
    {
     "name": "stdout",
     "output_type": "stream",
     "text": [
      "Image and info_dict saved for 215186ee75b38c34499cd0ebadc7ed20_0 in /Volumes/Newsmy/FM_dataset/VinDr-Mammo-finding/Train/215186ee75b38c34499cd0ebadc7ed20_0\n"
     ]
    },
    {
     "name": "stderr",
     "output_type": "stream",
     "text": [
      " 15%|█▍        | 259/1768 [02:20<13:57,  1.80it/s]"
     ]
    },
    {
     "name": "stdout",
     "output_type": "stream",
     "text": [
      "Image and info_dict saved for 2167f4da549862d60f43782cd38fb8ae_0 in /Volumes/Newsmy/FM_dataset/VinDr-Mammo-finding/Train/2167f4da549862d60f43782cd38fb8ae_0\n"
     ]
    },
    {
     "name": "stderr",
     "output_type": "stream",
     "text": [
      " 15%|█▍        | 260/1768 [02:20<12:44,  1.97it/s]"
     ]
    },
    {
     "name": "stdout",
     "output_type": "stream",
     "text": [
      "Image and info_dict saved for 216d7c52e6a86ab26e19b06dac26351c_0 in /Volumes/Newsmy/FM_dataset/VinDr-Mammo-finding/Test/216d7c52e6a86ab26e19b06dac26351c_0\n"
     ]
    },
    {
     "name": "stderr",
     "output_type": "stream",
     "text": [
      " 15%|█▍        | 261/1768 [02:21<12:19,  2.04it/s]"
     ]
    },
    {
     "name": "stdout",
     "output_type": "stream",
     "text": [
      "Image and info_dict saved for 219cc02d369ac35c640f01515fd18704_0 in /Volumes/Newsmy/FM_dataset/VinDr-Mammo-finding/Train/219cc02d369ac35c640f01515fd18704_0\n"
     ]
    },
    {
     "name": "stderr",
     "output_type": "stream",
     "text": [
      " 15%|█▍        | 262/1768 [02:21<13:14,  1.89it/s]"
     ]
    },
    {
     "name": "stdout",
     "output_type": "stream",
     "text": [
      "Image and info_dict saved for 21a78229489f5b35b0b037f678a5cac4_0 in /Volumes/Newsmy/FM_dataset/VinDr-Mammo-finding/Test/21a78229489f5b35b0b037f678a5cac4_0\n",
      "Image and info_dict saved for 21a78229489f5b35b0b037f678a5cac4_1 in /Volumes/Newsmy/FM_dataset/VinDr-Mammo-finding/Test/21a78229489f5b35b0b037f678a5cac4_1\n"
     ]
    },
    {
     "name": "stderr",
     "output_type": "stream",
     "text": [
      " 15%|█▍        | 263/1768 [02:22<18:48,  1.33it/s]"
     ]
    },
    {
     "name": "stdout",
     "output_type": "stream",
     "text": [
      "Image and info_dict saved for 21f6ff86237974dfe61a77e84b77c5c0_0 in /Volumes/Newsmy/FM_dataset/VinDr-Mammo-finding/Train/21f6ff86237974dfe61a77e84b77c5c0_0\n"
     ]
    },
    {
     "name": "stderr",
     "output_type": "stream",
     "text": [
      " 15%|█▍        | 264/1768 [02:23<18:46,  1.33it/s]"
     ]
    },
    {
     "name": "stdout",
     "output_type": "stream",
     "text": [
      "Image and info_dict saved for 223646dfc19e2605828b0262bc68a4db_0 in /Volumes/Newsmy/FM_dataset/VinDr-Mammo-finding/Train/223646dfc19e2605828b0262bc68a4db_0\n"
     ]
    },
    {
     "name": "stderr",
     "output_type": "stream",
     "text": [
      " 15%|█▍        | 265/1768 [02:24<17:33,  1.43it/s]"
     ]
    },
    {
     "name": "stdout",
     "output_type": "stream",
     "text": [
      "Image and info_dict saved for 2239d320d35b1d7ee84c9ad5bc692096_0 in /Volumes/Newsmy/FM_dataset/VinDr-Mammo-finding/Train/2239d320d35b1d7ee84c9ad5bc692096_0\n"
     ]
    },
    {
     "name": "stderr",
     "output_type": "stream",
     "text": [
      " 15%|█▌        | 266/1768 [02:25<19:48,  1.26it/s]"
     ]
    },
    {
     "name": "stdout",
     "output_type": "stream",
     "text": [
      "Image and info_dict saved for 225863035d1c03f3c1cd49f409870fde_0 in /Volumes/Newsmy/FM_dataset/VinDr-Mammo-finding/Test/225863035d1c03f3c1cd49f409870fde_0\n",
      "Image and info_dict saved for 225863035d1c03f3c1cd49f409870fde_1 in /Volumes/Newsmy/FM_dataset/VinDr-Mammo-finding/Test/225863035d1c03f3c1cd49f409870fde_1\n"
     ]
    },
    {
     "name": "stderr",
     "output_type": "stream",
     "text": [
      " 15%|█▌        | 267/1768 [02:25<16:23,  1.53it/s]"
     ]
    },
    {
     "name": "stdout",
     "output_type": "stream",
     "text": [
      "Image and info_dict saved for 225f1e3b1aa1c243f6477229cfe2e81d_0 in /Volumes/Newsmy/FM_dataset/VinDr-Mammo-finding/Train/225f1e3b1aa1c243f6477229cfe2e81d_0\n"
     ]
    },
    {
     "name": "stderr",
     "output_type": "stream",
     "text": [
      " 15%|█▌        | 268/1768 [02:26<14:58,  1.67it/s]"
     ]
    },
    {
     "name": "stdout",
     "output_type": "stream",
     "text": [
      "Image and info_dict saved for 228bbafbc7cd167675e4d534785a56ef_0 in /Volumes/Newsmy/FM_dataset/VinDr-Mammo-finding/Train/228bbafbc7cd167675e4d534785a56ef_0\n"
     ]
    },
    {
     "name": "stderr",
     "output_type": "stream",
     "text": [
      " 15%|█▌        | 269/1768 [02:26<13:42,  1.82it/s]"
     ]
    },
    {
     "name": "stdout",
     "output_type": "stream",
     "text": [
      "Image and info_dict saved for 22d85580030209bd36bf25806adc4b3e_0 in /Volumes/Newsmy/FM_dataset/VinDr-Mammo-finding/Train/22d85580030209bd36bf25806adc4b3e_0\n"
     ]
    },
    {
     "name": "stderr",
     "output_type": "stream",
     "text": [
      " 15%|█▌        | 270/1768 [02:26<12:44,  1.96it/s]"
     ]
    },
    {
     "name": "stdout",
     "output_type": "stream",
     "text": [
      "Image and info_dict saved for 22fba1258f27256a9f1d090b0ddca9c7_0 in /Volumes/Newsmy/FM_dataset/VinDr-Mammo-finding/Train/22fba1258f27256a9f1d090b0ddca9c7_0\n",
      "Image and info_dict saved for 22fba1258f27256a9f1d090b0ddca9c7_1 in /Volumes/Newsmy/FM_dataset/VinDr-Mammo-finding/Train/22fba1258f27256a9f1d090b0ddca9c7_1\n",
      "Image and info_dict saved for 230d88855d53b8edfb4c3cc7ef1248db_0 in /Volumes/Newsmy/FM_dataset/VinDr-Mammo-finding/Test/230d88855d53b8edfb4c3cc7ef1248db_0\n",
      "Image and info_dict saved for 230d88855d53b8edfb4c3cc7ef1248db_1 in /Volumes/Newsmy/FM_dataset/VinDr-Mammo-finding/Test/230d88855d53b8edfb4c3cc7ef1248db_1\n"
     ]
    },
    {
     "name": "stderr",
     "output_type": "stream",
     "text": [
      " 15%|█▌        | 271/1768 [02:27<15:43,  1.59it/s]"
     ]
    },
    {
     "name": "stdout",
     "output_type": "stream",
     "text": [
      "Image and info_dict saved for 230d88855d53b8edfb4c3cc7ef1248db_2 in /Volumes/Newsmy/FM_dataset/VinDr-Mammo-finding/Test/230d88855d53b8edfb4c3cc7ef1248db_2\n",
      "Image and info_dict saved for 230d88855d53b8edfb4c3cc7ef1248db_3 in /Volumes/Newsmy/FM_dataset/VinDr-Mammo-finding/Test/230d88855d53b8edfb4c3cc7ef1248db_3\n"
     ]
    },
    {
     "name": "stderr",
     "output_type": "stream",
     "text": [
      " 15%|█▌        | 272/1768 [02:28<14:34,  1.71it/s]"
     ]
    },
    {
     "name": "stdout",
     "output_type": "stream",
     "text": [
      "Image and info_dict saved for 230e0069cf6710f68b38e0e4ec59a4e4_0 in /Volumes/Newsmy/FM_dataset/VinDr-Mammo-finding/Test/230e0069cf6710f68b38e0e4ec59a4e4_0\n"
     ]
    },
    {
     "name": "stderr",
     "output_type": "stream",
     "text": [
      " 15%|█▌        | 273/1768 [02:28<13:47,  1.81it/s]"
     ]
    },
    {
     "name": "stdout",
     "output_type": "stream",
     "text": [
      "Image and info_dict saved for 2311c127704c6b0cf325d4da697d2b26_0 in /Volumes/Newsmy/FM_dataset/VinDr-Mammo-finding/Train/2311c127704c6b0cf325d4da697d2b26_0\n"
     ]
    },
    {
     "name": "stderr",
     "output_type": "stream",
     "text": [
      " 15%|█▌        | 274/1768 [02:29<13:24,  1.86it/s]"
     ]
    },
    {
     "name": "stdout",
     "output_type": "stream",
     "text": [
      "Image and info_dict saved for 232d42e92fc9445b6e882d8391c3c782_0 in /Volumes/Newsmy/FM_dataset/VinDr-Mammo-finding/Train/232d42e92fc9445b6e882d8391c3c782_0\n"
     ]
    },
    {
     "name": "stderr",
     "output_type": "stream",
     "text": [
      " 16%|█▌        | 275/1768 [02:29<13:49,  1.80it/s]"
     ]
    },
    {
     "name": "stdout",
     "output_type": "stream",
     "text": [
      "Image and info_dict saved for 232f33051c77bd6ce2d185aafe9471a3_0 in /Volumes/Newsmy/FM_dataset/VinDr-Mammo-finding/Train/232f33051c77bd6ce2d185aafe9471a3_0\n",
      "Image and info_dict saved for 232f33051c77bd6ce2d185aafe9471a3_1 in /Volumes/Newsmy/FM_dataset/VinDr-Mammo-finding/Train/232f33051c77bd6ce2d185aafe9471a3_1\n"
     ]
    },
    {
     "name": "stderr",
     "output_type": "stream",
     "text": [
      " 16%|█▌        | 276/1768 [02:30<13:23,  1.86it/s]"
     ]
    },
    {
     "name": "stdout",
     "output_type": "stream",
     "text": [
      "Image and info_dict saved for 233ca7084a75a79608f0225653bf0d83_0 in /Volumes/Newsmy/FM_dataset/VinDr-Mammo-finding/Test/233ca7084a75a79608f0225653bf0d83_0\n"
     ]
    },
    {
     "name": "stderr",
     "output_type": "stream",
     "text": [
      " 16%|█▌        | 277/1768 [02:30<13:16,  1.87it/s]"
     ]
    },
    {
     "name": "stdout",
     "output_type": "stream",
     "text": [
      "Image and info_dict saved for 23b6b19763d617991f1fdaa4cab135c4_0 in /Volumes/Newsmy/FM_dataset/VinDr-Mammo-finding/Train/23b6b19763d617991f1fdaa4cab135c4_0\n"
     ]
    },
    {
     "name": "stderr",
     "output_type": "stream",
     "text": [
      " 16%|█▌        | 278/1768 [02:31<13:00,  1.91it/s]"
     ]
    },
    {
     "name": "stdout",
     "output_type": "stream",
     "text": [
      "Image and info_dict saved for 23edfe4412bf14c73110dec6fdd9e66b_0 in /Volumes/Newsmy/FM_dataset/VinDr-Mammo-finding/Train/23edfe4412bf14c73110dec6fdd9e66b_0\n"
     ]
    },
    {
     "name": "stderr",
     "output_type": "stream",
     "text": [
      " 16%|█▌        | 279/1768 [02:31<13:32,  1.83it/s]"
     ]
    },
    {
     "name": "stdout",
     "output_type": "stream",
     "text": [
      "Image and info_dict saved for 2424a42cd4c30fdb50d63a044055b1ee_0 in /Volumes/Newsmy/FM_dataset/VinDr-Mammo-finding/Train/2424a42cd4c30fdb50d63a044055b1ee_0\n",
      "Image and info_dict saved for 2424a42cd4c30fdb50d63a044055b1ee_1 in /Volumes/Newsmy/FM_dataset/VinDr-Mammo-finding/Train/2424a42cd4c30fdb50d63a044055b1ee_1\n"
     ]
    },
    {
     "name": "stderr",
     "output_type": "stream",
     "text": [
      " 16%|█▌        | 280/1768 [02:32<14:00,  1.77it/s]"
     ]
    },
    {
     "name": "stdout",
     "output_type": "stream",
     "text": [
      "Image and info_dict saved for 242f2cd03a6af087a5d1d7a9a9d3d764_0 in /Volumes/Newsmy/FM_dataset/VinDr-Mammo-finding/Train/242f2cd03a6af087a5d1d7a9a9d3d764_0\n",
      "Image and info_dict saved for 242f2cd03a6af087a5d1d7a9a9d3d764_1 in /Volumes/Newsmy/FM_dataset/VinDr-Mammo-finding/Train/242f2cd03a6af087a5d1d7a9a9d3d764_1\n"
     ]
    },
    {
     "name": "stderr",
     "output_type": "stream",
     "text": [
      " 16%|█▌        | 281/1768 [02:32<12:33,  1.97it/s]"
     ]
    },
    {
     "name": "stdout",
     "output_type": "stream",
     "text": [
      "Image and info_dict saved for 24554a4f939d8c4ec6f710ac98385407_0 in /Volumes/Newsmy/FM_dataset/VinDr-Mammo-finding/Train/24554a4f939d8c4ec6f710ac98385407_0\n"
     ]
    },
    {
     "name": "stderr",
     "output_type": "stream",
     "text": [
      " 16%|█▌        | 282/1768 [02:33<12:07,  2.04it/s]"
     ]
    },
    {
     "name": "stdout",
     "output_type": "stream",
     "text": [
      "Image and info_dict saved for 2461b5dd3a59b501aaea002ab61050f5_0 in /Volumes/Newsmy/FM_dataset/VinDr-Mammo-finding/Eval/2461b5dd3a59b501aaea002ab61050f5_0\n"
     ]
    },
    {
     "name": "stderr",
     "output_type": "stream",
     "text": [
      " 16%|█▌        | 283/1768 [02:33<12:30,  1.98it/s]"
     ]
    },
    {
     "name": "stdout",
     "output_type": "stream",
     "text": [
      "Image and info_dict saved for 248979f8c341862b99d2ab1e40a4efb1_0 in /Volumes/Newsmy/FM_dataset/VinDr-Mammo-finding/Train/248979f8c341862b99d2ab1e40a4efb1_0\n"
     ]
    },
    {
     "name": "stderr",
     "output_type": "stream",
     "text": [
      " 16%|█▌        | 284/1768 [02:34<12:01,  2.06it/s]"
     ]
    },
    {
     "name": "stdout",
     "output_type": "stream",
     "text": [
      "Image and info_dict saved for 24b3529f050a56afb384b30520bc8482_0 in /Volumes/Newsmy/FM_dataset/VinDr-Mammo-finding/Train/24b3529f050a56afb384b30520bc8482_0\n"
     ]
    },
    {
     "name": "stderr",
     "output_type": "stream",
     "text": [
      " 16%|█▌        | 285/1768 [02:34<11:34,  2.14it/s]"
     ]
    },
    {
     "name": "stdout",
     "output_type": "stream",
     "text": [
      "Image and info_dict saved for 24f2397626a9dd77844c30af11d352f0_0 in /Volumes/Newsmy/FM_dataset/VinDr-Mammo-finding/Train/24f2397626a9dd77844c30af11d352f0_0\n"
     ]
    },
    {
     "name": "stderr",
     "output_type": "stream",
     "text": [
      " 16%|█▌        | 286/1768 [02:35<12:04,  2.05it/s]"
     ]
    },
    {
     "name": "stdout",
     "output_type": "stream",
     "text": [
      "Image and info_dict saved for 2524b3039b9f14943744db0d3d8e34dc_0 in /Volumes/Newsmy/FM_dataset/VinDr-Mammo-finding/Eval/2524b3039b9f14943744db0d3d8e34dc_0\n"
     ]
    },
    {
     "name": "stderr",
     "output_type": "stream",
     "text": [
      " 16%|█▌        | 287/1768 [02:35<11:50,  2.08it/s]"
     ]
    },
    {
     "name": "stdout",
     "output_type": "stream",
     "text": [
      "Image and info_dict saved for 2530e73814b6a250140fab195ac789cc_0 in /Volumes/Newsmy/FM_dataset/VinDr-Mammo-finding/Eval/2530e73814b6a250140fab195ac789cc_0\n"
     ]
    },
    {
     "name": "stderr",
     "output_type": "stream",
     "text": [
      " 16%|█▋        | 288/1768 [02:36<11:53,  2.08it/s]"
     ]
    },
    {
     "name": "stdout",
     "output_type": "stream",
     "text": [
      "Image and info_dict saved for 254a67265452f4b67a953c445a71f664_0 in /Volumes/Newsmy/FM_dataset/VinDr-Mammo-finding/Eval/254a67265452f4b67a953c445a71f664_0\n"
     ]
    },
    {
     "name": "stderr",
     "output_type": "stream",
     "text": [
      " 16%|█▋        | 289/1768 [02:36<11:59,  2.06it/s]"
     ]
    },
    {
     "name": "stdout",
     "output_type": "stream",
     "text": [
      "Image and info_dict saved for 255f0dcc5ca3131051e5fc06af99fca9_0 in /Volumes/Newsmy/FM_dataset/VinDr-Mammo-finding/Train/255f0dcc5ca3131051e5fc06af99fca9_0\n"
     ]
    },
    {
     "name": "stderr",
     "output_type": "stream",
     "text": [
      " 16%|█▋        | 290/1768 [02:37<12:03,  2.04it/s]"
     ]
    },
    {
     "name": "stdout",
     "output_type": "stream",
     "text": [
      "Image and info_dict saved for 26370e9d2e597c2748bf674f2e2de853_0 in /Volumes/Newsmy/FM_dataset/VinDr-Mammo-finding/Test/26370e9d2e597c2748bf674f2e2de853_0\n"
     ]
    },
    {
     "name": "stderr",
     "output_type": "stream",
     "text": [
      " 16%|█▋        | 291/1768 [02:37<12:00,  2.05it/s]"
     ]
    },
    {
     "name": "stdout",
     "output_type": "stream",
     "text": [
      "Image and info_dict saved for 264233e448f4ac70a925dca6d1bfb64e_0 in /Volumes/Newsmy/FM_dataset/VinDr-Mammo-finding/Train/264233e448f4ac70a925dca6d1bfb64e_0\n",
      "Image and info_dict saved for 264233e448f4ac70a925dca6d1bfb64e_1 in /Volumes/Newsmy/FM_dataset/VinDr-Mammo-finding/Train/264233e448f4ac70a925dca6d1bfb64e_1\n"
     ]
    },
    {
     "name": "stderr",
     "output_type": "stream",
     "text": [
      " 17%|█▋        | 292/1768 [02:38<10:54,  2.25it/s]"
     ]
    },
    {
     "name": "stdout",
     "output_type": "stream",
     "text": [
      "Image and info_dict saved for 264d5e05c5774d9770eaf74c0483bd50_0 in /Volumes/Newsmy/FM_dataset/VinDr-Mammo-finding/Train/264d5e05c5774d9770eaf74c0483bd50_0\n"
     ]
    },
    {
     "name": "stderr",
     "output_type": "stream",
     "text": [
      " 17%|█▋        | 293/1768 [02:38<11:07,  2.21it/s]"
     ]
    },
    {
     "name": "stdout",
     "output_type": "stream",
     "text": [
      "Image and info_dict saved for 2671a2eff9d050a10d8bebe42e4c9cb9_0 in /Volumes/Newsmy/FM_dataset/VinDr-Mammo-finding/Eval/2671a2eff9d050a10d8bebe42e4c9cb9_0\n"
     ]
    },
    {
     "name": "stderr",
     "output_type": "stream",
     "text": [
      " 17%|█▋        | 294/1768 [02:39<12:27,  1.97it/s]"
     ]
    },
    {
     "name": "stdout",
     "output_type": "stream",
     "text": [
      "Image and info_dict saved for 2682bff9b89f87ca6a9242cbcf4256be_0 in /Volumes/Newsmy/FM_dataset/VinDr-Mammo-finding/Eval/2682bff9b89f87ca6a9242cbcf4256be_0\n",
      "Image and info_dict saved for 2682bff9b89f87ca6a9242cbcf4256be_1 in /Volumes/Newsmy/FM_dataset/VinDr-Mammo-finding/Eval/2682bff9b89f87ca6a9242cbcf4256be_1\n"
     ]
    },
    {
     "name": "stderr",
     "output_type": "stream",
     "text": [
      " 17%|█▋        | 295/1768 [02:39<11:42,  2.10it/s]"
     ]
    },
    {
     "name": "stdout",
     "output_type": "stream",
     "text": [
      "Image and info_dict saved for 26b97f0b7e0c45b51a4a26a0390168e0_0 in /Volumes/Newsmy/FM_dataset/VinDr-Mammo-finding/Train/26b97f0b7e0c45b51a4a26a0390168e0_0\n"
     ]
    },
    {
     "name": "stderr",
     "output_type": "stream",
     "text": [
      " 17%|█▋        | 296/1768 [02:40<13:45,  1.78it/s]"
     ]
    },
    {
     "name": "stdout",
     "output_type": "stream",
     "text": [
      "Image and info_dict saved for 26cc531e126e10d88eec413dcf0a4963_0 in /Volumes/Newsmy/FM_dataset/VinDr-Mammo-finding/Train/26cc531e126e10d88eec413dcf0a4963_0\n"
     ]
    },
    {
     "name": "stderr",
     "output_type": "stream",
     "text": [
      " 17%|█▋        | 297/1768 [02:40<13:34,  1.81it/s]"
     ]
    },
    {
     "name": "stdout",
     "output_type": "stream",
     "text": [
      "Image and info_dict saved for 26dd42f1a4341cdf6feebd22564f8939_0 in /Volumes/Newsmy/FM_dataset/VinDr-Mammo-finding/Train/26dd42f1a4341cdf6feebd22564f8939_0\n"
     ]
    },
    {
     "name": "stderr",
     "output_type": "stream",
     "text": [
      " 17%|█▋        | 298/1768 [02:41<13:41,  1.79it/s]"
     ]
    },
    {
     "name": "stdout",
     "output_type": "stream",
     "text": [
      "Image and info_dict saved for 26eff7e7822b45d98c11fc3e51b46277_0 in /Volumes/Newsmy/FM_dataset/VinDr-Mammo-finding/Test/26eff7e7822b45d98c11fc3e51b46277_0\n"
     ]
    },
    {
     "name": "stderr",
     "output_type": "stream",
     "text": [
      " 17%|█▋        | 299/1768 [02:41<12:38,  1.94it/s]"
     ]
    },
    {
     "name": "stdout",
     "output_type": "stream",
     "text": [
      "Image and info_dict saved for 26f1aa81239b33177321598a0eb599d2_0 in /Volumes/Newsmy/FM_dataset/VinDr-Mammo-finding/Test/26f1aa81239b33177321598a0eb599d2_0\n"
     ]
    },
    {
     "name": "stderr",
     "output_type": "stream",
     "text": [
      " 17%|█▋        | 300/1768 [02:42<12:14,  2.00it/s]"
     ]
    },
    {
     "name": "stdout",
     "output_type": "stream",
     "text": [
      "Image and info_dict saved for 26f6e5023540f64ddfb6ee52114ac3f0_0 in /Volumes/Newsmy/FM_dataset/VinDr-Mammo-finding/Train/26f6e5023540f64ddfb6ee52114ac3f0_0\n"
     ]
    },
    {
     "name": "stderr",
     "output_type": "stream",
     "text": [
      " 17%|█▋        | 301/1768 [02:42<12:13,  2.00it/s]"
     ]
    },
    {
     "name": "stdout",
     "output_type": "stream",
     "text": [
      "Image and info_dict saved for 271e8bfd46adee65f8580092753d08e5_0 in /Volumes/Newsmy/FM_dataset/VinDr-Mammo-finding/Test/271e8bfd46adee65f8580092753d08e5_0\n"
     ]
    },
    {
     "name": "stderr",
     "output_type": "stream",
     "text": [
      " 17%|█▋        | 302/1768 [02:43<11:33,  2.11it/s]"
     ]
    },
    {
     "name": "stdout",
     "output_type": "stream",
     "text": [
      "Image and info_dict saved for 27a35305fa91c508fdb8dc2a7e7978ee_0 in /Volumes/Newsmy/FM_dataset/VinDr-Mammo-finding/Train/27a35305fa91c508fdb8dc2a7e7978ee_0\n"
     ]
    },
    {
     "name": "stderr",
     "output_type": "stream",
     "text": [
      " 17%|█▋        | 303/1768 [02:43<12:01,  2.03it/s]"
     ]
    },
    {
     "name": "stdout",
     "output_type": "stream",
     "text": [
      "Image and info_dict saved for 27a993edd94965c0f8192f3fcec02394_0 in /Volumes/Newsmy/FM_dataset/VinDr-Mammo-finding/Train/27a993edd94965c0f8192f3fcec02394_0\n"
     ]
    },
    {
     "name": "stderr",
     "output_type": "stream",
     "text": [
      " 17%|█▋        | 304/1768 [02:44<12:11,  2.00it/s]"
     ]
    },
    {
     "name": "stdout",
     "output_type": "stream",
     "text": [
      "Image and info_dict saved for 27d9bf4e5b772624325d6232ffc8378a_0 in /Volumes/Newsmy/FM_dataset/VinDr-Mammo-finding/Test/27d9bf4e5b772624325d6232ffc8378a_0\n",
      "Image and info_dict saved for 27d9bf4e5b772624325d6232ffc8378a_1 in /Volumes/Newsmy/FM_dataset/VinDr-Mammo-finding/Test/27d9bf4e5b772624325d6232ffc8378a_1\n"
     ]
    },
    {
     "name": "stderr",
     "output_type": "stream",
     "text": [
      " 17%|█▋        | 305/1768 [02:44<12:05,  2.02it/s]"
     ]
    },
    {
     "name": "stdout",
     "output_type": "stream",
     "text": [
      "Image and info_dict saved for 27e0f42b020e06aafeb8284510da5151_0 in /Volumes/Newsmy/FM_dataset/VinDr-Mammo-finding/Eval/27e0f42b020e06aafeb8284510da5151_0\n"
     ]
    },
    {
     "name": "stderr",
     "output_type": "stream",
     "text": [
      " 17%|█▋        | 306/1768 [02:45<13:11,  1.85it/s]"
     ]
    },
    {
     "name": "stdout",
     "output_type": "stream",
     "text": [
      "Image and info_dict saved for 27f066be252acf8b8be0e058e30b3a1a_0 in /Volumes/Newsmy/FM_dataset/VinDr-Mammo-finding/Train/27f066be252acf8b8be0e058e30b3a1a_0\n",
      "Image and info_dict saved for 27f066be252acf8b8be0e058e30b3a1a_1 in /Volumes/Newsmy/FM_dataset/VinDr-Mammo-finding/Train/27f066be252acf8b8be0e058e30b3a1a_1\n"
     ]
    },
    {
     "name": "stderr",
     "output_type": "stream",
     "text": [
      " 17%|█▋        | 307/1768 [02:45<12:24,  1.96it/s]"
     ]
    },
    {
     "name": "stdout",
     "output_type": "stream",
     "text": [
      "Image and info_dict saved for 27fdb282ea9e69942db9b9917472932d_0 in /Volumes/Newsmy/FM_dataset/VinDr-Mammo-finding/Train/27fdb282ea9e69942db9b9917472932d_0\n"
     ]
    },
    {
     "name": "stderr",
     "output_type": "stream",
     "text": [
      " 17%|█▋        | 308/1768 [02:46<11:47,  2.06it/s]"
     ]
    },
    {
     "name": "stdout",
     "output_type": "stream",
     "text": [
      "Image and info_dict saved for 280656c890a07393bd6db387839a13d7_0 in /Volumes/Newsmy/FM_dataset/VinDr-Mammo-finding/Train/280656c890a07393bd6db387839a13d7_0\n"
     ]
    },
    {
     "name": "stderr",
     "output_type": "stream",
     "text": [
      " 17%|█▋        | 309/1768 [02:46<11:57,  2.03it/s]"
     ]
    },
    {
     "name": "stdout",
     "output_type": "stream",
     "text": [
      "Image and info_dict saved for 283a13f9619b6177a7c389ca6685d715_0 in /Volumes/Newsmy/FM_dataset/VinDr-Mammo-finding/Train/283a13f9619b6177a7c389ca6685d715_0\n"
     ]
    },
    {
     "name": "stderr",
     "output_type": "stream",
     "text": [
      " 18%|█▊        | 310/1768 [02:47<11:21,  2.14it/s]"
     ]
    },
    {
     "name": "stdout",
     "output_type": "stream",
     "text": [
      "Image and info_dict saved for 28b51a1a9847d57a22ee405df1acc82d_0 in /Volumes/Newsmy/FM_dataset/VinDr-Mammo-finding/Train/28b51a1a9847d57a22ee405df1acc82d_0\n"
     ]
    },
    {
     "name": "stderr",
     "output_type": "stream",
     "text": [
      " 18%|█▊        | 311/1768 [02:47<11:51,  2.05it/s]"
     ]
    },
    {
     "name": "stdout",
     "output_type": "stream",
     "text": [
      "Image and info_dict saved for 28dcd7a3b2b76e57eec7de8884ca94dc_0 in /Volumes/Newsmy/FM_dataset/VinDr-Mammo-finding/Train/28dcd7a3b2b76e57eec7de8884ca94dc_0\n"
     ]
    },
    {
     "name": "stderr",
     "output_type": "stream",
     "text": [
      " 18%|█▊        | 312/1768 [02:48<11:25,  2.12it/s]"
     ]
    },
    {
     "name": "stdout",
     "output_type": "stream",
     "text": [
      "Image and info_dict saved for 28df19fab3181eeb9dfcc55be3210f8a_0 in /Volumes/Newsmy/FM_dataset/VinDr-Mammo-finding/Eval/28df19fab3181eeb9dfcc55be3210f8a_0\n"
     ]
    },
    {
     "name": "stderr",
     "output_type": "stream",
     "text": [
      " 18%|█▊        | 313/1768 [02:48<11:45,  2.06it/s]"
     ]
    },
    {
     "name": "stdout",
     "output_type": "stream",
     "text": [
      "Image and info_dict saved for 2909023cb8470072de9368a7b88f17de_0 in /Volumes/Newsmy/FM_dataset/VinDr-Mammo-finding/Train/2909023cb8470072de9368a7b88f17de_0\n"
     ]
    },
    {
     "name": "stderr",
     "output_type": "stream",
     "text": [
      " 18%|█▊        | 314/1768 [02:49<12:09,  1.99it/s]"
     ]
    },
    {
     "name": "stdout",
     "output_type": "stream",
     "text": [
      "Image and info_dict saved for 293f56aa2f38c52c70ed4a92e2f01b46_0 in /Volumes/Newsmy/FM_dataset/VinDr-Mammo-finding/Train/293f56aa2f38c52c70ed4a92e2f01b46_0\n",
      "Image and info_dict saved for 293f56aa2f38c52c70ed4a92e2f01b46_1 in /Volumes/Newsmy/FM_dataset/VinDr-Mammo-finding/Train/293f56aa2f38c52c70ed4a92e2f01b46_1\n"
     ]
    },
    {
     "name": "stderr",
     "output_type": "stream",
     "text": [
      " 18%|█▊        | 315/1768 [02:49<11:54,  2.03it/s]"
     ]
    },
    {
     "name": "stdout",
     "output_type": "stream",
     "text": [
      "Image and info_dict saved for 29409efa3402b9d8f044f04308b5d2d7_0 in /Volumes/Newsmy/FM_dataset/VinDr-Mammo-finding/Train/29409efa3402b9d8f044f04308b5d2d7_0\n"
     ]
    },
    {
     "name": "stderr",
     "output_type": "stream",
     "text": [
      " 18%|█▊        | 316/1768 [02:50<11:39,  2.08it/s]"
     ]
    },
    {
     "name": "stdout",
     "output_type": "stream",
     "text": [
      "Image and info_dict saved for 2973bcf878fad1e9edade25be62602ce_0 in /Volumes/Newsmy/FM_dataset/VinDr-Mammo-finding/Train/2973bcf878fad1e9edade25be62602ce_0\n",
      "Image and info_dict saved for 2973bcf878fad1e9edade25be62602ce_1 in /Volumes/Newsmy/FM_dataset/VinDr-Mammo-finding/Train/2973bcf878fad1e9edade25be62602ce_1\n"
     ]
    },
    {
     "name": "stderr",
     "output_type": "stream",
     "text": [
      " 18%|█▊        | 317/1768 [02:50<11:34,  2.09it/s]"
     ]
    },
    {
     "name": "stdout",
     "output_type": "stream",
     "text": [
      "Image and info_dict saved for 29896919b15b2dd978a36b2f68a5ad93_0 in /Volumes/Newsmy/FM_dataset/VinDr-Mammo-finding/Test/29896919b15b2dd978a36b2f68a5ad93_0\n"
     ]
    },
    {
     "name": "stderr",
     "output_type": "stream",
     "text": [
      " 18%|█▊        | 318/1768 [02:50<10:07,  2.39it/s]"
     ]
    },
    {
     "name": "stdout",
     "output_type": "stream",
     "text": [
      "Image and info_dict saved for 298aba8110e3e2667be23e7f8d188f44_0 in /Volumes/Newsmy/FM_dataset/VinDr-Mammo-finding/Eval/298aba8110e3e2667be23e7f8d188f44_0\n"
     ]
    },
    {
     "name": "stderr",
     "output_type": "stream",
     "text": [
      " 18%|█▊        | 319/1768 [02:51<10:36,  2.28it/s]"
     ]
    },
    {
     "name": "stdout",
     "output_type": "stream",
     "text": [
      "Image and info_dict saved for 29c0834b48a96abe9d002778c55e698e_0 in /Volumes/Newsmy/FM_dataset/VinDr-Mammo-finding/Train/29c0834b48a96abe9d002778c55e698e_0\n"
     ]
    },
    {
     "name": "stderr",
     "output_type": "stream",
     "text": [
      " 18%|█▊        | 320/1768 [02:52<13:07,  1.84it/s]"
     ]
    },
    {
     "name": "stdout",
     "output_type": "stream",
     "text": [
      "Image and info_dict saved for 29fa27705317bd108ed3b927fdc4e3a0_0 in /Volumes/Newsmy/FM_dataset/VinDr-Mammo-finding/Train/29fa27705317bd108ed3b927fdc4e3a0_0\n"
     ]
    },
    {
     "name": "stderr",
     "output_type": "stream",
     "text": [
      " 18%|█▊        | 321/1768 [02:52<12:48,  1.88it/s]"
     ]
    },
    {
     "name": "stdout",
     "output_type": "stream",
     "text": [
      "Image and info_dict saved for 2a04163be4ae7d6f70732904202cc934_0 in /Volumes/Newsmy/FM_dataset/VinDr-Mammo-finding/Train/2a04163be4ae7d6f70732904202cc934_0\n",
      "Image and info_dict saved for 2a04163be4ae7d6f70732904202cc934_1 in /Volumes/Newsmy/FM_dataset/VinDr-Mammo-finding/Train/2a04163be4ae7d6f70732904202cc934_1\n"
     ]
    },
    {
     "name": "stderr",
     "output_type": "stream",
     "text": [
      " 18%|█▊        | 322/1768 [02:53<12:37,  1.91it/s]"
     ]
    },
    {
     "name": "stdout",
     "output_type": "stream",
     "text": [
      "Image and info_dict saved for 2a67cf5f900de22b0c45fb2c1d55dba4_0 in /Volumes/Newsmy/FM_dataset/VinDr-Mammo-finding/Train/2a67cf5f900de22b0c45fb2c1d55dba4_0\n"
     ]
    },
    {
     "name": "stderr",
     "output_type": "stream",
     "text": [
      " 18%|█▊        | 323/1768 [02:53<12:23,  1.94it/s]"
     ]
    },
    {
     "name": "stdout",
     "output_type": "stream",
     "text": [
      "Image and info_dict saved for 2ad344496bc6f2d91c27f501be133971_0 in /Volumes/Newsmy/FM_dataset/VinDr-Mammo-finding/Test/2ad344496bc6f2d91c27f501be133971_0\n"
     ]
    },
    {
     "name": "stderr",
     "output_type": "stream",
     "text": [
      " 18%|█▊        | 324/1768 [02:54<12:13,  1.97it/s]"
     ]
    },
    {
     "name": "stdout",
     "output_type": "stream",
     "text": [
      "Image and info_dict saved for 2b0eb970545cbf5906c79da0ee8ab1d6_0 in /Volumes/Newsmy/FM_dataset/VinDr-Mammo-finding/Train/2b0eb970545cbf5906c79da0ee8ab1d6_0\n"
     ]
    },
    {
     "name": "stderr",
     "output_type": "stream",
     "text": [
      " 18%|█▊        | 325/1768 [02:54<12:05,  1.99it/s]"
     ]
    },
    {
     "name": "stdout",
     "output_type": "stream",
     "text": [
      "Image and info_dict saved for 2b217e87073f6ea171ab6d5e2034aae3_0 in /Volumes/Newsmy/FM_dataset/VinDr-Mammo-finding/Test/2b217e87073f6ea171ab6d5e2034aae3_0\n"
     ]
    },
    {
     "name": "stderr",
     "output_type": "stream",
     "text": [
      " 18%|█▊        | 326/1768 [02:55<12:18,  1.95it/s]"
     ]
    },
    {
     "name": "stdout",
     "output_type": "stream",
     "text": [
      "Image and info_dict saved for 2b46a6fc2c076cfc187b385f6a6f40e6_0 in /Volumes/Newsmy/FM_dataset/VinDr-Mammo-finding/Train/2b46a6fc2c076cfc187b385f6a6f40e6_0\n",
      "Image and info_dict saved for 2b46a6fc2c076cfc187b385f6a6f40e6_1 in /Volumes/Newsmy/FM_dataset/VinDr-Mammo-finding/Train/2b46a6fc2c076cfc187b385f6a6f40e6_1\n"
     ]
    },
    {
     "name": "stderr",
     "output_type": "stream",
     "text": [
      " 18%|█▊        | 327/1768 [02:55<10:56,  2.19it/s]"
     ]
    },
    {
     "name": "stdout",
     "output_type": "stream",
     "text": [
      "Image and info_dict saved for 2b5cec9cad04a6c5eaf1cd2ec2e7a6f2_0 in /Volumes/Newsmy/FM_dataset/VinDr-Mammo-finding/Train/2b5cec9cad04a6c5eaf1cd2ec2e7a6f2_0\n"
     ]
    },
    {
     "name": "stderr",
     "output_type": "stream",
     "text": [
      " 19%|█▊        | 328/1768 [02:56<11:17,  2.12it/s]"
     ]
    },
    {
     "name": "stdout",
     "output_type": "stream",
     "text": [
      "Image and info_dict saved for 2b76a18e45c8e62db919403c6c526ec4_0 in /Volumes/Newsmy/FM_dataset/VinDr-Mammo-finding/Train/2b76a18e45c8e62db919403c6c526ec4_0\n"
     ]
    },
    {
     "name": "stderr",
     "output_type": "stream",
     "text": [
      " 19%|█▊        | 329/1768 [02:56<11:09,  2.15it/s]"
     ]
    },
    {
     "name": "stdout",
     "output_type": "stream",
     "text": [
      "Image and info_dict saved for 2b7c87128f56b5f9d9a51aac8c8992bf_0 in /Volumes/Newsmy/FM_dataset/VinDr-Mammo-finding/Train/2b7c87128f56b5f9d9a51aac8c8992bf_0\n"
     ]
    },
    {
     "name": "stderr",
     "output_type": "stream",
     "text": [
      " 19%|█▊        | 330/1768 [02:57<12:18,  1.95it/s]"
     ]
    },
    {
     "name": "stdout",
     "output_type": "stream",
     "text": [
      "Image and info_dict saved for 2bb31d34320c4d1005371802dcac319c_0 in /Volumes/Newsmy/FM_dataset/VinDr-Mammo-finding/Train/2bb31d34320c4d1005371802dcac319c_0\n",
      "Image and info_dict saved for 2bb31d34320c4d1005371802dcac319c_1 in /Volumes/Newsmy/FM_dataset/VinDr-Mammo-finding/Train/2bb31d34320c4d1005371802dcac319c_1\n"
     ]
    },
    {
     "name": "stderr",
     "output_type": "stream",
     "text": [
      " 19%|█▊        | 331/1768 [02:57<13:08,  1.82it/s]"
     ]
    },
    {
     "name": "stdout",
     "output_type": "stream",
     "text": [
      "Image and info_dict saved for 2bbe58aab434b2a6af7e873ca9adc56d_0 in /Volumes/Newsmy/FM_dataset/VinDr-Mammo-finding/Train/2bbe58aab434b2a6af7e873ca9adc56d_0\n"
     ]
    },
    {
     "name": "stderr",
     "output_type": "stream",
     "text": [
      " 19%|█▉        | 332/1768 [02:58<12:26,  1.92it/s]"
     ]
    },
    {
     "name": "stdout",
     "output_type": "stream",
     "text": [
      "Image and info_dict saved for 2bc1c6df1d38102593cdbc50610d2010_0 in /Volumes/Newsmy/FM_dataset/VinDr-Mammo-finding/Test/2bc1c6df1d38102593cdbc50610d2010_0\n"
     ]
    },
    {
     "name": "stderr",
     "output_type": "stream",
     "text": [
      " 19%|█▉        | 333/1768 [02:58<11:50,  2.02it/s]"
     ]
    },
    {
     "name": "stdout",
     "output_type": "stream",
     "text": [
      "Image and info_dict saved for 2bc80ebd58505c88bf1fc81b72c4fa42_0 in /Volumes/Newsmy/FM_dataset/VinDr-Mammo-finding/Test/2bc80ebd58505c88bf1fc81b72c4fa42_0\n"
     ]
    },
    {
     "name": "stderr",
     "output_type": "stream",
     "text": [
      " 19%|█▉        | 334/1768 [02:59<11:44,  2.03it/s]"
     ]
    },
    {
     "name": "stdout",
     "output_type": "stream",
     "text": [
      "Image and info_dict saved for 2c306291f9e1e5e34e1c391cdb828280_0 in /Volumes/Newsmy/FM_dataset/VinDr-Mammo-finding/Train/2c306291f9e1e5e34e1c391cdb828280_0\n"
     ]
    },
    {
     "name": "stderr",
     "output_type": "stream",
     "text": [
      " 19%|█▉        | 335/1768 [02:59<11:14,  2.13it/s]"
     ]
    },
    {
     "name": "stdout",
     "output_type": "stream",
     "text": [
      "Image and info_dict saved for 2c57ca33256d3d97b905ef932f8ba268_0 in /Volumes/Newsmy/FM_dataset/VinDr-Mammo-finding/Train/2c57ca33256d3d97b905ef932f8ba268_0\n"
     ]
    },
    {
     "name": "stderr",
     "output_type": "stream",
     "text": [
      " 19%|█▉        | 336/1768 [03:00<13:21,  1.79it/s]"
     ]
    },
    {
     "name": "stdout",
     "output_type": "stream",
     "text": [
      "Image and info_dict saved for 2c9849db92a18f7cbeb2aed9d5d3ca07_0 in /Volumes/Newsmy/FM_dataset/VinDr-Mammo-finding/Train/2c9849db92a18f7cbeb2aed9d5d3ca07_0\n"
     ]
    },
    {
     "name": "stderr",
     "output_type": "stream",
     "text": [
      " 19%|█▉        | 337/1768 [03:00<12:15,  1.94it/s]"
     ]
    },
    {
     "name": "stdout",
     "output_type": "stream",
     "text": [
      "Image and info_dict saved for 2ca0998e6341d541e8df5927807f51bc_0 in /Volumes/Newsmy/FM_dataset/VinDr-Mammo-finding/Eval/2ca0998e6341d541e8df5927807f51bc_0\n"
     ]
    },
    {
     "name": "stderr",
     "output_type": "stream",
     "text": [
      " 19%|█▉        | 338/1768 [03:01<11:31,  2.07it/s]"
     ]
    },
    {
     "name": "stdout",
     "output_type": "stream",
     "text": [
      "Image and info_dict saved for 2ccefd9e7701acf52c92275e844f7578_0 in /Volumes/Newsmy/FM_dataset/VinDr-Mammo-finding/Train/2ccefd9e7701acf52c92275e844f7578_0\n"
     ]
    },
    {
     "name": "stderr",
     "output_type": "stream",
     "text": [
      " 19%|█▉        | 339/1768 [03:01<11:17,  2.11it/s]"
     ]
    },
    {
     "name": "stdout",
     "output_type": "stream",
     "text": [
      "Image and info_dict saved for 2cdaf7cffadd4275836b8e68f74636cd_0 in /Volumes/Newsmy/FM_dataset/VinDr-Mammo-finding/Train/2cdaf7cffadd4275836b8e68f74636cd_0\n"
     ]
    },
    {
     "name": "stderr",
     "output_type": "stream",
     "text": [
      " 19%|█▉        | 340/1768 [03:02<10:48,  2.20it/s]"
     ]
    },
    {
     "name": "stdout",
     "output_type": "stream",
     "text": [
      "Image and info_dict saved for 2ce389a2252ceb3a87a7be9a14721692_0 in /Volumes/Newsmy/FM_dataset/VinDr-Mammo-finding/Test/2ce389a2252ceb3a87a7be9a14721692_0\n"
     ]
    },
    {
     "name": "stderr",
     "output_type": "stream",
     "text": [
      " 19%|█▉        | 341/1768 [03:02<12:05,  1.97it/s]"
     ]
    },
    {
     "name": "stdout",
     "output_type": "stream",
     "text": [
      "Image and info_dict saved for 2da549c2cac035213321043570aaf5a4_0 in /Volumes/Newsmy/FM_dataset/VinDr-Mammo-finding/Train/2da549c2cac035213321043570aaf5a4_0\n"
     ]
    },
    {
     "name": "stderr",
     "output_type": "stream",
     "text": [
      " 19%|█▉        | 342/1768 [03:03<10:49,  2.20it/s]"
     ]
    },
    {
     "name": "stdout",
     "output_type": "stream",
     "text": [
      "Image and info_dict saved for 2daca5fbd617d1a692439c5133e1968d_0 in /Volumes/Newsmy/FM_dataset/VinDr-Mammo-finding/Train/2daca5fbd617d1a692439c5133e1968d_0\n"
     ]
    },
    {
     "name": "stderr",
     "output_type": "stream",
     "text": [
      " 19%|█▉        | 343/1768 [03:03<11:09,  2.13it/s]"
     ]
    },
    {
     "name": "stdout",
     "output_type": "stream",
     "text": [
      "Image and info_dict saved for 2e62eeadcca2218c0aba4f2921a27153_0 in /Volumes/Newsmy/FM_dataset/VinDr-Mammo-finding/Test/2e62eeadcca2218c0aba4f2921a27153_0\n"
     ]
    },
    {
     "name": "stderr",
     "output_type": "stream",
     "text": [
      " 19%|█▉        | 344/1768 [03:03<10:55,  2.17it/s]"
     ]
    },
    {
     "name": "stdout",
     "output_type": "stream",
     "text": [
      "Image and info_dict saved for 2ee7f36fd6e157b40d4f0326f6fcc0d2_0 in /Volumes/Newsmy/FM_dataset/VinDr-Mammo-finding/Train/2ee7f36fd6e157b40d4f0326f6fcc0d2_0\n"
     ]
    },
    {
     "name": "stderr",
     "output_type": "stream",
     "text": [
      " 20%|█▉        | 345/1768 [03:05<15:20,  1.55it/s]"
     ]
    },
    {
     "name": "stdout",
     "output_type": "stream",
     "text": [
      "Image and info_dict saved for 2ef3b7beac25dd7db4a75e18e9e59d59_0 in /Volumes/Newsmy/FM_dataset/VinDr-Mammo-finding/Test/2ef3b7beac25dd7db4a75e18e9e59d59_0\n"
     ]
    },
    {
     "name": "stderr",
     "output_type": "stream",
     "text": [
      " 20%|█▉        | 346/1768 [03:05<15:48,  1.50it/s]"
     ]
    },
    {
     "name": "stdout",
     "output_type": "stream",
     "text": [
      "Image and info_dict saved for 2efae215d67dd0ac64bc98a92e4be461_0 in /Volumes/Newsmy/FM_dataset/VinDr-Mammo-finding/Train/2efae215d67dd0ac64bc98a92e4be461_0\n",
      "Image and info_dict saved for 2efae215d67dd0ac64bc98a92e4be461_1 in /Volumes/Newsmy/FM_dataset/VinDr-Mammo-finding/Train/2efae215d67dd0ac64bc98a92e4be461_1\n"
     ]
    },
    {
     "name": "stderr",
     "output_type": "stream",
     "text": [
      " 20%|█▉        | 347/1768 [03:06<14:16,  1.66it/s]"
     ]
    },
    {
     "name": "stdout",
     "output_type": "stream",
     "text": [
      "Image and info_dict saved for 2f0b2326c2f683baa25cb96d8e05ea64_0 in /Volumes/Newsmy/FM_dataset/VinDr-Mammo-finding/Train/2f0b2326c2f683baa25cb96d8e05ea64_0\n"
     ]
    },
    {
     "name": "stderr",
     "output_type": "stream",
     "text": [
      " 20%|█▉        | 348/1768 [03:06<14:14,  1.66it/s]"
     ]
    },
    {
     "name": "stdout",
     "output_type": "stream",
     "text": [
      "Image and info_dict saved for 2f11b93c073630fc866ebd61708c49c5_0 in /Volumes/Newsmy/FM_dataset/VinDr-Mammo-finding/Train/2f11b93c073630fc866ebd61708c49c5_0\n"
     ]
    },
    {
     "name": "stderr",
     "output_type": "stream",
     "text": [
      " 20%|█▉        | 349/1768 [03:07<13:45,  1.72it/s]"
     ]
    },
    {
     "name": "stdout",
     "output_type": "stream",
     "text": [
      "Image and info_dict saved for 2f48022a49d11be37b6b391fbc5bc47c_0 in /Volumes/Newsmy/FM_dataset/VinDr-Mammo-finding/Train/2f48022a49d11be37b6b391fbc5bc47c_0\n"
     ]
    },
    {
     "name": "stderr",
     "output_type": "stream",
     "text": [
      " 20%|█▉        | 350/1768 [03:07<12:30,  1.89it/s]"
     ]
    },
    {
     "name": "stdout",
     "output_type": "stream",
     "text": [
      "Image and info_dict saved for 2f51ad43272ff8e8d2070cd4f3763c48_0 in /Volumes/Newsmy/FM_dataset/VinDr-Mammo-finding/Train/2f51ad43272ff8e8d2070cd4f3763c48_0\n"
     ]
    },
    {
     "name": "stderr",
     "output_type": "stream",
     "text": [
      " 20%|█▉        | 351/1768 [03:08<11:58,  1.97it/s]"
     ]
    },
    {
     "name": "stdout",
     "output_type": "stream",
     "text": [
      "Image and info_dict saved for 2f53aaf3a5df96e66bdcf98d9f770d1e_0 in /Volumes/Newsmy/FM_dataset/VinDr-Mammo-finding/Test/2f53aaf3a5df96e66bdcf98d9f770d1e_0\n"
     ]
    },
    {
     "name": "stderr",
     "output_type": "stream",
     "text": [
      " 20%|█▉        | 352/1768 [03:08<12:21,  1.91it/s]"
     ]
    },
    {
     "name": "stdout",
     "output_type": "stream",
     "text": [
      "Image and info_dict saved for 2f944efb1cb9579442df2d7fe6a579b7_0 in /Volumes/Newsmy/FM_dataset/VinDr-Mammo-finding/Test/2f944efb1cb9579442df2d7fe6a579b7_0\n"
     ]
    },
    {
     "name": "stderr",
     "output_type": "stream",
     "text": [
      " 20%|█▉        | 353/1768 [03:09<12:03,  1.96it/s]"
     ]
    },
    {
     "name": "stdout",
     "output_type": "stream",
     "text": [
      "Image and info_dict saved for 2f9a9468e908a35fb3c29fba6ecce60c_0 in /Volumes/Newsmy/FM_dataset/VinDr-Mammo-finding/Test/2f9a9468e908a35fb3c29fba6ecce60c_0\n"
     ]
    },
    {
     "name": "stderr",
     "output_type": "stream",
     "text": [
      " 20%|██        | 354/1768 [03:09<10:42,  2.20it/s]"
     ]
    },
    {
     "name": "stdout",
     "output_type": "stream",
     "text": [
      "Image and info_dict saved for 2f9ab025b47b8ea002694ae047aa5cc2_0 in /Volumes/Newsmy/FM_dataset/VinDr-Mammo-finding/Train/2f9ab025b47b8ea002694ae047aa5cc2_0\n",
      "Image and info_dict saved for 2fc787f72bfa6b6c0bbc0a85413c8a9f_0 in /Volumes/Newsmy/FM_dataset/VinDr-Mammo-finding/Test/2fc787f72bfa6b6c0bbc0a85413c8a9f_0\n",
      "Image and info_dict saved for 2fc787f72bfa6b6c0bbc0a85413c8a9f_1 in /Volumes/Newsmy/FM_dataset/VinDr-Mammo-finding/Test/2fc787f72bfa6b6c0bbc0a85413c8a9f_1\n"
     ]
    },
    {
     "name": "stderr",
     "output_type": "stream",
     "text": [
      " 20%|██        | 355/1768 [03:10<13:29,  1.75it/s]"
     ]
    },
    {
     "name": "stdout",
     "output_type": "stream",
     "text": [
      "Image and info_dict saved for 2fc787f72bfa6b6c0bbc0a85413c8a9f_2 in /Volumes/Newsmy/FM_dataset/VinDr-Mammo-finding/Test/2fc787f72bfa6b6c0bbc0a85413c8a9f_2\n",
      "Image and info_dict saved for 2fc787f72bfa6b6c0bbc0a85413c8a9f_3 in /Volumes/Newsmy/FM_dataset/VinDr-Mammo-finding/Test/2fc787f72bfa6b6c0bbc0a85413c8a9f_3\n"
     ]
    },
    {
     "name": "stderr",
     "output_type": "stream",
     "text": [
      " 20%|██        | 356/1768 [03:10<13:18,  1.77it/s]"
     ]
    },
    {
     "name": "stdout",
     "output_type": "stream",
     "text": [
      "Image and info_dict saved for 2feab51140b38f9ec90e17b7006501b2_0 in /Volumes/Newsmy/FM_dataset/VinDr-Mammo-finding/Train/2feab51140b38f9ec90e17b7006501b2_0\n"
     ]
    },
    {
     "name": "stderr",
     "output_type": "stream",
     "text": [
      " 20%|██        | 357/1768 [03:11<12:25,  1.89it/s]"
     ]
    },
    {
     "name": "stdout",
     "output_type": "stream",
     "text": [
      "Image and info_dict saved for 3003a43c012e3e7c754151b4b578f90b_0 in /Volumes/Newsmy/FM_dataset/VinDr-Mammo-finding/Train/3003a43c012e3e7c754151b4b578f90b_0\n"
     ]
    },
    {
     "name": "stderr",
     "output_type": "stream",
     "text": [
      " 20%|██        | 358/1768 [03:12<13:18,  1.77it/s]"
     ]
    },
    {
     "name": "stdout",
     "output_type": "stream",
     "text": [
      "Image and info_dict saved for 3047456544795c193f2f5a12db464ced_0 in /Volumes/Newsmy/FM_dataset/VinDr-Mammo-finding/Train/3047456544795c193f2f5a12db464ced_0\n"
     ]
    },
    {
     "name": "stderr",
     "output_type": "stream",
     "text": [
      " 20%|██        | 359/1768 [03:12<13:39,  1.72it/s]"
     ]
    },
    {
     "name": "stdout",
     "output_type": "stream",
     "text": [
      "Image and info_dict saved for 3063104074c2aa4f5f2b31c7fd2a2040_0 in /Volumes/Newsmy/FM_dataset/VinDr-Mammo-finding/Train/3063104074c2aa4f5f2b31c7fd2a2040_0\n"
     ]
    },
    {
     "name": "stderr",
     "output_type": "stream",
     "text": [
      " 20%|██        | 360/1768 [03:13<12:34,  1.87it/s]"
     ]
    },
    {
     "name": "stdout",
     "output_type": "stream",
     "text": [
      "Image and info_dict saved for 3067b317b88697b45e336a9e1a481021_0 in /Volumes/Newsmy/FM_dataset/VinDr-Mammo-finding/Train/3067b317b88697b45e336a9e1a481021_0\n"
     ]
    },
    {
     "name": "stderr",
     "output_type": "stream",
     "text": [
      " 20%|██        | 361/1768 [03:13<11:48,  1.99it/s]"
     ]
    },
    {
     "name": "stdout",
     "output_type": "stream",
     "text": [
      "Image and info_dict saved for 30caea823462601262e5d393e6d0312a_0 in /Volumes/Newsmy/FM_dataset/VinDr-Mammo-finding/Eval/30caea823462601262e5d393e6d0312a_0\n"
     ]
    },
    {
     "name": "stderr",
     "output_type": "stream",
     "text": [
      " 20%|██        | 362/1768 [03:14<13:50,  1.69it/s]"
     ]
    },
    {
     "name": "stdout",
     "output_type": "stream",
     "text": [
      "Image and info_dict saved for 313c8967c8e806bb1bbc738f1469d133_0 in /Volumes/Newsmy/FM_dataset/VinDr-Mammo-finding/Train/313c8967c8e806bb1bbc738f1469d133_0\n"
     ]
    },
    {
     "name": "stderr",
     "output_type": "stream",
     "text": [
      " 21%|██        | 363/1768 [03:14<12:58,  1.81it/s]"
     ]
    },
    {
     "name": "stdout",
     "output_type": "stream",
     "text": [
      "Image and info_dict saved for 31573a0308d41e44ed826b9a15e6af94_0 in /Volumes/Newsmy/FM_dataset/VinDr-Mammo-finding/Train/31573a0308d41e44ed826b9a15e6af94_0\n"
     ]
    },
    {
     "name": "stderr",
     "output_type": "stream",
     "text": [
      " 21%|██        | 364/1768 [03:15<12:57,  1.81it/s]"
     ]
    },
    {
     "name": "stdout",
     "output_type": "stream",
     "text": [
      "Image and info_dict saved for 318264c881bf12f2c1efe5f93920cc37_0 in /Volumes/Newsmy/FM_dataset/VinDr-Mammo-finding/Train/318264c881bf12f2c1efe5f93920cc37_0\n"
     ]
    },
    {
     "name": "stderr",
     "output_type": "stream",
     "text": [
      " 21%|██        | 365/1768 [03:15<11:14,  2.08it/s]"
     ]
    },
    {
     "name": "stdout",
     "output_type": "stream",
     "text": [
      "Image and info_dict saved for 31b7ac12bfdae5f0a7b484464aaba81c_0 in /Volumes/Newsmy/FM_dataset/VinDr-Mammo-finding/Eval/31b7ac12bfdae5f0a7b484464aaba81c_0\n"
     ]
    },
    {
     "name": "stderr",
     "output_type": "stream",
     "text": [
      " 21%|██        | 366/1768 [03:16<11:47,  1.98it/s]"
     ]
    },
    {
     "name": "stdout",
     "output_type": "stream",
     "text": [
      "Image and info_dict saved for 31c3acc9ef4579964abea92c254709a4_0 in /Volumes/Newsmy/FM_dataset/VinDr-Mammo-finding/Test/31c3acc9ef4579964abea92c254709a4_0\n"
     ]
    },
    {
     "name": "stderr",
     "output_type": "stream",
     "text": [
      " 21%|██        | 367/1768 [03:16<11:25,  2.04it/s]"
     ]
    },
    {
     "name": "stdout",
     "output_type": "stream",
     "text": [
      "Image and info_dict saved for 31ccd1481d89aa41bddf4a66c7a5c007_0 in /Volumes/Newsmy/FM_dataset/VinDr-Mammo-finding/Test/31ccd1481d89aa41bddf4a66c7a5c007_0\n"
     ]
    },
    {
     "name": "stderr",
     "output_type": "stream",
     "text": [
      " 21%|██        | 368/1768 [03:17<11:34,  2.01it/s]"
     ]
    },
    {
     "name": "stdout",
     "output_type": "stream",
     "text": [
      "Image and info_dict saved for 31fcc94f3079f2b234c6e4304ab540e3_0 in /Volumes/Newsmy/FM_dataset/VinDr-Mammo-finding/Test/31fcc94f3079f2b234c6e4304ab540e3_0\n",
      "Image and info_dict saved for 3249215304caf281062d80f4b3798634_0 in /Volumes/Newsmy/FM_dataset/VinDr-Mammo-finding/Train/3249215304caf281062d80f4b3798634_0\n",
      "Image and info_dict saved for 3249215304caf281062d80f4b3798634_1 in /Volumes/Newsmy/FM_dataset/VinDr-Mammo-finding/Train/3249215304caf281062d80f4b3798634_1\n"
     ]
    },
    {
     "name": "stderr",
     "output_type": "stream",
     "text": [
      " 21%|██        | 369/1768 [03:17<13:19,  1.75it/s]"
     ]
    },
    {
     "name": "stdout",
     "output_type": "stream",
     "text": [
      "Image and info_dict saved for 3249215304caf281062d80f4b3798634_2 in /Volumes/Newsmy/FM_dataset/VinDr-Mammo-finding/Train/3249215304caf281062d80f4b3798634_2\n"
     ]
    },
    {
     "name": "stderr",
     "output_type": "stream",
     "text": [
      " 21%|██        | 370/1768 [03:18<14:04,  1.66it/s]"
     ]
    },
    {
     "name": "stdout",
     "output_type": "stream",
     "text": [
      "Image and info_dict saved for 32778aee1d68f09b110dcca3ea5a549e_0 in /Volumes/Newsmy/FM_dataset/VinDr-Mammo-finding/Train/32778aee1d68f09b110dcca3ea5a549e_0\n"
     ]
    },
    {
     "name": "stderr",
     "output_type": "stream",
     "text": [
      " 21%|██        | 371/1768 [03:19<12:55,  1.80it/s]"
     ]
    },
    {
     "name": "stdout",
     "output_type": "stream",
     "text": [
      "Image and info_dict saved for 32aee5744779b09f3d55c07435c8c9e3_0 in /Volumes/Newsmy/FM_dataset/VinDr-Mammo-finding/Train/32aee5744779b09f3d55c07435c8c9e3_0\n"
     ]
    },
    {
     "name": "stderr",
     "output_type": "stream",
     "text": [
      " 21%|██        | 372/1768 [03:19<12:46,  1.82it/s]"
     ]
    },
    {
     "name": "stdout",
     "output_type": "stream",
     "text": [
      "Image and info_dict saved for 32c871fc00d74fda13141bdb757e0304_0 in /Volumes/Newsmy/FM_dataset/VinDr-Mammo-finding/Test/32c871fc00d74fda13141bdb757e0304_0\n"
     ]
    },
    {
     "name": "stderr",
     "output_type": "stream",
     "text": [
      " 21%|██        | 373/1768 [03:20<12:18,  1.89it/s]"
     ]
    },
    {
     "name": "stdout",
     "output_type": "stream",
     "text": [
      "Image and info_dict saved for 32fd6c0713eddb4f767f9e80aad2d43e_0 in /Volumes/Newsmy/FM_dataset/VinDr-Mammo-finding/Train/32fd6c0713eddb4f767f9e80aad2d43e_0\n"
     ]
    },
    {
     "name": "stderr",
     "output_type": "stream",
     "text": [
      " 21%|██        | 374/1768 [03:20<13:12,  1.76it/s]"
     ]
    },
    {
     "name": "stdout",
     "output_type": "stream",
     "text": [
      "Image and info_dict saved for 3314474605ef3a67c309ff763c851713_0 in /Volumes/Newsmy/FM_dataset/VinDr-Mammo-finding/Train/3314474605ef3a67c309ff763c851713_0\n"
     ]
    },
    {
     "name": "stderr",
     "output_type": "stream",
     "text": [
      " 21%|██        | 375/1768 [03:21<13:43,  1.69it/s]"
     ]
    },
    {
     "name": "stdout",
     "output_type": "stream",
     "text": [
      "Image and info_dict saved for 333c3fdb0ea842b3c4e4d799b5ea44e5_0 in /Volumes/Newsmy/FM_dataset/VinDr-Mammo-finding/Test/333c3fdb0ea842b3c4e4d799b5ea44e5_0\n",
      "Image and info_dict saved for 333c3fdb0ea842b3c4e4d799b5ea44e5_1 in /Volumes/Newsmy/FM_dataset/VinDr-Mammo-finding/Test/333c3fdb0ea842b3c4e4d799b5ea44e5_1\n"
     ]
    },
    {
     "name": "stderr",
     "output_type": "stream",
     "text": [
      " 21%|██▏       | 376/1768 [03:22<17:53,  1.30it/s]"
     ]
    },
    {
     "name": "stdout",
     "output_type": "stream",
     "text": [
      "Image and info_dict saved for 33755feadab4a6b5db51edc060585921_0 in /Volumes/Newsmy/FM_dataset/VinDr-Mammo-finding/Train/33755feadab4a6b5db51edc060585921_0\n"
     ]
    },
    {
     "name": "stderr",
     "output_type": "stream",
     "text": [
      " 21%|██▏       | 377/1768 [03:23<17:57,  1.29it/s]"
     ]
    },
    {
     "name": "stdout",
     "output_type": "stream",
     "text": [
      "Image and info_dict saved for 338460bf0c6de576629169b75370964b_0 in /Volumes/Newsmy/FM_dataset/VinDr-Mammo-finding/Train/338460bf0c6de576629169b75370964b_0\n"
     ]
    },
    {
     "name": "stderr",
     "output_type": "stream",
     "text": [
      " 21%|██▏       | 378/1768 [03:24<17:24,  1.33it/s]"
     ]
    },
    {
     "name": "stdout",
     "output_type": "stream",
     "text": [
      "Image and info_dict saved for 33cfef605778cd250f653662ab876afb_0 in /Volumes/Newsmy/FM_dataset/VinDr-Mammo-finding/Train/33cfef605778cd250f653662ab876afb_0\n"
     ]
    },
    {
     "name": "stderr",
     "output_type": "stream",
     "text": [
      " 21%|██▏       | 379/1768 [03:25<19:14,  1.20it/s]"
     ]
    },
    {
     "name": "stdout",
     "output_type": "stream",
     "text": [
      "Image and info_dict saved for 33d123472ea84c61983346e9f9b31e53_0 in /Volumes/Newsmy/FM_dataset/VinDr-Mammo-finding/Train/33d123472ea84c61983346e9f9b31e53_0\n"
     ]
    },
    {
     "name": "stderr",
     "output_type": "stream",
     "text": [
      " 21%|██▏       | 380/1768 [03:25<16:00,  1.45it/s]"
     ]
    },
    {
     "name": "stdout",
     "output_type": "stream",
     "text": [
      "Image and info_dict saved for 33e09329292305dcb0495cd24e4e934d_0 in /Volumes/Newsmy/FM_dataset/VinDr-Mammo-finding/Eval/33e09329292305dcb0495cd24e4e934d_0\n"
     ]
    },
    {
     "name": "stderr",
     "output_type": "stream",
     "text": [
      " 22%|██▏       | 381/1768 [03:25<13:25,  1.72it/s]"
     ]
    },
    {
     "name": "stdout",
     "output_type": "stream",
     "text": [
      "Image and info_dict saved for 33ef0769c0bbda92028dd40d73a2bfae_0 in /Volumes/Newsmy/FM_dataset/VinDr-Mammo-finding/Train/33ef0769c0bbda92028dd40d73a2bfae_0\n"
     ]
    },
    {
     "name": "stderr",
     "output_type": "stream",
     "text": [
      " 22%|██▏       | 382/1768 [03:26<13:56,  1.66it/s]"
     ]
    },
    {
     "name": "stdout",
     "output_type": "stream",
     "text": [
      "Image and info_dict saved for 34160cfb183fc462cd261f90dd3ffac0_0 in /Volumes/Newsmy/FM_dataset/VinDr-Mammo-finding/Train/34160cfb183fc462cd261f90dd3ffac0_0\n"
     ]
    },
    {
     "name": "stderr",
     "output_type": "stream",
     "text": [
      " 22%|██▏       | 383/1768 [03:26<12:56,  1.78it/s]"
     ]
    },
    {
     "name": "stdout",
     "output_type": "stream",
     "text": [
      "Image and info_dict saved for 341a72c151701051eb8a70b97522b69d_0 in /Volumes/Newsmy/FM_dataset/VinDr-Mammo-finding/Test/341a72c151701051eb8a70b97522b69d_0\n",
      "Image and info_dict saved for 343605cd7da7f2515b76d13c3e49e709_0 in /Volumes/Newsmy/FM_dataset/VinDr-Mammo-finding/Test/343605cd7da7f2515b76d13c3e49e709_0\n",
      "Image and info_dict saved for 343605cd7da7f2515b76d13c3e49e709_1 in /Volumes/Newsmy/FM_dataset/VinDr-Mammo-finding/Test/343605cd7da7f2515b76d13c3e49e709_1\n"
     ]
    },
    {
     "name": "stderr",
     "output_type": "stream",
     "text": [
      " 22%|██▏       | 384/1768 [03:27<14:20,  1.61it/s]"
     ]
    },
    {
     "name": "stdout",
     "output_type": "stream",
     "text": [
      "Image and info_dict saved for 343605cd7da7f2515b76d13c3e49e709_2 in /Volumes/Newsmy/FM_dataset/VinDr-Mammo-finding/Test/343605cd7da7f2515b76d13c3e49e709_2\n"
     ]
    },
    {
     "name": "stderr",
     "output_type": "stream",
     "text": [
      " 22%|██▏       | 385/1768 [03:27<12:16,  1.88it/s]"
     ]
    },
    {
     "name": "stdout",
     "output_type": "stream",
     "text": [
      "Image and info_dict saved for 347b32bd628a543c96ba6baf027e9781_0 in /Volumes/Newsmy/FM_dataset/VinDr-Mammo-finding/Train/347b32bd628a543c96ba6baf027e9781_0\n"
     ]
    },
    {
     "name": "stderr",
     "output_type": "stream",
     "text": [
      " 22%|██▏       | 386/1768 [03:28<11:42,  1.97it/s]"
     ]
    },
    {
     "name": "stdout",
     "output_type": "stream",
     "text": [
      "Image and info_dict saved for 34f2d0c18511aa05a4d6dd8d514a0f00_0 in /Volumes/Newsmy/FM_dataset/VinDr-Mammo-finding/Train/34f2d0c18511aa05a4d6dd8d514a0f00_0\n"
     ]
    },
    {
     "name": "stderr",
     "output_type": "stream",
     "text": [
      " 22%|██▏       | 387/1768 [03:28<11:27,  2.01it/s]"
     ]
    },
    {
     "name": "stdout",
     "output_type": "stream",
     "text": [
      "Image and info_dict saved for 3527d9a479e2c242013ed32e1c93819f_0 in /Volumes/Newsmy/FM_dataset/VinDr-Mammo-finding/Train/3527d9a479e2c242013ed32e1c93819f_0\n"
     ]
    },
    {
     "name": "stderr",
     "output_type": "stream",
     "text": [
      " 22%|██▏       | 388/1768 [03:29<13:25,  1.71it/s]"
     ]
    },
    {
     "name": "stdout",
     "output_type": "stream",
     "text": [
      "Image and info_dict saved for 352f8e70555245091657f3810f50e10d_0 in /Volumes/Newsmy/FM_dataset/VinDr-Mammo-finding/Train/352f8e70555245091657f3810f50e10d_0\n",
      "Image and info_dict saved for 352f8e70555245091657f3810f50e10d_1 in /Volumes/Newsmy/FM_dataset/VinDr-Mammo-finding/Train/352f8e70555245091657f3810f50e10d_1\n"
     ]
    },
    {
     "name": "stderr",
     "output_type": "stream",
     "text": [
      " 22%|██▏       | 389/1768 [03:30<12:24,  1.85it/s]"
     ]
    },
    {
     "name": "stdout",
     "output_type": "stream",
     "text": [
      "Image and info_dict saved for 35529cbc5b22c72b5da91ca7dd44a834_0 in /Volumes/Newsmy/FM_dataset/VinDr-Mammo-finding/Train/35529cbc5b22c72b5da91ca7dd44a834_0\n"
     ]
    },
    {
     "name": "stderr",
     "output_type": "stream",
     "text": [
      " 22%|██▏       | 390/1768 [03:30<11:27,  2.00it/s]"
     ]
    },
    {
     "name": "stdout",
     "output_type": "stream",
     "text": [
      "Image and info_dict saved for 35721bd45c2cc3619bc9472b81ec871b_0 in /Volumes/Newsmy/FM_dataset/VinDr-Mammo-finding/Train/35721bd45c2cc3619bc9472b81ec871b_0\n"
     ]
    },
    {
     "name": "stderr",
     "output_type": "stream",
     "text": [
      " 22%|██▏       | 391/1768 [03:30<11:19,  2.03it/s]"
     ]
    },
    {
     "name": "stdout",
     "output_type": "stream",
     "text": [
      "Image and info_dict saved for 3576dec9eddda7fbee080dcc18b9e572_0 in /Volumes/Newsmy/FM_dataset/VinDr-Mammo-finding/Train/3576dec9eddda7fbee080dcc18b9e572_0\n"
     ]
    },
    {
     "name": "stderr",
     "output_type": "stream",
     "text": [
      " 22%|██▏       | 392/1768 [03:31<11:20,  2.02it/s]"
     ]
    },
    {
     "name": "stdout",
     "output_type": "stream",
     "text": [
      "Image and info_dict saved for 35783ec8085d79bee19d78f7295ba6c7_0 in /Volumes/Newsmy/FM_dataset/VinDr-Mammo-finding/Train/35783ec8085d79bee19d78f7295ba6c7_0\n"
     ]
    },
    {
     "name": "stderr",
     "output_type": "stream",
     "text": [
      " 22%|██▏       | 393/1768 [03:32<11:47,  1.94it/s]"
     ]
    },
    {
     "name": "stdout",
     "output_type": "stream",
     "text": [
      "Image and info_dict saved for 35b63c132c81b45f9e17946278fcc617_0 in /Volumes/Newsmy/FM_dataset/VinDr-Mammo-finding/Train/35b63c132c81b45f9e17946278fcc617_0\n",
      "Image and info_dict saved for 35b63c132c81b45f9e17946278fcc617_1 in /Volumes/Newsmy/FM_dataset/VinDr-Mammo-finding/Train/35b63c132c81b45f9e17946278fcc617_1\n"
     ]
    },
    {
     "name": "stderr",
     "output_type": "stream",
     "text": [
      " 22%|██▏       | 394/1768 [03:32<11:24,  2.01it/s]"
     ]
    },
    {
     "name": "stdout",
     "output_type": "stream",
     "text": [
      "Image and info_dict saved for 360a2637d08a1b3f8fef4f3a3e14e717_0 in /Volumes/Newsmy/FM_dataset/VinDr-Mammo-finding/Train/360a2637d08a1b3f8fef4f3a3e14e717_0\n"
     ]
    },
    {
     "name": "stderr",
     "output_type": "stream",
     "text": [
      " 22%|██▏       | 395/1768 [03:32<10:32,  2.17it/s]"
     ]
    },
    {
     "name": "stdout",
     "output_type": "stream",
     "text": [
      "Image and info_dict saved for 3631f3970d8dd637e1cf582f2060fdce_0 in /Volumes/Newsmy/FM_dataset/VinDr-Mammo-finding/Test/3631f3970d8dd637e1cf582f2060fdce_0\n"
     ]
    },
    {
     "name": "stderr",
     "output_type": "stream",
     "text": [
      " 22%|██▏       | 396/1768 [03:33<12:08,  1.88it/s]"
     ]
    },
    {
     "name": "stdout",
     "output_type": "stream",
     "text": [
      "Image and info_dict saved for 363ca8a34a7b54d334cc02d1c12c1585_0 in /Volumes/Newsmy/FM_dataset/VinDr-Mammo-finding/Train/363ca8a34a7b54d334cc02d1c12c1585_0\n",
      "Image and info_dict saved for 363ca8a34a7b54d334cc02d1c12c1585_1 in /Volumes/Newsmy/FM_dataset/VinDr-Mammo-finding/Train/363ca8a34a7b54d334cc02d1c12c1585_1\n",
      "Image and info_dict saved for 363ca8a34a7b54d334cc02d1c12c1585_2 in /Volumes/Newsmy/FM_dataset/VinDr-Mammo-finding/Train/363ca8a34a7b54d334cc02d1c12c1585_2\n"
     ]
    },
    {
     "name": "stderr",
     "output_type": "stream",
     "text": [
      " 22%|██▏       | 397/1768 [03:34<11:57,  1.91it/s]"
     ]
    },
    {
     "name": "stdout",
     "output_type": "stream",
     "text": [
      "Image and info_dict saved for 365d7a69db591b01de6b358a74ad4e3e_0 in /Volumes/Newsmy/FM_dataset/VinDr-Mammo-finding/Train/365d7a69db591b01de6b358a74ad4e3e_0\n"
     ]
    },
    {
     "name": "stderr",
     "output_type": "stream",
     "text": [
      " 23%|██▎       | 398/1768 [03:34<12:23,  1.84it/s]"
     ]
    },
    {
     "name": "stdout",
     "output_type": "stream",
     "text": [
      "Image and info_dict saved for 36d251a46482ffaff035e48fc8a1f8e4_0 in /Volumes/Newsmy/FM_dataset/VinDr-Mammo-finding/Train/36d251a46482ffaff035e48fc8a1f8e4_0\n",
      "Image and info_dict saved for 36d251a46482ffaff035e48fc8a1f8e4_1 in /Volumes/Newsmy/FM_dataset/VinDr-Mammo-finding/Train/36d251a46482ffaff035e48fc8a1f8e4_1\n"
     ]
    },
    {
     "name": "stderr",
     "output_type": "stream",
     "text": [
      " 23%|██▎       | 399/1768 [03:35<11:54,  1.92it/s]"
     ]
    },
    {
     "name": "stdout",
     "output_type": "stream",
     "text": [
      "Image and info_dict saved for 36f1d0a7b515cef7eab05bdbfde38094_0 in /Volumes/Newsmy/FM_dataset/VinDr-Mammo-finding/Test/36f1d0a7b515cef7eab05bdbfde38094_0\n"
     ]
    },
    {
     "name": "stderr",
     "output_type": "stream",
     "text": [
      " 23%|██▎       | 400/1768 [03:35<11:36,  1.96it/s]"
     ]
    },
    {
     "name": "stdout",
     "output_type": "stream",
     "text": [
      "Image and info_dict saved for 370f48157f08675de0b49988b7c39622_0 in /Volumes/Newsmy/FM_dataset/VinDr-Mammo-finding/Eval/370f48157f08675de0b49988b7c39622_0\n"
     ]
    },
    {
     "name": "stderr",
     "output_type": "stream",
     "text": [
      " 23%|██▎       | 401/1768 [03:36<11:50,  1.92it/s]"
     ]
    },
    {
     "name": "stdout",
     "output_type": "stream",
     "text": [
      "Image and info_dict saved for 37227872993fa05361923d71105fb538_0 in /Volumes/Newsmy/FM_dataset/VinDr-Mammo-finding/Train/37227872993fa05361923d71105fb538_0\n"
     ]
    },
    {
     "name": "stderr",
     "output_type": "stream",
     "text": [
      " 23%|██▎       | 402/1768 [03:36<11:36,  1.96it/s]"
     ]
    },
    {
     "name": "stdout",
     "output_type": "stream",
     "text": [
      "Image and info_dict saved for 37448b35920f755460e8066643add226_0 in /Volumes/Newsmy/FM_dataset/VinDr-Mammo-finding/Eval/37448b35920f755460e8066643add226_0\n"
     ]
    },
    {
     "name": "stderr",
     "output_type": "stream",
     "text": [
      " 23%|██▎       | 403/1768 [03:37<12:21,  1.84it/s]"
     ]
    },
    {
     "name": "stdout",
     "output_type": "stream",
     "text": [
      "Image and info_dict saved for 37797e8ccb0614c811acea9f8f6ace7b_0 in /Volumes/Newsmy/FM_dataset/VinDr-Mammo-finding/Train/37797e8ccb0614c811acea9f8f6ace7b_0\n",
      "Image and info_dict saved for 37797e8ccb0614c811acea9f8f6ace7b_1 in /Volumes/Newsmy/FM_dataset/VinDr-Mammo-finding/Train/37797e8ccb0614c811acea9f8f6ace7b_1\n"
     ]
    },
    {
     "name": "stderr",
     "output_type": "stream",
     "text": [
      " 23%|██▎       | 404/1768 [03:37<11:16,  2.02it/s]"
     ]
    },
    {
     "name": "stdout",
     "output_type": "stream",
     "text": [
      "Image and info_dict saved for 377db58782db6d21eadcde793a1b953c_0 in /Volumes/Newsmy/FM_dataset/VinDr-Mammo-finding/Train/377db58782db6d21eadcde793a1b953c_0\n",
      "Image and info_dict saved for 37a23b32dea999c01e4bc46901b21d67_0 in /Volumes/Newsmy/FM_dataset/VinDr-Mammo-finding/Train/37a23b32dea999c01e4bc46901b21d67_0\n",
      "Image and info_dict saved for 37a23b32dea999c01e4bc46901b21d67_1 in /Volumes/Newsmy/FM_dataset/VinDr-Mammo-finding/Train/37a23b32dea999c01e4bc46901b21d67_1\n"
     ]
    },
    {
     "name": "stderr",
     "output_type": "stream",
     "text": [
      " 23%|██▎       | 405/1768 [03:38<13:05,  1.73it/s]"
     ]
    },
    {
     "name": "stdout",
     "output_type": "stream",
     "text": [
      "Image and info_dict saved for 37a23b32dea999c01e4bc46901b21d67_2 in /Volumes/Newsmy/FM_dataset/VinDr-Mammo-finding/Train/37a23b32dea999c01e4bc46901b21d67_2\n"
     ]
    },
    {
     "name": "stderr",
     "output_type": "stream",
     "text": [
      " 23%|██▎       | 406/1768 [03:38<12:50,  1.77it/s]"
     ]
    },
    {
     "name": "stdout",
     "output_type": "stream",
     "text": [
      "Image and info_dict saved for 37ea2a11029068572a77e6e530187bdf_0 in /Volumes/Newsmy/FM_dataset/VinDr-Mammo-finding/Train/37ea2a11029068572a77e6e530187bdf_0\n"
     ]
    },
    {
     "name": "stderr",
     "output_type": "stream",
     "text": [
      " 23%|██▎       | 407/1768 [03:39<12:02,  1.88it/s]"
     ]
    },
    {
     "name": "stdout",
     "output_type": "stream",
     "text": [
      "Image and info_dict saved for 383e8236ac73f98e0f85bc4ac148ee98_0 in /Volumes/Newsmy/FM_dataset/VinDr-Mammo-finding/Train/383e8236ac73f98e0f85bc4ac148ee98_0\n"
     ]
    },
    {
     "name": "stderr",
     "output_type": "stream",
     "text": [
      " 23%|██▎       | 408/1768 [03:40<13:52,  1.63it/s]"
     ]
    },
    {
     "name": "stdout",
     "output_type": "stream",
     "text": [
      "Image and info_dict saved for 384860062eb279f10c0dc0dc2bae6fb8_0 in /Volumes/Newsmy/FM_dataset/VinDr-Mammo-finding/Train/384860062eb279f10c0dc0dc2bae6fb8_0\n"
     ]
    },
    {
     "name": "stderr",
     "output_type": "stream",
     "text": [
      " 23%|██▎       | 409/1768 [03:40<13:49,  1.64it/s]"
     ]
    },
    {
     "name": "stdout",
     "output_type": "stream",
     "text": [
      "Image and info_dict saved for 387a7548c8e3d3a71490e3681d16df87_0 in /Volumes/Newsmy/FM_dataset/VinDr-Mammo-finding/Test/387a7548c8e3d3a71490e3681d16df87_0\n"
     ]
    },
    {
     "name": "stderr",
     "output_type": "stream",
     "text": [
      " 23%|██▎       | 410/1768 [03:41<13:21,  1.69it/s]"
     ]
    },
    {
     "name": "stdout",
     "output_type": "stream",
     "text": [
      "Image and info_dict saved for 38982ad7ded99fb8504b0afb52d3e111_0 in /Volumes/Newsmy/FM_dataset/VinDr-Mammo-finding/Train/38982ad7ded99fb8504b0afb52d3e111_0\n"
     ]
    },
    {
     "name": "stderr",
     "output_type": "stream",
     "text": [
      " 23%|██▎       | 411/1768 [03:41<12:58,  1.74it/s]"
     ]
    },
    {
     "name": "stdout",
     "output_type": "stream",
     "text": [
      "Image and info_dict saved for 389c6de05c56e4f55375be89356b31f7_0 in /Volumes/Newsmy/FM_dataset/VinDr-Mammo-finding/Train/389c6de05c56e4f55375be89356b31f7_0\n"
     ]
    },
    {
     "name": "stderr",
     "output_type": "stream",
     "text": [
      " 23%|██▎       | 412/1768 [03:42<13:09,  1.72it/s]"
     ]
    },
    {
     "name": "stdout",
     "output_type": "stream",
     "text": [
      "Image and info_dict saved for 389e63a564ab355b88c8ec7391a11069_0 in /Volumes/Newsmy/FM_dataset/VinDr-Mammo-finding/Test/389e63a564ab355b88c8ec7391a11069_0\n"
     ]
    },
    {
     "name": "stderr",
     "output_type": "stream",
     "text": [
      " 23%|██▎       | 413/1768 [03:43<13:18,  1.70it/s]"
     ]
    },
    {
     "name": "stdout",
     "output_type": "stream",
     "text": [
      "Image and info_dict saved for 38fc7380e0a6758867c3156d6665d046_0 in /Volumes/Newsmy/FM_dataset/VinDr-Mammo-finding/Train/38fc7380e0a6758867c3156d6665d046_0\n",
      "Image and info_dict saved for 3920b4311fa5b13f5a2c9185156ae9d5_0 in /Volumes/Newsmy/FM_dataset/VinDr-Mammo-finding/Test/3920b4311fa5b13f5a2c9185156ae9d5_0\n",
      "Image and info_dict saved for 3920b4311fa5b13f5a2c9185156ae9d5_1 in /Volumes/Newsmy/FM_dataset/VinDr-Mammo-finding/Test/3920b4311fa5b13f5a2c9185156ae9d5_1\n"
     ]
    },
    {
     "name": "stderr",
     "output_type": "stream",
     "text": [
      " 23%|██▎       | 414/1768 [03:43<15:01,  1.50it/s]"
     ]
    },
    {
     "name": "stdout",
     "output_type": "stream",
     "text": [
      "Image and info_dict saved for 3920b4311fa5b13f5a2c9185156ae9d5_2 in /Volumes/Newsmy/FM_dataset/VinDr-Mammo-finding/Test/3920b4311fa5b13f5a2c9185156ae9d5_2\n"
     ]
    },
    {
     "name": "stderr",
     "output_type": "stream",
     "text": [
      " 23%|██▎       | 415/1768 [03:44<14:50,  1.52it/s]"
     ]
    },
    {
     "name": "stdout",
     "output_type": "stream",
     "text": [
      "Image and info_dict saved for 393bf60503222eda072cd9920da55cd1_0 in /Volumes/Newsmy/FM_dataset/VinDr-Mammo-finding/Test/393bf60503222eda072cd9920da55cd1_0\n"
     ]
    },
    {
     "name": "stderr",
     "output_type": "stream",
     "text": [
      " 24%|██▎       | 416/1768 [03:45<13:36,  1.66it/s]"
     ]
    },
    {
     "name": "stdout",
     "output_type": "stream",
     "text": [
      "Image and info_dict saved for 3944b33b99c98e763763b9da54b4f41c_0 in /Volumes/Newsmy/FM_dataset/VinDr-Mammo-finding/Test/3944b33b99c98e763763b9da54b4f41c_0\n"
     ]
    },
    {
     "name": "stderr",
     "output_type": "stream",
     "text": [
      " 24%|██▎       | 417/1768 [03:45<12:25,  1.81it/s]"
     ]
    },
    {
     "name": "stdout",
     "output_type": "stream",
     "text": [
      "Image and info_dict saved for 396bea28fd4be11598bc53bf5f2b7460_0 in /Volumes/Newsmy/FM_dataset/VinDr-Mammo-finding/Test/396bea28fd4be11598bc53bf5f2b7460_0\n"
     ]
    },
    {
     "name": "stderr",
     "output_type": "stream",
     "text": [
      " 24%|██▎       | 418/1768 [03:45<11:48,  1.90it/s]"
     ]
    },
    {
     "name": "stdout",
     "output_type": "stream",
     "text": [
      "Image and info_dict saved for 39a9809abe1441f60f9fab50679c2a73_0 in /Volumes/Newsmy/FM_dataset/VinDr-Mammo-finding/Train/39a9809abe1441f60f9fab50679c2a73_0\n"
     ]
    },
    {
     "name": "stderr",
     "output_type": "stream",
     "text": [
      " 24%|██▎       | 419/1768 [03:46<11:08,  2.02it/s]"
     ]
    },
    {
     "name": "stdout",
     "output_type": "stream",
     "text": [
      "Image and info_dict saved for 39b4736d81cf35512313a70cc8375269_0 in /Volumes/Newsmy/FM_dataset/VinDr-Mammo-finding/Train/39b4736d81cf35512313a70cc8375269_0\n"
     ]
    },
    {
     "name": "stderr",
     "output_type": "stream",
     "text": [
      " 24%|██▍       | 420/1768 [03:46<11:34,  1.94it/s]"
     ]
    },
    {
     "name": "stdout",
     "output_type": "stream",
     "text": [
      "Image and info_dict saved for 39db902f8a8c3bba8778f74e5e2b9d76_0 in /Volumes/Newsmy/FM_dataset/VinDr-Mammo-finding/Train/39db902f8a8c3bba8778f74e5e2b9d76_0\n",
      "Image and info_dict saved for 39db902f8a8c3bba8778f74e5e2b9d76_1 in /Volumes/Newsmy/FM_dataset/VinDr-Mammo-finding/Train/39db902f8a8c3bba8778f74e5e2b9d76_1\n"
     ]
    },
    {
     "name": "stderr",
     "output_type": "stream",
     "text": [
      " 24%|██▍       | 421/1768 [03:47<11:20,  1.98it/s]"
     ]
    },
    {
     "name": "stdout",
     "output_type": "stream",
     "text": [
      "Image and info_dict saved for 39f3ef0e8046a9b4e6c81262d634053d_0 in /Volumes/Newsmy/FM_dataset/VinDr-Mammo-finding/Eval/39f3ef0e8046a9b4e6c81262d634053d_0\n"
     ]
    },
    {
     "name": "stderr",
     "output_type": "stream",
     "text": [
      " 24%|██▍       | 422/1768 [03:47<11:41,  1.92it/s]"
     ]
    },
    {
     "name": "stdout",
     "output_type": "stream",
     "text": [
      "Image and info_dict saved for 3a13455f3c15a6fd18a163cd9f654d26_0 in /Volumes/Newsmy/FM_dataset/VinDr-Mammo-finding/Eval/3a13455f3c15a6fd18a163cd9f654d26_0\n"
     ]
    },
    {
     "name": "stderr",
     "output_type": "stream",
     "text": [
      " 24%|██▍       | 423/1768 [03:48<11:36,  1.93it/s]"
     ]
    },
    {
     "name": "stdout",
     "output_type": "stream",
     "text": [
      "Image and info_dict saved for 3a69cb46471f1417f099a177608cd5c1_0 in /Volumes/Newsmy/FM_dataset/VinDr-Mammo-finding/Test/3a69cb46471f1417f099a177608cd5c1_0\n"
     ]
    },
    {
     "name": "stderr",
     "output_type": "stream",
     "text": [
      " 24%|██▍       | 424/1768 [03:49<13:15,  1.69it/s]"
     ]
    },
    {
     "name": "stdout",
     "output_type": "stream",
     "text": [
      "Image and info_dict saved for 3a6dffa30940fa8f5e115a9888eae9e8_0 in /Volumes/Newsmy/FM_dataset/VinDr-Mammo-finding/Eval/3a6dffa30940fa8f5e115a9888eae9e8_0\n",
      "Image and info_dict saved for 3a6dffa30940fa8f5e115a9888eae9e8_1 in /Volumes/Newsmy/FM_dataset/VinDr-Mammo-finding/Eval/3a6dffa30940fa8f5e115a9888eae9e8_1\n"
     ]
    },
    {
     "name": "stderr",
     "output_type": "stream",
     "text": [
      " 24%|██▍       | 425/1768 [03:49<12:54,  1.73it/s]"
     ]
    },
    {
     "name": "stdout",
     "output_type": "stream",
     "text": [
      "Image and info_dict saved for 3a82746aedbd7ab2950e9bf0d119d263_0 in /Volumes/Newsmy/FM_dataset/VinDr-Mammo-finding/Train/3a82746aedbd7ab2950e9bf0d119d263_0\n"
     ]
    },
    {
     "name": "stderr",
     "output_type": "stream",
     "text": [
      " 24%|██▍       | 426/1768 [03:50<12:49,  1.74it/s]"
     ]
    },
    {
     "name": "stdout",
     "output_type": "stream",
     "text": [
      "Image and info_dict saved for 3ab538474fb43b37824d0d549e2c7bec_0 in /Volumes/Newsmy/FM_dataset/VinDr-Mammo-finding/Test/3ab538474fb43b37824d0d549e2c7bec_0\n"
     ]
    },
    {
     "name": "stderr",
     "output_type": "stream",
     "text": [
      " 24%|██▍       | 427/1768 [03:50<12:35,  1.77it/s]"
     ]
    },
    {
     "name": "stdout",
     "output_type": "stream",
     "text": [
      "Image and info_dict saved for 3b3623000697c9c90501d71b68e41c8f_0 in /Volumes/Newsmy/FM_dataset/VinDr-Mammo-finding/Test/3b3623000697c9c90501d71b68e41c8f_0\n"
     ]
    },
    {
     "name": "stderr",
     "output_type": "stream",
     "text": [
      " 24%|██▍       | 428/1768 [03:51<11:20,  1.97it/s]"
     ]
    },
    {
     "name": "stdout",
     "output_type": "stream",
     "text": [
      "Image and info_dict saved for 3b376a343a6032c3450154820517e90d_0 in /Volumes/Newsmy/FM_dataset/VinDr-Mammo-finding/Eval/3b376a343a6032c3450154820517e90d_0\n"
     ]
    },
    {
     "name": "stderr",
     "output_type": "stream",
     "text": [
      " 24%|██▍       | 429/1768 [03:51<11:20,  1.97it/s]"
     ]
    },
    {
     "name": "stdout",
     "output_type": "stream",
     "text": [
      "Image and info_dict saved for 3b46267ffa238158eda9aa2a63a2c5ed_0 in /Volumes/Newsmy/FM_dataset/VinDr-Mammo-finding/Train/3b46267ffa238158eda9aa2a63a2c5ed_0\n"
     ]
    },
    {
     "name": "stderr",
     "output_type": "stream",
     "text": [
      " 24%|██▍       | 430/1768 [03:52<11:29,  1.94it/s]"
     ]
    },
    {
     "name": "stdout",
     "output_type": "stream",
     "text": [
      "Image and info_dict saved for 3b824a3886501b395e22d78f817b4b13_0 in /Volumes/Newsmy/FM_dataset/VinDr-Mammo-finding/Train/3b824a3886501b395e22d78f817b4b13_0\n"
     ]
    },
    {
     "name": "stderr",
     "output_type": "stream",
     "text": [
      " 24%|██▍       | 431/1768 [03:52<11:30,  1.94it/s]"
     ]
    },
    {
     "name": "stdout",
     "output_type": "stream",
     "text": [
      "Image and info_dict saved for 3b95bda18918892c9a44422bd01b9ffa_0 in /Volumes/Newsmy/FM_dataset/VinDr-Mammo-finding/Train/3b95bda18918892c9a44422bd01b9ffa_0\n"
     ]
    },
    {
     "name": "stderr",
     "output_type": "stream",
     "text": [
      " 24%|██▍       | 432/1768 [03:53<12:37,  1.76it/s]"
     ]
    },
    {
     "name": "stdout",
     "output_type": "stream",
     "text": [
      "Image and info_dict saved for 3bb3b2b2842c76b37df73a4efcea25ba_0 in /Volumes/Newsmy/FM_dataset/VinDr-Mammo-finding/Train/3bb3b2b2842c76b37df73a4efcea25ba_0\n",
      "Image and info_dict saved for 3bb3b2b2842c76b37df73a4efcea25ba_1 in /Volumes/Newsmy/FM_dataset/VinDr-Mammo-finding/Train/3bb3b2b2842c76b37df73a4efcea25ba_1\n"
     ]
    },
    {
     "name": "stderr",
     "output_type": "stream",
     "text": [
      " 24%|██▍       | 433/1768 [03:54<11:59,  1.85it/s]"
     ]
    },
    {
     "name": "stdout",
     "output_type": "stream",
     "text": [
      "Image and info_dict saved for 3bc2f60f878f9d6132e9c0eb2755aacd_0 in /Volumes/Newsmy/FM_dataset/VinDr-Mammo-finding/Test/3bc2f60f878f9d6132e9c0eb2755aacd_0\n"
     ]
    },
    {
     "name": "stderr",
     "output_type": "stream",
     "text": [
      " 25%|██▍       | 434/1768 [03:54<11:26,  1.94it/s]"
     ]
    },
    {
     "name": "stdout",
     "output_type": "stream",
     "text": [
      "Image and info_dict saved for 3bd311d3edc0f72235e62ffb5d2eaa47_0 in /Volumes/Newsmy/FM_dataset/VinDr-Mammo-finding/Test/3bd311d3edc0f72235e62ffb5d2eaa47_0\n",
      "Image and info_dict saved for 3bee0f712a17866762153fc376b241ea_0 in /Volumes/Newsmy/FM_dataset/VinDr-Mammo-finding/Train/3bee0f712a17866762153fc376b241ea_0\n",
      "Image and info_dict saved for 3bee0f712a17866762153fc376b241ea_1 in /Volumes/Newsmy/FM_dataset/VinDr-Mammo-finding/Train/3bee0f712a17866762153fc376b241ea_1\n"
     ]
    },
    {
     "name": "stderr",
     "output_type": "stream",
     "text": [
      " 25%|██▍       | 435/1768 [03:55<13:01,  1.71it/s]"
     ]
    },
    {
     "name": "stdout",
     "output_type": "stream",
     "text": [
      "Image and info_dict saved for 3bee0f712a17866762153fc376b241ea_2 in /Volumes/Newsmy/FM_dataset/VinDr-Mammo-finding/Train/3bee0f712a17866762153fc376b241ea_2\n"
     ]
    },
    {
     "name": "stderr",
     "output_type": "stream",
     "text": [
      " 25%|██▍       | 436/1768 [03:55<12:19,  1.80it/s]"
     ]
    },
    {
     "name": "stdout",
     "output_type": "stream",
     "text": [
      "Image and info_dict saved for 3bf39db5f55dbadd875a6aae874766c9_0 in /Volumes/Newsmy/FM_dataset/VinDr-Mammo-finding/Train/3bf39db5f55dbadd875a6aae874766c9_0\n"
     ]
    },
    {
     "name": "stderr",
     "output_type": "stream",
     "text": [
      " 25%|██▍       | 437/1768 [03:56<11:32,  1.92it/s]"
     ]
    },
    {
     "name": "stdout",
     "output_type": "stream",
     "text": [
      "Image and info_dict saved for 3c315903764b853c05c059346675e1b7_0 in /Volumes/Newsmy/FM_dataset/VinDr-Mammo-finding/Train/3c315903764b853c05c059346675e1b7_0\n"
     ]
    },
    {
     "name": "stderr",
     "output_type": "stream",
     "text": [
      " 25%|██▍       | 438/1768 [03:56<12:29,  1.77it/s]"
     ]
    },
    {
     "name": "stdout",
     "output_type": "stream",
     "text": [
      "Image and info_dict saved for 3c5348828c4b60b7cc165d3ed6c20ab8_0 in /Volumes/Newsmy/FM_dataset/VinDr-Mammo-finding/Train/3c5348828c4b60b7cc165d3ed6c20ab8_0\n",
      "Image and info_dict saved for 3c5348828c4b60b7cc165d3ed6c20ab8_1 in /Volumes/Newsmy/FM_dataset/VinDr-Mammo-finding/Train/3c5348828c4b60b7cc165d3ed6c20ab8_1\n"
     ]
    },
    {
     "name": "stderr",
     "output_type": "stream",
     "text": [
      " 25%|██▍       | 439/1768 [03:57<12:17,  1.80it/s]"
     ]
    },
    {
     "name": "stdout",
     "output_type": "stream",
     "text": [
      "Image and info_dict saved for 3c5b8c9aa17dd132db42747ad3d4f10e_0 in /Volumes/Newsmy/FM_dataset/VinDr-Mammo-finding/Eval/3c5b8c9aa17dd132db42747ad3d4f10e_0\n"
     ]
    },
    {
     "name": "stderr",
     "output_type": "stream",
     "text": [
      " 25%|██▍       | 440/1768 [03:57<12:17,  1.80it/s]"
     ]
    },
    {
     "name": "stdout",
     "output_type": "stream",
     "text": [
      "Image and info_dict saved for 3ca01aa63e24a7f0c873d0a939d1b003_0 in /Volumes/Newsmy/FM_dataset/VinDr-Mammo-finding/Test/3ca01aa63e24a7f0c873d0a939d1b003_0\n"
     ]
    },
    {
     "name": "stderr",
     "output_type": "stream",
     "text": [
      " 25%|██▍       | 441/1768 [03:58<12:13,  1.81it/s]"
     ]
    },
    {
     "name": "stdout",
     "output_type": "stream",
     "text": [
      "Image and info_dict saved for 3cae5e8986cdd9cd69afc0159d473717_0 in /Volumes/Newsmy/FM_dataset/VinDr-Mammo-finding/Train/3cae5e8986cdd9cd69afc0159d473717_0\n"
     ]
    },
    {
     "name": "stderr",
     "output_type": "stream",
     "text": [
      " 25%|██▌       | 442/1768 [03:58<12:08,  1.82it/s]"
     ]
    },
    {
     "name": "stdout",
     "output_type": "stream",
     "text": [
      "Image and info_dict saved for 3ccb3de9732743b94027c3f407be024b_0 in /Volumes/Newsmy/FM_dataset/VinDr-Mammo-finding/Train/3ccb3de9732743b94027c3f407be024b_0\n"
     ]
    },
    {
     "name": "stderr",
     "output_type": "stream",
     "text": [
      " 25%|██▌       | 443/1768 [03:59<11:52,  1.86it/s]"
     ]
    },
    {
     "name": "stdout",
     "output_type": "stream",
     "text": [
      "Image and info_dict saved for 3cec8d5947e6dccc2084c9ac8c354244_0 in /Volumes/Newsmy/FM_dataset/VinDr-Mammo-finding/Train/3cec8d5947e6dccc2084c9ac8c354244_0\n"
     ]
    },
    {
     "name": "stderr",
     "output_type": "stream",
     "text": [
      " 25%|██▌       | 444/1768 [04:00<12:18,  1.79it/s]"
     ]
    },
    {
     "name": "stdout",
     "output_type": "stream",
     "text": [
      "Image and info_dict saved for 3cf5b4d09a6085ad86491fade395eebd_0 in /Volumes/Newsmy/FM_dataset/VinDr-Mammo-finding/Train/3cf5b4d09a6085ad86491fade395eebd_0\n",
      "Image and info_dict saved for 3d086d99dfafbb52a8785c25426a82d5_0 in /Volumes/Newsmy/FM_dataset/VinDr-Mammo-finding/Train/3d086d99dfafbb52a8785c25426a82d5_0\n",
      "Image and info_dict saved for 3d086d99dfafbb52a8785c25426a82d5_1 in /Volumes/Newsmy/FM_dataset/VinDr-Mammo-finding/Train/3d086d99dfafbb52a8785c25426a82d5_1\n"
     ]
    },
    {
     "name": "stderr",
     "output_type": "stream",
     "text": [
      " 25%|██▌       | 445/1768 [04:00<14:17,  1.54it/s]"
     ]
    },
    {
     "name": "stdout",
     "output_type": "stream",
     "text": [
      "Image and info_dict saved for 3d086d99dfafbb52a8785c25426a82d5_2 in /Volumes/Newsmy/FM_dataset/VinDr-Mammo-finding/Train/3d086d99dfafbb52a8785c25426a82d5_2\n",
      "Image and info_dict saved for 3d086d99dfafbb52a8785c25426a82d5_3 in /Volumes/Newsmy/FM_dataset/VinDr-Mammo-finding/Train/3d086d99dfafbb52a8785c25426a82d5_3\n"
     ]
    },
    {
     "name": "stderr",
     "output_type": "stream",
     "text": [
      " 25%|██▌       | 446/1768 [04:01<12:13,  1.80it/s]"
     ]
    },
    {
     "name": "stdout",
     "output_type": "stream",
     "text": [
      "Image and info_dict saved for 3d16da0351cc69f905bf4331bf8a2dca_0 in /Volumes/Newsmy/FM_dataset/VinDr-Mammo-finding/Train/3d16da0351cc69f905bf4331bf8a2dca_0\n"
     ]
    },
    {
     "name": "stderr",
     "output_type": "stream",
     "text": [
      " 25%|██▌       | 447/1768 [04:02<15:37,  1.41it/s]"
     ]
    },
    {
     "name": "stdout",
     "output_type": "stream",
     "text": [
      "Image and info_dict saved for 3d5b4225c9605e944629ac98e7ed38bd_0 in /Volumes/Newsmy/FM_dataset/VinDr-Mammo-finding/Train/3d5b4225c9605e944629ac98e7ed38bd_0\n"
     ]
    },
    {
     "name": "stderr",
     "output_type": "stream",
     "text": [
      " 25%|██▌       | 448/1768 [04:03<17:07,  1.28it/s]"
     ]
    },
    {
     "name": "stdout",
     "output_type": "stream",
     "text": [
      "Image and info_dict saved for 3d6766d0893e835d0ed4dcbce74335ae_0 in /Volumes/Newsmy/FM_dataset/VinDr-Mammo-finding/Train/3d6766d0893e835d0ed4dcbce74335ae_0\n"
     ]
    },
    {
     "name": "stderr",
     "output_type": "stream",
     "text": [
      " 25%|██▌       | 449/1768 [04:03<14:38,  1.50it/s]"
     ]
    },
    {
     "name": "stdout",
     "output_type": "stream",
     "text": [
      "Image and info_dict saved for 3d845577ce38f94ee9ad173e07e219f0_0 in /Volumes/Newsmy/FM_dataset/VinDr-Mammo-finding/Train/3d845577ce38f94ee9ad173e07e219f0_0\n"
     ]
    },
    {
     "name": "stderr",
     "output_type": "stream",
     "text": [
      " 25%|██▌       | 450/1768 [04:04<13:22,  1.64it/s]"
     ]
    },
    {
     "name": "stdout",
     "output_type": "stream",
     "text": [
      "Image and info_dict saved for 3d89638d839e41c1b51939a11fc3af42_0 in /Volumes/Newsmy/FM_dataset/VinDr-Mammo-finding/Train/3d89638d839e41c1b51939a11fc3af42_0\n"
     ]
    },
    {
     "name": "stderr",
     "output_type": "stream",
     "text": [
      " 26%|██▌       | 451/1768 [04:04<12:18,  1.78it/s]"
     ]
    },
    {
     "name": "stdout",
     "output_type": "stream",
     "text": [
      "Image and info_dict saved for 3de1a9c60e55cae229c112cd3d7577ce_0 in /Volumes/Newsmy/FM_dataset/VinDr-Mammo-finding/Train/3de1a9c60e55cae229c112cd3d7577ce_0\n"
     ]
    },
    {
     "name": "stderr",
     "output_type": "stream",
     "text": [
      " 26%|██▌       | 452/1768 [04:05<11:30,  1.91it/s]"
     ]
    },
    {
     "name": "stdout",
     "output_type": "stream",
     "text": [
      "Image and info_dict saved for 3e97b77c1736218890e5c1f3d01fbc0a_0 in /Volumes/Newsmy/FM_dataset/VinDr-Mammo-finding/Train/3e97b77c1736218890e5c1f3d01fbc0a_0\n"
     ]
    },
    {
     "name": "stderr",
     "output_type": "stream",
     "text": [
      " 26%|██▌       | 453/1768 [04:05<11:36,  1.89it/s]"
     ]
    },
    {
     "name": "stdout",
     "output_type": "stream",
     "text": [
      "Image and info_dict saved for 3f41e1acc2be249bac2dc601633f7e99_0 in /Volumes/Newsmy/FM_dataset/VinDr-Mammo-finding/Train/3f41e1acc2be249bac2dc601633f7e99_0\n"
     ]
    },
    {
     "name": "stderr",
     "output_type": "stream",
     "text": [
      " 26%|██▌       | 454/1768 [04:06<11:06,  1.97it/s]"
     ]
    },
    {
     "name": "stdout",
     "output_type": "stream",
     "text": [
      "Image and info_dict saved for 3f43a204d38e938ddc1f5832c508ad1e_0 in /Volumes/Newsmy/FM_dataset/VinDr-Mammo-finding/Test/3f43a204d38e938ddc1f5832c508ad1e_0\n"
     ]
    },
    {
     "name": "stderr",
     "output_type": "stream",
     "text": [
      " 26%|██▌       | 455/1768 [04:06<11:49,  1.85it/s]"
     ]
    },
    {
     "name": "stdout",
     "output_type": "stream",
     "text": [
      "Image and info_dict saved for 3fcc4242c9e4a841fa6843880f1b18de_0 in /Volumes/Newsmy/FM_dataset/VinDr-Mammo-finding/Train/3fcc4242c9e4a841fa6843880f1b18de_0\n",
      "Image and info_dict saved for 3fcc4242c9e4a841fa6843880f1b18de_1 in /Volumes/Newsmy/FM_dataset/VinDr-Mammo-finding/Train/3fcc4242c9e4a841fa6843880f1b18de_1\n",
      "Image and info_dict saved for 3fde15ab69283b96c1c24538427e7212_0 in /Volumes/Newsmy/FM_dataset/VinDr-Mammo-finding/Train/3fde15ab69283b96c1c24538427e7212_0\n",
      "Image and info_dict saved for 3fde15ab69283b96c1c24538427e7212_1 in /Volumes/Newsmy/FM_dataset/VinDr-Mammo-finding/Train/3fde15ab69283b96c1c24538427e7212_1\n"
     ]
    },
    {
     "name": "stderr",
     "output_type": "stream",
     "text": [
      " 26%|██▌       | 456/1768 [04:07<13:43,  1.59it/s]"
     ]
    },
    {
     "name": "stdout",
     "output_type": "stream",
     "text": [
      "Image and info_dict saved for 3fde15ab69283b96c1c24538427e7212_2 in /Volumes/Newsmy/FM_dataset/VinDr-Mammo-finding/Train/3fde15ab69283b96c1c24538427e7212_2\n",
      "Image and info_dict saved for 3fde15ab69283b96c1c24538427e7212_3 in /Volumes/Newsmy/FM_dataset/VinDr-Mammo-finding/Train/3fde15ab69283b96c1c24538427e7212_3\n"
     ]
    },
    {
     "name": "stderr",
     "output_type": "stream",
     "text": [
      " 26%|██▌       | 457/1768 [04:08<14:14,  1.53it/s]"
     ]
    },
    {
     "name": "stdout",
     "output_type": "stream",
     "text": [
      "Image and info_dict saved for 3fe030eca55d3f4f0d12aed4692724ed_0 in /Volumes/Newsmy/FM_dataset/VinDr-Mammo-finding/Train/3fe030eca55d3f4f0d12aed4692724ed_0\n"
     ]
    },
    {
     "name": "stderr",
     "output_type": "stream",
     "text": [
      " 26%|██▌       | 458/1768 [04:08<13:15,  1.65it/s]"
     ]
    },
    {
     "name": "stdout",
     "output_type": "stream",
     "text": [
      "Image and info_dict saved for 3ff90cf60c17051d4b574997f1363db8_0 in /Volumes/Newsmy/FM_dataset/VinDr-Mammo-finding/Train/3ff90cf60c17051d4b574997f1363db8_0\n"
     ]
    },
    {
     "name": "stderr",
     "output_type": "stream",
     "text": [
      " 26%|██▌       | 459/1768 [04:09<11:58,  1.82it/s]"
     ]
    },
    {
     "name": "stdout",
     "output_type": "stream",
     "text": [
      "Image and info_dict saved for 40344cff30da62d2e72446944c156932_0 in /Volumes/Newsmy/FM_dataset/VinDr-Mammo-finding/Train/40344cff30da62d2e72446944c156932_0\n"
     ]
    },
    {
     "name": "stderr",
     "output_type": "stream",
     "text": [
      " 26%|██▌       | 460/1768 [04:09<11:39,  1.87it/s]"
     ]
    },
    {
     "name": "stdout",
     "output_type": "stream",
     "text": [
      "Image and info_dict saved for 408e8d491fcc74612a291e9579d9bbad_0 in /Volumes/Newsmy/FM_dataset/VinDr-Mammo-finding/Train/408e8d491fcc74612a291e9579d9bbad_0\n"
     ]
    },
    {
     "name": "stderr",
     "output_type": "stream",
     "text": [
      " 26%|██▌       | 461/1768 [04:10<11:06,  1.96it/s]"
     ]
    },
    {
     "name": "stdout",
     "output_type": "stream",
     "text": [
      "Image and info_dict saved for 40aaed823b2d6d86b5af810195611985_0 in /Volumes/Newsmy/FM_dataset/VinDr-Mammo-finding/Train/40aaed823b2d6d86b5af810195611985_0\n"
     ]
    },
    {
     "name": "stderr",
     "output_type": "stream",
     "text": [
      " 26%|██▌       | 462/1768 [04:10<11:14,  1.94it/s]"
     ]
    },
    {
     "name": "stdout",
     "output_type": "stream",
     "text": [
      "Image and info_dict saved for 40bf312ce7f5a9291ccc0dfbe53ba48d_0 in /Volumes/Newsmy/FM_dataset/VinDr-Mammo-finding/Train/40bf312ce7f5a9291ccc0dfbe53ba48d_0\n"
     ]
    },
    {
     "name": "stderr",
     "output_type": "stream",
     "text": [
      " 26%|██▌       | 463/1768 [04:11<10:53,  2.00it/s]"
     ]
    },
    {
     "name": "stdout",
     "output_type": "stream",
     "text": [
      "Image and info_dict saved for 40d9a5b10b665f5ddccf111f6bdbc909_0 in /Volumes/Newsmy/FM_dataset/VinDr-Mammo-finding/Test/40d9a5b10b665f5ddccf111f6bdbc909_0\n"
     ]
    },
    {
     "name": "stderr",
     "output_type": "stream",
     "text": [
      " 26%|██▌       | 464/1768 [04:11<09:54,  2.19it/s]"
     ]
    },
    {
     "name": "stdout",
     "output_type": "stream",
     "text": [
      "Image and info_dict saved for 40ed09234040d4f119a5f24bd19c9e93_0 in /Volumes/Newsmy/FM_dataset/VinDr-Mammo-finding/Train/40ed09234040d4f119a5f24bd19c9e93_0\n"
     ]
    },
    {
     "name": "stderr",
     "output_type": "stream",
     "text": [
      " 26%|██▋       | 465/1768 [04:11<10:10,  2.13it/s]"
     ]
    },
    {
     "name": "stdout",
     "output_type": "stream",
     "text": [
      "Image and info_dict saved for 41040a367358df02680bc6ce2ab7475b_0 in /Volumes/Newsmy/FM_dataset/VinDr-Mammo-finding/Test/41040a367358df02680bc6ce2ab7475b_0\n"
     ]
    },
    {
     "name": "stderr",
     "output_type": "stream",
     "text": [
      " 26%|██▋       | 466/1768 [04:12<10:48,  2.01it/s]"
     ]
    },
    {
     "name": "stdout",
     "output_type": "stream",
     "text": [
      "Image and info_dict saved for 4112f99864ccf04ca5e6b12f3921bcdd_0 in /Volumes/Newsmy/FM_dataset/VinDr-Mammo-finding/Train/4112f99864ccf04ca5e6b12f3921bcdd_0\n"
     ]
    },
    {
     "name": "stderr",
     "output_type": "stream",
     "text": [
      " 26%|██▋       | 467/1768 [04:13<10:49,  2.00it/s]"
     ]
    },
    {
     "name": "stdout",
     "output_type": "stream",
     "text": [
      "Image and info_dict saved for 4150dba52478b548743e914dadfe0533_0 in /Volumes/Newsmy/FM_dataset/VinDr-Mammo-finding/Train/4150dba52478b548743e914dadfe0533_0\n"
     ]
    },
    {
     "name": "stderr",
     "output_type": "stream",
     "text": [
      " 26%|██▋       | 468/1768 [04:13<10:43,  2.02it/s]"
     ]
    },
    {
     "name": "stdout",
     "output_type": "stream",
     "text": [
      "Image and info_dict saved for 41556f11a04b3b80889c2c930fc35d0d_0 in /Volumes/Newsmy/FM_dataset/VinDr-Mammo-finding/Train/41556f11a04b3b80889c2c930fc35d0d_0\n"
     ]
    },
    {
     "name": "stderr",
     "output_type": "stream",
     "text": [
      " 27%|██▋       | 469/1768 [04:14<11:38,  1.86it/s]"
     ]
    },
    {
     "name": "stdout",
     "output_type": "stream",
     "text": [
      "Image and info_dict saved for 4178ffa36ffe9808649b62752d17e94d_0 in /Volumes/Newsmy/FM_dataset/VinDr-Mammo-finding/Eval/4178ffa36ffe9808649b62752d17e94d_0\n"
     ]
    },
    {
     "name": "stderr",
     "output_type": "stream",
     "text": [
      " 27%|██▋       | 470/1768 [04:14<11:22,  1.90it/s]"
     ]
    },
    {
     "name": "stdout",
     "output_type": "stream",
     "text": [
      "Image and info_dict saved for 41a20981b942415f3a33e7353d346ffb_0 in /Volumes/Newsmy/FM_dataset/VinDr-Mammo-finding/Train/41a20981b942415f3a33e7353d346ffb_0\n"
     ]
    },
    {
     "name": "stderr",
     "output_type": "stream",
     "text": [
      " 27%|██▋       | 471/1768 [04:15<11:07,  1.94it/s]"
     ]
    },
    {
     "name": "stdout",
     "output_type": "stream",
     "text": [
      "Image and info_dict saved for 41b26fbba63c7cb1ffd46446fb7dff96_0 in /Volumes/Newsmy/FM_dataset/VinDr-Mammo-finding/Train/41b26fbba63c7cb1ffd46446fb7dff96_0\n"
     ]
    },
    {
     "name": "stderr",
     "output_type": "stream",
     "text": [
      " 27%|██▋       | 472/1768 [04:15<12:01,  1.80it/s]"
     ]
    },
    {
     "name": "stdout",
     "output_type": "stream",
     "text": [
      "Image and info_dict saved for 4222799fe0cfa6c38deebb89967baec9_0 in /Volumes/Newsmy/FM_dataset/VinDr-Mammo-finding/Train/4222799fe0cfa6c38deebb89967baec9_0\n",
      "Image and info_dict saved for 4222799fe0cfa6c38deebb89967baec9_1 in /Volumes/Newsmy/FM_dataset/VinDr-Mammo-finding/Train/4222799fe0cfa6c38deebb89967baec9_1\n"
     ]
    },
    {
     "name": "stderr",
     "output_type": "stream",
     "text": [
      " 27%|██▋       | 473/1768 [04:16<12:20,  1.75it/s]"
     ]
    },
    {
     "name": "stdout",
     "output_type": "stream",
     "text": [
      "Image and info_dict saved for 425f59f5c6461ba1bcda816bc0bfccb7_0 in /Volumes/Newsmy/FM_dataset/VinDr-Mammo-finding/Train/425f59f5c6461ba1bcda816bc0bfccb7_0\n"
     ]
    },
    {
     "name": "stderr",
     "output_type": "stream",
     "text": [
      " 27%|██▋       | 474/1768 [04:16<11:38,  1.85it/s]"
     ]
    },
    {
     "name": "stdout",
     "output_type": "stream",
     "text": [
      "Image and info_dict saved for 42670b1f3b20518b71e9ae297859ccf1_0 in /Volumes/Newsmy/FM_dataset/VinDr-Mammo-finding/Train/42670b1f3b20518b71e9ae297859ccf1_0\n"
     ]
    },
    {
     "name": "stderr",
     "output_type": "stream",
     "text": [
      " 27%|██▋       | 475/1768 [04:17<10:24,  2.07it/s]"
     ]
    },
    {
     "name": "stdout",
     "output_type": "stream",
     "text": [
      "Image and info_dict saved for 426c29495642038d7340796542d932d1_0 in /Volumes/Newsmy/FM_dataset/VinDr-Mammo-finding/Train/426c29495642038d7340796542d932d1_0\n"
     ]
    },
    {
     "name": "stderr",
     "output_type": "stream",
     "text": [
      " 27%|██▋       | 476/1768 [04:17<11:02,  1.95it/s]"
     ]
    },
    {
     "name": "stdout",
     "output_type": "stream",
     "text": [
      "Image and info_dict saved for 4274a76dcc9e28508eff58acc103dc73_0 in /Volumes/Newsmy/FM_dataset/VinDr-Mammo-finding/Train/4274a76dcc9e28508eff58acc103dc73_0\n",
      "Image and info_dict saved for 4274a76dcc9e28508eff58acc103dc73_1 in /Volumes/Newsmy/FM_dataset/VinDr-Mammo-finding/Train/4274a76dcc9e28508eff58acc103dc73_1\n"
     ]
    },
    {
     "name": "stderr",
     "output_type": "stream",
     "text": [
      " 27%|██▋       | 477/1768 [04:18<11:01,  1.95it/s]"
     ]
    },
    {
     "name": "stdout",
     "output_type": "stream",
     "text": [
      "Image and info_dict saved for 4285bb1fd50ed9f19bd507e66738189c_0 in /Volumes/Newsmy/FM_dataset/VinDr-Mammo-finding/Train/4285bb1fd50ed9f19bd507e66738189c_0\n"
     ]
    },
    {
     "name": "stderr",
     "output_type": "stream",
     "text": [
      " 27%|██▋       | 478/1768 [04:19<14:04,  1.53it/s]"
     ]
    },
    {
     "name": "stdout",
     "output_type": "stream",
     "text": [
      "Image and info_dict saved for 42e804e4529cbe41023c98a97afe3961_0 in /Volumes/Newsmy/FM_dataset/VinDr-Mammo-finding/Train/42e804e4529cbe41023c98a97afe3961_0\n"
     ]
    },
    {
     "name": "stderr",
     "output_type": "stream",
     "text": [
      " 27%|██▋       | 479/1768 [04:20<14:38,  1.47it/s]"
     ]
    },
    {
     "name": "stdout",
     "output_type": "stream",
     "text": [
      "Image and info_dict saved for 42f76304c7825a09405739d899c6cd86_0 in /Volumes/Newsmy/FM_dataset/VinDr-Mammo-finding/Train/42f76304c7825a09405739d899c6cd86_0\n",
      "Image and info_dict saved for 42f76304c7825a09405739d899c6cd86_1 in /Volumes/Newsmy/FM_dataset/VinDr-Mammo-finding/Train/42f76304c7825a09405739d899c6cd86_1\n"
     ]
    },
    {
     "name": "stderr",
     "output_type": "stream",
     "text": [
      " 27%|██▋       | 480/1768 [04:20<13:42,  1.57it/s]"
     ]
    },
    {
     "name": "stdout",
     "output_type": "stream",
     "text": [
      "Image and info_dict saved for 431964722939d4720140fc70e2da76f3_0 in /Volumes/Newsmy/FM_dataset/VinDr-Mammo-finding/Train/431964722939d4720140fc70e2da76f3_0\n"
     ]
    },
    {
     "name": "stderr",
     "output_type": "stream",
     "text": [
      " 27%|██▋       | 481/1768 [04:21<12:37,  1.70it/s]"
     ]
    },
    {
     "name": "stdout",
     "output_type": "stream",
     "text": [
      "Image and info_dict saved for 43361e8af5bd4f6a17194ad97b57c4f9_0 in /Volumes/Newsmy/FM_dataset/VinDr-Mammo-finding/Train/43361e8af5bd4f6a17194ad97b57c4f9_0\n"
     ]
    },
    {
     "name": "stderr",
     "output_type": "stream",
     "text": [
      " 27%|██▋       | 482/1768 [04:21<11:50,  1.81it/s]"
     ]
    },
    {
     "name": "stdout",
     "output_type": "stream",
     "text": [
      "Image and info_dict saved for 434d11c4a4ad519fd57ed3f8a5398418_0 in /Volumes/Newsmy/FM_dataset/VinDr-Mammo-finding/Eval/434d11c4a4ad519fd57ed3f8a5398418_0\n"
     ]
    },
    {
     "name": "stderr",
     "output_type": "stream",
     "text": [
      " 27%|██▋       | 483/1768 [04:22<15:20,  1.40it/s]"
     ]
    },
    {
     "name": "stdout",
     "output_type": "stream",
     "text": [
      "Image and info_dict saved for 437a5cf58fedd970ffb2d9a00dea0d6c_0 in /Volumes/Newsmy/FM_dataset/VinDr-Mammo-finding/Test/437a5cf58fedd970ffb2d9a00dea0d6c_0\n"
     ]
    },
    {
     "name": "stderr",
     "output_type": "stream",
     "text": [
      " 27%|██▋       | 484/1768 [04:23<15:30,  1.38it/s]"
     ]
    },
    {
     "name": "stdout",
     "output_type": "stream",
     "text": [
      "Image and info_dict saved for 4387b27413006bf656d90e6ac07236a1_0 in /Volumes/Newsmy/FM_dataset/VinDr-Mammo-finding/Train/4387b27413006bf656d90e6ac07236a1_0\n"
     ]
    },
    {
     "name": "stderr",
     "output_type": "stream",
     "text": [
      " 27%|██▋       | 485/1768 [04:23<14:29,  1.48it/s]"
     ]
    },
    {
     "name": "stdout",
     "output_type": "stream",
     "text": [
      "Image and info_dict saved for 43a32df43087ababd713b27ab53f2632_0 in /Volumes/Newsmy/FM_dataset/VinDr-Mammo-finding/Train/43a32df43087ababd713b27ab53f2632_0\n",
      "Image and info_dict saved for 43a32df43087ababd713b27ab53f2632_1 in /Volumes/Newsmy/FM_dataset/VinDr-Mammo-finding/Train/43a32df43087ababd713b27ab53f2632_1\n",
      "Image and info_dict saved for 43a32df43087ababd713b27ab53f2632_2 in /Volumes/Newsmy/FM_dataset/VinDr-Mammo-finding/Train/43a32df43087ababd713b27ab53f2632_2\n"
     ]
    },
    {
     "name": "stderr",
     "output_type": "stream",
     "text": [
      " 27%|██▋       | 486/1768 [04:24<14:01,  1.52it/s]"
     ]
    },
    {
     "name": "stdout",
     "output_type": "stream",
     "text": [
      "Image and info_dict saved for 43a9fff4ea9c4f7fa09d56c5583d2096_0 in /Volumes/Newsmy/FM_dataset/VinDr-Mammo-finding/Test/43a9fff4ea9c4f7fa09d56c5583d2096_0\n"
     ]
    },
    {
     "name": "stderr",
     "output_type": "stream",
     "text": [
      " 28%|██▊       | 487/1768 [04:24<12:24,  1.72it/s]"
     ]
    },
    {
     "name": "stdout",
     "output_type": "stream",
     "text": [
      "Image and info_dict saved for 43f6a1154490ceb90f62d50770fe9636_0 in /Volumes/Newsmy/FM_dataset/VinDr-Mammo-finding/Test/43f6a1154490ceb90f62d50770fe9636_0\n"
     ]
    },
    {
     "name": "stderr",
     "output_type": "stream",
     "text": [
      " 28%|██▊       | 488/1768 [04:25<12:59,  1.64it/s]"
     ]
    },
    {
     "name": "stdout",
     "output_type": "stream",
     "text": [
      "Image and info_dict saved for 4402f38e880c5d0272cad908125987e9_0 in /Volumes/Newsmy/FM_dataset/VinDr-Mammo-finding/Train/4402f38e880c5d0272cad908125987e9_0\n",
      "Image and info_dict saved for 4402f38e880c5d0272cad908125987e9_1 in /Volumes/Newsmy/FM_dataset/VinDr-Mammo-finding/Train/4402f38e880c5d0272cad908125987e9_1\n"
     ]
    },
    {
     "name": "stderr",
     "output_type": "stream",
     "text": [
      " 28%|██▊       | 489/1768 [04:26<11:54,  1.79it/s]"
     ]
    },
    {
     "name": "stdout",
     "output_type": "stream",
     "text": [
      "Image and info_dict saved for 44229b17b0931efd0afc80439c474259_0 in /Volumes/Newsmy/FM_dataset/VinDr-Mammo-finding/Train/44229b17b0931efd0afc80439c474259_0\n"
     ]
    },
    {
     "name": "stderr",
     "output_type": "stream",
     "text": [
      " 28%|██▊       | 490/1768 [04:26<11:36,  1.83it/s]"
     ]
    },
    {
     "name": "stdout",
     "output_type": "stream",
     "text": [
      "Image and info_dict saved for 4430c6ead70e7557344abb5c23ec0781_0 in /Volumes/Newsmy/FM_dataset/VinDr-Mammo-finding/Train/4430c6ead70e7557344abb5c23ec0781_0\n"
     ]
    },
    {
     "name": "stderr",
     "output_type": "stream",
     "text": [
      " 28%|██▊       | 491/1768 [04:27<11:29,  1.85it/s]"
     ]
    },
    {
     "name": "stdout",
     "output_type": "stream",
     "text": [
      "Image and info_dict saved for 444aafc7f18fbcd01c4ae55f7bf4a843_0 in /Volumes/Newsmy/FM_dataset/VinDr-Mammo-finding/Train/444aafc7f18fbcd01c4ae55f7bf4a843_0\n"
     ]
    },
    {
     "name": "stderr",
     "output_type": "stream",
     "text": [
      " 28%|██▊       | 492/1768 [04:27<11:35,  1.84it/s]"
     ]
    },
    {
     "name": "stdout",
     "output_type": "stream",
     "text": [
      "Image and info_dict saved for 444fe87673e99462984d6ffa1fa1854d_0 in /Volumes/Newsmy/FM_dataset/VinDr-Mammo-finding/Eval/444fe87673e99462984d6ffa1fa1854d_0\n"
     ]
    },
    {
     "name": "stderr",
     "output_type": "stream",
     "text": [
      " 28%|██▊       | 493/1768 [04:28<12:27,  1.71it/s]"
     ]
    },
    {
     "name": "stdout",
     "output_type": "stream",
     "text": [
      "Image and info_dict saved for 4459e5a3c47ab8d6e79d80cf198d60f2_0 in /Volumes/Newsmy/FM_dataset/VinDr-Mammo-finding/Train/4459e5a3c47ab8d6e79d80cf198d60f2_0\n"
     ]
    },
    {
     "name": "stderr",
     "output_type": "stream",
     "text": [
      " 28%|██▊       | 494/1768 [04:28<12:22,  1.72it/s]"
     ]
    },
    {
     "name": "stdout",
     "output_type": "stream",
     "text": [
      "Image and info_dict saved for 4494c6e2c08435784d5b1f25ac7b5869_0 in /Volumes/Newsmy/FM_dataset/VinDr-Mammo-finding/Train/4494c6e2c08435784d5b1f25ac7b5869_0\n",
      "Image and info_dict saved for 4494c6e2c08435784d5b1f25ac7b5869_1 in /Volumes/Newsmy/FM_dataset/VinDr-Mammo-finding/Train/4494c6e2c08435784d5b1f25ac7b5869_1\n"
     ]
    },
    {
     "name": "stderr",
     "output_type": "stream",
     "text": [
      " 28%|██▊       | 495/1768 [04:29<11:34,  1.83it/s]"
     ]
    },
    {
     "name": "stdout",
     "output_type": "stream",
     "text": [
      "Image and info_dict saved for 44d35d157f5796ebc04b5fb51c3c1f12_0 in /Volumes/Newsmy/FM_dataset/VinDr-Mammo-finding/Test/44d35d157f5796ebc04b5fb51c3c1f12_0\n"
     ]
    },
    {
     "name": "stderr",
     "output_type": "stream",
     "text": [
      " 28%|██▊       | 496/1768 [04:29<10:49,  1.96it/s]"
     ]
    },
    {
     "name": "stdout",
     "output_type": "stream",
     "text": [
      "Image and info_dict saved for 452d6df3a8579810afc9a46966f12c5e_0 in /Volumes/Newsmy/FM_dataset/VinDr-Mammo-finding/Test/452d6df3a8579810afc9a46966f12c5e_0\n"
     ]
    },
    {
     "name": "stderr",
     "output_type": "stream",
     "text": [
      " 28%|██▊       | 497/1768 [04:30<10:52,  1.95it/s]"
     ]
    },
    {
     "name": "stdout",
     "output_type": "stream",
     "text": [
      "Image and info_dict saved for 453d94c08533802fc19d3ea67347e01a_0 in /Volumes/Newsmy/FM_dataset/VinDr-Mammo-finding/Train/453d94c08533802fc19d3ea67347e01a_0\n",
      "Image and info_dict saved for 45a8bc598847fa7a8ccb5f6e77e95ed5_0 in /Volumes/Newsmy/FM_dataset/VinDr-Mammo-finding/Test/45a8bc598847fa7a8ccb5f6e77e95ed5_0\n",
      "Image and info_dict saved for 45a8bc598847fa7a8ccb5f6e77e95ed5_1 in /Volumes/Newsmy/FM_dataset/VinDr-Mammo-finding/Test/45a8bc598847fa7a8ccb5f6e77e95ed5_1\n"
     ]
    },
    {
     "name": "stderr",
     "output_type": "stream",
     "text": [
      " 28%|██▊       | 498/1768 [04:31<12:24,  1.71it/s]"
     ]
    },
    {
     "name": "stdout",
     "output_type": "stream",
     "text": [
      "Image and info_dict saved for 45a8bc598847fa7a8ccb5f6e77e95ed5_2 in /Volumes/Newsmy/FM_dataset/VinDr-Mammo-finding/Test/45a8bc598847fa7a8ccb5f6e77e95ed5_2\n"
     ]
    },
    {
     "name": "stderr",
     "output_type": "stream",
     "text": [
      " 28%|██▊       | 499/1768 [04:31<11:23,  1.86it/s]"
     ]
    },
    {
     "name": "stdout",
     "output_type": "stream",
     "text": [
      "Image and info_dict saved for 45b1879e67c9b1e1f17b6590fca88c9d_0 in /Volumes/Newsmy/FM_dataset/VinDr-Mammo-finding/Train/45b1879e67c9b1e1f17b6590fca88c9d_0\n"
     ]
    },
    {
     "name": "stderr",
     "output_type": "stream",
     "text": [
      " 28%|██▊       | 500/1768 [04:31<10:46,  1.96it/s]"
     ]
    },
    {
     "name": "stdout",
     "output_type": "stream",
     "text": [
      "Image and info_dict saved for 45ec33150bc81286b4b654a76c9dbc2a_0 in /Volumes/Newsmy/FM_dataset/VinDr-Mammo-finding/Train/45ec33150bc81286b4b654a76c9dbc2a_0\n"
     ]
    },
    {
     "name": "stderr",
     "output_type": "stream",
     "text": [
      " 28%|██▊       | 501/1768 [04:32<10:05,  2.09it/s]"
     ]
    },
    {
     "name": "stdout",
     "output_type": "stream",
     "text": [
      "Image and info_dict saved for 45fd8949b20bf781633561c32d8c7342_0 in /Volumes/Newsmy/FM_dataset/VinDr-Mammo-finding/Train/45fd8949b20bf781633561c32d8c7342_0\n"
     ]
    },
    {
     "name": "stderr",
     "output_type": "stream",
     "text": [
      " 28%|██▊       | 502/1768 [04:32<10:30,  2.01it/s]"
     ]
    },
    {
     "name": "stdout",
     "output_type": "stream",
     "text": [
      "Image and info_dict saved for 45fedff1b686156052cc1a955ec76019_0 in /Volumes/Newsmy/FM_dataset/VinDr-Mammo-finding/Train/45fedff1b686156052cc1a955ec76019_0\n"
     ]
    },
    {
     "name": "stderr",
     "output_type": "stream",
     "text": [
      " 28%|██▊       | 503/1768 [04:33<10:17,  2.05it/s]"
     ]
    },
    {
     "name": "stdout",
     "output_type": "stream",
     "text": [
      "Image and info_dict saved for 461d48a657a9bfe7b6f7633a95865a90_0 in /Volumes/Newsmy/FM_dataset/VinDr-Mammo-finding/Train/461d48a657a9bfe7b6f7633a95865a90_0\n"
     ]
    },
    {
     "name": "stderr",
     "output_type": "stream",
     "text": [
      " 29%|██▊       | 504/1768 [04:33<10:41,  1.97it/s]"
     ]
    },
    {
     "name": "stdout",
     "output_type": "stream",
     "text": [
      "Image and info_dict saved for 4672c439719dbb46a78d19912f0473ac_0 in /Volumes/Newsmy/FM_dataset/VinDr-Mammo-finding/Train/4672c439719dbb46a78d19912f0473ac_0\n",
      "Image and info_dict saved for 467ec6ad950bb90b6f797d52ac3ab843_0 in /Volumes/Newsmy/FM_dataset/VinDr-Mammo-finding/Train/467ec6ad950bb90b6f797d52ac3ab843_0\n",
      "Image and info_dict saved for 467ec6ad950bb90b6f797d52ac3ab843_1 in /Volumes/Newsmy/FM_dataset/VinDr-Mammo-finding/Train/467ec6ad950bb90b6f797d52ac3ab843_1\n",
      "Image and info_dict saved for 467ec6ad950bb90b6f797d52ac3ab843_2 in /Volumes/Newsmy/FM_dataset/VinDr-Mammo-finding/Train/467ec6ad950bb90b6f797d52ac3ab843_2\n",
      "Image and info_dict saved for 467ec6ad950bb90b6f797d52ac3ab843_3 in /Volumes/Newsmy/FM_dataset/VinDr-Mammo-finding/Train/467ec6ad950bb90b6f797d52ac3ab843_3\n"
     ]
    },
    {
     "name": "stderr",
     "output_type": "stream",
     "text": [
      " 29%|██▊       | 505/1768 [04:34<12:52,  1.63it/s]"
     ]
    },
    {
     "name": "stdout",
     "output_type": "stream",
     "text": [
      "Image and info_dict saved for 467ec6ad950bb90b6f797d52ac3ab843_4 in /Volumes/Newsmy/FM_dataset/VinDr-Mammo-finding/Train/467ec6ad950bb90b6f797d52ac3ab843_4\n"
     ]
    },
    {
     "name": "stderr",
     "output_type": "stream",
     "text": [
      " 29%|██▊       | 506/1768 [04:35<11:58,  1.76it/s]"
     ]
    },
    {
     "name": "stdout",
     "output_type": "stream",
     "text": [
      "Image and info_dict saved for 467ef88ae1ce2bf8a5f28c36c20bd9d0_0 in /Volumes/Newsmy/FM_dataset/VinDr-Mammo-finding/Train/467ef88ae1ce2bf8a5f28c36c20bd9d0_0\n"
     ]
    },
    {
     "name": "stderr",
     "output_type": "stream",
     "text": [
      " 29%|██▊       | 507/1768 [04:35<13:11,  1.59it/s]"
     ]
    },
    {
     "name": "stdout",
     "output_type": "stream",
     "text": [
      "Image and info_dict saved for 46c99229cd29d99ec8ab2ccfa164133f_0 in /Volumes/Newsmy/FM_dataset/VinDr-Mammo-finding/Test/46c99229cd29d99ec8ab2ccfa164133f_0\n"
     ]
    },
    {
     "name": "stderr",
     "output_type": "stream",
     "text": [
      " 29%|██▊       | 508/1768 [04:36<13:03,  1.61it/s]"
     ]
    },
    {
     "name": "stdout",
     "output_type": "stream",
     "text": [
      "Image and info_dict saved for 46d9c0dced48fa61647ce80db623491e_0 in /Volumes/Newsmy/FM_dataset/VinDr-Mammo-finding/Train/46d9c0dced48fa61647ce80db623491e_0\n"
     ]
    },
    {
     "name": "stderr",
     "output_type": "stream",
     "text": [
      " 29%|██▉       | 509/1768 [04:37<12:40,  1.66it/s]"
     ]
    },
    {
     "name": "stdout",
     "output_type": "stream",
     "text": [
      "Image and info_dict saved for 46fe9f21de175afc50e5ed67a85bc4c2_0 in /Volumes/Newsmy/FM_dataset/VinDr-Mammo-finding/Train/46fe9f21de175afc50e5ed67a85bc4c2_0\n",
      "Image and info_dict saved for 46fe9f21de175afc50e5ed67a85bc4c2_1 in /Volumes/Newsmy/FM_dataset/VinDr-Mammo-finding/Train/46fe9f21de175afc50e5ed67a85bc4c2_1\n"
     ]
    },
    {
     "name": "stderr",
     "output_type": "stream",
     "text": [
      " 29%|██▉       | 510/1768 [04:37<12:16,  1.71it/s]"
     ]
    },
    {
     "name": "stdout",
     "output_type": "stream",
     "text": [
      "Image and info_dict saved for 472a2fe6865d2f3825e12758b3b194f2_0 in /Volumes/Newsmy/FM_dataset/VinDr-Mammo-finding/Train/472a2fe6865d2f3825e12758b3b194f2_0\n",
      "Image and info_dict saved for 472a2fe6865d2f3825e12758b3b194f2_1 in /Volumes/Newsmy/FM_dataset/VinDr-Mammo-finding/Train/472a2fe6865d2f3825e12758b3b194f2_1\n"
     ]
    },
    {
     "name": "stderr",
     "output_type": "stream",
     "text": [
      " 29%|██▉       | 511/1768 [04:38<11:50,  1.77it/s]"
     ]
    },
    {
     "name": "stdout",
     "output_type": "stream",
     "text": [
      "Image and info_dict saved for 4785b56fa6a49b939087d0544a04e65f_0 in /Volumes/Newsmy/FM_dataset/VinDr-Mammo-finding/Train/4785b56fa6a49b939087d0544a04e65f_0\n",
      "Image and info_dict saved for 4785b56fa6a49b939087d0544a04e65f_1 in /Volumes/Newsmy/FM_dataset/VinDr-Mammo-finding/Train/4785b56fa6a49b939087d0544a04e65f_1\n"
     ]
    },
    {
     "name": "stderr",
     "output_type": "stream",
     "text": [
      " 29%|██▉       | 512/1768 [04:38<11:52,  1.76it/s]"
     ]
    },
    {
     "name": "stdout",
     "output_type": "stream",
     "text": [
      "Image and info_dict saved for 478aa6494133e2a21495eca5d22e0ac8_0 in /Volumes/Newsmy/FM_dataset/VinDr-Mammo-finding/Train/478aa6494133e2a21495eca5d22e0ac8_0\n"
     ]
    },
    {
     "name": "stderr",
     "output_type": "stream",
     "text": [
      " 29%|██▉       | 513/1768 [04:39<11:22,  1.84it/s]"
     ]
    },
    {
     "name": "stdout",
     "output_type": "stream",
     "text": [
      "Image and info_dict saved for 47b7e7e5dc8e865511610b1225ce4f05_0 in /Volumes/Newsmy/FM_dataset/VinDr-Mammo-finding/Train/47b7e7e5dc8e865511610b1225ce4f05_0\n"
     ]
    },
    {
     "name": "stderr",
     "output_type": "stream",
     "text": [
      " 29%|██▉       | 514/1768 [04:39<11:01,  1.90it/s]"
     ]
    },
    {
     "name": "stdout",
     "output_type": "stream",
     "text": [
      "Image and info_dict saved for 480b6699cf40d11d14b4ce7ecdd0d6eb_0 in /Volumes/Newsmy/FM_dataset/VinDr-Mammo-finding/Eval/480b6699cf40d11d14b4ce7ecdd0d6eb_0\n"
     ]
    },
    {
     "name": "stderr",
     "output_type": "stream",
     "text": [
      " 29%|██▉       | 515/1768 [04:40<10:27,  2.00it/s]"
     ]
    },
    {
     "name": "stdout",
     "output_type": "stream",
     "text": [
      "Image and info_dict saved for 4838c9ff9e5a1c0fcfbce86d1dd85384_0 in /Volumes/Newsmy/FM_dataset/VinDr-Mammo-finding/Test/4838c9ff9e5a1c0fcfbce86d1dd85384_0\n"
     ]
    },
    {
     "name": "stderr",
     "output_type": "stream",
     "text": [
      " 29%|██▉       | 516/1768 [04:40<10:53,  1.92it/s]"
     ]
    },
    {
     "name": "stdout",
     "output_type": "stream",
     "text": [
      "Image and info_dict saved for 4872fe367cd03b30b0da74d7aabb9ae7_0 in /Volumes/Newsmy/FM_dataset/VinDr-Mammo-finding/Train/4872fe367cd03b30b0da74d7aabb9ae7_0\n"
     ]
    },
    {
     "name": "stderr",
     "output_type": "stream",
     "text": [
      " 29%|██▉       | 517/1768 [04:41<10:21,  2.01it/s]"
     ]
    },
    {
     "name": "stdout",
     "output_type": "stream",
     "text": [
      "Image and info_dict saved for 48d0e802edd6506cf5549db3f09b3c4a_0 in /Volumes/Newsmy/FM_dataset/VinDr-Mammo-finding/Train/48d0e802edd6506cf5549db3f09b3c4a_0\n",
      "Image and info_dict saved for 48d0e802edd6506cf5549db3f09b3c4a_1 in /Volumes/Newsmy/FM_dataset/VinDr-Mammo-finding/Train/48d0e802edd6506cf5549db3f09b3c4a_1\n",
      "Image and info_dict saved for 48d67e59b596a5d42b2ca037839979e1_0 in /Volumes/Newsmy/FM_dataset/VinDr-Mammo-finding/Train/48d67e59b596a5d42b2ca037839979e1_0\n",
      "Image and info_dict saved for 48d67e59b596a5d42b2ca037839979e1_1 in /Volumes/Newsmy/FM_dataset/VinDr-Mammo-finding/Train/48d67e59b596a5d42b2ca037839979e1_1\n"
     ]
    },
    {
     "name": "stderr",
     "output_type": "stream",
     "text": [
      " 29%|██▉       | 518/1768 [04:41<10:43,  1.94it/s]"
     ]
    },
    {
     "name": "stdout",
     "output_type": "stream",
     "text": [
      "Image and info_dict saved for 48d67e59b596a5d42b2ca037839979e1_2 in /Volumes/Newsmy/FM_dataset/VinDr-Mammo-finding/Train/48d67e59b596a5d42b2ca037839979e1_2\n"
     ]
    },
    {
     "name": "stderr",
     "output_type": "stream",
     "text": [
      " 29%|██▉       | 519/1768 [04:42<09:49,  2.12it/s]"
     ]
    },
    {
     "name": "stdout",
     "output_type": "stream",
     "text": [
      "Image and info_dict saved for 491dccc55dfaad63b0d2eaf6fc7daa8b_0 in /Volumes/Newsmy/FM_dataset/VinDr-Mammo-finding/Test/491dccc55dfaad63b0d2eaf6fc7daa8b_0\n"
     ]
    },
    {
     "name": "stderr",
     "output_type": "stream",
     "text": [
      " 29%|██▉       | 520/1768 [04:42<09:50,  2.11it/s]"
     ]
    },
    {
     "name": "stdout",
     "output_type": "stream",
     "text": [
      "Image and info_dict saved for 492dd7f17bc6af6fb657b874cadcd66a_0 in /Volumes/Newsmy/FM_dataset/VinDr-Mammo-finding/Train/492dd7f17bc6af6fb657b874cadcd66a_0\n"
     ]
    },
    {
     "name": "stderr",
     "output_type": "stream",
     "text": [
      " 29%|██▉       | 521/1768 [04:43<10:12,  2.04it/s]"
     ]
    },
    {
     "name": "stdout",
     "output_type": "stream",
     "text": [
      "Image and info_dict saved for 493609b26e1341ce737a60b5b930a757_0 in /Volumes/Newsmy/FM_dataset/VinDr-Mammo-finding/Train/493609b26e1341ce737a60b5b930a757_0\n"
     ]
    },
    {
     "name": "stderr",
     "output_type": "stream",
     "text": [
      " 30%|██▉       | 522/1768 [04:43<09:53,  2.10it/s]"
     ]
    },
    {
     "name": "stdout",
     "output_type": "stream",
     "text": [
      "Image and info_dict saved for 49a730e8df9972644c80002e35ce15d2_0 in /Volumes/Newsmy/FM_dataset/VinDr-Mammo-finding/Train/49a730e8df9972644c80002e35ce15d2_0\n"
     ]
    },
    {
     "name": "stderr",
     "output_type": "stream",
     "text": [
      " 30%|██▉       | 523/1768 [04:43<09:09,  2.27it/s]"
     ]
    },
    {
     "name": "stdout",
     "output_type": "stream",
     "text": [
      "Image and info_dict saved for 49cf189f3a033a24396459793ad27017_0 in /Volumes/Newsmy/FM_dataset/VinDr-Mammo-finding/Train/49cf189f3a033a24396459793ad27017_0\n"
     ]
    },
    {
     "name": "stderr",
     "output_type": "stream",
     "text": [
      " 30%|██▉       | 524/1768 [04:44<09:00,  2.30it/s]"
     ]
    },
    {
     "name": "stdout",
     "output_type": "stream",
     "text": [
      "Image and info_dict saved for 49d1e8a82b271d3d589dfad38f72f73d_0 in /Volumes/Newsmy/FM_dataset/VinDr-Mammo-finding/Train/49d1e8a82b271d3d589dfad38f72f73d_0\n"
     ]
    },
    {
     "name": "stderr",
     "output_type": "stream",
     "text": [
      " 30%|██▉       | 525/1768 [04:44<09:38,  2.15it/s]"
     ]
    },
    {
     "name": "stdout",
     "output_type": "stream",
     "text": [
      "Image and info_dict saved for 49ef5e8188be5318bcca7a7e26fdd4b7_0 in /Volumes/Newsmy/FM_dataset/VinDr-Mammo-finding/Train/49ef5e8188be5318bcca7a7e26fdd4b7_0\n"
     ]
    },
    {
     "name": "stderr",
     "output_type": "stream",
     "text": [
      " 30%|██▉       | 526/1768 [04:45<10:32,  1.96it/s]"
     ]
    },
    {
     "name": "stdout",
     "output_type": "stream",
     "text": [
      "Image and info_dict saved for 49f860ced6222146c04dd74355255abf_0 in /Volumes/Newsmy/FM_dataset/VinDr-Mammo-finding/Train/49f860ced6222146c04dd74355255abf_0\n",
      "Image and info_dict saved for 49f860ced6222146c04dd74355255abf_1 in /Volumes/Newsmy/FM_dataset/VinDr-Mammo-finding/Train/49f860ced6222146c04dd74355255abf_1\n"
     ]
    },
    {
     "name": "stderr",
     "output_type": "stream",
     "text": [
      " 30%|██▉       | 527/1768 [04:46<10:52,  1.90it/s]"
     ]
    },
    {
     "name": "stdout",
     "output_type": "stream",
     "text": [
      "Image and info_dict saved for 4a06e41e38450e4c6e743b8e8da1ec60_0 in /Volumes/Newsmy/FM_dataset/VinDr-Mammo-finding/Test/4a06e41e38450e4c6e743b8e8da1ec60_0\n",
      "Image and info_dict saved for 4a06e41e38450e4c6e743b8e8da1ec60_1 in /Volumes/Newsmy/FM_dataset/VinDr-Mammo-finding/Test/4a06e41e38450e4c6e743b8e8da1ec60_1\n"
     ]
    },
    {
     "name": "stderr",
     "output_type": "stream",
     "text": [
      " 30%|██▉       | 528/1768 [04:46<11:48,  1.75it/s]"
     ]
    },
    {
     "name": "stdout",
     "output_type": "stream",
     "text": [
      "Image and info_dict saved for 4a29dbe9d326db4d304b619ac9b8d10d_0 in /Volumes/Newsmy/FM_dataset/VinDr-Mammo-finding/Test/4a29dbe9d326db4d304b619ac9b8d10d_0\n",
      "Image and info_dict saved for 4a29dbe9d326db4d304b619ac9b8d10d_1 in /Volumes/Newsmy/FM_dataset/VinDr-Mammo-finding/Test/4a29dbe9d326db4d304b619ac9b8d10d_1\n"
     ]
    },
    {
     "name": "stderr",
     "output_type": "stream",
     "text": [
      " 30%|██▉       | 529/1768 [04:47<12:00,  1.72it/s]"
     ]
    },
    {
     "name": "stdout",
     "output_type": "stream",
     "text": [
      "Image and info_dict saved for 4a60c9d923795e3162879b0c84a2a1b9_0 in /Volumes/Newsmy/FM_dataset/VinDr-Mammo-finding/Train/4a60c9d923795e3162879b0c84a2a1b9_0\n"
     ]
    },
    {
     "name": "stderr",
     "output_type": "stream",
     "text": [
      " 30%|██▉       | 530/1768 [04:47<11:08,  1.85it/s]"
     ]
    },
    {
     "name": "stdout",
     "output_type": "stream",
     "text": [
      "Image and info_dict saved for 4a97666bfc0fcacbe5509c2bfd9368e9_0 in /Volumes/Newsmy/FM_dataset/VinDr-Mammo-finding/Train/4a97666bfc0fcacbe5509c2bfd9368e9_0\n"
     ]
    },
    {
     "name": "stderr",
     "output_type": "stream",
     "text": [
      " 30%|███       | 531/1768 [04:48<10:22,  1.99it/s]"
     ]
    },
    {
     "name": "stdout",
     "output_type": "stream",
     "text": [
      "Image and info_dict saved for 4ae52d114924c90767dfb6ab86ea460d_0 in /Volumes/Newsmy/FM_dataset/VinDr-Mammo-finding/Test/4ae52d114924c90767dfb6ab86ea460d_0\n"
     ]
    },
    {
     "name": "stderr",
     "output_type": "stream",
     "text": [
      " 30%|███       | 532/1768 [04:48<10:32,  1.95it/s]"
     ]
    },
    {
     "name": "stdout",
     "output_type": "stream",
     "text": [
      "Image and info_dict saved for 4afca14421444ba0184608751cb4b3ef_0 in /Volumes/Newsmy/FM_dataset/VinDr-Mammo-finding/Train/4afca14421444ba0184608751cb4b3ef_0\n"
     ]
    },
    {
     "name": "stderr",
     "output_type": "stream",
     "text": [
      " 30%|███       | 533/1768 [04:49<10:16,  2.00it/s]"
     ]
    },
    {
     "name": "stdout",
     "output_type": "stream",
     "text": [
      "Image and info_dict saved for 4b08c4f184eb69a3c732c8e8eb627af8_0 in /Volumes/Newsmy/FM_dataset/VinDr-Mammo-finding/Test/4b08c4f184eb69a3c732c8e8eb627af8_0\n",
      "Image and info_dict saved for 4b08c4f184eb69a3c732c8e8eb627af8_1 in /Volumes/Newsmy/FM_dataset/VinDr-Mammo-finding/Test/4b08c4f184eb69a3c732c8e8eb627af8_1\n"
     ]
    },
    {
     "name": "stderr",
     "output_type": "stream",
     "text": [
      " 30%|███       | 534/1768 [04:49<11:01,  1.86it/s]"
     ]
    },
    {
     "name": "stdout",
     "output_type": "stream",
     "text": [
      "Image and info_dict saved for 4b1e47252823c8f580ac4b9e6c2429ce_0 in /Volumes/Newsmy/FM_dataset/VinDr-Mammo-finding/Eval/4b1e47252823c8f580ac4b9e6c2429ce_0\n"
     ]
    },
    {
     "name": "stderr",
     "output_type": "stream",
     "text": [
      " 30%|███       | 535/1768 [04:50<11:55,  1.72it/s]"
     ]
    },
    {
     "name": "stdout",
     "output_type": "stream",
     "text": [
      "Image and info_dict saved for 4b2f606afd7ed6115e03f2ecc270c0bd_0 in /Volumes/Newsmy/FM_dataset/VinDr-Mammo-finding/Train/4b2f606afd7ed6115e03f2ecc270c0bd_0\n",
      "Image and info_dict saved for 4b2f606afd7ed6115e03f2ecc270c0bd_1 in /Volumes/Newsmy/FM_dataset/VinDr-Mammo-finding/Train/4b2f606afd7ed6115e03f2ecc270c0bd_1\n",
      "Image and info_dict saved for 4b9618d7a794a67ec6b53a187254b700_0 in /Volumes/Newsmy/FM_dataset/VinDr-Mammo-finding/Train/4b9618d7a794a67ec6b53a187254b700_0\n",
      "Image and info_dict saved for 4b9618d7a794a67ec6b53a187254b700_1 in /Volumes/Newsmy/FM_dataset/VinDr-Mammo-finding/Train/4b9618d7a794a67ec6b53a187254b700_1\n"
     ]
    },
    {
     "name": "stderr",
     "output_type": "stream",
     "text": [
      " 30%|███       | 536/1768 [04:51<12:50,  1.60it/s]"
     ]
    },
    {
     "name": "stdout",
     "output_type": "stream",
     "text": [
      "Image and info_dict saved for 4b9618d7a794a67ec6b53a187254b700_2 in /Volumes/Newsmy/FM_dataset/VinDr-Mammo-finding/Train/4b9618d7a794a67ec6b53a187254b700_2\n"
     ]
    },
    {
     "name": "stderr",
     "output_type": "stream",
     "text": [
      " 30%|███       | 537/1768 [04:51<11:53,  1.72it/s]"
     ]
    },
    {
     "name": "stdout",
     "output_type": "stream",
     "text": [
      "Image and info_dict saved for 4bdadec599f8799ded0cece115afbfa0_0 in /Volumes/Newsmy/FM_dataset/VinDr-Mammo-finding/Train/4bdadec599f8799ded0cece115afbfa0_0\n"
     ]
    },
    {
     "name": "stderr",
     "output_type": "stream",
     "text": [
      " 30%|███       | 538/1768 [04:52<11:26,  1.79it/s]"
     ]
    },
    {
     "name": "stdout",
     "output_type": "stream",
     "text": [
      "Image and info_dict saved for 4bedc4697d4a92230ba840a09c82d590_0 in /Volumes/Newsmy/FM_dataset/VinDr-Mammo-finding/Train/4bedc4697d4a92230ba840a09c82d590_0\n"
     ]
    },
    {
     "name": "stderr",
     "output_type": "stream",
     "text": [
      " 30%|███       | 539/1768 [04:52<11:40,  1.75it/s]"
     ]
    },
    {
     "name": "stdout",
     "output_type": "stream",
     "text": [
      "Image and info_dict saved for 4c168062d124de078b02efb790f2a65c_0 in /Volumes/Newsmy/FM_dataset/VinDr-Mammo-finding/Test/4c168062d124de078b02efb790f2a65c_0\n",
      "Image and info_dict saved for 4c168062d124de078b02efb790f2a65c_1 in /Volumes/Newsmy/FM_dataset/VinDr-Mammo-finding/Test/4c168062d124de078b02efb790f2a65c_1\n"
     ]
    },
    {
     "name": "stderr",
     "output_type": "stream",
     "text": [
      " 31%|███       | 540/1768 [04:53<11:56,  1.71it/s]"
     ]
    },
    {
     "name": "stdout",
     "output_type": "stream",
     "text": [
      "Image and info_dict saved for 4c1b0979ce36390475022cd826716eed_0 in /Volumes/Newsmy/FM_dataset/VinDr-Mammo-finding/Train/4c1b0979ce36390475022cd826716eed_0\n"
     ]
    },
    {
     "name": "stderr",
     "output_type": "stream",
     "text": [
      " 31%|███       | 541/1768 [04:53<11:29,  1.78it/s]"
     ]
    },
    {
     "name": "stdout",
     "output_type": "stream",
     "text": [
      "Image and info_dict saved for 4c1c564851ee1551ea846caab6ad82c4_0 in /Volumes/Newsmy/FM_dataset/VinDr-Mammo-finding/Train/4c1c564851ee1551ea846caab6ad82c4_0\n"
     ]
    },
    {
     "name": "stderr",
     "output_type": "stream",
     "text": [
      " 31%|███       | 542/1768 [04:54<10:40,  1.91it/s]"
     ]
    },
    {
     "name": "stdout",
     "output_type": "stream",
     "text": [
      "Image and info_dict saved for 4c30f4f248be62ba9497754adeca5acd_0 in /Volumes/Newsmy/FM_dataset/VinDr-Mammo-finding/Train/4c30f4f248be62ba9497754adeca5acd_0\n"
     ]
    },
    {
     "name": "stderr",
     "output_type": "stream",
     "text": [
      " 31%|███       | 543/1768 [04:55<12:28,  1.64it/s]"
     ]
    },
    {
     "name": "stdout",
     "output_type": "stream",
     "text": [
      "Image and info_dict saved for 4c3a8a7db202ea367baca51aa5b3b6d5_0 in /Volumes/Newsmy/FM_dataset/VinDr-Mammo-finding/Train/4c3a8a7db202ea367baca51aa5b3b6d5_0\n",
      "Image and info_dict saved for 4c3a8a7db202ea367baca51aa5b3b6d5_1 in /Volumes/Newsmy/FM_dataset/VinDr-Mammo-finding/Train/4c3a8a7db202ea367baca51aa5b3b6d5_1\n"
     ]
    },
    {
     "name": "stderr",
     "output_type": "stream",
     "text": [
      " 31%|███       | 544/1768 [04:55<11:37,  1.76it/s]"
     ]
    },
    {
     "name": "stdout",
     "output_type": "stream",
     "text": [
      "Image and info_dict saved for 4c6de4e3e2259f0bb4e7f3a7e5243d3f_0 in /Volumes/Newsmy/FM_dataset/VinDr-Mammo-finding/Train/4c6de4e3e2259f0bb4e7f3a7e5243d3f_0\n"
     ]
    },
    {
     "name": "stderr",
     "output_type": "stream",
     "text": [
      " 31%|███       | 545/1768 [04:56<11:13,  1.82it/s]"
     ]
    },
    {
     "name": "stdout",
     "output_type": "stream",
     "text": [
      "Image and info_dict saved for 4cbdb93f6b33b976dcb1578fb405e874_0 in /Volumes/Newsmy/FM_dataset/VinDr-Mammo-finding/Test/4cbdb93f6b33b976dcb1578fb405e874_0\n"
     ]
    },
    {
     "name": "stderr",
     "output_type": "stream",
     "text": [
      " 31%|███       | 546/1768 [04:56<10:50,  1.88it/s]"
     ]
    },
    {
     "name": "stdout",
     "output_type": "stream",
     "text": [
      "Image and info_dict saved for 4ccf62726edc8b13770d311b9929f8e0_0 in /Volumes/Newsmy/FM_dataset/VinDr-Mammo-finding/Train/4ccf62726edc8b13770d311b9929f8e0_0\n"
     ]
    },
    {
     "name": "stderr",
     "output_type": "stream",
     "text": [
      " 31%|███       | 547/1768 [04:57<10:23,  1.96it/s]"
     ]
    },
    {
     "name": "stdout",
     "output_type": "stream",
     "text": [
      "Image and info_dict saved for 4d11b9d3d15d656ddc4313aec9ff6822_0 in /Volumes/Newsmy/FM_dataset/VinDr-Mammo-finding/Eval/4d11b9d3d15d656ddc4313aec9ff6822_0\n"
     ]
    },
    {
     "name": "stderr",
     "output_type": "stream",
     "text": [
      " 31%|███       | 548/1768 [04:57<11:23,  1.79it/s]"
     ]
    },
    {
     "name": "stdout",
     "output_type": "stream",
     "text": [
      "Image and info_dict saved for 4d1d2cd40d8db9f452bd1b01771c1f9a_0 in /Volumes/Newsmy/FM_dataset/VinDr-Mammo-finding/Train/4d1d2cd40d8db9f452bd1b01771c1f9a_0\n",
      "Image and info_dict saved for 4d1d2cd40d8db9f452bd1b01771c1f9a_1 in /Volumes/Newsmy/FM_dataset/VinDr-Mammo-finding/Train/4d1d2cd40d8db9f452bd1b01771c1f9a_1\n"
     ]
    },
    {
     "name": "stderr",
     "output_type": "stream",
     "text": [
      " 31%|███       | 549/1768 [04:58<10:33,  1.92it/s]"
     ]
    },
    {
     "name": "stdout",
     "output_type": "stream",
     "text": [
      "Image and info_dict saved for 4d40458601ac49f2e07a56ead392a189_0 in /Volumes/Newsmy/FM_dataset/VinDr-Mammo-finding/Test/4d40458601ac49f2e07a56ead392a189_0\n",
      "Image and info_dict saved for 4d59a1f3bc1183b998c28b18f531fb9d_0 in /Volumes/Newsmy/FM_dataset/VinDr-Mammo-finding/Train/4d59a1f3bc1183b998c28b18f531fb9d_0\n",
      "Image and info_dict saved for 4d59a1f3bc1183b998c28b18f531fb9d_1 in /Volumes/Newsmy/FM_dataset/VinDr-Mammo-finding/Train/4d59a1f3bc1183b998c28b18f531fb9d_1\n"
     ]
    },
    {
     "name": "stderr",
     "output_type": "stream",
     "text": [
      " 31%|███       | 550/1768 [04:58<11:31,  1.76it/s]"
     ]
    },
    {
     "name": "stdout",
     "output_type": "stream",
     "text": [
      "Image and info_dict saved for 4d59a1f3bc1183b998c28b18f531fb9d_2 in /Volumes/Newsmy/FM_dataset/VinDr-Mammo-finding/Train/4d59a1f3bc1183b998c28b18f531fb9d_2\n"
     ]
    },
    {
     "name": "stderr",
     "output_type": "stream",
     "text": [
      " 31%|███       | 551/1768 [04:59<12:03,  1.68it/s]"
     ]
    },
    {
     "name": "stdout",
     "output_type": "stream",
     "text": [
      "Image and info_dict saved for 4d63c40fb038d24bb1ff6da3912272c7_0 in /Volumes/Newsmy/FM_dataset/VinDr-Mammo-finding/Train/4d63c40fb038d24bb1ff6da3912272c7_0\n",
      "Image and info_dict saved for 4d63c40fb038d24bb1ff6da3912272c7_1 in /Volumes/Newsmy/FM_dataset/VinDr-Mammo-finding/Train/4d63c40fb038d24bb1ff6da3912272c7_1\n",
      "Image and info_dict saved for 4d63c40fb038d24bb1ff6da3912272c7_2 in /Volumes/Newsmy/FM_dataset/VinDr-Mammo-finding/Train/4d63c40fb038d24bb1ff6da3912272c7_2\n"
     ]
    },
    {
     "name": "stderr",
     "output_type": "stream",
     "text": [
      " 31%|███       | 552/1768 [05:00<11:37,  1.74it/s]"
     ]
    },
    {
     "name": "stdout",
     "output_type": "stream",
     "text": [
      "Image and info_dict saved for 4d96d394fe4b20778014bdde96b5d34e_0 in /Volumes/Newsmy/FM_dataset/VinDr-Mammo-finding/Test/4d96d394fe4b20778014bdde96b5d34e_0\n"
     ]
    },
    {
     "name": "stderr",
     "output_type": "stream",
     "text": [
      " 31%|███▏      | 553/1768 [05:00<10:29,  1.93it/s]"
     ]
    },
    {
     "name": "stdout",
     "output_type": "stream",
     "text": [
      "Image and info_dict saved for 4da72fbf2d9cb39fbc09b5d369a3a078_0 in /Volumes/Newsmy/FM_dataset/VinDr-Mammo-finding/Test/4da72fbf2d9cb39fbc09b5d369a3a078_0\n"
     ]
    },
    {
     "name": "stderr",
     "output_type": "stream",
     "text": [
      " 31%|███▏      | 554/1768 [05:01<10:39,  1.90it/s]"
     ]
    },
    {
     "name": "stdout",
     "output_type": "stream",
     "text": [
      "Image and info_dict saved for 4dd8faf113a9421e03a6e2bcd4238da2_0 in /Volumes/Newsmy/FM_dataset/VinDr-Mammo-finding/Train/4dd8faf113a9421e03a6e2bcd4238da2_0\n"
     ]
    },
    {
     "name": "stderr",
     "output_type": "stream",
     "text": [
      " 31%|███▏      | 555/1768 [05:01<09:39,  2.09it/s]"
     ]
    },
    {
     "name": "stdout",
     "output_type": "stream",
     "text": [
      "Image and info_dict saved for 4dd908b41dbb97c46b7a8127ef88a647_0 in /Volumes/Newsmy/FM_dataset/VinDr-Mammo-finding/Test/4dd908b41dbb97c46b7a8127ef88a647_0\n"
     ]
    },
    {
     "name": "stderr",
     "output_type": "stream",
     "text": [
      " 31%|███▏      | 556/1768 [05:01<09:42,  2.08it/s]"
     ]
    },
    {
     "name": "stdout",
     "output_type": "stream",
     "text": [
      "Image and info_dict saved for 4e18bc58696aa628e02c43be53b73cda_0 in /Volumes/Newsmy/FM_dataset/VinDr-Mammo-finding/Test/4e18bc58696aa628e02c43be53b73cda_0\n"
     ]
    },
    {
     "name": "stderr",
     "output_type": "stream",
     "text": [
      " 32%|███▏      | 557/1768 [05:02<09:26,  2.14it/s]"
     ]
    },
    {
     "name": "stdout",
     "output_type": "stream",
     "text": [
      "Image and info_dict saved for 4e345e88925005443f0be9ca6ad6916c_0 in /Volumes/Newsmy/FM_dataset/VinDr-Mammo-finding/Train/4e345e88925005443f0be9ca6ad6916c_0\n"
     ]
    },
    {
     "name": "stderr",
     "output_type": "stream",
     "text": [
      " 32%|███▏      | 558/1768 [05:02<09:44,  2.07it/s]"
     ]
    },
    {
     "name": "stdout",
     "output_type": "stream",
     "text": [
      "Image and info_dict saved for 4e3a578fe535ea4f5258d3f7f4419db8_0 in /Volumes/Newsmy/FM_dataset/VinDr-Mammo-finding/Train/4e3a578fe535ea4f5258d3f7f4419db8_0\n"
     ]
    },
    {
     "name": "stderr",
     "output_type": "stream",
     "text": [
      " 32%|███▏      | 559/1768 [05:03<09:43,  2.07it/s]"
     ]
    },
    {
     "name": "stdout",
     "output_type": "stream",
     "text": [
      "Image and info_dict saved for 4ef9932a7e2d5a34097793dd68e3d403_0 in /Volumes/Newsmy/FM_dataset/VinDr-Mammo-finding/Eval/4ef9932a7e2d5a34097793dd68e3d403_0\n"
     ]
    },
    {
     "name": "stderr",
     "output_type": "stream",
     "text": [
      " 32%|███▏      | 560/1768 [05:03<09:26,  2.13it/s]"
     ]
    },
    {
     "name": "stdout",
     "output_type": "stream",
     "text": [
      "Image and info_dict saved for 4efef828cbd9e843c82fd5028389b3ae_0 in /Volumes/Newsmy/FM_dataset/VinDr-Mammo-finding/Train/4efef828cbd9e843c82fd5028389b3ae_0\n"
     ]
    },
    {
     "name": "stderr",
     "output_type": "stream",
     "text": [
      " 32%|███▏      | 561/1768 [05:04<09:19,  2.16it/s]"
     ]
    },
    {
     "name": "stdout",
     "output_type": "stream",
     "text": [
      "Image and info_dict saved for 4f0b75a4d53ebd31eb54d68f03eb44a2_0 in /Volumes/Newsmy/FM_dataset/VinDr-Mammo-finding/Eval/4f0b75a4d53ebd31eb54d68f03eb44a2_0\n"
     ]
    },
    {
     "name": "stderr",
     "output_type": "stream",
     "text": [
      " 32%|███▏      | 562/1768 [05:04<09:19,  2.15it/s]"
     ]
    },
    {
     "name": "stdout",
     "output_type": "stream",
     "text": [
      "Image and info_dict saved for 4f78dc1158558f3f6753e055c1c318a4_0 in /Volumes/Newsmy/FM_dataset/VinDr-Mammo-finding/Train/4f78dc1158558f3f6753e055c1c318a4_0\n"
     ]
    },
    {
     "name": "stderr",
     "output_type": "stream",
     "text": [
      " 32%|███▏      | 563/1768 [05:05<09:54,  2.03it/s]"
     ]
    },
    {
     "name": "stdout",
     "output_type": "stream",
     "text": [
      "Image and info_dict saved for 502045422196d1dfbe9742c277b0b6e7_0 in /Volumes/Newsmy/FM_dataset/VinDr-Mammo-finding/Train/502045422196d1dfbe9742c277b0b6e7_0\n"
     ]
    },
    {
     "name": "stderr",
     "output_type": "stream",
     "text": [
      " 32%|███▏      | 564/1768 [05:05<10:36,  1.89it/s]"
     ]
    },
    {
     "name": "stdout",
     "output_type": "stream",
     "text": [
      "Image and info_dict saved for 5054046e40bc6da524e7e8beaa6f115f_0 in /Volumes/Newsmy/FM_dataset/VinDr-Mammo-finding/Train/5054046e40bc6da524e7e8beaa6f115f_0\n",
      "Image and info_dict saved for 5054046e40bc6da524e7e8beaa6f115f_1 in /Volumes/Newsmy/FM_dataset/VinDr-Mammo-finding/Train/5054046e40bc6da524e7e8beaa6f115f_1\n"
     ]
    },
    {
     "name": "stderr",
     "output_type": "stream",
     "text": [
      " 32%|███▏      | 565/1768 [05:06<10:23,  1.93it/s]"
     ]
    },
    {
     "name": "stdout",
     "output_type": "stream",
     "text": [
      "Image and info_dict saved for 507ef0dd8b7e384f3b2e6c893286e2f4_0 in /Volumes/Newsmy/FM_dataset/VinDr-Mammo-finding/Train/507ef0dd8b7e384f3b2e6c893286e2f4_0\n"
     ]
    },
    {
     "name": "stderr",
     "output_type": "stream",
     "text": [
      " 32%|███▏      | 566/1768 [05:06<10:59,  1.82it/s]"
     ]
    },
    {
     "name": "stdout",
     "output_type": "stream",
     "text": [
      "Image and info_dict saved for 509310f050909df752c2f63c4ab4f750_0 in /Volumes/Newsmy/FM_dataset/VinDr-Mammo-finding/Train/509310f050909df752c2f63c4ab4f750_0\n",
      "Image and info_dict saved for 509310f050909df752c2f63c4ab4f750_1 in /Volumes/Newsmy/FM_dataset/VinDr-Mammo-finding/Train/509310f050909df752c2f63c4ab4f750_1\n"
     ]
    },
    {
     "name": "stderr",
     "output_type": "stream",
     "text": [
      " 32%|███▏      | 567/1768 [05:07<11:35,  1.73it/s]"
     ]
    },
    {
     "name": "stdout",
     "output_type": "stream",
     "text": [
      "Image and info_dict saved for 50c59bcafdae0aca9af54cb36bc43e32_0 in /Volumes/Newsmy/FM_dataset/VinDr-Mammo-finding/Eval/50c59bcafdae0aca9af54cb36bc43e32_0\n",
      "Image and info_dict saved for 50c59bcafdae0aca9af54cb36bc43e32_1 in /Volumes/Newsmy/FM_dataset/VinDr-Mammo-finding/Eval/50c59bcafdae0aca9af54cb36bc43e32_1\n"
     ]
    },
    {
     "name": "stderr",
     "output_type": "stream",
     "text": [
      " 32%|███▏      | 568/1768 [05:08<11:00,  1.82it/s]"
     ]
    },
    {
     "name": "stdout",
     "output_type": "stream",
     "text": [
      "Image and info_dict saved for 50ce34f1ab60c2c42e03321855568cb2_0 in /Volumes/Newsmy/FM_dataset/VinDr-Mammo-finding/Test/50ce34f1ab60c2c42e03321855568cb2_0\n"
     ]
    },
    {
     "name": "stderr",
     "output_type": "stream",
     "text": [
      " 32%|███▏      | 569/1768 [05:08<10:54,  1.83it/s]"
     ]
    },
    {
     "name": "stdout",
     "output_type": "stream",
     "text": [
      "Image and info_dict saved for 510552a160e46b33a48b8c523568827b_0 in /Volumes/Newsmy/FM_dataset/VinDr-Mammo-finding/Eval/510552a160e46b33a48b8c523568827b_0\n"
     ]
    },
    {
     "name": "stderr",
     "output_type": "stream",
     "text": [
      " 32%|███▏      | 570/1768 [05:09<11:56,  1.67it/s]"
     ]
    },
    {
     "name": "stdout",
     "output_type": "stream",
     "text": [
      "Image and info_dict saved for 5114c128f347d8708753f229cfa34531_0 in /Volumes/Newsmy/FM_dataset/VinDr-Mammo-finding/Train/5114c128f347d8708753f229cfa34531_0\n"
     ]
    },
    {
     "name": "stderr",
     "output_type": "stream",
     "text": [
      " 32%|███▏      | 571/1768 [05:09<11:53,  1.68it/s]"
     ]
    },
    {
     "name": "stdout",
     "output_type": "stream",
     "text": [
      "Image and info_dict saved for 5173f7390a4426b1d2ff13dc1db4111a_0 in /Volumes/Newsmy/FM_dataset/VinDr-Mammo-finding/Test/5173f7390a4426b1d2ff13dc1db4111a_0\n",
      "Image and info_dict saved for 5173f7390a4426b1d2ff13dc1db4111a_1 in /Volumes/Newsmy/FM_dataset/VinDr-Mammo-finding/Test/5173f7390a4426b1d2ff13dc1db4111a_1\n"
     ]
    },
    {
     "name": "stderr",
     "output_type": "stream",
     "text": [
      " 32%|███▏      | 572/1768 [05:10<11:10,  1.78it/s]"
     ]
    },
    {
     "name": "stdout",
     "output_type": "stream",
     "text": [
      "Image and info_dict saved for 519e1a01bd3c08ad8a46fc476730ca0c_0 in /Volumes/Newsmy/FM_dataset/VinDr-Mammo-finding/Train/519e1a01bd3c08ad8a46fc476730ca0c_0\n"
     ]
    },
    {
     "name": "stderr",
     "output_type": "stream",
     "text": [
      " 32%|███▏      | 573/1768 [05:10<10:32,  1.89it/s]"
     ]
    },
    {
     "name": "stdout",
     "output_type": "stream",
     "text": [
      "Image and info_dict saved for 51b47f9024ccad1356354f56ac916f29_0 in /Volumes/Newsmy/FM_dataset/VinDr-Mammo-finding/Train/51b47f9024ccad1356354f56ac916f29_0\n"
     ]
    },
    {
     "name": "stderr",
     "output_type": "stream",
     "text": [
      " 32%|███▏      | 574/1768 [05:11<09:09,  2.17it/s]"
     ]
    },
    {
     "name": "stdout",
     "output_type": "stream",
     "text": [
      "Image and info_dict saved for 51e2448b06afa7492addc6e8a5fb3633_0 in /Volumes/Newsmy/FM_dataset/VinDr-Mammo-finding/Train/51e2448b06afa7492addc6e8a5fb3633_0\n"
     ]
    },
    {
     "name": "stderr",
     "output_type": "stream",
     "text": [
      " 33%|███▎      | 575/1768 [05:11<10:11,  1.95it/s]"
     ]
    },
    {
     "name": "stdout",
     "output_type": "stream",
     "text": [
      "Image and info_dict saved for 523cdecbef6f4fa9ec4c49ead52846ba_0 in /Volumes/Newsmy/FM_dataset/VinDr-Mammo-finding/Train/523cdecbef6f4fa9ec4c49ead52846ba_0\n",
      "Image and info_dict saved for 523cdecbef6f4fa9ec4c49ead52846ba_1 in /Volumes/Newsmy/FM_dataset/VinDr-Mammo-finding/Train/523cdecbef6f4fa9ec4c49ead52846ba_1\n"
     ]
    },
    {
     "name": "stderr",
     "output_type": "stream",
     "text": [
      " 33%|███▎      | 576/1768 [05:12<09:31,  2.09it/s]"
     ]
    },
    {
     "name": "stdout",
     "output_type": "stream",
     "text": [
      "Image and info_dict saved for 52538aa6ccce48fb567875236f7c876c_0 in /Volumes/Newsmy/FM_dataset/VinDr-Mammo-finding/Test/52538aa6ccce48fb567875236f7c876c_0\n",
      "Image and info_dict saved for 52538aa6ccce48fb567875236f7c876c_1 in /Volumes/Newsmy/FM_dataset/VinDr-Mammo-finding/Test/52538aa6ccce48fb567875236f7c876c_1\n"
     ]
    },
    {
     "name": "stderr",
     "output_type": "stream",
     "text": [
      " 33%|███▎      | 577/1768 [05:12<10:38,  1.86it/s]"
     ]
    },
    {
     "name": "stdout",
     "output_type": "stream",
     "text": [
      "Image and info_dict saved for 525a35260f5484d6d3bcb897fbf16364_0 in /Volumes/Newsmy/FM_dataset/VinDr-Mammo-finding/Test/525a35260f5484d6d3bcb897fbf16364_0\n",
      "Image and info_dict saved for 525a35260f5484d6d3bcb897fbf16364_1 in /Volumes/Newsmy/FM_dataset/VinDr-Mammo-finding/Test/525a35260f5484d6d3bcb897fbf16364_1\n"
     ]
    },
    {
     "name": "stderr",
     "output_type": "stream",
     "text": [
      " 33%|███▎      | 578/1768 [05:13<11:06,  1.78it/s]"
     ]
    },
    {
     "name": "stdout",
     "output_type": "stream",
     "text": [
      "Image and info_dict saved for 52750d0cf16931d9f09530901041a345_0 in /Volumes/Newsmy/FM_dataset/VinDr-Mammo-finding/Train/52750d0cf16931d9f09530901041a345_0\n",
      "Image and info_dict saved for 52750d0cf16931d9f09530901041a345_1 in /Volumes/Newsmy/FM_dataset/VinDr-Mammo-finding/Train/52750d0cf16931d9f09530901041a345_1\n",
      "Image and info_dict saved for 52915cc92f5632d0a5da6dfd60a0d31e_0 in /Volumes/Newsmy/FM_dataset/VinDr-Mammo-finding/Train/52915cc92f5632d0a5da6dfd60a0d31e_0\n",
      "Image and info_dict saved for 52915cc92f5632d0a5da6dfd60a0d31e_1 in /Volumes/Newsmy/FM_dataset/VinDr-Mammo-finding/Train/52915cc92f5632d0a5da6dfd60a0d31e_1\n"
     ]
    },
    {
     "name": "stderr",
     "output_type": "stream",
     "text": [
      " 33%|███▎      | 579/1768 [05:14<12:02,  1.65it/s]"
     ]
    },
    {
     "name": "stdout",
     "output_type": "stream",
     "text": [
      "Image and info_dict saved for 52915cc92f5632d0a5da6dfd60a0d31e_2 in /Volumes/Newsmy/FM_dataset/VinDr-Mammo-finding/Train/52915cc92f5632d0a5da6dfd60a0d31e_2\n"
     ]
    },
    {
     "name": "stderr",
     "output_type": "stream",
     "text": [
      " 33%|███▎      | 580/1768 [05:14<10:35,  1.87it/s]"
     ]
    },
    {
     "name": "stdout",
     "output_type": "stream",
     "text": [
      "Image and info_dict saved for 52b022e73cbc2b2b27335cce447ad0df_0 in /Volumes/Newsmy/FM_dataset/VinDr-Mammo-finding/Train/52b022e73cbc2b2b27335cce447ad0df_0\n"
     ]
    },
    {
     "name": "stderr",
     "output_type": "stream",
     "text": [
      " 33%|███▎      | 581/1768 [05:15<10:30,  1.88it/s]"
     ]
    },
    {
     "name": "stdout",
     "output_type": "stream",
     "text": [
      "Image and info_dict saved for 52b403c5c51efa04629aebd1629bd1a5_0 in /Volumes/Newsmy/FM_dataset/VinDr-Mammo-finding/Train/52b403c5c51efa04629aebd1629bd1a5_0\n",
      "Image and info_dict saved for 52b403c5c51efa04629aebd1629bd1a5_1 in /Volumes/Newsmy/FM_dataset/VinDr-Mammo-finding/Train/52b403c5c51efa04629aebd1629bd1a5_1\n",
      "Image and info_dict saved for 5303d45e31ed5f069964b4c47a0f1b55_0 in /Volumes/Newsmy/FM_dataset/VinDr-Mammo-finding/Train/5303d45e31ed5f069964b4c47a0f1b55_0\n",
      "Image and info_dict saved for 5303d45e31ed5f069964b4c47a0f1b55_1 in /Volumes/Newsmy/FM_dataset/VinDr-Mammo-finding/Train/5303d45e31ed5f069964b4c47a0f1b55_1\n"
     ]
    },
    {
     "name": "stderr",
     "output_type": "stream",
     "text": [
      " 33%|███▎      | 582/1768 [05:15<11:25,  1.73it/s]"
     ]
    },
    {
     "name": "stdout",
     "output_type": "stream",
     "text": [
      "Image and info_dict saved for 5303d45e31ed5f069964b4c47a0f1b55_2 in /Volumes/Newsmy/FM_dataset/VinDr-Mammo-finding/Train/5303d45e31ed5f069964b4c47a0f1b55_2\n"
     ]
    },
    {
     "name": "stderr",
     "output_type": "stream",
     "text": [
      " 33%|███▎      | 583/1768 [05:16<11:02,  1.79it/s]"
     ]
    },
    {
     "name": "stdout",
     "output_type": "stream",
     "text": [
      "Image and info_dict saved for 531bba59b58ee255662e46898934195e_0 in /Volumes/Newsmy/FM_dataset/VinDr-Mammo-finding/Train/531bba59b58ee255662e46898934195e_0\n"
     ]
    },
    {
     "name": "stderr",
     "output_type": "stream",
     "text": [
      " 33%|███▎      | 584/1768 [05:16<11:11,  1.76it/s]"
     ]
    },
    {
     "name": "stdout",
     "output_type": "stream",
     "text": [
      "Image and info_dict saved for 5353337c9c256dfa34fa5c4b7aac27a6_0 in /Volumes/Newsmy/FM_dataset/VinDr-Mammo-finding/Test/5353337c9c256dfa34fa5c4b7aac27a6_0\n"
     ]
    },
    {
     "name": "stderr",
     "output_type": "stream",
     "text": [
      " 33%|███▎      | 585/1768 [05:17<10:27,  1.89it/s]"
     ]
    },
    {
     "name": "stdout",
     "output_type": "stream",
     "text": [
      "Image and info_dict saved for 53547c9d07237c5f219ef3fd51173481_0 in /Volumes/Newsmy/FM_dataset/VinDr-Mammo-finding/Test/53547c9d07237c5f219ef3fd51173481_0\n",
      "Image and info_dict saved for 53c092e62d94e3193734c7bdf81a6b49_0 in /Volumes/Newsmy/FM_dataset/VinDr-Mammo-finding/Test/53c092e62d94e3193734c7bdf81a6b49_0\n",
      "Image and info_dict saved for 53c092e62d94e3193734c7bdf81a6b49_1 in /Volumes/Newsmy/FM_dataset/VinDr-Mammo-finding/Test/53c092e62d94e3193734c7bdf81a6b49_1\n"
     ]
    },
    {
     "name": "stderr",
     "output_type": "stream",
     "text": [
      " 33%|███▎      | 586/1768 [05:18<11:31,  1.71it/s]"
     ]
    },
    {
     "name": "stdout",
     "output_type": "stream",
     "text": [
      "Image and info_dict saved for 53c092e62d94e3193734c7bdf81a6b49_2 in /Volumes/Newsmy/FM_dataset/VinDr-Mammo-finding/Test/53c092e62d94e3193734c7bdf81a6b49_2\n"
     ]
    },
    {
     "name": "stderr",
     "output_type": "stream",
     "text": [
      " 33%|███▎      | 587/1768 [05:18<11:28,  1.72it/s]"
     ]
    },
    {
     "name": "stdout",
     "output_type": "stream",
     "text": [
      "Image and info_dict saved for 53c6d60514dac62b28c1dc63199a0ea1_0 in /Volumes/Newsmy/FM_dataset/VinDr-Mammo-finding/Train/53c6d60514dac62b28c1dc63199a0ea1_0\n"
     ]
    },
    {
     "name": "stderr",
     "output_type": "stream",
     "text": [
      " 33%|███▎      | 588/1768 [05:18<09:56,  1.98it/s]"
     ]
    },
    {
     "name": "stdout",
     "output_type": "stream",
     "text": [
      "Image and info_dict saved for 53f6139f06e3efdb61d1ec6e1f1e6982_0 in /Volumes/Newsmy/FM_dataset/VinDr-Mammo-finding/Train/53f6139f06e3efdb61d1ec6e1f1e6982_0\n"
     ]
    },
    {
     "name": "stderr",
     "output_type": "stream",
     "text": [
      " 33%|███▎      | 589/1768 [05:19<09:59,  1.97it/s]"
     ]
    },
    {
     "name": "stdout",
     "output_type": "stream",
     "text": [
      "Image and info_dict saved for 540e06784b7b171e2c2e23933a268907_0 in /Volumes/Newsmy/FM_dataset/VinDr-Mammo-finding/Train/540e06784b7b171e2c2e23933a268907_0\n"
     ]
    },
    {
     "name": "stderr",
     "output_type": "stream",
     "text": [
      " 33%|███▎      | 590/1768 [05:19<09:30,  2.07it/s]"
     ]
    },
    {
     "name": "stdout",
     "output_type": "stream",
     "text": [
      "Image and info_dict saved for 5420f34131041364bf3d65b35bb86175_0 in /Volumes/Newsmy/FM_dataset/VinDr-Mammo-finding/Train/5420f34131041364bf3d65b35bb86175_0\n"
     ]
    },
    {
     "name": "stderr",
     "output_type": "stream",
     "text": [
      " 33%|███▎      | 591/1768 [05:20<08:41,  2.26it/s]"
     ]
    },
    {
     "name": "stdout",
     "output_type": "stream",
     "text": [
      "Image and info_dict saved for 54716121c39ea4f99484a063f81a719e_0 in /Volumes/Newsmy/FM_dataset/VinDr-Mammo-finding/Train/54716121c39ea4f99484a063f81a719e_0\n"
     ]
    },
    {
     "name": "stderr",
     "output_type": "stream",
     "text": [
      " 33%|███▎      | 592/1768 [05:20<09:13,  2.12it/s]"
     ]
    },
    {
     "name": "stdout",
     "output_type": "stream",
     "text": [
      "Image and info_dict saved for 547ad63495fe93f02cc49c9d7590794c_0 in /Volumes/Newsmy/FM_dataset/VinDr-Mammo-finding/Test/547ad63495fe93f02cc49c9d7590794c_0\n",
      "Image and info_dict saved for 54aa2758fbda627d811412679d95fb22_0 in /Volumes/Newsmy/FM_dataset/VinDr-Mammo-finding/Train/54aa2758fbda627d811412679d95fb22_0\n",
      "Image and info_dict saved for 54aa2758fbda627d811412679d95fb22_1 in /Volumes/Newsmy/FM_dataset/VinDr-Mammo-finding/Train/54aa2758fbda627d811412679d95fb22_1\n"
     ]
    },
    {
     "name": "stderr",
     "output_type": "stream",
     "text": [
      " 34%|███▎      | 594/1768 [05:24<21:31,  1.10s/it]"
     ]
    },
    {
     "name": "stdout",
     "output_type": "stream",
     "text": [
      "Image and info_dict saved for 54b2fd916363b3e07667e3f1d65f085f_0 in /Volumes/Newsmy/FM_dataset/VinDr-Mammo-finding/Test/54b2fd916363b3e07667e3f1d65f085f_0\n"
     ]
    },
    {
     "name": "stderr",
     "output_type": "stream",
     "text": [
      " 34%|███▎      | 595/1768 [05:25<19:45,  1.01s/it]"
     ]
    },
    {
     "name": "stdout",
     "output_type": "stream",
     "text": [
      "Image and info_dict saved for 54cdbb11f9da7660575eef584b9ce520_0 in /Volumes/Newsmy/FM_dataset/VinDr-Mammo-finding/Train/54cdbb11f9da7660575eef584b9ce520_0\n"
     ]
    },
    {
     "name": "stderr",
     "output_type": "stream",
     "text": [
      " 34%|███▎      | 596/1768 [05:25<16:16,  1.20it/s]"
     ]
    },
    {
     "name": "stdout",
     "output_type": "stream",
     "text": [
      "Image and info_dict saved for 54d0efb124cfa5d783b2ad5f074608e1_0 in /Volumes/Newsmy/FM_dataset/VinDr-Mammo-finding/Train/54d0efb124cfa5d783b2ad5f074608e1_0\n"
     ]
    },
    {
     "name": "stderr",
     "output_type": "stream",
     "text": [
      " 34%|███▍      | 597/1768 [05:26<14:08,  1.38it/s]"
     ]
    },
    {
     "name": "stdout",
     "output_type": "stream",
     "text": [
      "Image and info_dict saved for 54ff99511881f36576c0bfcfc87f0bc2_0 in /Volumes/Newsmy/FM_dataset/VinDr-Mammo-finding/Eval/54ff99511881f36576c0bfcfc87f0bc2_0\n"
     ]
    },
    {
     "name": "stderr",
     "output_type": "stream",
     "text": [
      " 34%|███▍      | 598/1768 [05:26<12:56,  1.51it/s]"
     ]
    },
    {
     "name": "stdout",
     "output_type": "stream",
     "text": [
      "Image and info_dict saved for 551162489fd5e6b59336fc1eee7b7021_0 in /Volumes/Newsmy/FM_dataset/VinDr-Mammo-finding/Train/551162489fd5e6b59336fc1eee7b7021_0\n"
     ]
    },
    {
     "name": "stderr",
     "output_type": "stream",
     "text": [
      " 34%|███▍      | 599/1768 [05:27<16:28,  1.18it/s]"
     ]
    },
    {
     "name": "stdout",
     "output_type": "stream",
     "text": [
      "Image and info_dict saved for 557a2c3c6d82872584e701efecda7d0f_0 in /Volumes/Newsmy/FM_dataset/VinDr-Mammo-finding/Test/557a2c3c6d82872584e701efecda7d0f_0\n",
      "Image and info_dict saved for 557a2c3c6d82872584e701efecda7d0f_1 in /Volumes/Newsmy/FM_dataset/VinDr-Mammo-finding/Test/557a2c3c6d82872584e701efecda7d0f_1\n"
     ]
    },
    {
     "name": "stderr",
     "output_type": "stream",
     "text": [
      " 34%|███▍      | 600/1768 [05:28<14:56,  1.30it/s]"
     ]
    },
    {
     "name": "stdout",
     "output_type": "stream",
     "text": [
      "Image and info_dict saved for 55cc23cefadc5ef6a3ff2ba011ff61ad_0 in /Volumes/Newsmy/FM_dataset/VinDr-Mammo-finding/Test/55cc23cefadc5ef6a3ff2ba011ff61ad_0\n"
     ]
    },
    {
     "name": "stderr",
     "output_type": "stream",
     "text": [
      " 34%|███▍      | 601/1768 [05:29<13:56,  1.40it/s]"
     ]
    },
    {
     "name": "stdout",
     "output_type": "stream",
     "text": [
      "Image and info_dict saved for 56030132cd20bbf82075392b8dca6405_0 in /Volumes/Newsmy/FM_dataset/VinDr-Mammo-finding/Eval/56030132cd20bbf82075392b8dca6405_0\n"
     ]
    },
    {
     "name": "stderr",
     "output_type": "stream",
     "text": [
      " 34%|███▍      | 602/1768 [05:29<13:49,  1.41it/s]"
     ]
    },
    {
     "name": "stdout",
     "output_type": "stream",
     "text": [
      "Image and info_dict saved for 56158b5aac38880aacb62329929c2230_0 in /Volumes/Newsmy/FM_dataset/VinDr-Mammo-finding/Train/56158b5aac38880aacb62329929c2230_0\n"
     ]
    },
    {
     "name": "stderr",
     "output_type": "stream",
     "text": [
      " 34%|███▍      | 603/1768 [05:30<12:35,  1.54it/s]"
     ]
    },
    {
     "name": "stdout",
     "output_type": "stream",
     "text": [
      "Image and info_dict saved for 569438811d4355ce1f2fe24256d6b597_0 in /Volumes/Newsmy/FM_dataset/VinDr-Mammo-finding/Train/569438811d4355ce1f2fe24256d6b597_0\n"
     ]
    },
    {
     "name": "stderr",
     "output_type": "stream",
     "text": [
      " 34%|███▍      | 604/1768 [05:31<15:04,  1.29it/s]"
     ]
    },
    {
     "name": "stdout",
     "output_type": "stream",
     "text": [
      "Image and info_dict saved for 56e6be3a9219a18cb29fb012b692040d_0 in /Volumes/Newsmy/FM_dataset/VinDr-Mammo-finding/Train/56e6be3a9219a18cb29fb012b692040d_0\n",
      "Image and info_dict saved for 56e6be3a9219a18cb29fb012b692040d_1 in /Volumes/Newsmy/FM_dataset/VinDr-Mammo-finding/Train/56e6be3a9219a18cb29fb012b692040d_1\n"
     ]
    },
    {
     "name": "stderr",
     "output_type": "stream",
     "text": [
      " 34%|███▍      | 605/1768 [05:31<13:21,  1.45it/s]"
     ]
    },
    {
     "name": "stdout",
     "output_type": "stream",
     "text": [
      "Image and info_dict saved for 56fc4476e431eac2f1bc6291b9c78210_0 in /Volumes/Newsmy/FM_dataset/VinDr-Mammo-finding/Train/56fc4476e431eac2f1bc6291b9c78210_0\n"
     ]
    },
    {
     "name": "stderr",
     "output_type": "stream",
     "text": [
      " 34%|███▍      | 606/1768 [05:32<12:06,  1.60it/s]"
     ]
    },
    {
     "name": "stdout",
     "output_type": "stream",
     "text": [
      "Image and info_dict saved for 56fe870f46d9f4862df7cb81de2ddd17_0 in /Volumes/Newsmy/FM_dataset/VinDr-Mammo-finding/Train/56fe870f46d9f4862df7cb81de2ddd17_0\n"
     ]
    },
    {
     "name": "stderr",
     "output_type": "stream",
     "text": [
      " 34%|███▍      | 607/1768 [05:33<14:35,  1.33it/s]"
     ]
    },
    {
     "name": "stdout",
     "output_type": "stream",
     "text": [
      "Image and info_dict saved for 5700469390ec03e4f272a766a5cd6732_0 in /Volumes/Newsmy/FM_dataset/VinDr-Mammo-finding/Eval/5700469390ec03e4f272a766a5cd6732_0\n"
     ]
    },
    {
     "name": "stderr",
     "output_type": "stream",
     "text": [
      " 34%|███▍      | 608/1768 [05:33<13:04,  1.48it/s]"
     ]
    },
    {
     "name": "stdout",
     "output_type": "stream",
     "text": [
      "Image and info_dict saved for 57074dce833587f29bf7218d39fcc773_0 in /Volumes/Newsmy/FM_dataset/VinDr-Mammo-finding/Train/57074dce833587f29bf7218d39fcc773_0\n"
     ]
    },
    {
     "name": "stderr",
     "output_type": "stream",
     "text": [
      " 34%|███▍      | 609/1768 [05:34<12:28,  1.55it/s]"
     ]
    },
    {
     "name": "stdout",
     "output_type": "stream",
     "text": [
      "Image and info_dict saved for 575ecc0d24a2fd3d224b2cdf1837947e_0 in /Volumes/Newsmy/FM_dataset/VinDr-Mammo-finding/Train/575ecc0d24a2fd3d224b2cdf1837947e_0\n",
      "Image and info_dict saved for 575ecc0d24a2fd3d224b2cdf1837947e_1 in /Volumes/Newsmy/FM_dataset/VinDr-Mammo-finding/Train/575ecc0d24a2fd3d224b2cdf1837947e_1\n",
      "Image and info_dict saved for 5765fc3b2a44f33c127621b8f744425e_0 in /Volumes/Newsmy/FM_dataset/VinDr-Mammo-finding/Test/5765fc3b2a44f33c127621b8f744425e_0\n",
      "Image and info_dict saved for 5765fc3b2a44f33c127621b8f744425e_1 in /Volumes/Newsmy/FM_dataset/VinDr-Mammo-finding/Test/5765fc3b2a44f33c127621b8f744425e_1\n"
     ]
    },
    {
     "name": "stderr",
     "output_type": "stream",
     "text": [
      " 35%|███▍      | 610/1768 [05:35<13:36,  1.42it/s]"
     ]
    },
    {
     "name": "stdout",
     "output_type": "stream",
     "text": [
      "Image and info_dict saved for 5765fc3b2a44f33c127621b8f744425e_2 in /Volumes/Newsmy/FM_dataset/VinDr-Mammo-finding/Test/5765fc3b2a44f33c127621b8f744425e_2\n"
     ]
    },
    {
     "name": "stderr",
     "output_type": "stream",
     "text": [
      " 35%|███▍      | 611/1768 [05:35<12:13,  1.58it/s]"
     ]
    },
    {
     "name": "stdout",
     "output_type": "stream",
     "text": [
      "Image and info_dict saved for 57b04a1958443efd27484f9e2d0b7615_0 in /Volumes/Newsmy/FM_dataset/VinDr-Mammo-finding/Train/57b04a1958443efd27484f9e2d0b7615_0\n"
     ]
    },
    {
     "name": "stderr",
     "output_type": "stream",
     "text": [
      " 35%|███▍      | 612/1768 [05:36<10:29,  1.84it/s]"
     ]
    },
    {
     "name": "stdout",
     "output_type": "stream",
     "text": [
      "Image and info_dict saved for 57b34fd0da5ef7b8e9afc6b269ccf717_0 in /Volumes/Newsmy/FM_dataset/VinDr-Mammo-finding/Train/57b34fd0da5ef7b8e9afc6b269ccf717_0\n"
     ]
    },
    {
     "name": "stderr",
     "output_type": "stream",
     "text": [
      " 35%|███▍      | 613/1768 [05:36<09:46,  1.97it/s]"
     ]
    },
    {
     "name": "stdout",
     "output_type": "stream",
     "text": [
      "Image and info_dict saved for 581b0e4d471a5c0adc6888cb038fa722_0 in /Volumes/Newsmy/FM_dataset/VinDr-Mammo-finding/Train/581b0e4d471a5c0adc6888cb038fa722_0\n"
     ]
    },
    {
     "name": "stderr",
     "output_type": "stream",
     "text": [
      " 35%|███▍      | 614/1768 [05:37<09:51,  1.95it/s]"
     ]
    },
    {
     "name": "stdout",
     "output_type": "stream",
     "text": [
      "Image and info_dict saved for 58217abebc96c95c94cb204d5cc408cd_0 in /Volumes/Newsmy/FM_dataset/VinDr-Mammo-finding/Test/58217abebc96c95c94cb204d5cc408cd_0\n"
     ]
    },
    {
     "name": "stderr",
     "output_type": "stream",
     "text": [
      " 35%|███▍      | 615/1768 [05:37<10:02,  1.91it/s]"
     ]
    },
    {
     "name": "stdout",
     "output_type": "stream",
     "text": [
      "Image and info_dict saved for 5899949ed2e472199815b90e5aacad67_0 in /Volumes/Newsmy/FM_dataset/VinDr-Mammo-finding/Train/5899949ed2e472199815b90e5aacad67_0\n"
     ]
    },
    {
     "name": "stderr",
     "output_type": "stream",
     "text": [
      " 35%|███▍      | 616/1768 [05:38<09:27,  2.03it/s]"
     ]
    },
    {
     "name": "stdout",
     "output_type": "stream",
     "text": [
      "Image and info_dict saved for 58a92ed8d1f8fecfce0f9d578a9937fe_0 in /Volumes/Newsmy/FM_dataset/VinDr-Mammo-finding/Eval/58a92ed8d1f8fecfce0f9d578a9937fe_0\n"
     ]
    },
    {
     "name": "stderr",
     "output_type": "stream",
     "text": [
      " 35%|███▍      | 617/1768 [05:38<09:39,  1.99it/s]"
     ]
    },
    {
     "name": "stdout",
     "output_type": "stream",
     "text": [
      "Image and info_dict saved for 58d40f38015456b0b50d1e53303ec555_0 in /Volumes/Newsmy/FM_dataset/VinDr-Mammo-finding/Eval/58d40f38015456b0b50d1e53303ec555_0\n"
     ]
    },
    {
     "name": "stderr",
     "output_type": "stream",
     "text": [
      " 35%|███▍      | 618/1768 [05:39<09:26,  2.03it/s]"
     ]
    },
    {
     "name": "stdout",
     "output_type": "stream",
     "text": [
      "Image and info_dict saved for 592fc7ae253f7e6d8f070f06c5d3bed0_0 in /Volumes/Newsmy/FM_dataset/VinDr-Mammo-finding/Train/592fc7ae253f7e6d8f070f06c5d3bed0_0\n"
     ]
    },
    {
     "name": "stderr",
     "output_type": "stream",
     "text": [
      " 35%|███▌      | 619/1768 [05:39<09:27,  2.02it/s]"
     ]
    },
    {
     "name": "stdout",
     "output_type": "stream",
     "text": [
      "Image and info_dict saved for 59302684b3ec124d146c8098e6925c83_0 in /Volumes/Newsmy/FM_dataset/VinDr-Mammo-finding/Test/59302684b3ec124d146c8098e6925c83_0\n"
     ]
    },
    {
     "name": "stderr",
     "output_type": "stream",
     "text": [
      " 35%|███▌      | 620/1768 [05:40<09:50,  1.94it/s]"
     ]
    },
    {
     "name": "stdout",
     "output_type": "stream",
     "text": [
      "Image and info_dict saved for 596a7f8bf2e64df0766de379086f84c9_0 in /Volumes/Newsmy/FM_dataset/VinDr-Mammo-finding/Train/596a7f8bf2e64df0766de379086f84c9_0\n"
     ]
    },
    {
     "name": "stderr",
     "output_type": "stream",
     "text": [
      " 35%|███▌      | 621/1768 [05:40<09:06,  2.10it/s]"
     ]
    },
    {
     "name": "stdout",
     "output_type": "stream",
     "text": [
      "Image and info_dict saved for 59770d169a397c02181f2bf9566d7447_0 in /Volumes/Newsmy/FM_dataset/VinDr-Mammo-finding/Test/59770d169a397c02181f2bf9566d7447_0\n"
     ]
    },
    {
     "name": "stderr",
     "output_type": "stream",
     "text": [
      " 35%|███▌      | 622/1768 [05:40<08:03,  2.37it/s]"
     ]
    },
    {
     "name": "stdout",
     "output_type": "stream",
     "text": [
      "Image and info_dict saved for 59cdcc53f76f8c12741f7770d8fb372d_0 in /Volumes/Newsmy/FM_dataset/VinDr-Mammo-finding/Eval/59cdcc53f76f8c12741f7770d8fb372d_0\n"
     ]
    },
    {
     "name": "stderr",
     "output_type": "stream",
     "text": [
      " 35%|███▌      | 623/1768 [05:41<08:58,  2.13it/s]"
     ]
    },
    {
     "name": "stdout",
     "output_type": "stream",
     "text": [
      "Image and info_dict saved for 59efa30f975f06c7d17042c190fd7c42_0 in /Volumes/Newsmy/FM_dataset/VinDr-Mammo-finding/Train/59efa30f975f06c7d17042c190fd7c42_0\n",
      "Image and info_dict saved for 59efa30f975f06c7d17042c190fd7c42_1 in /Volumes/Newsmy/FM_dataset/VinDr-Mammo-finding/Train/59efa30f975f06c7d17042c190fd7c42_1\n"
     ]
    },
    {
     "name": "stderr",
     "output_type": "stream",
     "text": [
      " 35%|███▌      | 624/1768 [05:41<08:53,  2.15it/s]"
     ]
    },
    {
     "name": "stdout",
     "output_type": "stream",
     "text": [
      "Image and info_dict saved for 5a0f9fe0f6055009b1811ef4e4926c92_0 in /Volumes/Newsmy/FM_dataset/VinDr-Mammo-finding/Eval/5a0f9fe0f6055009b1811ef4e4926c92_0\n"
     ]
    },
    {
     "name": "stderr",
     "output_type": "stream",
     "text": [
      " 35%|███▌      | 625/1768 [05:42<09:30,  2.00it/s]"
     ]
    },
    {
     "name": "stdout",
     "output_type": "stream",
     "text": [
      "Image and info_dict saved for 5a172903c1060312fd48a5e37a945d50_0 in /Volumes/Newsmy/FM_dataset/VinDr-Mammo-finding/Eval/5a172903c1060312fd48a5e37a945d50_0\n"
     ]
    },
    {
     "name": "stderr",
     "output_type": "stream",
     "text": [
      " 35%|███▌      | 626/1768 [05:42<09:27,  2.01it/s]"
     ]
    },
    {
     "name": "stdout",
     "output_type": "stream",
     "text": [
      "Image and info_dict saved for 5a5a99a13dc38d2f7dbfd0e89f941d31_0 in /Volumes/Newsmy/FM_dataset/VinDr-Mammo-finding/Train/5a5a99a13dc38d2f7dbfd0e89f941d31_0\n"
     ]
    },
    {
     "name": "stderr",
     "output_type": "stream",
     "text": [
      " 35%|███▌      | 627/1768 [05:43<09:58,  1.91it/s]"
     ]
    },
    {
     "name": "stdout",
     "output_type": "stream",
     "text": [
      "Image and info_dict saved for 5a5b47288fbee0baeba652a8a8027682_0 in /Volumes/Newsmy/FM_dataset/VinDr-Mammo-finding/Train/5a5b47288fbee0baeba652a8a8027682_0\n",
      "Image and info_dict saved for 5a5b47288fbee0baeba652a8a8027682_1 in /Volumes/Newsmy/FM_dataset/VinDr-Mammo-finding/Train/5a5b47288fbee0baeba652a8a8027682_1\n"
     ]
    },
    {
     "name": "stderr",
     "output_type": "stream",
     "text": [
      " 36%|███▌      | 628/1768 [05:44<09:52,  1.92it/s]"
     ]
    },
    {
     "name": "stdout",
     "output_type": "stream",
     "text": [
      "Image and info_dict saved for 5a81b119ee2a6bd1cc042fef59e0f207_0 in /Volumes/Newsmy/FM_dataset/VinDr-Mammo-finding/Train/5a81b119ee2a6bd1cc042fef59e0f207_0\n"
     ]
    },
    {
     "name": "stderr",
     "output_type": "stream",
     "text": [
      " 36%|███▌      | 629/1768 [05:44<10:00,  1.90it/s]"
     ]
    },
    {
     "name": "stdout",
     "output_type": "stream",
     "text": [
      "Image and info_dict saved for 5a870eb2fd975d6e742c3d062f6f4d49_0 in /Volumes/Newsmy/FM_dataset/VinDr-Mammo-finding/Train/5a870eb2fd975d6e742c3d062f6f4d49_0\n"
     ]
    },
    {
     "name": "stderr",
     "output_type": "stream",
     "text": [
      " 36%|███▌      | 630/1768 [05:45<09:37,  1.97it/s]"
     ]
    },
    {
     "name": "stdout",
     "output_type": "stream",
     "text": [
      "Image and info_dict saved for 5a8bddeb3da3d0504e4ba9338b24ca0c_0 in /Volumes/Newsmy/FM_dataset/VinDr-Mammo-finding/Test/5a8bddeb3da3d0504e4ba9338b24ca0c_0\n"
     ]
    },
    {
     "name": "stderr",
     "output_type": "stream",
     "text": [
      " 36%|███▌      | 631/1768 [05:45<09:23,  2.02it/s]"
     ]
    },
    {
     "name": "stdout",
     "output_type": "stream",
     "text": [
      "Image and info_dict saved for 5a94dd668eaa9865b907450c37db6ecc_0 in /Volumes/Newsmy/FM_dataset/VinDr-Mammo-finding/Train/5a94dd668eaa9865b907450c37db6ecc_0\n"
     ]
    },
    {
     "name": "stderr",
     "output_type": "stream",
     "text": [
      " 36%|███▌      | 632/1768 [05:45<09:23,  2.02it/s]"
     ]
    },
    {
     "name": "stdout",
     "output_type": "stream",
     "text": [
      "Image and info_dict saved for 5aeab21edc0439e116d876e4647a840c_0 in /Volumes/Newsmy/FM_dataset/VinDr-Mammo-finding/Test/5aeab21edc0439e116d876e4647a840c_0\n"
     ]
    },
    {
     "name": "stderr",
     "output_type": "stream",
     "text": [
      " 36%|███▌      | 633/1768 [05:46<09:34,  1.98it/s]"
     ]
    },
    {
     "name": "stdout",
     "output_type": "stream",
     "text": [
      "Image and info_dict saved for 5b34564ccb99b6ef4e858015ee58b49e_0 in /Volumes/Newsmy/FM_dataset/VinDr-Mammo-finding/Train/5b34564ccb99b6ef4e858015ee58b49e_0\n"
     ]
    },
    {
     "name": "stderr",
     "output_type": "stream",
     "text": [
      " 36%|███▌      | 634/1768 [05:46<08:58,  2.11it/s]"
     ]
    },
    {
     "name": "stdout",
     "output_type": "stream",
     "text": [
      "Image and info_dict saved for 5b392e793eb1b7046e2861e45d4a5d3e_0 in /Volumes/Newsmy/FM_dataset/VinDr-Mammo-finding/Train/5b392e793eb1b7046e2861e45d4a5d3e_0\n"
     ]
    },
    {
     "name": "stderr",
     "output_type": "stream",
     "text": [
      " 36%|███▌      | 635/1768 [05:47<09:06,  2.07it/s]"
     ]
    },
    {
     "name": "stdout",
     "output_type": "stream",
     "text": [
      "Image and info_dict saved for 5b4503244f2bb1a633142ad42ef81945_0 in /Volumes/Newsmy/FM_dataset/VinDr-Mammo-finding/Train/5b4503244f2bb1a633142ad42ef81945_0\n"
     ]
    },
    {
     "name": "stderr",
     "output_type": "stream",
     "text": [
      " 36%|███▌      | 636/1768 [05:47<09:22,  2.01it/s]"
     ]
    },
    {
     "name": "stdout",
     "output_type": "stream",
     "text": [
      "Image and info_dict saved for 5b6b4d5a5de2fdde7c42e99ce0805b12_0 in /Volumes/Newsmy/FM_dataset/VinDr-Mammo-finding/Train/5b6b4d5a5de2fdde7c42e99ce0805b12_0\n"
     ]
    },
    {
     "name": "stderr",
     "output_type": "stream",
     "text": [
      " 36%|███▌      | 637/1768 [05:48<12:06,  1.56it/s]"
     ]
    },
    {
     "name": "stdout",
     "output_type": "stream",
     "text": [
      "Image and info_dict saved for 5ba24c0cbea875bb4aa17c1ecae7e0f1_0 in /Volumes/Newsmy/FM_dataset/VinDr-Mammo-finding/Train/5ba24c0cbea875bb4aa17c1ecae7e0f1_0\n"
     ]
    },
    {
     "name": "stderr",
     "output_type": "stream",
     "text": [
      " 36%|███▌      | 638/1768 [05:49<11:19,  1.66it/s]"
     ]
    },
    {
     "name": "stdout",
     "output_type": "stream",
     "text": [
      "Image and info_dict saved for 5babc8f7e8ede530d3f9229cc1d1548e_0 in /Volumes/Newsmy/FM_dataset/VinDr-Mammo-finding/Train/5babc8f7e8ede530d3f9229cc1d1548e_0\n"
     ]
    },
    {
     "name": "stderr",
     "output_type": "stream",
     "text": [
      " 36%|███▌      | 639/1768 [05:49<10:11,  1.85it/s]"
     ]
    },
    {
     "name": "stdout",
     "output_type": "stream",
     "text": [
      "Image and info_dict saved for 5bf1fb6fb072221239f84b1dc86ad112_0 in /Volumes/Newsmy/FM_dataset/VinDr-Mammo-finding/Train/5bf1fb6fb072221239f84b1dc86ad112_0\n"
     ]
    },
    {
     "name": "stderr",
     "output_type": "stream",
     "text": [
      " 36%|███▌      | 640/1768 [05:50<10:41,  1.76it/s]"
     ]
    },
    {
     "name": "stdout",
     "output_type": "stream",
     "text": [
      "Image and info_dict saved for 5c0272f3dc9c06f9edb8b8a749a6cf8b_0 in /Volumes/Newsmy/FM_dataset/VinDr-Mammo-finding/Train/5c0272f3dc9c06f9edb8b8a749a6cf8b_0\n"
     ]
    },
    {
     "name": "stderr",
     "output_type": "stream",
     "text": [
      " 36%|███▋      | 641/1768 [05:51<12:17,  1.53it/s]"
     ]
    },
    {
     "name": "stdout",
     "output_type": "stream",
     "text": [
      "Image and info_dict saved for 5c2ed994f27089b2d48977790fce829b_0 in /Volumes/Newsmy/FM_dataset/VinDr-Mammo-finding/Train/5c2ed994f27089b2d48977790fce829b_0\n"
     ]
    },
    {
     "name": "stderr",
     "output_type": "stream",
     "text": [
      " 36%|███▋      | 642/1768 [05:51<10:53,  1.72it/s]"
     ]
    },
    {
     "name": "stdout",
     "output_type": "stream",
     "text": [
      "Image and info_dict saved for 5c685c5c9bfa937cf5e0a4db37618578_0 in /Volumes/Newsmy/FM_dataset/VinDr-Mammo-finding/Train/5c685c5c9bfa937cf5e0a4db37618578_0\n"
     ]
    },
    {
     "name": "stderr",
     "output_type": "stream",
     "text": [
      " 36%|███▋      | 643/1768 [05:51<09:04,  2.06it/s]"
     ]
    },
    {
     "name": "stdout",
     "output_type": "stream",
     "text": [
      "Image and info_dict saved for 5cb3de6d9a5c63eeb83d660420c9044c_0 in /Volumes/Newsmy/FM_dataset/VinDr-Mammo-finding/Train/5cb3de6d9a5c63eeb83d660420c9044c_0\n"
     ]
    },
    {
     "name": "stderr",
     "output_type": "stream",
     "text": [
      " 36%|███▋      | 644/1768 [05:52<08:45,  2.14it/s]"
     ]
    },
    {
     "name": "stdout",
     "output_type": "stream",
     "text": [
      "Image and info_dict saved for 5cd330a56ea7c77a1fa1181712966dbf_0 in /Volumes/Newsmy/FM_dataset/VinDr-Mammo-finding/Test/5cd330a56ea7c77a1fa1181712966dbf_0\n",
      "Image and info_dict saved for 5cd330a56ea7c77a1fa1181712966dbf_1 in /Volumes/Newsmy/FM_dataset/VinDr-Mammo-finding/Test/5cd330a56ea7c77a1fa1181712966dbf_1\n"
     ]
    },
    {
     "name": "stderr",
     "output_type": "stream",
     "text": [
      " 36%|███▋      | 645/1768 [05:52<08:43,  2.14it/s]"
     ]
    },
    {
     "name": "stdout",
     "output_type": "stream",
     "text": [
      "Image and info_dict saved for 5cf927a823056aaf204e6225cabe3b9f_0 in /Volumes/Newsmy/FM_dataset/VinDr-Mammo-finding/Train/5cf927a823056aaf204e6225cabe3b9f_0\n"
     ]
    },
    {
     "name": "stderr",
     "output_type": "stream",
     "text": [
      " 37%|███▋      | 646/1768 [05:53<09:06,  2.05it/s]"
     ]
    },
    {
     "name": "stdout",
     "output_type": "stream",
     "text": [
      "Image and info_dict saved for 5d13674e2ed04208bf232e2eeb468f7a_0 in /Volumes/Newsmy/FM_dataset/VinDr-Mammo-finding/Train/5d13674e2ed04208bf232e2eeb468f7a_0\n"
     ]
    },
    {
     "name": "stderr",
     "output_type": "stream",
     "text": [
      " 37%|███▋      | 647/1768 [05:53<09:17,  2.01it/s]"
     ]
    },
    {
     "name": "stdout",
     "output_type": "stream",
     "text": [
      "Image and info_dict saved for 5d2610e24aff460252ead498200a6a4c_0 in /Volumes/Newsmy/FM_dataset/VinDr-Mammo-finding/Eval/5d2610e24aff460252ead498200a6a4c_0\n"
     ]
    },
    {
     "name": "stderr",
     "output_type": "stream",
     "text": [
      " 37%|███▋      | 648/1768 [05:54<09:28,  1.97it/s]"
     ]
    },
    {
     "name": "stdout",
     "output_type": "stream",
     "text": [
      "Image and info_dict saved for 5d9efa5b29d0b6ac316a010f3f77acf6_0 in /Volumes/Newsmy/FM_dataset/VinDr-Mammo-finding/Train/5d9efa5b29d0b6ac316a010f3f77acf6_0\n"
     ]
    },
    {
     "name": "stderr",
     "output_type": "stream",
     "text": [
      " 37%|███▋      | 649/1768 [05:55<09:52,  1.89it/s]"
     ]
    },
    {
     "name": "stdout",
     "output_type": "stream",
     "text": [
      "Image and info_dict saved for 5dd32d9ce25c6a5199ced1bb923ee1be_0 in /Volumes/Newsmy/FM_dataset/VinDr-Mammo-finding/Train/5dd32d9ce25c6a5199ced1bb923ee1be_0\n"
     ]
    },
    {
     "name": "stderr",
     "output_type": "stream",
     "text": [
      " 37%|███▋      | 650/1768 [05:55<09:01,  2.07it/s]"
     ]
    },
    {
     "name": "stdout",
     "output_type": "stream",
     "text": [
      "Image and info_dict saved for 5e13057da76d03f16a4a2e9e26a7dd66_0 in /Volumes/Newsmy/FM_dataset/VinDr-Mammo-finding/Train/5e13057da76d03f16a4a2e9e26a7dd66_0\n"
     ]
    },
    {
     "name": "stderr",
     "output_type": "stream",
     "text": [
      " 37%|███▋      | 651/1768 [05:55<08:44,  2.13it/s]"
     ]
    },
    {
     "name": "stdout",
     "output_type": "stream",
     "text": [
      "Image and info_dict saved for 5e16b129e337c2191bd0207390259575_0 in /Volumes/Newsmy/FM_dataset/VinDr-Mammo-finding/Train/5e16b129e337c2191bd0207390259575_0\n"
     ]
    },
    {
     "name": "stderr",
     "output_type": "stream",
     "text": [
      " 37%|███▋      | 652/1768 [05:56<08:54,  2.09it/s]"
     ]
    },
    {
     "name": "stdout",
     "output_type": "stream",
     "text": [
      "Image and info_dict saved for 5e25359359311565e44e3db75ceb341e_0 in /Volumes/Newsmy/FM_dataset/VinDr-Mammo-finding/Test/5e25359359311565e44e3db75ceb341e_0\n"
     ]
    },
    {
     "name": "stderr",
     "output_type": "stream",
     "text": [
      " 37%|███▋      | 653/1768 [05:56<08:42,  2.14it/s]"
     ]
    },
    {
     "name": "stdout",
     "output_type": "stream",
     "text": [
      "Image and info_dict saved for 5e2abd624c758a9ad40aa47db8d68ad0_0 in /Volumes/Newsmy/FM_dataset/VinDr-Mammo-finding/Eval/5e2abd624c758a9ad40aa47db8d68ad0_0\n"
     ]
    },
    {
     "name": "stderr",
     "output_type": "stream",
     "text": [
      " 37%|███▋      | 654/1768 [05:57<08:53,  2.09it/s]"
     ]
    },
    {
     "name": "stdout",
     "output_type": "stream",
     "text": [
      "Image and info_dict saved for 5e35ead87bb708f1fea95033ddb2e093_0 in /Volumes/Newsmy/FM_dataset/VinDr-Mammo-finding/Train/5e35ead87bb708f1fea95033ddb2e093_0\n"
     ]
    },
    {
     "name": "stderr",
     "output_type": "stream",
     "text": [
      " 37%|███▋      | 655/1768 [05:57<08:57,  2.07it/s]"
     ]
    },
    {
     "name": "stdout",
     "output_type": "stream",
     "text": [
      "Image and info_dict saved for 5e4a8f5e3760b0de5ce874f40e79c6dd_0 in /Volumes/Newsmy/FM_dataset/VinDr-Mammo-finding/Test/5e4a8f5e3760b0de5ce874f40e79c6dd_0\n"
     ]
    },
    {
     "name": "stderr",
     "output_type": "stream",
     "text": [
      " 37%|███▋      | 656/1768 [05:58<08:18,  2.23it/s]"
     ]
    },
    {
     "name": "stdout",
     "output_type": "stream",
     "text": [
      "Image and info_dict saved for 5e4e0eb37056fddb893c7a5c6ac33a5b_0 in /Volumes/Newsmy/FM_dataset/VinDr-Mammo-finding/Train/5e4e0eb37056fddb893c7a5c6ac33a5b_0\n"
     ]
    },
    {
     "name": "stderr",
     "output_type": "stream",
     "text": [
      " 37%|███▋      | 657/1768 [05:58<08:31,  2.17it/s]"
     ]
    },
    {
     "name": "stdout",
     "output_type": "stream",
     "text": [
      "Image and info_dict saved for 5f3962bf6fb1a8fe1968efefe3c0c791_0 in /Volumes/Newsmy/FM_dataset/VinDr-Mammo-finding/Train/5f3962bf6fb1a8fe1968efefe3c0c791_0\n"
     ]
    },
    {
     "name": "stderr",
     "output_type": "stream",
     "text": [
      " 37%|███▋      | 658/1768 [05:59<10:05,  1.83it/s]"
     ]
    },
    {
     "name": "stdout",
     "output_type": "stream",
     "text": [
      "Image and info_dict saved for 5f4d6a2a1c739c9a772f78f57e7825d6_0 in /Volumes/Newsmy/FM_dataset/VinDr-Mammo-finding/Train/5f4d6a2a1c739c9a772f78f57e7825d6_0\n",
      "Image and info_dict saved for 5f4d6a2a1c739c9a772f78f57e7825d6_1 in /Volumes/Newsmy/FM_dataset/VinDr-Mammo-finding/Train/5f4d6a2a1c739c9a772f78f57e7825d6_1\n",
      "Image and info_dict saved for 5f4d6a2a1c739c9a772f78f57e7825d6_2 in /Volumes/Newsmy/FM_dataset/VinDr-Mammo-finding/Train/5f4d6a2a1c739c9a772f78f57e7825d6_2\n"
     ]
    },
    {
     "name": "stderr",
     "output_type": "stream",
     "text": [
      " 37%|███▋      | 659/1768 [05:59<10:16,  1.80it/s]"
     ]
    },
    {
     "name": "stdout",
     "output_type": "stream",
     "text": [
      "Image and info_dict saved for 5fc451ccea65adb2ba624fe0d3c456f1_0 in /Volumes/Newsmy/FM_dataset/VinDr-Mammo-finding/Train/5fc451ccea65adb2ba624fe0d3c456f1_0\n"
     ]
    },
    {
     "name": "stderr",
     "output_type": "stream",
     "text": [
      " 37%|███▋      | 660/1768 [06:00<10:11,  1.81it/s]"
     ]
    },
    {
     "name": "stdout",
     "output_type": "stream",
     "text": [
      "Image and info_dict saved for 5fd515ea4eaec3493943c4eef796b41e_0 in /Volumes/Newsmy/FM_dataset/VinDr-Mammo-finding/Train/5fd515ea4eaec3493943c4eef796b41e_0\n",
      "Image and info_dict saved for 5fd515ea4eaec3493943c4eef796b41e_1 in /Volumes/Newsmy/FM_dataset/VinDr-Mammo-finding/Train/5fd515ea4eaec3493943c4eef796b41e_1\n"
     ]
    },
    {
     "name": "stderr",
     "output_type": "stream",
     "text": [
      " 37%|███▋      | 661/1768 [06:00<09:38,  1.91it/s]"
     ]
    },
    {
     "name": "stdout",
     "output_type": "stream",
     "text": [
      "Image and info_dict saved for 5fdf0b41752d8b15dfd523053858da2e_0 in /Volumes/Newsmy/FM_dataset/VinDr-Mammo-finding/Train/5fdf0b41752d8b15dfd523053858da2e_0\n",
      "Image and info_dict saved for 5fe8350c930a08ebc532cbb304f5642a_0 in /Volumes/Newsmy/FM_dataset/VinDr-Mammo-finding/Train/5fe8350c930a08ebc532cbb304f5642a_0\n",
      "Image and info_dict saved for 5fe8350c930a08ebc532cbb304f5642a_1 in /Volumes/Newsmy/FM_dataset/VinDr-Mammo-finding/Train/5fe8350c930a08ebc532cbb304f5642a_1\n"
     ]
    },
    {
     "name": "stderr",
     "output_type": "stream",
     "text": [
      " 37%|███▋      | 662/1768 [06:01<11:13,  1.64it/s]"
     ]
    },
    {
     "name": "stdout",
     "output_type": "stream",
     "text": [
      "Image and info_dict saved for 5fe8350c930a08ebc532cbb304f5642a_2 in /Volumes/Newsmy/FM_dataset/VinDr-Mammo-finding/Train/5fe8350c930a08ebc532cbb304f5642a_2\n"
     ]
    },
    {
     "name": "stderr",
     "output_type": "stream",
     "text": [
      " 38%|███▊      | 663/1768 [06:02<10:58,  1.68it/s]"
     ]
    },
    {
     "name": "stdout",
     "output_type": "stream",
     "text": [
      "Image and info_dict saved for 5fe8df2fb6a10d31a770177e37546256_0 in /Volumes/Newsmy/FM_dataset/VinDr-Mammo-finding/Train/5fe8df2fb6a10d31a770177e37546256_0\n"
     ]
    },
    {
     "name": "stderr",
     "output_type": "stream",
     "text": [
      " 38%|███▊      | 664/1768 [06:02<10:02,  1.83it/s]"
     ]
    },
    {
     "name": "stdout",
     "output_type": "stream",
     "text": [
      "Image and info_dict saved for 602a11d24069e39aeb4b5d1b9f615633_0 in /Volumes/Newsmy/FM_dataset/VinDr-Mammo-finding/Eval/602a11d24069e39aeb4b5d1b9f615633_0\n"
     ]
    },
    {
     "name": "stderr",
     "output_type": "stream",
     "text": [
      " 38%|███▊      | 665/1768 [06:03<10:21,  1.77it/s]"
     ]
    },
    {
     "name": "stdout",
     "output_type": "stream",
     "text": [
      "Image and info_dict saved for 605751243908d029dd0cbe46c0b8809d_0 in /Volumes/Newsmy/FM_dataset/VinDr-Mammo-finding/Train/605751243908d029dd0cbe46c0b8809d_0\n"
     ]
    },
    {
     "name": "stderr",
     "output_type": "stream",
     "text": [
      " 38%|███▊      | 666/1768 [06:03<09:47,  1.88it/s]"
     ]
    },
    {
     "name": "stdout",
     "output_type": "stream",
     "text": [
      "Image and info_dict saved for 6057b80f4f3e7d18f2bac341f7a64e07_0 in /Volumes/Newsmy/FM_dataset/VinDr-Mammo-finding/Train/6057b80f4f3e7d18f2bac341f7a64e07_0\n"
     ]
    },
    {
     "name": "stderr",
     "output_type": "stream",
     "text": [
      " 38%|███▊      | 667/1768 [06:04<09:31,  1.93it/s]"
     ]
    },
    {
     "name": "stdout",
     "output_type": "stream",
     "text": [
      "Image and info_dict saved for 60838a0fb95523a4d3414bd62f1301cc_0 in /Volumes/Newsmy/FM_dataset/VinDr-Mammo-finding/Eval/60838a0fb95523a4d3414bd62f1301cc_0\n"
     ]
    },
    {
     "name": "stderr",
     "output_type": "stream",
     "text": [
      " 38%|███▊      | 668/1768 [06:04<09:20,  1.96it/s]"
     ]
    },
    {
     "name": "stdout",
     "output_type": "stream",
     "text": [
      "Image and info_dict saved for 608702adb4fc8f88e22b458dc95a63aa_0 in /Volumes/Newsmy/FM_dataset/VinDr-Mammo-finding/Train/608702adb4fc8f88e22b458dc95a63aa_0\n"
     ]
    },
    {
     "name": "stderr",
     "output_type": "stream",
     "text": [
      " 38%|███▊      | 669/1768 [06:05<09:19,  1.96it/s]"
     ]
    },
    {
     "name": "stdout",
     "output_type": "stream",
     "text": [
      "Image and info_dict saved for 60fafaf810c5967c7f3bc03ebca7591d_0 in /Volumes/Newsmy/FM_dataset/VinDr-Mammo-finding/Train/60fafaf810c5967c7f3bc03ebca7591d_0\n"
     ]
    },
    {
     "name": "stderr",
     "output_type": "stream",
     "text": [
      " 38%|███▊      | 670/1768 [06:05<08:24,  2.18it/s]"
     ]
    },
    {
     "name": "stdout",
     "output_type": "stream",
     "text": [
      "Image and info_dict saved for 611b1780b56340f0d3072c2a09967088_0 in /Volumes/Newsmy/FM_dataset/VinDr-Mammo-finding/Eval/611b1780b56340f0d3072c2a09967088_0\n"
     ]
    },
    {
     "name": "stderr",
     "output_type": "stream",
     "text": [
      " 38%|███▊      | 671/1768 [06:06<09:16,  1.97it/s]"
     ]
    },
    {
     "name": "stdout",
     "output_type": "stream",
     "text": [
      "Image and info_dict saved for 614ee08af2499715e2b20b97d387fd92_0 in /Volumes/Newsmy/FM_dataset/VinDr-Mammo-finding/Train/614ee08af2499715e2b20b97d387fd92_0\n",
      "Image and info_dict saved for 614ee08af2499715e2b20b97d387fd92_1 in /Volumes/Newsmy/FM_dataset/VinDr-Mammo-finding/Train/614ee08af2499715e2b20b97d387fd92_1\n"
     ]
    },
    {
     "name": "stderr",
     "output_type": "stream",
     "text": [
      " 38%|███▊      | 672/1768 [06:06<08:41,  2.10it/s]"
     ]
    },
    {
     "name": "stdout",
     "output_type": "stream",
     "text": [
      "Image and info_dict saved for 61639cfff95dae27b1a9953fbb7b4339_0 in /Volumes/Newsmy/FM_dataset/VinDr-Mammo-finding/Train/61639cfff95dae27b1a9953fbb7b4339_0\n"
     ]
    },
    {
     "name": "stderr",
     "output_type": "stream",
     "text": [
      " 38%|███▊      | 673/1768 [06:07<08:30,  2.15it/s]"
     ]
    },
    {
     "name": "stdout",
     "output_type": "stream",
     "text": [
      "Image and info_dict saved for 61755c4437985c8f56b6d5a3734d534b_0 in /Volumes/Newsmy/FM_dataset/VinDr-Mammo-finding/Train/61755c4437985c8f56b6d5a3734d534b_0\n"
     ]
    },
    {
     "name": "stderr",
     "output_type": "stream",
     "text": [
      " 38%|███▊      | 674/1768 [06:07<08:53,  2.05it/s]"
     ]
    },
    {
     "name": "stdout",
     "output_type": "stream",
     "text": [
      "Image and info_dict saved for 619c3641bad6cc105b32173c3e0747cb_0 in /Volumes/Newsmy/FM_dataset/VinDr-Mammo-finding/Train/619c3641bad6cc105b32173c3e0747cb_0\n"
     ]
    },
    {
     "name": "stderr",
     "output_type": "stream",
     "text": [
      " 38%|███▊      | 675/1768 [06:08<08:00,  2.27it/s]"
     ]
    },
    {
     "name": "stdout",
     "output_type": "stream",
     "text": [
      "Image and info_dict saved for 61b7d796b410c6c13e094353a3a66266_0 in /Volumes/Newsmy/FM_dataset/VinDr-Mammo-finding/Train/61b7d796b410c6c13e094353a3a66266_0\n"
     ]
    },
    {
     "name": "stderr",
     "output_type": "stream",
     "text": [
      " 38%|███▊      | 676/1768 [06:08<08:18,  2.19it/s]"
     ]
    },
    {
     "name": "stdout",
     "output_type": "stream",
     "text": [
      "Image and info_dict saved for 61dea424b31908763e86ddb3e420e007_0 in /Volumes/Newsmy/FM_dataset/VinDr-Mammo-finding/Train/61dea424b31908763e86ddb3e420e007_0\n"
     ]
    },
    {
     "name": "stderr",
     "output_type": "stream",
     "text": [
      " 38%|███▊      | 677/1768 [06:08<08:29,  2.14it/s]"
     ]
    },
    {
     "name": "stdout",
     "output_type": "stream",
     "text": [
      "Image and info_dict saved for 625aa350502a7038cfe5f9ca5f1a65f4_0 in /Volumes/Newsmy/FM_dataset/VinDr-Mammo-finding/Train/625aa350502a7038cfe5f9ca5f1a65f4_0\n"
     ]
    },
    {
     "name": "stderr",
     "output_type": "stream",
     "text": [
      " 38%|███▊      | 678/1768 [06:09<08:09,  2.23it/s]"
     ]
    },
    {
     "name": "stdout",
     "output_type": "stream",
     "text": [
      "Image and info_dict saved for 6266ffa44d75d2edc9d3c725b20b6d49_0 in /Volumes/Newsmy/FM_dataset/VinDr-Mammo-finding/Test/6266ffa44d75d2edc9d3c725b20b6d49_0\n",
      "Image and info_dict saved for 6266ffa44d75d2edc9d3c725b20b6d49_1 in /Volumes/Newsmy/FM_dataset/VinDr-Mammo-finding/Test/6266ffa44d75d2edc9d3c725b20b6d49_1\n"
     ]
    },
    {
     "name": "stderr",
     "output_type": "stream",
     "text": [
      " 38%|███▊      | 679/1768 [06:09<07:23,  2.46it/s]"
     ]
    },
    {
     "name": "stdout",
     "output_type": "stream",
     "text": [
      "Image and info_dict saved for 626d9144ab105af67e6ab1b00397531a_0 in /Volumes/Newsmy/FM_dataset/VinDr-Mammo-finding/Test/626d9144ab105af67e6ab1b00397531a_0\n"
     ]
    },
    {
     "name": "stderr",
     "output_type": "stream",
     "text": [
      " 38%|███▊      | 680/1768 [06:10<08:07,  2.23it/s]"
     ]
    },
    {
     "name": "stdout",
     "output_type": "stream",
     "text": [
      "Image and info_dict saved for 62920323da267f6a7c30adf394aa05c4_0 in /Volumes/Newsmy/FM_dataset/VinDr-Mammo-finding/Test/62920323da267f6a7c30adf394aa05c4_0\n"
     ]
    },
    {
     "name": "stderr",
     "output_type": "stream",
     "text": [
      " 39%|███▊      | 681/1768 [06:10<09:34,  1.89it/s]"
     ]
    },
    {
     "name": "stdout",
     "output_type": "stream",
     "text": [
      "Image and info_dict saved for 62bc0c3735b87acc2c86f5c80497149b_0 in /Volumes/Newsmy/FM_dataset/VinDr-Mammo-finding/Train/62bc0c3735b87acc2c86f5c80497149b_0\n",
      "Image and info_dict saved for 62bc0c3735b87acc2c86f5c80497149b_1 in /Volumes/Newsmy/FM_dataset/VinDr-Mammo-finding/Train/62bc0c3735b87acc2c86f5c80497149b_1\n",
      "Image and info_dict saved for 62bc0c3735b87acc2c86f5c80497149b_2 in /Volumes/Newsmy/FM_dataset/VinDr-Mammo-finding/Train/62bc0c3735b87acc2c86f5c80497149b_2\n"
     ]
    },
    {
     "name": "stderr",
     "output_type": "stream",
     "text": [
      " 39%|███▊      | 682/1768 [06:11<09:08,  1.98it/s]"
     ]
    },
    {
     "name": "stdout",
     "output_type": "stream",
     "text": [
      "Image and info_dict saved for 62bee7e64437d079c4cccf0b5293240f_0 in /Volumes/Newsmy/FM_dataset/VinDr-Mammo-finding/Train/62bee7e64437d079c4cccf0b5293240f_0\n"
     ]
    },
    {
     "name": "stderr",
     "output_type": "stream",
     "text": [
      " 39%|███▊      | 683/1768 [06:11<08:58,  2.02it/s]"
     ]
    },
    {
     "name": "stdout",
     "output_type": "stream",
     "text": [
      "Image and info_dict saved for 62f8a16b3e780f015c1ba48c7c98f184_0 in /Volumes/Newsmy/FM_dataset/VinDr-Mammo-finding/Test/62f8a16b3e780f015c1ba48c7c98f184_0\n"
     ]
    },
    {
     "name": "stderr",
     "output_type": "stream",
     "text": [
      " 39%|███▊      | 684/1768 [06:12<08:43,  2.07it/s]"
     ]
    },
    {
     "name": "stdout",
     "output_type": "stream",
     "text": [
      "Image and info_dict saved for 632648b87efcae974030e8e9062dcaa5_0 in /Volumes/Newsmy/FM_dataset/VinDr-Mammo-finding/Train/632648b87efcae974030e8e9062dcaa5_0\n"
     ]
    },
    {
     "name": "stderr",
     "output_type": "stream",
     "text": [
      " 39%|███▊      | 685/1768 [06:12<08:47,  2.05it/s]"
     ]
    },
    {
     "name": "stdout",
     "output_type": "stream",
     "text": [
      "Image and info_dict saved for 6334ea4f303af58784d84f399dae396c_0 in /Volumes/Newsmy/FM_dataset/VinDr-Mammo-finding/Train/6334ea4f303af58784d84f399dae396c_0\n",
      "Image and info_dict saved for 6334ea4f303af58784d84f399dae396c_1 in /Volumes/Newsmy/FM_dataset/VinDr-Mammo-finding/Train/6334ea4f303af58784d84f399dae396c_1\n"
     ]
    },
    {
     "name": "stderr",
     "output_type": "stream",
     "text": [
      " 39%|███▉      | 686/1768 [06:13<08:35,  2.10it/s]"
     ]
    },
    {
     "name": "stdout",
     "output_type": "stream",
     "text": [
      "Image and info_dict saved for 63857e01d707240c042dd951cffb43de_0 in /Volumes/Newsmy/FM_dataset/VinDr-Mammo-finding/Train/63857e01d707240c042dd951cffb43de_0\n"
     ]
    },
    {
     "name": "stderr",
     "output_type": "stream",
     "text": [
      " 39%|███▉      | 687/1768 [06:13<08:17,  2.17it/s]"
     ]
    },
    {
     "name": "stdout",
     "output_type": "stream",
     "text": [
      "Image and info_dict saved for 63a6fea3ac77af3f8e332371745ccd65_0 in /Volumes/Newsmy/FM_dataset/VinDr-Mammo-finding/Train/63a6fea3ac77af3f8e332371745ccd65_0\n"
     ]
    },
    {
     "name": "stderr",
     "output_type": "stream",
     "text": [
      " 39%|███▉      | 688/1768 [06:14<08:48,  2.04it/s]"
     ]
    },
    {
     "name": "stdout",
     "output_type": "stream",
     "text": [
      "Image and info_dict saved for 63ac8d25ff12c89ba09ae5ac9921b795_0 in /Volumes/Newsmy/FM_dataset/VinDr-Mammo-finding/Train/63ac8d25ff12c89ba09ae5ac9921b795_0\n"
     ]
    },
    {
     "name": "stderr",
     "output_type": "stream",
     "text": [
      " 39%|███▉      | 689/1768 [06:15<10:58,  1.64it/s]"
     ]
    },
    {
     "name": "stdout",
     "output_type": "stream",
     "text": [
      "Image and info_dict saved for 63c82e14fd966a8dc7fa9ae0d3d2dec2_0 in /Volumes/Newsmy/FM_dataset/VinDr-Mammo-finding/Train/63c82e14fd966a8dc7fa9ae0d3d2dec2_0\n"
     ]
    },
    {
     "name": "stderr",
     "output_type": "stream",
     "text": [
      " 39%|███▉      | 690/1768 [06:15<10:13,  1.76it/s]"
     ]
    },
    {
     "name": "stdout",
     "output_type": "stream",
     "text": [
      "Image and info_dict saved for 63e191a5f5f4c92b9cb224916003d641_0 in /Volumes/Newsmy/FM_dataset/VinDr-Mammo-finding/Train/63e191a5f5f4c92b9cb224916003d641_0\n"
     ]
    },
    {
     "name": "stderr",
     "output_type": "stream",
     "text": [
      " 39%|███▉      | 691/1768 [06:16<09:48,  1.83it/s]"
     ]
    },
    {
     "name": "stdout",
     "output_type": "stream",
     "text": [
      "Image and info_dict saved for 63f4053da6b026f6b58b159fdf79b6ab_0 in /Volumes/Newsmy/FM_dataset/VinDr-Mammo-finding/Train/63f4053da6b026f6b58b159fdf79b6ab_0\n"
     ]
    },
    {
     "name": "stderr",
     "output_type": "stream",
     "text": [
      " 39%|███▉      | 692/1768 [06:16<10:27,  1.72it/s]"
     ]
    },
    {
     "name": "stdout",
     "output_type": "stream",
     "text": [
      "Image and info_dict saved for 63fc9a74c6faa9ea7a869fe657201e70_0 in /Volumes/Newsmy/FM_dataset/VinDr-Mammo-finding/Train/63fc9a74c6faa9ea7a869fe657201e70_0\n",
      "Image and info_dict saved for 63fc9a74c6faa9ea7a869fe657201e70_1 in /Volumes/Newsmy/FM_dataset/VinDr-Mammo-finding/Train/63fc9a74c6faa9ea7a869fe657201e70_1\n"
     ]
    },
    {
     "name": "stderr",
     "output_type": "stream",
     "text": [
      " 39%|███▉      | 693/1768 [06:17<09:42,  1.85it/s]"
     ]
    },
    {
     "name": "stdout",
     "output_type": "stream",
     "text": [
      "Image and info_dict saved for 642e3c4fc9781baacd965a5d6b5d6f1f_0 in /Volumes/Newsmy/FM_dataset/VinDr-Mammo-finding/Train/642e3c4fc9781baacd965a5d6b5d6f1f_0\n"
     ]
    },
    {
     "name": "stderr",
     "output_type": "stream",
     "text": [
      " 39%|███▉      | 694/1768 [06:17<09:21,  1.91it/s]"
     ]
    },
    {
     "name": "stdout",
     "output_type": "stream",
     "text": [
      "Image and info_dict saved for 6450616fa854fa9d7a26d111e880792e_0 in /Volumes/Newsmy/FM_dataset/VinDr-Mammo-finding/Test/6450616fa854fa9d7a26d111e880792e_0\n"
     ]
    },
    {
     "name": "stderr",
     "output_type": "stream",
     "text": [
      " 39%|███▉      | 695/1768 [06:18<09:45,  1.83it/s]"
     ]
    },
    {
     "name": "stdout",
     "output_type": "stream",
     "text": [
      "Image and info_dict saved for 645750c02921da235324e6b32b8d9eaf_0 in /Volumes/Newsmy/FM_dataset/VinDr-Mammo-finding/Test/645750c02921da235324e6b32b8d9eaf_0\n",
      "Image and info_dict saved for 645750c02921da235324e6b32b8d9eaf_1 in /Volumes/Newsmy/FM_dataset/VinDr-Mammo-finding/Test/645750c02921da235324e6b32b8d9eaf_1\n"
     ]
    },
    {
     "name": "stderr",
     "output_type": "stream",
     "text": [
      " 39%|███▉      | 696/1768 [06:18<10:10,  1.75it/s]"
     ]
    },
    {
     "name": "stdout",
     "output_type": "stream",
     "text": [
      "Image and info_dict saved for 646a8026c7980f5bc53fa0934a9a6e9d_0 in /Volumes/Newsmy/FM_dataset/VinDr-Mammo-finding/Train/646a8026c7980f5bc53fa0934a9a6e9d_0\n"
     ]
    },
    {
     "name": "stderr",
     "output_type": "stream",
     "text": [
      " 39%|███▉      | 697/1768 [06:19<09:58,  1.79it/s]"
     ]
    },
    {
     "name": "stdout",
     "output_type": "stream",
     "text": [
      "Image and info_dict saved for 648040dd50a48c66b4819c38536668ef_0 in /Volumes/Newsmy/FM_dataset/VinDr-Mammo-finding/Train/648040dd50a48c66b4819c38536668ef_0\n"
     ]
    },
    {
     "name": "stderr",
     "output_type": "stream",
     "text": [
      " 39%|███▉      | 698/1768 [06:19<09:17,  1.92it/s]"
     ]
    },
    {
     "name": "stdout",
     "output_type": "stream",
     "text": [
      "Image and info_dict saved for 64e88bc3716211bb2fc5dae3ca9e5b92_0 in /Volumes/Newsmy/FM_dataset/VinDr-Mammo-finding/Train/64e88bc3716211bb2fc5dae3ca9e5b92_0\n"
     ]
    },
    {
     "name": "stderr",
     "output_type": "stream",
     "text": [
      " 40%|███▉      | 699/1768 [06:20<08:51,  2.01it/s]"
     ]
    },
    {
     "name": "stdout",
     "output_type": "stream",
     "text": [
      "Image and info_dict saved for 64e99947cfb282b5c17e447510317465_0 in /Volumes/Newsmy/FM_dataset/VinDr-Mammo-finding/Train/64e99947cfb282b5c17e447510317465_0\n"
     ]
    },
    {
     "name": "stderr",
     "output_type": "stream",
     "text": [
      " 40%|███▉      | 700/1768 [06:20<09:14,  1.92it/s]"
     ]
    },
    {
     "name": "stdout",
     "output_type": "stream",
     "text": [
      "Image and info_dict saved for 64fdb492374ddfe9294ec558c3cf4fd9_0 in /Volumes/Newsmy/FM_dataset/VinDr-Mammo-finding/Eval/64fdb492374ddfe9294ec558c3cf4fd9_0\n",
      "Image and info_dict saved for 64fdb492374ddfe9294ec558c3cf4fd9_1 in /Volumes/Newsmy/FM_dataset/VinDr-Mammo-finding/Eval/64fdb492374ddfe9294ec558c3cf4fd9_1\n"
     ]
    },
    {
     "name": "stderr",
     "output_type": "stream",
     "text": [
      " 40%|███▉      | 701/1768 [06:21<09:30,  1.87it/s]"
     ]
    },
    {
     "name": "stdout",
     "output_type": "stream",
     "text": [
      "Image and info_dict saved for 6539805fceb039119fb638034ffb5bd1_0 in /Volumes/Newsmy/FM_dataset/VinDr-Mammo-finding/Test/6539805fceb039119fb638034ffb5bd1_0\n"
     ]
    },
    {
     "name": "stderr",
     "output_type": "stream",
     "text": [
      " 40%|███▉      | 702/1768 [06:23<18:19,  1.03s/it]"
     ]
    },
    {
     "name": "stdout",
     "output_type": "stream",
     "text": [
      "Image and info_dict saved for 6559b8de9d345fd8b234329f27659f99_0 in /Volumes/Newsmy/FM_dataset/VinDr-Mammo-finding/Train/6559b8de9d345fd8b234329f27659f99_0\n"
     ]
    },
    {
     "name": "stderr",
     "output_type": "stream",
     "text": [
      " 40%|███▉      | 703/1768 [06:24<17:30,  1.01it/s]"
     ]
    },
    {
     "name": "stdout",
     "output_type": "stream",
     "text": [
      "Image and info_dict saved for 6564d2c57d2f23c96d73cc6f21ec78bb_0 in /Volumes/Newsmy/FM_dataset/VinDr-Mammo-finding/Eval/6564d2c57d2f23c96d73cc6f21ec78bb_0\n"
     ]
    },
    {
     "name": "stderr",
     "output_type": "stream",
     "text": [
      " 40%|███▉      | 704/1768 [06:25<15:25,  1.15it/s]"
     ]
    },
    {
     "name": "stdout",
     "output_type": "stream",
     "text": [
      "Image and info_dict saved for 656d974e5440eb80c673a1b4d2d32a0c_0 in /Volumes/Newsmy/FM_dataset/VinDr-Mammo-finding/Train/656d974e5440eb80c673a1b4d2d32a0c_0\n"
     ]
    },
    {
     "name": "stderr",
     "output_type": "stream",
     "text": [
      " 40%|███▉      | 705/1768 [06:25<14:28,  1.22it/s]"
     ]
    },
    {
     "name": "stdout",
     "output_type": "stream",
     "text": [
      "Image and info_dict saved for 6587b6ecbcf196b298b5898f7ad4763b_0 in /Volumes/Newsmy/FM_dataset/VinDr-Mammo-finding/Train/6587b6ecbcf196b298b5898f7ad4763b_0\n",
      "Image and info_dict saved for 6587b6ecbcf196b298b5898f7ad4763b_1 in /Volumes/Newsmy/FM_dataset/VinDr-Mammo-finding/Train/6587b6ecbcf196b298b5898f7ad4763b_1\n"
     ]
    },
    {
     "name": "stderr",
     "output_type": "stream",
     "text": [
      " 40%|███▉      | 706/1768 [06:26<13:01,  1.36it/s]"
     ]
    },
    {
     "name": "stdout",
     "output_type": "stream",
     "text": [
      "Image and info_dict saved for 65cc9e7db32c047a5b13ed81767ac9fb_0 in /Volumes/Newsmy/FM_dataset/VinDr-Mammo-finding/Test/65cc9e7db32c047a5b13ed81767ac9fb_0\n"
     ]
    },
    {
     "name": "stderr",
     "output_type": "stream",
     "text": [
      " 40%|███▉      | 707/1768 [06:26<12:03,  1.47it/s]"
     ]
    },
    {
     "name": "stdout",
     "output_type": "stream",
     "text": [
      "Image and info_dict saved for 65ece004ffc7a5d3b472b0ff63c02680_0 in /Volumes/Newsmy/FM_dataset/VinDr-Mammo-finding/Train/65ece004ffc7a5d3b472b0ff63c02680_0\n",
      "Image and info_dict saved for 65ece004ffc7a5d3b472b0ff63c02680_1 in /Volumes/Newsmy/FM_dataset/VinDr-Mammo-finding/Train/65ece004ffc7a5d3b472b0ff63c02680_1\n"
     ]
    },
    {
     "name": "stderr",
     "output_type": "stream",
     "text": [
      " 40%|████      | 708/1768 [06:27<10:30,  1.68it/s]"
     ]
    },
    {
     "name": "stdout",
     "output_type": "stream",
     "text": [
      "Image and info_dict saved for 660d6f19556bd5eab8d81c40150c2ba0_0 in /Volumes/Newsmy/FM_dataset/VinDr-Mammo-finding/Train/660d6f19556bd5eab8d81c40150c2ba0_0\n"
     ]
    },
    {
     "name": "stderr",
     "output_type": "stream",
     "text": [
      " 40%|████      | 709/1768 [06:27<09:49,  1.80it/s]"
     ]
    },
    {
     "name": "stdout",
     "output_type": "stream",
     "text": [
      "Image and info_dict saved for 664b12ccff1d1acfe8f965d87615ae3d_0 in /Volumes/Newsmy/FM_dataset/VinDr-Mammo-finding/Train/664b12ccff1d1acfe8f965d87615ae3d_0\n"
     ]
    },
    {
     "name": "stderr",
     "output_type": "stream",
     "text": [
      " 40%|████      | 710/1768 [06:28<09:43,  1.81it/s]"
     ]
    },
    {
     "name": "stdout",
     "output_type": "stream",
     "text": [
      "Image and info_dict saved for 665f9100c1aa11d51aac07a1ac35ed2f_0 in /Volumes/Newsmy/FM_dataset/VinDr-Mammo-finding/Eval/665f9100c1aa11d51aac07a1ac35ed2f_0\n"
     ]
    },
    {
     "name": "stderr",
     "output_type": "stream",
     "text": [
      " 40%|████      | 711/1768 [06:28<09:18,  1.89it/s]"
     ]
    },
    {
     "name": "stdout",
     "output_type": "stream",
     "text": [
      "Image and info_dict saved for 668eaf0ed8f832c114a033ab714b7e99_0 in /Volumes/Newsmy/FM_dataset/VinDr-Mammo-finding/Train/668eaf0ed8f832c114a033ab714b7e99_0\n"
     ]
    },
    {
     "name": "stderr",
     "output_type": "stream",
     "text": [
      " 40%|████      | 712/1768 [06:29<08:40,  2.03it/s]"
     ]
    },
    {
     "name": "stdout",
     "output_type": "stream",
     "text": [
      "Image and info_dict saved for 66d392ec44df82ac333d01411a01679d_0 in /Volumes/Newsmy/FM_dataset/VinDr-Mammo-finding/Test/66d392ec44df82ac333d01411a01679d_0\n"
     ]
    },
    {
     "name": "stderr",
     "output_type": "stream",
     "text": [
      " 40%|████      | 713/1768 [06:29<08:40,  2.03it/s]"
     ]
    },
    {
     "name": "stdout",
     "output_type": "stream",
     "text": [
      "Image and info_dict saved for 66d5d94402456f664753ec443d077bf9_0 in /Volumes/Newsmy/FM_dataset/VinDr-Mammo-finding/Test/66d5d94402456f664753ec443d077bf9_0\n"
     ]
    },
    {
     "name": "stderr",
     "output_type": "stream",
     "text": [
      " 40%|████      | 714/1768 [06:30<08:47,  2.00it/s]"
     ]
    },
    {
     "name": "stdout",
     "output_type": "stream",
     "text": [
      "Image and info_dict saved for 67190a4e7edcef162645acee9e14db4c_0 in /Volumes/Newsmy/FM_dataset/VinDr-Mammo-finding/Train/67190a4e7edcef162645acee9e14db4c_0\n"
     ]
    },
    {
     "name": "stderr",
     "output_type": "stream",
     "text": [
      " 40%|████      | 715/1768 [06:30<08:49,  1.99it/s]"
     ]
    },
    {
     "name": "stdout",
     "output_type": "stream",
     "text": [
      "Image and info_dict saved for 671b8217de35176be9831fffe78ffb28_0 in /Volumes/Newsmy/FM_dataset/VinDr-Mammo-finding/Train/671b8217de35176be9831fffe78ffb28_0\n"
     ]
    },
    {
     "name": "stderr",
     "output_type": "stream",
     "text": [
      " 40%|████      | 716/1768 [06:31<07:58,  2.20it/s]"
     ]
    },
    {
     "name": "stdout",
     "output_type": "stream",
     "text": [
      "Image and info_dict saved for 673e2ee6dfb0c4165a7cfde1ba5a7f55_0 in /Volumes/Newsmy/FM_dataset/VinDr-Mammo-finding/Train/673e2ee6dfb0c4165a7cfde1ba5a7f55_0\n"
     ]
    },
    {
     "name": "stderr",
     "output_type": "stream",
     "text": [
      " 41%|████      | 717/1768 [06:31<07:34,  2.31it/s]"
     ]
    },
    {
     "name": "stdout",
     "output_type": "stream",
     "text": [
      "Image and info_dict saved for 675d744240f47d661b80c42df6b6b0bc_0 in /Volumes/Newsmy/FM_dataset/VinDr-Mammo-finding/Train/675d744240f47d661b80c42df6b6b0bc_0\n"
     ]
    },
    {
     "name": "stderr",
     "output_type": "stream",
     "text": [
      " 41%|████      | 718/1768 [06:31<07:42,  2.27it/s]"
     ]
    },
    {
     "name": "stdout",
     "output_type": "stream",
     "text": [
      "Image and info_dict saved for 6770e08049264165b58c5f5ddcfd5b95_0 in /Volumes/Newsmy/FM_dataset/VinDr-Mammo-finding/Train/6770e08049264165b58c5f5ddcfd5b95_0\n"
     ]
    },
    {
     "name": "stderr",
     "output_type": "stream",
     "text": [
      " 41%|████      | 719/1768 [06:32<07:20,  2.38it/s]"
     ]
    },
    {
     "name": "stdout",
     "output_type": "stream",
     "text": [
      "Image and info_dict saved for 679a6515593f9692eb6a622b7b6b0aa0_0 in /Volumes/Newsmy/FM_dataset/VinDr-Mammo-finding/Train/679a6515593f9692eb6a622b7b6b0aa0_0\n"
     ]
    },
    {
     "name": "stderr",
     "output_type": "stream",
     "text": [
      " 41%|████      | 720/1768 [06:32<06:55,  2.52it/s]"
     ]
    },
    {
     "name": "stdout",
     "output_type": "stream",
     "text": [
      "Image and info_dict saved for 67eba147095e0fb7cc0fb928c08a6fa0_0 in /Volumes/Newsmy/FM_dataset/VinDr-Mammo-finding/Train/67eba147095e0fb7cc0fb928c08a6fa0_0\n"
     ]
    },
    {
     "name": "stderr",
     "output_type": "stream",
     "text": [
      " 41%|████      | 721/1768 [06:33<06:37,  2.63it/s]"
     ]
    },
    {
     "name": "stdout",
     "output_type": "stream",
     "text": [
      "Image and info_dict saved for 67f49885895019878c47b21422cec4c9_0 in /Volumes/Newsmy/FM_dataset/VinDr-Mammo-finding/Test/67f49885895019878c47b21422cec4c9_0\n"
     ]
    },
    {
     "name": "stderr",
     "output_type": "stream",
     "text": [
      " 41%|████      | 722/1768 [06:33<06:51,  2.54it/s]"
     ]
    },
    {
     "name": "stdout",
     "output_type": "stream",
     "text": [
      "Image and info_dict saved for 683abf5002cb766e0d5430fbb25c2b1e_0 in /Volumes/Newsmy/FM_dataset/VinDr-Mammo-finding/Train/683abf5002cb766e0d5430fbb25c2b1e_0\n"
     ]
    },
    {
     "name": "stderr",
     "output_type": "stream",
     "text": [
      " 41%|████      | 723/1768 [06:33<07:37,  2.28it/s]"
     ]
    },
    {
     "name": "stdout",
     "output_type": "stream",
     "text": [
      "Image and info_dict saved for 68426a583c2e1f00535c459657a9c01c_0 in /Volumes/Newsmy/FM_dataset/VinDr-Mammo-finding/Train/68426a583c2e1f00535c459657a9c01c_0\n",
      "Image and info_dict saved for 68426a583c2e1f00535c459657a9c01c_1 in /Volumes/Newsmy/FM_dataset/VinDr-Mammo-finding/Train/68426a583c2e1f00535c459657a9c01c_1\n"
     ]
    },
    {
     "name": "stderr",
     "output_type": "stream",
     "text": [
      " 41%|████      | 724/1768 [06:34<07:27,  2.33it/s]"
     ]
    },
    {
     "name": "stdout",
     "output_type": "stream",
     "text": [
      "Image and info_dict saved for 68485c632936e965249b2aee946aec2d_0 in /Volumes/Newsmy/FM_dataset/VinDr-Mammo-finding/Train/68485c632936e965249b2aee946aec2d_0\n"
     ]
    },
    {
     "name": "stderr",
     "output_type": "stream",
     "text": [
      " 41%|████      | 725/1768 [06:34<08:08,  2.14it/s]"
     ]
    },
    {
     "name": "stdout",
     "output_type": "stream",
     "text": [
      "Image and info_dict saved for 686c9c4b3bd36755a0ba9fa3af3fcc64_0 in /Volumes/Newsmy/FM_dataset/VinDr-Mammo-finding/Train/686c9c4b3bd36755a0ba9fa3af3fcc64_0\n"
     ]
    },
    {
     "name": "stderr",
     "output_type": "stream",
     "text": [
      " 41%|████      | 726/1768 [06:35<08:53,  1.95it/s]"
     ]
    },
    {
     "name": "stdout",
     "output_type": "stream",
     "text": [
      "Image and info_dict saved for 6873d1aaecb91ad53eb43ac38a1fa258_0 in /Volumes/Newsmy/FM_dataset/VinDr-Mammo-finding/Train/6873d1aaecb91ad53eb43ac38a1fa258_0\n"
     ]
    },
    {
     "name": "stderr",
     "output_type": "stream",
     "text": [
      " 41%|████      | 727/1768 [06:36<09:00,  1.93it/s]"
     ]
    },
    {
     "name": "stdout",
     "output_type": "stream",
     "text": [
      "Image and info_dict saved for 687e8b73cc3f145f652b6848e8ad69aa_0 in /Volumes/Newsmy/FM_dataset/VinDr-Mammo-finding/Train/687e8b73cc3f145f652b6848e8ad69aa_0\n"
     ]
    },
    {
     "name": "stderr",
     "output_type": "stream",
     "text": [
      " 41%|████      | 728/1768 [06:36<09:37,  1.80it/s]"
     ]
    },
    {
     "name": "stdout",
     "output_type": "stream",
     "text": [
      "Image and info_dict saved for 688ece496be02afd7ee4ed6e3d5ab036_0 in /Volumes/Newsmy/FM_dataset/VinDr-Mammo-finding/Test/688ece496be02afd7ee4ed6e3d5ab036_0\n"
     ]
    },
    {
     "name": "stderr",
     "output_type": "stream",
     "text": [
      " 41%|████      | 729/1768 [06:37<09:29,  1.83it/s]"
     ]
    },
    {
     "name": "stdout",
     "output_type": "stream",
     "text": [
      "Image and info_dict saved for 689d1143a98c1fe8d350b31390df9f44_0 in /Volumes/Newsmy/FM_dataset/VinDr-Mammo-finding/Train/689d1143a98c1fe8d350b31390df9f44_0\n"
     ]
    },
    {
     "name": "stderr",
     "output_type": "stream",
     "text": [
      " 41%|████▏     | 730/1768 [06:37<09:12,  1.88it/s]"
     ]
    },
    {
     "name": "stdout",
     "output_type": "stream",
     "text": [
      "Image and info_dict saved for 68b5530fd028466c156e6156d672f92d_0 in /Volumes/Newsmy/FM_dataset/VinDr-Mammo-finding/Train/68b5530fd028466c156e6156d672f92d_0\n"
     ]
    },
    {
     "name": "stderr",
     "output_type": "stream",
     "text": [
      " 41%|████▏     | 731/1768 [06:38<09:09,  1.89it/s]"
     ]
    },
    {
     "name": "stdout",
     "output_type": "stream",
     "text": [
      "Image and info_dict saved for 68ba2f79b2cbffecb3512279a6879fc7_0 in /Volumes/Newsmy/FM_dataset/VinDr-Mammo-finding/Train/68ba2f79b2cbffecb3512279a6879fc7_0\n"
     ]
    },
    {
     "name": "stderr",
     "output_type": "stream",
     "text": [
      " 41%|████▏     | 732/1768 [06:39<12:06,  1.43it/s]"
     ]
    },
    {
     "name": "stdout",
     "output_type": "stream",
     "text": [
      "Image and info_dict saved for 68c067fae3271df52f5be18e8e6f7c5f_0 in /Volumes/Newsmy/FM_dataset/VinDr-Mammo-finding/Train/68c067fae3271df52f5be18e8e6f7c5f_0\n"
     ]
    },
    {
     "name": "stderr",
     "output_type": "stream",
     "text": [
      " 41%|████▏     | 733/1768 [06:39<10:45,  1.60it/s]"
     ]
    },
    {
     "name": "stdout",
     "output_type": "stream",
     "text": [
      "Image and info_dict saved for 68e4a2c85b46b78118fd2dac46a9afbb_0 in /Volumes/Newsmy/FM_dataset/VinDr-Mammo-finding/Train/68e4a2c85b46b78118fd2dac46a9afbb_0\n"
     ]
    },
    {
     "name": "stderr",
     "output_type": "stream",
     "text": [
      " 42%|████▏     | 734/1768 [06:40<10:13,  1.69it/s]"
     ]
    },
    {
     "name": "stdout",
     "output_type": "stream",
     "text": [
      "Image and info_dict saved for 6904df2bf7180487ad11bf6da7890b5b_0 in /Volumes/Newsmy/FM_dataset/VinDr-Mammo-finding/Test/6904df2bf7180487ad11bf6da7890b5b_0\n"
     ]
    },
    {
     "name": "stderr",
     "output_type": "stream",
     "text": [
      " 42%|████▏     | 735/1768 [06:40<09:22,  1.84it/s]"
     ]
    },
    {
     "name": "stdout",
     "output_type": "stream",
     "text": [
      "Image and info_dict saved for 69096a320389061323d897e6051f68c2_0 in /Volumes/Newsmy/FM_dataset/VinDr-Mammo-finding/Eval/69096a320389061323d897e6051f68c2_0\n"
     ]
    },
    {
     "name": "stderr",
     "output_type": "stream",
     "text": [
      " 42%|████▏     | 736/1768 [06:41<10:34,  1.63it/s]"
     ]
    },
    {
     "name": "stdout",
     "output_type": "stream",
     "text": [
      "Image and info_dict saved for 6943cda7ce5b1cdf56ea8fffb17c52f5_0 in /Volumes/Newsmy/FM_dataset/VinDr-Mammo-finding/Train/6943cda7ce5b1cdf56ea8fffb17c52f5_0\n"
     ]
    },
    {
     "name": "stderr",
     "output_type": "stream",
     "text": [
      " 42%|████▏     | 737/1768 [06:42<10:32,  1.63it/s]"
     ]
    },
    {
     "name": "stdout",
     "output_type": "stream",
     "text": [
      "Image and info_dict saved for 695eb015c1143034838b1f25672d458a_0 in /Volumes/Newsmy/FM_dataset/VinDr-Mammo-finding/Train/695eb015c1143034838b1f25672d458a_0\n",
      "Image and info_dict saved for 695eb015c1143034838b1f25672d458a_1 in /Volumes/Newsmy/FM_dataset/VinDr-Mammo-finding/Train/695eb015c1143034838b1f25672d458a_1\n",
      "Image and info_dict saved for 695eb015c1143034838b1f25672d458a_2 in /Volumes/Newsmy/FM_dataset/VinDr-Mammo-finding/Train/695eb015c1143034838b1f25672d458a_2\n"
     ]
    },
    {
     "name": "stderr",
     "output_type": "stream",
     "text": [
      " 42%|████▏     | 738/1768 [06:42<09:24,  1.82it/s]"
     ]
    },
    {
     "name": "stdout",
     "output_type": "stream",
     "text": [
      "Image and info_dict saved for 69b872a225cb0e218a26a8a313ee3ef4_0 in /Volumes/Newsmy/FM_dataset/VinDr-Mammo-finding/Eval/69b872a225cb0e218a26a8a313ee3ef4_0\n"
     ]
    },
    {
     "name": "stderr",
     "output_type": "stream",
     "text": [
      " 42%|████▏     | 739/1768 [06:43<09:03,  1.89it/s]"
     ]
    },
    {
     "name": "stdout",
     "output_type": "stream",
     "text": [
      "Image and info_dict saved for 69d79c2c0b56b3b3661edf4d7bfd60bd_0 in /Volumes/Newsmy/FM_dataset/VinDr-Mammo-finding/Train/69d79c2c0b56b3b3661edf4d7bfd60bd_0\n"
     ]
    },
    {
     "name": "stderr",
     "output_type": "stream",
     "text": [
      " 42%|████▏     | 740/1768 [06:43<09:07,  1.88it/s]"
     ]
    },
    {
     "name": "stdout",
     "output_type": "stream",
     "text": [
      "Image and info_dict saved for 69d7ee18b66363ef76ad1a926cf10f9d_0 in /Volumes/Newsmy/FM_dataset/VinDr-Mammo-finding/Train/69d7ee18b66363ef76ad1a926cf10f9d_0\n",
      "Image and info_dict saved for 69d7ee18b66363ef76ad1a926cf10f9d_1 in /Volumes/Newsmy/FM_dataset/VinDr-Mammo-finding/Train/69d7ee18b66363ef76ad1a926cf10f9d_1\n"
     ]
    },
    {
     "name": "stderr",
     "output_type": "stream",
     "text": [
      " 42%|████▏     | 741/1768 [06:44<09:16,  1.85it/s]"
     ]
    },
    {
     "name": "stdout",
     "output_type": "stream",
     "text": [
      "Image and info_dict saved for 6a0be4f170fec63f560775a183182be5_0 in /Volumes/Newsmy/FM_dataset/VinDr-Mammo-finding/Eval/6a0be4f170fec63f560775a183182be5_0\n"
     ]
    },
    {
     "name": "stderr",
     "output_type": "stream",
     "text": [
      " 42%|████▏     | 742/1768 [06:44<09:20,  1.83it/s]"
     ]
    },
    {
     "name": "stdout",
     "output_type": "stream",
     "text": [
      "Image and info_dict saved for 6a1c27260cf078234ac7976deaa1e18c_0 in /Volumes/Newsmy/FM_dataset/VinDr-Mammo-finding/Test/6a1c27260cf078234ac7976deaa1e18c_0\n",
      "Image and info_dict saved for 6a8ea59036175422f3f8253b21b3230e_0 in /Volumes/Newsmy/FM_dataset/VinDr-Mammo-finding/Train/6a8ea59036175422f3f8253b21b3230e_0\n",
      "Image and info_dict saved for 6a8ea59036175422f3f8253b21b3230e_1 in /Volumes/Newsmy/FM_dataset/VinDr-Mammo-finding/Train/6a8ea59036175422f3f8253b21b3230e_1\n",
      "Image and info_dict saved for 6a8ea59036175422f3f8253b21b3230e_2 in /Volumes/Newsmy/FM_dataset/VinDr-Mammo-finding/Train/6a8ea59036175422f3f8253b21b3230e_2\n",
      "Image and info_dict saved for 6a8ea59036175422f3f8253b21b3230e_3 in /Volumes/Newsmy/FM_dataset/VinDr-Mammo-finding/Train/6a8ea59036175422f3f8253b21b3230e_3\n"
     ]
    },
    {
     "name": "stderr",
     "output_type": "stream",
     "text": [
      " 42%|████▏     | 743/1768 [06:45<11:37,  1.47it/s]"
     ]
    },
    {
     "name": "stdout",
     "output_type": "stream",
     "text": [
      "Image and info_dict saved for 6a8ea59036175422f3f8253b21b3230e_4 in /Volumes/Newsmy/FM_dataset/VinDr-Mammo-finding/Train/6a8ea59036175422f3f8253b21b3230e_4\n"
     ]
    },
    {
     "name": "stderr",
     "output_type": "stream",
     "text": [
      " 42%|████▏     | 744/1768 [06:46<10:43,  1.59it/s]"
     ]
    },
    {
     "name": "stdout",
     "output_type": "stream",
     "text": [
      "Image and info_dict saved for 6ab2f8643bffd0c603fdb15f66f9ff3c_0 in /Volumes/Newsmy/FM_dataset/VinDr-Mammo-finding/Test/6ab2f8643bffd0c603fdb15f66f9ff3c_0\n"
     ]
    },
    {
     "name": "stderr",
     "output_type": "stream",
     "text": [
      " 42%|████▏     | 745/1768 [06:46<10:08,  1.68it/s]"
     ]
    },
    {
     "name": "stdout",
     "output_type": "stream",
     "text": [
      "Image and info_dict saved for 6ae164c6988c764284755b5d3dfce5ed_0 in /Volumes/Newsmy/FM_dataset/VinDr-Mammo-finding/Train/6ae164c6988c764284755b5d3dfce5ed_0\n"
     ]
    },
    {
     "name": "stderr",
     "output_type": "stream",
     "text": [
      " 42%|████▏     | 746/1768 [06:47<10:08,  1.68it/s]"
     ]
    },
    {
     "name": "stdout",
     "output_type": "stream",
     "text": [
      "Image and info_dict saved for 6afc6ec86e57fc23769b413b6921ce77_0 in /Volumes/Newsmy/FM_dataset/VinDr-Mammo-finding/Test/6afc6ec86e57fc23769b413b6921ce77_0\n"
     ]
    },
    {
     "name": "stderr",
     "output_type": "stream",
     "text": [
      " 42%|████▏     | 747/1768 [06:47<09:45,  1.74it/s]"
     ]
    },
    {
     "name": "stdout",
     "output_type": "stream",
     "text": [
      "Image and info_dict saved for 6b180003def75a5e79fb66a9c789d069_0 in /Volumes/Newsmy/FM_dataset/VinDr-Mammo-finding/Train/6b180003def75a5e79fb66a9c789d069_0\n"
     ]
    },
    {
     "name": "stderr",
     "output_type": "stream",
     "text": [
      " 42%|████▏     | 748/1768 [06:48<09:43,  1.75it/s]"
     ]
    },
    {
     "name": "stdout",
     "output_type": "stream",
     "text": [
      "Image and info_dict saved for 6b1dd04208019290c84add37e109fa79_0 in /Volumes/Newsmy/FM_dataset/VinDr-Mammo-finding/Train/6b1dd04208019290c84add37e109fa79_0\n"
     ]
    },
    {
     "name": "stderr",
     "output_type": "stream",
     "text": [
      " 42%|████▏     | 749/1768 [06:48<09:13,  1.84it/s]"
     ]
    },
    {
     "name": "stdout",
     "output_type": "stream",
     "text": [
      "Image and info_dict saved for 6b6b65d46cf68b3673b9a59c4cce9fc8_0 in /Volumes/Newsmy/FM_dataset/VinDr-Mammo-finding/Train/6b6b65d46cf68b3673b9a59c4cce9fc8_0\n"
     ]
    },
    {
     "name": "stderr",
     "output_type": "stream",
     "text": [
      " 42%|████▏     | 750/1768 [06:49<09:12,  1.84it/s]"
     ]
    },
    {
     "name": "stdout",
     "output_type": "stream",
     "text": [
      "Image and info_dict saved for 6b7388ce42e6fc45fe95525ef6ae8f06_0 in /Volumes/Newsmy/FM_dataset/VinDr-Mammo-finding/Eval/6b7388ce42e6fc45fe95525ef6ae8f06_0\n"
     ]
    },
    {
     "name": "stderr",
     "output_type": "stream",
     "text": [
      " 42%|████▏     | 751/1768 [06:50<10:18,  1.64it/s]"
     ]
    },
    {
     "name": "stdout",
     "output_type": "stream",
     "text": [
      "Image and info_dict saved for 6b82b4db1acf975fb40f0ce6e5c1b8c3_0 in /Volumes/Newsmy/FM_dataset/VinDr-Mammo-finding/Train/6b82b4db1acf975fb40f0ce6e5c1b8c3_0\n"
     ]
    },
    {
     "name": "stderr",
     "output_type": "stream",
     "text": [
      " 43%|████▎     | 752/1768 [06:50<09:53,  1.71it/s]"
     ]
    },
    {
     "name": "stdout",
     "output_type": "stream",
     "text": [
      "Image and info_dict saved for 6b86549dd6a1f6871be9e29eefae2fd8_0 in /Volumes/Newsmy/FM_dataset/VinDr-Mammo-finding/Train/6b86549dd6a1f6871be9e29eefae2fd8_0\n"
     ]
    },
    {
     "name": "stderr",
     "output_type": "stream",
     "text": [
      " 43%|████▎     | 753/1768 [06:51<10:05,  1.68it/s]"
     ]
    },
    {
     "name": "stdout",
     "output_type": "stream",
     "text": [
      "Image and info_dict saved for 6c1b365cbbaac1a040a005a3dd9c2f39_0 in /Volumes/Newsmy/FM_dataset/VinDr-Mammo-finding/Train/6c1b365cbbaac1a040a005a3dd9c2f39_0\n"
     ]
    },
    {
     "name": "stderr",
     "output_type": "stream",
     "text": [
      " 43%|████▎     | 754/1768 [06:51<09:29,  1.78it/s]"
     ]
    },
    {
     "name": "stdout",
     "output_type": "stream",
     "text": [
      "Image and info_dict saved for 6c27e1331b4f46e645d03e4e17698299_0 in /Volumes/Newsmy/FM_dataset/VinDr-Mammo-finding/Train/6c27e1331b4f46e645d03e4e17698299_0\n"
     ]
    },
    {
     "name": "stderr",
     "output_type": "stream",
     "text": [
      " 43%|████▎     | 755/1768 [06:52<09:23,  1.80it/s]"
     ]
    },
    {
     "name": "stdout",
     "output_type": "stream",
     "text": [
      "Image and info_dict saved for 6c352b54b391756ad175649b9f40906e_0 in /Volumes/Newsmy/FM_dataset/VinDr-Mammo-finding/Test/6c352b54b391756ad175649b9f40906e_0\n"
     ]
    },
    {
     "name": "stderr",
     "output_type": "stream",
     "text": [
      " 43%|████▎     | 756/1768 [06:52<09:07,  1.85it/s]"
     ]
    },
    {
     "name": "stdout",
     "output_type": "stream",
     "text": [
      "Image and info_dict saved for 6c571a3fb5a3abe21141333f65b5bf09_0 in /Volumes/Newsmy/FM_dataset/VinDr-Mammo-finding/Test/6c571a3fb5a3abe21141333f65b5bf09_0\n"
     ]
    },
    {
     "name": "stderr",
     "output_type": "stream",
     "text": [
      " 43%|████▎     | 757/1768 [06:53<08:36,  1.96it/s]"
     ]
    },
    {
     "name": "stdout",
     "output_type": "stream",
     "text": [
      "Image and info_dict saved for 6c5ba6a34d007bceeccba36666c74ab0_0 in /Volumes/Newsmy/FM_dataset/VinDr-Mammo-finding/Train/6c5ba6a34d007bceeccba36666c74ab0_0\n",
      "Image and info_dict saved for 6c89a90416411eecf56e5ea1fff2a1e2_0 in /Volumes/Newsmy/FM_dataset/VinDr-Mammo-finding/Test/6c89a90416411eecf56e5ea1fff2a1e2_0\n",
      "Image and info_dict saved for 6c89a90416411eecf56e5ea1fff2a1e2_1 in /Volumes/Newsmy/FM_dataset/VinDr-Mammo-finding/Test/6c89a90416411eecf56e5ea1fff2a1e2_1\n"
     ]
    },
    {
     "name": "stderr",
     "output_type": "stream",
     "text": [
      " 43%|████▎     | 758/1768 [06:54<09:35,  1.75it/s]"
     ]
    },
    {
     "name": "stdout",
     "output_type": "stream",
     "text": [
      "Image and info_dict saved for 6c89a90416411eecf56e5ea1fff2a1e2_2 in /Volumes/Newsmy/FM_dataset/VinDr-Mammo-finding/Test/6c89a90416411eecf56e5ea1fff2a1e2_2\n"
     ]
    },
    {
     "name": "stderr",
     "output_type": "stream",
     "text": [
      " 43%|████▎     | 759/1768 [06:54<08:35,  1.96it/s]"
     ]
    },
    {
     "name": "stdout",
     "output_type": "stream",
     "text": [
      "Image and info_dict saved for 6caa0cd509e3656be7e3c0c0cb3b7104_0 in /Volumes/Newsmy/FM_dataset/VinDr-Mammo-finding/Eval/6caa0cd509e3656be7e3c0c0cb3b7104_0\n"
     ]
    },
    {
     "name": "stderr",
     "output_type": "stream",
     "text": [
      " 43%|████▎     | 760/1768 [06:54<08:46,  1.91it/s]"
     ]
    },
    {
     "name": "stdout",
     "output_type": "stream",
     "text": [
      "Image and info_dict saved for 6cab0db67458b7c2bf4afade630adee5_0 in /Volumes/Newsmy/FM_dataset/VinDr-Mammo-finding/Test/6cab0db67458b7c2bf4afade630adee5_0\n"
     ]
    },
    {
     "name": "stderr",
     "output_type": "stream",
     "text": [
      " 43%|████▎     | 761/1768 [06:55<09:13,  1.82it/s]"
     ]
    },
    {
     "name": "stdout",
     "output_type": "stream",
     "text": [
      "Image and info_dict saved for 6d04b0e2eecf3dcfd92ba285c28b5a72_0 in /Volumes/Newsmy/FM_dataset/VinDr-Mammo-finding/Eval/6d04b0e2eecf3dcfd92ba285c28b5a72_0\n",
      "Image and info_dict saved for 6d04b0e2eecf3dcfd92ba285c28b5a72_1 in /Volumes/Newsmy/FM_dataset/VinDr-Mammo-finding/Eval/6d04b0e2eecf3dcfd92ba285c28b5a72_1\n"
     ]
    },
    {
     "name": "stderr",
     "output_type": "stream",
     "text": [
      " 43%|████▎     | 762/1768 [06:56<09:02,  1.86it/s]"
     ]
    },
    {
     "name": "stdout",
     "output_type": "stream",
     "text": [
      "Image and info_dict saved for 6d31d71f628fe19b9be1d7553939fc84_0 in /Volumes/Newsmy/FM_dataset/VinDr-Mammo-finding/Train/6d31d71f628fe19b9be1d7553939fc84_0\n"
     ]
    },
    {
     "name": "stderr",
     "output_type": "stream",
     "text": [
      " 43%|████▎     | 763/1768 [06:56<08:11,  2.04it/s]"
     ]
    },
    {
     "name": "stdout",
     "output_type": "stream",
     "text": [
      "Image and info_dict saved for 6d4b6ffcd0093b59556f16d3c4ab1bd9_0 in /Volumes/Newsmy/FM_dataset/VinDr-Mammo-finding/Train/6d4b6ffcd0093b59556f16d3c4ab1bd9_0\n"
     ]
    },
    {
     "name": "stderr",
     "output_type": "stream",
     "text": [
      " 43%|████▎     | 764/1768 [06:57<08:44,  1.91it/s]"
     ]
    },
    {
     "name": "stdout",
     "output_type": "stream",
     "text": [
      "Image and info_dict saved for 6d6764cdde97f32e78e800e2c2345f61_0 in /Volumes/Newsmy/FM_dataset/VinDr-Mammo-finding/Train/6d6764cdde97f32e78e800e2c2345f61_0\n"
     ]
    },
    {
     "name": "stderr",
     "output_type": "stream",
     "text": [
      " 43%|████▎     | 765/1768 [06:57<09:26,  1.77it/s]"
     ]
    },
    {
     "name": "stdout",
     "output_type": "stream",
     "text": [
      "Image and info_dict saved for 6d9dc7a5dd8bdbe82eceb4424ca04cf5_0 in /Volumes/Newsmy/FM_dataset/VinDr-Mammo-finding/Test/6d9dc7a5dd8bdbe82eceb4424ca04cf5_0\n",
      "Image and info_dict saved for 6d9dc7a5dd8bdbe82eceb4424ca04cf5_1 in /Volumes/Newsmy/FM_dataset/VinDr-Mammo-finding/Test/6d9dc7a5dd8bdbe82eceb4424ca04cf5_1\n"
     ]
    },
    {
     "name": "stderr",
     "output_type": "stream",
     "text": [
      " 43%|████▎     | 766/1768 [06:58<08:56,  1.87it/s]"
     ]
    },
    {
     "name": "stdout",
     "output_type": "stream",
     "text": [
      "Image and info_dict saved for 6db25afb04a1b448503aa037a4b955f4_0 in /Volumes/Newsmy/FM_dataset/VinDr-Mammo-finding/Eval/6db25afb04a1b448503aa037a4b955f4_0\n"
     ]
    },
    {
     "name": "stderr",
     "output_type": "stream",
     "text": [
      " 43%|████▎     | 767/1768 [06:58<08:16,  2.02it/s]"
     ]
    },
    {
     "name": "stdout",
     "output_type": "stream",
     "text": [
      "Image and info_dict saved for 6dc1de654bdbee17a9432df4510a5357_0 in /Volumes/Newsmy/FM_dataset/VinDr-Mammo-finding/Train/6dc1de654bdbee17a9432df4510a5357_0\n"
     ]
    },
    {
     "name": "stderr",
     "output_type": "stream",
     "text": [
      " 43%|████▎     | 768/1768 [06:59<08:08,  2.05it/s]"
     ]
    },
    {
     "name": "stdout",
     "output_type": "stream",
     "text": [
      "Image and info_dict saved for 6dcaebaf5ca9c97b8b8cf23720751ba1_0 in /Volumes/Newsmy/FM_dataset/VinDr-Mammo-finding/Train/6dcaebaf5ca9c97b8b8cf23720751ba1_0\n"
     ]
    },
    {
     "name": "stderr",
     "output_type": "stream",
     "text": [
      " 43%|████▎     | 769/1768 [06:59<09:22,  1.78it/s]"
     ]
    },
    {
     "name": "stdout",
     "output_type": "stream",
     "text": [
      "Image and info_dict saved for 6dd90b7d50185920027c3f00e6e2d3ff_0 in /Volumes/Newsmy/FM_dataset/VinDr-Mammo-finding/Train/6dd90b7d50185920027c3f00e6e2d3ff_0\n"
     ]
    },
    {
     "name": "stderr",
     "output_type": "stream",
     "text": [
      " 44%|████▎     | 770/1768 [07:00<08:42,  1.91it/s]"
     ]
    },
    {
     "name": "stdout",
     "output_type": "stream",
     "text": [
      "Image and info_dict saved for 6e04882c8bf75eb22b55ac02e8242cd0_0 in /Volumes/Newsmy/FM_dataset/VinDr-Mammo-finding/Train/6e04882c8bf75eb22b55ac02e8242cd0_0\n"
     ]
    },
    {
     "name": "stderr",
     "output_type": "stream",
     "text": [
      " 44%|████▎     | 771/1768 [07:00<09:21,  1.78it/s]"
     ]
    },
    {
     "name": "stdout",
     "output_type": "stream",
     "text": [
      "Image and info_dict saved for 6e0cfd8cdae637f4613868dbbc34b453_0 in /Volumes/Newsmy/FM_dataset/VinDr-Mammo-finding/Eval/6e0cfd8cdae637f4613868dbbc34b453_0\n",
      "Image and info_dict saved for 6e0cfd8cdae637f4613868dbbc34b453_1 in /Volumes/Newsmy/FM_dataset/VinDr-Mammo-finding/Eval/6e0cfd8cdae637f4613868dbbc34b453_1\n"
     ]
    },
    {
     "name": "stderr",
     "output_type": "stream",
     "text": [
      " 44%|████▎     | 772/1768 [07:01<09:16,  1.79it/s]"
     ]
    },
    {
     "name": "stdout",
     "output_type": "stream",
     "text": [
      "Image and info_dict saved for 6e1d5fe56641dcdc0822aaad9e0652e6_0 in /Volumes/Newsmy/FM_dataset/VinDr-Mammo-finding/Test/6e1d5fe56641dcdc0822aaad9e0652e6_0\n"
     ]
    },
    {
     "name": "stderr",
     "output_type": "stream",
     "text": [
      " 44%|████▎     | 773/1768 [07:01<08:35,  1.93it/s]"
     ]
    },
    {
     "name": "stdout",
     "output_type": "stream",
     "text": [
      "Image and info_dict saved for 6e4448eaeab5fd0eb114a59553faae7c_0 in /Volumes/Newsmy/FM_dataset/VinDr-Mammo-finding/Test/6e4448eaeab5fd0eb114a59553faae7c_0\n"
     ]
    },
    {
     "name": "stderr",
     "output_type": "stream",
     "text": [
      " 44%|████▍     | 774/1768 [07:02<08:44,  1.90it/s]"
     ]
    },
    {
     "name": "stdout",
     "output_type": "stream",
     "text": [
      "Image and info_dict saved for 6e66c1b763178000c4742194dda4f8ad_0 in /Volumes/Newsmy/FM_dataset/VinDr-Mammo-finding/Train/6e66c1b763178000c4742194dda4f8ad_0\n",
      "Image and info_dict saved for 6e66c1b763178000c4742194dda4f8ad_1 in /Volumes/Newsmy/FM_dataset/VinDr-Mammo-finding/Train/6e66c1b763178000c4742194dda4f8ad_1\n"
     ]
    },
    {
     "name": "stderr",
     "output_type": "stream",
     "text": [
      " 44%|████▍     | 775/1768 [07:02<08:26,  1.96it/s]"
     ]
    },
    {
     "name": "stdout",
     "output_type": "stream",
     "text": [
      "Image and info_dict saved for 6eb9494ffecd8972c597c49749159aca_0 in /Volumes/Newsmy/FM_dataset/VinDr-Mammo-finding/Train/6eb9494ffecd8972c597c49749159aca_0\n"
     ]
    },
    {
     "name": "stderr",
     "output_type": "stream",
     "text": [
      " 44%|████▍     | 776/1768 [07:03<08:20,  1.98it/s]"
     ]
    },
    {
     "name": "stdout",
     "output_type": "stream",
     "text": [
      "Image and info_dict saved for 6ec73d7e74c73265c4f9ed781ccecd71_0 in /Volumes/Newsmy/FM_dataset/VinDr-Mammo-finding/Train/6ec73d7e74c73265c4f9ed781ccecd71_0\n",
      "Image and info_dict saved for 6ec73d7e74c73265c4f9ed781ccecd71_1 in /Volumes/Newsmy/FM_dataset/VinDr-Mammo-finding/Train/6ec73d7e74c73265c4f9ed781ccecd71_1\n"
     ]
    },
    {
     "name": "stderr",
     "output_type": "stream",
     "text": [
      " 44%|████▍     | 777/1768 [07:03<07:23,  2.23it/s]"
     ]
    },
    {
     "name": "stdout",
     "output_type": "stream",
     "text": [
      "Image and info_dict saved for 6f2a72a3ac4d840604ef4ce5ff1aa24d_0 in /Volumes/Newsmy/FM_dataset/VinDr-Mammo-finding/Train/6f2a72a3ac4d840604ef4ce5ff1aa24d_0\n"
     ]
    },
    {
     "name": "stderr",
     "output_type": "stream",
     "text": [
      " 44%|████▍     | 778/1768 [07:04<07:12,  2.29it/s]"
     ]
    },
    {
     "name": "stdout",
     "output_type": "stream",
     "text": [
      "Image and info_dict saved for 6f6c283d16eef33b314e99fcedad3831_0 in /Volumes/Newsmy/FM_dataset/VinDr-Mammo-finding/Test/6f6c283d16eef33b314e99fcedad3831_0\n"
     ]
    },
    {
     "name": "stderr",
     "output_type": "stream",
     "text": [
      " 44%|████▍     | 779/1768 [07:04<08:10,  2.01it/s]"
     ]
    },
    {
     "name": "stdout",
     "output_type": "stream",
     "text": [
      "Image and info_dict saved for 6f858d4db04378848c0f4f4dd9527004_0 in /Volumes/Newsmy/FM_dataset/VinDr-Mammo-finding/Train/6f858d4db04378848c0f4f4dd9527004_0\n",
      "Image and info_dict saved for 6f858d4db04378848c0f4f4dd9527004_1 in /Volumes/Newsmy/FM_dataset/VinDr-Mammo-finding/Train/6f858d4db04378848c0f4f4dd9527004_1\n"
     ]
    },
    {
     "name": "stderr",
     "output_type": "stream",
     "text": [
      " 44%|████▍     | 780/1768 [07:05<08:20,  1.97it/s]"
     ]
    },
    {
     "name": "stdout",
     "output_type": "stream",
     "text": [
      "Image and info_dict saved for 6f8e34d9a3a750468528290d5813eb1a_0 in /Volumes/Newsmy/FM_dataset/VinDr-Mammo-finding/Train/6f8e34d9a3a750468528290d5813eb1a_0\n"
     ]
    },
    {
     "name": "stderr",
     "output_type": "stream",
     "text": [
      " 44%|████▍     | 781/1768 [07:05<08:26,  1.95it/s]"
     ]
    },
    {
     "name": "stdout",
     "output_type": "stream",
     "text": [
      "Image and info_dict saved for 6f9e49fc60bf2191b109b84f136089ef_0 in /Volumes/Newsmy/FM_dataset/VinDr-Mammo-finding/Test/6f9e49fc60bf2191b109b84f136089ef_0\n"
     ]
    },
    {
     "name": "stderr",
     "output_type": "stream",
     "text": [
      " 44%|████▍     | 782/1768 [07:06<07:27,  2.20it/s]"
     ]
    },
    {
     "name": "stdout",
     "output_type": "stream",
     "text": [
      "Image and info_dict saved for 6fa1786279e64980d80a34a88722836c_0 in /Volumes/Newsmy/FM_dataset/VinDr-Mammo-finding/Train/6fa1786279e64980d80a34a88722836c_0\n"
     ]
    },
    {
     "name": "stderr",
     "output_type": "stream",
     "text": [
      " 44%|████▍     | 783/1768 [07:06<07:31,  2.18it/s]"
     ]
    },
    {
     "name": "stdout",
     "output_type": "stream",
     "text": [
      "Image and info_dict saved for 6fce44a9101a0851e8057e2d36339c17_0 in /Volumes/Newsmy/FM_dataset/VinDr-Mammo-finding/Test/6fce44a9101a0851e8057e2d36339c17_0\n"
     ]
    },
    {
     "name": "stderr",
     "output_type": "stream",
     "text": [
      " 44%|████▍     | 784/1768 [07:07<07:30,  2.18it/s]"
     ]
    },
    {
     "name": "stdout",
     "output_type": "stream",
     "text": [
      "Image and info_dict saved for 6ffb4582bf7434518000863d13bf8915_0 in /Volumes/Newsmy/FM_dataset/VinDr-Mammo-finding/Train/6ffb4582bf7434518000863d13bf8915_0\n"
     ]
    },
    {
     "name": "stderr",
     "output_type": "stream",
     "text": [
      " 44%|████▍     | 785/1768 [07:07<09:18,  1.76it/s]"
     ]
    },
    {
     "name": "stdout",
     "output_type": "stream",
     "text": [
      "Image and info_dict saved for 6ffc6c2d163e10db5e43dd845638f6e7_0 in /Volumes/Newsmy/FM_dataset/VinDr-Mammo-finding/Train/6ffc6c2d163e10db5e43dd845638f6e7_0\n"
     ]
    },
    {
     "name": "stderr",
     "output_type": "stream",
     "text": [
      " 44%|████▍     | 786/1768 [07:08<09:31,  1.72it/s]"
     ]
    },
    {
     "name": "stdout",
     "output_type": "stream",
     "text": [
      "Image and info_dict saved for 7007ced529a36ac4b7639b8ab15f3ce0_0 in /Volumes/Newsmy/FM_dataset/VinDr-Mammo-finding/Train/7007ced529a36ac4b7639b8ab15f3ce0_0\n"
     ]
    },
    {
     "name": "stderr",
     "output_type": "stream",
     "text": [
      " 45%|████▍     | 787/1768 [07:08<08:48,  1.86it/s]"
     ]
    },
    {
     "name": "stdout",
     "output_type": "stream",
     "text": [
      "Image and info_dict saved for 7009b2522f79bc2dd81f2a311bce7914_0 in /Volumes/Newsmy/FM_dataset/VinDr-Mammo-finding/Train/7009b2522f79bc2dd81f2a311bce7914_0\n"
     ]
    },
    {
     "name": "stderr",
     "output_type": "stream",
     "text": [
      " 45%|████▍     | 788/1768 [07:09<09:11,  1.78it/s]"
     ]
    },
    {
     "name": "stdout",
     "output_type": "stream",
     "text": [
      "Image and info_dict saved for 700d65782e684be66b823b388366620e_0 in /Volumes/Newsmy/FM_dataset/VinDr-Mammo-finding/Train/700d65782e684be66b823b388366620e_0\n"
     ]
    },
    {
     "name": "stderr",
     "output_type": "stream",
     "text": [
      " 45%|████▍     | 789/1768 [07:10<09:19,  1.75it/s]"
     ]
    },
    {
     "name": "stdout",
     "output_type": "stream",
     "text": [
      "Image and info_dict saved for 703b37d21eca25ae7ca8060178eefb24_0 in /Volumes/Newsmy/FM_dataset/VinDr-Mammo-finding/Train/703b37d21eca25ae7ca8060178eefb24_0\n"
     ]
    },
    {
     "name": "stderr",
     "output_type": "stream",
     "text": [
      " 45%|████▍     | 790/1768 [07:10<09:07,  1.79it/s]"
     ]
    },
    {
     "name": "stdout",
     "output_type": "stream",
     "text": [
      "Image and info_dict saved for 7041e1f08dc535782a076cc92cf8f8a4_0 in /Volumes/Newsmy/FM_dataset/VinDr-Mammo-finding/Train/7041e1f08dc535782a076cc92cf8f8a4_0\n"
     ]
    },
    {
     "name": "stderr",
     "output_type": "stream",
     "text": [
      " 45%|████▍     | 791/1768 [07:11<08:42,  1.87it/s]"
     ]
    },
    {
     "name": "stdout",
     "output_type": "stream",
     "text": [
      "Image and info_dict saved for 70f06b70e997e7aa42fe482e9c970dad_0 in /Volumes/Newsmy/FM_dataset/VinDr-Mammo-finding/Train/70f06b70e997e7aa42fe482e9c970dad_0\n"
     ]
    },
    {
     "name": "stderr",
     "output_type": "stream",
     "text": [
      " 45%|████▍     | 792/1768 [07:11<08:43,  1.87it/s]"
     ]
    },
    {
     "name": "stdout",
     "output_type": "stream",
     "text": [
      "Image and info_dict saved for 7106e773a592248be9617d781c4887b5_0 in /Volumes/Newsmy/FM_dataset/VinDr-Mammo-finding/Train/7106e773a592248be9617d781c4887b5_0\n",
      "Image and info_dict saved for 7106e773a592248be9617d781c4887b5_1 in /Volumes/Newsmy/FM_dataset/VinDr-Mammo-finding/Train/7106e773a592248be9617d781c4887b5_1\n"
     ]
    },
    {
     "name": "stderr",
     "output_type": "stream",
     "text": [
      " 45%|████▍     | 793/1768 [07:12<08:44,  1.86it/s]"
     ]
    },
    {
     "name": "stdout",
     "output_type": "stream",
     "text": [
      "Image and info_dict saved for 711477c4914b858fbb9bd62b9def1b3a_0 in /Volumes/Newsmy/FM_dataset/VinDr-Mammo-finding/Train/711477c4914b858fbb9bd62b9def1b3a_0\n",
      "Image and info_dict saved for 712150b595e1a4e62c2e344efd56af42_0 in /Volumes/Newsmy/FM_dataset/VinDr-Mammo-finding/Train/712150b595e1a4e62c2e344efd56af42_0\n",
      "Image and info_dict saved for 712150b595e1a4e62c2e344efd56af42_1 in /Volumes/Newsmy/FM_dataset/VinDr-Mammo-finding/Train/712150b595e1a4e62c2e344efd56af42_1\n",
      "Image and info_dict saved for 712150b595e1a4e62c2e344efd56af42_2 in /Volumes/Newsmy/FM_dataset/VinDr-Mammo-finding/Train/712150b595e1a4e62c2e344efd56af42_2\n",
      "Image and info_dict saved for 712150b595e1a4e62c2e344efd56af42_3 in /Volumes/Newsmy/FM_dataset/VinDr-Mammo-finding/Train/712150b595e1a4e62c2e344efd56af42_3\n",
      "Image and info_dict saved for 712150b595e1a4e62c2e344efd56af42_4 in /Volumes/Newsmy/FM_dataset/VinDr-Mammo-finding/Train/712150b595e1a4e62c2e344efd56af42_4\n"
     ]
    },
    {
     "name": "stderr",
     "output_type": "stream",
     "text": [
      " 45%|████▍     | 794/1768 [07:13<11:22,  1.43it/s]"
     ]
    },
    {
     "name": "stdout",
     "output_type": "stream",
     "text": [
      "Image and info_dict saved for 712150b595e1a4e62c2e344efd56af42_5 in /Volumes/Newsmy/FM_dataset/VinDr-Mammo-finding/Train/712150b595e1a4e62c2e344efd56af42_5\n"
     ]
    },
    {
     "name": "stderr",
     "output_type": "stream",
     "text": [
      " 45%|████▍     | 795/1768 [07:13<10:16,  1.58it/s]"
     ]
    },
    {
     "name": "stdout",
     "output_type": "stream",
     "text": [
      "Image and info_dict saved for 71e545fdb41229fd7f57ebadb47134fc_0 in /Volumes/Newsmy/FM_dataset/VinDr-Mammo-finding/Train/71e545fdb41229fd7f57ebadb47134fc_0\n"
     ]
    },
    {
     "name": "stderr",
     "output_type": "stream",
     "text": [
      " 45%|████▌     | 796/1768 [07:14<10:02,  1.61it/s]"
     ]
    },
    {
     "name": "stdout",
     "output_type": "stream",
     "text": [
      "Image and info_dict saved for 71e9f15a78cc250cf93865859f7ef372_0 in /Volumes/Newsmy/FM_dataset/VinDr-Mammo-finding/Train/71e9f15a78cc250cf93865859f7ef372_0\n"
     ]
    },
    {
     "name": "stderr",
     "output_type": "stream",
     "text": [
      " 45%|████▌     | 797/1768 [07:14<09:47,  1.65it/s]"
     ]
    },
    {
     "name": "stdout",
     "output_type": "stream",
     "text": [
      "Image and info_dict saved for 71f409771b43f0e47d6a303c0dc28263_0 in /Volumes/Newsmy/FM_dataset/VinDr-Mammo-finding/Eval/71f409771b43f0e47d6a303c0dc28263_0\n"
     ]
    },
    {
     "name": "stderr",
     "output_type": "stream",
     "text": [
      " 45%|████▌     | 798/1768 [07:15<08:58,  1.80it/s]"
     ]
    },
    {
     "name": "stdout",
     "output_type": "stream",
     "text": [
      "Image and info_dict saved for 72423f5fe30fe6377c15d1331761d594_0 in /Volumes/Newsmy/FM_dataset/VinDr-Mammo-finding/Train/72423f5fe30fe6377c15d1331761d594_0\n"
     ]
    },
    {
     "name": "stderr",
     "output_type": "stream",
     "text": [
      " 45%|████▌     | 799/1768 [07:15<09:12,  1.75it/s]"
     ]
    },
    {
     "name": "stdout",
     "output_type": "stream",
     "text": [
      "Image and info_dict saved for 726355704c0328a581f9182fee4d198f_0 in /Volumes/Newsmy/FM_dataset/VinDr-Mammo-finding/Test/726355704c0328a581f9182fee4d198f_0\n",
      "Image and info_dict saved for 726355704c0328a581f9182fee4d198f_1 in /Volumes/Newsmy/FM_dataset/VinDr-Mammo-finding/Test/726355704c0328a581f9182fee4d198f_1\n"
     ]
    },
    {
     "name": "stderr",
     "output_type": "stream",
     "text": [
      " 45%|████▌     | 800/1768 [07:16<09:03,  1.78it/s]"
     ]
    },
    {
     "name": "stdout",
     "output_type": "stream",
     "text": [
      "Image and info_dict saved for 726e579eb8982c5fb3c120039a64fe01_0 in /Volumes/Newsmy/FM_dataset/VinDr-Mammo-finding/Train/726e579eb8982c5fb3c120039a64fe01_0\n"
     ]
    },
    {
     "name": "stderr",
     "output_type": "stream",
     "text": [
      " 45%|████▌     | 801/1768 [07:16<08:17,  1.94it/s]"
     ]
    },
    {
     "name": "stdout",
     "output_type": "stream",
     "text": [
      "Image and info_dict saved for 72711c5c352ad731d4f832d693af1e8d_0 in /Volumes/Newsmy/FM_dataset/VinDr-Mammo-finding/Train/72711c5c352ad731d4f832d693af1e8d_0\n"
     ]
    },
    {
     "name": "stderr",
     "output_type": "stream",
     "text": [
      " 45%|████▌     | 802/1768 [07:17<08:01,  2.01it/s]"
     ]
    },
    {
     "name": "stdout",
     "output_type": "stream",
     "text": [
      "Image and info_dict saved for 729fae337639d825ca83e563c6efedc6_0 in /Volumes/Newsmy/FM_dataset/VinDr-Mammo-finding/Train/729fae337639d825ca83e563c6efedc6_0\n"
     ]
    },
    {
     "name": "stderr",
     "output_type": "stream",
     "text": [
      " 45%|████▌     | 803/1768 [07:17<08:19,  1.93it/s]"
     ]
    },
    {
     "name": "stdout",
     "output_type": "stream",
     "text": [
      "Image and info_dict saved for 72b7dfd519a57a683f740df8cde06ece_0 in /Volumes/Newsmy/FM_dataset/VinDr-Mammo-finding/Train/72b7dfd519a57a683f740df8cde06ece_0\n"
     ]
    },
    {
     "name": "stderr",
     "output_type": "stream",
     "text": [
      " 45%|████▌     | 804/1768 [07:18<07:48,  2.06it/s]"
     ]
    },
    {
     "name": "stdout",
     "output_type": "stream",
     "text": [
      "Image and info_dict saved for 72eb142a93824b699fa99fc265ea158a_0 in /Volumes/Newsmy/FM_dataset/VinDr-Mammo-finding/Train/72eb142a93824b699fa99fc265ea158a_0\n"
     ]
    },
    {
     "name": "stderr",
     "output_type": "stream",
     "text": [
      " 46%|████▌     | 805/1768 [07:18<07:06,  2.26it/s]"
     ]
    },
    {
     "name": "stdout",
     "output_type": "stream",
     "text": [
      "Image and info_dict saved for 7323314998471cde47c6fba70ae6d32c_0 in /Volumes/Newsmy/FM_dataset/VinDr-Mammo-finding/Train/7323314998471cde47c6fba70ae6d32c_0\n",
      "Image and info_dict saved for 733a9b17716849f4fac702227c0414fa_0 in /Volumes/Newsmy/FM_dataset/VinDr-Mammo-finding/Eval/733a9b17716849f4fac702227c0414fa_0\n",
      "Image and info_dict saved for 733a9b17716849f4fac702227c0414fa_1 in /Volumes/Newsmy/FM_dataset/VinDr-Mammo-finding/Eval/733a9b17716849f4fac702227c0414fa_1\n",
      "Image and info_dict saved for 733a9b17716849f4fac702227c0414fa_2 in /Volumes/Newsmy/FM_dataset/VinDr-Mammo-finding/Eval/733a9b17716849f4fac702227c0414fa_2\n",
      "Image and info_dict saved for 733a9b17716849f4fac702227c0414fa_3 in /Volumes/Newsmy/FM_dataset/VinDr-Mammo-finding/Eval/733a9b17716849f4fac702227c0414fa_3\n"
     ]
    },
    {
     "name": "stderr",
     "output_type": "stream",
     "text": [
      " 46%|████▌     | 806/1768 [07:19<09:06,  1.76it/s]"
     ]
    },
    {
     "name": "stdout",
     "output_type": "stream",
     "text": [
      "Image and info_dict saved for 733a9b17716849f4fac702227c0414fa_4 in /Volumes/Newsmy/FM_dataset/VinDr-Mammo-finding/Eval/733a9b17716849f4fac702227c0414fa_4\n"
     ]
    },
    {
     "name": "stderr",
     "output_type": "stream",
     "text": [
      " 46%|████▌     | 807/1768 [07:20<08:50,  1.81it/s]"
     ]
    },
    {
     "name": "stdout",
     "output_type": "stream",
     "text": [
      "Image and info_dict saved for 7383cbe8290fe3623721f13673016137_0 in /Volumes/Newsmy/FM_dataset/VinDr-Mammo-finding/Test/7383cbe8290fe3623721f13673016137_0\n"
     ]
    },
    {
     "name": "stderr",
     "output_type": "stream",
     "text": [
      " 46%|████▌     | 808/1768 [07:20<08:48,  1.82it/s]"
     ]
    },
    {
     "name": "stdout",
     "output_type": "stream",
     "text": [
      "Image and info_dict saved for 7385e8cf7b29764525c81de4aa1aebe4_0 in /Volumes/Newsmy/FM_dataset/VinDr-Mammo-finding/Test/7385e8cf7b29764525c81de4aa1aebe4_0\n"
     ]
    },
    {
     "name": "stderr",
     "output_type": "stream",
     "text": [
      " 46%|████▌     | 809/1768 [07:21<08:24,  1.90it/s]"
     ]
    },
    {
     "name": "stdout",
     "output_type": "stream",
     "text": [
      "Image and info_dict saved for 73903959dfe4f3c40cb6f0365945099a_0 in /Volumes/Newsmy/FM_dataset/VinDr-Mammo-finding/Test/73903959dfe4f3c40cb6f0365945099a_0\n"
     ]
    },
    {
     "name": "stderr",
     "output_type": "stream",
     "text": [
      " 46%|████▌     | 810/1768 [07:21<07:52,  2.03it/s]"
     ]
    },
    {
     "name": "stdout",
     "output_type": "stream",
     "text": [
      "Image and info_dict saved for 73d20cbf87ec2637a3de9d950ad809b2_0 in /Volumes/Newsmy/FM_dataset/VinDr-Mammo-finding/Test/73d20cbf87ec2637a3de9d950ad809b2_0\n"
     ]
    },
    {
     "name": "stderr",
     "output_type": "stream",
     "text": [
      " 46%|████▌     | 811/1768 [07:22<11:15,  1.42it/s]"
     ]
    },
    {
     "name": "stdout",
     "output_type": "stream",
     "text": [
      "Image and info_dict saved for 73d9a9cb6d8d2685271440b9bd0bfc4b_0 in /Volumes/Newsmy/FM_dataset/VinDr-Mammo-finding/Train/73d9a9cb6d8d2685271440b9bd0bfc4b_0\n"
     ]
    },
    {
     "name": "stderr",
     "output_type": "stream",
     "text": [
      " 46%|████▌     | 812/1768 [07:23<11:22,  1.40it/s]"
     ]
    },
    {
     "name": "stdout",
     "output_type": "stream",
     "text": [
      "Image and info_dict saved for 73dcab1172639ae173f533e072daf2a4_0 in /Volumes/Newsmy/FM_dataset/VinDr-Mammo-finding/Train/73dcab1172639ae173f533e072daf2a4_0\n"
     ]
    },
    {
     "name": "stderr",
     "output_type": "stream",
     "text": [
      " 46%|████▌     | 813/1768 [07:23<10:30,  1.51it/s]"
     ]
    },
    {
     "name": "stdout",
     "output_type": "stream",
     "text": [
      "Image and info_dict saved for 73ed34f1fd373ef738250816bc26a862_0 in /Volumes/Newsmy/FM_dataset/VinDr-Mammo-finding/Train/73ed34f1fd373ef738250816bc26a862_0\n"
     ]
    },
    {
     "name": "stderr",
     "output_type": "stream",
     "text": [
      " 46%|████▌     | 814/1768 [07:24<10:24,  1.53it/s]"
     ]
    },
    {
     "name": "stdout",
     "output_type": "stream",
     "text": [
      "Image and info_dict saved for 74918520f3030207504cf520ab63c9a9_0 in /Volumes/Newsmy/FM_dataset/VinDr-Mammo-finding/Test/74918520f3030207504cf520ab63c9a9_0\n"
     ]
    },
    {
     "name": "stderr",
     "output_type": "stream",
     "text": [
      " 46%|████▌     | 815/1768 [07:25<10:14,  1.55it/s]"
     ]
    },
    {
     "name": "stdout",
     "output_type": "stream",
     "text": [
      "Image and info_dict saved for 75065fad738a275c9c27526ea71a14b9_0 in /Volumes/Newsmy/FM_dataset/VinDr-Mammo-finding/Train/75065fad738a275c9c27526ea71a14b9_0\n"
     ]
    },
    {
     "name": "stderr",
     "output_type": "stream",
     "text": [
      " 46%|████▌     | 816/1768 [07:25<09:38,  1.65it/s]"
     ]
    },
    {
     "name": "stdout",
     "output_type": "stream",
     "text": [
      "Image and info_dict saved for 7544cdb93b56593403252ce11ec63493_0 in /Volumes/Newsmy/FM_dataset/VinDr-Mammo-finding/Train/7544cdb93b56593403252ce11ec63493_0\n"
     ]
    },
    {
     "name": "stderr",
     "output_type": "stream",
     "text": [
      " 46%|████▌     | 817/1768 [07:26<08:44,  1.81it/s]"
     ]
    },
    {
     "name": "stdout",
     "output_type": "stream",
     "text": [
      "Image and info_dict saved for 757c82a6a8d56f3f5d9308c967a0d6e2_0 in /Volumes/Newsmy/FM_dataset/VinDr-Mammo-finding/Test/757c82a6a8d56f3f5d9308c967a0d6e2_0\n"
     ]
    },
    {
     "name": "stderr",
     "output_type": "stream",
     "text": [
      " 46%|████▋     | 818/1768 [07:26<09:25,  1.68it/s]"
     ]
    },
    {
     "name": "stdout",
     "output_type": "stream",
     "text": [
      "Image and info_dict saved for 758800aab197eb56a28eed6849250800_0 in /Volumes/Newsmy/FM_dataset/VinDr-Mammo-finding/Test/758800aab197eb56a28eed6849250800_0\n",
      "Image and info_dict saved for 758800aab197eb56a28eed6849250800_1 in /Volumes/Newsmy/FM_dataset/VinDr-Mammo-finding/Test/758800aab197eb56a28eed6849250800_1\n"
     ]
    },
    {
     "name": "stderr",
     "output_type": "stream",
     "text": [
      " 46%|████▋     | 819/1768 [07:27<09:04,  1.74it/s]"
     ]
    },
    {
     "name": "stdout",
     "output_type": "stream",
     "text": [
      "Image and info_dict saved for 758f244ee63b11692fa627ce500852b9_0 in /Volumes/Newsmy/FM_dataset/VinDr-Mammo-finding/Test/758f244ee63b11692fa627ce500852b9_0\n"
     ]
    },
    {
     "name": "stderr",
     "output_type": "stream",
     "text": [
      " 46%|████▋     | 820/1768 [07:28<09:37,  1.64it/s]"
     ]
    },
    {
     "name": "stdout",
     "output_type": "stream",
     "text": [
      "Image and info_dict saved for 75dca2f372e9a594e1798edd09c44bf9_0 in /Volumes/Newsmy/FM_dataset/VinDr-Mammo-finding/Test/75dca2f372e9a594e1798edd09c44bf9_0\n"
     ]
    },
    {
     "name": "stderr",
     "output_type": "stream",
     "text": [
      " 46%|████▋     | 821/1768 [07:28<08:58,  1.76it/s]"
     ]
    },
    {
     "name": "stdout",
     "output_type": "stream",
     "text": [
      "Image and info_dict saved for 75dfd2697f4c53ff02f66d537144e1e3_0 in /Volumes/Newsmy/FM_dataset/VinDr-Mammo-finding/Eval/75dfd2697f4c53ff02f66d537144e1e3_0\n"
     ]
    },
    {
     "name": "stderr",
     "output_type": "stream",
     "text": [
      " 46%|████▋     | 822/1768 [07:28<08:19,  1.90it/s]"
     ]
    },
    {
     "name": "stdout",
     "output_type": "stream",
     "text": [
      "Image and info_dict saved for 75f0f091a9dc057a428db5761eff3475_0 in /Volumes/Newsmy/FM_dataset/VinDr-Mammo-finding/Train/75f0f091a9dc057a428db5761eff3475_0\n"
     ]
    },
    {
     "name": "stderr",
     "output_type": "stream",
     "text": [
      " 47%|████▋     | 823/1768 [07:29<08:10,  1.93it/s]"
     ]
    },
    {
     "name": "stdout",
     "output_type": "stream",
     "text": [
      "Image and info_dict saved for 7608ec044f4025c5686414b85a1dc91b_0 in /Volumes/Newsmy/FM_dataset/VinDr-Mammo-finding/Train/7608ec044f4025c5686414b85a1dc91b_0\n"
     ]
    },
    {
     "name": "stderr",
     "output_type": "stream",
     "text": [
      " 47%|████▋     | 824/1768 [07:29<08:03,  1.95it/s]"
     ]
    },
    {
     "name": "stdout",
     "output_type": "stream",
     "text": [
      "Image and info_dict saved for 7611f0ce13bdb27a47d820d24481808c_0 in /Volumes/Newsmy/FM_dataset/VinDr-Mammo-finding/Train/7611f0ce13bdb27a47d820d24481808c_0\n"
     ]
    },
    {
     "name": "stderr",
     "output_type": "stream",
     "text": [
      " 47%|████▋     | 825/1768 [07:30<07:34,  2.07it/s]"
     ]
    },
    {
     "name": "stdout",
     "output_type": "stream",
     "text": [
      "Image and info_dict saved for 76535d460a21a41e1bda86f0d6742111_0 in /Volumes/Newsmy/FM_dataset/VinDr-Mammo-finding/Test/76535d460a21a41e1bda86f0d6742111_0\n"
     ]
    },
    {
     "name": "stderr",
     "output_type": "stream",
     "text": [
      " 47%|████▋     | 826/1768 [07:30<08:07,  1.93it/s]"
     ]
    },
    {
     "name": "stdout",
     "output_type": "stream",
     "text": [
      "Image and info_dict saved for 767f72e2635ddf53b940ade1732aba03_0 in /Volumes/Newsmy/FM_dataset/VinDr-Mammo-finding/Train/767f72e2635ddf53b940ade1732aba03_0\n",
      "Image and info_dict saved for 767f72e2635ddf53b940ade1732aba03_1 in /Volumes/Newsmy/FM_dataset/VinDr-Mammo-finding/Train/767f72e2635ddf53b940ade1732aba03_1\n"
     ]
    },
    {
     "name": "stderr",
     "output_type": "stream",
     "text": [
      " 47%|████▋     | 827/1768 [07:31<08:12,  1.91it/s]"
     ]
    },
    {
     "name": "stdout",
     "output_type": "stream",
     "text": [
      "Image and info_dict saved for 76a00a3b38f9db17333f89eb66db5ea6_0 in /Volumes/Newsmy/FM_dataset/VinDr-Mammo-finding/Eval/76a00a3b38f9db17333f89eb66db5ea6_0\n",
      "Image and info_dict saved for 76b909c5601fe92762a1d85395a9c54b_0 in /Volumes/Newsmy/FM_dataset/VinDr-Mammo-finding/Train/76b909c5601fe92762a1d85395a9c54b_0\n",
      "Image and info_dict saved for 76b909c5601fe92762a1d85395a9c54b_1 in /Volumes/Newsmy/FM_dataset/VinDr-Mammo-finding/Train/76b909c5601fe92762a1d85395a9c54b_1\n"
     ]
    },
    {
     "name": "stderr",
     "output_type": "stream",
     "text": [
      " 47%|████▋     | 828/1768 [07:32<09:47,  1.60it/s]"
     ]
    },
    {
     "name": "stdout",
     "output_type": "stream",
     "text": [
      "Image and info_dict saved for 76b909c5601fe92762a1d85395a9c54b_2 in /Volumes/Newsmy/FM_dataset/VinDr-Mammo-finding/Train/76b909c5601fe92762a1d85395a9c54b_2\n",
      "Image and info_dict saved for 76b909c5601fe92762a1d85395a9c54b_3 in /Volumes/Newsmy/FM_dataset/VinDr-Mammo-finding/Train/76b909c5601fe92762a1d85395a9c54b_3\n",
      "Image and info_dict saved for 76b909c5601fe92762a1d85395a9c54b_4 in /Volumes/Newsmy/FM_dataset/VinDr-Mammo-finding/Train/76b909c5601fe92762a1d85395a9c54b_4\n"
     ]
    },
    {
     "name": "stderr",
     "output_type": "stream",
     "text": [
      " 47%|████▋     | 829/1768 [07:32<09:14,  1.69it/s]"
     ]
    },
    {
     "name": "stdout",
     "output_type": "stream",
     "text": [
      "Image and info_dict saved for 76ba1ecb6e84a2bcb9cad67dbd21f9e4_0 in /Volumes/Newsmy/FM_dataset/VinDr-Mammo-finding/Eval/76ba1ecb6e84a2bcb9cad67dbd21f9e4_0\n"
     ]
    },
    {
     "name": "stderr",
     "output_type": "stream",
     "text": [
      " 47%|████▋     | 830/1768 [07:33<08:52,  1.76it/s]"
     ]
    },
    {
     "name": "stdout",
     "output_type": "stream",
     "text": [
      "Image and info_dict saved for 76bfc1fd58e796dc262d8980ef37c1f0_0 in /Volumes/Newsmy/FM_dataset/VinDr-Mammo-finding/Train/76bfc1fd58e796dc262d8980ef37c1f0_0\n"
     ]
    },
    {
     "name": "stderr",
     "output_type": "stream",
     "text": [
      " 47%|████▋     | 831/1768 [07:33<08:04,  1.93it/s]"
     ]
    },
    {
     "name": "stdout",
     "output_type": "stream",
     "text": [
      "Image and info_dict saved for 7707710e30c68433968b95e580cdc997_0 in /Volumes/Newsmy/FM_dataset/VinDr-Mammo-finding/Train/7707710e30c68433968b95e580cdc997_0\n"
     ]
    },
    {
     "name": "stderr",
     "output_type": "stream",
     "text": [
      " 47%|████▋     | 832/1768 [07:34<07:28,  2.09it/s]"
     ]
    },
    {
     "name": "stdout",
     "output_type": "stream",
     "text": [
      "Image and info_dict saved for 772b9020d30819192252cc989172239d_0 in /Volumes/Newsmy/FM_dataset/VinDr-Mammo-finding/Train/772b9020d30819192252cc989172239d_0\n"
     ]
    },
    {
     "name": "stderr",
     "output_type": "stream",
     "text": [
      " 47%|████▋     | 833/1768 [07:34<08:26,  1.85it/s]"
     ]
    },
    {
     "name": "stdout",
     "output_type": "stream",
     "text": [
      "Image and info_dict saved for 77d49b4e04e521557c0e6281932d5151_0 in /Volumes/Newsmy/FM_dataset/VinDr-Mammo-finding/Test/77d49b4e04e521557c0e6281932d5151_0\n"
     ]
    },
    {
     "name": "stderr",
     "output_type": "stream",
     "text": [
      " 47%|████▋     | 834/1768 [07:35<08:30,  1.83it/s]"
     ]
    },
    {
     "name": "stdout",
     "output_type": "stream",
     "text": [
      "Image and info_dict saved for 77f31b96295aff83e7a21df366da19b1_0 in /Volumes/Newsmy/FM_dataset/VinDr-Mammo-finding/Train/77f31b96295aff83e7a21df366da19b1_0\n"
     ]
    },
    {
     "name": "stderr",
     "output_type": "stream",
     "text": [
      " 47%|████▋     | 835/1768 [07:35<07:59,  1.95it/s]"
     ]
    },
    {
     "name": "stdout",
     "output_type": "stream",
     "text": [
      "Image and info_dict saved for 77f6c807dcdbd4f5b9305219fa5d9779_0 in /Volumes/Newsmy/FM_dataset/VinDr-Mammo-finding/Test/77f6c807dcdbd4f5b9305219fa5d9779_0\n"
     ]
    },
    {
     "name": "stderr",
     "output_type": "stream",
     "text": [
      " 47%|████▋     | 836/1768 [07:36<07:47,  1.99it/s]"
     ]
    },
    {
     "name": "stdout",
     "output_type": "stream",
     "text": [
      "Image and info_dict saved for 7814ef105bbc93199c8e2577a3205990_0 in /Volumes/Newsmy/FM_dataset/VinDr-Mammo-finding/Train/7814ef105bbc93199c8e2577a3205990_0\n"
     ]
    },
    {
     "name": "stderr",
     "output_type": "stream",
     "text": [
      " 47%|████▋     | 837/1768 [07:36<07:49,  1.98it/s]"
     ]
    },
    {
     "name": "stdout",
     "output_type": "stream",
     "text": [
      "Image and info_dict saved for 78451d4b68941dc6805bb6ed08f86412_0 in /Volumes/Newsmy/FM_dataset/VinDr-Mammo-finding/Train/78451d4b68941dc6805bb6ed08f86412_0\n"
     ]
    },
    {
     "name": "stderr",
     "output_type": "stream",
     "text": [
      " 47%|████▋     | 838/1768 [07:37<07:51,  1.97it/s]"
     ]
    },
    {
     "name": "stdout",
     "output_type": "stream",
     "text": [
      "Image and info_dict saved for 78d595322f9fa3f059f6fd6d90222adc_0 in /Volumes/Newsmy/FM_dataset/VinDr-Mammo-finding/Train/78d595322f9fa3f059f6fd6d90222adc_0\n"
     ]
    },
    {
     "name": "stderr",
     "output_type": "stream",
     "text": [
      " 47%|████▋     | 839/1768 [07:37<07:47,  1.99it/s]"
     ]
    },
    {
     "name": "stdout",
     "output_type": "stream",
     "text": [
      "Image and info_dict saved for 79109e3f4882534cc64d7cad55dfa76f_0 in /Volumes/Newsmy/FM_dataset/VinDr-Mammo-finding/Test/79109e3f4882534cc64d7cad55dfa76f_0\n"
     ]
    },
    {
     "name": "stderr",
     "output_type": "stream",
     "text": [
      " 48%|████▊     | 840/1768 [07:38<07:27,  2.07it/s]"
     ]
    },
    {
     "name": "stdout",
     "output_type": "stream",
     "text": [
      "Image and info_dict saved for 792ab47acb4f894e9607a4ac17cbc140_0 in /Volumes/Newsmy/FM_dataset/VinDr-Mammo-finding/Train/792ab47acb4f894e9607a4ac17cbc140_0\n"
     ]
    },
    {
     "name": "stderr",
     "output_type": "stream",
     "text": [
      " 48%|████▊     | 841/1768 [07:38<07:31,  2.05it/s]"
     ]
    },
    {
     "name": "stdout",
     "output_type": "stream",
     "text": [
      "Image and info_dict saved for 797db63f4b3f835684ac457ad3b99d26_0 in /Volumes/Newsmy/FM_dataset/VinDr-Mammo-finding/Train/797db63f4b3f835684ac457ad3b99d26_0\n"
     ]
    },
    {
     "name": "stderr",
     "output_type": "stream",
     "text": [
      " 48%|████▊     | 842/1768 [07:39<07:27,  2.07it/s]"
     ]
    },
    {
     "name": "stdout",
     "output_type": "stream",
     "text": [
      "Image and info_dict saved for 79f3e6085cc22c8e5ec197edf9365aac_0 in /Volumes/Newsmy/FM_dataset/VinDr-Mammo-finding/Train/79f3e6085cc22c8e5ec197edf9365aac_0\n"
     ]
    },
    {
     "name": "stderr",
     "output_type": "stream",
     "text": [
      " 48%|████▊     | 843/1768 [07:39<07:11,  2.14it/s]"
     ]
    },
    {
     "name": "stdout",
     "output_type": "stream",
     "text": [
      "Image and info_dict saved for 7a104d6589701c732ddf0c0a22ed68d2_0 in /Volumes/Newsmy/FM_dataset/VinDr-Mammo-finding/Train/7a104d6589701c732ddf0c0a22ed68d2_0\n"
     ]
    },
    {
     "name": "stderr",
     "output_type": "stream",
     "text": [
      " 48%|████▊     | 844/1768 [07:40<07:23,  2.09it/s]"
     ]
    },
    {
     "name": "stdout",
     "output_type": "stream",
     "text": [
      "Image and info_dict saved for 7a1975db6fbc004152dcf2e34c03f2fb_0 in /Volumes/Newsmy/FM_dataset/VinDr-Mammo-finding/Test/7a1975db6fbc004152dcf2e34c03f2fb_0\n"
     ]
    },
    {
     "name": "stderr",
     "output_type": "stream",
     "text": [
      " 48%|████▊     | 845/1768 [07:40<07:51,  1.96it/s]"
     ]
    },
    {
     "name": "stdout",
     "output_type": "stream",
     "text": [
      "Image and info_dict saved for 7a53b6689ed19c4006227e46b158906f_0 in /Volumes/Newsmy/FM_dataset/VinDr-Mammo-finding/Test/7a53b6689ed19c4006227e46b158906f_0\n",
      "Image and info_dict saved for 7a53b6689ed19c4006227e46b158906f_1 in /Volumes/Newsmy/FM_dataset/VinDr-Mammo-finding/Test/7a53b6689ed19c4006227e46b158906f_1\n"
     ]
    },
    {
     "name": "stderr",
     "output_type": "stream",
     "text": [
      " 48%|████▊     | 846/1768 [07:41<08:21,  1.84it/s]"
     ]
    },
    {
     "name": "stdout",
     "output_type": "stream",
     "text": [
      "Image and info_dict saved for 7a6c57ce6034053ca02a8cd32549db7f_0 in /Volumes/Newsmy/FM_dataset/VinDr-Mammo-finding/Train/7a6c57ce6034053ca02a8cd32549db7f_0\n",
      "Image and info_dict saved for 7a6c57ce6034053ca02a8cd32549db7f_1 in /Volumes/Newsmy/FM_dataset/VinDr-Mammo-finding/Train/7a6c57ce6034053ca02a8cd32549db7f_1\n"
     ]
    },
    {
     "name": "stderr",
     "output_type": "stream",
     "text": [
      " 48%|████▊     | 847/1768 [07:41<07:48,  1.96it/s]"
     ]
    },
    {
     "name": "stdout",
     "output_type": "stream",
     "text": [
      "Image and info_dict saved for 7adeb584564fc161d897a3fc719acd17_0 in /Volumes/Newsmy/FM_dataset/VinDr-Mammo-finding/Train/7adeb584564fc161d897a3fc719acd17_0\n"
     ]
    },
    {
     "name": "stderr",
     "output_type": "stream",
     "text": [
      " 48%|████▊     | 848/1768 [07:42<07:54,  1.94it/s]"
     ]
    },
    {
     "name": "stdout",
     "output_type": "stream",
     "text": [
      "Image and info_dict saved for 7b7170cd740e313e1393d49c2650d211_0 in /Volumes/Newsmy/FM_dataset/VinDr-Mammo-finding/Train/7b7170cd740e313e1393d49c2650d211_0\n",
      "Image and info_dict saved for 7be2e5f9ade68ae2bfe4e5edb4968654_0 in /Volumes/Newsmy/FM_dataset/VinDr-Mammo-finding/Train/7be2e5f9ade68ae2bfe4e5edb4968654_0\n",
      "Image and info_dict saved for 7be2e5f9ade68ae2bfe4e5edb4968654_1 in /Volumes/Newsmy/FM_dataset/VinDr-Mammo-finding/Train/7be2e5f9ade68ae2bfe4e5edb4968654_1\n"
     ]
    },
    {
     "name": "stderr",
     "output_type": "stream",
     "text": [
      " 48%|████▊     | 849/1768 [07:43<08:56,  1.71it/s]"
     ]
    },
    {
     "name": "stdout",
     "output_type": "stream",
     "text": [
      "Image and info_dict saved for 7be2e5f9ade68ae2bfe4e5edb4968654_2 in /Volumes/Newsmy/FM_dataset/VinDr-Mammo-finding/Train/7be2e5f9ade68ae2bfe4e5edb4968654_2\n",
      "Image and info_dict saved for 7be2e5f9ade68ae2bfe4e5edb4968654_3 in /Volumes/Newsmy/FM_dataset/VinDr-Mammo-finding/Train/7be2e5f9ade68ae2bfe4e5edb4968654_3\n"
     ]
    },
    {
     "name": "stderr",
     "output_type": "stream",
     "text": [
      " 48%|████▊     | 850/1768 [07:43<09:00,  1.70it/s]"
     ]
    },
    {
     "name": "stdout",
     "output_type": "stream",
     "text": [
      "Image and info_dict saved for 7bee6a6a6877762b7a40dcd9878f0e85_0 in /Volumes/Newsmy/FM_dataset/VinDr-Mammo-finding/Train/7bee6a6a6877762b7a40dcd9878f0e85_0\n"
     ]
    },
    {
     "name": "stderr",
     "output_type": "stream",
     "text": [
      " 48%|████▊     | 851/1768 [07:44<09:53,  1.54it/s]"
     ]
    },
    {
     "name": "stdout",
     "output_type": "stream",
     "text": [
      "Image and info_dict saved for 7bf1fc95f64f19ef9a171a38e6642aa1_0 in /Volumes/Newsmy/FM_dataset/VinDr-Mammo-finding/Train/7bf1fc95f64f19ef9a171a38e6642aa1_0\n",
      "Image and info_dict saved for 7bf1fc95f64f19ef9a171a38e6642aa1_1 in /Volumes/Newsmy/FM_dataset/VinDr-Mammo-finding/Train/7bf1fc95f64f19ef9a171a38e6642aa1_1\n"
     ]
    },
    {
     "name": "stderr",
     "output_type": "stream",
     "text": [
      " 48%|████▊     | 852/1768 [07:45<09:57,  1.53it/s]"
     ]
    },
    {
     "name": "stdout",
     "output_type": "stream",
     "text": [
      "Image and info_dict saved for 7c0aad3e72c7253321cb4986137f3f20_0 in /Volumes/Newsmy/FM_dataset/VinDr-Mammo-finding/Train/7c0aad3e72c7253321cb4986137f3f20_0\n",
      "Image and info_dict saved for 7c0aad3e72c7253321cb4986137f3f20_1 in /Volumes/Newsmy/FM_dataset/VinDr-Mammo-finding/Train/7c0aad3e72c7253321cb4986137f3f20_1\n"
     ]
    },
    {
     "name": "stderr",
     "output_type": "stream",
     "text": [
      " 48%|████▊     | 853/1768 [07:45<09:04,  1.68it/s]"
     ]
    },
    {
     "name": "stdout",
     "output_type": "stream",
     "text": [
      "Image and info_dict saved for 7c4891b5d07df8817a24947c8ef613ce_0 in /Volumes/Newsmy/FM_dataset/VinDr-Mammo-finding/Train/7c4891b5d07df8817a24947c8ef613ce_0\n",
      "Image and info_dict saved for 7c4891b5d07df8817a24947c8ef613ce_1 in /Volumes/Newsmy/FM_dataset/VinDr-Mammo-finding/Train/7c4891b5d07df8817a24947c8ef613ce_1\n"
     ]
    },
    {
     "name": "stderr",
     "output_type": "stream",
     "text": [
      " 48%|████▊     | 854/1768 [07:46<09:15,  1.65it/s]"
     ]
    },
    {
     "name": "stdout",
     "output_type": "stream",
     "text": [
      "Image and info_dict saved for 7cbfcf34be7198528dde3e9d159df4a0_0 in /Volumes/Newsmy/FM_dataset/VinDr-Mammo-finding/Train/7cbfcf34be7198528dde3e9d159df4a0_0\n",
      "Image and info_dict saved for 7cbfcf34be7198528dde3e9d159df4a0_1 in /Volumes/Newsmy/FM_dataset/VinDr-Mammo-finding/Train/7cbfcf34be7198528dde3e9d159df4a0_1\n"
     ]
    },
    {
     "name": "stderr",
     "output_type": "stream",
     "text": [
      " 48%|████▊     | 855/1768 [07:46<08:01,  1.90it/s]"
     ]
    },
    {
     "name": "stdout",
     "output_type": "stream",
     "text": [
      "Image and info_dict saved for 7ce6d14b8b32e11881fc1ce635f205dd_0 in /Volumes/Newsmy/FM_dataset/VinDr-Mammo-finding/Train/7ce6d14b8b32e11881fc1ce635f205dd_0\n"
     ]
    },
    {
     "name": "stderr",
     "output_type": "stream",
     "text": [
      " 48%|████▊     | 856/1768 [07:46<07:04,  2.15it/s]"
     ]
    },
    {
     "name": "stdout",
     "output_type": "stream",
     "text": [
      "Image and info_dict saved for 7ceb1b109f832eafc2b8b765f32997e5_0 in /Volumes/Newsmy/FM_dataset/VinDr-Mammo-finding/Test/7ceb1b109f832eafc2b8b765f32997e5_0\n"
     ]
    },
    {
     "name": "stderr",
     "output_type": "stream",
     "text": [
      " 48%|████▊     | 857/1768 [07:47<07:20,  2.07it/s]"
     ]
    },
    {
     "name": "stdout",
     "output_type": "stream",
     "text": [
      "Image and info_dict saved for 7d0b427e2b5e194df200885b9008a9fb_0 in /Volumes/Newsmy/FM_dataset/VinDr-Mammo-finding/Train/7d0b427e2b5e194df200885b9008a9fb_0\n"
     ]
    },
    {
     "name": "stderr",
     "output_type": "stream",
     "text": [
      " 49%|████▊     | 858/1768 [07:47<07:27,  2.03it/s]"
     ]
    },
    {
     "name": "stdout",
     "output_type": "stream",
     "text": [
      "Image and info_dict saved for 7d13a9b1bc20e17abe19fcee64e52070_0 in /Volumes/Newsmy/FM_dataset/VinDr-Mammo-finding/Test/7d13a9b1bc20e17abe19fcee64e52070_0\n"
     ]
    },
    {
     "name": "stderr",
     "output_type": "stream",
     "text": [
      " 49%|████▊     | 859/1768 [07:48<07:31,  2.02it/s]"
     ]
    },
    {
     "name": "stdout",
     "output_type": "stream",
     "text": [
      "Image and info_dict saved for 7d1ef16add2078608b529209d9d34299_0 in /Volumes/Newsmy/FM_dataset/VinDr-Mammo-finding/Eval/7d1ef16add2078608b529209d9d34299_0\n"
     ]
    },
    {
     "name": "stderr",
     "output_type": "stream",
     "text": [
      " 49%|████▊     | 860/1768 [07:48<07:07,  2.12it/s]"
     ]
    },
    {
     "name": "stdout",
     "output_type": "stream",
     "text": [
      "Image and info_dict saved for 7d642cca9647103a993d4b3f9e6be393_0 in /Volumes/Newsmy/FM_dataset/VinDr-Mammo-finding/Test/7d642cca9647103a993d4b3f9e6be393_0\n"
     ]
    },
    {
     "name": "stderr",
     "output_type": "stream",
     "text": [
      " 49%|████▊     | 861/1768 [07:49<06:21,  2.38it/s]"
     ]
    },
    {
     "name": "stdout",
     "output_type": "stream",
     "text": [
      "Image and info_dict saved for 7d8d2d3e41a9fe59c900fce099a6a93a_0 in /Volumes/Newsmy/FM_dataset/VinDr-Mammo-finding/Train/7d8d2d3e41a9fe59c900fce099a6a93a_0\n"
     ]
    },
    {
     "name": "stderr",
     "output_type": "stream",
     "text": [
      " 49%|████▉     | 862/1768 [07:49<06:45,  2.24it/s]"
     ]
    },
    {
     "name": "stdout",
     "output_type": "stream",
     "text": [
      "Image and info_dict saved for 7dc416da53ec8c2abecf3646e0846ace_0 in /Volumes/Newsmy/FM_dataset/VinDr-Mammo-finding/Train/7dc416da53ec8c2abecf3646e0846ace_0\n"
     ]
    },
    {
     "name": "stderr",
     "output_type": "stream",
     "text": [
      " 49%|████▉     | 863/1768 [07:50<07:25,  2.03it/s]"
     ]
    },
    {
     "name": "stdout",
     "output_type": "stream",
     "text": [
      "Image and info_dict saved for 7de4fa3d36048e2bbdaf181155d728c2_0 in /Volumes/Newsmy/FM_dataset/VinDr-Mammo-finding/Train/7de4fa3d36048e2bbdaf181155d728c2_0\n"
     ]
    },
    {
     "name": "stderr",
     "output_type": "stream",
     "text": [
      " 49%|████▉     | 864/1768 [07:50<06:44,  2.23it/s]"
     ]
    },
    {
     "name": "stdout",
     "output_type": "stream",
     "text": [
      "Image and info_dict saved for 7df66dbc9ba0a54fa8c810ac29404b08_0 in /Volumes/Newsmy/FM_dataset/VinDr-Mammo-finding/Train/7df66dbc9ba0a54fa8c810ac29404b08_0\n"
     ]
    },
    {
     "name": "stderr",
     "output_type": "stream",
     "text": [
      " 49%|████▉     | 865/1768 [07:51<07:06,  2.12it/s]"
     ]
    },
    {
     "name": "stdout",
     "output_type": "stream",
     "text": [
      "Image and info_dict saved for 7e279279174120a7bd49d2e142c0bac6_0 in /Volumes/Newsmy/FM_dataset/VinDr-Mammo-finding/Test/7e279279174120a7bd49d2e142c0bac6_0\n",
      "Image and info_dict saved for 7e279279174120a7bd49d2e142c0bac6_1 in /Volumes/Newsmy/FM_dataset/VinDr-Mammo-finding/Test/7e279279174120a7bd49d2e142c0bac6_1\n"
     ]
    },
    {
     "name": "stderr",
     "output_type": "stream",
     "text": [
      " 49%|████▉     | 866/1768 [07:51<07:06,  2.12it/s]"
     ]
    },
    {
     "name": "stdout",
     "output_type": "stream",
     "text": [
      "Image and info_dict saved for 7e2ac68b81c14f458e7323f2f8951cf2_0 in /Volumes/Newsmy/FM_dataset/VinDr-Mammo-finding/Test/7e2ac68b81c14f458e7323f2f8951cf2_0\n",
      "Image and info_dict saved for 7e2ac68b81c14f458e7323f2f8951cf2_1 in /Volumes/Newsmy/FM_dataset/VinDr-Mammo-finding/Test/7e2ac68b81c14f458e7323f2f8951cf2_1\n"
     ]
    },
    {
     "name": "stderr",
     "output_type": "stream",
     "text": [
      " 49%|████▉     | 867/1768 [07:52<07:07,  2.11it/s]"
     ]
    },
    {
     "name": "stdout",
     "output_type": "stream",
     "text": [
      "Image and info_dict saved for 7e2cda8f991e2e14ab585427cbbfd25e_0 in /Volumes/Newsmy/FM_dataset/VinDr-Mammo-finding/Train/7e2cda8f991e2e14ab585427cbbfd25e_0\n",
      "Image and info_dict saved for 7e2cda8f991e2e14ab585427cbbfd25e_1 in /Volumes/Newsmy/FM_dataset/VinDr-Mammo-finding/Train/7e2cda8f991e2e14ab585427cbbfd25e_1\n"
     ]
    },
    {
     "name": "stderr",
     "output_type": "stream",
     "text": [
      " 49%|████▉     | 868/1768 [07:52<07:16,  2.06it/s]"
     ]
    },
    {
     "name": "stdout",
     "output_type": "stream",
     "text": [
      "Image and info_dict saved for 7e37ee2b545f00f8c54e7bcb60b0f515_0 in /Volumes/Newsmy/FM_dataset/VinDr-Mammo-finding/Eval/7e37ee2b545f00f8c54e7bcb60b0f515_0\n"
     ]
    },
    {
     "name": "stderr",
     "output_type": "stream",
     "text": [
      " 49%|████▉     | 869/1768 [07:53<07:46,  1.93it/s]"
     ]
    },
    {
     "name": "stdout",
     "output_type": "stream",
     "text": [
      "Image and info_dict saved for 7e4cb36605cfe77511eddcdb78312a42_0 in /Volumes/Newsmy/FM_dataset/VinDr-Mammo-finding/Train/7e4cb36605cfe77511eddcdb78312a42_0\n",
      "Image and info_dict saved for 7e4cb36605cfe77511eddcdb78312a42_1 in /Volumes/Newsmy/FM_dataset/VinDr-Mammo-finding/Train/7e4cb36605cfe77511eddcdb78312a42_1\n"
     ]
    },
    {
     "name": "stderr",
     "output_type": "stream",
     "text": [
      " 49%|████▉     | 870/1768 [07:53<07:46,  1.93it/s]"
     ]
    },
    {
     "name": "stdout",
     "output_type": "stream",
     "text": [
      "Image and info_dict saved for 7eb213019e972514b4ce6ccb53df509a_0 in /Volumes/Newsmy/FM_dataset/VinDr-Mammo-finding/Eval/7eb213019e972514b4ce6ccb53df509a_0\n",
      "Image and info_dict saved for 7eb213019e972514b4ce6ccb53df509a_1 in /Volumes/Newsmy/FM_dataset/VinDr-Mammo-finding/Eval/7eb213019e972514b4ce6ccb53df509a_1\n"
     ]
    },
    {
     "name": "stderr",
     "output_type": "stream",
     "text": [
      " 49%|████▉     | 871/1768 [07:54<07:19,  2.04it/s]"
     ]
    },
    {
     "name": "stdout",
     "output_type": "stream",
     "text": [
      "Image and info_dict saved for 7ec47bb74c9bce6b721cb16aef03accd_0 in /Volumes/Newsmy/FM_dataset/VinDr-Mammo-finding/Train/7ec47bb74c9bce6b721cb16aef03accd_0\n"
     ]
    },
    {
     "name": "stderr",
     "output_type": "stream",
     "text": [
      " 49%|████▉     | 872/1768 [07:54<06:31,  2.29it/s]"
     ]
    },
    {
     "name": "stdout",
     "output_type": "stream",
     "text": [
      "Image and info_dict saved for 7ece4f330d1b059a4d26d74d6e8db3ba_0 in /Volumes/Newsmy/FM_dataset/VinDr-Mammo-finding/Train/7ece4f330d1b059a4d26d74d6e8db3ba_0\n"
     ]
    },
    {
     "name": "stderr",
     "output_type": "stream",
     "text": [
      " 49%|████▉     | 873/1768 [07:54<06:27,  2.31it/s]"
     ]
    },
    {
     "name": "stdout",
     "output_type": "stream",
     "text": [
      "Image and info_dict saved for 7f1638ea57dd009b6a86d47f7a369fa2_0 in /Volumes/Newsmy/FM_dataset/VinDr-Mammo-finding/Train/7f1638ea57dd009b6a86d47f7a369fa2_0\n"
     ]
    },
    {
     "name": "stderr",
     "output_type": "stream",
     "text": [
      " 49%|████▉     | 874/1768 [07:55<07:26,  2.00it/s]"
     ]
    },
    {
     "name": "stdout",
     "output_type": "stream",
     "text": [
      "Image and info_dict saved for 7f702504f424839b37f42cd4f884c0b4_0 in /Volumes/Newsmy/FM_dataset/VinDr-Mammo-finding/Test/7f702504f424839b37f42cd4f884c0b4_0\n",
      "Image and info_dict saved for 7f702504f424839b37f42cd4f884c0b4_1 in /Volumes/Newsmy/FM_dataset/VinDr-Mammo-finding/Test/7f702504f424839b37f42cd4f884c0b4_1\n"
     ]
    },
    {
     "name": "stderr",
     "output_type": "stream",
     "text": [
      " 49%|████▉     | 875/1768 [07:56<07:31,  1.98it/s]"
     ]
    },
    {
     "name": "stdout",
     "output_type": "stream",
     "text": [
      "Image and info_dict saved for 7f72afcf02256cfc9082b290044af395_0 in /Volumes/Newsmy/FM_dataset/VinDr-Mammo-finding/Test/7f72afcf02256cfc9082b290044af395_0\n"
     ]
    },
    {
     "name": "stderr",
     "output_type": "stream",
     "text": [
      " 50%|████▉     | 876/1768 [07:56<06:48,  2.18it/s]"
     ]
    },
    {
     "name": "stdout",
     "output_type": "stream",
     "text": [
      "Image and info_dict saved for 7fffbf26e320fc3dcabf2f0ea2e9c7e2_0 in /Volumes/Newsmy/FM_dataset/VinDr-Mammo-finding/Train/7fffbf26e320fc3dcabf2f0ea2e9c7e2_0\n"
     ]
    },
    {
     "name": "stderr",
     "output_type": "stream",
     "text": [
      " 50%|████▉     | 877/1768 [07:56<06:29,  2.29it/s]"
     ]
    },
    {
     "name": "stdout",
     "output_type": "stream",
     "text": [
      "Image and info_dict saved for 801865ddfa426b09cfe44edd40c6179b_0 in /Volumes/Newsmy/FM_dataset/VinDr-Mammo-finding/Train/801865ddfa426b09cfe44edd40c6179b_0\n"
     ]
    },
    {
     "name": "stderr",
     "output_type": "stream",
     "text": [
      " 50%|████▉     | 878/1768 [07:57<06:46,  2.19it/s]"
     ]
    },
    {
     "name": "stdout",
     "output_type": "stream",
     "text": [
      "Image and info_dict saved for 80440acf117f4cecd3ac74097adc8101_0 in /Volumes/Newsmy/FM_dataset/VinDr-Mammo-finding/Train/80440acf117f4cecd3ac74097adc8101_0\n"
     ]
    },
    {
     "name": "stderr",
     "output_type": "stream",
     "text": [
      " 50%|████▉     | 879/1768 [07:57<06:22,  2.32it/s]"
     ]
    },
    {
     "name": "stdout",
     "output_type": "stream",
     "text": [
      "Image and info_dict saved for 80782a78ce39bae561649b1d95df085b_0 in /Volumes/Newsmy/FM_dataset/VinDr-Mammo-finding/Train/80782a78ce39bae561649b1d95df085b_0\n"
     ]
    },
    {
     "name": "stderr",
     "output_type": "stream",
     "text": [
      " 50%|████▉     | 880/1768 [07:58<06:16,  2.36it/s]"
     ]
    },
    {
     "name": "stdout",
     "output_type": "stream",
     "text": [
      "Image and info_dict saved for 807c754bdbee40c54b7f4452b6410bb5_0 in /Volumes/Newsmy/FM_dataset/VinDr-Mammo-finding/Test/807c754bdbee40c54b7f4452b6410bb5_0\n"
     ]
    },
    {
     "name": "stderr",
     "output_type": "stream",
     "text": [
      " 50%|████▉     | 881/1768 [07:58<06:40,  2.22it/s]"
     ]
    },
    {
     "name": "stdout",
     "output_type": "stream",
     "text": [
      "Image and info_dict saved for 80a19174eea887c90779fc040405258f_0 in /Volumes/Newsmy/FM_dataset/VinDr-Mammo-finding/Train/80a19174eea887c90779fc040405258f_0\n"
     ]
    },
    {
     "name": "stderr",
     "output_type": "stream",
     "text": [
      " 50%|████▉     | 882/1768 [07:59<07:20,  2.01it/s]"
     ]
    },
    {
     "name": "stdout",
     "output_type": "stream",
     "text": [
      "Image and info_dict saved for 80ae11a78bfd7c9598138c82cd756ad3_0 in /Volumes/Newsmy/FM_dataset/VinDr-Mammo-finding/Test/80ae11a78bfd7c9598138c82cd756ad3_0\n"
     ]
    },
    {
     "name": "stderr",
     "output_type": "stream",
     "text": [
      " 50%|████▉     | 883/1768 [07:59<07:46,  1.90it/s]"
     ]
    },
    {
     "name": "stdout",
     "output_type": "stream",
     "text": [
      "Image and info_dict saved for 80c1af9936f6939a0b152736bb3bef58_0 in /Volumes/Newsmy/FM_dataset/VinDr-Mammo-finding/Train/80c1af9936f6939a0b152736bb3bef58_0\n"
     ]
    },
    {
     "name": "stderr",
     "output_type": "stream",
     "text": [
      " 50%|█████     | 884/1768 [08:00<07:31,  1.96it/s]"
     ]
    },
    {
     "name": "stdout",
     "output_type": "stream",
     "text": [
      "Image and info_dict saved for 80d0fa321e94cb53af818382b9b2b39e_0 in /Volumes/Newsmy/FM_dataset/VinDr-Mammo-finding/Train/80d0fa321e94cb53af818382b9b2b39e_0\n"
     ]
    },
    {
     "name": "stderr",
     "output_type": "stream",
     "text": [
      " 50%|█████     | 885/1768 [08:00<07:01,  2.09it/s]"
     ]
    },
    {
     "name": "stdout",
     "output_type": "stream",
     "text": [
      "Image and info_dict saved for 80d1c8b91477afa2378cbfc7f1266dac_0 in /Volumes/Newsmy/FM_dataset/VinDr-Mammo-finding/Eval/80d1c8b91477afa2378cbfc7f1266dac_0\n"
     ]
    },
    {
     "name": "stderr",
     "output_type": "stream",
     "text": [
      " 50%|█████     | 886/1768 [08:01<07:09,  2.05it/s]"
     ]
    },
    {
     "name": "stdout",
     "output_type": "stream",
     "text": [
      "Image and info_dict saved for 80ff81c8618e00bc6834842e800a2230_0 in /Volumes/Newsmy/FM_dataset/VinDr-Mammo-finding/Train/80ff81c8618e00bc6834842e800a2230_0\n"
     ]
    },
    {
     "name": "stderr",
     "output_type": "stream",
     "text": [
      " 50%|█████     | 887/1768 [08:01<07:29,  1.96it/s]"
     ]
    },
    {
     "name": "stdout",
     "output_type": "stream",
     "text": [
      "Image and info_dict saved for 812ac0e47a788ac6d95720067cfd42e9_0 in /Volumes/Newsmy/FM_dataset/VinDr-Mammo-finding/Train/812ac0e47a788ac6d95720067cfd42e9_0\n",
      "Image and info_dict saved for 812ac0e47a788ac6d95720067cfd42e9_1 in /Volumes/Newsmy/FM_dataset/VinDr-Mammo-finding/Train/812ac0e47a788ac6d95720067cfd42e9_1\n"
     ]
    },
    {
     "name": "stderr",
     "output_type": "stream",
     "text": [
      " 50%|█████     | 888/1768 [08:02<07:41,  1.91it/s]"
     ]
    },
    {
     "name": "stdout",
     "output_type": "stream",
     "text": [
      "Image and info_dict saved for 81b6f4fef96fce3681aba2e3dafdac88_0 in /Volumes/Newsmy/FM_dataset/VinDr-Mammo-finding/Train/81b6f4fef96fce3681aba2e3dafdac88_0\n",
      "Image and info_dict saved for 81b6f4fef96fce3681aba2e3dafdac88_1 in /Volumes/Newsmy/FM_dataset/VinDr-Mammo-finding/Train/81b6f4fef96fce3681aba2e3dafdac88_1\n"
     ]
    },
    {
     "name": "stderr",
     "output_type": "stream",
     "text": [
      " 50%|█████     | 889/1768 [08:02<07:57,  1.84it/s]"
     ]
    },
    {
     "name": "stdout",
     "output_type": "stream",
     "text": [
      "Image and info_dict saved for 81bf78c982ca444852fa95af7d96429c_0 in /Volumes/Newsmy/FM_dataset/VinDr-Mammo-finding/Train/81bf78c982ca444852fa95af7d96429c_0\n",
      "Image and info_dict saved for 81bf78c982ca444852fa95af7d96429c_1 in /Volumes/Newsmy/FM_dataset/VinDr-Mammo-finding/Train/81bf78c982ca444852fa95af7d96429c_1\n"
     ]
    },
    {
     "name": "stderr",
     "output_type": "stream",
     "text": [
      " 50%|█████     | 890/1768 [08:03<07:58,  1.84it/s]"
     ]
    },
    {
     "name": "stdout",
     "output_type": "stream",
     "text": [
      "Image and info_dict saved for 8203498ca0fe91e16654c66a319bea4a_0 in /Volumes/Newsmy/FM_dataset/VinDr-Mammo-finding/Train/8203498ca0fe91e16654c66a319bea4a_0\n"
     ]
    },
    {
     "name": "stderr",
     "output_type": "stream",
     "text": [
      " 50%|█████     | 891/1768 [08:03<07:11,  2.03it/s]"
     ]
    },
    {
     "name": "stdout",
     "output_type": "stream",
     "text": [
      "Image and info_dict saved for 8205786e592bdcab2587481ffa1b350b_0 in /Volumes/Newsmy/FM_dataset/VinDr-Mammo-finding/Eval/8205786e592bdcab2587481ffa1b350b_0\n"
     ]
    },
    {
     "name": "stderr",
     "output_type": "stream",
     "text": [
      " 50%|█████     | 892/1768 [08:04<07:00,  2.08it/s]"
     ]
    },
    {
     "name": "stdout",
     "output_type": "stream",
     "text": [
      "Image and info_dict saved for 823c857f0165eea50b05b9c46e1780d8_0 in /Volumes/Newsmy/FM_dataset/VinDr-Mammo-finding/Eval/823c857f0165eea50b05b9c46e1780d8_0\n"
     ]
    },
    {
     "name": "stderr",
     "output_type": "stream",
     "text": [
      " 51%|█████     | 893/1768 [08:04<06:29,  2.25it/s]"
     ]
    },
    {
     "name": "stdout",
     "output_type": "stream",
     "text": [
      "Image and info_dict saved for 82447e23ecca920582902149e966b3b6_0 in /Volumes/Newsmy/FM_dataset/VinDr-Mammo-finding/Train/82447e23ecca920582902149e966b3b6_0\n"
     ]
    },
    {
     "name": "stderr",
     "output_type": "stream",
     "text": [
      " 51%|█████     | 894/1768 [08:05<06:25,  2.27it/s]"
     ]
    },
    {
     "name": "stdout",
     "output_type": "stream",
     "text": [
      "Image and info_dict saved for 82653664152b8c77f16c0dfc63105dad_0 in /Volumes/Newsmy/FM_dataset/VinDr-Mammo-finding/Train/82653664152b8c77f16c0dfc63105dad_0\n"
     ]
    },
    {
     "name": "stderr",
     "output_type": "stream",
     "text": [
      " 51%|█████     | 895/1768 [08:05<07:04,  2.06it/s]"
     ]
    },
    {
     "name": "stdout",
     "output_type": "stream",
     "text": [
      "Image and info_dict saved for 8294fb1bf4db22fa923e36f8b12997dd_0 in /Volumes/Newsmy/FM_dataset/VinDr-Mammo-finding/Train/8294fb1bf4db22fa923e36f8b12997dd_0\n"
     ]
    },
    {
     "name": "stderr",
     "output_type": "stream",
     "text": [
      " 51%|█████     | 896/1768 [08:05<06:17,  2.31it/s]"
     ]
    },
    {
     "name": "stdout",
     "output_type": "stream",
     "text": [
      "Image and info_dict saved for 829cbbdd27eed0a50c728b7a5f2b0683_0 in /Volumes/Newsmy/FM_dataset/VinDr-Mammo-finding/Eval/829cbbdd27eed0a50c728b7a5f2b0683_0\n"
     ]
    },
    {
     "name": "stderr",
     "output_type": "stream",
     "text": [
      " 51%|█████     | 897/1768 [08:06<06:44,  2.15it/s]"
     ]
    },
    {
     "name": "stdout",
     "output_type": "stream",
     "text": [
      "Image and info_dict saved for 82ce050e4866fc273dd87e0a7498c0da_0 in /Volumes/Newsmy/FM_dataset/VinDr-Mammo-finding/Train/82ce050e4866fc273dd87e0a7498c0da_0\n"
     ]
    },
    {
     "name": "stderr",
     "output_type": "stream",
     "text": [
      " 51%|█████     | 898/1768 [08:07<07:15,  2.00it/s]"
     ]
    },
    {
     "name": "stdout",
     "output_type": "stream",
     "text": [
      "Image and info_dict saved for 8338207743a394ab8b56b5b920fc30b6_0 in /Volumes/Newsmy/FM_dataset/VinDr-Mammo-finding/Train/8338207743a394ab8b56b5b920fc30b6_0\n",
      "Image and info_dict saved for 8338207743a394ab8b56b5b920fc30b6_1 in /Volumes/Newsmy/FM_dataset/VinDr-Mammo-finding/Train/8338207743a394ab8b56b5b920fc30b6_1\n"
     ]
    },
    {
     "name": "stderr",
     "output_type": "stream",
     "text": [
      " 51%|█████     | 899/1768 [08:07<07:38,  1.90it/s]"
     ]
    },
    {
     "name": "stdout",
     "output_type": "stream",
     "text": [
      "Image and info_dict saved for 834e9a35cdc92f2c45e31e80f9cc8ce0_0 in /Volumes/Newsmy/FM_dataset/VinDr-Mammo-finding/Train/834e9a35cdc92f2c45e31e80f9cc8ce0_0\n"
     ]
    },
    {
     "name": "stderr",
     "output_type": "stream",
     "text": [
      " 51%|█████     | 900/1768 [08:08<06:44,  2.15it/s]"
     ]
    },
    {
     "name": "stdout",
     "output_type": "stream",
     "text": [
      "Image and info_dict saved for 83be060130997ca7b67b3979978a5d29_0 in /Volumes/Newsmy/FM_dataset/VinDr-Mammo-finding/Train/83be060130997ca7b67b3979978a5d29_0\n"
     ]
    },
    {
     "name": "stderr",
     "output_type": "stream",
     "text": [
      " 51%|█████     | 901/1768 [08:08<06:33,  2.21it/s]"
     ]
    },
    {
     "name": "stdout",
     "output_type": "stream",
     "text": [
      "Image and info_dict saved for 83c039f69fcecdddd9813c5fbb5fcaa3_0 in /Volumes/Newsmy/FM_dataset/VinDr-Mammo-finding/Test/83c039f69fcecdddd9813c5fbb5fcaa3_0\n"
     ]
    },
    {
     "name": "stderr",
     "output_type": "stream",
     "text": [
      " 51%|█████     | 902/1768 [08:08<06:17,  2.29it/s]"
     ]
    },
    {
     "name": "stdout",
     "output_type": "stream",
     "text": [
      "Image and info_dict saved for 841802bee1fc1a6b4bde97a754713da8_0 in /Volumes/Newsmy/FM_dataset/VinDr-Mammo-finding/Train/841802bee1fc1a6b4bde97a754713da8_0\n"
     ]
    },
    {
     "name": "stderr",
     "output_type": "stream",
     "text": [
      " 51%|█████     | 903/1768 [08:09<06:26,  2.24it/s]"
     ]
    },
    {
     "name": "stdout",
     "output_type": "stream",
     "text": [
      "Image and info_dict saved for 84327b97a8195be40744b4983d5f7cbe_0 in /Volumes/Newsmy/FM_dataset/VinDr-Mammo-finding/Eval/84327b97a8195be40744b4983d5f7cbe_0\n"
     ]
    },
    {
     "name": "stderr",
     "output_type": "stream",
     "text": [
      " 51%|█████     | 904/1768 [08:09<05:47,  2.48it/s]"
     ]
    },
    {
     "name": "stdout",
     "output_type": "stream",
     "text": [
      "Image and info_dict saved for 8470557fec9bd5f0f1b30ec48b1d8654_0 in /Volumes/Newsmy/FM_dataset/VinDr-Mammo-finding/Train/8470557fec9bd5f0f1b30ec48b1d8654_0\n"
     ]
    },
    {
     "name": "stderr",
     "output_type": "stream",
     "text": [
      " 51%|█████     | 905/1768 [08:10<06:21,  2.26it/s]"
     ]
    },
    {
     "name": "stdout",
     "output_type": "stream",
     "text": [
      "Image and info_dict saved for 847d82f41872e77590bb7cde05a60fcd_0 in /Volumes/Newsmy/FM_dataset/VinDr-Mammo-finding/Train/847d82f41872e77590bb7cde05a60fcd_0\n"
     ]
    },
    {
     "name": "stderr",
     "output_type": "stream",
     "text": [
      " 51%|█████     | 906/1768 [08:10<06:37,  2.17it/s]"
     ]
    },
    {
     "name": "stdout",
     "output_type": "stream",
     "text": [
      "Image and info_dict saved for 84a662914bd6294e308b3a5611e91443_0 in /Volumes/Newsmy/FM_dataset/VinDr-Mammo-finding/Test/84a662914bd6294e308b3a5611e91443_0\n"
     ]
    },
    {
     "name": "stderr",
     "output_type": "stream",
     "text": [
      " 51%|█████▏    | 907/1768 [08:11<07:38,  1.88it/s]"
     ]
    },
    {
     "name": "stdout",
     "output_type": "stream",
     "text": [
      "Image and info_dict saved for 84e552d2e538d3413048be2e2094a509_0 in /Volumes/Newsmy/FM_dataset/VinDr-Mammo-finding/Test/84e552d2e538d3413048be2e2094a509_0\n"
     ]
    },
    {
     "name": "stderr",
     "output_type": "stream",
     "text": [
      " 51%|█████▏    | 908/1768 [08:11<07:31,  1.90it/s]"
     ]
    },
    {
     "name": "stdout",
     "output_type": "stream",
     "text": [
      "Image and info_dict saved for 84f451b4a008e729604feb03179090e6_0 in /Volumes/Newsmy/FM_dataset/VinDr-Mammo-finding/Train/84f451b4a008e729604feb03179090e6_0\n"
     ]
    },
    {
     "name": "stderr",
     "output_type": "stream",
     "text": [
      " 51%|█████▏    | 909/1768 [08:12<07:23,  1.94it/s]"
     ]
    },
    {
     "name": "stdout",
     "output_type": "stream",
     "text": [
      "Image and info_dict saved for 8504e56624c4db7a4be8f367136b94e3_0 in /Volumes/Newsmy/FM_dataset/VinDr-Mammo-finding/Train/8504e56624c4db7a4be8f367136b94e3_0\n",
      "Image and info_dict saved for 851af5bfe4d9b12c605998e1fe7355c3_0 in /Volumes/Newsmy/FM_dataset/VinDr-Mammo-finding/Eval/851af5bfe4d9b12c605998e1fe7355c3_0\n",
      "Image and info_dict saved for 851af5bfe4d9b12c605998e1fe7355c3_1 in /Volumes/Newsmy/FM_dataset/VinDr-Mammo-finding/Eval/851af5bfe4d9b12c605998e1fe7355c3_1\n"
     ]
    },
    {
     "name": "stderr",
     "output_type": "stream",
     "text": [
      " 52%|█████▏    | 911/1768 [08:13<08:00,  1.78it/s]"
     ]
    },
    {
     "name": "stdout",
     "output_type": "stream",
     "text": [
      "Image and info_dict saved for 852092131d24851ff0e927b68cce2db7_0 in /Volumes/Newsmy/FM_dataset/VinDr-Mammo-finding/Train/852092131d24851ff0e927b68cce2db7_0\n"
     ]
    },
    {
     "name": "stderr",
     "output_type": "stream",
     "text": [
      " 52%|█████▏    | 912/1768 [08:14<09:05,  1.57it/s]"
     ]
    },
    {
     "name": "stdout",
     "output_type": "stream",
     "text": [
      "Image and info_dict saved for 852606405afae7cbd11c46598bc9b3ef_0 in /Volumes/Newsmy/FM_dataset/VinDr-Mammo-finding/Train/852606405afae7cbd11c46598bc9b3ef_0\n"
     ]
    },
    {
     "name": "stderr",
     "output_type": "stream",
     "text": [
      " 52%|█████▏    | 913/1768 [08:14<08:49,  1.61it/s]"
     ]
    },
    {
     "name": "stdout",
     "output_type": "stream",
     "text": [
      "Image and info_dict saved for 853dbdcfe62f7b59f725866edf1d03c9_0 in /Volumes/Newsmy/FM_dataset/VinDr-Mammo-finding/Train/853dbdcfe62f7b59f725866edf1d03c9_0\n"
     ]
    },
    {
     "name": "stderr",
     "output_type": "stream",
     "text": [
      " 52%|█████▏    | 914/1768 [08:15<08:00,  1.78it/s]"
     ]
    },
    {
     "name": "stdout",
     "output_type": "stream",
     "text": [
      "Image and info_dict saved for 8544f5b224566c38928fd793d2f5870a_0 in /Volumes/Newsmy/FM_dataset/VinDr-Mammo-finding/Train/8544f5b224566c38928fd793d2f5870a_0\n"
     ]
    },
    {
     "name": "stderr",
     "output_type": "stream",
     "text": [
      " 52%|█████▏    | 915/1768 [08:15<07:22,  1.93it/s]"
     ]
    },
    {
     "name": "stdout",
     "output_type": "stream",
     "text": [
      "Image and info_dict saved for 855cb8cc8506fc3be0123848dbea94b0_0 in /Volumes/Newsmy/FM_dataset/VinDr-Mammo-finding/Test/855cb8cc8506fc3be0123848dbea94b0_0\n",
      "Image and info_dict saved for 855cb8cc8506fc3be0123848dbea94b0_1 in /Volumes/Newsmy/FM_dataset/VinDr-Mammo-finding/Test/855cb8cc8506fc3be0123848dbea94b0_1\n"
     ]
    },
    {
     "name": "stderr",
     "output_type": "stream",
     "text": [
      " 52%|█████▏    | 916/1768 [08:16<07:25,  1.91it/s]"
     ]
    },
    {
     "name": "stdout",
     "output_type": "stream",
     "text": [
      "Image and info_dict saved for 85939e3cfdb707f342917c1f56a56306_0 in /Volumes/Newsmy/FM_dataset/VinDr-Mammo-finding/Test/85939e3cfdb707f342917c1f56a56306_0\n",
      "Image and info_dict saved for 85939e3cfdb707f342917c1f56a56306_1 in /Volumes/Newsmy/FM_dataset/VinDr-Mammo-finding/Test/85939e3cfdb707f342917c1f56a56306_1\n"
     ]
    },
    {
     "name": "stderr",
     "output_type": "stream",
     "text": [
      " 52%|█████▏    | 917/1768 [08:16<06:44,  2.11it/s]"
     ]
    },
    {
     "name": "stdout",
     "output_type": "stream",
     "text": [
      "Image and info_dict saved for 85942db8feddc69a71df112fabaeda92_0 in /Volumes/Newsmy/FM_dataset/VinDr-Mammo-finding/Test/85942db8feddc69a71df112fabaeda92_0\n"
     ]
    },
    {
     "name": "stderr",
     "output_type": "stream",
     "text": [
      " 52%|█████▏    | 918/1768 [08:17<07:40,  1.85it/s]"
     ]
    },
    {
     "name": "stdout",
     "output_type": "stream",
     "text": [
      "Image and info_dict saved for 85a6579cbdc403cfc4dde0a8149ed855_0 in /Volumes/Newsmy/FM_dataset/VinDr-Mammo-finding/Train/85a6579cbdc403cfc4dde0a8149ed855_0\n",
      "Image and info_dict saved for 85a6579cbdc403cfc4dde0a8149ed855_1 in /Volumes/Newsmy/FM_dataset/VinDr-Mammo-finding/Train/85a6579cbdc403cfc4dde0a8149ed855_1\n"
     ]
    },
    {
     "name": "stderr",
     "output_type": "stream",
     "text": [
      " 52%|█████▏    | 919/1768 [08:17<07:29,  1.89it/s]"
     ]
    },
    {
     "name": "stdout",
     "output_type": "stream",
     "text": [
      "Image and info_dict saved for 85b980b0ee480186d1aa66527ba20349_0 in /Volumes/Newsmy/FM_dataset/VinDr-Mammo-finding/Train/85b980b0ee480186d1aa66527ba20349_0\n"
     ]
    },
    {
     "name": "stderr",
     "output_type": "stream",
     "text": [
      " 52%|█████▏    | 920/1768 [08:18<07:59,  1.77it/s]"
     ]
    },
    {
     "name": "stdout",
     "output_type": "stream",
     "text": [
      "Image and info_dict saved for 85c13ee57c5b63fe1f5b93583435b714_0 in /Volumes/Newsmy/FM_dataset/VinDr-Mammo-finding/Train/85c13ee57c5b63fe1f5b93583435b714_0\n",
      "Image and info_dict saved for 85c13ee57c5b63fe1f5b93583435b714_1 in /Volumes/Newsmy/FM_dataset/VinDr-Mammo-finding/Train/85c13ee57c5b63fe1f5b93583435b714_1\n"
     ]
    },
    {
     "name": "stderr",
     "output_type": "stream",
     "text": [
      " 52%|█████▏    | 921/1768 [08:18<07:30,  1.88it/s]"
     ]
    },
    {
     "name": "stdout",
     "output_type": "stream",
     "text": [
      "Image and info_dict saved for 85eefc38fd89472c11a37adfd5f0d536_0 in /Volumes/Newsmy/FM_dataset/VinDr-Mammo-finding/Train/85eefc38fd89472c11a37adfd5f0d536_0\n"
     ]
    },
    {
     "name": "stderr",
     "output_type": "stream",
     "text": [
      " 52%|█████▏    | 922/1768 [08:19<07:20,  1.92it/s]"
     ]
    },
    {
     "name": "stdout",
     "output_type": "stream",
     "text": [
      "Image and info_dict saved for 86048af83b217cbc59cfa9d51af09696_0 in /Volumes/Newsmy/FM_dataset/VinDr-Mammo-finding/Test/86048af83b217cbc59cfa9d51af09696_0\n"
     ]
    },
    {
     "name": "stderr",
     "output_type": "stream",
     "text": [
      " 52%|█████▏    | 923/1768 [08:19<06:31,  2.16it/s]"
     ]
    },
    {
     "name": "stdout",
     "output_type": "stream",
     "text": [
      "Image and info_dict saved for 86176a5feecb57e582b70cfb87699929_0 in /Volumes/Newsmy/FM_dataset/VinDr-Mammo-finding/Train/86176a5feecb57e582b70cfb87699929_0\n"
     ]
    },
    {
     "name": "stderr",
     "output_type": "stream",
     "text": [
      " 52%|█████▏    | 924/1768 [08:20<06:27,  2.18it/s]"
     ]
    },
    {
     "name": "stdout",
     "output_type": "stream",
     "text": [
      "Image and info_dict saved for 8625c888c8bdfc650c4c2eba665accc2_0 in /Volumes/Newsmy/FM_dataset/VinDr-Mammo-finding/Test/8625c888c8bdfc650c4c2eba665accc2_0\n"
     ]
    },
    {
     "name": "stderr",
     "output_type": "stream",
     "text": [
      " 52%|█████▏    | 925/1768 [08:20<05:53,  2.39it/s]"
     ]
    },
    {
     "name": "stdout",
     "output_type": "stream",
     "text": [
      "Image and info_dict saved for 862e22b040bf23946e96da765f9871c1_0 in /Volumes/Newsmy/FM_dataset/VinDr-Mammo-finding/Train/862e22b040bf23946e96da765f9871c1_0\n"
     ]
    },
    {
     "name": "stderr",
     "output_type": "stream",
     "text": [
      " 52%|█████▏    | 926/1768 [08:21<06:20,  2.21it/s]"
     ]
    },
    {
     "name": "stdout",
     "output_type": "stream",
     "text": [
      "Image and info_dict saved for 869bb44e02d05f5754c2f6df394e6d9a_0 in /Volumes/Newsmy/FM_dataset/VinDr-Mammo-finding/Train/869bb44e02d05f5754c2f6df394e6d9a_0\n"
     ]
    },
    {
     "name": "stderr",
     "output_type": "stream",
     "text": [
      " 52%|█████▏    | 927/1768 [08:21<06:16,  2.23it/s]"
     ]
    },
    {
     "name": "stdout",
     "output_type": "stream",
     "text": [
      "Image and info_dict saved for 869c08c72bc7ca86ec54e2637a4b7f6e_0 in /Volumes/Newsmy/FM_dataset/VinDr-Mammo-finding/Eval/869c08c72bc7ca86ec54e2637a4b7f6e_0\n"
     ]
    },
    {
     "name": "stderr",
     "output_type": "stream",
     "text": [
      " 52%|█████▏    | 928/1768 [08:22<08:12,  1.71it/s]"
     ]
    },
    {
     "name": "stdout",
     "output_type": "stream",
     "text": [
      "Image and info_dict saved for 86ab85b00f60d2d8e238594886880438_0 in /Volumes/Newsmy/FM_dataset/VinDr-Mammo-finding/Eval/86ab85b00f60d2d8e238594886880438_0\n"
     ]
    },
    {
     "name": "stderr",
     "output_type": "stream",
     "text": [
      " 53%|█████▎    | 929/1768 [08:23<09:52,  1.42it/s]"
     ]
    },
    {
     "name": "stdout",
     "output_type": "stream",
     "text": [
      "Image and info_dict saved for 86d16a47cfcb661ae42790626f4df712_0 in /Volumes/Newsmy/FM_dataset/VinDr-Mammo-finding/Eval/86d16a47cfcb661ae42790626f4df712_0\n"
     ]
    },
    {
     "name": "stderr",
     "output_type": "stream",
     "text": [
      " 53%|█████▎    | 930/1768 [08:23<08:31,  1.64it/s]"
     ]
    },
    {
     "name": "stdout",
     "output_type": "stream",
     "text": [
      "Image and info_dict saved for 86d6bf4089c8c873badf6323750c7028_0 in /Volumes/Newsmy/FM_dataset/VinDr-Mammo-finding/Train/86d6bf4089c8c873badf6323750c7028_0\n"
     ]
    },
    {
     "name": "stderr",
     "output_type": "stream",
     "text": [
      " 53%|█████▎    | 931/1768 [08:24<08:29,  1.64it/s]"
     ]
    },
    {
     "name": "stdout",
     "output_type": "stream",
     "text": [
      "Image and info_dict saved for 870ec0cc5a1b1874d8c972a8595f41a2_0 in /Volumes/Newsmy/FM_dataset/VinDr-Mammo-finding/Eval/870ec0cc5a1b1874d8c972a8595f41a2_0\n"
     ]
    },
    {
     "name": "stderr",
     "output_type": "stream",
     "text": [
      " 53%|█████▎    | 932/1768 [08:25<08:25,  1.65it/s]"
     ]
    },
    {
     "name": "stdout",
     "output_type": "stream",
     "text": [
      "Image and info_dict saved for 87207460ecda3b86f570e495a65cef48_0 in /Volumes/Newsmy/FM_dataset/VinDr-Mammo-finding/Train/87207460ecda3b86f570e495a65cef48_0\n"
     ]
    },
    {
     "name": "stderr",
     "output_type": "stream",
     "text": [
      " 53%|█████▎    | 933/1768 [08:25<07:49,  1.78it/s]"
     ]
    },
    {
     "name": "stdout",
     "output_type": "stream",
     "text": [
      "Image and info_dict saved for 8734b09ebb2fb2b28e553237bd5a7074_0 in /Volumes/Newsmy/FM_dataset/VinDr-Mammo-finding/Train/8734b09ebb2fb2b28e553237bd5a7074_0\n"
     ]
    },
    {
     "name": "stderr",
     "output_type": "stream",
     "text": [
      " 53%|█████▎    | 934/1768 [08:25<07:11,  1.93it/s]"
     ]
    },
    {
     "name": "stdout",
     "output_type": "stream",
     "text": [
      "Image and info_dict saved for 873ab15ec29cd51a27d104be8947aec9_0 in /Volumes/Newsmy/FM_dataset/VinDr-Mammo-finding/Train/873ab15ec29cd51a27d104be8947aec9_0\n"
     ]
    },
    {
     "name": "stderr",
     "output_type": "stream",
     "text": [
      " 53%|█████▎    | 935/1768 [08:26<07:31,  1.85it/s]"
     ]
    },
    {
     "name": "stdout",
     "output_type": "stream",
     "text": [
      "Image and info_dict saved for 875cf45e7952e6bd9b2ef7ed0df5259f_0 in /Volumes/Newsmy/FM_dataset/VinDr-Mammo-finding/Train/875cf45e7952e6bd9b2ef7ed0df5259f_0\n"
     ]
    },
    {
     "name": "stderr",
     "output_type": "stream",
     "text": [
      " 53%|█████▎    | 936/1768 [08:27<07:45,  1.79it/s]"
     ]
    },
    {
     "name": "stdout",
     "output_type": "stream",
     "text": [
      "Image and info_dict saved for 8774c3168171c4fd5b07cca26794b2a2_0 in /Volumes/Newsmy/FM_dataset/VinDr-Mammo-finding/Train/8774c3168171c4fd5b07cca26794b2a2_0\n"
     ]
    },
    {
     "name": "stderr",
     "output_type": "stream",
     "text": [
      " 53%|█████▎    | 937/1768 [08:27<07:21,  1.88it/s]"
     ]
    },
    {
     "name": "stdout",
     "output_type": "stream",
     "text": [
      "Image and info_dict saved for 87811fa5ebde0c8e76add8f3b58f0d1c_0 in /Volumes/Newsmy/FM_dataset/VinDr-Mammo-finding/Train/87811fa5ebde0c8e76add8f3b58f0d1c_0\n"
     ]
    },
    {
     "name": "stderr",
     "output_type": "stream",
     "text": [
      " 53%|█████▎    | 938/1768 [08:28<07:09,  1.93it/s]"
     ]
    },
    {
     "name": "stdout",
     "output_type": "stream",
     "text": [
      "Image and info_dict saved for 87c927e8d708fe1907e598d6d1e82f6a_0 in /Volumes/Newsmy/FM_dataset/VinDr-Mammo-finding/Train/87c927e8d708fe1907e598d6d1e82f6a_0\n"
     ]
    },
    {
     "name": "stderr",
     "output_type": "stream",
     "text": [
      " 53%|█████▎    | 939/1768 [08:28<07:08,  1.94it/s]"
     ]
    },
    {
     "name": "stdout",
     "output_type": "stream",
     "text": [
      "Image and info_dict saved for 87f0ee76b74975a33b718a41b32d70c9_0 in /Volumes/Newsmy/FM_dataset/VinDr-Mammo-finding/Train/87f0ee76b74975a33b718a41b32d70c9_0\n"
     ]
    },
    {
     "name": "stderr",
     "output_type": "stream",
     "text": [
      " 53%|█████▎    | 940/1768 [08:29<07:01,  1.96it/s]"
     ]
    },
    {
     "name": "stdout",
     "output_type": "stream",
     "text": [
      "Image and info_dict saved for 87f492b1ef0b4090691311a40b81da6f_0 in /Volumes/Newsmy/FM_dataset/VinDr-Mammo-finding/Train/87f492b1ef0b4090691311a40b81da6f_0\n"
     ]
    },
    {
     "name": "stderr",
     "output_type": "stream",
     "text": [
      " 53%|█████▎    | 941/1768 [08:29<06:58,  1.98it/s]"
     ]
    },
    {
     "name": "stdout",
     "output_type": "stream",
     "text": [
      "Image and info_dict saved for 88807858647b9ec4c845d643b6328967_0 in /Volumes/Newsmy/FM_dataset/VinDr-Mammo-finding/Test/88807858647b9ec4c845d643b6328967_0\n"
     ]
    },
    {
     "name": "stderr",
     "output_type": "stream",
     "text": [
      " 53%|█████▎    | 942/1768 [08:30<06:58,  1.97it/s]"
     ]
    },
    {
     "name": "stdout",
     "output_type": "stream",
     "text": [
      "Image and info_dict saved for 88cb5d78a7d337d3d8a9fee6f9a9c228_0 in /Volumes/Newsmy/FM_dataset/VinDr-Mammo-finding/Test/88cb5d78a7d337d3d8a9fee6f9a9c228_0\n"
     ]
    },
    {
     "name": "stderr",
     "output_type": "stream",
     "text": [
      " 53%|█████▎    | 943/1768 [08:30<06:29,  2.12it/s]"
     ]
    },
    {
     "name": "stdout",
     "output_type": "stream",
     "text": [
      "Image and info_dict saved for 891295e2c553da37d37c76b463f1231c_0 in /Volumes/Newsmy/FM_dataset/VinDr-Mammo-finding/Train/891295e2c553da37d37c76b463f1231c_0\n"
     ]
    },
    {
     "name": "stderr",
     "output_type": "stream",
     "text": [
      " 53%|█████▎    | 944/1768 [08:31<06:54,  1.99it/s]"
     ]
    },
    {
     "name": "stdout",
     "output_type": "stream",
     "text": [
      "Image and info_dict saved for 891e28e29869d732f25d8763a6823e07_0 in /Volumes/Newsmy/FM_dataset/VinDr-Mammo-finding/Test/891e28e29869d732f25d8763a6823e07_0\n"
     ]
    },
    {
     "name": "stderr",
     "output_type": "stream",
     "text": [
      " 53%|█████▎    | 945/1768 [08:31<06:24,  2.14it/s]"
     ]
    },
    {
     "name": "stdout",
     "output_type": "stream",
     "text": [
      "Image and info_dict saved for 893528bc38a0362928a89364f1b692fd_0 in /Volumes/Newsmy/FM_dataset/VinDr-Mammo-finding/Train/893528bc38a0362928a89364f1b692fd_0\n"
     ]
    },
    {
     "name": "stderr",
     "output_type": "stream",
     "text": [
      " 54%|█████▎    | 946/1768 [08:31<06:22,  2.15it/s]"
     ]
    },
    {
     "name": "stdout",
     "output_type": "stream",
     "text": [
      "Image and info_dict saved for 89537aa9ac593c57e7375f1572e3e773_0 in /Volumes/Newsmy/FM_dataset/VinDr-Mammo-finding/Eval/89537aa9ac593c57e7375f1572e3e773_0\n",
      "Image and info_dict saved for 89537aa9ac593c57e7375f1572e3e773_1 in /Volumes/Newsmy/FM_dataset/VinDr-Mammo-finding/Eval/89537aa9ac593c57e7375f1572e3e773_1\n"
     ]
    },
    {
     "name": "stderr",
     "output_type": "stream",
     "text": [
      " 54%|█████▎    | 947/1768 [08:32<07:42,  1.78it/s]"
     ]
    },
    {
     "name": "stdout",
     "output_type": "stream",
     "text": [
      "Image and info_dict saved for 895919f94d2054826bc04c14f45f080c_0 in /Volumes/Newsmy/FM_dataset/VinDr-Mammo-finding/Test/895919f94d2054826bc04c14f45f080c_0\n"
     ]
    },
    {
     "name": "stderr",
     "output_type": "stream",
     "text": [
      " 54%|█████▎    | 948/1768 [08:33<07:18,  1.87it/s]"
     ]
    },
    {
     "name": "stdout",
     "output_type": "stream",
     "text": [
      "Image and info_dict saved for 8992c148694c07d13f2e0ae1c80a15f8_0 in /Volumes/Newsmy/FM_dataset/VinDr-Mammo-finding/Train/8992c148694c07d13f2e0ae1c80a15f8_0\n"
     ]
    },
    {
     "name": "stderr",
     "output_type": "stream",
     "text": [
      " 54%|█████▎    | 949/1768 [08:33<06:41,  2.04it/s]"
     ]
    },
    {
     "name": "stdout",
     "output_type": "stream",
     "text": [
      "Image and info_dict saved for 899a09abd9ab542682b3a41724bcccdc_0 in /Volumes/Newsmy/FM_dataset/VinDr-Mammo-finding/Test/899a09abd9ab542682b3a41724bcccdc_0\n"
     ]
    },
    {
     "name": "stderr",
     "output_type": "stream",
     "text": [
      " 54%|█████▎    | 950/1768 [08:34<07:30,  1.82it/s]"
     ]
    },
    {
     "name": "stdout",
     "output_type": "stream",
     "text": [
      "Image and info_dict saved for 89b80e3d06d1a3a91859fcf7f200b44d_0 in /Volumes/Newsmy/FM_dataset/VinDr-Mammo-finding/Train/89b80e3d06d1a3a91859fcf7f200b44d_0\n"
     ]
    },
    {
     "name": "stderr",
     "output_type": "stream",
     "text": [
      " 54%|█████▍    | 951/1768 [08:34<07:13,  1.88it/s]"
     ]
    },
    {
     "name": "stdout",
     "output_type": "stream",
     "text": [
      "Image and info_dict saved for 89c3dd3095a646213c280c180094d87f_0 in /Volumes/Newsmy/FM_dataset/VinDr-Mammo-finding/Train/89c3dd3095a646213c280c180094d87f_0\n"
     ]
    },
    {
     "name": "stderr",
     "output_type": "stream",
     "text": [
      " 54%|█████▍    | 952/1768 [08:35<06:57,  1.96it/s]"
     ]
    },
    {
     "name": "stdout",
     "output_type": "stream",
     "text": [
      "Image and info_dict saved for 8a284a47f941a8be6a83bb2d0f249224_0 in /Volumes/Newsmy/FM_dataset/VinDr-Mammo-finding/Train/8a284a47f941a8be6a83bb2d0f249224_0\n"
     ]
    },
    {
     "name": "stderr",
     "output_type": "stream",
     "text": [
      " 54%|█████▍    | 953/1768 [08:35<06:47,  2.00it/s]"
     ]
    },
    {
     "name": "stdout",
     "output_type": "stream",
     "text": [
      "Image and info_dict saved for 8a7414f4289d4ffdfae1c8c6b767a4ef_0 in /Volumes/Newsmy/FM_dataset/VinDr-Mammo-finding/Test/8a7414f4289d4ffdfae1c8c6b767a4ef_0\n",
      "Image and info_dict saved for 8aaea8ad26744fa23f786699ae38d66e_0 in /Volumes/Newsmy/FM_dataset/VinDr-Mammo-finding/Train/8aaea8ad26744fa23f786699ae38d66e_0\n",
      "Image and info_dict saved for 8aaea8ad26744fa23f786699ae38d66e_1 in /Volumes/Newsmy/FM_dataset/VinDr-Mammo-finding/Train/8aaea8ad26744fa23f786699ae38d66e_1\n",
      "Image and info_dict saved for 8aaea8ad26744fa23f786699ae38d66e_2 in /Volumes/Newsmy/FM_dataset/VinDr-Mammo-finding/Train/8aaea8ad26744fa23f786699ae38d66e_2\n",
      "Image and info_dict saved for 8aaea8ad26744fa23f786699ae38d66e_3 in /Volumes/Newsmy/FM_dataset/VinDr-Mammo-finding/Train/8aaea8ad26744fa23f786699ae38d66e_3\n",
      "Image and info_dict saved for 8aaea8ad26744fa23f786699ae38d66e_4 in /Volumes/Newsmy/FM_dataset/VinDr-Mammo-finding/Train/8aaea8ad26744fa23f786699ae38d66e_4\n",
      "Image and info_dict saved for 8aaea8ad26744fa23f786699ae38d66e_5 in /Volumes/Newsmy/FM_dataset/VinDr-Mammo-finding/Train/8aaea8ad26744fa23f786699ae38d66e_5\n"
     ]
    },
    {
     "name": "stderr",
     "output_type": "stream",
     "text": [
      " 54%|█████▍    | 954/1768 [08:37<10:54,  1.24it/s]"
     ]
    },
    {
     "name": "stdout",
     "output_type": "stream",
     "text": [
      "Image and info_dict saved for 8aaea8ad26744fa23f786699ae38d66e_6 in /Volumes/Newsmy/FM_dataset/VinDr-Mammo-finding/Train/8aaea8ad26744fa23f786699ae38d66e_6\n"
     ]
    },
    {
     "name": "stderr",
     "output_type": "stream",
     "text": [
      " 54%|█████▍    | 955/1768 [08:37<09:39,  1.40it/s]"
     ]
    },
    {
     "name": "stdout",
     "output_type": "stream",
     "text": [
      "Image and info_dict saved for 8ab5422aeb3e0e4ca42633e70da0508e_0 in /Volumes/Newsmy/FM_dataset/VinDr-Mammo-finding/Eval/8ab5422aeb3e0e4ca42633e70da0508e_0\n"
     ]
    },
    {
     "name": "stderr",
     "output_type": "stream",
     "text": [
      " 54%|█████▍    | 956/1768 [08:37<08:08,  1.66it/s]"
     ]
    },
    {
     "name": "stdout",
     "output_type": "stream",
     "text": [
      "Image and info_dict saved for 8ae348f705feb1dae2aa587c7d374813_0 in /Volumes/Newsmy/FM_dataset/VinDr-Mammo-finding/Train/8ae348f705feb1dae2aa587c7d374813_0\n"
     ]
    },
    {
     "name": "stderr",
     "output_type": "stream",
     "text": [
      " 54%|█████▍    | 957/1768 [08:38<07:36,  1.78it/s]"
     ]
    },
    {
     "name": "stdout",
     "output_type": "stream",
     "text": [
      "Image and info_dict saved for 8af12ad744f6e5b0d7f6cf94a30755ea_0 in /Volumes/Newsmy/FM_dataset/VinDr-Mammo-finding/Train/8af12ad744f6e5b0d7f6cf94a30755ea_0\n"
     ]
    },
    {
     "name": "stderr",
     "output_type": "stream",
     "text": [
      " 54%|█████▍    | 958/1768 [08:39<07:55,  1.70it/s]"
     ]
    },
    {
     "name": "stdout",
     "output_type": "stream",
     "text": [
      "Image and info_dict saved for 8b0a3b631da421be5a87d9bee772af95_0 in /Volumes/Newsmy/FM_dataset/VinDr-Mammo-finding/Train/8b0a3b631da421be5a87d9bee772af95_0\n"
     ]
    },
    {
     "name": "stderr",
     "output_type": "stream",
     "text": [
      " 54%|█████▍    | 959/1768 [08:39<07:15,  1.86it/s]"
     ]
    },
    {
     "name": "stdout",
     "output_type": "stream",
     "text": [
      "Image and info_dict saved for 8b8a5fc22981d783644c15594185f295_0 in /Volumes/Newsmy/FM_dataset/VinDr-Mammo-finding/Train/8b8a5fc22981d783644c15594185f295_0\n"
     ]
    },
    {
     "name": "stderr",
     "output_type": "stream",
     "text": [
      " 54%|█████▍    | 960/1768 [08:39<06:42,  2.01it/s]"
     ]
    },
    {
     "name": "stdout",
     "output_type": "stream",
     "text": [
      "Image and info_dict saved for 8bd6f0c10da77a15a1cd6d2ab6fd65a6_0 in /Volumes/Newsmy/FM_dataset/VinDr-Mammo-finding/Eval/8bd6f0c10da77a15a1cd6d2ab6fd65a6_0\n"
     ]
    },
    {
     "name": "stderr",
     "output_type": "stream",
     "text": [
      " 54%|█████▍    | 961/1768 [08:40<06:33,  2.05it/s]"
     ]
    },
    {
     "name": "stdout",
     "output_type": "stream",
     "text": [
      "Image and info_dict saved for 8c799782afb5ab3a1a9cd5236dbddb98_0 in /Volumes/Newsmy/FM_dataset/VinDr-Mammo-finding/Train/8c799782afb5ab3a1a9cd5236dbddb98_0\n"
     ]
    },
    {
     "name": "stderr",
     "output_type": "stream",
     "text": [
      " 54%|█████▍    | 962/1768 [08:40<06:26,  2.08it/s]"
     ]
    },
    {
     "name": "stdout",
     "output_type": "stream",
     "text": [
      "Image and info_dict saved for 8c8f1870ec508423e1a91f4fb426d9d8_0 in /Volumes/Newsmy/FM_dataset/VinDr-Mammo-finding/Eval/8c8f1870ec508423e1a91f4fb426d9d8_0\n"
     ]
    },
    {
     "name": "stderr",
     "output_type": "stream",
     "text": [
      " 54%|█████▍    | 963/1768 [08:41<06:35,  2.04it/s]"
     ]
    },
    {
     "name": "stdout",
     "output_type": "stream",
     "text": [
      "Image and info_dict saved for 8c90a9536079688965102363c77df077_0 in /Volumes/Newsmy/FM_dataset/VinDr-Mammo-finding/Test/8c90a9536079688965102363c77df077_0\n"
     ]
    },
    {
     "name": "stderr",
     "output_type": "stream",
     "text": [
      " 55%|█████▍    | 964/1768 [08:41<06:27,  2.07it/s]"
     ]
    },
    {
     "name": "stdout",
     "output_type": "stream",
     "text": [
      "Image and info_dict saved for 8c91dd4b7b90a82ea2f89627d2f67092_0 in /Volumes/Newsmy/FM_dataset/VinDr-Mammo-finding/Train/8c91dd4b7b90a82ea2f89627d2f67092_0\n"
     ]
    },
    {
     "name": "stderr",
     "output_type": "stream",
     "text": [
      " 55%|█████▍    | 965/1768 [08:42<06:22,  2.10it/s]"
     ]
    },
    {
     "name": "stdout",
     "output_type": "stream",
     "text": [
      "Image and info_dict saved for 8ca0d1b5937e87ebe91e09d4e45bcf73_0 in /Volumes/Newsmy/FM_dataset/VinDr-Mammo-finding/Test/8ca0d1b5937e87ebe91e09d4e45bcf73_0\n"
     ]
    },
    {
     "name": "stderr",
     "output_type": "stream",
     "text": [
      " 55%|█████▍    | 966/1768 [08:42<06:24,  2.09it/s]"
     ]
    },
    {
     "name": "stdout",
     "output_type": "stream",
     "text": [
      "Image and info_dict saved for 8ccbc18df717a107769beedde21a14a3_0 in /Volumes/Newsmy/FM_dataset/VinDr-Mammo-finding/Train/8ccbc18df717a107769beedde21a14a3_0\n"
     ]
    },
    {
     "name": "stderr",
     "output_type": "stream",
     "text": [
      " 55%|█████▍    | 967/1768 [08:43<06:23,  2.09it/s]"
     ]
    },
    {
     "name": "stdout",
     "output_type": "stream",
     "text": [
      "Image and info_dict saved for 8ce22cd4d6868becbe875f74d83acd23_0 in /Volumes/Newsmy/FM_dataset/VinDr-Mammo-finding/Train/8ce22cd4d6868becbe875f74d83acd23_0\n"
     ]
    },
    {
     "name": "stderr",
     "output_type": "stream",
     "text": [
      " 55%|█████▍    | 968/1768 [08:43<06:40,  2.00it/s]"
     ]
    },
    {
     "name": "stdout",
     "output_type": "stream",
     "text": [
      "Image and info_dict saved for 8cf6ce9707a45986000b816af94d3087_0 in /Volumes/Newsmy/FM_dataset/VinDr-Mammo-finding/Train/8cf6ce9707a45986000b816af94d3087_0\n"
     ]
    },
    {
     "name": "stderr",
     "output_type": "stream",
     "text": [
      " 55%|█████▍    | 969/1768 [08:44<06:05,  2.19it/s]"
     ]
    },
    {
     "name": "stdout",
     "output_type": "stream",
     "text": [
      "Image and info_dict saved for 8d1b963cc8a5d8688e289343ec36448b_0 in /Volumes/Newsmy/FM_dataset/VinDr-Mammo-finding/Train/8d1b963cc8a5d8688e289343ec36448b_0\n"
     ]
    },
    {
     "name": "stderr",
     "output_type": "stream",
     "text": [
      " 55%|█████▍    | 970/1768 [08:44<05:50,  2.28it/s]"
     ]
    },
    {
     "name": "stdout",
     "output_type": "stream",
     "text": [
      "Image and info_dict saved for 8d5889f3d01dd0905ba597835fce9f5c_0 in /Volumes/Newsmy/FM_dataset/VinDr-Mammo-finding/Train/8d5889f3d01dd0905ba597835fce9f5c_0\n"
     ]
    },
    {
     "name": "stderr",
     "output_type": "stream",
     "text": [
      " 55%|█████▍    | 971/1768 [08:45<06:58,  1.90it/s]"
     ]
    },
    {
     "name": "stdout",
     "output_type": "stream",
     "text": [
      "Image and info_dict saved for 8d9552b0949ee990570328d0410557ff_0 in /Volumes/Newsmy/FM_dataset/VinDr-Mammo-finding/Eval/8d9552b0949ee990570328d0410557ff_0\n",
      "Image and info_dict saved for 8d9552b0949ee990570328d0410557ff_1 in /Volumes/Newsmy/FM_dataset/VinDr-Mammo-finding/Eval/8d9552b0949ee990570328d0410557ff_1\n",
      "Image and info_dict saved for 8d9552b0949ee990570328d0410557ff_2 in /Volumes/Newsmy/FM_dataset/VinDr-Mammo-finding/Eval/8d9552b0949ee990570328d0410557ff_2\n"
     ]
    },
    {
     "name": "stderr",
     "output_type": "stream",
     "text": [
      " 55%|█████▍    | 972/1768 [08:45<07:17,  1.82it/s]"
     ]
    },
    {
     "name": "stdout",
     "output_type": "stream",
     "text": [
      "Image and info_dict saved for 8dcec6961be1361c354bfb197ae635b3_0 in /Volumes/Newsmy/FM_dataset/VinDr-Mammo-finding/Train/8dcec6961be1361c354bfb197ae635b3_0\n"
     ]
    },
    {
     "name": "stderr",
     "output_type": "stream",
     "text": [
      " 55%|█████▌    | 973/1768 [08:46<06:56,  1.91it/s]"
     ]
    },
    {
     "name": "stdout",
     "output_type": "stream",
     "text": [
      "Image and info_dict saved for 8dd0038a71ef5ae49e251bded4659bc7_0 in /Volumes/Newsmy/FM_dataset/VinDr-Mammo-finding/Train/8dd0038a71ef5ae49e251bded4659bc7_0\n"
     ]
    },
    {
     "name": "stderr",
     "output_type": "stream",
     "text": [
      " 55%|█████▌    | 974/1768 [08:46<06:13,  2.13it/s]"
     ]
    },
    {
     "name": "stdout",
     "output_type": "stream",
     "text": [
      "Image and info_dict saved for 8dd1988d89a16d1fd852aa43acca21af_0 in /Volumes/Newsmy/FM_dataset/VinDr-Mammo-finding/Train/8dd1988d89a16d1fd852aa43acca21af_0\n"
     ]
    },
    {
     "name": "stderr",
     "output_type": "stream",
     "text": [
      " 55%|█████▌    | 975/1768 [08:47<05:54,  2.24it/s]"
     ]
    },
    {
     "name": "stdout",
     "output_type": "stream",
     "text": [
      "Image and info_dict saved for 8ddcc6ca07bfbf89fe828d46a0f64e92_0 in /Volumes/Newsmy/FM_dataset/VinDr-Mammo-finding/Test/8ddcc6ca07bfbf89fe828d46a0f64e92_0\n"
     ]
    },
    {
     "name": "stderr",
     "output_type": "stream",
     "text": [
      " 55%|█████▌    | 976/1768 [08:47<05:25,  2.44it/s]"
     ]
    },
    {
     "name": "stdout",
     "output_type": "stream",
     "text": [
      "Image and info_dict saved for 8e584ce1935cac6708d5032cd3f01dcb_0 in /Volumes/Newsmy/FM_dataset/VinDr-Mammo-finding/Train/8e584ce1935cac6708d5032cd3f01dcb_0\n"
     ]
    },
    {
     "name": "stderr",
     "output_type": "stream",
     "text": [
      " 55%|█████▌    | 977/1768 [08:47<05:58,  2.21it/s]"
     ]
    },
    {
     "name": "stdout",
     "output_type": "stream",
     "text": [
      "Image and info_dict saved for 8ed0618edab59a40763a118c052a52ba_0 in /Volumes/Newsmy/FM_dataset/VinDr-Mammo-finding/Train/8ed0618edab59a40763a118c052a52ba_0\n",
      "Image and info_dict saved for 8ed0618edab59a40763a118c052a52ba_1 in /Volumes/Newsmy/FM_dataset/VinDr-Mammo-finding/Train/8ed0618edab59a40763a118c052a52ba_1\n"
     ]
    },
    {
     "name": "stderr",
     "output_type": "stream",
     "text": [
      " 55%|█████▌    | 978/1768 [08:48<06:30,  2.02it/s]"
     ]
    },
    {
     "name": "stdout",
     "output_type": "stream",
     "text": [
      "Image and info_dict saved for 8ee444c21b4152204f05ef7b5358005f_0 in /Volumes/Newsmy/FM_dataset/VinDr-Mammo-finding/Train/8ee444c21b4152204f05ef7b5358005f_0\n"
     ]
    },
    {
     "name": "stderr",
     "output_type": "stream",
     "text": [
      " 55%|█████▌    | 979/1768 [08:49<06:25,  2.05it/s]"
     ]
    },
    {
     "name": "stdout",
     "output_type": "stream",
     "text": [
      "Image and info_dict saved for 8eed7b3d4c763c31166d57365bf51ec0_0 in /Volumes/Newsmy/FM_dataset/VinDr-Mammo-finding/Train/8eed7b3d4c763c31166d57365bf51ec0_0\n"
     ]
    },
    {
     "name": "stderr",
     "output_type": "stream",
     "text": [
      " 55%|█████▌    | 980/1768 [08:49<06:11,  2.12it/s]"
     ]
    },
    {
     "name": "stdout",
     "output_type": "stream",
     "text": [
      "Image and info_dict saved for 8f4ef2e7f055570b445c64a5ad23b0bd_0 in /Volumes/Newsmy/FM_dataset/VinDr-Mammo-finding/Train/8f4ef2e7f055570b445c64a5ad23b0bd_0\n"
     ]
    },
    {
     "name": "stderr",
     "output_type": "stream",
     "text": [
      " 55%|█████▌    | 981/1768 [08:49<06:03,  2.17it/s]"
     ]
    },
    {
     "name": "stdout",
     "output_type": "stream",
     "text": [
      "Image and info_dict saved for 8f654b8d214b8879b67581646abe35c5_0 in /Volumes/Newsmy/FM_dataset/VinDr-Mammo-finding/Train/8f654b8d214b8879b67581646abe35c5_0\n"
     ]
    },
    {
     "name": "stderr",
     "output_type": "stream",
     "text": [
      " 56%|█████▌    | 982/1768 [08:50<06:13,  2.10it/s]"
     ]
    },
    {
     "name": "stdout",
     "output_type": "stream",
     "text": [
      "Image and info_dict saved for 8f7a74bfa165aab965cf57eb16bbae42_0 in /Volumes/Newsmy/FM_dataset/VinDr-Mammo-finding/Eval/8f7a74bfa165aab965cf57eb16bbae42_0\n"
     ]
    },
    {
     "name": "stderr",
     "output_type": "stream",
     "text": [
      " 56%|█████▌    | 983/1768 [08:50<06:22,  2.05it/s]"
     ]
    },
    {
     "name": "stdout",
     "output_type": "stream",
     "text": [
      "Image and info_dict saved for 8f7ffe31b78dbfe056bb3c6be5a844db_0 in /Volumes/Newsmy/FM_dataset/VinDr-Mammo-finding/Train/8f7ffe31b78dbfe056bb3c6be5a844db_0\n"
     ]
    },
    {
     "name": "stderr",
     "output_type": "stream",
     "text": [
      " 56%|█████▌    | 984/1768 [08:51<06:11,  2.11it/s]"
     ]
    },
    {
     "name": "stdout",
     "output_type": "stream",
     "text": [
      "Image and info_dict saved for 8f8085144056fda42cb3ce312b5c4241_0 in /Volumes/Newsmy/FM_dataset/VinDr-Mammo-finding/Train/8f8085144056fda42cb3ce312b5c4241_0\n"
     ]
    },
    {
     "name": "stderr",
     "output_type": "stream",
     "text": [
      " 56%|█████▌    | 985/1768 [08:51<06:23,  2.04it/s]"
     ]
    },
    {
     "name": "stdout",
     "output_type": "stream",
     "text": [
      "Image and info_dict saved for 8f8b8753a20d498f979730a9388ccdbd_0 in /Volumes/Newsmy/FM_dataset/VinDr-Mammo-finding/Train/8f8b8753a20d498f979730a9388ccdbd_0\n"
     ]
    },
    {
     "name": "stderr",
     "output_type": "stream",
     "text": [
      " 56%|█████▌    | 986/1768 [08:52<06:02,  2.16it/s]"
     ]
    },
    {
     "name": "stdout",
     "output_type": "stream",
     "text": [
      "Image and info_dict saved for 8f8f85ba3c6645915c5349f6a6d5a875_0 in /Volumes/Newsmy/FM_dataset/VinDr-Mammo-finding/Train/8f8f85ba3c6645915c5349f6a6d5a875_0\n"
     ]
    },
    {
     "name": "stderr",
     "output_type": "stream",
     "text": [
      " 56%|█████▌    | 987/1768 [08:52<06:11,  2.10it/s]"
     ]
    },
    {
     "name": "stdout",
     "output_type": "stream",
     "text": [
      "Image and info_dict saved for 8fb613d708077bd1d64b7e4302b6e920_0 in /Volumes/Newsmy/FM_dataset/VinDr-Mammo-finding/Train/8fb613d708077bd1d64b7e4302b6e920_0\n"
     ]
    },
    {
     "name": "stderr",
     "output_type": "stream",
     "text": [
      " 56%|█████▌    | 988/1768 [08:53<06:14,  2.08it/s]"
     ]
    },
    {
     "name": "stdout",
     "output_type": "stream",
     "text": [
      "Image and info_dict saved for 8fcd78aec5f1cbbc380dd84ea71822f8_0 in /Volumes/Newsmy/FM_dataset/VinDr-Mammo-finding/Train/8fcd78aec5f1cbbc380dd84ea71822f8_0\n"
     ]
    },
    {
     "name": "stderr",
     "output_type": "stream",
     "text": [
      " 56%|█████▌    | 989/1768 [08:53<06:37,  1.96it/s]"
     ]
    },
    {
     "name": "stdout",
     "output_type": "stream",
     "text": [
      "Image and info_dict saved for 900321b9125556ca81cbe319ddea5110_0 in /Volumes/Newsmy/FM_dataset/VinDr-Mammo-finding/Train/900321b9125556ca81cbe319ddea5110_0\n"
     ]
    },
    {
     "name": "stderr",
     "output_type": "stream",
     "text": [
      " 56%|█████▌    | 990/1768 [08:54<06:27,  2.01it/s]"
     ]
    },
    {
     "name": "stdout",
     "output_type": "stream",
     "text": [
      "Image and info_dict saved for 9006ed5cd2f901f8e40348246c0f3f3b_0 in /Volumes/Newsmy/FM_dataset/VinDr-Mammo-finding/Train/9006ed5cd2f901f8e40348246c0f3f3b_0\n"
     ]
    },
    {
     "name": "stderr",
     "output_type": "stream",
     "text": [
      " 56%|█████▌    | 991/1768 [08:54<06:26,  2.01it/s]"
     ]
    },
    {
     "name": "stdout",
     "output_type": "stream",
     "text": [
      "Image and info_dict saved for 900736c288a600cd2674132e9e4ef2ff_0 in /Volumes/Newsmy/FM_dataset/VinDr-Mammo-finding/Test/900736c288a600cd2674132e9e4ef2ff_0\n",
      "Image and info_dict saved for 9076323f4b661b4b57a9229b869c62c7_0 in /Volumes/Newsmy/FM_dataset/VinDr-Mammo-finding/Train/9076323f4b661b4b57a9229b869c62c7_0\n",
      "Image and info_dict saved for 9076323f4b661b4b57a9229b869c62c7_1 in /Volumes/Newsmy/FM_dataset/VinDr-Mammo-finding/Train/9076323f4b661b4b57a9229b869c62c7_1\n"
     ]
    },
    {
     "name": "stderr",
     "output_type": "stream",
     "text": [
      " 56%|█████▌    | 992/1768 [08:55<08:04,  1.60it/s]"
     ]
    },
    {
     "name": "stdout",
     "output_type": "stream",
     "text": [
      "Image and info_dict saved for 9076323f4b661b4b57a9229b869c62c7_2 in /Volumes/Newsmy/FM_dataset/VinDr-Mammo-finding/Train/9076323f4b661b4b57a9229b869c62c7_2\n",
      "Image and info_dict saved for 9076323f4b661b4b57a9229b869c62c7_3 in /Volumes/Newsmy/FM_dataset/VinDr-Mammo-finding/Train/9076323f4b661b4b57a9229b869c62c7_3\n"
     ]
    },
    {
     "name": "stderr",
     "output_type": "stream",
     "text": [
      " 56%|█████▌    | 993/1768 [08:56<08:17,  1.56it/s]"
     ]
    },
    {
     "name": "stdout",
     "output_type": "stream",
     "text": [
      "Image and info_dict saved for 91129ba49b0aa5e1ef0459e03e605ab2_0 in /Volumes/Newsmy/FM_dataset/VinDr-Mammo-finding/Train/91129ba49b0aa5e1ef0459e03e605ab2_0\n"
     ]
    },
    {
     "name": "stderr",
     "output_type": "stream",
     "text": [
      " 56%|█████▌    | 994/1768 [08:56<07:39,  1.69it/s]"
     ]
    },
    {
     "name": "stdout",
     "output_type": "stream",
     "text": [
      "Image and info_dict saved for 917eb2a5ade30f76921a19064b61377c_0 in /Volumes/Newsmy/FM_dataset/VinDr-Mammo-finding/Train/917eb2a5ade30f76921a19064b61377c_0\n"
     ]
    },
    {
     "name": "stderr",
     "output_type": "stream",
     "text": [
      " 56%|█████▋    | 995/1768 [08:57<07:49,  1.65it/s]"
     ]
    },
    {
     "name": "stdout",
     "output_type": "stream",
     "text": [
      "Image and info_dict saved for 91a74a211bf969a3f1493ab5c65ec761_0 in /Volumes/Newsmy/FM_dataset/VinDr-Mammo-finding/Train/91a74a211bf969a3f1493ab5c65ec761_0\n",
      "Image and info_dict saved for 91a74a211bf969a3f1493ab5c65ec761_1 in /Volumes/Newsmy/FM_dataset/VinDr-Mammo-finding/Train/91a74a211bf969a3f1493ab5c65ec761_1\n"
     ]
    },
    {
     "name": "stderr",
     "output_type": "stream",
     "text": [
      " 56%|█████▋    | 996/1768 [08:58<07:31,  1.71it/s]"
     ]
    },
    {
     "name": "stdout",
     "output_type": "stream",
     "text": [
      "Image and info_dict saved for 91c595ab22a73f5a0ae616cdf9e0d1c2_0 in /Volumes/Newsmy/FM_dataset/VinDr-Mammo-finding/Train/91c595ab22a73f5a0ae616cdf9e0d1c2_0\n"
     ]
    },
    {
     "name": "stderr",
     "output_type": "stream",
     "text": [
      " 56%|█████▋    | 997/1768 [08:58<06:50,  1.88it/s]"
     ]
    },
    {
     "name": "stdout",
     "output_type": "stream",
     "text": [
      "Image and info_dict saved for 91e6da7cb97216fc732bc777b9f5a4c0_0 in /Volumes/Newsmy/FM_dataset/VinDr-Mammo-finding/Train/91e6da7cb97216fc732bc777b9f5a4c0_0\n"
     ]
    },
    {
     "name": "stderr",
     "output_type": "stream",
     "text": [
      " 56%|█████▋    | 998/1768 [08:58<06:38,  1.93it/s]"
     ]
    },
    {
     "name": "stdout",
     "output_type": "stream",
     "text": [
      "Image and info_dict saved for 91f01e407f632c7d2370e5dd106f1c85_0 in /Volumes/Newsmy/FM_dataset/VinDr-Mammo-finding/Train/91f01e407f632c7d2370e5dd106f1c85_0\n"
     ]
    },
    {
     "name": "stderr",
     "output_type": "stream",
     "text": [
      " 57%|█████▋    | 999/1768 [08:59<06:22,  2.01it/s]"
     ]
    },
    {
     "name": "stdout",
     "output_type": "stream",
     "text": [
      "Image and info_dict saved for 91f8118d5aad4eaa03d93e7c125ef241_0 in /Volumes/Newsmy/FM_dataset/VinDr-Mammo-finding/Test/91f8118d5aad4eaa03d93e7c125ef241_0\n"
     ]
    },
    {
     "name": "stderr",
     "output_type": "stream",
     "text": [
      " 57%|█████▋    | 1000/1768 [08:59<06:03,  2.11it/s]"
     ]
    },
    {
     "name": "stdout",
     "output_type": "stream",
     "text": [
      "Image and info_dict saved for 922a9c30e31806274c342ef5ce566be8_0 in /Volumes/Newsmy/FM_dataset/VinDr-Mammo-finding/Test/922a9c30e31806274c342ef5ce566be8_0\n"
     ]
    },
    {
     "name": "stderr",
     "output_type": "stream",
     "text": [
      " 57%|█████▋    | 1001/1768 [09:00<06:16,  2.04it/s]"
     ]
    },
    {
     "name": "stdout",
     "output_type": "stream",
     "text": [
      "Image and info_dict saved for 92465209061a5e8c343c5fcaa70ac220_0 in /Volumes/Newsmy/FM_dataset/VinDr-Mammo-finding/Eval/92465209061a5e8c343c5fcaa70ac220_0\n"
     ]
    },
    {
     "name": "stderr",
     "output_type": "stream",
     "text": [
      " 57%|█████▋    | 1002/1768 [09:00<05:42,  2.23it/s]"
     ]
    },
    {
     "name": "stdout",
     "output_type": "stream",
     "text": [
      "Image and info_dict saved for 925d349f7ed58f46aab52f42bde3098f_0 in /Volumes/Newsmy/FM_dataset/VinDr-Mammo-finding/Test/925d349f7ed58f46aab52f42bde3098f_0\n"
     ]
    },
    {
     "name": "stderr",
     "output_type": "stream",
     "text": [
      " 57%|█████▋    | 1003/1768 [09:01<06:02,  2.11it/s]"
     ]
    },
    {
     "name": "stdout",
     "output_type": "stream",
     "text": [
      "Image and info_dict saved for 9274903604cdea35cd1e4cb460a510ae_0 in /Volumes/Newsmy/FM_dataset/VinDr-Mammo-finding/Train/9274903604cdea35cd1e4cb460a510ae_0\n"
     ]
    },
    {
     "name": "stderr",
     "output_type": "stream",
     "text": [
      " 57%|█████▋    | 1004/1768 [09:01<05:51,  2.17it/s]"
     ]
    },
    {
     "name": "stdout",
     "output_type": "stream",
     "text": [
      "Image and info_dict saved for 92822f55b4e5dd81f78d3544eee96174_0 in /Volumes/Newsmy/FM_dataset/VinDr-Mammo-finding/Train/92822f55b4e5dd81f78d3544eee96174_0\n"
     ]
    },
    {
     "name": "stderr",
     "output_type": "stream",
     "text": [
      " 57%|█████▋    | 1005/1768 [09:02<06:00,  2.12it/s]"
     ]
    },
    {
     "name": "stdout",
     "output_type": "stream",
     "text": [
      "Image and info_dict saved for 9330f08b02db571dcfd55ddffeb66189_0 in /Volumes/Newsmy/FM_dataset/VinDr-Mammo-finding/Test/9330f08b02db571dcfd55ddffeb66189_0\n",
      "Image and info_dict saved for 9330f08b02db571dcfd55ddffeb66189_1 in /Volumes/Newsmy/FM_dataset/VinDr-Mammo-finding/Test/9330f08b02db571dcfd55ddffeb66189_1\n"
     ]
    },
    {
     "name": "stderr",
     "output_type": "stream",
     "text": [
      " 57%|█████▋    | 1006/1768 [09:02<06:00,  2.11it/s]"
     ]
    },
    {
     "name": "stdout",
     "output_type": "stream",
     "text": [
      "Image and info_dict saved for 9369ffac7266935ad270d1221b11b06d_0 in /Volumes/Newsmy/FM_dataset/VinDr-Mammo-finding/Train/9369ffac7266935ad270d1221b11b06d_0\n"
     ]
    },
    {
     "name": "stderr",
     "output_type": "stream",
     "text": [
      " 57%|█████▋    | 1007/1768 [09:03<06:39,  1.91it/s]"
     ]
    },
    {
     "name": "stdout",
     "output_type": "stream",
     "text": [
      "Image and info_dict saved for 93960b56ba5808e9047aff73cf9b0762_0 in /Volumes/Newsmy/FM_dataset/VinDr-Mammo-finding/Test/93960b56ba5808e9047aff73cf9b0762_0\n",
      "Image and info_dict saved for 93960b56ba5808e9047aff73cf9b0762_1 in /Volumes/Newsmy/FM_dataset/VinDr-Mammo-finding/Test/93960b56ba5808e9047aff73cf9b0762_1\n"
     ]
    },
    {
     "name": "stderr",
     "output_type": "stream",
     "text": [
      " 57%|█████▋    | 1008/1768 [09:03<06:28,  1.96it/s]"
     ]
    },
    {
     "name": "stdout",
     "output_type": "stream",
     "text": [
      "Image and info_dict saved for 93b093d402f958461c9e47d986618228_0 in /Volumes/Newsmy/FM_dataset/VinDr-Mammo-finding/Train/93b093d402f958461c9e47d986618228_0\n",
      "Image and info_dict saved for 93d73dcc375beef7317418682953cb2d_0 in /Volumes/Newsmy/FM_dataset/VinDr-Mammo-finding/Train/93d73dcc375beef7317418682953cb2d_0\n",
      "Image and info_dict saved for 93d73dcc375beef7317418682953cb2d_1 in /Volumes/Newsmy/FM_dataset/VinDr-Mammo-finding/Train/93d73dcc375beef7317418682953cb2d_1\n"
     ]
    },
    {
     "name": "stderr",
     "output_type": "stream",
     "text": [
      " 57%|█████▋    | 1009/1768 [09:04<07:33,  1.67it/s]"
     ]
    },
    {
     "name": "stdout",
     "output_type": "stream",
     "text": [
      "Image and info_dict saved for 93d73dcc375beef7317418682953cb2d_2 in /Volumes/Newsmy/FM_dataset/VinDr-Mammo-finding/Train/93d73dcc375beef7317418682953cb2d_2\n",
      "Image and info_dict saved for 93d73dcc375beef7317418682953cb2d_3 in /Volumes/Newsmy/FM_dataset/VinDr-Mammo-finding/Train/93d73dcc375beef7317418682953cb2d_3\n"
     ]
    },
    {
     "name": "stderr",
     "output_type": "stream",
     "text": [
      " 57%|█████▋    | 1010/1768 [09:05<07:14,  1.74it/s]"
     ]
    },
    {
     "name": "stdout",
     "output_type": "stream",
     "text": [
      "Image and info_dict saved for 93e32b8e29a6ab2c5d2201ca53242efd_0 in /Volumes/Newsmy/FM_dataset/VinDr-Mammo-finding/Train/93e32b8e29a6ab2c5d2201ca53242efd_0\n"
     ]
    },
    {
     "name": "stderr",
     "output_type": "stream",
     "text": [
      " 57%|█████▋    | 1011/1768 [09:05<07:51,  1.61it/s]"
     ]
    },
    {
     "name": "stdout",
     "output_type": "stream",
     "text": [
      "Image and info_dict saved for 93ed0aed7d5768f948fcc46861b4123e_0 in /Volumes/Newsmy/FM_dataset/VinDr-Mammo-finding/Train/93ed0aed7d5768f948fcc46861b4123e_0\n",
      "Image and info_dict saved for 93ed0aed7d5768f948fcc46861b4123e_1 in /Volumes/Newsmy/FM_dataset/VinDr-Mammo-finding/Train/93ed0aed7d5768f948fcc46861b4123e_1\n",
      "Image and info_dict saved for 93ed0aed7d5768f948fcc46861b4123e_2 in /Volumes/Newsmy/FM_dataset/VinDr-Mammo-finding/Train/93ed0aed7d5768f948fcc46861b4123e_2\n"
     ]
    },
    {
     "name": "stderr",
     "output_type": "stream",
     "text": [
      " 57%|█████▋    | 1012/1768 [09:06<07:28,  1.69it/s]"
     ]
    },
    {
     "name": "stdout",
     "output_type": "stream",
     "text": [
      "Image and info_dict saved for 941b68f8b8efaca561da90adea3d4760_0 in /Volumes/Newsmy/FM_dataset/VinDr-Mammo-finding/Train/941b68f8b8efaca561da90adea3d4760_0\n"
     ]
    },
    {
     "name": "stderr",
     "output_type": "stream",
     "text": [
      " 57%|█████▋    | 1013/1768 [09:06<07:22,  1.71it/s]"
     ]
    },
    {
     "name": "stdout",
     "output_type": "stream",
     "text": [
      "Image and info_dict saved for 944ae44a56fe698b87f5b435c32b3769_0 in /Volumes/Newsmy/FM_dataset/VinDr-Mammo-finding/Train/944ae44a56fe698b87f5b435c32b3769_0\n"
     ]
    },
    {
     "name": "stderr",
     "output_type": "stream",
     "text": [
      " 57%|█████▋    | 1014/1768 [09:07<07:16,  1.73it/s]"
     ]
    },
    {
     "name": "stdout",
     "output_type": "stream",
     "text": [
      "Image and info_dict saved for 9482a0d32b85123f738360855c2a3a3a_0 in /Volumes/Newsmy/FM_dataset/VinDr-Mammo-finding/Test/9482a0d32b85123f738360855c2a3a3a_0\n"
     ]
    },
    {
     "name": "stderr",
     "output_type": "stream",
     "text": [
      " 57%|█████▋    | 1015/1768 [09:07<06:44,  1.86it/s]"
     ]
    },
    {
     "name": "stdout",
     "output_type": "stream",
     "text": [
      "Image and info_dict saved for 949f01bd6f057e07fe96ca9021dbab48_0 in /Volumes/Newsmy/FM_dataset/VinDr-Mammo-finding/Train/949f01bd6f057e07fe96ca9021dbab48_0\n"
     ]
    },
    {
     "name": "stderr",
     "output_type": "stream",
     "text": [
      " 57%|█████▋    | 1016/1768 [09:08<06:35,  1.90it/s]"
     ]
    },
    {
     "name": "stdout",
     "output_type": "stream",
     "text": [
      "Image and info_dict saved for 94c97744a6dca6a5fc6cbee03bf2bbc2_0 in /Volumes/Newsmy/FM_dataset/VinDr-Mammo-finding/Train/94c97744a6dca6a5fc6cbee03bf2bbc2_0\n"
     ]
    },
    {
     "name": "stderr",
     "output_type": "stream",
     "text": [
      " 58%|█████▊    | 1017/1768 [09:08<06:07,  2.05it/s]"
     ]
    },
    {
     "name": "stdout",
     "output_type": "stream",
     "text": [
      "Image and info_dict saved for 94d8142612eafdc9533dc85e0553c4f8_0 in /Volumes/Newsmy/FM_dataset/VinDr-Mammo-finding/Train/94d8142612eafdc9533dc85e0553c4f8_0\n"
     ]
    },
    {
     "name": "stderr",
     "output_type": "stream",
     "text": [
      " 58%|█████▊    | 1018/1768 [09:09<06:10,  2.03it/s]"
     ]
    },
    {
     "name": "stdout",
     "output_type": "stream",
     "text": [
      "Image and info_dict saved for 94ded0fb1036a6f4f044beba047b8d3a_0 in /Volumes/Newsmy/FM_dataset/VinDr-Mammo-finding/Train/94ded0fb1036a6f4f044beba047b8d3a_0\n"
     ]
    },
    {
     "name": "stderr",
     "output_type": "stream",
     "text": [
      " 58%|█████▊    | 1019/1768 [09:09<06:40,  1.87it/s]"
     ]
    },
    {
     "name": "stdout",
     "output_type": "stream",
     "text": [
      "Image and info_dict saved for 94e4d888c947abda8f191f8f74e5d7bc_0 in /Volumes/Newsmy/FM_dataset/VinDr-Mammo-finding/Eval/94e4d888c947abda8f191f8f74e5d7bc_0\n",
      "Image and info_dict saved for 94e4d888c947abda8f191f8f74e5d7bc_1 in /Volumes/Newsmy/FM_dataset/VinDr-Mammo-finding/Eval/94e4d888c947abda8f191f8f74e5d7bc_1\n"
     ]
    },
    {
     "name": "stderr",
     "output_type": "stream",
     "text": [
      " 58%|█████▊    | 1020/1768 [09:10<08:14,  1.51it/s]"
     ]
    },
    {
     "name": "stdout",
     "output_type": "stream",
     "text": [
      "Image and info_dict saved for 94e81289c5b5678e4b6e4017e1296121_0 in /Volumes/Newsmy/FM_dataset/VinDr-Mammo-finding/Train/94e81289c5b5678e4b6e4017e1296121_0\n",
      "Image and info_dict saved for 94e81289c5b5678e4b6e4017e1296121_1 in /Volumes/Newsmy/FM_dataset/VinDr-Mammo-finding/Train/94e81289c5b5678e4b6e4017e1296121_1\n"
     ]
    },
    {
     "name": "stderr",
     "output_type": "stream",
     "text": [
      " 58%|█████▊    | 1021/1768 [09:11<07:18,  1.70it/s]"
     ]
    },
    {
     "name": "stdout",
     "output_type": "stream",
     "text": [
      "Image and info_dict saved for 9508a566bd26310dfcd48999a16e3701_0 in /Volumes/Newsmy/FM_dataset/VinDr-Mammo-finding/Eval/9508a566bd26310dfcd48999a16e3701_0\n"
     ]
    },
    {
     "name": "stderr",
     "output_type": "stream",
     "text": [
      " 58%|█████▊    | 1022/1768 [09:11<07:14,  1.72it/s]"
     ]
    },
    {
     "name": "stdout",
     "output_type": "stream",
     "text": [
      "Image and info_dict saved for 9515868b0e0de7195161d62e0f580dcc_0 in /Volumes/Newsmy/FM_dataset/VinDr-Mammo-finding/Train/9515868b0e0de7195161d62e0f580dcc_0\n",
      "Image and info_dict saved for 952db864c34b4f02eeabc1559fda2058_0 in /Volumes/Newsmy/FM_dataset/VinDr-Mammo-finding/Train/952db864c34b4f02eeabc1559fda2058_0\n",
      "Image and info_dict saved for 952db864c34b4f02eeabc1559fda2058_1 in /Volumes/Newsmy/FM_dataset/VinDr-Mammo-finding/Train/952db864c34b4f02eeabc1559fda2058_1\n",
      "Image and info_dict saved for 952db864c34b4f02eeabc1559fda2058_2 in /Volumes/Newsmy/FM_dataset/VinDr-Mammo-finding/Train/952db864c34b4f02eeabc1559fda2058_2\n",
      "Image and info_dict saved for 952db864c34b4f02eeabc1559fda2058_3 in /Volumes/Newsmy/FM_dataset/VinDr-Mammo-finding/Train/952db864c34b4f02eeabc1559fda2058_3\n"
     ]
    },
    {
     "name": "stderr",
     "output_type": "stream",
     "text": [
      " 58%|█████▊    | 1023/1768 [09:12<08:29,  1.46it/s]"
     ]
    },
    {
     "name": "stdout",
     "output_type": "stream",
     "text": [
      "Image and info_dict saved for 952db864c34b4f02eeabc1559fda2058_4 in /Volumes/Newsmy/FM_dataset/VinDr-Mammo-finding/Train/952db864c34b4f02eeabc1559fda2058_4\n",
      "Image and info_dict saved for 9537edc9696af1f34570b16b81f86f50_0 in /Volumes/Newsmy/FM_dataset/VinDr-Mammo-finding/Test/9537edc9696af1f34570b16b81f86f50_0\n",
      "Image and info_dict saved for 9537edc9696af1f34570b16b81f86f50_1 in /Volumes/Newsmy/FM_dataset/VinDr-Mammo-finding/Test/9537edc9696af1f34570b16b81f86f50_1\n"
     ]
    },
    {
     "name": "stderr",
     "output_type": "stream",
     "text": [
      " 58%|█████▊    | 1024/1768 [09:13<08:50,  1.40it/s]"
     ]
    },
    {
     "name": "stdout",
     "output_type": "stream",
     "text": [
      "Image and info_dict saved for 9537edc9696af1f34570b16b81f86f50_2 in /Volumes/Newsmy/FM_dataset/VinDr-Mammo-finding/Test/9537edc9696af1f34570b16b81f86f50_2\n"
     ]
    },
    {
     "name": "stderr",
     "output_type": "stream",
     "text": [
      " 58%|█████▊    | 1025/1768 [09:14<08:09,  1.52it/s]"
     ]
    },
    {
     "name": "stdout",
     "output_type": "stream",
     "text": [
      "Image and info_dict saved for 9542fd8c2f9230690935e659b491c6de_0 in /Volumes/Newsmy/FM_dataset/VinDr-Mammo-finding/Train/9542fd8c2f9230690935e659b491c6de_0\n",
      "Image and info_dict saved for 9542fd8c2f9230690935e659b491c6de_1 in /Volumes/Newsmy/FM_dataset/VinDr-Mammo-finding/Train/9542fd8c2f9230690935e659b491c6de_1\n"
     ]
    },
    {
     "name": "stderr",
     "output_type": "stream",
     "text": [
      " 58%|█████▊    | 1026/1768 [09:14<07:40,  1.61it/s]"
     ]
    },
    {
     "name": "stdout",
     "output_type": "stream",
     "text": [
      "Image and info_dict saved for 957cc7a5cff85722a69377217521bcb6_0 in /Volumes/Newsmy/FM_dataset/VinDr-Mammo-finding/Train/957cc7a5cff85722a69377217521bcb6_0\n"
     ]
    },
    {
     "name": "stderr",
     "output_type": "stream",
     "text": [
      " 58%|█████▊    | 1027/1768 [09:15<07:03,  1.75it/s]"
     ]
    },
    {
     "name": "stdout",
     "output_type": "stream",
     "text": [
      "Image and info_dict saved for 95b5ceaec8d1517cd69cda4559c4a764_0 in /Volumes/Newsmy/FM_dataset/VinDr-Mammo-finding/Train/95b5ceaec8d1517cd69cda4559c4a764_0\n"
     ]
    },
    {
     "name": "stderr",
     "output_type": "stream",
     "text": [
      " 58%|█████▊    | 1028/1768 [09:15<06:48,  1.81it/s]"
     ]
    },
    {
     "name": "stdout",
     "output_type": "stream",
     "text": [
      "Image and info_dict saved for 95fc8c105d16ac569c2a2ac2966e8c55_0 in /Volumes/Newsmy/FM_dataset/VinDr-Mammo-finding/Train/95fc8c105d16ac569c2a2ac2966e8c55_0\n"
     ]
    },
    {
     "name": "stderr",
     "output_type": "stream",
     "text": [
      " 58%|█████▊    | 1029/1768 [09:16<07:32,  1.63it/s]"
     ]
    },
    {
     "name": "stdout",
     "output_type": "stream",
     "text": [
      "Image and info_dict saved for 961e54f3e891e37cb1081918fad44bf9_0 in /Volumes/Newsmy/FM_dataset/VinDr-Mammo-finding/Train/961e54f3e891e37cb1081918fad44bf9_0\n",
      "Image and info_dict saved for 961e54f3e891e37cb1081918fad44bf9_1 in /Volumes/Newsmy/FM_dataset/VinDr-Mammo-finding/Train/961e54f3e891e37cb1081918fad44bf9_1\n",
      "Image and info_dict saved for 961e54f3e891e37cb1081918fad44bf9_2 in /Volumes/Newsmy/FM_dataset/VinDr-Mammo-finding/Train/961e54f3e891e37cb1081918fad44bf9_2\n"
     ]
    },
    {
     "name": "stderr",
     "output_type": "stream",
     "text": [
      " 58%|█████▊    | 1030/1768 [09:16<07:09,  1.72it/s]"
     ]
    },
    {
     "name": "stdout",
     "output_type": "stream",
     "text": [
      "Image and info_dict saved for 96644e4db54cfd8459a512926a00442d_0 in /Volumes/Newsmy/FM_dataset/VinDr-Mammo-finding/Test/96644e4db54cfd8459a512926a00442d_0\n"
     ]
    },
    {
     "name": "stderr",
     "output_type": "stream",
     "text": [
      " 58%|█████▊    | 1031/1768 [09:17<07:01,  1.75it/s]"
     ]
    },
    {
     "name": "stdout",
     "output_type": "stream",
     "text": [
      "Image and info_dict saved for 96b378f0fbde6e8d9cf37825fb4b29bf_0 in /Volumes/Newsmy/FM_dataset/VinDr-Mammo-finding/Test/96b378f0fbde6e8d9cf37825fb4b29bf_0\n"
     ]
    },
    {
     "name": "stderr",
     "output_type": "stream",
     "text": [
      " 58%|█████▊    | 1032/1768 [09:17<06:40,  1.84it/s]"
     ]
    },
    {
     "name": "stdout",
     "output_type": "stream",
     "text": [
      "Image and info_dict saved for 96cbdda19cf07be8e00db80d3c076e3c_0 in /Volumes/Newsmy/FM_dataset/VinDr-Mammo-finding/Train/96cbdda19cf07be8e00db80d3c076e3c_0\n"
     ]
    },
    {
     "name": "stderr",
     "output_type": "stream",
     "text": [
      " 58%|█████▊    | 1033/1768 [09:18<06:32,  1.87it/s]"
     ]
    },
    {
     "name": "stdout",
     "output_type": "stream",
     "text": [
      "Image and info_dict saved for 96e357bbcd79d39ac782e3ac2b40459b_0 in /Volumes/Newsmy/FM_dataset/VinDr-Mammo-finding/Train/96e357bbcd79d39ac782e3ac2b40459b_0\n"
     ]
    },
    {
     "name": "stderr",
     "output_type": "stream",
     "text": [
      " 58%|█████▊    | 1034/1768 [09:18<06:31,  1.88it/s]"
     ]
    },
    {
     "name": "stdout",
     "output_type": "stream",
     "text": [
      "Image and info_dict saved for 96eb9c4bdf059f2f8da825bfc0a3ba69_0 in /Volumes/Newsmy/FM_dataset/VinDr-Mammo-finding/Train/96eb9c4bdf059f2f8da825bfc0a3ba69_0\n",
      "Image and info_dict saved for 96eb9c4bdf059f2f8da825bfc0a3ba69_1 in /Volumes/Newsmy/FM_dataset/VinDr-Mammo-finding/Train/96eb9c4bdf059f2f8da825bfc0a3ba69_1\n"
     ]
    },
    {
     "name": "stderr",
     "output_type": "stream",
     "text": [
      " 59%|█████▊    | 1035/1768 [09:19<05:56,  2.06it/s]"
     ]
    },
    {
     "name": "stdout",
     "output_type": "stream",
     "text": [
      "Image and info_dict saved for 972165237ce4c410eb9d612a1dc51a43_0 in /Volumes/Newsmy/FM_dataset/VinDr-Mammo-finding/Eval/972165237ce4c410eb9d612a1dc51a43_0\n"
     ]
    },
    {
     "name": "stderr",
     "output_type": "stream",
     "text": [
      " 59%|█████▊    | 1036/1768 [09:19<05:14,  2.33it/s]"
     ]
    },
    {
     "name": "stdout",
     "output_type": "stream",
     "text": [
      "Image and info_dict saved for 978cf66906fa549a263a45a8c091cc3f_0 in /Volumes/Newsmy/FM_dataset/VinDr-Mammo-finding/Train/978cf66906fa549a263a45a8c091cc3f_0\n"
     ]
    },
    {
     "name": "stderr",
     "output_type": "stream",
     "text": [
      " 59%|█████▊    | 1037/1768 [09:20<05:24,  2.26it/s]"
     ]
    },
    {
     "name": "stdout",
     "output_type": "stream",
     "text": [
      "Image and info_dict saved for 97967ba10195dfcc97e066919b33c43f_0 in /Volumes/Newsmy/FM_dataset/VinDr-Mammo-finding/Test/97967ba10195dfcc97e066919b33c43f_0\n",
      "Image and info_dict saved for 97b36b94a940b61017d4dd6cbbf5b8fc_0 in /Volumes/Newsmy/FM_dataset/VinDr-Mammo-finding/Test/97b36b94a940b61017d4dd6cbbf5b8fc_0\n"
     ]
    },
    {
     "name": "stderr",
     "output_type": "stream",
     "text": [
      " 59%|█████▊    | 1038/1768 [09:20<05:41,  2.14it/s]"
     ]
    },
    {
     "name": "stdout",
     "output_type": "stream",
     "text": [
      "Image and info_dict saved for 97b36b94a940b61017d4dd6cbbf5b8fc_1 in /Volumes/Newsmy/FM_dataset/VinDr-Mammo-finding/Test/97b36b94a940b61017d4dd6cbbf5b8fc_1\n"
     ]
    },
    {
     "name": "stderr",
     "output_type": "stream",
     "text": [
      " 59%|█████▉    | 1039/1768 [09:21<05:48,  2.09it/s]"
     ]
    },
    {
     "name": "stdout",
     "output_type": "stream",
     "text": [
      "Image and info_dict saved for 97e90b4336c0cd53630a131837c03f1c_0 in /Volumes/Newsmy/FM_dataset/VinDr-Mammo-finding/Train/97e90b4336c0cd53630a131837c03f1c_0\n"
     ]
    },
    {
     "name": "stderr",
     "output_type": "stream",
     "text": [
      " 59%|█████▉    | 1040/1768 [09:21<05:58,  2.03it/s]"
     ]
    },
    {
     "name": "stdout",
     "output_type": "stream",
     "text": [
      "Image and info_dict saved for 98131e65edd96a955fd4dd13a3281996_0 in /Volumes/Newsmy/FM_dataset/VinDr-Mammo-finding/Train/98131e65edd96a955fd4dd13a3281996_0\n"
     ]
    },
    {
     "name": "stderr",
     "output_type": "stream",
     "text": [
      " 59%|█████▉    | 1041/1768 [09:22<07:42,  1.57it/s]"
     ]
    },
    {
     "name": "stdout",
     "output_type": "stream",
     "text": [
      "Image and info_dict saved for 98325e2b9e96c4423e9818411a7a862f_0 in /Volumes/Newsmy/FM_dataset/VinDr-Mammo-finding/Train/98325e2b9e96c4423e9818411a7a862f_0\n"
     ]
    },
    {
     "name": "stderr",
     "output_type": "stream",
     "text": [
      " 59%|█████▉    | 1042/1768 [09:23<08:20,  1.45it/s]"
     ]
    },
    {
     "name": "stdout",
     "output_type": "stream",
     "text": [
      "Image and info_dict saved for 984d290c15646f9113498a06d0a87b3c_0 in /Volumes/Newsmy/FM_dataset/VinDr-Mammo-finding/Eval/984d290c15646f9113498a06d0a87b3c_0\n"
     ]
    },
    {
     "name": "stderr",
     "output_type": "stream",
     "text": [
      " 59%|█████▉    | 1043/1768 [09:24<08:25,  1.43it/s]"
     ]
    },
    {
     "name": "stdout",
     "output_type": "stream",
     "text": [
      "Image and info_dict saved for 9885ede01e60756028ae87eea39d4cc1_0 in /Volumes/Newsmy/FM_dataset/VinDr-Mammo-finding/Train/9885ede01e60756028ae87eea39d4cc1_0\n"
     ]
    },
    {
     "name": "stderr",
     "output_type": "stream",
     "text": [
      " 59%|█████▉    | 1044/1768 [09:24<07:16,  1.66it/s]"
     ]
    },
    {
     "name": "stdout",
     "output_type": "stream",
     "text": [
      "Image and info_dict saved for 98905ad2de4a20e08b33db83b0184003_0 in /Volumes/Newsmy/FM_dataset/VinDr-Mammo-finding/Test/98905ad2de4a20e08b33db83b0184003_0\n"
     ]
    },
    {
     "name": "stderr",
     "output_type": "stream",
     "text": [
      " 59%|█████▉    | 1045/1768 [09:25<06:57,  1.73it/s]"
     ]
    },
    {
     "name": "stdout",
     "output_type": "stream",
     "text": [
      "Image and info_dict saved for 98d192022b9699c10cb56f9c7487b5f9_0 in /Volumes/Newsmy/FM_dataset/VinDr-Mammo-finding/Train/98d192022b9699c10cb56f9c7487b5f9_0\n"
     ]
    },
    {
     "name": "stderr",
     "output_type": "stream",
     "text": [
      " 59%|█████▉    | 1046/1768 [09:25<06:35,  1.83it/s]"
     ]
    },
    {
     "name": "stdout",
     "output_type": "stream",
     "text": [
      "Image and info_dict saved for 98d9121596f36834a1de8441d0aab483_0 in /Volumes/Newsmy/FM_dataset/VinDr-Mammo-finding/Train/98d9121596f36834a1de8441d0aab483_0\n"
     ]
    },
    {
     "name": "stderr",
     "output_type": "stream",
     "text": [
      " 59%|█████▉    | 1047/1768 [09:26<06:15,  1.92it/s]"
     ]
    },
    {
     "name": "stdout",
     "output_type": "stream",
     "text": [
      "Image and info_dict saved for 98eb0445d9d24e3eaddd9e244441ca1d_0 in /Volumes/Newsmy/FM_dataset/VinDr-Mammo-finding/Train/98eb0445d9d24e3eaddd9e244441ca1d_0\n"
     ]
    },
    {
     "name": "stderr",
     "output_type": "stream",
     "text": [
      " 59%|█████▉    | 1048/1768 [09:26<05:59,  2.00it/s]"
     ]
    },
    {
     "name": "stdout",
     "output_type": "stream",
     "text": [
      "Image and info_dict saved for 991ef61ff40bcdce779998db52b2d317_0 in /Volumes/Newsmy/FM_dataset/VinDr-Mammo-finding/Train/991ef61ff40bcdce779998db52b2d317_0\n"
     ]
    },
    {
     "name": "stderr",
     "output_type": "stream",
     "text": [
      " 59%|█████▉    | 1049/1768 [09:27<06:02,  1.98it/s]"
     ]
    },
    {
     "name": "stdout",
     "output_type": "stream",
     "text": [
      "Image and info_dict saved for 997e15346547ff56b4209ac73e74556f_0 in /Volumes/Newsmy/FM_dataset/VinDr-Mammo-finding/Train/997e15346547ff56b4209ac73e74556f_0\n",
      "Image and info_dict saved for 9992a1941e974a38b391b2a5fa78e6c6_0 in /Volumes/Newsmy/FM_dataset/VinDr-Mammo-finding/Test/9992a1941e974a38b391b2a5fa78e6c6_0\n",
      "Image and info_dict saved for 9992a1941e974a38b391b2a5fa78e6c6_1 in /Volumes/Newsmy/FM_dataset/VinDr-Mammo-finding/Test/9992a1941e974a38b391b2a5fa78e6c6_1\n"
     ]
    },
    {
     "name": "stderr",
     "output_type": "stream",
     "text": [
      " 59%|█████▉    | 1050/1768 [09:27<07:24,  1.62it/s]"
     ]
    },
    {
     "name": "stdout",
     "output_type": "stream",
     "text": [
      "Image and info_dict saved for 9992a1941e974a38b391b2a5fa78e6c6_2 in /Volumes/Newsmy/FM_dataset/VinDr-Mammo-finding/Test/9992a1941e974a38b391b2a5fa78e6c6_2\n",
      "Image and info_dict saved for 9992a1941e974a38b391b2a5fa78e6c6_3 in /Volumes/Newsmy/FM_dataset/VinDr-Mammo-finding/Test/9992a1941e974a38b391b2a5fa78e6c6_3\n"
     ]
    },
    {
     "name": "stderr",
     "output_type": "stream",
     "text": [
      " 59%|█████▉    | 1051/1768 [09:28<06:59,  1.71it/s]"
     ]
    },
    {
     "name": "stdout",
     "output_type": "stream",
     "text": [
      "Image and info_dict saved for 99afa546c964312caccb304f5e8f7a15_0 in /Volumes/Newsmy/FM_dataset/VinDr-Mammo-finding/Test/99afa546c964312caccb304f5e8f7a15_0\n"
     ]
    },
    {
     "name": "stderr",
     "output_type": "stream",
     "text": [
      " 60%|█████▉    | 1052/1768 [09:28<06:55,  1.72it/s]"
     ]
    },
    {
     "name": "stdout",
     "output_type": "stream",
     "text": [
      "Image and info_dict saved for 99b304a3e368041ed3674dd654c6cf8c_0 in /Volumes/Newsmy/FM_dataset/VinDr-Mammo-finding/Train/99b304a3e368041ed3674dd654c6cf8c_0\n"
     ]
    },
    {
     "name": "stderr",
     "output_type": "stream",
     "text": [
      " 60%|█████▉    | 1053/1768 [09:29<06:21,  1.87it/s]"
     ]
    },
    {
     "name": "stdout",
     "output_type": "stream",
     "text": [
      "Image and info_dict saved for 99d781b9baba5d5efe88149ed8241dd9_0 in /Volumes/Newsmy/FM_dataset/VinDr-Mammo-finding/Train/99d781b9baba5d5efe88149ed8241dd9_0\n"
     ]
    },
    {
     "name": "stderr",
     "output_type": "stream",
     "text": [
      " 60%|█████▉    | 1054/1768 [09:29<06:09,  1.93it/s]"
     ]
    },
    {
     "name": "stdout",
     "output_type": "stream",
     "text": [
      "Image and info_dict saved for 99f560a37e4a4c1d1c95b19436700837_0 in /Volumes/Newsmy/FM_dataset/VinDr-Mammo-finding/Train/99f560a37e4a4c1d1c95b19436700837_0\n"
     ]
    },
    {
     "name": "stderr",
     "output_type": "stream",
     "text": [
      " 60%|█████▉    | 1055/1768 [09:30<05:49,  2.04it/s]"
     ]
    },
    {
     "name": "stdout",
     "output_type": "stream",
     "text": [
      "Image and info_dict saved for 99f5d42f781a68bf912189a86e6503d9_0 in /Volumes/Newsmy/FM_dataset/VinDr-Mammo-finding/Test/99f5d42f781a68bf912189a86e6503d9_0\n"
     ]
    },
    {
     "name": "stderr",
     "output_type": "stream",
     "text": [
      " 60%|█████▉    | 1056/1768 [09:30<05:36,  2.11it/s]"
     ]
    },
    {
     "name": "stdout",
     "output_type": "stream",
     "text": [
      "Image and info_dict saved for 9a343d58d9596b694effdc38d702239a_0 in /Volumes/Newsmy/FM_dataset/VinDr-Mammo-finding/Eval/9a343d58d9596b694effdc38d702239a_0\n"
     ]
    },
    {
     "name": "stderr",
     "output_type": "stream",
     "text": [
      " 60%|█████▉    | 1057/1768 [09:31<05:23,  2.20it/s]"
     ]
    },
    {
     "name": "stdout",
     "output_type": "stream",
     "text": [
      "Image and info_dict saved for 9a88a3e60fb94b5bc30dbde599d7c14f_0 in /Volumes/Newsmy/FM_dataset/VinDr-Mammo-finding/Train/9a88a3e60fb94b5bc30dbde599d7c14f_0\n"
     ]
    },
    {
     "name": "stderr",
     "output_type": "stream",
     "text": [
      " 60%|█████▉    | 1058/1768 [09:31<05:48,  2.03it/s]"
     ]
    },
    {
     "name": "stdout",
     "output_type": "stream",
     "text": [
      "Image and info_dict saved for 9b02648262402328fc7e5bbaf4723a89_0 in /Volumes/Newsmy/FM_dataset/VinDr-Mammo-finding/Train/9b02648262402328fc7e5bbaf4723a89_0\n"
     ]
    },
    {
     "name": "stderr",
     "output_type": "stream",
     "text": [
      " 60%|█████▉    | 1059/1768 [09:32<06:00,  1.97it/s]"
     ]
    },
    {
     "name": "stdout",
     "output_type": "stream",
     "text": [
      "Image and info_dict saved for 9b082dda34fe36504753ca7a1a080153_0 in /Volumes/Newsmy/FM_dataset/VinDr-Mammo-finding/Train/9b082dda34fe36504753ca7a1a080153_0\n",
      "Image and info_dict saved for 9b082dda34fe36504753ca7a1a080153_1 in /Volumes/Newsmy/FM_dataset/VinDr-Mammo-finding/Train/9b082dda34fe36504753ca7a1a080153_1\n"
     ]
    },
    {
     "name": "stderr",
     "output_type": "stream",
     "text": [
      " 60%|█████▉    | 1060/1768 [09:32<05:07,  2.30it/s]"
     ]
    },
    {
     "name": "stdout",
     "output_type": "stream",
     "text": [
      "Image and info_dict saved for 9b0c8fec1bb2354fe1de7eb93c449a96_0 in /Volumes/Newsmy/FM_dataset/VinDr-Mammo-finding/Train/9b0c8fec1bb2354fe1de7eb93c449a96_0\n"
     ]
    },
    {
     "name": "stderr",
     "output_type": "stream",
     "text": [
      " 60%|██████    | 1061/1768 [09:33<05:36,  2.10it/s]"
     ]
    },
    {
     "name": "stdout",
     "output_type": "stream",
     "text": [
      "Image and info_dict saved for 9b128499fd3b3e33f8bfe40db94924c3_0 in /Volumes/Newsmy/FM_dataset/VinDr-Mammo-finding/Train/9b128499fd3b3e33f8bfe40db94924c3_0\n"
     ]
    },
    {
     "name": "stderr",
     "output_type": "stream",
     "text": [
      " 60%|██████    | 1062/1768 [09:33<05:48,  2.03it/s]"
     ]
    },
    {
     "name": "stdout",
     "output_type": "stream",
     "text": [
      "Image and info_dict saved for 9b274ce986284ade0c38bdce2eae1275_0 in /Volumes/Newsmy/FM_dataset/VinDr-Mammo-finding/Test/9b274ce986284ade0c38bdce2eae1275_0\n",
      "Image and info_dict saved for 9b28bca8f8312283e4fd9f093646b04b_0 in /Volumes/Newsmy/FM_dataset/VinDr-Mammo-finding/Train/9b28bca8f8312283e4fd9f093646b04b_0\n",
      "Image and info_dict saved for 9b28bca8f8312283e4fd9f093646b04b_1 in /Volumes/Newsmy/FM_dataset/VinDr-Mammo-finding/Train/9b28bca8f8312283e4fd9f093646b04b_1\n"
     ]
    },
    {
     "name": "stderr",
     "output_type": "stream",
     "text": [
      " 60%|██████    | 1063/1768 [09:34<06:41,  1.76it/s]"
     ]
    },
    {
     "name": "stdout",
     "output_type": "stream",
     "text": [
      "Image and info_dict saved for 9b28bca8f8312283e4fd9f093646b04b_2 in /Volumes/Newsmy/FM_dataset/VinDr-Mammo-finding/Train/9b28bca8f8312283e4fd9f093646b04b_2\n"
     ]
    },
    {
     "name": "stderr",
     "output_type": "stream",
     "text": [
      " 60%|██████    | 1064/1768 [09:34<06:39,  1.76it/s]"
     ]
    },
    {
     "name": "stdout",
     "output_type": "stream",
     "text": [
      "Image and info_dict saved for 9b41ab605b23a804f8891e25b37097fd_0 in /Volumes/Newsmy/FM_dataset/VinDr-Mammo-finding/Test/9b41ab605b23a804f8891e25b37097fd_0\n"
     ]
    },
    {
     "name": "stderr",
     "output_type": "stream",
     "text": [
      " 60%|██████    | 1065/1768 [09:35<06:16,  1.87it/s]"
     ]
    },
    {
     "name": "stdout",
     "output_type": "stream",
     "text": [
      "Image and info_dict saved for 9b86016c01b2566e91962ed6bf78339d_0 in /Volumes/Newsmy/FM_dataset/VinDr-Mammo-finding/Train/9b86016c01b2566e91962ed6bf78339d_0\n"
     ]
    },
    {
     "name": "stderr",
     "output_type": "stream",
     "text": [
      " 60%|██████    | 1066/1768 [09:35<05:54,  1.98it/s]"
     ]
    },
    {
     "name": "stdout",
     "output_type": "stream",
     "text": [
      "Image and info_dict saved for 9b8690a717b92fb8b6019add4e36d26e_0 in /Volumes/Newsmy/FM_dataset/VinDr-Mammo-finding/Train/9b8690a717b92fb8b6019add4e36d26e_0\n"
     ]
    },
    {
     "name": "stderr",
     "output_type": "stream",
     "text": [
      " 60%|██████    | 1067/1768 [09:36<05:38,  2.07it/s]"
     ]
    },
    {
     "name": "stdout",
     "output_type": "stream",
     "text": [
      "Image and info_dict saved for 9ba92f29441854cfcb0c2abc08a013c6_0 in /Volumes/Newsmy/FM_dataset/VinDr-Mammo-finding/Train/9ba92f29441854cfcb0c2abc08a013c6_0\n"
     ]
    },
    {
     "name": "stderr",
     "output_type": "stream",
     "text": [
      " 60%|██████    | 1068/1768 [09:36<06:13,  1.87it/s]"
     ]
    },
    {
     "name": "stdout",
     "output_type": "stream",
     "text": [
      "Image and info_dict saved for 9be8f8e91569f85bf8472c9eacc47753_0 in /Volumes/Newsmy/FM_dataset/VinDr-Mammo-finding/Train/9be8f8e91569f85bf8472c9eacc47753_0\n"
     ]
    },
    {
     "name": "stderr",
     "output_type": "stream",
     "text": [
      " 60%|██████    | 1069/1768 [09:37<07:32,  1.54it/s]"
     ]
    },
    {
     "name": "stdout",
     "output_type": "stream",
     "text": [
      "Image and info_dict saved for 9bfaf5daec30606b515d2c005f29f0dc_0 in /Volumes/Newsmy/FM_dataset/VinDr-Mammo-finding/Train/9bfaf5daec30606b515d2c005f29f0dc_0\n"
     ]
    },
    {
     "name": "stderr",
     "output_type": "stream",
     "text": [
      " 61%|██████    | 1070/1768 [09:38<06:50,  1.70it/s]"
     ]
    },
    {
     "name": "stdout",
     "output_type": "stream",
     "text": [
      "Image and info_dict saved for 9c143665a2afe016d52615e723228dc8_0 in /Volumes/Newsmy/FM_dataset/VinDr-Mammo-finding/Train/9c143665a2afe016d52615e723228dc8_0\n"
     ]
    },
    {
     "name": "stderr",
     "output_type": "stream",
     "text": [
      " 61%|██████    | 1071/1768 [09:38<06:52,  1.69it/s]"
     ]
    },
    {
     "name": "stdout",
     "output_type": "stream",
     "text": [
      "Image and info_dict saved for 9c17baacaeb80482b4ce778e64b792f5_0 in /Volumes/Newsmy/FM_dataset/VinDr-Mammo-finding/Train/9c17baacaeb80482b4ce778e64b792f5_0\n",
      "Image and info_dict saved for 9c17baacaeb80482b4ce778e64b792f5_1 in /Volumes/Newsmy/FM_dataset/VinDr-Mammo-finding/Train/9c17baacaeb80482b4ce778e64b792f5_1\n"
     ]
    },
    {
     "name": "stderr",
     "output_type": "stream",
     "text": [
      " 61%|██████    | 1072/1768 [09:39<06:27,  1.80it/s]"
     ]
    },
    {
     "name": "stdout",
     "output_type": "stream",
     "text": [
      "Image and info_dict saved for 9ca728553d6b22dbce7e5af4eb380424_0 in /Volumes/Newsmy/FM_dataset/VinDr-Mammo-finding/Train/9ca728553d6b22dbce7e5af4eb380424_0\n"
     ]
    },
    {
     "name": "stderr",
     "output_type": "stream",
     "text": [
      " 61%|██████    | 1073/1768 [09:39<06:33,  1.77it/s]"
     ]
    },
    {
     "name": "stdout",
     "output_type": "stream",
     "text": [
      "Image and info_dict saved for 9ccbcb1dc6337f6177f70f03f6815c78_0 in /Volumes/Newsmy/FM_dataset/VinDr-Mammo-finding/Train/9ccbcb1dc6337f6177f70f03f6815c78_0\n"
     ]
    },
    {
     "name": "stderr",
     "output_type": "stream",
     "text": [
      " 61%|██████    | 1074/1768 [09:40<06:27,  1.79it/s]"
     ]
    },
    {
     "name": "stdout",
     "output_type": "stream",
     "text": [
      "Image and info_dict saved for 9ccbdc3148ab9ef203d25d26053cabf1_0 in /Volumes/Newsmy/FM_dataset/VinDr-Mammo-finding/Train/9ccbdc3148ab9ef203d25d26053cabf1_0\n"
     ]
    },
    {
     "name": "stderr",
     "output_type": "stream",
     "text": [
      " 61%|██████    | 1075/1768 [09:40<06:11,  1.86it/s]"
     ]
    },
    {
     "name": "stdout",
     "output_type": "stream",
     "text": [
      "Image and info_dict saved for 9cd3302498c855aa589df212b12524da_0 in /Volumes/Newsmy/FM_dataset/VinDr-Mammo-finding/Eval/9cd3302498c855aa589df212b12524da_0\n"
     ]
    },
    {
     "name": "stderr",
     "output_type": "stream",
     "text": [
      " 61%|██████    | 1076/1768 [09:41<06:23,  1.80it/s]"
     ]
    },
    {
     "name": "stdout",
     "output_type": "stream",
     "text": [
      "Image and info_dict saved for 9cda9b93e5130a856ff7b435ab940e85_0 in /Volumes/Newsmy/FM_dataset/VinDr-Mammo-finding/Train/9cda9b93e5130a856ff7b435ab940e85_0\n"
     ]
    },
    {
     "name": "stderr",
     "output_type": "stream",
     "text": [
      " 61%|██████    | 1077/1768 [09:42<06:26,  1.79it/s]"
     ]
    },
    {
     "name": "stdout",
     "output_type": "stream",
     "text": [
      "Image and info_dict saved for 9ce14208660e0a576713f532e9867557_0 in /Volumes/Newsmy/FM_dataset/VinDr-Mammo-finding/Train/9ce14208660e0a576713f532e9867557_0\n"
     ]
    },
    {
     "name": "stderr",
     "output_type": "stream",
     "text": [
      " 61%|██████    | 1078/1768 [09:42<06:01,  1.91it/s]"
     ]
    },
    {
     "name": "stdout",
     "output_type": "stream",
     "text": [
      "Image and info_dict saved for 9cf1b84dd3c497347156616058d8b11e_0 in /Volumes/Newsmy/FM_dataset/VinDr-Mammo-finding/Train/9cf1b84dd3c497347156616058d8b11e_0\n"
     ]
    },
    {
     "name": "stderr",
     "output_type": "stream",
     "text": [
      " 61%|██████    | 1079/1768 [09:43<05:40,  2.02it/s]"
     ]
    },
    {
     "name": "stdout",
     "output_type": "stream",
     "text": [
      "Image and info_dict saved for 9d88128064cdbc7d426f36da953cebbb_0 in /Volumes/Newsmy/FM_dataset/VinDr-Mammo-finding/Train/9d88128064cdbc7d426f36da953cebbb_0\n"
     ]
    },
    {
     "name": "stderr",
     "output_type": "stream",
     "text": [
      " 61%|██████    | 1080/1768 [09:43<05:45,  1.99it/s]"
     ]
    },
    {
     "name": "stdout",
     "output_type": "stream",
     "text": [
      "Image and info_dict saved for 9da1a5ec0f7bbceeb22ddb3dbbec57d9_0 in /Volumes/Newsmy/FM_dataset/VinDr-Mammo-finding/Train/9da1a5ec0f7bbceeb22ddb3dbbec57d9_0\n"
     ]
    },
    {
     "name": "stderr",
     "output_type": "stream",
     "text": [
      " 61%|██████    | 1081/1768 [09:44<05:54,  1.94it/s]"
     ]
    },
    {
     "name": "stdout",
     "output_type": "stream",
     "text": [
      "Image and info_dict saved for 9dc911bbf82a852387976bad85e7a142_0 in /Volumes/Newsmy/FM_dataset/VinDr-Mammo-finding/Train/9dc911bbf82a852387976bad85e7a142_0\n"
     ]
    },
    {
     "name": "stderr",
     "output_type": "stream",
     "text": [
      " 61%|██████    | 1082/1768 [09:44<06:30,  1.76it/s]"
     ]
    },
    {
     "name": "stdout",
     "output_type": "stream",
     "text": [
      "Image and info_dict saved for 9e25ba10f5cb25613d5181240272c1b5_0 in /Volumes/Newsmy/FM_dataset/VinDr-Mammo-finding/Eval/9e25ba10f5cb25613d5181240272c1b5_0\n"
     ]
    },
    {
     "name": "stderr",
     "output_type": "stream",
     "text": [
      " 61%|██████▏   | 1083/1768 [09:45<05:45,  1.98it/s]"
     ]
    },
    {
     "name": "stdout",
     "output_type": "stream",
     "text": [
      "Image and info_dict saved for 9e4bc855fbb17bfb00ee212112c69137_0 in /Volumes/Newsmy/FM_dataset/VinDr-Mammo-finding/Train/9e4bc855fbb17bfb00ee212112c69137_0\n"
     ]
    },
    {
     "name": "stderr",
     "output_type": "stream",
     "text": [
      " 61%|██████▏   | 1084/1768 [09:45<05:35,  2.04it/s]"
     ]
    },
    {
     "name": "stdout",
     "output_type": "stream",
     "text": [
      "Image and info_dict saved for 9ea9d05c4f2b57688f04257d9b9b6ab5_0 in /Volumes/Newsmy/FM_dataset/VinDr-Mammo-finding/Test/9ea9d05c4f2b57688f04257d9b9b6ab5_0\n"
     ]
    },
    {
     "name": "stderr",
     "output_type": "stream",
     "text": [
      " 61%|██████▏   | 1085/1768 [09:46<05:54,  1.93it/s]"
     ]
    },
    {
     "name": "stdout",
     "output_type": "stream",
     "text": [
      "Image and info_dict saved for 9eabb54954fc44682ff3330aa877baf9_0 in /Volumes/Newsmy/FM_dataset/VinDr-Mammo-finding/Train/9eabb54954fc44682ff3330aa877baf9_0\n"
     ]
    },
    {
     "name": "stderr",
     "output_type": "stream",
     "text": [
      " 61%|██████▏   | 1086/1768 [09:46<05:45,  1.97it/s]"
     ]
    },
    {
     "name": "stdout",
     "output_type": "stream",
     "text": [
      "Image and info_dict saved for 9eac03525ce74859de0f3643d611ef78_0 in /Volumes/Newsmy/FM_dataset/VinDr-Mammo-finding/Test/9eac03525ce74859de0f3643d611ef78_0\n"
     ]
    },
    {
     "name": "stderr",
     "output_type": "stream",
     "text": [
      " 61%|██████▏   | 1087/1768 [09:47<06:26,  1.76it/s]"
     ]
    },
    {
     "name": "stdout",
     "output_type": "stream",
     "text": [
      "Image and info_dict saved for 9ed0db9a85b0a25cf259b1b88518e9ac_0 in /Volumes/Newsmy/FM_dataset/VinDr-Mammo-finding/Train/9ed0db9a85b0a25cf259b1b88518e9ac_0\n"
     ]
    },
    {
     "name": "stderr",
     "output_type": "stream",
     "text": [
      " 62%|██████▏   | 1088/1768 [09:47<06:33,  1.73it/s]"
     ]
    },
    {
     "name": "stdout",
     "output_type": "stream",
     "text": [
      "Image and info_dict saved for 9edf7793eb2d8981f2635dcb59f7568c_0 in /Volumes/Newsmy/FM_dataset/VinDr-Mammo-finding/Train/9edf7793eb2d8981f2635dcb59f7568c_0\n"
     ]
    },
    {
     "name": "stderr",
     "output_type": "stream",
     "text": [
      " 62%|██████▏   | 1089/1768 [09:48<06:13,  1.82it/s]"
     ]
    },
    {
     "name": "stdout",
     "output_type": "stream",
     "text": [
      "Image and info_dict saved for 9f026c6261ee776bea03ed2f4dea8f37_0 in /Volumes/Newsmy/FM_dataset/VinDr-Mammo-finding/Test/9f026c6261ee776bea03ed2f4dea8f37_0\n"
     ]
    },
    {
     "name": "stderr",
     "output_type": "stream",
     "text": [
      " 62%|██████▏   | 1090/1768 [09:49<06:16,  1.80it/s]"
     ]
    },
    {
     "name": "stdout",
     "output_type": "stream",
     "text": [
      "Image and info_dict saved for 9f3a7288c7c0d992ffe69a23fe34b1e4_0 in /Volumes/Newsmy/FM_dataset/VinDr-Mammo-finding/Test/9f3a7288c7c0d992ffe69a23fe34b1e4_0\n"
     ]
    },
    {
     "name": "stderr",
     "output_type": "stream",
     "text": [
      " 62%|██████▏   | 1091/1768 [09:50<08:03,  1.40it/s]"
     ]
    },
    {
     "name": "stdout",
     "output_type": "stream",
     "text": [
      "Image and info_dict saved for 9f57b616c50edb4a67ef9711917e86e5_0 in /Volumes/Newsmy/FM_dataset/VinDr-Mammo-finding/Train/9f57b616c50edb4a67ef9711917e86e5_0\n"
     ]
    },
    {
     "name": "stderr",
     "output_type": "stream",
     "text": [
      " 62%|██████▏   | 1092/1768 [09:50<07:20,  1.53it/s]"
     ]
    },
    {
     "name": "stdout",
     "output_type": "stream",
     "text": [
      "Image and info_dict saved for 9f5fa78866f78f172de2418ecfc07b9c_0 in /Volumes/Newsmy/FM_dataset/VinDr-Mammo-finding/Train/9f5fa78866f78f172de2418ecfc07b9c_0\n"
     ]
    },
    {
     "name": "stderr",
     "output_type": "stream",
     "text": [
      " 62%|██████▏   | 1093/1768 [09:51<06:37,  1.70it/s]"
     ]
    },
    {
     "name": "stdout",
     "output_type": "stream",
     "text": [
      "Image and info_dict saved for 9f63e7d767a3361df11d8aaec234aaef_0 in /Volumes/Newsmy/FM_dataset/VinDr-Mammo-finding/Train/9f63e7d767a3361df11d8aaec234aaef_0\n"
     ]
    },
    {
     "name": "stderr",
     "output_type": "stream",
     "text": [
      " 62%|██████▏   | 1094/1768 [09:51<06:09,  1.82it/s]"
     ]
    },
    {
     "name": "stdout",
     "output_type": "stream",
     "text": [
      "Image and info_dict saved for 9f65a2368a5df60f1910d687067ced3b_0 in /Volumes/Newsmy/FM_dataset/VinDr-Mammo-finding/Train/9f65a2368a5df60f1910d687067ced3b_0\n"
     ]
    },
    {
     "name": "stderr",
     "output_type": "stream",
     "text": [
      " 62%|██████▏   | 1095/1768 [09:52<06:03,  1.85it/s]"
     ]
    },
    {
     "name": "stdout",
     "output_type": "stream",
     "text": [
      "Image and info_dict saved for 9faf94bbaf5fa58149b5aee0d0f97c0f_0 in /Volumes/Newsmy/FM_dataset/VinDr-Mammo-finding/Test/9faf94bbaf5fa58149b5aee0d0f97c0f_0\n"
     ]
    },
    {
     "name": "stderr",
     "output_type": "stream",
     "text": [
      " 62%|██████▏   | 1096/1768 [09:52<05:34,  2.01it/s]"
     ]
    },
    {
     "name": "stdout",
     "output_type": "stream",
     "text": [
      "Image and info_dict saved for 9fb8a3f50f6864433a9e5c2ce2ab3e11_0 in /Volumes/Newsmy/FM_dataset/VinDr-Mammo-finding/Train/9fb8a3f50f6864433a9e5c2ce2ab3e11_0\n"
     ]
    },
    {
     "name": "stderr",
     "output_type": "stream",
     "text": [
      " 62%|██████▏   | 1097/1768 [09:52<05:29,  2.03it/s]"
     ]
    },
    {
     "name": "stdout",
     "output_type": "stream",
     "text": [
      "Image and info_dict saved for 9fc52c130cd84983d19524a6ab941c34_0 in /Volumes/Newsmy/FM_dataset/VinDr-Mammo-finding/Test/9fc52c130cd84983d19524a6ab941c34_0\n"
     ]
    },
    {
     "name": "stderr",
     "output_type": "stream",
     "text": [
      " 62%|██████▏   | 1098/1768 [09:53<06:07,  1.82it/s]"
     ]
    },
    {
     "name": "stdout",
     "output_type": "stream",
     "text": [
      "Image and info_dict saved for 9ff6c2a3ec1f88171fc05749f7c174ec_0 in /Volumes/Newsmy/FM_dataset/VinDr-Mammo-finding/Train/9ff6c2a3ec1f88171fc05749f7c174ec_0\n"
     ]
    },
    {
     "name": "stderr",
     "output_type": "stream",
     "text": [
      " 62%|██████▏   | 1099/1768 [09:54<06:02,  1.85it/s]"
     ]
    },
    {
     "name": "stdout",
     "output_type": "stream",
     "text": [
      "Image and info_dict saved for a02b0030f2550a19502987663d712ec7_0 in /Volumes/Newsmy/FM_dataset/VinDr-Mammo-finding/Train/a02b0030f2550a19502987663d712ec7_0\n"
     ]
    },
    {
     "name": "stderr",
     "output_type": "stream",
     "text": [
      " 62%|██████▏   | 1100/1768 [09:54<05:51,  1.90it/s]"
     ]
    },
    {
     "name": "stdout",
     "output_type": "stream",
     "text": [
      "Image and info_dict saved for a0360303198e7a4b60566c2d2193e7b8_0 in /Volumes/Newsmy/FM_dataset/VinDr-Mammo-finding/Train/a0360303198e7a4b60566c2d2193e7b8_0\n"
     ]
    },
    {
     "name": "stderr",
     "output_type": "stream",
     "text": [
      " 62%|██████▏   | 1101/1768 [09:55<06:05,  1.82it/s]"
     ]
    },
    {
     "name": "stdout",
     "output_type": "stream",
     "text": [
      "Image and info_dict saved for a0645ef8030c568f36e4a0430299de5b_0 in /Volumes/Newsmy/FM_dataset/VinDr-Mammo-finding/Test/a0645ef8030c568f36e4a0430299de5b_0\n"
     ]
    },
    {
     "name": "stderr",
     "output_type": "stream",
     "text": [
      " 62%|██████▏   | 1102/1768 [09:55<05:59,  1.85it/s]"
     ]
    },
    {
     "name": "stdout",
     "output_type": "stream",
     "text": [
      "Image and info_dict saved for a0694adf9540b4f755dfdbcf3b1eb725_0 in /Volumes/Newsmy/FM_dataset/VinDr-Mammo-finding/Test/a0694adf9540b4f755dfdbcf3b1eb725_0\n"
     ]
    },
    {
     "name": "stderr",
     "output_type": "stream",
     "text": [
      " 62%|██████▏   | 1103/1768 [09:56<05:48,  1.91it/s]"
     ]
    },
    {
     "name": "stdout",
     "output_type": "stream",
     "text": [
      "Image and info_dict saved for a09684693b5555763139afc0c0f87369_0 in /Volumes/Newsmy/FM_dataset/VinDr-Mammo-finding/Test/a09684693b5555763139afc0c0f87369_0\n"
     ]
    },
    {
     "name": "stderr",
     "output_type": "stream",
     "text": [
      " 62%|██████▏   | 1104/1768 [09:56<05:29,  2.01it/s]"
     ]
    },
    {
     "name": "stdout",
     "output_type": "stream",
     "text": [
      "Image and info_dict saved for a09e8001e6b29128dcae4cc0d1b02cca_0 in /Volumes/Newsmy/FM_dataset/VinDr-Mammo-finding/Train/a09e8001e6b29128dcae4cc0d1b02cca_0\n"
     ]
    },
    {
     "name": "stderr",
     "output_type": "stream",
     "text": [
      " 62%|██████▎   | 1105/1768 [09:57<05:33,  1.99it/s]"
     ]
    },
    {
     "name": "stdout",
     "output_type": "stream",
     "text": [
      "Image and info_dict saved for a0b8fc4ebba0bfb9dd806b8931323134_0 in /Volumes/Newsmy/FM_dataset/VinDr-Mammo-finding/Train/a0b8fc4ebba0bfb9dd806b8931323134_0\n"
     ]
    },
    {
     "name": "stderr",
     "output_type": "stream",
     "text": [
      " 63%|██████▎   | 1106/1768 [09:57<05:19,  2.07it/s]"
     ]
    },
    {
     "name": "stdout",
     "output_type": "stream",
     "text": [
      "Image and info_dict saved for a0cdb392b0d791725f8aea7f3f7f2c22_0 in /Volumes/Newsmy/FM_dataset/VinDr-Mammo-finding/Test/a0cdb392b0d791725f8aea7f3f7f2c22_0\n",
      "Image and info_dict saved for a0d04a7372a60d2a83c06d731a619c16_0 in /Volumes/Newsmy/FM_dataset/VinDr-Mammo-finding/Train/a0d04a7372a60d2a83c06d731a619c16_0\n",
      "Image and info_dict saved for a0d04a7372a60d2a83c06d731a619c16_1 in /Volumes/Newsmy/FM_dataset/VinDr-Mammo-finding/Train/a0d04a7372a60d2a83c06d731a619c16_1\n"
     ]
    },
    {
     "name": "stderr",
     "output_type": "stream",
     "text": [
      " 63%|██████▎   | 1107/1768 [09:58<06:47,  1.62it/s]"
     ]
    },
    {
     "name": "stdout",
     "output_type": "stream",
     "text": [
      "Image and info_dict saved for a0d04a7372a60d2a83c06d731a619c16_2 in /Volumes/Newsmy/FM_dataset/VinDr-Mammo-finding/Train/a0d04a7372a60d2a83c06d731a619c16_2\n",
      "Image and info_dict saved for a0d04a7372a60d2a83c06d731a619c16_3 in /Volumes/Newsmy/FM_dataset/VinDr-Mammo-finding/Train/a0d04a7372a60d2a83c06d731a619c16_3\n"
     ]
    },
    {
     "name": "stderr",
     "output_type": "stream",
     "text": [
      " 63%|██████▎   | 1108/1768 [09:59<06:32,  1.68it/s]"
     ]
    },
    {
     "name": "stdout",
     "output_type": "stream",
     "text": [
      "Image and info_dict saved for a0d23c42c05757ea270d581fb7c1288e_0 in /Volumes/Newsmy/FM_dataset/VinDr-Mammo-finding/Eval/a0d23c42c05757ea270d581fb7c1288e_0\n"
     ]
    },
    {
     "name": "stderr",
     "output_type": "stream",
     "text": [
      " 63%|██████▎   | 1109/1768 [09:59<06:20,  1.73it/s]"
     ]
    },
    {
     "name": "stdout",
     "output_type": "stream",
     "text": [
      "Image and info_dict saved for a0d839825d6307104467c0f2a11c6ed0_0 in /Volumes/Newsmy/FM_dataset/VinDr-Mammo-finding/Train/a0d839825d6307104467c0f2a11c6ed0_0\n"
     ]
    },
    {
     "name": "stderr",
     "output_type": "stream",
     "text": [
      " 63%|██████▎   | 1110/1768 [09:59<05:39,  1.94it/s]"
     ]
    },
    {
     "name": "stdout",
     "output_type": "stream",
     "text": [
      "Image and info_dict saved for a0e6576e376ac1c8a484e2f15daabb87_0 in /Volumes/Newsmy/FM_dataset/VinDr-Mammo-finding/Eval/a0e6576e376ac1c8a484e2f15daabb87_0\n"
     ]
    },
    {
     "name": "stderr",
     "output_type": "stream",
     "text": [
      " 63%|██████▎   | 1111/1768 [10:00<05:54,  1.86it/s]"
     ]
    },
    {
     "name": "stdout",
     "output_type": "stream",
     "text": [
      "Image and info_dict saved for a0fb467441e1f7ad6344812a63a1b9d5_0 in /Volumes/Newsmy/FM_dataset/VinDr-Mammo-finding/Train/a0fb467441e1f7ad6344812a63a1b9d5_0\n",
      "Image and info_dict saved for a0fb467441e1f7ad6344812a63a1b9d5_1 in /Volumes/Newsmy/FM_dataset/VinDr-Mammo-finding/Train/a0fb467441e1f7ad6344812a63a1b9d5_1\n"
     ]
    },
    {
     "name": "stderr",
     "output_type": "stream",
     "text": [
      " 63%|██████▎   | 1112/1768 [10:01<05:47,  1.89it/s]"
     ]
    },
    {
     "name": "stdout",
     "output_type": "stream",
     "text": [
      "Image and info_dict saved for a0fdff91676e8e3cee89af8a2d0eea82_0 in /Volumes/Newsmy/FM_dataset/VinDr-Mammo-finding/Train/a0fdff91676e8e3cee89af8a2d0eea82_0\n"
     ]
    },
    {
     "name": "stderr",
     "output_type": "stream",
     "text": [
      " 63%|██████▎   | 1113/1768 [10:01<06:06,  1.79it/s]"
     ]
    },
    {
     "name": "stdout",
     "output_type": "stream",
     "text": [
      "Image and info_dict saved for a110a8dfc5cd1826cac846b0b30e6f8b_0 in /Volumes/Newsmy/FM_dataset/VinDr-Mammo-finding/Train/a110a8dfc5cd1826cac846b0b30e6f8b_0\n",
      "Image and info_dict saved for a110a8dfc5cd1826cac846b0b30e6f8b_1 in /Volumes/Newsmy/FM_dataset/VinDr-Mammo-finding/Train/a110a8dfc5cd1826cac846b0b30e6f8b_1\n"
     ]
    },
    {
     "name": "stderr",
     "output_type": "stream",
     "text": [
      " 63%|██████▎   | 1114/1768 [10:02<05:58,  1.82it/s]"
     ]
    },
    {
     "name": "stdout",
     "output_type": "stream",
     "text": [
      "Image and info_dict saved for a129ca2e83de818bb229abd42e8533b2_0 in /Volumes/Newsmy/FM_dataset/VinDr-Mammo-finding/Train/a129ca2e83de818bb229abd42e8533b2_0\n"
     ]
    },
    {
     "name": "stderr",
     "output_type": "stream",
     "text": [
      " 63%|██████▎   | 1115/1768 [10:02<05:57,  1.82it/s]"
     ]
    },
    {
     "name": "stdout",
     "output_type": "stream",
     "text": [
      "Image and info_dict saved for a140bbecbcf3861c90e0db5440c420b0_0 in /Volumes/Newsmy/FM_dataset/VinDr-Mammo-finding/Test/a140bbecbcf3861c90e0db5440c420b0_0\n"
     ]
    },
    {
     "name": "stderr",
     "output_type": "stream",
     "text": [
      " 63%|██████▎   | 1116/1768 [10:03<06:01,  1.80it/s]"
     ]
    },
    {
     "name": "stdout",
     "output_type": "stream",
     "text": [
      "Image and info_dict saved for a158fce586b2eccc72b08fb5c3010b86_0 in /Volumes/Newsmy/FM_dataset/VinDr-Mammo-finding/Train/a158fce586b2eccc72b08fb5c3010b86_0\n"
     ]
    },
    {
     "name": "stderr",
     "output_type": "stream",
     "text": [
      " 63%|██████▎   | 1117/1768 [10:03<05:47,  1.87it/s]"
     ]
    },
    {
     "name": "stdout",
     "output_type": "stream",
     "text": [
      "Image and info_dict saved for a164ae0daebd0d84305d29c1c0746ff4_0 in /Volumes/Newsmy/FM_dataset/VinDr-Mammo-finding/Train/a164ae0daebd0d84305d29c1c0746ff4_0\n"
     ]
    },
    {
     "name": "stderr",
     "output_type": "stream",
     "text": [
      " 63%|██████▎   | 1118/1768 [10:04<05:31,  1.96it/s]"
     ]
    },
    {
     "name": "stdout",
     "output_type": "stream",
     "text": [
      "Image and info_dict saved for a170a92368091b985595f6b1d18f2154_0 in /Volumes/Newsmy/FM_dataset/VinDr-Mammo-finding/Eval/a170a92368091b985595f6b1d18f2154_0\n"
     ]
    },
    {
     "name": "stderr",
     "output_type": "stream",
     "text": [
      " 63%|██████▎   | 1119/1768 [10:04<05:40,  1.90it/s]"
     ]
    },
    {
     "name": "stdout",
     "output_type": "stream",
     "text": [
      "Image and info_dict saved for a199ec9c4484f322545edda0e5b56316_0 in /Volumes/Newsmy/FM_dataset/VinDr-Mammo-finding/Train/a199ec9c4484f322545edda0e5b56316_0\n"
     ]
    },
    {
     "name": "stderr",
     "output_type": "stream",
     "text": [
      " 63%|██████▎   | 1120/1768 [10:05<05:28,  1.97it/s]"
     ]
    },
    {
     "name": "stdout",
     "output_type": "stream",
     "text": [
      "Image and info_dict saved for a1e6ff1084b1af114814a95a83f5e744_0 in /Volumes/Newsmy/FM_dataset/VinDr-Mammo-finding/Train/a1e6ff1084b1af114814a95a83f5e744_0\n"
     ]
    },
    {
     "name": "stderr",
     "output_type": "stream",
     "text": [
      " 63%|██████▎   | 1121/1768 [10:05<05:15,  2.05it/s]"
     ]
    },
    {
     "name": "stdout",
     "output_type": "stream",
     "text": [
      "Image and info_dict saved for a20301f2d2cafec6419d759fa7c70c0b_0 in /Volumes/Newsmy/FM_dataset/VinDr-Mammo-finding/Train/a20301f2d2cafec6419d759fa7c70c0b_0\n"
     ]
    },
    {
     "name": "stderr",
     "output_type": "stream",
     "text": [
      " 63%|██████▎   | 1122/1768 [10:06<05:05,  2.11it/s]"
     ]
    },
    {
     "name": "stdout",
     "output_type": "stream",
     "text": [
      "Image and info_dict saved for a2199564885a9d002152a8d18b98bd71_0 in /Volumes/Newsmy/FM_dataset/VinDr-Mammo-finding/Test/a2199564885a9d002152a8d18b98bd71_0\n"
     ]
    },
    {
     "name": "stderr",
     "output_type": "stream",
     "text": [
      " 64%|██████▎   | 1123/1768 [10:06<05:26,  1.97it/s]"
     ]
    },
    {
     "name": "stdout",
     "output_type": "stream",
     "text": [
      "Image and info_dict saved for a251204836e86f9eca510afa7a79d450_0 in /Volumes/Newsmy/FM_dataset/VinDr-Mammo-finding/Train/a251204836e86f9eca510afa7a79d450_0\n"
     ]
    },
    {
     "name": "stderr",
     "output_type": "stream",
     "text": [
      " 64%|██████▎   | 1124/1768 [10:07<05:12,  2.06it/s]"
     ]
    },
    {
     "name": "stdout",
     "output_type": "stream",
     "text": [
      "Image and info_dict saved for a25f7709f657945b8433a71712f74600_0 in /Volumes/Newsmy/FM_dataset/VinDr-Mammo-finding/Train/a25f7709f657945b8433a71712f74600_0\n"
     ]
    },
    {
     "name": "stderr",
     "output_type": "stream",
     "text": [
      " 64%|██████▎   | 1125/1768 [10:07<05:13,  2.05it/s]"
     ]
    },
    {
     "name": "stdout",
     "output_type": "stream",
     "text": [
      "Image and info_dict saved for a27937a232c49b913dccf46fd810b7bf_0 in /Volumes/Newsmy/FM_dataset/VinDr-Mammo-finding/Train/a27937a232c49b913dccf46fd810b7bf_0\n"
     ]
    },
    {
     "name": "stderr",
     "output_type": "stream",
     "text": [
      " 64%|██████▎   | 1126/1768 [10:08<05:16,  2.03it/s]"
     ]
    },
    {
     "name": "stdout",
     "output_type": "stream",
     "text": [
      "Image and info_dict saved for a27a99cc98f650adce680fc55f9a57a3_0 in /Volumes/Newsmy/FM_dataset/VinDr-Mammo-finding/Train/a27a99cc98f650adce680fc55f9a57a3_0\n"
     ]
    },
    {
     "name": "stderr",
     "output_type": "stream",
     "text": [
      " 64%|██████▎   | 1127/1768 [10:08<05:30,  1.94it/s]"
     ]
    },
    {
     "name": "stdout",
     "output_type": "stream",
     "text": [
      "Image and info_dict saved for a2a6c2a3eaa543ca8e96990e42d8eab2_0 in /Volumes/Newsmy/FM_dataset/VinDr-Mammo-finding/Train/a2a6c2a3eaa543ca8e96990e42d8eab2_0\n"
     ]
    },
    {
     "name": "stderr",
     "output_type": "stream",
     "text": [
      " 64%|██████▍   | 1128/1768 [10:09<05:39,  1.89it/s]"
     ]
    },
    {
     "name": "stdout",
     "output_type": "stream",
     "text": [
      "Image and info_dict saved for a2b59f1aada10cb6af33feb810b10d82_0 in /Volumes/Newsmy/FM_dataset/VinDr-Mammo-finding/Eval/a2b59f1aada10cb6af33feb810b10d82_0\n"
     ]
    },
    {
     "name": "stderr",
     "output_type": "stream",
     "text": [
      " 64%|██████▍   | 1129/1768 [10:09<05:19,  2.00it/s]"
     ]
    },
    {
     "name": "stdout",
     "output_type": "stream",
     "text": [
      "Image and info_dict saved for a2ce545b7d7d400e6599dcba1fb0b5b6_0 in /Volumes/Newsmy/FM_dataset/VinDr-Mammo-finding/Test/a2ce545b7d7d400e6599dcba1fb0b5b6_0\n"
     ]
    },
    {
     "name": "stderr",
     "output_type": "stream",
     "text": [
      " 64%|██████▍   | 1130/1768 [10:10<05:08,  2.07it/s]"
     ]
    },
    {
     "name": "stdout",
     "output_type": "stream",
     "text": [
      "Image and info_dict saved for a2d73fa3622b7227587f480a63d24ab0_0 in /Volumes/Newsmy/FM_dataset/VinDr-Mammo-finding/Train/a2d73fa3622b7227587f480a63d24ab0_0\n"
     ]
    },
    {
     "name": "stderr",
     "output_type": "stream",
     "text": [
      " 64%|██████▍   | 1131/1768 [10:10<04:53,  2.17it/s]"
     ]
    },
    {
     "name": "stdout",
     "output_type": "stream",
     "text": [
      "Image and info_dict saved for a3214c506a005b639b4d720de9cea847_0 in /Volumes/Newsmy/FM_dataset/VinDr-Mammo-finding/Train/a3214c506a005b639b4d720de9cea847_0\n"
     ]
    },
    {
     "name": "stderr",
     "output_type": "stream",
     "text": [
      " 64%|██████▍   | 1132/1768 [10:11<04:43,  2.24it/s]"
     ]
    },
    {
     "name": "stdout",
     "output_type": "stream",
     "text": [
      "Image and info_dict saved for a321db55863a3c192f1b6ba790e62c07_0 in /Volumes/Newsmy/FM_dataset/VinDr-Mammo-finding/Train/a321db55863a3c192f1b6ba790e62c07_0\n"
     ]
    },
    {
     "name": "stderr",
     "output_type": "stream",
     "text": [
      " 64%|██████▍   | 1133/1768 [10:11<05:06,  2.07it/s]"
     ]
    },
    {
     "name": "stdout",
     "output_type": "stream",
     "text": [
      "Image and info_dict saved for a3415116030171359f15e0c14f9e75b1_0 in /Volumes/Newsmy/FM_dataset/VinDr-Mammo-finding/Train/a3415116030171359f15e0c14f9e75b1_0\n"
     ]
    },
    {
     "name": "stderr",
     "output_type": "stream",
     "text": [
      " 64%|██████▍   | 1134/1768 [10:12<05:00,  2.11it/s]"
     ]
    },
    {
     "name": "stdout",
     "output_type": "stream",
     "text": [
      "Image and info_dict saved for a35b8986274c675c008ec264d25bf0fd_0 in /Volumes/Newsmy/FM_dataset/VinDr-Mammo-finding/Test/a35b8986274c675c008ec264d25bf0fd_0\n"
     ]
    },
    {
     "name": "stderr",
     "output_type": "stream",
     "text": [
      " 64%|██████▍   | 1135/1768 [10:12<04:55,  2.14it/s]"
     ]
    },
    {
     "name": "stdout",
     "output_type": "stream",
     "text": [
      "Image and info_dict saved for a37e508fc994c1c7a846ec23edfb400f_0 in /Volumes/Newsmy/FM_dataset/VinDr-Mammo-finding/Train/a37e508fc994c1c7a846ec23edfb400f_0\n"
     ]
    },
    {
     "name": "stderr",
     "output_type": "stream",
     "text": [
      " 64%|██████▍   | 1136/1768 [10:12<04:47,  2.20it/s]"
     ]
    },
    {
     "name": "stdout",
     "output_type": "stream",
     "text": [
      "Image and info_dict saved for a3abc78b80b104b171f2dd76c215f1a5_0 in /Volumes/Newsmy/FM_dataset/VinDr-Mammo-finding/Train/a3abc78b80b104b171f2dd76c215f1a5_0\n"
     ]
    },
    {
     "name": "stderr",
     "output_type": "stream",
     "text": [
      " 64%|██████▍   | 1137/1768 [10:13<05:02,  2.09it/s]"
     ]
    },
    {
     "name": "stdout",
     "output_type": "stream",
     "text": [
      "Image and info_dict saved for a3c57c91154f31d65912252a24e66822_0 in /Volumes/Newsmy/FM_dataset/VinDr-Mammo-finding/Eval/a3c57c91154f31d65912252a24e66822_0\n"
     ]
    },
    {
     "name": "stderr",
     "output_type": "stream",
     "text": [
      " 64%|██████▍   | 1138/1768 [10:13<04:58,  2.11it/s]"
     ]
    },
    {
     "name": "stdout",
     "output_type": "stream",
     "text": [
      "Image and info_dict saved for a3e787ded9ca91b8281beba75f6ed60a_0 in /Volumes/Newsmy/FM_dataset/VinDr-Mammo-finding/Train/a3e787ded9ca91b8281beba75f6ed60a_0\n"
     ]
    },
    {
     "name": "stderr",
     "output_type": "stream",
     "text": [
      " 64%|██████▍   | 1139/1768 [10:14<04:57,  2.11it/s]"
     ]
    },
    {
     "name": "stdout",
     "output_type": "stream",
     "text": [
      "Image and info_dict saved for a404014023088ae711fd4445d8b298b4_0 in /Volumes/Newsmy/FM_dataset/VinDr-Mammo-finding/Eval/a404014023088ae711fd4445d8b298b4_0\n"
     ]
    },
    {
     "name": "stderr",
     "output_type": "stream",
     "text": [
      " 64%|██████▍   | 1140/1768 [10:15<05:30,  1.90it/s]"
     ]
    },
    {
     "name": "stdout",
     "output_type": "stream",
     "text": [
      "Image and info_dict saved for a41a04883364dff4df3b28905809d335_0 in /Volumes/Newsmy/FM_dataset/VinDr-Mammo-finding/Eval/a41a04883364dff4df3b28905809d335_0\n",
      "Image and info_dict saved for a41a04883364dff4df3b28905809d335_1 in /Volumes/Newsmy/FM_dataset/VinDr-Mammo-finding/Eval/a41a04883364dff4df3b28905809d335_1\n"
     ]
    },
    {
     "name": "stderr",
     "output_type": "stream",
     "text": [
      " 65%|██████▍   | 1141/1768 [10:15<05:19,  1.96it/s]"
     ]
    },
    {
     "name": "stdout",
     "output_type": "stream",
     "text": [
      "Image and info_dict saved for a42275264e5c92ac2f49e6a858f9a6ee_0 in /Volumes/Newsmy/FM_dataset/VinDr-Mammo-finding/Train/a42275264e5c92ac2f49e6a858f9a6ee_0\n"
     ]
    },
    {
     "name": "stderr",
     "output_type": "stream",
     "text": [
      " 65%|██████▍   | 1142/1768 [10:15<05:04,  2.06it/s]"
     ]
    },
    {
     "name": "stdout",
     "output_type": "stream",
     "text": [
      "Image and info_dict saved for a43ee63a12b208e10ccc92eaaf330ab9_0 in /Volumes/Newsmy/FM_dataset/VinDr-Mammo-finding/Train/a43ee63a12b208e10ccc92eaaf330ab9_0\n"
     ]
    },
    {
     "name": "stderr",
     "output_type": "stream",
     "text": [
      " 65%|██████▍   | 1143/1768 [10:16<05:07,  2.04it/s]"
     ]
    },
    {
     "name": "stdout",
     "output_type": "stream",
     "text": [
      "Image and info_dict saved for a4940f4a5e68cc3f959039fc7a7101fa_0 in /Volumes/Newsmy/FM_dataset/VinDr-Mammo-finding/Test/a4940f4a5e68cc3f959039fc7a7101fa_0\n"
     ]
    },
    {
     "name": "stderr",
     "output_type": "stream",
     "text": [
      " 65%|██████▍   | 1144/1768 [10:17<05:21,  1.94it/s]"
     ]
    },
    {
     "name": "stdout",
     "output_type": "stream",
     "text": [
      "Image and info_dict saved for a4d498287af7763bac9ccb7b596d4939_0 in /Volumes/Newsmy/FM_dataset/VinDr-Mammo-finding/Eval/a4d498287af7763bac9ccb7b596d4939_0\n"
     ]
    },
    {
     "name": "stderr",
     "output_type": "stream",
     "text": [
      " 65%|██████▍   | 1145/1768 [10:17<05:19,  1.95it/s]"
     ]
    },
    {
     "name": "stdout",
     "output_type": "stream",
     "text": [
      "Image and info_dict saved for a4e1902203b851213146380f19a6891e_0 in /Volumes/Newsmy/FM_dataset/VinDr-Mammo-finding/Test/a4e1902203b851213146380f19a6891e_0\n"
     ]
    },
    {
     "name": "stderr",
     "output_type": "stream",
     "text": [
      " 65%|██████▍   | 1146/1768 [10:17<04:56,  2.10it/s]"
     ]
    },
    {
     "name": "stdout",
     "output_type": "stream",
     "text": [
      "Image and info_dict saved for a4eed594bef1cd59ed0b567f7a1cd7f6_0 in /Volumes/Newsmy/FM_dataset/VinDr-Mammo-finding/Eval/a4eed594bef1cd59ed0b567f7a1cd7f6_0\n"
     ]
    },
    {
     "name": "stderr",
     "output_type": "stream",
     "text": [
      " 65%|██████▍   | 1147/1768 [10:18<05:02,  2.05it/s]"
     ]
    },
    {
     "name": "stdout",
     "output_type": "stream",
     "text": [
      "Image and info_dict saved for a50d63b7f09753bac4633eaf6b40eef8_0 in /Volumes/Newsmy/FM_dataset/VinDr-Mammo-finding/Train/a50d63b7f09753bac4633eaf6b40eef8_0\n"
     ]
    },
    {
     "name": "stderr",
     "output_type": "stream",
     "text": [
      " 65%|██████▍   | 1148/1768 [10:18<04:44,  2.18it/s]"
     ]
    },
    {
     "name": "stdout",
     "output_type": "stream",
     "text": [
      "Image and info_dict saved for a5164691ae63f2d5aee3d8939f7ada41_0 in /Volumes/Newsmy/FM_dataset/VinDr-Mammo-finding/Train/a5164691ae63f2d5aee3d8939f7ada41_0\n"
     ]
    },
    {
     "name": "stderr",
     "output_type": "stream",
     "text": [
      " 65%|██████▍   | 1149/1768 [10:19<04:59,  2.07it/s]"
     ]
    },
    {
     "name": "stdout",
     "output_type": "stream",
     "text": [
      "Image and info_dict saved for a5531d44882d34c7ce26fbfe79209812_0 in /Volumes/Newsmy/FM_dataset/VinDr-Mammo-finding/Train/a5531d44882d34c7ce26fbfe79209812_0\n"
     ]
    },
    {
     "name": "stderr",
     "output_type": "stream",
     "text": [
      " 65%|██████▌   | 1150/1768 [10:19<04:52,  2.12it/s]"
     ]
    },
    {
     "name": "stdout",
     "output_type": "stream",
     "text": [
      "Image and info_dict saved for a5679dc25691dc85f0639be26b421195_0 in /Volumes/Newsmy/FM_dataset/VinDr-Mammo-finding/Train/a5679dc25691dc85f0639be26b421195_0\n",
      "Image and info_dict saved for a5679dc25691dc85f0639be26b421195_1 in /Volumes/Newsmy/FM_dataset/VinDr-Mammo-finding/Train/a5679dc25691dc85f0639be26b421195_1\n"
     ]
    },
    {
     "name": "stderr",
     "output_type": "stream",
     "text": [
      " 65%|██████▌   | 1151/1768 [10:20<05:59,  1.71it/s]"
     ]
    },
    {
     "name": "stdout",
     "output_type": "stream",
     "text": [
      "Image and info_dict saved for a5e6d2685d98df07408babfa56261665_0 in /Volumes/Newsmy/FM_dataset/VinDr-Mammo-finding/Train/a5e6d2685d98df07408babfa56261665_0\n",
      "Image and info_dict saved for a5e6d2685d98df07408babfa56261665_1 in /Volumes/Newsmy/FM_dataset/VinDr-Mammo-finding/Train/a5e6d2685d98df07408babfa56261665_1\n"
     ]
    },
    {
     "name": "stderr",
     "output_type": "stream",
     "text": [
      " 65%|██████▌   | 1152/1768 [10:21<05:42,  1.80it/s]"
     ]
    },
    {
     "name": "stdout",
     "output_type": "stream",
     "text": [
      "Image and info_dict saved for a629996b0281b6590c706924e3a4e731_0 in /Volumes/Newsmy/FM_dataset/VinDr-Mammo-finding/Train/a629996b0281b6590c706924e3a4e731_0\n"
     ]
    },
    {
     "name": "stderr",
     "output_type": "stream",
     "text": [
      " 65%|██████▌   | 1153/1768 [10:21<05:16,  1.94it/s]"
     ]
    },
    {
     "name": "stdout",
     "output_type": "stream",
     "text": [
      "Image and info_dict saved for a67700794287a21aea3695ccab16311f_0 in /Volumes/Newsmy/FM_dataset/VinDr-Mammo-finding/Train/a67700794287a21aea3695ccab16311f_0\n"
     ]
    },
    {
     "name": "stderr",
     "output_type": "stream",
     "text": [
      " 65%|██████▌   | 1154/1768 [10:22<06:35,  1.55it/s]"
     ]
    },
    {
     "name": "stdout",
     "output_type": "stream",
     "text": [
      "Image and info_dict saved for a68ac084d4c324ce9376320a34362558_0 in /Volumes/Newsmy/FM_dataset/VinDr-Mammo-finding/Train/a68ac084d4c324ce9376320a34362558_0\n",
      "Image and info_dict saved for a68ac084d4c324ce9376320a34362558_1 in /Volumes/Newsmy/FM_dataset/VinDr-Mammo-finding/Train/a68ac084d4c324ce9376320a34362558_1\n",
      "Image and info_dict saved for a697cd84b7b97518603b8fd39674dd01_0 in /Volumes/Newsmy/FM_dataset/VinDr-Mammo-finding/Train/a697cd84b7b97518603b8fd39674dd01_0\n",
      "Image and info_dict saved for a697cd84b7b97518603b8fd39674dd01_1 in /Volumes/Newsmy/FM_dataset/VinDr-Mammo-finding/Train/a697cd84b7b97518603b8fd39674dd01_1\n"
     ]
    },
    {
     "name": "stderr",
     "output_type": "stream",
     "text": [
      " 65%|██████▌   | 1155/1768 [10:23<07:10,  1.42it/s]"
     ]
    },
    {
     "name": "stdout",
     "output_type": "stream",
     "text": [
      "Image and info_dict saved for a697cd84b7b97518603b8fd39674dd01_2 in /Volumes/Newsmy/FM_dataset/VinDr-Mammo-finding/Train/a697cd84b7b97518603b8fd39674dd01_2\n"
     ]
    },
    {
     "name": "stderr",
     "output_type": "stream",
     "text": [
      " 65%|██████▌   | 1156/1768 [10:24<08:04,  1.26it/s]"
     ]
    },
    {
     "name": "stdout",
     "output_type": "stream",
     "text": [
      "Image and info_dict saved for a6bb433105ba47d9cdc9f368a8c261a9_0 in /Volumes/Newsmy/FM_dataset/VinDr-Mammo-finding/Eval/a6bb433105ba47d9cdc9f368a8c261a9_0\n",
      "Image and info_dict saved for a6bb433105ba47d9cdc9f368a8c261a9_1 in /Volumes/Newsmy/FM_dataset/VinDr-Mammo-finding/Eval/a6bb433105ba47d9cdc9f368a8c261a9_1\n"
     ]
    },
    {
     "name": "stderr",
     "output_type": "stream",
     "text": [
      " 65%|██████▌   | 1157/1768 [10:24<07:17,  1.40it/s]"
     ]
    },
    {
     "name": "stdout",
     "output_type": "stream",
     "text": [
      "Image and info_dict saved for a6d7dd14effca524d51100d140c798de_0 in /Volumes/Newsmy/FM_dataset/VinDr-Mammo-finding/Train/a6d7dd14effca524d51100d140c798de_0\n"
     ]
    },
    {
     "name": "stderr",
     "output_type": "stream",
     "text": [
      " 65%|██████▌   | 1158/1768 [10:25<06:19,  1.61it/s]"
     ]
    },
    {
     "name": "stdout",
     "output_type": "stream",
     "text": [
      "Image and info_dict saved for a6dad62e2c8528abf3e74324325cc6d3_0 in /Volumes/Newsmy/FM_dataset/VinDr-Mammo-finding/Test/a6dad62e2c8528abf3e74324325cc6d3_0\n"
     ]
    },
    {
     "name": "stderr",
     "output_type": "stream",
     "text": [
      " 66%|██████▌   | 1159/1768 [10:25<05:39,  1.79it/s]"
     ]
    },
    {
     "name": "stdout",
     "output_type": "stream",
     "text": [
      "Image and info_dict saved for a7215359f4ab5efc6d81f57543d0a8bd_0 in /Volumes/Newsmy/FM_dataset/VinDr-Mammo-finding/Eval/a7215359f4ab5efc6d81f57543d0a8bd_0\n"
     ]
    },
    {
     "name": "stderr",
     "output_type": "stream",
     "text": [
      " 66%|██████▌   | 1160/1768 [10:26<04:54,  2.07it/s]"
     ]
    },
    {
     "name": "stdout",
     "output_type": "stream",
     "text": [
      "Image and info_dict saved for a726e03b371093bf18cf884c39dad799_0 in /Volumes/Newsmy/FM_dataset/VinDr-Mammo-finding/Train/a726e03b371093bf18cf884c39dad799_0\n"
     ]
    },
    {
     "name": "stderr",
     "output_type": "stream",
     "text": [
      " 66%|██████▌   | 1161/1768 [10:26<04:47,  2.11it/s]"
     ]
    },
    {
     "name": "stdout",
     "output_type": "stream",
     "text": [
      "Image and info_dict saved for a743c234e305205215516a957dc669cf_0 in /Volumes/Newsmy/FM_dataset/VinDr-Mammo-finding/Train/a743c234e305205215516a957dc669cf_0\n"
     ]
    },
    {
     "name": "stderr",
     "output_type": "stream",
     "text": [
      " 66%|██████▌   | 1162/1768 [10:26<04:41,  2.15it/s]"
     ]
    },
    {
     "name": "stdout",
     "output_type": "stream",
     "text": [
      "Image and info_dict saved for a763d5dfd875b5575918bd8e97c651f6_0 in /Volumes/Newsmy/FM_dataset/VinDr-Mammo-finding/Eval/a763d5dfd875b5575918bd8e97c651f6_0\n"
     ]
    },
    {
     "name": "stderr",
     "output_type": "stream",
     "text": [
      " 66%|██████▌   | 1163/1768 [10:27<05:08,  1.96it/s]"
     ]
    },
    {
     "name": "stdout",
     "output_type": "stream",
     "text": [
      "Image and info_dict saved for a7c64ea280c0c19d81e43e3e272c12f5_0 in /Volumes/Newsmy/FM_dataset/VinDr-Mammo-finding/Train/a7c64ea280c0c19d81e43e3e272c12f5_0\n",
      "Image and info_dict saved for a7c64ea280c0c19d81e43e3e272c12f5_1 in /Volumes/Newsmy/FM_dataset/VinDr-Mammo-finding/Train/a7c64ea280c0c19d81e43e3e272c12f5_1\n"
     ]
    },
    {
     "name": "stderr",
     "output_type": "stream",
     "text": [
      " 66%|██████▌   | 1164/1768 [10:28<05:13,  1.93it/s]"
     ]
    },
    {
     "name": "stdout",
     "output_type": "stream",
     "text": [
      "Image and info_dict saved for a7cc2e20f89f7797f89c787a5a6e0e58_0 in /Volumes/Newsmy/FM_dataset/VinDr-Mammo-finding/Train/a7cc2e20f89f7797f89c787a5a6e0e58_0\n"
     ]
    },
    {
     "name": "stderr",
     "output_type": "stream",
     "text": [
      " 66%|██████▌   | 1165/1768 [10:28<04:48,  2.09it/s]"
     ]
    },
    {
     "name": "stdout",
     "output_type": "stream",
     "text": [
      "Image and info_dict saved for a7d6038b8b078c125efb641d7e1e4ba1_0 in /Volumes/Newsmy/FM_dataset/VinDr-Mammo-finding/Test/a7d6038b8b078c125efb641d7e1e4ba1_0\n"
     ]
    },
    {
     "name": "stderr",
     "output_type": "stream",
     "text": [
      " 66%|██████▌   | 1166/1768 [10:28<04:40,  2.15it/s]"
     ]
    },
    {
     "name": "stdout",
     "output_type": "stream",
     "text": [
      "Image and info_dict saved for a7de2c103d8abf7da6963cf18820ed81_0 in /Volumes/Newsmy/FM_dataset/VinDr-Mammo-finding/Train/a7de2c103d8abf7da6963cf18820ed81_0\n"
     ]
    },
    {
     "name": "stderr",
     "output_type": "stream",
     "text": [
      " 66%|██████▌   | 1167/1768 [10:29<04:35,  2.18it/s]"
     ]
    },
    {
     "name": "stdout",
     "output_type": "stream",
     "text": [
      "Image and info_dict saved for a8390f8b0e09fe8bfe97110ef47480ed_0 in /Volumes/Newsmy/FM_dataset/VinDr-Mammo-finding/Train/a8390f8b0e09fe8bfe97110ef47480ed_0\n"
     ]
    },
    {
     "name": "stderr",
     "output_type": "stream",
     "text": [
      " 66%|██████▌   | 1168/1768 [10:29<04:36,  2.17it/s]"
     ]
    },
    {
     "name": "stdout",
     "output_type": "stream",
     "text": [
      "Image and info_dict saved for a8472717fea3274901241416ac02349e_0 in /Volumes/Newsmy/FM_dataset/VinDr-Mammo-finding/Eval/a8472717fea3274901241416ac02349e_0\n",
      "Image and info_dict saved for a84bedfa211483078c78e5e4e9a4b3f0_0 in /Volumes/Newsmy/FM_dataset/VinDr-Mammo-finding/Train/a84bedfa211483078c78e5e4e9a4b3f0_0\n",
      "Image and info_dict saved for a84bedfa211483078c78e5e4e9a4b3f0_1 in /Volumes/Newsmy/FM_dataset/VinDr-Mammo-finding/Train/a84bedfa211483078c78e5e4e9a4b3f0_1\n"
     ]
    },
    {
     "name": "stderr",
     "output_type": "stream",
     "text": [
      " 66%|██████▌   | 1169/1768 [10:30<05:28,  1.83it/s]"
     ]
    },
    {
     "name": "stdout",
     "output_type": "stream",
     "text": [
      "Image and info_dict saved for a84bedfa211483078c78e5e4e9a4b3f0_2 in /Volumes/Newsmy/FM_dataset/VinDr-Mammo-finding/Train/a84bedfa211483078c78e5e4e9a4b3f0_2\n"
     ]
    },
    {
     "name": "stderr",
     "output_type": "stream",
     "text": [
      " 66%|██████▌   | 1170/1768 [10:31<05:16,  1.89it/s]"
     ]
    },
    {
     "name": "stdout",
     "output_type": "stream",
     "text": [
      "Image and info_dict saved for a860a541668585d6e48f17c45090ea33_0 in /Volumes/Newsmy/FM_dataset/VinDr-Mammo-finding/Train/a860a541668585d6e48f17c45090ea33_0\n"
     ]
    },
    {
     "name": "stderr",
     "output_type": "stream",
     "text": [
      " 66%|██████▌   | 1171/1768 [10:31<04:59,  1.99it/s]"
     ]
    },
    {
     "name": "stdout",
     "output_type": "stream",
     "text": [
      "Image and info_dict saved for a869427ece4cb34d43825be65705929b_0 in /Volumes/Newsmy/FM_dataset/VinDr-Mammo-finding/Train/a869427ece4cb34d43825be65705929b_0\n"
     ]
    },
    {
     "name": "stderr",
     "output_type": "stream",
     "text": [
      " 66%|██████▋   | 1172/1768 [10:31<04:55,  2.02it/s]"
     ]
    },
    {
     "name": "stdout",
     "output_type": "stream",
     "text": [
      "Image and info_dict saved for a89afd636c07ebb8d327d495ee3209db_0 in /Volumes/Newsmy/FM_dataset/VinDr-Mammo-finding/Train/a89afd636c07ebb8d327d495ee3209db_0\n"
     ]
    },
    {
     "name": "stderr",
     "output_type": "stream",
     "text": [
      " 66%|██████▋   | 1173/1768 [10:32<05:10,  1.92it/s]"
     ]
    },
    {
     "name": "stdout",
     "output_type": "stream",
     "text": [
      "Image and info_dict saved for a8e59b1bda9b7d6ae5fcd9ac543bad56_0 in /Volumes/Newsmy/FM_dataset/VinDr-Mammo-finding/Test/a8e59b1bda9b7d6ae5fcd9ac543bad56_0\n"
     ]
    },
    {
     "name": "stderr",
     "output_type": "stream",
     "text": [
      " 66%|██████▋   | 1174/1768 [10:33<05:30,  1.80it/s]"
     ]
    },
    {
     "name": "stdout",
     "output_type": "stream",
     "text": [
      "Image and info_dict saved for a8e66fc1ad8e78cb6ab460d32bc7b299_0 in /Volumes/Newsmy/FM_dataset/VinDr-Mammo-finding/Test/a8e66fc1ad8e78cb6ab460d32bc7b299_0\n"
     ]
    },
    {
     "name": "stderr",
     "output_type": "stream",
     "text": [
      " 66%|██████▋   | 1175/1768 [10:33<05:38,  1.75it/s]"
     ]
    },
    {
     "name": "stdout",
     "output_type": "stream",
     "text": [
      "Image and info_dict saved for a8f4c712717ecf44064c37cc841154f1_0 in /Volumes/Newsmy/FM_dataset/VinDr-Mammo-finding/Train/a8f4c712717ecf44064c37cc841154f1_0\n",
      "Image and info_dict saved for a8f4c712717ecf44064c37cc841154f1_1 in /Volumes/Newsmy/FM_dataset/VinDr-Mammo-finding/Train/a8f4c712717ecf44064c37cc841154f1_1\n"
     ]
    },
    {
     "name": "stderr",
     "output_type": "stream",
     "text": [
      " 67%|██████▋   | 1176/1768 [10:34<05:22,  1.83it/s]"
     ]
    },
    {
     "name": "stdout",
     "output_type": "stream",
     "text": [
      "Image and info_dict saved for a8fbb157acfc2dc455049f6d91b8483d_0 in /Volumes/Newsmy/FM_dataset/VinDr-Mammo-finding/Train/a8fbb157acfc2dc455049f6d91b8483d_0\n"
     ]
    },
    {
     "name": "stderr",
     "output_type": "stream",
     "text": [
      " 67%|██████▋   | 1177/1768 [10:34<05:04,  1.94it/s]"
     ]
    },
    {
     "name": "stdout",
     "output_type": "stream",
     "text": [
      "Image and info_dict saved for a91da35c2c5f5b726321511b4157ce36_0 in /Volumes/Newsmy/FM_dataset/VinDr-Mammo-finding/Train/a91da35c2c5f5b726321511b4157ce36_0\n"
     ]
    },
    {
     "name": "stderr",
     "output_type": "stream",
     "text": [
      " 67%|██████▋   | 1178/1768 [10:35<04:49,  2.04it/s]"
     ]
    },
    {
     "name": "stdout",
     "output_type": "stream",
     "text": [
      "Image and info_dict saved for a9360fba3a97fc2842165a2fa2301f29_0 in /Volumes/Newsmy/FM_dataset/VinDr-Mammo-finding/Train/a9360fba3a97fc2842165a2fa2301f29_0\n"
     ]
    },
    {
     "name": "stderr",
     "output_type": "stream",
     "text": [
      " 67%|██████▋   | 1179/1768 [10:35<04:54,  2.00it/s]"
     ]
    },
    {
     "name": "stdout",
     "output_type": "stream",
     "text": [
      "Image and info_dict saved for a93f1732181e8dc316aaa1dcb2625d37_0 in /Volumes/Newsmy/FM_dataset/VinDr-Mammo-finding/Train/a93f1732181e8dc316aaa1dcb2625d37_0\n"
     ]
    },
    {
     "name": "stderr",
     "output_type": "stream",
     "text": [
      " 67%|██████▋   | 1180/1768 [10:36<04:29,  2.18it/s]"
     ]
    },
    {
     "name": "stdout",
     "output_type": "stream",
     "text": [
      "Image and info_dict saved for a946022ece3bfd27edd0c9ec512caff8_0 in /Volumes/Newsmy/FM_dataset/VinDr-Mammo-finding/Eval/a946022ece3bfd27edd0c9ec512caff8_0\n"
     ]
    },
    {
     "name": "stderr",
     "output_type": "stream",
     "text": [
      " 67%|██████▋   | 1181/1768 [10:36<04:29,  2.18it/s]"
     ]
    },
    {
     "name": "stdout",
     "output_type": "stream",
     "text": [
      "Image and info_dict saved for a967d061ad8acb167fbc7cb07f3f289b_0 in /Volumes/Newsmy/FM_dataset/VinDr-Mammo-finding/Train/a967d061ad8acb167fbc7cb07f3f289b_0\n"
     ]
    },
    {
     "name": "stderr",
     "output_type": "stream",
     "text": [
      " 67%|██████▋   | 1182/1768 [10:36<04:31,  2.16it/s]"
     ]
    },
    {
     "name": "stdout",
     "output_type": "stream",
     "text": [
      "Image and info_dict saved for a983c256635655ed394ed6805abf0499_0 in /Volumes/Newsmy/FM_dataset/VinDr-Mammo-finding/Train/a983c256635655ed394ed6805abf0499_0\n",
      "Image and info_dict saved for a983c256635655ed394ed6805abf0499_1 in /Volumes/Newsmy/FM_dataset/VinDr-Mammo-finding/Train/a983c256635655ed394ed6805abf0499_1\n"
     ]
    },
    {
     "name": "stderr",
     "output_type": "stream",
     "text": [
      " 67%|██████▋   | 1183/1768 [10:37<04:34,  2.13it/s]"
     ]
    },
    {
     "name": "stdout",
     "output_type": "stream",
     "text": [
      "Image and info_dict saved for a990c441ca083bb48de1d0d61709e80e_0 in /Volumes/Newsmy/FM_dataset/VinDr-Mammo-finding/Train/a990c441ca083bb48de1d0d61709e80e_0\n"
     ]
    },
    {
     "name": "stderr",
     "output_type": "stream",
     "text": [
      " 67%|██████▋   | 1184/1768 [10:37<04:27,  2.18it/s]"
     ]
    },
    {
     "name": "stdout",
     "output_type": "stream",
     "text": [
      "Image and info_dict saved for a9bfa788e807e641ee576e4f040749e7_0 in /Volumes/Newsmy/FM_dataset/VinDr-Mammo-finding/Train/a9bfa788e807e641ee576e4f040749e7_0\n"
     ]
    },
    {
     "name": "stderr",
     "output_type": "stream",
     "text": [
      " 67%|██████▋   | 1185/1768 [10:38<05:04,  1.92it/s]"
     ]
    },
    {
     "name": "stdout",
     "output_type": "stream",
     "text": [
      "Image and info_dict saved for a9c839293c5d12e8ccccd20281ffb692_0 in /Volumes/Newsmy/FM_dataset/VinDr-Mammo-finding/Train/a9c839293c5d12e8ccccd20281ffb692_0\n",
      "Image and info_dict saved for a9c839293c5d12e8ccccd20281ffb692_1 in /Volumes/Newsmy/FM_dataset/VinDr-Mammo-finding/Train/a9c839293c5d12e8ccccd20281ffb692_1\n"
     ]
    },
    {
     "name": "stderr",
     "output_type": "stream",
     "text": [
      " 67%|██████▋   | 1186/1768 [10:38<04:44,  2.04it/s]"
     ]
    },
    {
     "name": "stdout",
     "output_type": "stream",
     "text": [
      "Image and info_dict saved for a9f3f9e0195685ef7e02ecb2f90df158_0 in /Volumes/Newsmy/FM_dataset/VinDr-Mammo-finding/Test/a9f3f9e0195685ef7e02ecb2f90df158_0\n"
     ]
    },
    {
     "name": "stderr",
     "output_type": "stream",
     "text": [
      " 67%|██████▋   | 1187/1768 [10:39<04:56,  1.96it/s]"
     ]
    },
    {
     "name": "stdout",
     "output_type": "stream",
     "text": [
      "Image and info_dict saved for aa02e8c5422114d20da11c573d0ee8ee_0 in /Volumes/Newsmy/FM_dataset/VinDr-Mammo-finding/Eval/aa02e8c5422114d20da11c573d0ee8ee_0\n"
     ]
    },
    {
     "name": "stderr",
     "output_type": "stream",
     "text": [
      " 67%|██████▋   | 1188/1768 [10:39<04:51,  1.99it/s]"
     ]
    },
    {
     "name": "stdout",
     "output_type": "stream",
     "text": [
      "Image and info_dict saved for aa5a2d0995c8ade68690438531dfd770_0 in /Volumes/Newsmy/FM_dataset/VinDr-Mammo-finding/Train/aa5a2d0995c8ade68690438531dfd770_0\n"
     ]
    },
    {
     "name": "stderr",
     "output_type": "stream",
     "text": [
      " 67%|██████▋   | 1189/1768 [10:40<04:34,  2.11it/s]"
     ]
    },
    {
     "name": "stdout",
     "output_type": "stream",
     "text": [
      "Image and info_dict saved for aa9dc3e9a00540c39b2b8527cda27c03_0 in /Volumes/Newsmy/FM_dataset/VinDr-Mammo-finding/Train/aa9dc3e9a00540c39b2b8527cda27c03_0\n"
     ]
    },
    {
     "name": "stderr",
     "output_type": "stream",
     "text": [
      " 67%|██████▋   | 1190/1768 [10:40<04:37,  2.09it/s]"
     ]
    },
    {
     "name": "stdout",
     "output_type": "stream",
     "text": [
      "Image and info_dict saved for aad38467d1f04cedf300c9c8305a3536_0 in /Volumes/Newsmy/FM_dataset/VinDr-Mammo-finding/Eval/aad38467d1f04cedf300c9c8305a3536_0\n"
     ]
    },
    {
     "name": "stderr",
     "output_type": "stream",
     "text": [
      " 67%|██████▋   | 1191/1768 [10:41<04:31,  2.13it/s]"
     ]
    },
    {
     "name": "stdout",
     "output_type": "stream",
     "text": [
      "Image and info_dict saved for aad7e4ca3814389ed8caae071ccdde1e_0 in /Volumes/Newsmy/FM_dataset/VinDr-Mammo-finding/Train/aad7e4ca3814389ed8caae071ccdde1e_0\n"
     ]
    },
    {
     "name": "stderr",
     "output_type": "stream",
     "text": [
      " 67%|██████▋   | 1192/1768 [10:41<04:25,  2.17it/s]"
     ]
    },
    {
     "name": "stdout",
     "output_type": "stream",
     "text": [
      "Image and info_dict saved for aaf180356247eebe6ede4eee979c47f2_0 in /Volumes/Newsmy/FM_dataset/VinDr-Mammo-finding/Eval/aaf180356247eebe6ede4eee979c47f2_0\n"
     ]
    },
    {
     "name": "stderr",
     "output_type": "stream",
     "text": [
      " 67%|██████▋   | 1193/1768 [10:42<04:20,  2.21it/s]"
     ]
    },
    {
     "name": "stdout",
     "output_type": "stream",
     "text": [
      "Image and info_dict saved for ab0fffbafc7f1fd0ebdd8b1a2f9c6627_0 in /Volumes/Newsmy/FM_dataset/VinDr-Mammo-finding/Train/ab0fffbafc7f1fd0ebdd8b1a2f9c6627_0\n"
     ]
    },
    {
     "name": "stderr",
     "output_type": "stream",
     "text": [
      " 68%|██████▊   | 1194/1768 [10:42<04:23,  2.18it/s]"
     ]
    },
    {
     "name": "stdout",
     "output_type": "stream",
     "text": [
      "Image and info_dict saved for ab64b26192aa12958388ba0f83daf997_0 in /Volumes/Newsmy/FM_dataset/VinDr-Mammo-finding/Train/ab64b26192aa12958388ba0f83daf997_0\n"
     ]
    },
    {
     "name": "stderr",
     "output_type": "stream",
     "text": [
      " 68%|██████▊   | 1195/1768 [10:43<04:52,  1.96it/s]"
     ]
    },
    {
     "name": "stdout",
     "output_type": "stream",
     "text": [
      "Image and info_dict saved for ab972de519306ea9c1ce7629e8145cdf_0 in /Volumes/Newsmy/FM_dataset/VinDr-Mammo-finding/Eval/ab972de519306ea9c1ce7629e8145cdf_0\n",
      "Image and info_dict saved for ab972de519306ea9c1ce7629e8145cdf_1 in /Volumes/Newsmy/FM_dataset/VinDr-Mammo-finding/Eval/ab972de519306ea9c1ce7629e8145cdf_1\n"
     ]
    },
    {
     "name": "stderr",
     "output_type": "stream",
     "text": [
      " 68%|██████▊   | 1196/1768 [10:43<04:43,  2.02it/s]"
     ]
    },
    {
     "name": "stdout",
     "output_type": "stream",
     "text": [
      "Image and info_dict saved for aba23204ef01ba406cb1f3e6c4100617_0 in /Volumes/Newsmy/FM_dataset/VinDr-Mammo-finding/Train/aba23204ef01ba406cb1f3e6c4100617_0\n"
     ]
    },
    {
     "name": "stderr",
     "output_type": "stream",
     "text": [
      " 68%|██████▊   | 1197/1768 [10:44<04:37,  2.06it/s]"
     ]
    },
    {
     "name": "stdout",
     "output_type": "stream",
     "text": [
      "Image and info_dict saved for abfc2ef6885417a4f0f5fa1f5ec4d567_0 in /Volumes/Newsmy/FM_dataset/VinDr-Mammo-finding/Test/abfc2ef6885417a4f0f5fa1f5ec4d567_0\n",
      "Image and info_dict saved for abfc2ef6885417a4f0f5fa1f5ec4d567_1 in /Volumes/Newsmy/FM_dataset/VinDr-Mammo-finding/Test/abfc2ef6885417a4f0f5fa1f5ec4d567_1\n"
     ]
    },
    {
     "name": "stderr",
     "output_type": "stream",
     "text": [
      " 68%|██████▊   | 1198/1768 [10:44<04:41,  2.03it/s]"
     ]
    },
    {
     "name": "stdout",
     "output_type": "stream",
     "text": [
      "Image and info_dict saved for abfc83dc82a6fb3adcf06da0cc660434_0 in /Volumes/Newsmy/FM_dataset/VinDr-Mammo-finding/Test/abfc83dc82a6fb3adcf06da0cc660434_0\n",
      "Image and info_dict saved for ac315834dc489efe6d1e96d93ae8369d_0 in /Volumes/Newsmy/FM_dataset/VinDr-Mammo-finding/Train/ac315834dc489efe6d1e96d93ae8369d_0\n",
      "Image and info_dict saved for ac315834dc489efe6d1e96d93ae8369d_1 in /Volumes/Newsmy/FM_dataset/VinDr-Mammo-finding/Train/ac315834dc489efe6d1e96d93ae8369d_1\n"
     ]
    },
    {
     "name": "stderr",
     "output_type": "stream",
     "text": [
      " 68%|██████▊   | 1199/1768 [10:45<05:10,  1.83it/s]"
     ]
    },
    {
     "name": "stdout",
     "output_type": "stream",
     "text": [
      "Image and info_dict saved for ac315834dc489efe6d1e96d93ae8369d_2 in /Volumes/Newsmy/FM_dataset/VinDr-Mammo-finding/Train/ac315834dc489efe6d1e96d93ae8369d_2\n",
      "Image and info_dict saved for ac315834dc489efe6d1e96d93ae8369d_3 in /Volumes/Newsmy/FM_dataset/VinDr-Mammo-finding/Train/ac315834dc489efe6d1e96d93ae8369d_3\n"
     ]
    },
    {
     "name": "stderr",
     "output_type": "stream",
     "text": [
      " 68%|██████▊   | 1200/1768 [10:45<05:10,  1.83it/s]"
     ]
    },
    {
     "name": "stdout",
     "output_type": "stream",
     "text": [
      "Image and info_dict saved for ac546428a3bcaacc13ae92161932cc3d_0 in /Volumes/Newsmy/FM_dataset/VinDr-Mammo-finding/Train/ac546428a3bcaacc13ae92161932cc3d_0\n",
      "Image and info_dict saved for ac546428a3bcaacc13ae92161932cc3d_1 in /Volumes/Newsmy/FM_dataset/VinDr-Mammo-finding/Train/ac546428a3bcaacc13ae92161932cc3d_1\n"
     ]
    },
    {
     "name": "stderr",
     "output_type": "stream",
     "text": [
      " 68%|██████▊   | 1201/1768 [10:46<04:57,  1.91it/s]"
     ]
    },
    {
     "name": "stdout",
     "output_type": "stream",
     "text": [
      "Image and info_dict saved for aca3b43ea31f8a59d580742da52fc98f_0 in /Volumes/Newsmy/FM_dataset/VinDr-Mammo-finding/Test/aca3b43ea31f8a59d580742da52fc98f_0\n"
     ]
    },
    {
     "name": "stderr",
     "output_type": "stream",
     "text": [
      " 68%|██████▊   | 1202/1768 [10:46<04:37,  2.04it/s]"
     ]
    },
    {
     "name": "stdout",
     "output_type": "stream",
     "text": [
      "Image and info_dict saved for ace92b13e3349a378f9cb1bff82a364e_0 in /Volumes/Newsmy/FM_dataset/VinDr-Mammo-finding/Test/ace92b13e3349a378f9cb1bff82a364e_0\n"
     ]
    },
    {
     "name": "stderr",
     "output_type": "stream",
     "text": [
      " 68%|██████▊   | 1203/1768 [10:47<04:38,  2.03it/s]"
     ]
    },
    {
     "name": "stdout",
     "output_type": "stream",
     "text": [
      "Image and info_dict saved for ad1006a223318d07bbc3e58443a621a0_0 in /Volumes/Newsmy/FM_dataset/VinDr-Mammo-finding/Train/ad1006a223318d07bbc3e58443a621a0_0\n"
     ]
    },
    {
     "name": "stderr",
     "output_type": "stream",
     "text": [
      " 68%|██████▊   | 1204/1768 [10:47<04:31,  2.08it/s]"
     ]
    },
    {
     "name": "stdout",
     "output_type": "stream",
     "text": [
      "Image and info_dict saved for ad1966572be8828018237cd3ff44ae65_0 in /Volumes/Newsmy/FM_dataset/VinDr-Mammo-finding/Train/ad1966572be8828018237cd3ff44ae65_0\n",
      "Image and info_dict saved for ad1966572be8828018237cd3ff44ae65_1 in /Volumes/Newsmy/FM_dataset/VinDr-Mammo-finding/Train/ad1966572be8828018237cd3ff44ae65_1\n"
     ]
    },
    {
     "name": "stderr",
     "output_type": "stream",
     "text": [
      " 68%|██████▊   | 1205/1768 [10:48<04:23,  2.14it/s]"
     ]
    },
    {
     "name": "stdout",
     "output_type": "stream",
     "text": [
      "Image and info_dict saved for ad362576326ffb1cd0bcebf515a2b7c5_0 in /Volumes/Newsmy/FM_dataset/VinDr-Mammo-finding/Train/ad362576326ffb1cd0bcebf515a2b7c5_0\n"
     ]
    },
    {
     "name": "stderr",
     "output_type": "stream",
     "text": [
      " 68%|██████▊   | 1206/1768 [10:48<04:13,  2.21it/s]"
     ]
    },
    {
     "name": "stdout",
     "output_type": "stream",
     "text": [
      "Image and info_dict saved for ad50a0920f06e7bf2ff5ea7e4eda123a_0 in /Volumes/Newsmy/FM_dataset/VinDr-Mammo-finding/Test/ad50a0920f06e7bf2ff5ea7e4eda123a_0\n",
      "Image and info_dict saved for ad50a0920f06e7bf2ff5ea7e4eda123a_1 in /Volumes/Newsmy/FM_dataset/VinDr-Mammo-finding/Test/ad50a0920f06e7bf2ff5ea7e4eda123a_1\n"
     ]
    },
    {
     "name": "stderr",
     "output_type": "stream",
     "text": [
      " 68%|██████▊   | 1207/1768 [10:49<04:23,  2.13it/s]"
     ]
    },
    {
     "name": "stdout",
     "output_type": "stream",
     "text": [
      "Image and info_dict saved for ad58ab9331c1fc2632d308e995b8e64d_0 in /Volumes/Newsmy/FM_dataset/VinDr-Mammo-finding/Train/ad58ab9331c1fc2632d308e995b8e64d_0\n",
      "Image and info_dict saved for adb001c2aa189526561abc1ceb82810b_0 in /Volumes/Newsmy/FM_dataset/VinDr-Mammo-finding/Eval/adb001c2aa189526561abc1ceb82810b_0\n",
      "Image and info_dict saved for adb001c2aa189526561abc1ceb82810b_1 in /Volumes/Newsmy/FM_dataset/VinDr-Mammo-finding/Eval/adb001c2aa189526561abc1ceb82810b_1\n"
     ]
    },
    {
     "name": "stderr",
     "output_type": "stream",
     "text": [
      " 68%|██████▊   | 1208/1768 [10:49<04:58,  1.88it/s]"
     ]
    },
    {
     "name": "stdout",
     "output_type": "stream",
     "text": [
      "Image and info_dict saved for adb001c2aa189526561abc1ceb82810b_2 in /Volumes/Newsmy/FM_dataset/VinDr-Mammo-finding/Eval/adb001c2aa189526561abc1ceb82810b_2\n"
     ]
    },
    {
     "name": "stderr",
     "output_type": "stream",
     "text": [
      " 68%|██████▊   | 1209/1768 [10:50<04:44,  1.96it/s]"
     ]
    },
    {
     "name": "stdout",
     "output_type": "stream",
     "text": [
      "Image and info_dict saved for adceda15be6b2af50774ec5e223ef25b_0 in /Volumes/Newsmy/FM_dataset/VinDr-Mammo-finding/Train/adceda15be6b2af50774ec5e223ef25b_0\n"
     ]
    },
    {
     "name": "stderr",
     "output_type": "stream",
     "text": [
      " 68%|██████▊   | 1210/1768 [10:50<04:43,  1.96it/s]"
     ]
    },
    {
     "name": "stdout",
     "output_type": "stream",
     "text": [
      "Image and info_dict saved for adf2b5ddeb8b44917636bf92e77c8cb7_0 in /Volumes/Newsmy/FM_dataset/VinDr-Mammo-finding/Eval/adf2b5ddeb8b44917636bf92e77c8cb7_0\n"
     ]
    },
    {
     "name": "stderr",
     "output_type": "stream",
     "text": [
      " 68%|██████▊   | 1211/1768 [10:51<04:46,  1.94it/s]"
     ]
    },
    {
     "name": "stdout",
     "output_type": "stream",
     "text": [
      "Image and info_dict saved for adf961b5379855af0293ca526f3d0c51_0 in /Volumes/Newsmy/FM_dataset/VinDr-Mammo-finding/Train/adf961b5379855af0293ca526f3d0c51_0\n"
     ]
    },
    {
     "name": "stderr",
     "output_type": "stream",
     "text": [
      " 69%|██████▊   | 1212/1768 [10:51<04:54,  1.89it/s]"
     ]
    },
    {
     "name": "stdout",
     "output_type": "stream",
     "text": [
      "Image and info_dict saved for ae11bc8148353ad7c7865b87c9c6c6a5_0 in /Volumes/Newsmy/FM_dataset/VinDr-Mammo-finding/Eval/ae11bc8148353ad7c7865b87c9c6c6a5_0\n"
     ]
    },
    {
     "name": "stderr",
     "output_type": "stream",
     "text": [
      " 69%|██████▊   | 1213/1768 [10:52<04:45,  1.94it/s]"
     ]
    },
    {
     "name": "stdout",
     "output_type": "stream",
     "text": [
      "Image and info_dict saved for ae4055546b9d8de7c390e9a3fb5ecc69_0 in /Volumes/Newsmy/FM_dataset/VinDr-Mammo-finding/Train/ae4055546b9d8de7c390e9a3fb5ecc69_0\n"
     ]
    },
    {
     "name": "stderr",
     "output_type": "stream",
     "text": [
      " 69%|██████▊   | 1214/1768 [10:52<04:44,  1.95it/s]"
     ]
    },
    {
     "name": "stdout",
     "output_type": "stream",
     "text": [
      "Image and info_dict saved for ae53832faa32776ff8fdf25f419b534d_0 in /Volumes/Newsmy/FM_dataset/VinDr-Mammo-finding/Train/ae53832faa32776ff8fdf25f419b534d_0\n"
     ]
    },
    {
     "name": "stderr",
     "output_type": "stream",
     "text": [
      " 69%|██████▊   | 1215/1768 [10:53<04:38,  1.99it/s]"
     ]
    },
    {
     "name": "stdout",
     "output_type": "stream",
     "text": [
      "Image and info_dict saved for ae5627834118974e626219897bba18a4_0 in /Volumes/Newsmy/FM_dataset/VinDr-Mammo-finding/Train/ae5627834118974e626219897bba18a4_0\n"
     ]
    },
    {
     "name": "stderr",
     "output_type": "stream",
     "text": [
      " 69%|██████▉   | 1216/1768 [10:53<04:43,  1.95it/s]"
     ]
    },
    {
     "name": "stdout",
     "output_type": "stream",
     "text": [
      "Image and info_dict saved for ae672f355541acfae894998dea1ec998_0 in /Volumes/Newsmy/FM_dataset/VinDr-Mammo-finding/Train/ae672f355541acfae894998dea1ec998_0\n"
     ]
    },
    {
     "name": "stderr",
     "output_type": "stream",
     "text": [
      " 69%|██████▉   | 1217/1768 [10:54<04:42,  1.95it/s]"
     ]
    },
    {
     "name": "stdout",
     "output_type": "stream",
     "text": [
      "Image and info_dict saved for ae75f02b14b5582997856eacaf8aa995_0 in /Volumes/Newsmy/FM_dataset/VinDr-Mammo-finding/Train/ae75f02b14b5582997856eacaf8aa995_0\n",
      "Image and info_dict saved for ae75f02b14b5582997856eacaf8aa995_1 in /Volumes/Newsmy/FM_dataset/VinDr-Mammo-finding/Train/ae75f02b14b5582997856eacaf8aa995_1\n"
     ]
    },
    {
     "name": "stderr",
     "output_type": "stream",
     "text": [
      " 69%|██████▉   | 1218/1768 [10:54<04:41,  1.96it/s]"
     ]
    },
    {
     "name": "stdout",
     "output_type": "stream",
     "text": [
      "Image and info_dict saved for aeac1f7ba555dd75e6d37ada31e3acfa_0 in /Volumes/Newsmy/FM_dataset/VinDr-Mammo-finding/Train/aeac1f7ba555dd75e6d37ada31e3acfa_0\n"
     ]
    },
    {
     "name": "stderr",
     "output_type": "stream",
     "text": [
      " 69%|██████▉   | 1219/1768 [10:55<04:39,  1.96it/s]"
     ]
    },
    {
     "name": "stdout",
     "output_type": "stream",
     "text": [
      "Image and info_dict saved for aedd473a95d8a4b1cb1280c0ae3d5eac_0 in /Volumes/Newsmy/FM_dataset/VinDr-Mammo-finding/Train/aedd473a95d8a4b1cb1280c0ae3d5eac_0\n"
     ]
    },
    {
     "name": "stderr",
     "output_type": "stream",
     "text": [
      " 69%|██████▉   | 1220/1768 [10:55<04:21,  2.10it/s]"
     ]
    },
    {
     "name": "stdout",
     "output_type": "stream",
     "text": [
      "Image and info_dict saved for aef03916de63955e9491414ef63c7b9e_0 in /Volumes/Newsmy/FM_dataset/VinDr-Mammo-finding/Train/aef03916de63955e9491414ef63c7b9e_0\n"
     ]
    },
    {
     "name": "stderr",
     "output_type": "stream",
     "text": [
      " 69%|██████▉   | 1221/1768 [10:56<04:04,  2.24it/s]"
     ]
    },
    {
     "name": "stdout",
     "output_type": "stream",
     "text": [
      "Image and info_dict saved for aef8595fed1885ce9cb1644ba5d88f6f_0 in /Volumes/Newsmy/FM_dataset/VinDr-Mammo-finding/Train/aef8595fed1885ce9cb1644ba5d88f6f_0\n"
     ]
    },
    {
     "name": "stderr",
     "output_type": "stream",
     "text": [
      " 69%|██████▉   | 1222/1768 [10:56<04:00,  2.27it/s]"
     ]
    },
    {
     "name": "stdout",
     "output_type": "stream",
     "text": [
      "Image and info_dict saved for af0c0fea36bbb9bf3252321cca4e275c_0 in /Volumes/Newsmy/FM_dataset/VinDr-Mammo-finding/Train/af0c0fea36bbb9bf3252321cca4e275c_0\n"
     ]
    },
    {
     "name": "stderr",
     "output_type": "stream",
     "text": [
      " 69%|██████▉   | 1223/1768 [10:57<04:07,  2.20it/s]"
     ]
    },
    {
     "name": "stdout",
     "output_type": "stream",
     "text": [
      "Image and info_dict saved for af180f8f7c44e2a5e060e7ea01772fb3_0 in /Volumes/Newsmy/FM_dataset/VinDr-Mammo-finding/Test/af180f8f7c44e2a5e060e7ea01772fb3_0\n"
     ]
    },
    {
     "name": "stderr",
     "output_type": "stream",
     "text": [
      " 69%|██████▉   | 1224/1768 [10:57<03:49,  2.37it/s]"
     ]
    },
    {
     "name": "stdout",
     "output_type": "stream",
     "text": [
      "Image and info_dict saved for af34fd8e49975ab42bd8343e4f5eb821_0 in /Volumes/Newsmy/FM_dataset/VinDr-Mammo-finding/Test/af34fd8e49975ab42bd8343e4f5eb821_0\n"
     ]
    },
    {
     "name": "stderr",
     "output_type": "stream",
     "text": [
      " 69%|██████▉   | 1225/1768 [10:57<03:45,  2.41it/s]"
     ]
    },
    {
     "name": "stdout",
     "output_type": "stream",
     "text": [
      "Image and info_dict saved for af57a0fab5ac65a0649e1c704dd9ff77_0 in /Volumes/Newsmy/FM_dataset/VinDr-Mammo-finding/Train/af57a0fab5ac65a0649e1c704dd9ff77_0\n"
     ]
    },
    {
     "name": "stderr",
     "output_type": "stream",
     "text": [
      " 69%|██████▉   | 1226/1768 [10:58<03:57,  2.28it/s]"
     ]
    },
    {
     "name": "stdout",
     "output_type": "stream",
     "text": [
      "Image and info_dict saved for af5c3f9e3b64ead393c4b160eb3349f8_0 in /Volumes/Newsmy/FM_dataset/VinDr-Mammo-finding/Train/af5c3f9e3b64ead393c4b160eb3349f8_0\n"
     ]
    },
    {
     "name": "stderr",
     "output_type": "stream",
     "text": [
      " 69%|██████▉   | 1227/1768 [10:58<04:08,  2.18it/s]"
     ]
    },
    {
     "name": "stdout",
     "output_type": "stream",
     "text": [
      "Image and info_dict saved for af72a8d27de519be26f82dc872eb4de0_0 in /Volumes/Newsmy/FM_dataset/VinDr-Mammo-finding/Test/af72a8d27de519be26f82dc872eb4de0_0\n"
     ]
    },
    {
     "name": "stderr",
     "output_type": "stream",
     "text": [
      " 69%|██████▉   | 1228/1768 [10:59<04:14,  2.13it/s]"
     ]
    },
    {
     "name": "stdout",
     "output_type": "stream",
     "text": [
      "Image and info_dict saved for af9ae4f3a9ca14aa12966567ee6c5ba7_0 in /Volumes/Newsmy/FM_dataset/VinDr-Mammo-finding/Train/af9ae4f3a9ca14aa12966567ee6c5ba7_0\n"
     ]
    },
    {
     "name": "stderr",
     "output_type": "stream",
     "text": [
      " 70%|██████▉   | 1229/1768 [11:00<05:13,  1.72it/s]"
     ]
    },
    {
     "name": "stdout",
     "output_type": "stream",
     "text": [
      "Image and info_dict saved for afa93965854c2094f476cc01f96435b0_0 in /Volumes/Newsmy/FM_dataset/VinDr-Mammo-finding/Test/afa93965854c2094f476cc01f96435b0_0\n",
      "Image and info_dict saved for afa93965854c2094f476cc01f96435b0_1 in /Volumes/Newsmy/FM_dataset/VinDr-Mammo-finding/Test/afa93965854c2094f476cc01f96435b0_1\n"
     ]
    },
    {
     "name": "stderr",
     "output_type": "stream",
     "text": [
      " 70%|██████▉   | 1230/1768 [11:00<05:19,  1.68it/s]"
     ]
    },
    {
     "name": "stdout",
     "output_type": "stream",
     "text": [
      "Image and info_dict saved for afd2aeb98826aa8c3ae237b856e7097b_0 in /Volumes/Newsmy/FM_dataset/VinDr-Mammo-finding/Train/afd2aeb98826aa8c3ae237b856e7097b_0\n",
      "Image and info_dict saved for afd2aeb98826aa8c3ae237b856e7097b_1 in /Volumes/Newsmy/FM_dataset/VinDr-Mammo-finding/Train/afd2aeb98826aa8c3ae237b856e7097b_1\n"
     ]
    },
    {
     "name": "stderr",
     "output_type": "stream",
     "text": [
      " 70%|██████▉   | 1231/1768 [11:01<05:02,  1.78it/s]"
     ]
    },
    {
     "name": "stdout",
     "output_type": "stream",
     "text": [
      "Image and info_dict saved for aff405327ebfea400a1ac96c37a7a698_0 in /Volumes/Newsmy/FM_dataset/VinDr-Mammo-finding/Test/aff405327ebfea400a1ac96c37a7a698_0\n"
     ]
    },
    {
     "name": "stderr",
     "output_type": "stream",
     "text": [
      " 70%|██████▉   | 1232/1768 [11:01<04:45,  1.88it/s]"
     ]
    },
    {
     "name": "stdout",
     "output_type": "stream",
     "text": [
      "Image and info_dict saved for affdc5439f3771b95b57873ce1c31293_0 in /Volumes/Newsmy/FM_dataset/VinDr-Mammo-finding/Train/affdc5439f3771b95b57873ce1c31293_0\n"
     ]
    },
    {
     "name": "stderr",
     "output_type": "stream",
     "text": [
      " 70%|██████▉   | 1233/1768 [11:02<04:30,  1.98it/s]"
     ]
    },
    {
     "name": "stdout",
     "output_type": "stream",
     "text": [
      "Image and info_dict saved for b021bb379f747c45e88e5285b97f0ab1_0 in /Volumes/Newsmy/FM_dataset/VinDr-Mammo-finding/Train/b021bb379f747c45e88e5285b97f0ab1_0\n",
      "Image and info_dict saved for b021bb379f747c45e88e5285b97f0ab1_1 in /Volumes/Newsmy/FM_dataset/VinDr-Mammo-finding/Train/b021bb379f747c45e88e5285b97f0ab1_1\n"
     ]
    },
    {
     "name": "stderr",
     "output_type": "stream",
     "text": [
      " 70%|██████▉   | 1234/1768 [11:02<04:33,  1.95it/s]"
     ]
    },
    {
     "name": "stdout",
     "output_type": "stream",
     "text": [
      "Image and info_dict saved for b023b85742fe3ce7dbecb2c140135451_0 in /Volumes/Newsmy/FM_dataset/VinDr-Mammo-finding/Train/b023b85742fe3ce7dbecb2c140135451_0\n",
      "Image and info_dict saved for b0251c254808b8d6de51d69952fb35d0_0 in /Volumes/Newsmy/FM_dataset/VinDr-Mammo-finding/Test/b0251c254808b8d6de51d69952fb35d0_0\n",
      "Image and info_dict saved for b0251c254808b8d6de51d69952fb35d0_1 in /Volumes/Newsmy/FM_dataset/VinDr-Mammo-finding/Test/b0251c254808b8d6de51d69952fb35d0_1\n",
      "Image and info_dict saved for b0251c254808b8d6de51d69952fb35d0_2 in /Volumes/Newsmy/FM_dataset/VinDr-Mammo-finding/Test/b0251c254808b8d6de51d69952fb35d0_2\n"
     ]
    },
    {
     "name": "stderr",
     "output_type": "stream",
     "text": [
      " 70%|██████▉   | 1235/1768 [11:03<05:13,  1.70it/s]"
     ]
    },
    {
     "name": "stdout",
     "output_type": "stream",
     "text": [
      "Image and info_dict saved for b0251c254808b8d6de51d69952fb35d0_3 in /Volumes/Newsmy/FM_dataset/VinDr-Mammo-finding/Test/b0251c254808b8d6de51d69952fb35d0_3\n"
     ]
    },
    {
     "name": "stderr",
     "output_type": "stream",
     "text": [
      " 70%|██████▉   | 1236/1768 [11:03<04:52,  1.82it/s]"
     ]
    },
    {
     "name": "stdout",
     "output_type": "stream",
     "text": [
      "Image and info_dict saved for b034e7a53c1d9964d85c222267f663b9_0 in /Volumes/Newsmy/FM_dataset/VinDr-Mammo-finding/Train/b034e7a53c1d9964d85c222267f663b9_0\n"
     ]
    },
    {
     "name": "stderr",
     "output_type": "stream",
     "text": [
      " 70%|██████▉   | 1237/1768 [11:04<04:22,  2.02it/s]"
     ]
    },
    {
     "name": "stdout",
     "output_type": "stream",
     "text": [
      "Image and info_dict saved for b04c7c85b42e5886fb1ddf86273f80b7_0 in /Volumes/Newsmy/FM_dataset/VinDr-Mammo-finding/Eval/b04c7c85b42e5886fb1ddf86273f80b7_0\n"
     ]
    },
    {
     "name": "stderr",
     "output_type": "stream",
     "text": [
      " 70%|███████   | 1238/1768 [11:04<04:08,  2.13it/s]"
     ]
    },
    {
     "name": "stdout",
     "output_type": "stream",
     "text": [
      "Image and info_dict saved for b0a6eda12ef3fc485ed8ae107171b2f7_0 in /Volumes/Newsmy/FM_dataset/VinDr-Mammo-finding/Train/b0a6eda12ef3fc485ed8ae107171b2f7_0\n"
     ]
    },
    {
     "name": "stderr",
     "output_type": "stream",
     "text": [
      " 70%|███████   | 1239/1768 [11:05<04:15,  2.07it/s]"
     ]
    },
    {
     "name": "stdout",
     "output_type": "stream",
     "text": [
      "Image and info_dict saved for b0c4744265ba1ea6bdf3c1d0991b79a1_0 in /Volumes/Newsmy/FM_dataset/VinDr-Mammo-finding/Eval/b0c4744265ba1ea6bdf3c1d0991b79a1_0\n",
      "Image and info_dict saved for b119e0c84e1e3d4a66072329abd56857_0 in /Volumes/Newsmy/FM_dataset/VinDr-Mammo-finding/Eval/b119e0c84e1e3d4a66072329abd56857_0\n",
      "Image and info_dict saved for b119e0c84e1e3d4a66072329abd56857_1 in /Volumes/Newsmy/FM_dataset/VinDr-Mammo-finding/Eval/b119e0c84e1e3d4a66072329abd56857_1\n",
      "Image and info_dict saved for b119e0c84e1e3d4a66072329abd56857_2 in /Volumes/Newsmy/FM_dataset/VinDr-Mammo-finding/Eval/b119e0c84e1e3d4a66072329abd56857_2\n"
     ]
    },
    {
     "name": "stderr",
     "output_type": "stream",
     "text": [
      " 70%|███████   | 1240/1768 [11:05<04:54,  1.79it/s]"
     ]
    },
    {
     "name": "stdout",
     "output_type": "stream",
     "text": [
      "Image and info_dict saved for b119e0c84e1e3d4a66072329abd56857_3 in /Volumes/Newsmy/FM_dataset/VinDr-Mammo-finding/Eval/b119e0c84e1e3d4a66072329abd56857_3\n"
     ]
    },
    {
     "name": "stderr",
     "output_type": "stream",
     "text": [
      " 70%|███████   | 1241/1768 [11:06<04:42,  1.86it/s]"
     ]
    },
    {
     "name": "stdout",
     "output_type": "stream",
     "text": [
      "Image and info_dict saved for b121886bb82345876549a7e548ee8d7c_0 in /Volumes/Newsmy/FM_dataset/VinDr-Mammo-finding/Train/b121886bb82345876549a7e548ee8d7c_0\n"
     ]
    },
    {
     "name": "stderr",
     "output_type": "stream",
     "text": [
      " 70%|███████   | 1242/1768 [11:06<04:19,  2.03it/s]"
     ]
    },
    {
     "name": "stdout",
     "output_type": "stream",
     "text": [
      "Image and info_dict saved for b14d40b0221fc76cf05acbec7d89a223_0 in /Volumes/Newsmy/FM_dataset/VinDr-Mammo-finding/Eval/b14d40b0221fc76cf05acbec7d89a223_0\n"
     ]
    },
    {
     "name": "stderr",
     "output_type": "stream",
     "text": [
      " 70%|███████   | 1243/1768 [11:07<04:25,  1.98it/s]"
     ]
    },
    {
     "name": "stdout",
     "output_type": "stream",
     "text": [
      "Image and info_dict saved for b163d5081f17dcf491d3364762732154_0 in /Volumes/Newsmy/FM_dataset/VinDr-Mammo-finding/Eval/b163d5081f17dcf491d3364762732154_0\n"
     ]
    },
    {
     "name": "stderr",
     "output_type": "stream",
     "text": [
      " 70%|███████   | 1244/1768 [11:08<04:57,  1.76it/s]"
     ]
    },
    {
     "name": "stdout",
     "output_type": "stream",
     "text": [
      "Image and info_dict saved for b168a7d700de2e34518c2f186e9c86c4_0 in /Volumes/Newsmy/FM_dataset/VinDr-Mammo-finding/Train/b168a7d700de2e34518c2f186e9c86c4_0\n"
     ]
    },
    {
     "name": "stderr",
     "output_type": "stream",
     "text": [
      " 70%|███████   | 1245/1768 [11:08<04:24,  1.98it/s]"
     ]
    },
    {
     "name": "stdout",
     "output_type": "stream",
     "text": [
      "Image and info_dict saved for b170cb834c8bccc382bc8a1b667e6100_0 in /Volumes/Newsmy/FM_dataset/VinDr-Mammo-finding/Test/b170cb834c8bccc382bc8a1b667e6100_0\n"
     ]
    },
    {
     "name": "stderr",
     "output_type": "stream",
     "text": [
      " 70%|███████   | 1246/1768 [11:08<04:13,  2.06it/s]"
     ]
    },
    {
     "name": "stdout",
     "output_type": "stream",
     "text": [
      "Image and info_dict saved for b1b53e1cdc26a14db5820eb8eeca2331_0 in /Volumes/Newsmy/FM_dataset/VinDr-Mammo-finding/Test/b1b53e1cdc26a14db5820eb8eeca2331_0\n"
     ]
    },
    {
     "name": "stderr",
     "output_type": "stream",
     "text": [
      " 71%|███████   | 1247/1768 [11:09<04:13,  2.06it/s]"
     ]
    },
    {
     "name": "stdout",
     "output_type": "stream",
     "text": [
      "Image and info_dict saved for b1c20a2818e9a9699fb1924b9c6322bf_0 in /Volumes/Newsmy/FM_dataset/VinDr-Mammo-finding/Train/b1c20a2818e9a9699fb1924b9c6322bf_0\n"
     ]
    },
    {
     "name": "stderr",
     "output_type": "stream",
     "text": [
      " 71%|███████   | 1248/1768 [11:09<04:05,  2.11it/s]"
     ]
    },
    {
     "name": "stdout",
     "output_type": "stream",
     "text": [
      "Image and info_dict saved for b25780262123eea6faf63a3aa741d228_0 in /Volumes/Newsmy/FM_dataset/VinDr-Mammo-finding/Train/b25780262123eea6faf63a3aa741d228_0\n"
     ]
    },
    {
     "name": "stderr",
     "output_type": "stream",
     "text": [
      " 71%|███████   | 1249/1768 [11:10<04:07,  2.10it/s]"
     ]
    },
    {
     "name": "stdout",
     "output_type": "stream",
     "text": [
      "Image and info_dict saved for b265dd3363160ba9ee2dd78759f7f03d_0 in /Volumes/Newsmy/FM_dataset/VinDr-Mammo-finding/Train/b265dd3363160ba9ee2dd78759f7f03d_0\n"
     ]
    },
    {
     "name": "stderr",
     "output_type": "stream",
     "text": [
      " 71%|███████   | 1250/1768 [11:10<04:18,  2.01it/s]"
     ]
    },
    {
     "name": "stdout",
     "output_type": "stream",
     "text": [
      "Image and info_dict saved for b26f40af33a396c9bbb1a6eb6e3ac2fd_0 in /Volumes/Newsmy/FM_dataset/VinDr-Mammo-finding/Train/b26f40af33a396c9bbb1a6eb6e3ac2fd_0\n",
      "Image and info_dict saved for b26f40af33a396c9bbb1a6eb6e3ac2fd_1 in /Volumes/Newsmy/FM_dataset/VinDr-Mammo-finding/Train/b26f40af33a396c9bbb1a6eb6e3ac2fd_1\n"
     ]
    },
    {
     "name": "stderr",
     "output_type": "stream",
     "text": [
      " 71%|███████   | 1251/1768 [11:11<04:50,  1.78it/s]"
     ]
    },
    {
     "name": "stdout",
     "output_type": "stream",
     "text": [
      "Image and info_dict saved for b3314a4376544671be4d6247e4eab34f_0 in /Volumes/Newsmy/FM_dataset/VinDr-Mammo-finding/Train/b3314a4376544671be4d6247e4eab34f_0\n"
     ]
    },
    {
     "name": "stderr",
     "output_type": "stream",
     "text": [
      " 71%|███████   | 1252/1768 [11:12<04:28,  1.92it/s]"
     ]
    },
    {
     "name": "stdout",
     "output_type": "stream",
     "text": [
      "Image and info_dict saved for b36dc28c1d4668a643a7d5edc1ccbc5d_0 in /Volumes/Newsmy/FM_dataset/VinDr-Mammo-finding/Train/b36dc28c1d4668a643a7d5edc1ccbc5d_0\n"
     ]
    },
    {
     "name": "stderr",
     "output_type": "stream",
     "text": [
      " 71%|███████   | 1253/1768 [11:12<04:36,  1.86it/s]"
     ]
    },
    {
     "name": "stdout",
     "output_type": "stream",
     "text": [
      "Image and info_dict saved for b38c4d76e10c004a7b779c01b3f66da0_0 in /Volumes/Newsmy/FM_dataset/VinDr-Mammo-finding/Test/b38c4d76e10c004a7b779c01b3f66da0_0\n",
      "Image and info_dict saved for b38c4d76e10c004a7b779c01b3f66da0_1 in /Volumes/Newsmy/FM_dataset/VinDr-Mammo-finding/Test/b38c4d76e10c004a7b779c01b3f66da0_1\n"
     ]
    },
    {
     "name": "stderr",
     "output_type": "stream",
     "text": [
      " 71%|███████   | 1254/1768 [11:13<04:39,  1.84it/s]"
     ]
    },
    {
     "name": "stdout",
     "output_type": "stream",
     "text": [
      "Image and info_dict saved for b3b1ee6495c486b8a6a6a2db5abda251_0 in /Volumes/Newsmy/FM_dataset/VinDr-Mammo-finding/Train/b3b1ee6495c486b8a6a6a2db5abda251_0\n"
     ]
    },
    {
     "name": "stderr",
     "output_type": "stream",
     "text": [
      " 71%|███████   | 1255/1768 [11:13<03:57,  2.16it/s]"
     ]
    },
    {
     "name": "stdout",
     "output_type": "stream",
     "text": [
      "Image and info_dict saved for b3e9bcccb175193705f4f94f06c0a9bb_0 in /Volumes/Newsmy/FM_dataset/VinDr-Mammo-finding/Train/b3e9bcccb175193705f4f94f06c0a9bb_0\n",
      "Image and info_dict saved for b3faf86a872751ca591a20a46c68b7dc_0 in /Volumes/Newsmy/FM_dataset/VinDr-Mammo-finding/Eval/b3faf86a872751ca591a20a46c68b7dc_0\n",
      "Image and info_dict saved for b3faf86a872751ca591a20a46c68b7dc_1 in /Volumes/Newsmy/FM_dataset/VinDr-Mammo-finding/Eval/b3faf86a872751ca591a20a46c68b7dc_1\n",
      "Image and info_dict saved for b3faf86a872751ca591a20a46c68b7dc_2 in /Volumes/Newsmy/FM_dataset/VinDr-Mammo-finding/Eval/b3faf86a872751ca591a20a46c68b7dc_2\n"
     ]
    },
    {
     "name": "stderr",
     "output_type": "stream",
     "text": [
      " 71%|███████   | 1256/1768 [11:14<05:03,  1.69it/s]"
     ]
    },
    {
     "name": "stdout",
     "output_type": "stream",
     "text": [
      "Image and info_dict saved for b3faf86a872751ca591a20a46c68b7dc_3 in /Volumes/Newsmy/FM_dataset/VinDr-Mammo-finding/Eval/b3faf86a872751ca591a20a46c68b7dc_3\n"
     ]
    },
    {
     "name": "stderr",
     "output_type": "stream",
     "text": [
      " 71%|███████   | 1257/1768 [11:14<04:44,  1.79it/s]"
     ]
    },
    {
     "name": "stdout",
     "output_type": "stream",
     "text": [
      "Image and info_dict saved for b4199ebb8667d80b6884654b88c15a4e_0 in /Volumes/Newsmy/FM_dataset/VinDr-Mammo-finding/Train/b4199ebb8667d80b6884654b88c15a4e_0\n"
     ]
    },
    {
     "name": "stderr",
     "output_type": "stream",
     "text": [
      " 71%|███████   | 1258/1768 [11:15<04:39,  1.83it/s]"
     ]
    },
    {
     "name": "stdout",
     "output_type": "stream",
     "text": [
      "Image and info_dict saved for b458f37ae9b350ebc733d249db75401e_0 in /Volumes/Newsmy/FM_dataset/VinDr-Mammo-finding/Train/b458f37ae9b350ebc733d249db75401e_0\n"
     ]
    },
    {
     "name": "stderr",
     "output_type": "stream",
     "text": [
      " 71%|███████   | 1259/1768 [11:15<04:29,  1.89it/s]"
     ]
    },
    {
     "name": "stdout",
     "output_type": "stream",
     "text": [
      "Image and info_dict saved for b4659ca39d982567f231131634135791_0 in /Volumes/Newsmy/FM_dataset/VinDr-Mammo-finding/Train/b4659ca39d982567f231131634135791_0\n"
     ]
    },
    {
     "name": "stderr",
     "output_type": "stream",
     "text": [
      " 71%|███████▏  | 1260/1768 [11:16<04:07,  2.05it/s]"
     ]
    },
    {
     "name": "stdout",
     "output_type": "stream",
     "text": [
      "Image and info_dict saved for b48df6b5cc6f2a613d0a36889242b02a_0 in /Volumes/Newsmy/FM_dataset/VinDr-Mammo-finding/Test/b48df6b5cc6f2a613d0a36889242b02a_0\n"
     ]
    },
    {
     "name": "stderr",
     "output_type": "stream",
     "text": [
      " 71%|███████▏  | 1261/1768 [11:16<04:04,  2.08it/s]"
     ]
    },
    {
     "name": "stdout",
     "output_type": "stream",
     "text": [
      "Image and info_dict saved for b4b83d6c6e16b93b623b9ac0943a665c_0 in /Volumes/Newsmy/FM_dataset/VinDr-Mammo-finding/Train/b4b83d6c6e16b93b623b9ac0943a665c_0\n"
     ]
    },
    {
     "name": "stderr",
     "output_type": "stream",
     "text": [
      " 71%|███████▏  | 1262/1768 [11:17<04:04,  2.07it/s]"
     ]
    },
    {
     "name": "stdout",
     "output_type": "stream",
     "text": [
      "Image and info_dict saved for b4cdace38d87b34a4112a7bcd07d710f_0 in /Volumes/Newsmy/FM_dataset/VinDr-Mammo-finding/Train/b4cdace38d87b34a4112a7bcd07d710f_0\n",
      "Image and info_dict saved for b50b5943e02004c10ac6de73d93cbe50_0 in /Volumes/Newsmy/FM_dataset/VinDr-Mammo-finding/Test/b50b5943e02004c10ac6de73d93cbe50_0\n",
      "Image and info_dict saved for b50b5943e02004c10ac6de73d93cbe50_1 in /Volumes/Newsmy/FM_dataset/VinDr-Mammo-finding/Test/b50b5943e02004c10ac6de73d93cbe50_1\n"
     ]
    },
    {
     "name": "stderr",
     "output_type": "stream",
     "text": [
      " 71%|███████▏  | 1263/1768 [11:18<04:59,  1.69it/s]"
     ]
    },
    {
     "name": "stdout",
     "output_type": "stream",
     "text": [
      "Image and info_dict saved for b50b5943e02004c10ac6de73d93cbe50_2 in /Volumes/Newsmy/FM_dataset/VinDr-Mammo-finding/Test/b50b5943e02004c10ac6de73d93cbe50_2\n",
      "Image and info_dict saved for b50e0e1100d4f3fb389534cee03a2b03_0 in /Volumes/Newsmy/FM_dataset/VinDr-Mammo-finding/Eval/b50e0e1100d4f3fb389534cee03a2b03_0\n",
      "Image and info_dict saved for b50e0e1100d4f3fb389534cee03a2b03_1 in /Volumes/Newsmy/FM_dataset/VinDr-Mammo-finding/Eval/b50e0e1100d4f3fb389534cee03a2b03_1\n"
     ]
    },
    {
     "name": "stderr",
     "output_type": "stream",
     "text": [
      " 71%|███████▏  | 1264/1768 [11:18<05:28,  1.53it/s]"
     ]
    },
    {
     "name": "stdout",
     "output_type": "stream",
     "text": [
      "Image and info_dict saved for b50e0e1100d4f3fb389534cee03a2b03_2 in /Volumes/Newsmy/FM_dataset/VinDr-Mammo-finding/Eval/b50e0e1100d4f3fb389534cee03a2b03_2\n"
     ]
    },
    {
     "name": "stderr",
     "output_type": "stream",
     "text": [
      " 72%|███████▏  | 1265/1768 [11:19<05:09,  1.62it/s]"
     ]
    },
    {
     "name": "stdout",
     "output_type": "stream",
     "text": [
      "Image and info_dict saved for b58fafcbf4302b4f98e820182abf04ae_0 in /Volumes/Newsmy/FM_dataset/VinDr-Mammo-finding/Train/b58fafcbf4302b4f98e820182abf04ae_0\n"
     ]
    },
    {
     "name": "stderr",
     "output_type": "stream",
     "text": [
      " 72%|███████▏  | 1266/1768 [11:20<05:18,  1.58it/s]"
     ]
    },
    {
     "name": "stdout",
     "output_type": "stream",
     "text": [
      "Image and info_dict saved for b5ae06a11207fe5bd03c4ff05dca25f9_0 in /Volumes/Newsmy/FM_dataset/VinDr-Mammo-finding/Train/b5ae06a11207fe5bd03c4ff05dca25f9_0\n",
      "Image and info_dict saved for b5ae06a11207fe5bd03c4ff05dca25f9_1 in /Volumes/Newsmy/FM_dataset/VinDr-Mammo-finding/Train/b5ae06a11207fe5bd03c4ff05dca25f9_1\n",
      "Image and info_dict saved for b5ae06a11207fe5bd03c4ff05dca25f9_2 in /Volumes/Newsmy/FM_dataset/VinDr-Mammo-finding/Train/b5ae06a11207fe5bd03c4ff05dca25f9_2\n"
     ]
    },
    {
     "name": "stderr",
     "output_type": "stream",
     "text": [
      " 72%|███████▏  | 1267/1768 [11:20<05:12,  1.60it/s]"
     ]
    },
    {
     "name": "stdout",
     "output_type": "stream",
     "text": [
      "Image and info_dict saved for b5afd0e7eda07b33e4ae37f1a8251c06_0 in /Volumes/Newsmy/FM_dataset/VinDr-Mammo-finding/Train/b5afd0e7eda07b33e4ae37f1a8251c06_0\n"
     ]
    },
    {
     "name": "stderr",
     "output_type": "stream",
     "text": [
      " 72%|███████▏  | 1268/1768 [11:21<04:46,  1.75it/s]"
     ]
    },
    {
     "name": "stdout",
     "output_type": "stream",
     "text": [
      "Image and info_dict saved for b5b3c0e3fc91e759bd354a9601855ec3_0 in /Volumes/Newsmy/FM_dataset/VinDr-Mammo-finding/Train/b5b3c0e3fc91e759bd354a9601855ec3_0\n",
      "Image and info_dict saved for b5b4758224e6a66a587182fcdc5f1f1d_0 in /Volumes/Newsmy/FM_dataset/VinDr-Mammo-finding/Train/b5b4758224e6a66a587182fcdc5f1f1d_0\n",
      "Image and info_dict saved for b5b4758224e6a66a587182fcdc5f1f1d_1 in /Volumes/Newsmy/FM_dataset/VinDr-Mammo-finding/Train/b5b4758224e6a66a587182fcdc5f1f1d_1\n",
      "Image and info_dict saved for b5b4758224e6a66a587182fcdc5f1f1d_2 in /Volumes/Newsmy/FM_dataset/VinDr-Mammo-finding/Train/b5b4758224e6a66a587182fcdc5f1f1d_2\n"
     ]
    },
    {
     "name": "stderr",
     "output_type": "stream",
     "text": [
      " 72%|███████▏  | 1269/1768 [11:21<05:15,  1.58it/s]"
     ]
    },
    {
     "name": "stdout",
     "output_type": "stream",
     "text": [
      "Image and info_dict saved for b5b4758224e6a66a587182fcdc5f1f1d_3 in /Volumes/Newsmy/FM_dataset/VinDr-Mammo-finding/Train/b5b4758224e6a66a587182fcdc5f1f1d_3\n",
      "Image and info_dict saved for b5dd38ab5b600ce41e1afafe67f56b3c_0 in /Volumes/Newsmy/FM_dataset/VinDr-Mammo-finding/Train/b5dd38ab5b600ce41e1afafe67f56b3c_0\n",
      "Image and info_dict saved for b5dd38ab5b600ce41e1afafe67f56b3c_1 in /Volumes/Newsmy/FM_dataset/VinDr-Mammo-finding/Train/b5dd38ab5b600ce41e1afafe67f56b3c_1\n"
     ]
    },
    {
     "name": "stderr",
     "output_type": "stream",
     "text": [
      " 72%|███████▏  | 1270/1768 [11:23<07:14,  1.15it/s]"
     ]
    },
    {
     "name": "stdout",
     "output_type": "stream",
     "text": [
      "Image and info_dict saved for b5dd38ab5b600ce41e1afafe67f56b3c_2 in /Volumes/Newsmy/FM_dataset/VinDr-Mammo-finding/Train/b5dd38ab5b600ce41e1afafe67f56b3c_2\n"
     ]
    },
    {
     "name": "stderr",
     "output_type": "stream",
     "text": [
      " 72%|███████▏  | 1271/1768 [11:24<06:55,  1.20it/s]"
     ]
    },
    {
     "name": "stdout",
     "output_type": "stream",
     "text": [
      "Image and info_dict saved for b63ad02240804d2fe3f351b38b44f381_0 in /Volumes/Newsmy/FM_dataset/VinDr-Mammo-finding/Test/b63ad02240804d2fe3f351b38b44f381_0\n"
     ]
    },
    {
     "name": "stderr",
     "output_type": "stream",
     "text": [
      " 72%|███████▏  | 1272/1768 [11:24<05:45,  1.43it/s]"
     ]
    },
    {
     "name": "stdout",
     "output_type": "stream",
     "text": [
      "Image and info_dict saved for b68769ba266c8a6ccfc95b649e14e23c_0 in /Volumes/Newsmy/FM_dataset/VinDr-Mammo-finding/Train/b68769ba266c8a6ccfc95b649e14e23c_0\n"
     ]
    },
    {
     "name": "stderr",
     "output_type": "stream",
     "text": [
      " 72%|███████▏  | 1273/1768 [11:24<05:07,  1.61it/s]"
     ]
    },
    {
     "name": "stdout",
     "output_type": "stream",
     "text": [
      "Image and info_dict saved for b68bf8e5a0640f159ad977f0e64aac69_0 in /Volumes/Newsmy/FM_dataset/VinDr-Mammo-finding/Train/b68bf8e5a0640f159ad977f0e64aac69_0\n"
     ]
    },
    {
     "name": "stderr",
     "output_type": "stream",
     "text": [
      " 72%|███████▏  | 1274/1768 [11:25<05:22,  1.53it/s]"
     ]
    },
    {
     "name": "stdout",
     "output_type": "stream",
     "text": [
      "Image and info_dict saved for b6bc74e44e775f7ba981fb608fc16ef6_0 in /Volumes/Newsmy/FM_dataset/VinDr-Mammo-finding/Train/b6bc74e44e775f7ba981fb608fc16ef6_0\n",
      "Image and info_dict saved for b6bc74e44e775f7ba981fb608fc16ef6_1 in /Volumes/Newsmy/FM_dataset/VinDr-Mammo-finding/Train/b6bc74e44e775f7ba981fb608fc16ef6_1\n"
     ]
    },
    {
     "name": "stderr",
     "output_type": "stream",
     "text": [
      " 72%|███████▏  | 1275/1768 [11:26<05:05,  1.62it/s]"
     ]
    },
    {
     "name": "stdout",
     "output_type": "stream",
     "text": [
      "Image and info_dict saved for b6c7b7ecd66d7dba1fa601170b9b6ebf_0 in /Volumes/Newsmy/FM_dataset/VinDr-Mammo-finding/Test/b6c7b7ecd66d7dba1fa601170b9b6ebf_0\n"
     ]
    },
    {
     "name": "stderr",
     "output_type": "stream",
     "text": [
      " 72%|███████▏  | 1276/1768 [11:26<04:53,  1.68it/s]"
     ]
    },
    {
     "name": "stdout",
     "output_type": "stream",
     "text": [
      "Image and info_dict saved for b6d0903ba96ff1157a6b055bd56181d3_0 in /Volumes/Newsmy/FM_dataset/VinDr-Mammo-finding/Train/b6d0903ba96ff1157a6b055bd56181d3_0\n",
      "Image and info_dict saved for b6d0903ba96ff1157a6b055bd56181d3_1 in /Volumes/Newsmy/FM_dataset/VinDr-Mammo-finding/Train/b6d0903ba96ff1157a6b055bd56181d3_1\n"
     ]
    },
    {
     "name": "stderr",
     "output_type": "stream",
     "text": [
      " 72%|███████▏  | 1277/1768 [11:27<04:47,  1.71it/s]"
     ]
    },
    {
     "name": "stdout",
     "output_type": "stream",
     "text": [
      "Image and info_dict saved for b6db414be07dc1fb3cbf82a9e3a4966a_0 in /Volumes/Newsmy/FM_dataset/VinDr-Mammo-finding/Eval/b6db414be07dc1fb3cbf82a9e3a4966a_0\n"
     ]
    },
    {
     "name": "stderr",
     "output_type": "stream",
     "text": [
      " 72%|███████▏  | 1278/1768 [11:27<04:27,  1.83it/s]"
     ]
    },
    {
     "name": "stdout",
     "output_type": "stream",
     "text": [
      "Image and info_dict saved for b6f1e05b3f5da14ffa7df86d7586cc17_0 in /Volumes/Newsmy/FM_dataset/VinDr-Mammo-finding/Train/b6f1e05b3f5da14ffa7df86d7586cc17_0\n"
     ]
    },
    {
     "name": "stderr",
     "output_type": "stream",
     "text": [
      " 72%|███████▏  | 1279/1768 [11:28<04:37,  1.76it/s]"
     ]
    },
    {
     "name": "stdout",
     "output_type": "stream",
     "text": [
      "Image and info_dict saved for b723b49547d7fae7e4117db8d93a4fdf_0 in /Volumes/Newsmy/FM_dataset/VinDr-Mammo-finding/Train/b723b49547d7fae7e4117db8d93a4fdf_0\n",
      "Image and info_dict saved for b723b49547d7fae7e4117db8d93a4fdf_1 in /Volumes/Newsmy/FM_dataset/VinDr-Mammo-finding/Train/b723b49547d7fae7e4117db8d93a4fdf_1\n"
     ]
    },
    {
     "name": "stderr",
     "output_type": "stream",
     "text": [
      " 72%|███████▏  | 1280/1768 [11:28<04:28,  1.82it/s]"
     ]
    },
    {
     "name": "stdout",
     "output_type": "stream",
     "text": [
      "Image and info_dict saved for b72971acec10b39f4582a1f908224dba_0 in /Volumes/Newsmy/FM_dataset/VinDr-Mammo-finding/Train/b72971acec10b39f4582a1f908224dba_0\n",
      "Image and info_dict saved for b73d4e04b69d52ba6f350cc77da54f95_0 in /Volumes/Newsmy/FM_dataset/VinDr-Mammo-finding/Test/b73d4e04b69d52ba6f350cc77da54f95_0\n",
      "Image and info_dict saved for b73d4e04b69d52ba6f350cc77da54f95_1 in /Volumes/Newsmy/FM_dataset/VinDr-Mammo-finding/Test/b73d4e04b69d52ba6f350cc77da54f95_1\n",
      "Image and info_dict saved for b73d4e04b69d52ba6f350cc77da54f95_2 in /Volumes/Newsmy/FM_dataset/VinDr-Mammo-finding/Test/b73d4e04b69d52ba6f350cc77da54f95_2\n"
     ]
    },
    {
     "name": "stderr",
     "output_type": "stream",
     "text": [
      " 72%|███████▏  | 1281/1768 [11:29<05:04,  1.60it/s]"
     ]
    },
    {
     "name": "stdout",
     "output_type": "stream",
     "text": [
      "Image and info_dict saved for b73d4e04b69d52ba6f350cc77da54f95_3 in /Volumes/Newsmy/FM_dataset/VinDr-Mammo-finding/Test/b73d4e04b69d52ba6f350cc77da54f95_3\n"
     ]
    },
    {
     "name": "stderr",
     "output_type": "stream",
     "text": [
      " 73%|███████▎  | 1282/1768 [11:30<05:20,  1.51it/s]"
     ]
    },
    {
     "name": "stdout",
     "output_type": "stream",
     "text": [
      "Image and info_dict saved for b74f95f32636aff0b94540891c6b1f14_0 in /Volumes/Newsmy/FM_dataset/VinDr-Mammo-finding/Test/b74f95f32636aff0b94540891c6b1f14_0\n"
     ]
    },
    {
     "name": "stderr",
     "output_type": "stream",
     "text": [
      " 73%|███████▎  | 1283/1768 [11:30<05:06,  1.58it/s]"
     ]
    },
    {
     "name": "stdout",
     "output_type": "stream",
     "text": [
      "Image and info_dict saved for b75d6c0a7d9ca2545b994559f1327422_0 in /Volumes/Newsmy/FM_dataset/VinDr-Mammo-finding/Train/b75d6c0a7d9ca2545b994559f1327422_0\n",
      "Image and info_dict saved for b75d6c0a7d9ca2545b994559f1327422_1 in /Volumes/Newsmy/FM_dataset/VinDr-Mammo-finding/Train/b75d6c0a7d9ca2545b994559f1327422_1\n"
     ]
    },
    {
     "name": "stderr",
     "output_type": "stream",
     "text": [
      " 73%|███████▎  | 1284/1768 [11:31<04:54,  1.64it/s]"
     ]
    },
    {
     "name": "stdout",
     "output_type": "stream",
     "text": [
      "Image and info_dict saved for b782203ed69e33c6589b504c1bef50ee_0 in /Volumes/Newsmy/FM_dataset/VinDr-Mammo-finding/Train/b782203ed69e33c6589b504c1bef50ee_0\n",
      "Image and info_dict saved for b782203ed69e33c6589b504c1bef50ee_1 in /Volumes/Newsmy/FM_dataset/VinDr-Mammo-finding/Train/b782203ed69e33c6589b504c1bef50ee_1\n"
     ]
    },
    {
     "name": "stderr",
     "output_type": "stream",
     "text": [
      " 73%|███████▎  | 1285/1768 [11:31<04:11,  1.92it/s]"
     ]
    },
    {
     "name": "stdout",
     "output_type": "stream",
     "text": [
      "Image and info_dict saved for b7ba81b370fea9ed54efd7b07e813548_0 in /Volumes/Newsmy/FM_dataset/VinDr-Mammo-finding/Train/b7ba81b370fea9ed54efd7b07e813548_0\n"
     ]
    },
    {
     "name": "stderr",
     "output_type": "stream",
     "text": [
      " 73%|███████▎  | 1286/1768 [11:32<04:00,  2.00it/s]"
     ]
    },
    {
     "name": "stdout",
     "output_type": "stream",
     "text": [
      "Image and info_dict saved for b7e56b7480ec9c0243f0d552c416288b_0 in /Volumes/Newsmy/FM_dataset/VinDr-Mammo-finding/Train/b7e56b7480ec9c0243f0d552c416288b_0\n"
     ]
    },
    {
     "name": "stderr",
     "output_type": "stream",
     "text": [
      " 73%|███████▎  | 1287/1768 [11:32<04:09,  1.93it/s]"
     ]
    },
    {
     "name": "stdout",
     "output_type": "stream",
     "text": [
      "Image and info_dict saved for b7fc54391dddda25d09ba4427e394ce7_0 in /Volumes/Newsmy/FM_dataset/VinDr-Mammo-finding/Train/b7fc54391dddda25d09ba4427e394ce7_0\n"
     ]
    },
    {
     "name": "stderr",
     "output_type": "stream",
     "text": [
      " 73%|███████▎  | 1288/1768 [11:33<04:25,  1.81it/s]"
     ]
    },
    {
     "name": "stdout",
     "output_type": "stream",
     "text": [
      "Image and info_dict saved for b80aec227daf048bc723532de2fadecc_0 in /Volumes/Newsmy/FM_dataset/VinDr-Mammo-finding/Train/b80aec227daf048bc723532de2fadecc_0\n"
     ]
    },
    {
     "name": "stderr",
     "output_type": "stream",
     "text": [
      " 73%|███████▎  | 1289/1768 [11:33<04:18,  1.85it/s]"
     ]
    },
    {
     "name": "stdout",
     "output_type": "stream",
     "text": [
      "Image and info_dict saved for b821f26947d67932afed6e9bf64d23e1_0 in /Volumes/Newsmy/FM_dataset/VinDr-Mammo-finding/Train/b821f26947d67932afed6e9bf64d23e1_0\n"
     ]
    },
    {
     "name": "stderr",
     "output_type": "stream",
     "text": [
      " 73%|███████▎  | 1290/1768 [11:34<04:09,  1.92it/s]"
     ]
    },
    {
     "name": "stdout",
     "output_type": "stream",
     "text": [
      "Image and info_dict saved for b83a2bb098dbb6c6de8bf68d45604d0f_0 in /Volumes/Newsmy/FM_dataset/VinDr-Mammo-finding/Test/b83a2bb098dbb6c6de8bf68d45604d0f_0\n"
     ]
    },
    {
     "name": "stderr",
     "output_type": "stream",
     "text": [
      " 73%|███████▎  | 1291/1768 [11:34<04:15,  1.87it/s]"
     ]
    },
    {
     "name": "stdout",
     "output_type": "stream",
     "text": [
      "Image and info_dict saved for b841c1e419eaa15e8510dbc178dd0e21_0 in /Volumes/Newsmy/FM_dataset/VinDr-Mammo-finding/Test/b841c1e419eaa15e8510dbc178dd0e21_0\n"
     ]
    },
    {
     "name": "stderr",
     "output_type": "stream",
     "text": [
      " 73%|███████▎  | 1292/1768 [11:35<04:48,  1.65it/s]"
     ]
    },
    {
     "name": "stdout",
     "output_type": "stream",
     "text": [
      "Image and info_dict saved for b84c938e5d6e25da98625dbba840b521_0 in /Volumes/Newsmy/FM_dataset/VinDr-Mammo-finding/Train/b84c938e5d6e25da98625dbba840b521_0\n",
      "Image and info_dict saved for b84c938e5d6e25da98625dbba840b521_1 in /Volumes/Newsmy/FM_dataset/VinDr-Mammo-finding/Train/b84c938e5d6e25da98625dbba840b521_1\n",
      "Image and info_dict saved for b8a5dccad0d098308ff3296000716b52_0 in /Volumes/Newsmy/FM_dataset/VinDr-Mammo-finding/Train/b8a5dccad0d098308ff3296000716b52_0\n",
      "Image and info_dict saved for b8a5dccad0d098308ff3296000716b52_1 in /Volumes/Newsmy/FM_dataset/VinDr-Mammo-finding/Train/b8a5dccad0d098308ff3296000716b52_1\n",
      "Image and info_dict saved for b8a5dccad0d098308ff3296000716b52_2 in /Volumes/Newsmy/FM_dataset/VinDr-Mammo-finding/Train/b8a5dccad0d098308ff3296000716b52_2\n",
      "Image and info_dict saved for b8a5dccad0d098308ff3296000716b52_3 in /Volumes/Newsmy/FM_dataset/VinDr-Mammo-finding/Train/b8a5dccad0d098308ff3296000716b52_3\n"
     ]
    },
    {
     "name": "stderr",
     "output_type": "stream",
     "text": [
      " 73%|███████▎  | 1293/1768 [11:36<05:21,  1.48it/s]"
     ]
    },
    {
     "name": "stdout",
     "output_type": "stream",
     "text": [
      "Image and info_dict saved for b8a5dccad0d098308ff3296000716b52_4 in /Volumes/Newsmy/FM_dataset/VinDr-Mammo-finding/Train/b8a5dccad0d098308ff3296000716b52_4\n"
     ]
    },
    {
     "name": "stderr",
     "output_type": "stream",
     "text": [
      " 73%|███████▎  | 1294/1768 [11:37<05:02,  1.57it/s]"
     ]
    },
    {
     "name": "stdout",
     "output_type": "stream",
     "text": [
      "Image and info_dict saved for b8ad72c3472c5490c59f664b2a6f6269_0 in /Volumes/Newsmy/FM_dataset/VinDr-Mammo-finding/Eval/b8ad72c3472c5490c59f664b2a6f6269_0\n"
     ]
    },
    {
     "name": "stderr",
     "output_type": "stream",
     "text": [
      " 73%|███████▎  | 1295/1768 [11:37<04:53,  1.61it/s]"
     ]
    },
    {
     "name": "stdout",
     "output_type": "stream",
     "text": [
      "Image and info_dict saved for b8bbbfe3016169f2182794ccbea6bcdf_0 in /Volumes/Newsmy/FM_dataset/VinDr-Mammo-finding/Train/b8bbbfe3016169f2182794ccbea6bcdf_0\n",
      "Image and info_dict saved for b8bbbfe3016169f2182794ccbea6bcdf_1 in /Volumes/Newsmy/FM_dataset/VinDr-Mammo-finding/Train/b8bbbfe3016169f2182794ccbea6bcdf_1\n"
     ]
    },
    {
     "name": "stderr",
     "output_type": "stream",
     "text": [
      " 73%|███████▎  | 1296/1768 [11:38<04:48,  1.64it/s]"
     ]
    },
    {
     "name": "stdout",
     "output_type": "stream",
     "text": [
      "Image and info_dict saved for b90a0d1dcb980a1d0dd62562ae015305_0 in /Volumes/Newsmy/FM_dataset/VinDr-Mammo-finding/Train/b90a0d1dcb980a1d0dd62562ae015305_0\n"
     ]
    },
    {
     "name": "stderr",
     "output_type": "stream",
     "text": [
      " 73%|███████▎  | 1297/1768 [11:38<04:29,  1.75it/s]"
     ]
    },
    {
     "name": "stdout",
     "output_type": "stream",
     "text": [
      "Image and info_dict saved for b934cdb31aeabf5d6cbeb6caa32ab73b_0 in /Volumes/Newsmy/FM_dataset/VinDr-Mammo-finding/Train/b934cdb31aeabf5d6cbeb6caa32ab73b_0\n"
     ]
    },
    {
     "name": "stderr",
     "output_type": "stream",
     "text": [
      " 73%|███████▎  | 1298/1768 [11:39<04:54,  1.59it/s]"
     ]
    },
    {
     "name": "stdout",
     "output_type": "stream",
     "text": [
      "Image and info_dict saved for b93ab1fb751d7b9dc1ca0983d4e25632_0 in /Volumes/Newsmy/FM_dataset/VinDr-Mammo-finding/Eval/b93ab1fb751d7b9dc1ca0983d4e25632_0\n",
      "Image and info_dict saved for b93ab1fb751d7b9dc1ca0983d4e25632_1 in /Volumes/Newsmy/FM_dataset/VinDr-Mammo-finding/Eval/b93ab1fb751d7b9dc1ca0983d4e25632_1\n"
     ]
    },
    {
     "name": "stderr",
     "output_type": "stream",
     "text": [
      " 73%|███████▎  | 1299/1768 [11:40<04:43,  1.65it/s]"
     ]
    },
    {
     "name": "stdout",
     "output_type": "stream",
     "text": [
      "Image and info_dict saved for b945abc59af0d7ee09cde14365a66567_0 in /Volumes/Newsmy/FM_dataset/VinDr-Mammo-finding/Train/b945abc59af0d7ee09cde14365a66567_0\n"
     ]
    },
    {
     "name": "stderr",
     "output_type": "stream",
     "text": [
      " 74%|███████▎  | 1300/1768 [11:40<04:29,  1.73it/s]"
     ]
    },
    {
     "name": "stdout",
     "output_type": "stream",
     "text": [
      "Image and info_dict saved for b95641a993217e0ad74fe10d2304c3d9_0 in /Volumes/Newsmy/FM_dataset/VinDr-Mammo-finding/Train/b95641a993217e0ad74fe10d2304c3d9_0\n"
     ]
    },
    {
     "name": "stderr",
     "output_type": "stream",
     "text": [
      " 74%|███████▎  | 1301/1768 [11:41<04:13,  1.84it/s]"
     ]
    },
    {
     "name": "stdout",
     "output_type": "stream",
     "text": [
      "Image and info_dict saved for b9acb8b89e1d532e7eb66ba74209fef2_0 in /Volumes/Newsmy/FM_dataset/VinDr-Mammo-finding/Train/b9acb8b89e1d532e7eb66ba74209fef2_0\n"
     ]
    },
    {
     "name": "stderr",
     "output_type": "stream",
     "text": [
      " 74%|███████▎  | 1302/1768 [11:41<04:01,  1.93it/s]"
     ]
    },
    {
     "name": "stdout",
     "output_type": "stream",
     "text": [
      "Image and info_dict saved for b9bbc66abf98202f5b621d55bd59b599_0 in /Volumes/Newsmy/FM_dataset/VinDr-Mammo-finding/Train/b9bbc66abf98202f5b621d55bd59b599_0\n"
     ]
    },
    {
     "name": "stderr",
     "output_type": "stream",
     "text": [
      " 74%|███████▎  | 1303/1768 [11:41<03:50,  2.02it/s]"
     ]
    },
    {
     "name": "stdout",
     "output_type": "stream",
     "text": [
      "Image and info_dict saved for b9d99b6404393a9e23ebf953b786ca6d_0 in /Volumes/Newsmy/FM_dataset/VinDr-Mammo-finding/Train/b9d99b6404393a9e23ebf953b786ca6d_0\n"
     ]
    },
    {
     "name": "stderr",
     "output_type": "stream",
     "text": [
      " 74%|███████▍  | 1304/1768 [11:42<03:54,  1.98it/s]"
     ]
    },
    {
     "name": "stdout",
     "output_type": "stream",
     "text": [
      "Image and info_dict saved for b9df6f8a352a6986d91c0d9186059072_0 in /Volumes/Newsmy/FM_dataset/VinDr-Mammo-finding/Train/b9df6f8a352a6986d91c0d9186059072_0\n"
     ]
    },
    {
     "name": "stderr",
     "output_type": "stream",
     "text": [
      " 74%|███████▍  | 1305/1768 [11:42<03:44,  2.06it/s]"
     ]
    },
    {
     "name": "stdout",
     "output_type": "stream",
     "text": [
      "Image and info_dict saved for b9e891b754cb3c5b6ecb4b202e8be242_0 in /Volumes/Newsmy/FM_dataset/VinDr-Mammo-finding/Test/b9e891b754cb3c5b6ecb4b202e8be242_0\n"
     ]
    },
    {
     "name": "stderr",
     "output_type": "stream",
     "text": [
      " 74%|███████▍  | 1306/1768 [11:43<03:31,  2.18it/s]"
     ]
    },
    {
     "name": "stdout",
     "output_type": "stream",
     "text": [
      "Image and info_dict saved for b9e991c85f3549a49b8f13f318f6f7d8_0 in /Volumes/Newsmy/FM_dataset/VinDr-Mammo-finding/Test/b9e991c85f3549a49b8f13f318f6f7d8_0\n"
     ]
    },
    {
     "name": "stderr",
     "output_type": "stream",
     "text": [
      " 74%|███████▍  | 1307/1768 [11:43<03:40,  2.09it/s]"
     ]
    },
    {
     "name": "stdout",
     "output_type": "stream",
     "text": [
      "Image and info_dict saved for b9f3c7402b190c39344e31c20797851c_0 in /Volumes/Newsmy/FM_dataset/VinDr-Mammo-finding/Train/b9f3c7402b190c39344e31c20797851c_0\n"
     ]
    },
    {
     "name": "stderr",
     "output_type": "stream",
     "text": [
      " 74%|███████▍  | 1308/1768 [11:44<03:38,  2.11it/s]"
     ]
    },
    {
     "name": "stdout",
     "output_type": "stream",
     "text": [
      "Image and info_dict saved for ba14c8b4eb3eb84c202adc1454b05783_0 in /Volumes/Newsmy/FM_dataset/VinDr-Mammo-finding/Train/ba14c8b4eb3eb84c202adc1454b05783_0\n"
     ]
    },
    {
     "name": "stderr",
     "output_type": "stream",
     "text": [
      " 74%|███████▍  | 1309/1768 [11:44<03:42,  2.06it/s]"
     ]
    },
    {
     "name": "stdout",
     "output_type": "stream",
     "text": [
      "Image and info_dict saved for ba2c3703a000ce6807432b4e42e50b3b_0 in /Volumes/Newsmy/FM_dataset/VinDr-Mammo-finding/Test/ba2c3703a000ce6807432b4e42e50b3b_0\n"
     ]
    },
    {
     "name": "stderr",
     "output_type": "stream",
     "text": [
      " 74%|███████▍  | 1310/1768 [11:45<03:21,  2.28it/s]"
     ]
    },
    {
     "name": "stdout",
     "output_type": "stream",
     "text": [
      "Image and info_dict saved for ba775e5f1427792ae0299ff9921af91c_0 in /Volumes/Newsmy/FM_dataset/VinDr-Mammo-finding/Train/ba775e5f1427792ae0299ff9921af91c_0\n"
     ]
    },
    {
     "name": "stderr",
     "output_type": "stream",
     "text": [
      " 74%|███████▍  | 1311/1768 [11:45<03:35,  2.12it/s]"
     ]
    },
    {
     "name": "stdout",
     "output_type": "stream",
     "text": [
      "Image and info_dict saved for bad7f3502dbbe04dccafa396afe08f49_0 in /Volumes/Newsmy/FM_dataset/VinDr-Mammo-finding/Train/bad7f3502dbbe04dccafa396afe08f49_0\n"
     ]
    },
    {
     "name": "stderr",
     "output_type": "stream",
     "text": [
      " 74%|███████▍  | 1312/1768 [11:46<03:44,  2.03it/s]"
     ]
    },
    {
     "name": "stdout",
     "output_type": "stream",
     "text": [
      "Image and info_dict saved for baebd41037a14dee4a2f864330be4328_0 in /Volumes/Newsmy/FM_dataset/VinDr-Mammo-finding/Train/baebd41037a14dee4a2f864330be4328_0\n"
     ]
    },
    {
     "name": "stderr",
     "output_type": "stream",
     "text": [
      " 74%|███████▍  | 1313/1768 [11:46<03:28,  2.19it/s]"
     ]
    },
    {
     "name": "stdout",
     "output_type": "stream",
     "text": [
      "Image and info_dict saved for baf511682f18f8cdca59fa1eaff9f494_0 in /Volumes/Newsmy/FM_dataset/VinDr-Mammo-finding/Train/baf511682f18f8cdca59fa1eaff9f494_0\n",
      "Image and info_dict saved for baf7c94a68bf95aea8bc26e1903c0ebe_0 in /Volumes/Newsmy/FM_dataset/VinDr-Mammo-finding/Train/baf7c94a68bf95aea8bc26e1903c0ebe_0\n",
      "Image and info_dict saved for baf7c94a68bf95aea8bc26e1903c0ebe_1 in /Volumes/Newsmy/FM_dataset/VinDr-Mammo-finding/Train/baf7c94a68bf95aea8bc26e1903c0ebe_1\n"
     ]
    },
    {
     "name": "stderr",
     "output_type": "stream",
     "text": [
      " 74%|███████▍  | 1314/1768 [11:47<03:49,  1.98it/s]"
     ]
    },
    {
     "name": "stdout",
     "output_type": "stream",
     "text": [
      "Image and info_dict saved for baf7c94a68bf95aea8bc26e1903c0ebe_2 in /Volumes/Newsmy/FM_dataset/VinDr-Mammo-finding/Train/baf7c94a68bf95aea8bc26e1903c0ebe_2\n"
     ]
    },
    {
     "name": "stderr",
     "output_type": "stream",
     "text": [
      " 74%|███████▍  | 1315/1768 [11:47<03:44,  2.02it/s]"
     ]
    },
    {
     "name": "stdout",
     "output_type": "stream",
     "text": [
      "Image and info_dict saved for bb0b2baa47fd2d18a435cbaccdcf4fdd_0 in /Volumes/Newsmy/FM_dataset/VinDr-Mammo-finding/Test/bb0b2baa47fd2d18a435cbaccdcf4fdd_0\n"
     ]
    },
    {
     "name": "stderr",
     "output_type": "stream",
     "text": [
      " 74%|███████▍  | 1316/1768 [11:48<04:04,  1.85it/s]"
     ]
    },
    {
     "name": "stdout",
     "output_type": "stream",
     "text": [
      "Image and info_dict saved for bb19a2e5438e9f93f4170dfa421cea65_0 in /Volumes/Newsmy/FM_dataset/VinDr-Mammo-finding/Train/bb19a2e5438e9f93f4170dfa421cea65_0\n"
     ]
    },
    {
     "name": "stderr",
     "output_type": "stream",
     "text": [
      " 74%|███████▍  | 1317/1768 [11:48<04:09,  1.81it/s]"
     ]
    },
    {
     "name": "stdout",
     "output_type": "stream",
     "text": [
      "Image and info_dict saved for bb36a71e3c2978d0b36fe9b6a8282e1b_0 in /Volumes/Newsmy/FM_dataset/VinDr-Mammo-finding/Train/bb36a71e3c2978d0b36fe9b6a8282e1b_0\n"
     ]
    },
    {
     "name": "stderr",
     "output_type": "stream",
     "text": [
      " 75%|███████▍  | 1318/1768 [11:49<04:10,  1.80it/s]"
     ]
    },
    {
     "name": "stdout",
     "output_type": "stream",
     "text": [
      "Image and info_dict saved for bb771ab48723c9d1e2a87e8bb19d8dd0_0 in /Volumes/Newsmy/FM_dataset/VinDr-Mammo-finding/Train/bb771ab48723c9d1e2a87e8bb19d8dd0_0\n"
     ]
    },
    {
     "name": "stderr",
     "output_type": "stream",
     "text": [
      " 75%|███████▍  | 1319/1768 [11:49<03:55,  1.90it/s]"
     ]
    },
    {
     "name": "stdout",
     "output_type": "stream",
     "text": [
      "Image and info_dict saved for bb8713e5123f6c09c16aca25c51845b5_0 in /Volumes/Newsmy/FM_dataset/VinDr-Mammo-finding/Train/bb8713e5123f6c09c16aca25c51845b5_0\n"
     ]
    },
    {
     "name": "stderr",
     "output_type": "stream",
     "text": [
      " 75%|███████▍  | 1320/1768 [11:50<03:46,  1.98it/s]"
     ]
    },
    {
     "name": "stdout",
     "output_type": "stream",
     "text": [
      "Image and info_dict saved for bb97a6f3d9cf4e685a34c6bd5dec36bd_0 in /Volumes/Newsmy/FM_dataset/VinDr-Mammo-finding/Train/bb97a6f3d9cf4e685a34c6bd5dec36bd_0\n"
     ]
    },
    {
     "name": "stderr",
     "output_type": "stream",
     "text": [
      " 75%|███████▍  | 1321/1768 [11:50<03:27,  2.15it/s]"
     ]
    },
    {
     "name": "stdout",
     "output_type": "stream",
     "text": [
      "Image and info_dict saved for bb99ba8cd1313281b5e78c662e07e012_0 in /Volumes/Newsmy/FM_dataset/VinDr-Mammo-finding/Train/bb99ba8cd1313281b5e78c662e07e012_0\n"
     ]
    },
    {
     "name": "stderr",
     "output_type": "stream",
     "text": [
      " 75%|███████▍  | 1322/1768 [11:51<03:55,  1.89it/s]"
     ]
    },
    {
     "name": "stdout",
     "output_type": "stream",
     "text": [
      "Image and info_dict saved for bbe1310b92727a2313d8202042140e01_0 in /Volumes/Newsmy/FM_dataset/VinDr-Mammo-finding/Train/bbe1310b92727a2313d8202042140e01_0\n",
      "Image and info_dict saved for bbe1310b92727a2313d8202042140e01_1 in /Volumes/Newsmy/FM_dataset/VinDr-Mammo-finding/Train/bbe1310b92727a2313d8202042140e01_1\n"
     ]
    },
    {
     "name": "stderr",
     "output_type": "stream",
     "text": [
      " 75%|███████▍  | 1323/1768 [11:51<03:48,  1.95it/s]"
     ]
    },
    {
     "name": "stdout",
     "output_type": "stream",
     "text": [
      "Image and info_dict saved for bc0ae93db877210820958502af7a1461_0 in /Volumes/Newsmy/FM_dataset/VinDr-Mammo-finding/Train/bc0ae93db877210820958502af7a1461_0\n"
     ]
    },
    {
     "name": "stderr",
     "output_type": "stream",
     "text": [
      " 75%|███████▍  | 1324/1768 [11:52<03:48,  1.94it/s]"
     ]
    },
    {
     "name": "stdout",
     "output_type": "stream",
     "text": [
      "Image and info_dict saved for bc44e100d187ad2eecc32236ec7c2b11_0 in /Volumes/Newsmy/FM_dataset/VinDr-Mammo-finding/Eval/bc44e100d187ad2eecc32236ec7c2b11_0\n"
     ]
    },
    {
     "name": "stderr",
     "output_type": "stream",
     "text": [
      " 75%|███████▍  | 1325/1768 [11:52<03:34,  2.07it/s]"
     ]
    },
    {
     "name": "stdout",
     "output_type": "stream",
     "text": [
      "Image and info_dict saved for bc522d7b2cc013bfbc6e7bef74022ed7_0 in /Volumes/Newsmy/FM_dataset/VinDr-Mammo-finding/Train/bc522d7b2cc013bfbc6e7bef74022ed7_0\n"
     ]
    },
    {
     "name": "stderr",
     "output_type": "stream",
     "text": [
      " 75%|███████▌  | 1326/1768 [11:53<03:41,  2.00it/s]"
     ]
    },
    {
     "name": "stdout",
     "output_type": "stream",
     "text": [
      "Image and info_dict saved for bc58e54ec75acfc3acfb248f409ff2f4_0 in /Volumes/Newsmy/FM_dataset/VinDr-Mammo-finding/Eval/bc58e54ec75acfc3acfb248f409ff2f4_0\n"
     ]
    },
    {
     "name": "stderr",
     "output_type": "stream",
     "text": [
      " 75%|███████▌  | 1327/1768 [11:54<04:00,  1.83it/s]"
     ]
    },
    {
     "name": "stdout",
     "output_type": "stream",
     "text": [
      "Image and info_dict saved for bcb1ae36b77c5324ff9243999acc20c2_0 in /Volumes/Newsmy/FM_dataset/VinDr-Mammo-finding/Test/bcb1ae36b77c5324ff9243999acc20c2_0\n",
      "Image and info_dict saved for bcb1ae36b77c5324ff9243999acc20c2_1 in /Volumes/Newsmy/FM_dataset/VinDr-Mammo-finding/Test/bcb1ae36b77c5324ff9243999acc20c2_1\n"
     ]
    },
    {
     "name": "stderr",
     "output_type": "stream",
     "text": [
      " 75%|███████▌  | 1328/1768 [11:54<03:55,  1.87it/s]"
     ]
    },
    {
     "name": "stdout",
     "output_type": "stream",
     "text": [
      "Image and info_dict saved for bccead060b49d9a6034fb98165cf925c_0 in /Volumes/Newsmy/FM_dataset/VinDr-Mammo-finding/Train/bccead060b49d9a6034fb98165cf925c_0\n"
     ]
    },
    {
     "name": "stderr",
     "output_type": "stream",
     "text": [
      " 75%|███████▌  | 1329/1768 [11:55<05:09,  1.42it/s]"
     ]
    },
    {
     "name": "stdout",
     "output_type": "stream",
     "text": [
      "Image and info_dict saved for bcd4f8ae5e07d0bdda74eaf649898a4c_0 in /Volumes/Newsmy/FM_dataset/VinDr-Mammo-finding/Train/bcd4f8ae5e07d0bdda74eaf649898a4c_0\n"
     ]
    },
    {
     "name": "stderr",
     "output_type": "stream",
     "text": [
      " 75%|███████▌  | 1330/1768 [11:55<04:16,  1.71it/s]"
     ]
    },
    {
     "name": "stdout",
     "output_type": "stream",
     "text": [
      "Image and info_dict saved for bce1addbe037d058ce2bb263acbf77ac_0 in /Volumes/Newsmy/FM_dataset/VinDr-Mammo-finding/Train/bce1addbe037d058ce2bb263acbf77ac_0\n"
     ]
    },
    {
     "name": "stderr",
     "output_type": "stream",
     "text": [
      " 75%|███████▌  | 1331/1768 [11:56<04:14,  1.72it/s]"
     ]
    },
    {
     "name": "stdout",
     "output_type": "stream",
     "text": [
      "Image and info_dict saved for bd80fa6b572daf5c488121a05cc7b538_0 in /Volumes/Newsmy/FM_dataset/VinDr-Mammo-finding/Train/bd80fa6b572daf5c488121a05cc7b538_0\n"
     ]
    },
    {
     "name": "stderr",
     "output_type": "stream",
     "text": [
      " 75%|███████▌  | 1332/1768 [11:57<04:18,  1.69it/s]"
     ]
    },
    {
     "name": "stdout",
     "output_type": "stream",
     "text": [
      "Image and info_dict saved for bd8c59601a3dfcde6c31d32aef7e8c93_0 in /Volumes/Newsmy/FM_dataset/VinDr-Mammo-finding/Train/bd8c59601a3dfcde6c31d32aef7e8c93_0\n"
     ]
    },
    {
     "name": "stderr",
     "output_type": "stream",
     "text": [
      " 75%|███████▌  | 1333/1768 [11:57<04:06,  1.77it/s]"
     ]
    },
    {
     "name": "stdout",
     "output_type": "stream",
     "text": [
      "Image and info_dict saved for bdaf3b28d1255fed45df39f64fc78aba_0 in /Volumes/Newsmy/FM_dataset/VinDr-Mammo-finding/Train/bdaf3b28d1255fed45df39f64fc78aba_0\n"
     ]
    },
    {
     "name": "stderr",
     "output_type": "stream",
     "text": [
      " 75%|███████▌  | 1334/1768 [11:58<04:17,  1.68it/s]"
     ]
    },
    {
     "name": "stdout",
     "output_type": "stream",
     "text": [
      "Image and info_dict saved for bdd807672f4efedab5c5cb3f0e65e7b5_0 in /Volumes/Newsmy/FM_dataset/VinDr-Mammo-finding/Test/bdd807672f4efedab5c5cb3f0e65e7b5_0\n",
      "Image and info_dict saved for bdf1539e07e60cfcb5e7833f5b63fa86_0 in /Volumes/Newsmy/FM_dataset/VinDr-Mammo-finding/Test/bdf1539e07e60cfcb5e7833f5b63fa86_0\n",
      "Image and info_dict saved for bdf1539e07e60cfcb5e7833f5b63fa86_1 in /Volumes/Newsmy/FM_dataset/VinDr-Mammo-finding/Test/bdf1539e07e60cfcb5e7833f5b63fa86_1\n"
     ]
    },
    {
     "name": "stderr",
     "output_type": "stream",
     "text": [
      " 76%|███████▌  | 1335/1768 [11:59<04:46,  1.51it/s]"
     ]
    },
    {
     "name": "stdout",
     "output_type": "stream",
     "text": [
      "Image and info_dict saved for bdf1539e07e60cfcb5e7833f5b63fa86_2 in /Volumes/Newsmy/FM_dataset/VinDr-Mammo-finding/Test/bdf1539e07e60cfcb5e7833f5b63fa86_2\n",
      "Image and info_dict saved for bdf1539e07e60cfcb5e7833f5b63fa86_3 in /Volumes/Newsmy/FM_dataset/VinDr-Mammo-finding/Test/bdf1539e07e60cfcb5e7833f5b63fa86_3\n"
     ]
    },
    {
     "name": "stderr",
     "output_type": "stream",
     "text": [
      " 76%|███████▌  | 1336/1768 [11:59<04:31,  1.59it/s]"
     ]
    },
    {
     "name": "stdout",
     "output_type": "stream",
     "text": [
      "Image and info_dict saved for be23d14f6ad96bbbe4a16fe95e537d1f_0 in /Volumes/Newsmy/FM_dataset/VinDr-Mammo-finding/Train/be23d14f6ad96bbbe4a16fe95e537d1f_0\n"
     ]
    },
    {
     "name": "stderr",
     "output_type": "stream",
     "text": [
      " 76%|███████▌  | 1337/1768 [12:00<04:03,  1.77it/s]"
     ]
    },
    {
     "name": "stdout",
     "output_type": "stream",
     "text": [
      "Image and info_dict saved for be2e2073d9caf3b04b697846ecdcccb6_0 in /Volumes/Newsmy/FM_dataset/VinDr-Mammo-finding/Train/be2e2073d9caf3b04b697846ecdcccb6_0\n"
     ]
    },
    {
     "name": "stderr",
     "output_type": "stream",
     "text": [
      " 76%|███████▌  | 1338/1768 [12:00<03:52,  1.85it/s]"
     ]
    },
    {
     "name": "stdout",
     "output_type": "stream",
     "text": [
      "Image and info_dict saved for be50a17b04aed1c7708217318ed8ba83_0 in /Volumes/Newsmy/FM_dataset/VinDr-Mammo-finding/Train/be50a17b04aed1c7708217318ed8ba83_0\n"
     ]
    },
    {
     "name": "stderr",
     "output_type": "stream",
     "text": [
      " 76%|███████▌  | 1339/1768 [12:01<03:37,  1.97it/s]"
     ]
    },
    {
     "name": "stdout",
     "output_type": "stream",
     "text": [
      "Image and info_dict saved for be78f120687426784bc691d838802a07_0 in /Volumes/Newsmy/FM_dataset/VinDr-Mammo-finding/Train/be78f120687426784bc691d838802a07_0\n"
     ]
    },
    {
     "name": "stderr",
     "output_type": "stream",
     "text": [
      " 76%|███████▌  | 1340/1768 [12:01<03:22,  2.11it/s]"
     ]
    },
    {
     "name": "stdout",
     "output_type": "stream",
     "text": [
      "Image and info_dict saved for be9ea7d3618e34844169f3ac879cdea7_0 in /Volumes/Newsmy/FM_dataset/VinDr-Mammo-finding/Train/be9ea7d3618e34844169f3ac879cdea7_0\n"
     ]
    },
    {
     "name": "stderr",
     "output_type": "stream",
     "text": [
      " 76%|███████▌  | 1341/1768 [12:01<03:12,  2.22it/s]"
     ]
    },
    {
     "name": "stdout",
     "output_type": "stream",
     "text": [
      "Image and info_dict saved for bed07d0a971ee8225e982dcfc16e58e4_0 in /Volumes/Newsmy/FM_dataset/VinDr-Mammo-finding/Train/bed07d0a971ee8225e982dcfc16e58e4_0\n"
     ]
    },
    {
     "name": "stderr",
     "output_type": "stream",
     "text": [
      " 76%|███████▌  | 1342/1768 [12:02<03:06,  2.28it/s]"
     ]
    },
    {
     "name": "stdout",
     "output_type": "stream",
     "text": [
      "Image and info_dict saved for bed3876095746621094457c257b0f7f1_0 in /Volumes/Newsmy/FM_dataset/VinDr-Mammo-finding/Train/bed3876095746621094457c257b0f7f1_0\n"
     ]
    },
    {
     "name": "stderr",
     "output_type": "stream",
     "text": [
      " 76%|███████▌  | 1343/1768 [12:02<03:19,  2.13it/s]"
     ]
    },
    {
     "name": "stdout",
     "output_type": "stream",
     "text": [
      "Image and info_dict saved for bedd20549cf422130e41408d4e6afa1d_0 in /Volumes/Newsmy/FM_dataset/VinDr-Mammo-finding/Test/bedd20549cf422130e41408d4e6afa1d_0\n"
     ]
    },
    {
     "name": "stderr",
     "output_type": "stream",
     "text": [
      " 76%|███████▌  | 1344/1768 [12:03<03:46,  1.87it/s]"
     ]
    },
    {
     "name": "stdout",
     "output_type": "stream",
     "text": [
      "Image and info_dict saved for bef47f8667ef0dfb4f6deda2434da05d_0 in /Volumes/Newsmy/FM_dataset/VinDr-Mammo-finding/Train/bef47f8667ef0dfb4f6deda2434da05d_0\n",
      "Image and info_dict saved for bef47f8667ef0dfb4f6deda2434da05d_1 in /Volumes/Newsmy/FM_dataset/VinDr-Mammo-finding/Train/bef47f8667ef0dfb4f6deda2434da05d_1\n"
     ]
    },
    {
     "name": "stderr",
     "output_type": "stream",
     "text": [
      " 76%|███████▌  | 1345/1768 [12:04<04:09,  1.69it/s]"
     ]
    },
    {
     "name": "stdout",
     "output_type": "stream",
     "text": [
      "Image and info_dict saved for bf62934c9cb946d05b37ca6fa31c3651_0 in /Volumes/Newsmy/FM_dataset/VinDr-Mammo-finding/Train/bf62934c9cb946d05b37ca6fa31c3651_0\n",
      "Image and info_dict saved for bf62934c9cb946d05b37ca6fa31c3651_1 in /Volumes/Newsmy/FM_dataset/VinDr-Mammo-finding/Train/bf62934c9cb946d05b37ca6fa31c3651_1\n",
      "Image and info_dict saved for bf62934c9cb946d05b37ca6fa31c3651_2 in /Volumes/Newsmy/FM_dataset/VinDr-Mammo-finding/Train/bf62934c9cb946d05b37ca6fa31c3651_2\n"
     ]
    },
    {
     "name": "stderr",
     "output_type": "stream",
     "text": [
      " 76%|███████▌  | 1346/1768 [12:04<04:00,  1.75it/s]"
     ]
    },
    {
     "name": "stdout",
     "output_type": "stream",
     "text": [
      "Image and info_dict saved for bfd31e5e6ba3c8df271e317b0d87576f_0 in /Volumes/Newsmy/FM_dataset/VinDr-Mammo-finding/Train/bfd31e5e6ba3c8df271e317b0d87576f_0\n"
     ]
    },
    {
     "name": "stderr",
     "output_type": "stream",
     "text": [
      " 76%|███████▌  | 1347/1768 [12:05<03:57,  1.77it/s]"
     ]
    },
    {
     "name": "stdout",
     "output_type": "stream",
     "text": [
      "Image and info_dict saved for bfd774c3fea3b7a9bae2d1bfba1cf5a7_0 in /Volumes/Newsmy/FM_dataset/VinDr-Mammo-finding/Train/bfd774c3fea3b7a9bae2d1bfba1cf5a7_0\n"
     ]
    },
    {
     "name": "stderr",
     "output_type": "stream",
     "text": [
      " 76%|███████▌  | 1348/1768 [12:05<03:50,  1.83it/s]"
     ]
    },
    {
     "name": "stdout",
     "output_type": "stream",
     "text": [
      "Image and info_dict saved for c07913233d9119af17fb07e09717aa30_0 in /Volumes/Newsmy/FM_dataset/VinDr-Mammo-finding/Test/c07913233d9119af17fb07e09717aa30_0\n"
     ]
    },
    {
     "name": "stderr",
     "output_type": "stream",
     "text": [
      " 76%|███████▋  | 1349/1768 [12:06<03:37,  1.92it/s]"
     ]
    },
    {
     "name": "stdout",
     "output_type": "stream",
     "text": [
      "Image and info_dict saved for c07b5d9d6e2d0449dde2b34a432fc3b3_0 in /Volumes/Newsmy/FM_dataset/VinDr-Mammo-finding/Train/c07b5d9d6e2d0449dde2b34a432fc3b3_0\n"
     ]
    },
    {
     "name": "stderr",
     "output_type": "stream",
     "text": [
      " 76%|███████▋  | 1350/1768 [12:06<03:35,  1.94it/s]"
     ]
    },
    {
     "name": "stdout",
     "output_type": "stream",
     "text": [
      "Image and info_dict saved for c09132c25d096cb951dd2d99f29c8230_0 in /Volumes/Newsmy/FM_dataset/VinDr-Mammo-finding/Train/c09132c25d096cb951dd2d99f29c8230_0\n"
     ]
    },
    {
     "name": "stderr",
     "output_type": "stream",
     "text": [
      " 76%|███████▋  | 1351/1768 [12:07<03:15,  2.13it/s]"
     ]
    },
    {
     "name": "stdout",
     "output_type": "stream",
     "text": [
      "Image and info_dict saved for c09db8206b7399d68e2e5a3e599fd237_0 in /Volumes/Newsmy/FM_dataset/VinDr-Mammo-finding/Test/c09db8206b7399d68e2e5a3e599fd237_0\n"
     ]
    },
    {
     "name": "stderr",
     "output_type": "stream",
     "text": [
      " 76%|███████▋  | 1352/1768 [12:07<03:33,  1.95it/s]"
     ]
    },
    {
     "name": "stdout",
     "output_type": "stream",
     "text": [
      "Image and info_dict saved for c0c711584456e239a079ca0dea409571_0 in /Volumes/Newsmy/FM_dataset/VinDr-Mammo-finding/Train/c0c711584456e239a079ca0dea409571_0\n",
      "Image and info_dict saved for c0c711584456e239a079ca0dea409571_1 in /Volumes/Newsmy/FM_dataset/VinDr-Mammo-finding/Train/c0c711584456e239a079ca0dea409571_1\n"
     ]
    },
    {
     "name": "stderr",
     "output_type": "stream",
     "text": [
      " 77%|███████▋  | 1353/1768 [12:08<03:22,  2.05it/s]"
     ]
    },
    {
     "name": "stdout",
     "output_type": "stream",
     "text": [
      "Image and info_dict saved for c0e56a697fd18ff07ce75b933bbc612b_0 in /Volumes/Newsmy/FM_dataset/VinDr-Mammo-finding/Train/c0e56a697fd18ff07ce75b933bbc612b_0\n"
     ]
    },
    {
     "name": "stderr",
     "output_type": "stream",
     "text": [
      " 77%|███████▋  | 1354/1768 [12:08<03:20,  2.07it/s]"
     ]
    },
    {
     "name": "stdout",
     "output_type": "stream",
     "text": [
      "Image and info_dict saved for c115b4d359e1163d6a143455a5139201_0 in /Volumes/Newsmy/FM_dataset/VinDr-Mammo-finding/Train/c115b4d359e1163d6a143455a5139201_0\n"
     ]
    },
    {
     "name": "stderr",
     "output_type": "stream",
     "text": [
      " 77%|███████▋  | 1355/1768 [12:08<03:07,  2.20it/s]"
     ]
    },
    {
     "name": "stdout",
     "output_type": "stream",
     "text": [
      "Image and info_dict saved for c171898cd8cce888b5f8e198dda75546_0 in /Volumes/Newsmy/FM_dataset/VinDr-Mammo-finding/Train/c171898cd8cce888b5f8e198dda75546_0\n"
     ]
    },
    {
     "name": "stderr",
     "output_type": "stream",
     "text": [
      " 77%|███████▋  | 1356/1768 [12:09<02:56,  2.33it/s]"
     ]
    },
    {
     "name": "stdout",
     "output_type": "stream",
     "text": [
      "Image and info_dict saved for c171fed7a869e9cb41c9a10e7ee6f4f9_0 in /Volumes/Newsmy/FM_dataset/VinDr-Mammo-finding/Train/c171fed7a869e9cb41c9a10e7ee6f4f9_0\n",
      "Image and info_dict saved for c198e90ae80f0038f051957d1cf8a857_0 in /Volumes/Newsmy/FM_dataset/VinDr-Mammo-finding/Test/c198e90ae80f0038f051957d1cf8a857_0\n",
      "Image and info_dict saved for c198e90ae80f0038f051957d1cf8a857_1 in /Volumes/Newsmy/FM_dataset/VinDr-Mammo-finding/Test/c198e90ae80f0038f051957d1cf8a857_1\n"
     ]
    },
    {
     "name": "stderr",
     "output_type": "stream",
     "text": [
      " 77%|███████▋  | 1357/1768 [12:09<03:18,  2.07it/s]"
     ]
    },
    {
     "name": "stdout",
     "output_type": "stream",
     "text": [
      "Image and info_dict saved for c198e90ae80f0038f051957d1cf8a857_2 in /Volumes/Newsmy/FM_dataset/VinDr-Mammo-finding/Test/c198e90ae80f0038f051957d1cf8a857_2\n"
     ]
    },
    {
     "name": "stderr",
     "output_type": "stream",
     "text": [
      " 77%|███████▋  | 1358/1768 [12:10<03:19,  2.05it/s]"
     ]
    },
    {
     "name": "stdout",
     "output_type": "stream",
     "text": [
      "Image and info_dict saved for c1b626dbe028a9872412d7646892e446_0 in /Volumes/Newsmy/FM_dataset/VinDr-Mammo-finding/Test/c1b626dbe028a9872412d7646892e446_0\n"
     ]
    },
    {
     "name": "stderr",
     "output_type": "stream",
     "text": [
      " 77%|███████▋  | 1359/1768 [12:10<03:18,  2.06it/s]"
     ]
    },
    {
     "name": "stdout",
     "output_type": "stream",
     "text": [
      "Image and info_dict saved for c1bbd7498883deb078c151ee8ef2e3e2_0 in /Volumes/Newsmy/FM_dataset/VinDr-Mammo-finding/Train/c1bbd7498883deb078c151ee8ef2e3e2_0\n"
     ]
    },
    {
     "name": "stderr",
     "output_type": "stream",
     "text": [
      " 77%|███████▋  | 1360/1768 [12:11<03:01,  2.24it/s]"
     ]
    },
    {
     "name": "stdout",
     "output_type": "stream",
     "text": [
      "Image and info_dict saved for c1edef455c1d305e6674fcf0d9c3c195_0 in /Volumes/Newsmy/FM_dataset/VinDr-Mammo-finding/Train/c1edef455c1d305e6674fcf0d9c3c195_0\n"
     ]
    },
    {
     "name": "stderr",
     "output_type": "stream",
     "text": [
      " 77%|███████▋  | 1361/1768 [12:11<03:05,  2.19it/s]"
     ]
    },
    {
     "name": "stdout",
     "output_type": "stream",
     "text": [
      "Image and info_dict saved for c21b2fb5b233f2f8e938862c8aeab31c_0 in /Volumes/Newsmy/FM_dataset/VinDr-Mammo-finding/Train/c21b2fb5b233f2f8e938862c8aeab31c_0\n"
     ]
    },
    {
     "name": "stderr",
     "output_type": "stream",
     "text": [
      " 77%|███████▋  | 1362/1768 [12:12<03:07,  2.17it/s]"
     ]
    },
    {
     "name": "stdout",
     "output_type": "stream",
     "text": [
      "Image and info_dict saved for c23e79de744ae741ec38e1f8db631798_0 in /Volumes/Newsmy/FM_dataset/VinDr-Mammo-finding/Eval/c23e79de744ae741ec38e1f8db631798_0\n"
     ]
    },
    {
     "name": "stderr",
     "output_type": "stream",
     "text": [
      " 77%|███████▋  | 1363/1768 [12:12<02:45,  2.45it/s]"
     ]
    },
    {
     "name": "stdout",
     "output_type": "stream",
     "text": [
      "Image and info_dict saved for c2a17760669a893b3e28ac5eac266cf7_0 in /Volumes/Newsmy/FM_dataset/VinDr-Mammo-finding/Train/c2a17760669a893b3e28ac5eac266cf7_0\n"
     ]
    },
    {
     "name": "stderr",
     "output_type": "stream",
     "text": [
      " 77%|███████▋  | 1364/1768 [12:13<02:52,  2.34it/s]"
     ]
    },
    {
     "name": "stdout",
     "output_type": "stream",
     "text": [
      "Image and info_dict saved for c2ad20b85df240f3cef3681b3ee847b2_0 in /Volumes/Newsmy/FM_dataset/VinDr-Mammo-finding/Train/c2ad20b85df240f3cef3681b3ee847b2_0\n"
     ]
    },
    {
     "name": "stderr",
     "output_type": "stream",
     "text": [
      " 77%|███████▋  | 1365/1768 [12:13<02:55,  2.30it/s]"
     ]
    },
    {
     "name": "stdout",
     "output_type": "stream",
     "text": [
      "Image and info_dict saved for c306fcb24e2f16f8582d210f7625b5e6_0 in /Volumes/Newsmy/FM_dataset/VinDr-Mammo-finding/Train/c306fcb24e2f16f8582d210f7625b5e6_0\n"
     ]
    },
    {
     "name": "stderr",
     "output_type": "stream",
     "text": [
      " 77%|███████▋  | 1366/1768 [12:13<02:56,  2.27it/s]"
     ]
    },
    {
     "name": "stdout",
     "output_type": "stream",
     "text": [
      "Image and info_dict saved for c322176ec94d4fe9b1abc489e4a80fd6_0 in /Volumes/Newsmy/FM_dataset/VinDr-Mammo-finding/Test/c322176ec94d4fe9b1abc489e4a80fd6_0\n"
     ]
    },
    {
     "name": "stderr",
     "output_type": "stream",
     "text": [
      " 77%|███████▋  | 1367/1768 [12:14<03:52,  1.72it/s]"
     ]
    },
    {
     "name": "stdout",
     "output_type": "stream",
     "text": [
      "Image and info_dict saved for c368ddd11e70a207a8b86f543eb0b5cf_0 in /Volumes/Newsmy/FM_dataset/VinDr-Mammo-finding/Test/c368ddd11e70a207a8b86f543eb0b5cf_0\n"
     ]
    },
    {
     "name": "stderr",
     "output_type": "stream",
     "text": [
      " 77%|███████▋  | 1368/1768 [12:15<03:29,  1.91it/s]"
     ]
    },
    {
     "name": "stdout",
     "output_type": "stream",
     "text": [
      "Image and info_dict saved for c37c9d06f7dc4dde20f80709f5050f02_0 in /Volumes/Newsmy/FM_dataset/VinDr-Mammo-finding/Train/c37c9d06f7dc4dde20f80709f5050f02_0\n"
     ]
    },
    {
     "name": "stderr",
     "output_type": "stream",
     "text": [
      " 77%|███████▋  | 1369/1768 [12:15<03:10,  2.09it/s]"
     ]
    },
    {
     "name": "stdout",
     "output_type": "stream",
     "text": [
      "Image and info_dict saved for c3b16e4cbe55b84e95e4d2b78c17e2a1_0 in /Volumes/Newsmy/FM_dataset/VinDr-Mammo-finding/Train/c3b16e4cbe55b84e95e4d2b78c17e2a1_0\n"
     ]
    },
    {
     "name": "stderr",
     "output_type": "stream",
     "text": [
      " 77%|███████▋  | 1370/1768 [12:16<03:06,  2.13it/s]"
     ]
    },
    {
     "name": "stdout",
     "output_type": "stream",
     "text": [
      "Image and info_dict saved for c3ebb2a717992832b79b49f808482c6b_0 in /Volumes/Newsmy/FM_dataset/VinDr-Mammo-finding/Train/c3ebb2a717992832b79b49f808482c6b_0\n",
      "Image and info_dict saved for c3ebb2a717992832b79b49f808482c6b_1 in /Volumes/Newsmy/FM_dataset/VinDr-Mammo-finding/Train/c3ebb2a717992832b79b49f808482c6b_1\n"
     ]
    },
    {
     "name": "stderr",
     "output_type": "stream",
     "text": [
      " 78%|███████▊  | 1371/1768 [12:16<03:05,  2.13it/s]"
     ]
    },
    {
     "name": "stdout",
     "output_type": "stream",
     "text": [
      "Image and info_dict saved for c413c9130c387f479a3f257f9469c5f3_0 in /Volumes/Newsmy/FM_dataset/VinDr-Mammo-finding/Test/c413c9130c387f479a3f257f9469c5f3_0\n"
     ]
    },
    {
     "name": "stderr",
     "output_type": "stream",
     "text": [
      " 78%|███████▊  | 1372/1768 [12:17<03:25,  1.93it/s]"
     ]
    },
    {
     "name": "stdout",
     "output_type": "stream",
     "text": [
      "Image and info_dict saved for c440e178bb3f7874aa1d6a4b10e66105_0 in /Volumes/Newsmy/FM_dataset/VinDr-Mammo-finding/Train/c440e178bb3f7874aa1d6a4b10e66105_0\n",
      "Image and info_dict saved for c440e178bb3f7874aa1d6a4b10e66105_1 in /Volumes/Newsmy/FM_dataset/VinDr-Mammo-finding/Train/c440e178bb3f7874aa1d6a4b10e66105_1\n"
     ]
    },
    {
     "name": "stderr",
     "output_type": "stream",
     "text": [
      " 78%|███████▊  | 1373/1768 [12:17<03:30,  1.88it/s]"
     ]
    },
    {
     "name": "stdout",
     "output_type": "stream",
     "text": [
      "Image and info_dict saved for c44f22812f3bc45f49498bded8056914_0 in /Volumes/Newsmy/FM_dataset/VinDr-Mammo-finding/Train/c44f22812f3bc45f49498bded8056914_0\n",
      "Image and info_dict saved for c44f22812f3bc45f49498bded8056914_1 in /Volumes/Newsmy/FM_dataset/VinDr-Mammo-finding/Train/c44f22812f3bc45f49498bded8056914_1\n"
     ]
    },
    {
     "name": "stderr",
     "output_type": "stream",
     "text": [
      " 78%|███████▊  | 1374/1768 [12:18<03:17,  1.99it/s]"
     ]
    },
    {
     "name": "stdout",
     "output_type": "stream",
     "text": [
      "Image and info_dict saved for c45e086b824514569e2f16426c3d1407_0 in /Volumes/Newsmy/FM_dataset/VinDr-Mammo-finding/Eval/c45e086b824514569e2f16426c3d1407_0\n"
     ]
    },
    {
     "name": "stderr",
     "output_type": "stream",
     "text": [
      " 78%|███████▊  | 1375/1768 [12:18<03:15,  2.01it/s]"
     ]
    },
    {
     "name": "stdout",
     "output_type": "stream",
     "text": [
      "Image and info_dict saved for c4a59146a1f5b9e2aca090815381c420_0 in /Volumes/Newsmy/FM_dataset/VinDr-Mammo-finding/Eval/c4a59146a1f5b9e2aca090815381c420_0\n",
      "Image and info_dict saved for c4a59146a1f5b9e2aca090815381c420_1 in /Volumes/Newsmy/FM_dataset/VinDr-Mammo-finding/Eval/c4a59146a1f5b9e2aca090815381c420_1\n"
     ]
    },
    {
     "name": "stderr",
     "output_type": "stream",
     "text": [
      " 78%|███████▊  | 1376/1768 [12:19<03:26,  1.90it/s]"
     ]
    },
    {
     "name": "stdout",
     "output_type": "stream",
     "text": [
      "Image and info_dict saved for c4d495cbb362685b3abaeab9125c75cb_0 in /Volumes/Newsmy/FM_dataset/VinDr-Mammo-finding/Train/c4d495cbb362685b3abaeab9125c75cb_0\n"
     ]
    },
    {
     "name": "stderr",
     "output_type": "stream",
     "text": [
      " 78%|███████▊  | 1377/1768 [12:19<03:24,  1.91it/s]"
     ]
    },
    {
     "name": "stdout",
     "output_type": "stream",
     "text": [
      "Image and info_dict saved for c53418f3bc12b3173db174c86ca11355_0 in /Volumes/Newsmy/FM_dataset/VinDr-Mammo-finding/Train/c53418f3bc12b3173db174c86ca11355_0\n"
     ]
    },
    {
     "name": "stderr",
     "output_type": "stream",
     "text": [
      " 78%|███████▊  | 1378/1768 [12:20<03:15,  2.00it/s]"
     ]
    },
    {
     "name": "stdout",
     "output_type": "stream",
     "text": [
      "Image and info_dict saved for c543a2cdd156d18be46dfa4c9d42cf5d_0 in /Volumes/Newsmy/FM_dataset/VinDr-Mammo-finding/Train/c543a2cdd156d18be46dfa4c9d42cf5d_0\n"
     ]
    },
    {
     "name": "stderr",
     "output_type": "stream",
     "text": [
      " 78%|███████▊  | 1379/1768 [12:20<03:06,  2.09it/s]"
     ]
    },
    {
     "name": "stdout",
     "output_type": "stream",
     "text": [
      "Image and info_dict saved for c550be907c02d0f89a264b0cda64e1c6_0 in /Volumes/Newsmy/FM_dataset/VinDr-Mammo-finding/Test/c550be907c02d0f89a264b0cda64e1c6_0\n"
     ]
    },
    {
     "name": "stderr",
     "output_type": "stream",
     "text": [
      " 78%|███████▊  | 1380/1768 [12:21<03:07,  2.07it/s]"
     ]
    },
    {
     "name": "stdout",
     "output_type": "stream",
     "text": [
      "Image and info_dict saved for c566372442f5d13adf8949c7f839eabb_0 in /Volumes/Newsmy/FM_dataset/VinDr-Mammo-finding/Train/c566372442f5d13adf8949c7f839eabb_0\n"
     ]
    },
    {
     "name": "stderr",
     "output_type": "stream",
     "text": [
      " 78%|███████▊  | 1381/1768 [12:21<03:09,  2.05it/s]"
     ]
    },
    {
     "name": "stdout",
     "output_type": "stream",
     "text": [
      "Image and info_dict saved for c58233033d21865c0c1e8f9b353d60ba_0 in /Volumes/Newsmy/FM_dataset/VinDr-Mammo-finding/Test/c58233033d21865c0c1e8f9b353d60ba_0\n"
     ]
    },
    {
     "name": "stderr",
     "output_type": "stream",
     "text": [
      " 78%|███████▊  | 1382/1768 [12:22<04:42,  1.37it/s]"
     ]
    },
    {
     "name": "stdout",
     "output_type": "stream",
     "text": [
      "Image and info_dict saved for c66a8c986ee7f14908f6ce97bcb12a87_0 in /Volumes/Newsmy/FM_dataset/VinDr-Mammo-finding/Test/c66a8c986ee7f14908f6ce97bcb12a87_0\n"
     ]
    },
    {
     "name": "stderr",
     "output_type": "stream",
     "text": [
      " 78%|███████▊  | 1383/1768 [12:23<04:38,  1.38it/s]"
     ]
    },
    {
     "name": "stdout",
     "output_type": "stream",
     "text": [
      "Image and info_dict saved for c66ed5980ba90c803b928174c5623327_0 in /Volumes/Newsmy/FM_dataset/VinDr-Mammo-finding/Eval/c66ed5980ba90c803b928174c5623327_0\n"
     ]
    },
    {
     "name": "stderr",
     "output_type": "stream",
     "text": [
      " 78%|███████▊  | 1384/1768 [12:24<04:11,  1.53it/s]"
     ]
    },
    {
     "name": "stdout",
     "output_type": "stream",
     "text": [
      "Image and info_dict saved for c6748f2e0790cca1d48a24a989c6e1c6_0 in /Volumes/Newsmy/FM_dataset/VinDr-Mammo-finding/Test/c6748f2e0790cca1d48a24a989c6e1c6_0\n"
     ]
    },
    {
     "name": "stderr",
     "output_type": "stream",
     "text": [
      " 78%|███████▊  | 1385/1768 [12:24<04:39,  1.37it/s]"
     ]
    },
    {
     "name": "stdout",
     "output_type": "stream",
     "text": [
      "Image and info_dict saved for c688d8438a1d18b36bc8813f900ebeb0_0 in /Volumes/Newsmy/FM_dataset/VinDr-Mammo-finding/Train/c688d8438a1d18b36bc8813f900ebeb0_0\n"
     ]
    },
    {
     "name": "stderr",
     "output_type": "stream",
     "text": [
      " 78%|███████▊  | 1386/1768 [12:25<04:26,  1.43it/s]"
     ]
    },
    {
     "name": "stdout",
     "output_type": "stream",
     "text": [
      "Image and info_dict saved for c6a0c8e26585a5a07e5f9538adc46ebe_0 in /Volumes/Newsmy/FM_dataset/VinDr-Mammo-finding/Train/c6a0c8e26585a5a07e5f9538adc46ebe_0\n",
      "Image and info_dict saved for c6a0c8e26585a5a07e5f9538adc46ebe_1 in /Volumes/Newsmy/FM_dataset/VinDr-Mammo-finding/Train/c6a0c8e26585a5a07e5f9538adc46ebe_1\n"
     ]
    },
    {
     "name": "stderr",
     "output_type": "stream",
     "text": [
      " 78%|███████▊  | 1387/1768 [12:26<04:17,  1.48it/s]"
     ]
    },
    {
     "name": "stdout",
     "output_type": "stream",
     "text": [
      "Image and info_dict saved for c6d548ad2a3585ab49bcbb43f2ca9233_0 in /Volumes/Newsmy/FM_dataset/VinDr-Mammo-finding/Train/c6d548ad2a3585ab49bcbb43f2ca9233_0\n"
     ]
    },
    {
     "name": "stderr",
     "output_type": "stream",
     "text": [
      " 79%|███████▊  | 1388/1768 [12:26<04:15,  1.49it/s]"
     ]
    },
    {
     "name": "stdout",
     "output_type": "stream",
     "text": [
      "Image and info_dict saved for c75a3c11d13ff3f199ff4c443be6e56f_0 in /Volumes/Newsmy/FM_dataset/VinDr-Mammo-finding/Eval/c75a3c11d13ff3f199ff4c443be6e56f_0\n"
     ]
    },
    {
     "name": "stderr",
     "output_type": "stream",
     "text": [
      " 79%|███████▊  | 1389/1768 [12:27<04:10,  1.51it/s]"
     ]
    },
    {
     "name": "stdout",
     "output_type": "stream",
     "text": [
      "Image and info_dict saved for c778dbdfa83495f7c23657eef83802a8_0 in /Volumes/Newsmy/FM_dataset/VinDr-Mammo-finding/Train/c778dbdfa83495f7c23657eef83802a8_0\n",
      "Image and info_dict saved for c778dbdfa83495f7c23657eef83802a8_1 in /Volumes/Newsmy/FM_dataset/VinDr-Mammo-finding/Train/c778dbdfa83495f7c23657eef83802a8_1\n"
     ]
    },
    {
     "name": "stderr",
     "output_type": "stream",
     "text": [
      " 79%|███████▊  | 1390/1768 [12:27<03:42,  1.70it/s]"
     ]
    },
    {
     "name": "stdout",
     "output_type": "stream",
     "text": [
      "Image and info_dict saved for c7aed112f0bcbe9e4687e89944768a26_0 in /Volumes/Newsmy/FM_dataset/VinDr-Mammo-finding/Train/c7aed112f0bcbe9e4687e89944768a26_0\n"
     ]
    },
    {
     "name": "stderr",
     "output_type": "stream",
     "text": [
      " 79%|███████▊  | 1391/1768 [12:28<03:20,  1.88it/s]"
     ]
    },
    {
     "name": "stdout",
     "output_type": "stream",
     "text": [
      "Image and info_dict saved for c7c60c6a527a217dd3f4f508a6305556_0 in /Volumes/Newsmy/FM_dataset/VinDr-Mammo-finding/Train/c7c60c6a527a217dd3f4f508a6305556_0\n"
     ]
    },
    {
     "name": "stderr",
     "output_type": "stream",
     "text": [
      " 79%|███████▊  | 1392/1768 [12:28<03:16,  1.92it/s]"
     ]
    },
    {
     "name": "stdout",
     "output_type": "stream",
     "text": [
      "Image and info_dict saved for c7ddaccc6c3fcc314d9e7b4f4eabfbc3_0 in /Volumes/Newsmy/FM_dataset/VinDr-Mammo-finding/Train/c7ddaccc6c3fcc314d9e7b4f4eabfbc3_0\n"
     ]
    },
    {
     "name": "stderr",
     "output_type": "stream",
     "text": [
      " 79%|███████▉  | 1393/1768 [12:29<03:03,  2.05it/s]"
     ]
    },
    {
     "name": "stdout",
     "output_type": "stream",
     "text": [
      "Image and info_dict saved for c8039851546da1cee882dd8b016ba1cd_0 in /Volumes/Newsmy/FM_dataset/VinDr-Mammo-finding/Train/c8039851546da1cee882dd8b016ba1cd_0\n"
     ]
    },
    {
     "name": "stderr",
     "output_type": "stream",
     "text": [
      " 79%|███████▉  | 1394/1768 [12:29<02:58,  2.10it/s]"
     ]
    },
    {
     "name": "stdout",
     "output_type": "stream",
     "text": [
      "Image and info_dict saved for c83f780904f25eacb44e9030f32c66e1_0 in /Volumes/Newsmy/FM_dataset/VinDr-Mammo-finding/Train/c83f780904f25eacb44e9030f32c66e1_0\n"
     ]
    },
    {
     "name": "stderr",
     "output_type": "stream",
     "text": [
      " 79%|███████▉  | 1395/1768 [12:30<02:52,  2.16it/s]"
     ]
    },
    {
     "name": "stdout",
     "output_type": "stream",
     "text": [
      "Image and info_dict saved for c84f7f00792ee59343135a0858042b7f_0 in /Volumes/Newsmy/FM_dataset/VinDr-Mammo-finding/Train/c84f7f00792ee59343135a0858042b7f_0\n"
     ]
    },
    {
     "name": "stderr",
     "output_type": "stream",
     "text": [
      " 79%|███████▉  | 1396/1768 [12:30<02:48,  2.20it/s]"
     ]
    },
    {
     "name": "stdout",
     "output_type": "stream",
     "text": [
      "Image and info_dict saved for c8673267271111cc481f2793d94eb565_0 in /Volumes/Newsmy/FM_dataset/VinDr-Mammo-finding/Test/c8673267271111cc481f2793d94eb565_0\n"
     ]
    },
    {
     "name": "stderr",
     "output_type": "stream",
     "text": [
      " 79%|███████▉  | 1397/1768 [12:31<02:55,  2.11it/s]"
     ]
    },
    {
     "name": "stdout",
     "output_type": "stream",
     "text": [
      "Image and info_dict saved for c87bf078a7282e6b7ce54068935f3c61_0 in /Volumes/Newsmy/FM_dataset/VinDr-Mammo-finding/Train/c87bf078a7282e6b7ce54068935f3c61_0\n"
     ]
    },
    {
     "name": "stderr",
     "output_type": "stream",
     "text": [
      " 79%|███████▉  | 1398/1768 [12:31<02:42,  2.27it/s]"
     ]
    },
    {
     "name": "stdout",
     "output_type": "stream",
     "text": [
      "Image and info_dict saved for c8d0f2ace6a0b244914bfeccaa0d50ff_0 in /Volumes/Newsmy/FM_dataset/VinDr-Mammo-finding/Train/c8d0f2ace6a0b244914bfeccaa0d50ff_0\n"
     ]
    },
    {
     "name": "stderr",
     "output_type": "stream",
     "text": [
      " 79%|███████▉  | 1399/1768 [12:31<02:37,  2.34it/s]"
     ]
    },
    {
     "name": "stdout",
     "output_type": "stream",
     "text": [
      "Image and info_dict saved for c8ea81f44f3b81ff5ea3c33bca2db296_0 in /Volumes/Newsmy/FM_dataset/VinDr-Mammo-finding/Train/c8ea81f44f3b81ff5ea3c33bca2db296_0\n"
     ]
    },
    {
     "name": "stderr",
     "output_type": "stream",
     "text": [
      " 79%|███████▉  | 1400/1768 [12:32<02:44,  2.23it/s]"
     ]
    },
    {
     "name": "stdout",
     "output_type": "stream",
     "text": [
      "Image and info_dict saved for c8f6d4876fa771042d6ad4be5197f01e_0 in /Volumes/Newsmy/FM_dataset/VinDr-Mammo-finding/Train/c8f6d4876fa771042d6ad4be5197f01e_0\n"
     ]
    },
    {
     "name": "stderr",
     "output_type": "stream",
     "text": [
      " 79%|███████▉  | 1401/1768 [12:33<03:25,  1.78it/s]"
     ]
    },
    {
     "name": "stdout",
     "output_type": "stream",
     "text": [
      "Image and info_dict saved for c8fc55b240f0f3dd7c075b367160f289_0 in /Volumes/Newsmy/FM_dataset/VinDr-Mammo-finding/Train/c8fc55b240f0f3dd7c075b367160f289_0\n"
     ]
    },
    {
     "name": "stderr",
     "output_type": "stream",
     "text": [
      " 79%|███████▉  | 1402/1768 [12:33<03:23,  1.80it/s]"
     ]
    },
    {
     "name": "stdout",
     "output_type": "stream",
     "text": [
      "Image and info_dict saved for c90b41cd28971bc7047c8b8637718a6e_0 in /Volumes/Newsmy/FM_dataset/VinDr-Mammo-finding/Train/c90b41cd28971bc7047c8b8637718a6e_0\n",
      "Image and info_dict saved for c90b41cd28971bc7047c8b8637718a6e_1 in /Volumes/Newsmy/FM_dataset/VinDr-Mammo-finding/Train/c90b41cd28971bc7047c8b8637718a6e_1\n"
     ]
    },
    {
     "name": "stderr",
     "output_type": "stream",
     "text": [
      " 79%|███████▉  | 1403/1768 [12:34<03:18,  1.84it/s]"
     ]
    },
    {
     "name": "stdout",
     "output_type": "stream",
     "text": [
      "Image and info_dict saved for c914b7cf565f42dcff179e67b238d62e_0 in /Volumes/Newsmy/FM_dataset/VinDr-Mammo-finding/Train/c914b7cf565f42dcff179e67b238d62e_0\n"
     ]
    },
    {
     "name": "stderr",
     "output_type": "stream",
     "text": [
      " 79%|███████▉  | 1404/1768 [12:34<03:14,  1.87it/s]"
     ]
    },
    {
     "name": "stdout",
     "output_type": "stream",
     "text": [
      "Image and info_dict saved for c948f95852574751c684120ab64a5af7_0 in /Volumes/Newsmy/FM_dataset/VinDr-Mammo-finding/Train/c948f95852574751c684120ab64a5af7_0\n"
     ]
    },
    {
     "name": "stderr",
     "output_type": "stream",
     "text": [
      " 79%|███████▉  | 1405/1768 [12:35<03:01,  2.00it/s]"
     ]
    },
    {
     "name": "stdout",
     "output_type": "stream",
     "text": [
      "Image and info_dict saved for c95c8777138ea99099eb9c2f77df684a_0 in /Volumes/Newsmy/FM_dataset/VinDr-Mammo-finding/Eval/c95c8777138ea99099eb9c2f77df684a_0\n"
     ]
    },
    {
     "name": "stderr",
     "output_type": "stream",
     "text": [
      " 80%|███████▉  | 1406/1768 [12:35<02:50,  2.12it/s]"
     ]
    },
    {
     "name": "stdout",
     "output_type": "stream",
     "text": [
      "Image and info_dict saved for c9696e555b3ec7171832629cfa8fb6c3_0 in /Volumes/Newsmy/FM_dataset/VinDr-Mammo-finding/Test/c9696e555b3ec7171832629cfa8fb6c3_0\n"
     ]
    },
    {
     "name": "stderr",
     "output_type": "stream",
     "text": [
      " 80%|███████▉  | 1407/1768 [12:36<02:57,  2.03it/s]"
     ]
    },
    {
     "name": "stdout",
     "output_type": "stream",
     "text": [
      "Image and info_dict saved for c96ae2f4018c70a342e5828f3ae8bc27_0 in /Volumes/Newsmy/FM_dataset/VinDr-Mammo-finding/Train/c96ae2f4018c70a342e5828f3ae8bc27_0\n"
     ]
    },
    {
     "name": "stderr",
     "output_type": "stream",
     "text": [
      " 80%|███████▉  | 1408/1768 [12:36<03:19,  1.80it/s]"
     ]
    },
    {
     "name": "stdout",
     "output_type": "stream",
     "text": [
      "Image and info_dict saved for c99575f6b786336b2c51991f2e84ec91_0 in /Volumes/Newsmy/FM_dataset/VinDr-Mammo-finding/Test/c99575f6b786336b2c51991f2e84ec91_0\n",
      "Image and info_dict saved for c99575f6b786336b2c51991f2e84ec91_1 in /Volumes/Newsmy/FM_dataset/VinDr-Mammo-finding/Test/c99575f6b786336b2c51991f2e84ec91_1\n"
     ]
    },
    {
     "name": "stderr",
     "output_type": "stream",
     "text": [
      " 80%|███████▉  | 1409/1768 [12:37<03:09,  1.89it/s]"
     ]
    },
    {
     "name": "stdout",
     "output_type": "stream",
     "text": [
      "Image and info_dict saved for c9f1b8898a83c633466e65bfbf77588d_0 in /Volumes/Newsmy/FM_dataset/VinDr-Mammo-finding/Train/c9f1b8898a83c633466e65bfbf77588d_0\n"
     ]
    },
    {
     "name": "stderr",
     "output_type": "stream",
     "text": [
      " 80%|███████▉  | 1410/1768 [12:37<03:00,  1.98it/s]"
     ]
    },
    {
     "name": "stdout",
     "output_type": "stream",
     "text": [
      "Image and info_dict saved for ca01b7c17aa7819bbaf4d21bbc823f5a_0 in /Volumes/Newsmy/FM_dataset/VinDr-Mammo-finding/Train/ca01b7c17aa7819bbaf4d21bbc823f5a_0\n"
     ]
    },
    {
     "name": "stderr",
     "output_type": "stream",
     "text": [
      " 80%|███████▉  | 1411/1768 [12:38<03:10,  1.87it/s]"
     ]
    },
    {
     "name": "stdout",
     "output_type": "stream",
     "text": [
      "Image and info_dict saved for ca05b9106baff5384aecc1ea3ae70ff6_0 in /Volumes/Newsmy/FM_dataset/VinDr-Mammo-finding/Train/ca05b9106baff5384aecc1ea3ae70ff6_0\n"
     ]
    },
    {
     "name": "stderr",
     "output_type": "stream",
     "text": [
      " 80%|███████▉  | 1412/1768 [12:38<02:44,  2.16it/s]"
     ]
    },
    {
     "name": "stdout",
     "output_type": "stream",
     "text": [
      "Image and info_dict saved for ca0d26213dee21e7f9293cf24c5fd8e1_0 in /Volumes/Newsmy/FM_dataset/VinDr-Mammo-finding/Train/ca0d26213dee21e7f9293cf24c5fd8e1_0\n"
     ]
    },
    {
     "name": "stderr",
     "output_type": "stream",
     "text": [
      " 80%|███████▉  | 1413/1768 [12:39<02:50,  2.08it/s]"
     ]
    },
    {
     "name": "stdout",
     "output_type": "stream",
     "text": [
      "Image and info_dict saved for ca13a4909b0a95d4ba8a2030156f726d_0 in /Volumes/Newsmy/FM_dataset/VinDr-Mammo-finding/Train/ca13a4909b0a95d4ba8a2030156f726d_0\n"
     ]
    },
    {
     "name": "stderr",
     "output_type": "stream",
     "text": [
      " 80%|███████▉  | 1414/1768 [12:39<03:09,  1.86it/s]"
     ]
    },
    {
     "name": "stdout",
     "output_type": "stream",
     "text": [
      "Image and info_dict saved for ca2371b9f2b974848dd0ca71b778f0ee_0 in /Volumes/Newsmy/FM_dataset/VinDr-Mammo-finding/Train/ca2371b9f2b974848dd0ca71b778f0ee_0\n",
      "Image and info_dict saved for ca29f9b290c2613c2d0ae9ccfc8fe722_0 in /Volumes/Newsmy/FM_dataset/VinDr-Mammo-finding/Train/ca29f9b290c2613c2d0ae9ccfc8fe722_0\n",
      "Image and info_dict saved for ca29f9b290c2613c2d0ae9ccfc8fe722_1 in /Volumes/Newsmy/FM_dataset/VinDr-Mammo-finding/Train/ca29f9b290c2613c2d0ae9ccfc8fe722_1\n"
     ]
    },
    {
     "name": "stderr",
     "output_type": "stream",
     "text": [
      " 80%|████████  | 1415/1768 [12:40<03:35,  1.64it/s]"
     ]
    },
    {
     "name": "stdout",
     "output_type": "stream",
     "text": [
      "Image and info_dict saved for ca29f9b290c2613c2d0ae9ccfc8fe722_2 in /Volumes/Newsmy/FM_dataset/VinDr-Mammo-finding/Train/ca29f9b290c2613c2d0ae9ccfc8fe722_2\n"
     ]
    },
    {
     "name": "stderr",
     "output_type": "stream",
     "text": [
      " 80%|████████  | 1416/1768 [12:41<03:14,  1.81it/s]"
     ]
    },
    {
     "name": "stdout",
     "output_type": "stream",
     "text": [
      "Image and info_dict saved for ca2e81e2eaf665fad94db37e121967b3_0 in /Volumes/Newsmy/FM_dataset/VinDr-Mammo-finding/Train/ca2e81e2eaf665fad94db37e121967b3_0\n"
     ]
    },
    {
     "name": "stderr",
     "output_type": "stream",
     "text": [
      " 80%|████████  | 1417/1768 [12:41<03:15,  1.80it/s]"
     ]
    },
    {
     "name": "stdout",
     "output_type": "stream",
     "text": [
      "Image and info_dict saved for ca871ca40d05ec9db8f19143020838ed_0 in /Volumes/Newsmy/FM_dataset/VinDr-Mammo-finding/Train/ca871ca40d05ec9db8f19143020838ed_0\n"
     ]
    },
    {
     "name": "stderr",
     "output_type": "stream",
     "text": [
      " 80%|████████  | 1418/1768 [12:42<03:00,  1.94it/s]"
     ]
    },
    {
     "name": "stdout",
     "output_type": "stream",
     "text": [
      "Image and info_dict saved for ca8c8d8c1dcec7c8c94e2454aa776970_0 in /Volumes/Newsmy/FM_dataset/VinDr-Mammo-finding/Train/ca8c8d8c1dcec7c8c94e2454aa776970_0\n"
     ]
    },
    {
     "name": "stderr",
     "output_type": "stream",
     "text": [
      " 80%|████████  | 1419/1768 [12:42<03:00,  1.93it/s]"
     ]
    },
    {
     "name": "stdout",
     "output_type": "stream",
     "text": [
      "Image and info_dict saved for caaea8270feed9e68f0e972073b78fbe_0 in /Volumes/Newsmy/FM_dataset/VinDr-Mammo-finding/Test/caaea8270feed9e68f0e972073b78fbe_0\n"
     ]
    },
    {
     "name": "stderr",
     "output_type": "stream",
     "text": [
      " 80%|████████  | 1420/1768 [12:43<03:01,  1.92it/s]"
     ]
    },
    {
     "name": "stdout",
     "output_type": "stream",
     "text": [
      "Image and info_dict saved for cac15b7c21ed74ac4f86a1adc37cd40e_0 in /Volumes/Newsmy/FM_dataset/VinDr-Mammo-finding/Train/cac15b7c21ed74ac4f86a1adc37cd40e_0\n"
     ]
    },
    {
     "name": "stderr",
     "output_type": "stream",
     "text": [
      " 80%|████████  | 1421/1768 [12:43<02:59,  1.93it/s]"
     ]
    },
    {
     "name": "stdout",
     "output_type": "stream",
     "text": [
      "Image and info_dict saved for cac4e653b793ea51e867f74bc056833f_0 in /Volumes/Newsmy/FM_dataset/VinDr-Mammo-finding/Train/cac4e653b793ea51e867f74bc056833f_0\n",
      "Image and info_dict saved for cac4e653b793ea51e867f74bc056833f_1 in /Volumes/Newsmy/FM_dataset/VinDr-Mammo-finding/Train/cac4e653b793ea51e867f74bc056833f_1\n"
     ]
    },
    {
     "name": "stderr",
     "output_type": "stream",
     "text": [
      " 80%|████████  | 1422/1768 [12:44<02:54,  1.99it/s]"
     ]
    },
    {
     "name": "stdout",
     "output_type": "stream",
     "text": [
      "Image and info_dict saved for cadb654c855b9f948a193219a21712f3_0 in /Volumes/Newsmy/FM_dataset/VinDr-Mammo-finding/Train/cadb654c855b9f948a193219a21712f3_0\n"
     ]
    },
    {
     "name": "stderr",
     "output_type": "stream",
     "text": [
      " 80%|████████  | 1423/1768 [12:44<02:48,  2.04it/s]"
     ]
    },
    {
     "name": "stdout",
     "output_type": "stream",
     "text": [
      "Image and info_dict saved for cafb38b60a61619ad1bfa25b77ccb521_0 in /Volumes/Newsmy/FM_dataset/VinDr-Mammo-finding/Test/cafb38b60a61619ad1bfa25b77ccb521_0\n"
     ]
    },
    {
     "name": "stderr",
     "output_type": "stream",
     "text": [
      " 81%|████████  | 1424/1768 [12:45<02:51,  2.01it/s]"
     ]
    },
    {
     "name": "stdout",
     "output_type": "stream",
     "text": [
      "Image and info_dict saved for cb02caed6492a9619e93a3bd265a9c7f_0 in /Volumes/Newsmy/FM_dataset/VinDr-Mammo-finding/Test/cb02caed6492a9619e93a3bd265a9c7f_0\n"
     ]
    },
    {
     "name": "stderr",
     "output_type": "stream",
     "text": [
      " 81%|████████  | 1425/1768 [12:45<02:46,  2.05it/s]"
     ]
    },
    {
     "name": "stdout",
     "output_type": "stream",
     "text": [
      "Image and info_dict saved for cb14b3265d736649686882aa860bcef0_0 in /Volumes/Newsmy/FM_dataset/VinDr-Mammo-finding/Eval/cb14b3265d736649686882aa860bcef0_0\n"
     ]
    },
    {
     "name": "stderr",
     "output_type": "stream",
     "text": [
      " 81%|████████  | 1426/1768 [12:45<02:44,  2.08it/s]"
     ]
    },
    {
     "name": "stdout",
     "output_type": "stream",
     "text": [
      "Image and info_dict saved for cb1cec1193f1f34572207374f81c7dbb_0 in /Volumes/Newsmy/FM_dataset/VinDr-Mammo-finding/Train/cb1cec1193f1f34572207374f81c7dbb_0\n"
     ]
    },
    {
     "name": "stderr",
     "output_type": "stream",
     "text": [
      " 81%|████████  | 1427/1768 [12:46<02:34,  2.20it/s]"
     ]
    },
    {
     "name": "stdout",
     "output_type": "stream",
     "text": [
      "Image and info_dict saved for cb2152d981927df4a5838d22fb450823_0 in /Volumes/Newsmy/FM_dataset/VinDr-Mammo-finding/Train/cb2152d981927df4a5838d22fb450823_0\n"
     ]
    },
    {
     "name": "stderr",
     "output_type": "stream",
     "text": [
      " 81%|████████  | 1428/1768 [12:46<02:39,  2.13it/s]"
     ]
    },
    {
     "name": "stdout",
     "output_type": "stream",
     "text": [
      "Image and info_dict saved for cb74417a934644640d542388a336ad61_0 in /Volumes/Newsmy/FM_dataset/VinDr-Mammo-finding/Train/cb74417a934644640d542388a336ad61_0\n",
      "Image and info_dict saved for cb74417a934644640d542388a336ad61_1 in /Volumes/Newsmy/FM_dataset/VinDr-Mammo-finding/Train/cb74417a934644640d542388a336ad61_1\n"
     ]
    },
    {
     "name": "stderr",
     "output_type": "stream",
     "text": [
      " 81%|████████  | 1429/1768 [12:47<02:28,  2.28it/s]"
     ]
    },
    {
     "name": "stdout",
     "output_type": "stream",
     "text": [
      "Image and info_dict saved for cb76373af323acba87a742770fc4827d_0 in /Volumes/Newsmy/FM_dataset/VinDr-Mammo-finding/Test/cb76373af323acba87a742770fc4827d_0\n"
     ]
    },
    {
     "name": "stderr",
     "output_type": "stream",
     "text": [
      " 81%|████████  | 1430/1768 [12:47<02:55,  1.93it/s]"
     ]
    },
    {
     "name": "stdout",
     "output_type": "stream",
     "text": [
      "Image and info_dict saved for cbc70879a8dee060ae3c802b32726ef2_0 in /Volumes/Newsmy/FM_dataset/VinDr-Mammo-finding/Train/cbc70879a8dee060ae3c802b32726ef2_0\n"
     ]
    },
    {
     "name": "stderr",
     "output_type": "stream",
     "text": [
      " 81%|████████  | 1431/1768 [12:48<02:53,  1.94it/s]"
     ]
    },
    {
     "name": "stdout",
     "output_type": "stream",
     "text": [
      "Image and info_dict saved for cbd12b2a2dab82f0762d906c917e8909_0 in /Volumes/Newsmy/FM_dataset/VinDr-Mammo-finding/Train/cbd12b2a2dab82f0762d906c917e8909_0\n"
     ]
    },
    {
     "name": "stderr",
     "output_type": "stream",
     "text": [
      " 81%|████████  | 1432/1768 [12:48<02:54,  1.93it/s]"
     ]
    },
    {
     "name": "stdout",
     "output_type": "stream",
     "text": [
      "Image and info_dict saved for cbd30d8f2d8eb4dd4278a86381f38a3d_0 in /Volumes/Newsmy/FM_dataset/VinDr-Mammo-finding/Train/cbd30d8f2d8eb4dd4278a86381f38a3d_0\n"
     ]
    },
    {
     "name": "stderr",
     "output_type": "stream",
     "text": [
      " 81%|████████  | 1433/1768 [12:49<02:46,  2.01it/s]"
     ]
    },
    {
     "name": "stdout",
     "output_type": "stream",
     "text": [
      "Image and info_dict saved for cc10dced84a2f3279f63c683de9ae1b0_0 in /Volumes/Newsmy/FM_dataset/VinDr-Mammo-finding/Train/cc10dced84a2f3279f63c683de9ae1b0_0\n"
     ]
    },
    {
     "name": "stderr",
     "output_type": "stream",
     "text": [
      " 81%|████████  | 1434/1768 [12:50<03:00,  1.85it/s]"
     ]
    },
    {
     "name": "stdout",
     "output_type": "stream",
     "text": [
      "Image and info_dict saved for cc2c0f311aae0517742824587c0581b4_0 in /Volumes/Newsmy/FM_dataset/VinDr-Mammo-finding/Train/cc2c0f311aae0517742824587c0581b4_0\n"
     ]
    },
    {
     "name": "stderr",
     "output_type": "stream",
     "text": [
      " 81%|████████  | 1435/1768 [12:50<02:48,  1.98it/s]"
     ]
    },
    {
     "name": "stdout",
     "output_type": "stream",
     "text": [
      "Image and info_dict saved for cc348c5da8c3d81c92dd9e615dd3cd24_0 in /Volumes/Newsmy/FM_dataset/VinDr-Mammo-finding/Train/cc348c5da8c3d81c92dd9e615dd3cd24_0\n"
     ]
    },
    {
     "name": "stderr",
     "output_type": "stream",
     "text": [
      " 81%|████████  | 1436/1768 [12:50<02:46,  1.99it/s]"
     ]
    },
    {
     "name": "stdout",
     "output_type": "stream",
     "text": [
      "Image and info_dict saved for cc36988b2a3ff37cdda4b84b92f0924c_0 in /Volumes/Newsmy/FM_dataset/VinDr-Mammo-finding/Train/cc36988b2a3ff37cdda4b84b92f0924c_0\n"
     ]
    },
    {
     "name": "stderr",
     "output_type": "stream",
     "text": [
      " 81%|████████▏ | 1437/1768 [12:51<02:45,  2.00it/s]"
     ]
    },
    {
     "name": "stdout",
     "output_type": "stream",
     "text": [
      "Image and info_dict saved for cc646314fbef56ce4636bb29623e5ad2_0 in /Volumes/Newsmy/FM_dataset/VinDr-Mammo-finding/Train/cc646314fbef56ce4636bb29623e5ad2_0\n",
      "Image and info_dict saved for cc646314fbef56ce4636bb29623e5ad2_1 in /Volumes/Newsmy/FM_dataset/VinDr-Mammo-finding/Train/cc646314fbef56ce4636bb29623e5ad2_1\n",
      "Image and info_dict saved for cc68ea142fc1f2a4a4fb0d436b900d32_0 in /Volumes/Newsmy/FM_dataset/VinDr-Mammo-finding/Train/cc68ea142fc1f2a4a4fb0d436b900d32_0\n",
      "Image and info_dict saved for cc68ea142fc1f2a4a4fb0d436b900d32_1 in /Volumes/Newsmy/FM_dataset/VinDr-Mammo-finding/Train/cc68ea142fc1f2a4a4fb0d436b900d32_1\n"
     ]
    },
    {
     "name": "stderr",
     "output_type": "stream",
     "text": [
      " 81%|████████▏ | 1438/1768 [12:52<03:08,  1.75it/s]"
     ]
    },
    {
     "name": "stdout",
     "output_type": "stream",
     "text": [
      "Image and info_dict saved for cc68ea142fc1f2a4a4fb0d436b900d32_2 in /Volumes/Newsmy/FM_dataset/VinDr-Mammo-finding/Train/cc68ea142fc1f2a4a4fb0d436b900d32_2\n"
     ]
    },
    {
     "name": "stderr",
     "output_type": "stream",
     "text": [
      " 81%|████████▏ | 1439/1768 [12:52<02:59,  1.84it/s]"
     ]
    },
    {
     "name": "stdout",
     "output_type": "stream",
     "text": [
      "Image and info_dict saved for cc68f0a6796f990ac32d5c081df38d6e_0 in /Volumes/Newsmy/FM_dataset/VinDr-Mammo-finding/Train/cc68f0a6796f990ac32d5c081df38d6e_0\n"
     ]
    },
    {
     "name": "stderr",
     "output_type": "stream",
     "text": [
      " 81%|████████▏ | 1440/1768 [12:53<02:45,  1.98it/s]"
     ]
    },
    {
     "name": "stdout",
     "output_type": "stream",
     "text": [
      "Image and info_dict saved for cc73fb4a62928a28d8cb94bbbb5b68b0_0 in /Volumes/Newsmy/FM_dataset/VinDr-Mammo-finding/Train/cc73fb4a62928a28d8cb94bbbb5b68b0_0\n"
     ]
    },
    {
     "name": "stderr",
     "output_type": "stream",
     "text": [
      " 82%|████████▏ | 1441/1768 [12:53<03:00,  1.81it/s]"
     ]
    },
    {
     "name": "stdout",
     "output_type": "stream",
     "text": [
      "Image and info_dict saved for cc8d20fb54924dd5463407e1b53281d2_0 in /Volumes/Newsmy/FM_dataset/VinDr-Mammo-finding/Train/cc8d20fb54924dd5463407e1b53281d2_0\n",
      "Image and info_dict saved for cc8d20fb54924dd5463407e1b53281d2_1 in /Volumes/Newsmy/FM_dataset/VinDr-Mammo-finding/Train/cc8d20fb54924dd5463407e1b53281d2_1\n"
     ]
    },
    {
     "name": "stderr",
     "output_type": "stream",
     "text": [
      " 82%|████████▏ | 1442/1768 [12:54<02:47,  1.95it/s]"
     ]
    },
    {
     "name": "stdout",
     "output_type": "stream",
     "text": [
      "Image and info_dict saved for cca2fbb16f86b24546d998b64233247b_0 in /Volumes/Newsmy/FM_dataset/VinDr-Mammo-finding/Train/cca2fbb16f86b24546d998b64233247b_0\n"
     ]
    },
    {
     "name": "stderr",
     "output_type": "stream",
     "text": [
      " 82%|████████▏ | 1443/1768 [12:54<02:42,  2.01it/s]"
     ]
    },
    {
     "name": "stdout",
     "output_type": "stream",
     "text": [
      "Image and info_dict saved for cd3f65e401f72d414d3954a677d20c3f_0 in /Volumes/Newsmy/FM_dataset/VinDr-Mammo-finding/Train/cd3f65e401f72d414d3954a677d20c3f_0\n"
     ]
    },
    {
     "name": "stderr",
     "output_type": "stream",
     "text": [
      " 82%|████████▏ | 1444/1768 [12:55<02:46,  1.95it/s]"
     ]
    },
    {
     "name": "stdout",
     "output_type": "stream",
     "text": [
      "Image and info_dict saved for ce00a3d09a67659c9ca5a3f6e7e3532f_0 in /Volumes/Newsmy/FM_dataset/VinDr-Mammo-finding/Train/ce00a3d09a67659c9ca5a3f6e7e3532f_0\n"
     ]
    },
    {
     "name": "stderr",
     "output_type": "stream",
     "text": [
      " 82%|████████▏ | 1445/1768 [12:55<02:44,  1.96it/s]"
     ]
    },
    {
     "name": "stdout",
     "output_type": "stream",
     "text": [
      "Image and info_dict saved for ce334c03dad5d9784977301ab1a84965_0 in /Volumes/Newsmy/FM_dataset/VinDr-Mammo-finding/Test/ce334c03dad5d9784977301ab1a84965_0\n"
     ]
    },
    {
     "name": "stderr",
     "output_type": "stream",
     "text": [
      " 82%|████████▏ | 1446/1768 [12:56<02:34,  2.09it/s]"
     ]
    },
    {
     "name": "stdout",
     "output_type": "stream",
     "text": [
      "Image and info_dict saved for ce4cbd6f019b513850603189efd8431c_0 in /Volumes/Newsmy/FM_dataset/VinDr-Mammo-finding/Train/ce4cbd6f019b513850603189efd8431c_0\n"
     ]
    },
    {
     "name": "stderr",
     "output_type": "stream",
     "text": [
      " 82%|████████▏ | 1447/1768 [12:56<02:39,  2.01it/s]"
     ]
    },
    {
     "name": "stdout",
     "output_type": "stream",
     "text": [
      "Image and info_dict saved for ce7a0a66fa752fc69aa430027237ef9e_0 in /Volumes/Newsmy/FM_dataset/VinDr-Mammo-finding/Test/ce7a0a66fa752fc69aa430027237ef9e_0\n"
     ]
    },
    {
     "name": "stderr",
     "output_type": "stream",
     "text": [
      " 82%|████████▏ | 1448/1768 [12:57<02:38,  2.02it/s]"
     ]
    },
    {
     "name": "stdout",
     "output_type": "stream",
     "text": [
      "Image and info_dict saved for ce9b601781749d4474e373620d1f6b53_0 in /Volumes/Newsmy/FM_dataset/VinDr-Mammo-finding/Test/ce9b601781749d4474e373620d1f6b53_0\n"
     ]
    },
    {
     "name": "stderr",
     "output_type": "stream",
     "text": [
      " 82%|████████▏ | 1449/1768 [12:57<02:45,  1.93it/s]"
     ]
    },
    {
     "name": "stdout",
     "output_type": "stream",
     "text": [
      "Image and info_dict saved for cea7726bbc92b5e3b5ca8c2c65d3cafe_0 in /Volumes/Newsmy/FM_dataset/VinDr-Mammo-finding/Train/cea7726bbc92b5e3b5ca8c2c65d3cafe_0\n"
     ]
    },
    {
     "name": "stderr",
     "output_type": "stream",
     "text": [
      " 82%|████████▏ | 1450/1768 [12:58<02:39,  1.99it/s]"
     ]
    },
    {
     "name": "stdout",
     "output_type": "stream",
     "text": [
      "Image and info_dict saved for ceba5bc55af884639239e562ece20aba_0 in /Volumes/Newsmy/FM_dataset/VinDr-Mammo-finding/Train/ceba5bc55af884639239e562ece20aba_0\n"
     ]
    },
    {
     "name": "stderr",
     "output_type": "stream",
     "text": [
      " 82%|████████▏ | 1451/1768 [12:58<02:27,  2.15it/s]"
     ]
    },
    {
     "name": "stdout",
     "output_type": "stream",
     "text": [
      "Image and info_dict saved for cef78bc38a146cacf45b3538abc4b7e1_0 in /Volumes/Newsmy/FM_dataset/VinDr-Mammo-finding/Test/cef78bc38a146cacf45b3538abc4b7e1_0\n"
     ]
    },
    {
     "name": "stderr",
     "output_type": "stream",
     "text": [
      " 82%|████████▏ | 1452/1768 [12:58<02:22,  2.22it/s]"
     ]
    },
    {
     "name": "stdout",
     "output_type": "stream",
     "text": [
      "Image and info_dict saved for cf1679c6cab0d26569285756dbb12f5e_0 in /Volumes/Newsmy/FM_dataset/VinDr-Mammo-finding/Train/cf1679c6cab0d26569285756dbb12f5e_0\n"
     ]
    },
    {
     "name": "stderr",
     "output_type": "stream",
     "text": [
      " 82%|████████▏ | 1453/1768 [12:59<02:31,  2.08it/s]"
     ]
    },
    {
     "name": "stdout",
     "output_type": "stream",
     "text": [
      "Image and info_dict saved for cfdda9d0be846ba0716fcf18ae3abf70_0 in /Volumes/Newsmy/FM_dataset/VinDr-Mammo-finding/Test/cfdda9d0be846ba0716fcf18ae3abf70_0\n",
      "Image and info_dict saved for cff199588870ff525fae37b52ff8db5c_0 in /Volumes/Newsmy/FM_dataset/VinDr-Mammo-finding/Train/cff199588870ff525fae37b52ff8db5c_0\n",
      "Image and info_dict saved for cff199588870ff525fae37b52ff8db5c_1 in /Volumes/Newsmy/FM_dataset/VinDr-Mammo-finding/Train/cff199588870ff525fae37b52ff8db5c_1\n",
      "Image and info_dict saved for cff199588870ff525fae37b52ff8db5c_2 in /Volumes/Newsmy/FM_dataset/VinDr-Mammo-finding/Train/cff199588870ff525fae37b52ff8db5c_2\n"
     ]
    },
    {
     "name": "stderr",
     "output_type": "stream",
     "text": [
      " 82%|████████▏ | 1454/1768 [13:00<03:09,  1.66it/s]"
     ]
    },
    {
     "name": "stdout",
     "output_type": "stream",
     "text": [
      "Image and info_dict saved for cff199588870ff525fae37b52ff8db5c_3 in /Volumes/Newsmy/FM_dataset/VinDr-Mammo-finding/Train/cff199588870ff525fae37b52ff8db5c_3\n"
     ]
    },
    {
     "name": "stderr",
     "output_type": "stream",
     "text": [
      " 82%|████████▏ | 1455/1768 [13:01<03:10,  1.65it/s]"
     ]
    },
    {
     "name": "stdout",
     "output_type": "stream",
     "text": [
      "Image and info_dict saved for d010d03b544cd44916f96b9b6febda19_0 in /Volumes/Newsmy/FM_dataset/VinDr-Mammo-finding/Eval/d010d03b544cd44916f96b9b6febda19_0\n",
      "Image and info_dict saved for d010d03b544cd44916f96b9b6febda19_1 in /Volumes/Newsmy/FM_dataset/VinDr-Mammo-finding/Eval/d010d03b544cd44916f96b9b6febda19_1\n"
     ]
    },
    {
     "name": "stderr",
     "output_type": "stream",
     "text": [
      " 82%|████████▏ | 1456/1768 [13:01<02:56,  1.76it/s]"
     ]
    },
    {
     "name": "stdout",
     "output_type": "stream",
     "text": [
      "Image and info_dict saved for d018c249c36b8ba59d54a6759d4cda38_0 in /Volumes/Newsmy/FM_dataset/VinDr-Mammo-finding/Test/d018c249c36b8ba59d54a6759d4cda38_0\n"
     ]
    },
    {
     "name": "stderr",
     "output_type": "stream",
     "text": [
      " 82%|████████▏ | 1457/1768 [13:01<02:37,  1.98it/s]"
     ]
    },
    {
     "name": "stdout",
     "output_type": "stream",
     "text": [
      "Image and info_dict saved for d028ffee146b31e84cb8cce392beafe7_0 in /Volumes/Newsmy/FM_dataset/VinDr-Mammo-finding/Test/d028ffee146b31e84cb8cce392beafe7_0\n"
     ]
    },
    {
     "name": "stderr",
     "output_type": "stream",
     "text": [
      " 82%|████████▏ | 1458/1768 [13:02<02:44,  1.88it/s]"
     ]
    },
    {
     "name": "stdout",
     "output_type": "stream",
     "text": [
      "Image and info_dict saved for d02f7fcc6f0b63b2e5f548c5d595aaba_0 in /Volumes/Newsmy/FM_dataset/VinDr-Mammo-finding/Test/d02f7fcc6f0b63b2e5f548c5d595aaba_0\n"
     ]
    },
    {
     "name": "stderr",
     "output_type": "stream",
     "text": [
      " 83%|████████▎ | 1459/1768 [13:03<03:01,  1.70it/s]"
     ]
    },
    {
     "name": "stdout",
     "output_type": "stream",
     "text": [
      "Image and info_dict saved for d035c81f7e81c0a845b61e566bf7a4bb_0 in /Volumes/Newsmy/FM_dataset/VinDr-Mammo-finding/Test/d035c81f7e81c0a845b61e566bf7a4bb_0\n",
      "Image and info_dict saved for d035c81f7e81c0a845b61e566bf7a4bb_1 in /Volumes/Newsmy/FM_dataset/VinDr-Mammo-finding/Test/d035c81f7e81c0a845b61e566bf7a4bb_1\n"
     ]
    },
    {
     "name": "stderr",
     "output_type": "stream",
     "text": [
      " 83%|████████▎ | 1460/1768 [13:04<03:35,  1.43it/s]"
     ]
    },
    {
     "name": "stdout",
     "output_type": "stream",
     "text": [
      "Image and info_dict saved for d038ba2ddf408d3a9116e818b04ffb87_0 in /Volumes/Newsmy/FM_dataset/VinDr-Mammo-finding/Train/d038ba2ddf408d3a9116e818b04ffb87_0\n"
     ]
    },
    {
     "name": "stderr",
     "output_type": "stream",
     "text": [
      " 83%|████████▎ | 1461/1768 [13:04<03:28,  1.47it/s]"
     ]
    },
    {
     "name": "stdout",
     "output_type": "stream",
     "text": [
      "Image and info_dict saved for d0580fd717bf2fdac32a1cd63e91f99e_0 in /Volumes/Newsmy/FM_dataset/VinDr-Mammo-finding/Train/d0580fd717bf2fdac32a1cd63e91f99e_0\n"
     ]
    },
    {
     "name": "stderr",
     "output_type": "stream",
     "text": [
      " 83%|████████▎ | 1462/1768 [13:05<03:02,  1.68it/s]"
     ]
    },
    {
     "name": "stdout",
     "output_type": "stream",
     "text": [
      "Image and info_dict saved for d0b5c4ed2cbf8e9712af6bce9df87e6d_0 in /Volumes/Newsmy/FM_dataset/VinDr-Mammo-finding/Train/d0b5c4ed2cbf8e9712af6bce9df87e6d_0\n"
     ]
    },
    {
     "name": "stderr",
     "output_type": "stream",
     "text": [
      " 83%|████████▎ | 1463/1768 [13:05<02:42,  1.87it/s]"
     ]
    },
    {
     "name": "stdout",
     "output_type": "stream",
     "text": [
      "Image and info_dict saved for d0b93f31d006e8996b33ccb21b2004e6_0 in /Volumes/Newsmy/FM_dataset/VinDr-Mammo-finding/Train/d0b93f31d006e8996b33ccb21b2004e6_0\n"
     ]
    },
    {
     "name": "stderr",
     "output_type": "stream",
     "text": [
      " 83%|████████▎ | 1464/1768 [13:06<02:47,  1.82it/s]"
     ]
    },
    {
     "name": "stdout",
     "output_type": "stream",
     "text": [
      "Image and info_dict saved for d126171c562499056287d1df68ec2879_0 in /Volumes/Newsmy/FM_dataset/VinDr-Mammo-finding/Test/d126171c562499056287d1df68ec2879_0\n",
      "Image and info_dict saved for d126171c562499056287d1df68ec2879_1 in /Volumes/Newsmy/FM_dataset/VinDr-Mammo-finding/Test/d126171c562499056287d1df68ec2879_1\n"
     ]
    },
    {
     "name": "stderr",
     "output_type": "stream",
     "text": [
      " 83%|████████▎ | 1465/1768 [13:06<02:48,  1.80it/s]"
     ]
    },
    {
     "name": "stdout",
     "output_type": "stream",
     "text": [
      "Image and info_dict saved for d12617fc7bdc0bf6f8044e6f406f019b_0 in /Volumes/Newsmy/FM_dataset/VinDr-Mammo-finding/Test/d12617fc7bdc0bf6f8044e6f406f019b_0\n"
     ]
    },
    {
     "name": "stderr",
     "output_type": "stream",
     "text": [
      " 83%|████████▎ | 1466/1768 [13:07<02:52,  1.75it/s]"
     ]
    },
    {
     "name": "stdout",
     "output_type": "stream",
     "text": [
      "Image and info_dict saved for d15dc650c9595e5ac5c1b5e253761905_0 in /Volumes/Newsmy/FM_dataset/VinDr-Mammo-finding/Eval/d15dc650c9595e5ac5c1b5e253761905_0\n"
     ]
    },
    {
     "name": "stderr",
     "output_type": "stream",
     "text": [
      " 83%|████████▎ | 1467/1768 [13:08<03:29,  1.44it/s]"
     ]
    },
    {
     "name": "stdout",
     "output_type": "stream",
     "text": [
      "Image and info_dict saved for d16e0674bc7cf9332590075d9aa2553a_0 in /Volumes/Newsmy/FM_dataset/VinDr-Mammo-finding/Train/d16e0674bc7cf9332590075d9aa2553a_0\n"
     ]
    },
    {
     "name": "stderr",
     "output_type": "stream",
     "text": [
      " 83%|████████▎ | 1468/1768 [13:08<03:17,  1.52it/s]"
     ]
    },
    {
     "name": "stdout",
     "output_type": "stream",
     "text": [
      "Image and info_dict saved for d1ae40fad0e989938b7b9e75366c6334_0 in /Volumes/Newsmy/FM_dataset/VinDr-Mammo-finding/Test/d1ae40fad0e989938b7b9e75366c6334_0\n"
     ]
    },
    {
     "name": "stderr",
     "output_type": "stream",
     "text": [
      " 83%|████████▎ | 1469/1768 [13:09<03:11,  1.56it/s]"
     ]
    },
    {
     "name": "stdout",
     "output_type": "stream",
     "text": [
      "Image and info_dict saved for d24c088be30f0d1b4b3346f45a4a9e78_0 in /Volumes/Newsmy/FM_dataset/VinDr-Mammo-finding/Train/d24c088be30f0d1b4b3346f45a4a9e78_0\n",
      "Image and info_dict saved for d24c088be30f0d1b4b3346f45a4a9e78_1 in /Volumes/Newsmy/FM_dataset/VinDr-Mammo-finding/Train/d24c088be30f0d1b4b3346f45a4a9e78_1\n"
     ]
    },
    {
     "name": "stderr",
     "output_type": "stream",
     "text": [
      " 83%|████████▎ | 1470/1768 [13:09<02:39,  1.86it/s]"
     ]
    },
    {
     "name": "stdout",
     "output_type": "stream",
     "text": [
      "Image and info_dict saved for d25ea7dce5e60b1e054044acb722096c_0 in /Volumes/Newsmy/FM_dataset/VinDr-Mammo-finding/Train/d25ea7dce5e60b1e054044acb722096c_0\n"
     ]
    },
    {
     "name": "stderr",
     "output_type": "stream",
     "text": [
      " 83%|████████▎ | 1471/1768 [13:10<02:26,  2.03it/s]"
     ]
    },
    {
     "name": "stdout",
     "output_type": "stream",
     "text": [
      "Image and info_dict saved for d27d2ba88f10f50f10cee604f8bf2042_0 in /Volumes/Newsmy/FM_dataset/VinDr-Mammo-finding/Train/d27d2ba88f10f50f10cee604f8bf2042_0\n"
     ]
    },
    {
     "name": "stderr",
     "output_type": "stream",
     "text": [
      " 83%|████████▎ | 1472/1768 [13:10<02:38,  1.87it/s]"
     ]
    },
    {
     "name": "stdout",
     "output_type": "stream",
     "text": [
      "Image and info_dict saved for d2c75e02ba8114f75e83dd1b3ab73cd2_0 in /Volumes/Newsmy/FM_dataset/VinDr-Mammo-finding/Train/d2c75e02ba8114f75e83dd1b3ab73cd2_0\n",
      "Image and info_dict saved for d2c75e02ba8114f75e83dd1b3ab73cd2_1 in /Volumes/Newsmy/FM_dataset/VinDr-Mammo-finding/Train/d2c75e02ba8114f75e83dd1b3ab73cd2_1\n"
     ]
    },
    {
     "name": "stderr",
     "output_type": "stream",
     "text": [
      " 83%|████████▎ | 1473/1768 [13:11<02:59,  1.65it/s]"
     ]
    },
    {
     "name": "stdout",
     "output_type": "stream",
     "text": [
      "Image and info_dict saved for d2df2d14a7c3e26181054fa6e58e9ba5_0 in /Volumes/Newsmy/FM_dataset/VinDr-Mammo-finding/Train/d2df2d14a7c3e26181054fa6e58e9ba5_0\n"
     ]
    },
    {
     "name": "stderr",
     "output_type": "stream",
     "text": [
      " 83%|████████▎ | 1474/1768 [13:12<02:52,  1.70it/s]"
     ]
    },
    {
     "name": "stdout",
     "output_type": "stream",
     "text": [
      "Image and info_dict saved for d3608e08c17fa916dcde1203ed5faf61_0 in /Volumes/Newsmy/FM_dataset/VinDr-Mammo-finding/Train/d3608e08c17fa916dcde1203ed5faf61_0\n",
      "Image and info_dict saved for d3608e08c17fa916dcde1203ed5faf61_1 in /Volumes/Newsmy/FM_dataset/VinDr-Mammo-finding/Train/d3608e08c17fa916dcde1203ed5faf61_1\n"
     ]
    },
    {
     "name": "stderr",
     "output_type": "stream",
     "text": [
      " 83%|████████▎ | 1475/1768 [13:12<02:35,  1.89it/s]"
     ]
    },
    {
     "name": "stdout",
     "output_type": "stream",
     "text": [
      "Image and info_dict saved for d360a682c40590bb09f819d127e0a11a_0 in /Volumes/Newsmy/FM_dataset/VinDr-Mammo-finding/Test/d360a682c40590bb09f819d127e0a11a_0\n"
     ]
    },
    {
     "name": "stderr",
     "output_type": "stream",
     "text": [
      " 83%|████████▎ | 1476/1768 [13:12<02:25,  2.00it/s]"
     ]
    },
    {
     "name": "stdout",
     "output_type": "stream",
     "text": [
      "Image and info_dict saved for d38e3b02abd2b9db4fae89ef2927cdeb_0 in /Volumes/Newsmy/FM_dataset/VinDr-Mammo-finding/Train/d38e3b02abd2b9db4fae89ef2927cdeb_0\n"
     ]
    },
    {
     "name": "stderr",
     "output_type": "stream",
     "text": [
      " 84%|████████▎ | 1477/1768 [13:13<02:25,  2.00it/s]"
     ]
    },
    {
     "name": "stdout",
     "output_type": "stream",
     "text": [
      "Image and info_dict saved for d3aced0c7e8fe9c1bd498eeb72cb6048_0 in /Volumes/Newsmy/FM_dataset/VinDr-Mammo-finding/Test/d3aced0c7e8fe9c1bd498eeb72cb6048_0\n"
     ]
    },
    {
     "name": "stderr",
     "output_type": "stream",
     "text": [
      " 84%|████████▎ | 1478/1768 [13:13<02:29,  1.94it/s]"
     ]
    },
    {
     "name": "stdout",
     "output_type": "stream",
     "text": [
      "Image and info_dict saved for d3bc4b6710f1bf8a4bfd5482feafb595_0 in /Volumes/Newsmy/FM_dataset/VinDr-Mammo-finding/Train/d3bc4b6710f1bf8a4bfd5482feafb595_0\n"
     ]
    },
    {
     "name": "stderr",
     "output_type": "stream",
     "text": [
      " 84%|████████▎ | 1479/1768 [13:14<02:27,  1.97it/s]"
     ]
    },
    {
     "name": "stdout",
     "output_type": "stream",
     "text": [
      "Image and info_dict saved for d3d33daefeaa80d3a4fc73900775a040_0 in /Volumes/Newsmy/FM_dataset/VinDr-Mammo-finding/Train/d3d33daefeaa80d3a4fc73900775a040_0\n"
     ]
    },
    {
     "name": "stderr",
     "output_type": "stream",
     "text": [
      " 84%|████████▎ | 1480/1768 [13:14<02:20,  2.05it/s]"
     ]
    },
    {
     "name": "stdout",
     "output_type": "stream",
     "text": [
      "Image and info_dict saved for d3f2ec809eddcadb8d458ea80eeadc87_0 in /Volumes/Newsmy/FM_dataset/VinDr-Mammo-finding/Train/d3f2ec809eddcadb8d458ea80eeadc87_0\n"
     ]
    },
    {
     "name": "stderr",
     "output_type": "stream",
     "text": [
      " 84%|████████▍ | 1481/1768 [13:15<02:40,  1.79it/s]"
     ]
    },
    {
     "name": "stdout",
     "output_type": "stream",
     "text": [
      "Image and info_dict saved for d4211c9aa05f4912f00c135291b3634d_0 in /Volumes/Newsmy/FM_dataset/VinDr-Mammo-finding/Train/d4211c9aa05f4912f00c135291b3634d_0\n"
     ]
    },
    {
     "name": "stderr",
     "output_type": "stream",
     "text": [
      " 84%|████████▍ | 1482/1768 [13:16<02:27,  1.93it/s]"
     ]
    },
    {
     "name": "stdout",
     "output_type": "stream",
     "text": [
      "Image and info_dict saved for d42c6aca1a6371d22407f73c67b07d65_0 in /Volumes/Newsmy/FM_dataset/VinDr-Mammo-finding/Train/d42c6aca1a6371d22407f73c67b07d65_0\n"
     ]
    },
    {
     "name": "stderr",
     "output_type": "stream",
     "text": [
      " 84%|████████▍ | 1483/1768 [13:16<02:20,  2.03it/s]"
     ]
    },
    {
     "name": "stdout",
     "output_type": "stream",
     "text": [
      "Image and info_dict saved for d42ebe160ea29f5fc30b0569f3e9c734_0 in /Volumes/Newsmy/FM_dataset/VinDr-Mammo-finding/Train/d42ebe160ea29f5fc30b0569f3e9c734_0\n"
     ]
    },
    {
     "name": "stderr",
     "output_type": "stream",
     "text": [
      " 84%|████████▍ | 1484/1768 [13:16<02:17,  2.07it/s]"
     ]
    },
    {
     "name": "stdout",
     "output_type": "stream",
     "text": [
      "Image and info_dict saved for d43f6852f99857f4efcd0c67cdbd66ae_0 in /Volumes/Newsmy/FM_dataset/VinDr-Mammo-finding/Train/d43f6852f99857f4efcd0c67cdbd66ae_0\n"
     ]
    },
    {
     "name": "stderr",
     "output_type": "stream",
     "text": [
      " 84%|████████▍ | 1485/1768 [13:17<02:29,  1.89it/s]"
     ]
    },
    {
     "name": "stdout",
     "output_type": "stream",
     "text": [
      "Image and info_dict saved for d4cae2c614676925578ca87836ab95b6_0 in /Volumes/Newsmy/FM_dataset/VinDr-Mammo-finding/Train/d4cae2c614676925578ca87836ab95b6_0\n",
      "Image and info_dict saved for d4cae2c614676925578ca87836ab95b6_1 in /Volumes/Newsmy/FM_dataset/VinDr-Mammo-finding/Train/d4cae2c614676925578ca87836ab95b6_1\n"
     ]
    },
    {
     "name": "stderr",
     "output_type": "stream",
     "text": [
      " 84%|████████▍ | 1486/1768 [13:18<02:26,  1.92it/s]"
     ]
    },
    {
     "name": "stdout",
     "output_type": "stream",
     "text": [
      "Image and info_dict saved for d51acb58b7bbec42dc749b5463863c6f_0 in /Volumes/Newsmy/FM_dataset/VinDr-Mammo-finding/Train/d51acb58b7bbec42dc749b5463863c6f_0\n"
     ]
    },
    {
     "name": "stderr",
     "output_type": "stream",
     "text": [
      " 84%|████████▍ | 1487/1768 [13:18<02:18,  2.03it/s]"
     ]
    },
    {
     "name": "stdout",
     "output_type": "stream",
     "text": [
      "Image and info_dict saved for d52161ca0d73ced5fde02dc6cb04918e_0 in /Volumes/Newsmy/FM_dataset/VinDr-Mammo-finding/Test/d52161ca0d73ced5fde02dc6cb04918e_0\n"
     ]
    },
    {
     "name": "stderr",
     "output_type": "stream",
     "text": [
      " 84%|████████▍ | 1488/1768 [13:19<02:24,  1.94it/s]"
     ]
    },
    {
     "name": "stdout",
     "output_type": "stream",
     "text": [
      "Image and info_dict saved for d55fe35cb1cac106c8b5f05967642991_0 in /Volumes/Newsmy/FM_dataset/VinDr-Mammo-finding/Test/d55fe35cb1cac106c8b5f05967642991_0\n"
     ]
    },
    {
     "name": "stderr",
     "output_type": "stream",
     "text": [
      " 84%|████████▍ | 1489/1768 [13:19<02:17,  2.03it/s]"
     ]
    },
    {
     "name": "stdout",
     "output_type": "stream",
     "text": [
      "Image and info_dict saved for d5701f000de83388af9171cea1427a7e_0 in /Volumes/Newsmy/FM_dataset/VinDr-Mammo-finding/Test/d5701f000de83388af9171cea1427a7e_0\n"
     ]
    },
    {
     "name": "stderr",
     "output_type": "stream",
     "text": [
      " 84%|████████▍ | 1490/1768 [13:20<02:24,  1.92it/s]"
     ]
    },
    {
     "name": "stdout",
     "output_type": "stream",
     "text": [
      "Image and info_dict saved for d590f7d1cd57ab842a5bef5241cac7b7_0 in /Volumes/Newsmy/FM_dataset/VinDr-Mammo-finding/Train/d590f7d1cd57ab842a5bef5241cac7b7_0\n",
      "Image and info_dict saved for d590f7d1cd57ab842a5bef5241cac7b7_1 in /Volumes/Newsmy/FM_dataset/VinDr-Mammo-finding/Train/d590f7d1cd57ab842a5bef5241cac7b7_1\n"
     ]
    },
    {
     "name": "stderr",
     "output_type": "stream",
     "text": [
      " 84%|████████▍ | 1491/1768 [13:20<02:28,  1.86it/s]"
     ]
    },
    {
     "name": "stdout",
     "output_type": "stream",
     "text": [
      "Image and info_dict saved for d5cba9addf76e1ab491d4c4d71e80477_0 in /Volumes/Newsmy/FM_dataset/VinDr-Mammo-finding/Train/d5cba9addf76e1ab491d4c4d71e80477_0\n"
     ]
    },
    {
     "name": "stderr",
     "output_type": "stream",
     "text": [
      " 84%|████████▍ | 1492/1768 [13:21<02:18,  2.00it/s]"
     ]
    },
    {
     "name": "stdout",
     "output_type": "stream",
     "text": [
      "Image and info_dict saved for d5fbbd30a1d4a089716622b4303b1b58_0 in /Volumes/Newsmy/FM_dataset/VinDr-Mammo-finding/Eval/d5fbbd30a1d4a089716622b4303b1b58_0\n"
     ]
    },
    {
     "name": "stderr",
     "output_type": "stream",
     "text": [
      " 84%|████████▍ | 1493/1768 [13:21<02:14,  2.04it/s]"
     ]
    },
    {
     "name": "stdout",
     "output_type": "stream",
     "text": [
      "Image and info_dict saved for d60001fe06aa2ab1d11c65454cb866d7_0 in /Volumes/Newsmy/FM_dataset/VinDr-Mammo-finding/Train/d60001fe06aa2ab1d11c65454cb866d7_0\n"
     ]
    },
    {
     "name": "stderr",
     "output_type": "stream",
     "text": [
      " 85%|████████▍ | 1494/1768 [13:21<01:56,  2.36it/s]"
     ]
    },
    {
     "name": "stdout",
     "output_type": "stream",
     "text": [
      "Image and info_dict saved for d6a5571d179a36b0f8b0196a9d7fa69c_0 in /Volumes/Newsmy/FM_dataset/VinDr-Mammo-finding/Train/d6a5571d179a36b0f8b0196a9d7fa69c_0\n"
     ]
    },
    {
     "name": "stderr",
     "output_type": "stream",
     "text": [
      " 85%|████████▍ | 1495/1768 [13:23<03:04,  1.48it/s]"
     ]
    },
    {
     "name": "stdout",
     "output_type": "stream",
     "text": [
      "Image and info_dict saved for d6db56d5cb90391e234dca76c4a344e4_0 in /Volumes/Newsmy/FM_dataset/VinDr-Mammo-finding/Train/d6db56d5cb90391e234dca76c4a344e4_0\n"
     ]
    },
    {
     "name": "stderr",
     "output_type": "stream",
     "text": [
      " 85%|████████▍ | 1496/1768 [13:23<03:07,  1.45it/s]"
     ]
    },
    {
     "name": "stdout",
     "output_type": "stream",
     "text": [
      "Image and info_dict saved for d75092349d2b99d2cc62f5f5a61cd164_0 in /Volumes/Newsmy/FM_dataset/VinDr-Mammo-finding/Train/d75092349d2b99d2cc62f5f5a61cd164_0\n"
     ]
    },
    {
     "name": "stderr",
     "output_type": "stream",
     "text": [
      " 85%|████████▍ | 1497/1768 [13:24<03:02,  1.49it/s]"
     ]
    },
    {
     "name": "stdout",
     "output_type": "stream",
     "text": [
      "Image and info_dict saved for d76b87c0f10d686ac89ee873c606fdf5_0 in /Volumes/Newsmy/FM_dataset/VinDr-Mammo-finding/Train/d76b87c0f10d686ac89ee873c606fdf5_0\n",
      "Image and info_dict saved for d76b87c0f10d686ac89ee873c606fdf5_1 in /Volumes/Newsmy/FM_dataset/VinDr-Mammo-finding/Train/d76b87c0f10d686ac89ee873c606fdf5_1\n",
      "Image and info_dict saved for d76b87c0f10d686ac89ee873c606fdf5_2 in /Volumes/Newsmy/FM_dataset/VinDr-Mammo-finding/Train/d76b87c0f10d686ac89ee873c606fdf5_2\n"
     ]
    },
    {
     "name": "stderr",
     "output_type": "stream",
     "text": [
      " 85%|████████▍ | 1498/1768 [13:24<02:48,  1.60it/s]"
     ]
    },
    {
     "name": "stdout",
     "output_type": "stream",
     "text": [
      "Image and info_dict saved for d780179aa1968d0eadfac12fff8afe1e_0 in /Volumes/Newsmy/FM_dataset/VinDr-Mammo-finding/Train/d780179aa1968d0eadfac12fff8afe1e_0\n"
     ]
    },
    {
     "name": "stderr",
     "output_type": "stream",
     "text": [
      " 85%|████████▍ | 1499/1768 [13:25<02:28,  1.81it/s]"
     ]
    },
    {
     "name": "stdout",
     "output_type": "stream",
     "text": [
      "Image and info_dict saved for d7815929d503a461d7f7e25a7a18bd86_0 in /Volumes/Newsmy/FM_dataset/VinDr-Mammo-finding/Train/d7815929d503a461d7f7e25a7a18bd86_0\n"
     ]
    },
    {
     "name": "stderr",
     "output_type": "stream",
     "text": [
      " 85%|████████▍ | 1500/1768 [13:25<02:17,  1.95it/s]"
     ]
    },
    {
     "name": "stdout",
     "output_type": "stream",
     "text": [
      "Image and info_dict saved for d7b13c6b2c47e38281ad5148a0d7355e_0 in /Volumes/Newsmy/FM_dataset/VinDr-Mammo-finding/Train/d7b13c6b2c47e38281ad5148a0d7355e_0\n"
     ]
    },
    {
     "name": "stderr",
     "output_type": "stream",
     "text": [
      " 85%|████████▍ | 1501/1768 [13:26<02:12,  2.01it/s]"
     ]
    },
    {
     "name": "stdout",
     "output_type": "stream",
     "text": [
      "Image and info_dict saved for d7e4f2a7ee93c5fc4d5b79989ce45210_0 in /Volumes/Newsmy/FM_dataset/VinDr-Mammo-finding/Train/d7e4f2a7ee93c5fc4d5b79989ce45210_0\n"
     ]
    },
    {
     "name": "stderr",
     "output_type": "stream",
     "text": [
      " 85%|████████▍ | 1502/1768 [13:26<02:11,  2.03it/s]"
     ]
    },
    {
     "name": "stdout",
     "output_type": "stream",
     "text": [
      "Image and info_dict saved for d838dc1fa3b1c99fad6af99fef9f2b77_0 in /Volumes/Newsmy/FM_dataset/VinDr-Mammo-finding/Train/d838dc1fa3b1c99fad6af99fef9f2b77_0\n"
     ]
    },
    {
     "name": "stderr",
     "output_type": "stream",
     "text": [
      " 85%|████████▌ | 1503/1768 [13:27<02:11,  2.02it/s]"
     ]
    },
    {
     "name": "stdout",
     "output_type": "stream",
     "text": [
      "Image and info_dict saved for d83b16559c3ad828bd86db23e4f11243_0 in /Volumes/Newsmy/FM_dataset/VinDr-Mammo-finding/Test/d83b16559c3ad828bd86db23e4f11243_0\n",
      "Image and info_dict saved for d885665d2c6b2c927686019781c131ce_0 in /Volumes/Newsmy/FM_dataset/VinDr-Mammo-finding/Train/d885665d2c6b2c927686019781c131ce_0\n",
      "Image and info_dict saved for d885665d2c6b2c927686019781c131ce_1 in /Volumes/Newsmy/FM_dataset/VinDr-Mammo-finding/Train/d885665d2c6b2c927686019781c131ce_1\n"
     ]
    },
    {
     "name": "stderr",
     "output_type": "stream",
     "text": [
      " 85%|████████▌ | 1504/1768 [13:28<02:40,  1.65it/s]"
     ]
    },
    {
     "name": "stdout",
     "output_type": "stream",
     "text": [
      "Image and info_dict saved for d885665d2c6b2c927686019781c131ce_2 in /Volumes/Newsmy/FM_dataset/VinDr-Mammo-finding/Train/d885665d2c6b2c927686019781c131ce_2\n"
     ]
    },
    {
     "name": "stderr",
     "output_type": "stream",
     "text": [
      " 85%|████████▌ | 1505/1768 [13:28<02:36,  1.68it/s]"
     ]
    },
    {
     "name": "stdout",
     "output_type": "stream",
     "text": [
      "Image and info_dict saved for d88d4b9103281220b9ac1a122364973b_0 in /Volumes/Newsmy/FM_dataset/VinDr-Mammo-finding/Train/d88d4b9103281220b9ac1a122364973b_0\n",
      "Image and info_dict saved for d88d4b9103281220b9ac1a122364973b_1 in /Volumes/Newsmy/FM_dataset/VinDr-Mammo-finding/Train/d88d4b9103281220b9ac1a122364973b_1\n"
     ]
    },
    {
     "name": "stderr",
     "output_type": "stream",
     "text": [
      " 85%|████████▌ | 1506/1768 [13:29<02:27,  1.77it/s]"
     ]
    },
    {
     "name": "stdout",
     "output_type": "stream",
     "text": [
      "Image and info_dict saved for d8f539f27dcf544fc780f298e124e95b_0 in /Volumes/Newsmy/FM_dataset/VinDr-Mammo-finding/Train/d8f539f27dcf544fc780f298e124e95b_0\n"
     ]
    },
    {
     "name": "stderr",
     "output_type": "stream",
     "text": [
      " 85%|████████▌ | 1507/1768 [13:29<02:07,  2.04it/s]"
     ]
    },
    {
     "name": "stdout",
     "output_type": "stream",
     "text": [
      "Image and info_dict saved for d91825b15e444b4cab3a50b8927a7b6a_0 in /Volumes/Newsmy/FM_dataset/VinDr-Mammo-finding/Train/d91825b15e444b4cab3a50b8927a7b6a_0\n"
     ]
    },
    {
     "name": "stderr",
     "output_type": "stream",
     "text": [
      " 85%|████████▌ | 1508/1768 [13:29<02:09,  2.00it/s]"
     ]
    },
    {
     "name": "stdout",
     "output_type": "stream",
     "text": [
      "Image and info_dict saved for d924e9f6422c24d39309a3e46f379219_0 in /Volumes/Newsmy/FM_dataset/VinDr-Mammo-finding/Test/d924e9f6422c24d39309a3e46f379219_0\n"
     ]
    },
    {
     "name": "stderr",
     "output_type": "stream",
     "text": [
      " 85%|████████▌ | 1509/1768 [13:30<02:07,  2.03it/s]"
     ]
    },
    {
     "name": "stdout",
     "output_type": "stream",
     "text": [
      "Image and info_dict saved for d9424eabb9d03c65cb7075c9b49b19a6_0 in /Volumes/Newsmy/FM_dataset/VinDr-Mammo-finding/Train/d9424eabb9d03c65cb7075c9b49b19a6_0\n"
     ]
    },
    {
     "name": "stderr",
     "output_type": "stream",
     "text": [
      " 85%|████████▌ | 1510/1768 [13:31<02:11,  1.96it/s]"
     ]
    },
    {
     "name": "stdout",
     "output_type": "stream",
     "text": [
      "Image and info_dict saved for d9608f84e139686b90911402c509fc1e_0 in /Volumes/Newsmy/FM_dataset/VinDr-Mammo-finding/Train/d9608f84e139686b90911402c509fc1e_0\n"
     ]
    },
    {
     "name": "stderr",
     "output_type": "stream",
     "text": [
      " 85%|████████▌ | 1511/1768 [13:31<01:59,  2.15it/s]"
     ]
    },
    {
     "name": "stdout",
     "output_type": "stream",
     "text": [
      "Image and info_dict saved for d987933458341d14ae716476acb53bc1_0 in /Volumes/Newsmy/FM_dataset/VinDr-Mammo-finding/Train/d987933458341d14ae716476acb53bc1_0\n"
     ]
    },
    {
     "name": "stderr",
     "output_type": "stream",
     "text": [
      " 86%|████████▌ | 1512/1768 [13:31<01:52,  2.28it/s]"
     ]
    },
    {
     "name": "stdout",
     "output_type": "stream",
     "text": [
      "Image and info_dict saved for d991dd155ca4ff6e595ee50227a31233_0 in /Volumes/Newsmy/FM_dataset/VinDr-Mammo-finding/Train/d991dd155ca4ff6e595ee50227a31233_0\n"
     ]
    },
    {
     "name": "stderr",
     "output_type": "stream",
     "text": [
      " 86%|████████▌ | 1513/1768 [13:32<01:58,  2.15it/s]"
     ]
    },
    {
     "name": "stdout",
     "output_type": "stream",
     "text": [
      "Image and info_dict saved for d9cccca5e3fad376f72cd2abeda14b28_0 in /Volumes/Newsmy/FM_dataset/VinDr-Mammo-finding/Train/d9cccca5e3fad376f72cd2abeda14b28_0\n",
      "Image and info_dict saved for d9cccca5e3fad376f72cd2abeda14b28_1 in /Volumes/Newsmy/FM_dataset/VinDr-Mammo-finding/Train/d9cccca5e3fad376f72cd2abeda14b28_1\n"
     ]
    },
    {
     "name": "stderr",
     "output_type": "stream",
     "text": [
      " 86%|████████▌ | 1514/1768 [13:32<02:04,  2.03it/s]"
     ]
    },
    {
     "name": "stdout",
     "output_type": "stream",
     "text": [
      "Image and info_dict saved for d9e90ddbfbf7172461e93a0e4e97b880_0 in /Volumes/Newsmy/FM_dataset/VinDr-Mammo-finding/Train/d9e90ddbfbf7172461e93a0e4e97b880_0\n"
     ]
    },
    {
     "name": "stderr",
     "output_type": "stream",
     "text": [
      " 86%|████████▌ | 1515/1768 [13:33<02:11,  1.92it/s]"
     ]
    },
    {
     "name": "stdout",
     "output_type": "stream",
     "text": [
      "Image and info_dict saved for d9ec6dec926a686adc5928f770fc8b59_0 in /Volumes/Newsmy/FM_dataset/VinDr-Mammo-finding/Test/d9ec6dec926a686adc5928f770fc8b59_0\n"
     ]
    },
    {
     "name": "stderr",
     "output_type": "stream",
     "text": [
      " 86%|████████▌ | 1516/1768 [13:33<02:12,  1.91it/s]"
     ]
    },
    {
     "name": "stdout",
     "output_type": "stream",
     "text": [
      "Image and info_dict saved for da165bf60a8e8739a597d51b47eed60c_0 in /Volumes/Newsmy/FM_dataset/VinDr-Mammo-finding/Train/da165bf60a8e8739a597d51b47eed60c_0\n"
     ]
    },
    {
     "name": "stderr",
     "output_type": "stream",
     "text": [
      " 86%|████████▌ | 1517/1768 [13:34<01:59,  2.10it/s]"
     ]
    },
    {
     "name": "stdout",
     "output_type": "stream",
     "text": [
      "Image and info_dict saved for da174e3318b9d7d86c4e0ed3ab723b16_0 in /Volumes/Newsmy/FM_dataset/VinDr-Mammo-finding/Eval/da174e3318b9d7d86c4e0ed3ab723b16_0\n"
     ]
    },
    {
     "name": "stderr",
     "output_type": "stream",
     "text": [
      " 86%|████████▌ | 1518/1768 [13:34<02:15,  1.85it/s]"
     ]
    },
    {
     "name": "stdout",
     "output_type": "stream",
     "text": [
      "Image and info_dict saved for da1a36405c16227ef13b0dbfffd8a3fd_0 in /Volumes/Newsmy/FM_dataset/VinDr-Mammo-finding/Test/da1a36405c16227ef13b0dbfffd8a3fd_0\n",
      "Image and info_dict saved for da1a36405c16227ef13b0dbfffd8a3fd_1 in /Volumes/Newsmy/FM_dataset/VinDr-Mammo-finding/Test/da1a36405c16227ef13b0dbfffd8a3fd_1\n",
      "Image and info_dict saved for da1a36405c16227ef13b0dbfffd8a3fd_2 in /Volumes/Newsmy/FM_dataset/VinDr-Mammo-finding/Test/da1a36405c16227ef13b0dbfffd8a3fd_2\n"
     ]
    },
    {
     "name": "stderr",
     "output_type": "stream",
     "text": [
      " 86%|████████▌ | 1519/1768 [13:35<02:08,  1.94it/s]"
     ]
    },
    {
     "name": "stdout",
     "output_type": "stream",
     "text": [
      "Image and info_dict saved for da211004c86dc257a947ae9736639276_0 in /Volumes/Newsmy/FM_dataset/VinDr-Mammo-finding/Train/da211004c86dc257a947ae9736639276_0\n"
     ]
    },
    {
     "name": "stderr",
     "output_type": "stream",
     "text": [
      " 86%|████████▌ | 1520/1768 [13:36<02:15,  1.82it/s]"
     ]
    },
    {
     "name": "stdout",
     "output_type": "stream",
     "text": [
      "Image and info_dict saved for da30be3e50b5820186b55d2533ca46fb_0 in /Volumes/Newsmy/FM_dataset/VinDr-Mammo-finding/Train/da30be3e50b5820186b55d2533ca46fb_0\n",
      "Image and info_dict saved for da30be3e50b5820186b55d2533ca46fb_1 in /Volumes/Newsmy/FM_dataset/VinDr-Mammo-finding/Train/da30be3e50b5820186b55d2533ca46fb_1\n"
     ]
    },
    {
     "name": "stderr",
     "output_type": "stream",
     "text": [
      " 86%|████████▌ | 1521/1768 [13:36<01:56,  2.11it/s]"
     ]
    },
    {
     "name": "stdout",
     "output_type": "stream",
     "text": [
      "Image and info_dict saved for da685aaff3936690ba8b2a3ad1029616_0 in /Volumes/Newsmy/FM_dataset/VinDr-Mammo-finding/Train/da685aaff3936690ba8b2a3ad1029616_0\n"
     ]
    },
    {
     "name": "stderr",
     "output_type": "stream",
     "text": [
      " 86%|████████▌ | 1522/1768 [13:36<01:58,  2.08it/s]"
     ]
    },
    {
     "name": "stdout",
     "output_type": "stream",
     "text": [
      "Image and info_dict saved for da787fce3af2711490b869e49d5df3f8_0 in /Volumes/Newsmy/FM_dataset/VinDr-Mammo-finding/Train/da787fce3af2711490b869e49d5df3f8_0\n"
     ]
    },
    {
     "name": "stderr",
     "output_type": "stream",
     "text": [
      " 86%|████████▌ | 1523/1768 [13:37<02:03,  1.99it/s]"
     ]
    },
    {
     "name": "stdout",
     "output_type": "stream",
     "text": [
      "Image and info_dict saved for da860c7c1030662471437b1c9d32ed81_0 in /Volumes/Newsmy/FM_dataset/VinDr-Mammo-finding/Train/da860c7c1030662471437b1c9d32ed81_0\n",
      "Image and info_dict saved for da860c7c1030662471437b1c9d32ed81_1 in /Volumes/Newsmy/FM_dataset/VinDr-Mammo-finding/Train/da860c7c1030662471437b1c9d32ed81_1\n",
      "Image and info_dict saved for dab9cb0c72531563a2d5f819cd147717_0 in /Volumes/Newsmy/FM_dataset/VinDr-Mammo-finding/Train/dab9cb0c72531563a2d5f819cd147717_0\n",
      "Image and info_dict saved for dab9cb0c72531563a2d5f819cd147717_1 in /Volumes/Newsmy/FM_dataset/VinDr-Mammo-finding/Train/dab9cb0c72531563a2d5f819cd147717_1\n"
     ]
    },
    {
     "name": "stderr",
     "output_type": "stream",
     "text": [
      " 86%|████████▌ | 1524/1768 [13:38<02:32,  1.60it/s]"
     ]
    },
    {
     "name": "stdout",
     "output_type": "stream",
     "text": [
      "Image and info_dict saved for dab9cb0c72531563a2d5f819cd147717_2 in /Volumes/Newsmy/FM_dataset/VinDr-Mammo-finding/Train/dab9cb0c72531563a2d5f819cd147717_2\n"
     ]
    },
    {
     "name": "stderr",
     "output_type": "stream",
     "text": [
      " 86%|████████▋ | 1525/1768 [13:38<02:25,  1.67it/s]"
     ]
    },
    {
     "name": "stdout",
     "output_type": "stream",
     "text": [
      "Image and info_dict saved for dac39351b0f3a8c670b7f8dc88029364_0 in /Volumes/Newsmy/FM_dataset/VinDr-Mammo-finding/Train/dac39351b0f3a8c670b7f8dc88029364_0\n"
     ]
    },
    {
     "name": "stderr",
     "output_type": "stream",
     "text": [
      " 86%|████████▋ | 1526/1768 [13:39<02:11,  1.84it/s]"
     ]
    },
    {
     "name": "stdout",
     "output_type": "stream",
     "text": [
      "Image and info_dict saved for db027e3a4df4857b0e389aa3663c7bae_0 in /Volumes/Newsmy/FM_dataset/VinDr-Mammo-finding/Train/db027e3a4df4857b0e389aa3663c7bae_0\n",
      "Image and info_dict saved for db027e3a4df4857b0e389aa3663c7bae_1 in /Volumes/Newsmy/FM_dataset/VinDr-Mammo-finding/Train/db027e3a4df4857b0e389aa3663c7bae_1\n"
     ]
    },
    {
     "name": "stderr",
     "output_type": "stream",
     "text": [
      " 86%|████████▋ | 1527/1768 [13:39<02:06,  1.91it/s]"
     ]
    },
    {
     "name": "stdout",
     "output_type": "stream",
     "text": [
      "Image and info_dict saved for db4e5f686146de0ff76571ecdf65f2f3_0 in /Volumes/Newsmy/FM_dataset/VinDr-Mammo-finding/Train/db4e5f686146de0ff76571ecdf65f2f3_0\n"
     ]
    },
    {
     "name": "stderr",
     "output_type": "stream",
     "text": [
      " 86%|████████▋ | 1528/1768 [13:40<02:04,  1.92it/s]"
     ]
    },
    {
     "name": "stdout",
     "output_type": "stream",
     "text": [
      "Image and info_dict saved for db5555c72e3beee37ea81cf1a5324855_0 in /Volumes/Newsmy/FM_dataset/VinDr-Mammo-finding/Train/db5555c72e3beee37ea81cf1a5324855_0\n",
      "Image and info_dict saved for db70c6572ab2f8633feb484aa6d7d38d_0 in /Volumes/Newsmy/FM_dataset/VinDr-Mammo-finding/Train/db70c6572ab2f8633feb484aa6d7d38d_0\n",
      "Image and info_dict saved for db70c6572ab2f8633feb484aa6d7d38d_1 in /Volumes/Newsmy/FM_dataset/VinDr-Mammo-finding/Train/db70c6572ab2f8633feb484aa6d7d38d_1\n"
     ]
    },
    {
     "name": "stderr",
     "output_type": "stream",
     "text": [
      " 86%|████████▋ | 1529/1768 [13:40<02:08,  1.86it/s]"
     ]
    },
    {
     "name": "stdout",
     "output_type": "stream",
     "text": [
      "Image and info_dict saved for db70c6572ab2f8633feb484aa6d7d38d_2 in /Volumes/Newsmy/FM_dataset/VinDr-Mammo-finding/Train/db70c6572ab2f8633feb484aa6d7d38d_2\n",
      "Image and info_dict saved for db72a9a3c5827c1982b9b6d953c3dc04_0 in /Volumes/Newsmy/FM_dataset/VinDr-Mammo-finding/Train/db72a9a3c5827c1982b9b6d953c3dc04_0\n",
      "Image and info_dict saved for db72a9a3c5827c1982b9b6d953c3dc04_1 in /Volumes/Newsmy/FM_dataset/VinDr-Mammo-finding/Train/db72a9a3c5827c1982b9b6d953c3dc04_1\n"
     ]
    },
    {
     "name": "stderr",
     "output_type": "stream",
     "text": [
      " 87%|████████▋ | 1530/1768 [13:41<02:30,  1.58it/s]"
     ]
    },
    {
     "name": "stdout",
     "output_type": "stream",
     "text": [
      "Image and info_dict saved for db72a9a3c5827c1982b9b6d953c3dc04_2 in /Volumes/Newsmy/FM_dataset/VinDr-Mammo-finding/Train/db72a9a3c5827c1982b9b6d953c3dc04_2\n",
      "Image and info_dict saved for db72a9a3c5827c1982b9b6d953c3dc04_3 in /Volumes/Newsmy/FM_dataset/VinDr-Mammo-finding/Train/db72a9a3c5827c1982b9b6d953c3dc04_3\n",
      "Image and info_dict saved for dbe631b24f8759c7f7022513582c39ba_0 in /Volumes/Newsmy/FM_dataset/VinDr-Mammo-finding/Test/dbe631b24f8759c7f7022513582c39ba_0\n",
      "Image and info_dict saved for dbe631b24f8759c7f7022513582c39ba_1 in /Volumes/Newsmy/FM_dataset/VinDr-Mammo-finding/Test/dbe631b24f8759c7f7022513582c39ba_1\n"
     ]
    },
    {
     "name": "stderr",
     "output_type": "stream",
     "text": [
      " 87%|████████▋ | 1531/1768 [13:42<02:56,  1.34it/s]"
     ]
    },
    {
     "name": "stdout",
     "output_type": "stream",
     "text": [
      "Image and info_dict saved for dbe631b24f8759c7f7022513582c39ba_2 in /Volumes/Newsmy/FM_dataset/VinDr-Mammo-finding/Test/dbe631b24f8759c7f7022513582c39ba_2\n",
      "Image and info_dict saved for dbe631b24f8759c7f7022513582c39ba_3 in /Volumes/Newsmy/FM_dataset/VinDr-Mammo-finding/Test/dbe631b24f8759c7f7022513582c39ba_3\n"
     ]
    },
    {
     "name": "stderr",
     "output_type": "stream",
     "text": [
      " 87%|████████▋ | 1532/1768 [13:43<02:37,  1.50it/s]"
     ]
    },
    {
     "name": "stdout",
     "output_type": "stream",
     "text": [
      "Image and info_dict saved for dbf35565190e3a285651bdc1ee4be51b_0 in /Volumes/Newsmy/FM_dataset/VinDr-Mammo-finding/Test/dbf35565190e3a285651bdc1ee4be51b_0\n"
     ]
    },
    {
     "name": "stderr",
     "output_type": "stream",
     "text": [
      " 87%|████████▋ | 1533/1768 [13:43<02:26,  1.60it/s]"
     ]
    },
    {
     "name": "stdout",
     "output_type": "stream",
     "text": [
      "Image and info_dict saved for dbfffde4219dfb6aab1a5fe2d21a99d0_0 in /Volumes/Newsmy/FM_dataset/VinDr-Mammo-finding/Train/dbfffde4219dfb6aab1a5fe2d21a99d0_0\n"
     ]
    },
    {
     "name": "stderr",
     "output_type": "stream",
     "text": [
      " 87%|████████▋ | 1534/1768 [13:44<02:18,  1.70it/s]"
     ]
    },
    {
     "name": "stdout",
     "output_type": "stream",
     "text": [
      "Image and info_dict saved for dc261344202e04c3301f973af301706c_0 in /Volumes/Newsmy/FM_dataset/VinDr-Mammo-finding/Train/dc261344202e04c3301f973af301706c_0\n"
     ]
    },
    {
     "name": "stderr",
     "output_type": "stream",
     "text": [
      " 87%|████████▋ | 1535/1768 [13:44<02:20,  1.66it/s]"
     ]
    },
    {
     "name": "stdout",
     "output_type": "stream",
     "text": [
      "Image and info_dict saved for dc4694b543793f89c7003f4d52adbbcb_0 in /Volumes/Newsmy/FM_dataset/VinDr-Mammo-finding/Eval/dc4694b543793f89c7003f4d52adbbcb_0\n",
      "Image and info_dict saved for dc4694b543793f89c7003f4d52adbbcb_1 in /Volumes/Newsmy/FM_dataset/VinDr-Mammo-finding/Eval/dc4694b543793f89c7003f4d52adbbcb_1\n"
     ]
    },
    {
     "name": "stderr",
     "output_type": "stream",
     "text": [
      " 87%|████████▋ | 1536/1768 [13:45<02:15,  1.71it/s]"
     ]
    },
    {
     "name": "stdout",
     "output_type": "stream",
     "text": [
      "Image and info_dict saved for dc60a7e10efddef70dd265cb3b82c74b_0 in /Volumes/Newsmy/FM_dataset/VinDr-Mammo-finding/Train/dc60a7e10efddef70dd265cb3b82c74b_0\n"
     ]
    },
    {
     "name": "stderr",
     "output_type": "stream",
     "text": [
      " 87%|████████▋ | 1537/1768 [13:45<02:10,  1.76it/s]"
     ]
    },
    {
     "name": "stdout",
     "output_type": "stream",
     "text": [
      "Image and info_dict saved for dc934bafd05c7487d5908800f75a6149_0 in /Volumes/Newsmy/FM_dataset/VinDr-Mammo-finding/Test/dc934bafd05c7487d5908800f75a6149_0\n"
     ]
    },
    {
     "name": "stderr",
     "output_type": "stream",
     "text": [
      " 87%|████████▋ | 1538/1768 [13:46<02:22,  1.62it/s]"
     ]
    },
    {
     "name": "stdout",
     "output_type": "stream",
     "text": [
      "Image and info_dict saved for dc9441e0647134c8e48c7e0d0b20085f_0 in /Volumes/Newsmy/FM_dataset/VinDr-Mammo-finding/Test/dc9441e0647134c8e48c7e0d0b20085f_0\n"
     ]
    },
    {
     "name": "stderr",
     "output_type": "stream",
     "text": [
      " 87%|████████▋ | 1539/1768 [13:47<02:09,  1.76it/s]"
     ]
    },
    {
     "name": "stdout",
     "output_type": "stream",
     "text": [
      "Image and info_dict saved for dcace605b9887715f335cc0bb41a2841_0 in /Volumes/Newsmy/FM_dataset/VinDr-Mammo-finding/Train/dcace605b9887715f335cc0bb41a2841_0\n"
     ]
    },
    {
     "name": "stderr",
     "output_type": "stream",
     "text": [
      " 87%|████████▋ | 1540/1768 [13:47<01:58,  1.93it/s]"
     ]
    },
    {
     "name": "stdout",
     "output_type": "stream",
     "text": [
      "Image and info_dict saved for dce7898554efd8b922dd5425d828db8d_0 in /Volumes/Newsmy/FM_dataset/VinDr-Mammo-finding/Train/dce7898554efd8b922dd5425d828db8d_0\n"
     ]
    },
    {
     "name": "stderr",
     "output_type": "stream",
     "text": [
      " 87%|████████▋ | 1541/1768 [13:47<01:50,  2.06it/s]"
     ]
    },
    {
     "name": "stdout",
     "output_type": "stream",
     "text": [
      "Image and info_dict saved for dcedab9fff926c42215b3da835e9c9f8_0 in /Volumes/Newsmy/FM_dataset/VinDr-Mammo-finding/Test/dcedab9fff926c42215b3da835e9c9f8_0\n"
     ]
    },
    {
     "name": "stderr",
     "output_type": "stream",
     "text": [
      " 87%|████████▋ | 1542/1768 [13:48<01:47,  2.09it/s]"
     ]
    },
    {
     "name": "stdout",
     "output_type": "stream",
     "text": [
      "Image and info_dict saved for dd0b143a10f7dd0cedb9de5f146005aa_0 in /Volumes/Newsmy/FM_dataset/VinDr-Mammo-finding/Train/dd0b143a10f7dd0cedb9de5f146005aa_0\n"
     ]
    },
    {
     "name": "stderr",
     "output_type": "stream",
     "text": [
      " 87%|████████▋ | 1543/1768 [13:49<02:27,  1.52it/s]"
     ]
    },
    {
     "name": "stdout",
     "output_type": "stream",
     "text": [
      "Image and info_dict saved for dd64701a05729fd607264eb3a6872111_0 in /Volumes/Newsmy/FM_dataset/VinDr-Mammo-finding/Train/dd64701a05729fd607264eb3a6872111_0\n"
     ]
    },
    {
     "name": "stderr",
     "output_type": "stream",
     "text": [
      " 87%|████████▋ | 1544/1768 [13:50<02:31,  1.48it/s]"
     ]
    },
    {
     "name": "stdout",
     "output_type": "stream",
     "text": [
      "Image and info_dict saved for ddf0592485d93d7084c29f1fa5e5c443_0 in /Volumes/Newsmy/FM_dataset/VinDr-Mammo-finding/Test/ddf0592485d93d7084c29f1fa5e5c443_0\n",
      "Image and info_dict saved for ddf0592485d93d7084c29f1fa5e5c443_1 in /Volumes/Newsmy/FM_dataset/VinDr-Mammo-finding/Test/ddf0592485d93d7084c29f1fa5e5c443_1\n"
     ]
    },
    {
     "name": "stderr",
     "output_type": "stream",
     "text": [
      " 87%|████████▋ | 1545/1768 [13:50<02:17,  1.63it/s]"
     ]
    },
    {
     "name": "stdout",
     "output_type": "stream",
     "text": [
      "Image and info_dict saved for de0938995163311b26eaee4155b8d111_0 in /Volumes/Newsmy/FM_dataset/VinDr-Mammo-finding/Train/de0938995163311b26eaee4155b8d111_0\n",
      "Image and info_dict saved for de0938995163311b26eaee4155b8d111_1 in /Volumes/Newsmy/FM_dataset/VinDr-Mammo-finding/Train/de0938995163311b26eaee4155b8d111_1\n"
     ]
    },
    {
     "name": "stderr",
     "output_type": "stream",
     "text": [
      " 87%|████████▋ | 1546/1768 [13:51<02:09,  1.71it/s]"
     ]
    },
    {
     "name": "stdout",
     "output_type": "stream",
     "text": [
      "Image and info_dict saved for de1fa3a78d7ff2d5e52dac51162af5ed_0 in /Volumes/Newsmy/FM_dataset/VinDr-Mammo-finding/Test/de1fa3a78d7ff2d5e52dac51162af5ed_0\n"
     ]
    },
    {
     "name": "stderr",
     "output_type": "stream",
     "text": [
      " 88%|████████▊ | 1547/1768 [13:51<02:24,  1.53it/s]"
     ]
    },
    {
     "name": "stdout",
     "output_type": "stream",
     "text": [
      "Image and info_dict saved for de271f535b0d9c01a793d9ed2db5708d_0 in /Volumes/Newsmy/FM_dataset/VinDr-Mammo-finding/Train/de271f535b0d9c01a793d9ed2db5708d_0\n",
      "Image and info_dict saved for de271f535b0d9c01a793d9ed2db5708d_1 in /Volumes/Newsmy/FM_dataset/VinDr-Mammo-finding/Train/de271f535b0d9c01a793d9ed2db5708d_1\n"
     ]
    },
    {
     "name": "stderr",
     "output_type": "stream",
     "text": [
      " 88%|████████▊ | 1548/1768 [13:52<02:09,  1.70it/s]"
     ]
    },
    {
     "name": "stdout",
     "output_type": "stream",
     "text": [
      "Image and info_dict saved for de3db479c679661e4e3c686ec1e0ced4_0 in /Volumes/Newsmy/FM_dataset/VinDr-Mammo-finding/Train/de3db479c679661e4e3c686ec1e0ced4_0\n",
      "Image and info_dict saved for de3db479c679661e4e3c686ec1e0ced4_1 in /Volumes/Newsmy/FM_dataset/VinDr-Mammo-finding/Train/de3db479c679661e4e3c686ec1e0ced4_1\n"
     ]
    },
    {
     "name": "stderr",
     "output_type": "stream",
     "text": [
      " 88%|████████▊ | 1549/1768 [13:52<02:02,  1.78it/s]"
     ]
    },
    {
     "name": "stdout",
     "output_type": "stream",
     "text": [
      "Image and info_dict saved for de5c2051b0c82f026f30b7556d0eb37b_0 in /Volumes/Newsmy/FM_dataset/VinDr-Mammo-finding/Train/de5c2051b0c82f026f30b7556d0eb37b_0\n"
     ]
    },
    {
     "name": "stderr",
     "output_type": "stream",
     "text": [
      " 88%|████████▊ | 1550/1768 [13:53<02:11,  1.65it/s]"
     ]
    },
    {
     "name": "stdout",
     "output_type": "stream",
     "text": [
      "Image and info_dict saved for de6622b3d5c5d01f65e594607562a975_0 in /Volumes/Newsmy/FM_dataset/VinDr-Mammo-finding/Train/de6622b3d5c5d01f65e594607562a975_0\n"
     ]
    },
    {
     "name": "stderr",
     "output_type": "stream",
     "text": [
      " 88%|████████▊ | 1551/1768 [13:54<02:09,  1.67it/s]"
     ]
    },
    {
     "name": "stdout",
     "output_type": "stream",
     "text": [
      "Image and info_dict saved for de8b49dee1cd6c3a7dfd404a1de4d266_0 in /Volumes/Newsmy/FM_dataset/VinDr-Mammo-finding/Train/de8b49dee1cd6c3a7dfd404a1de4d266_0\n"
     ]
    },
    {
     "name": "stderr",
     "output_type": "stream",
     "text": [
      " 88%|████████▊ | 1552/1768 [13:54<02:00,  1.79it/s]"
     ]
    },
    {
     "name": "stdout",
     "output_type": "stream",
     "text": [
      "Image and info_dict saved for deaa6aeba35fe47e656fabf4ef4190ca_0 in /Volumes/Newsmy/FM_dataset/VinDr-Mammo-finding/Train/deaa6aeba35fe47e656fabf4ef4190ca_0\n"
     ]
    },
    {
     "name": "stderr",
     "output_type": "stream",
     "text": [
      " 88%|████████▊ | 1553/1768 [13:55<01:48,  1.98it/s]"
     ]
    },
    {
     "name": "stdout",
     "output_type": "stream",
     "text": [
      "Image and info_dict saved for deacf62d7ad07e061d0ab1d87f7d4be0_0 in /Volumes/Newsmy/FM_dataset/VinDr-Mammo-finding/Train/deacf62d7ad07e061d0ab1d87f7d4be0_0\n"
     ]
    },
    {
     "name": "stderr",
     "output_type": "stream",
     "text": [
      " 88%|████████▊ | 1554/1768 [13:55<01:55,  1.86it/s]"
     ]
    },
    {
     "name": "stdout",
     "output_type": "stream",
     "text": [
      "Image and info_dict saved for dec4540f406b4e556983b4f76504ee30_0 in /Volumes/Newsmy/FM_dataset/VinDr-Mammo-finding/Eval/dec4540f406b4e556983b4f76504ee30_0\n",
      "Image and info_dict saved for ded6d333fe65171adf1e6047dd29a7b8_0 in /Volumes/Newsmy/FM_dataset/VinDr-Mammo-finding/Train/ded6d333fe65171adf1e6047dd29a7b8_0\n",
      "Image and info_dict saved for ded6d333fe65171adf1e6047dd29a7b8_1 in /Volumes/Newsmy/FM_dataset/VinDr-Mammo-finding/Train/ded6d333fe65171adf1e6047dd29a7b8_1\n"
     ]
    },
    {
     "name": "stderr",
     "output_type": "stream",
     "text": [
      " 88%|████████▊ | 1555/1768 [13:56<02:26,  1.46it/s]"
     ]
    },
    {
     "name": "stdout",
     "output_type": "stream",
     "text": [
      "Image and info_dict saved for ded6d333fe65171adf1e6047dd29a7b8_2 in /Volumes/Newsmy/FM_dataset/VinDr-Mammo-finding/Train/ded6d333fe65171adf1e6047dd29a7b8_2\n"
     ]
    },
    {
     "name": "stderr",
     "output_type": "stream",
     "text": [
      " 88%|████████▊ | 1556/1768 [13:57<02:16,  1.55it/s]"
     ]
    },
    {
     "name": "stdout",
     "output_type": "stream",
     "text": [
      "Image and info_dict saved for dedfb81e153d26380398a5fae3e9faad_0 in /Volumes/Newsmy/FM_dataset/VinDr-Mammo-finding/Train/dedfb81e153d26380398a5fae3e9faad_0\n"
     ]
    },
    {
     "name": "stderr",
     "output_type": "stream",
     "text": [
      " 88%|████████▊ | 1557/1768 [13:57<02:04,  1.69it/s]"
     ]
    },
    {
     "name": "stdout",
     "output_type": "stream",
     "text": [
      "Image and info_dict saved for dee30355cc67413cbe4c12770a0d088f_0 in /Volumes/Newsmy/FM_dataset/VinDr-Mammo-finding/Train/dee30355cc67413cbe4c12770a0d088f_0\n"
     ]
    },
    {
     "name": "stderr",
     "output_type": "stream",
     "text": [
      " 88%|████████▊ | 1558/1768 [13:58<02:14,  1.56it/s]"
     ]
    },
    {
     "name": "stdout",
     "output_type": "stream",
     "text": [
      "Image and info_dict saved for deed2f0fda8f17fde773fe8087f5c5ae_0 in /Volumes/Newsmy/FM_dataset/VinDr-Mammo-finding/Train/deed2f0fda8f17fde773fe8087f5c5ae_0\n",
      "Image and info_dict saved for deed2f0fda8f17fde773fe8087f5c5ae_1 in /Volumes/Newsmy/FM_dataset/VinDr-Mammo-finding/Train/deed2f0fda8f17fde773fe8087f5c5ae_1\n"
     ]
    },
    {
     "name": "stderr",
     "output_type": "stream",
     "text": [
      " 88%|████████▊ | 1559/1768 [13:58<02:05,  1.67it/s]"
     ]
    },
    {
     "name": "stdout",
     "output_type": "stream",
     "text": [
      "Image and info_dict saved for df07d6393573cbd0969186a76343702e_0 in /Volumes/Newsmy/FM_dataset/VinDr-Mammo-finding/Train/df07d6393573cbd0969186a76343702e_0\n"
     ]
    },
    {
     "name": "stderr",
     "output_type": "stream",
     "text": [
      " 88%|████████▊ | 1560/1768 [13:59<02:01,  1.71it/s]"
     ]
    },
    {
     "name": "stdout",
     "output_type": "stream",
     "text": [
      "Image and info_dict saved for df17a9f399b214cb863d754e376f8673_0 in /Volumes/Newsmy/FM_dataset/VinDr-Mammo-finding/Eval/df17a9f399b214cb863d754e376f8673_0\n"
     ]
    },
    {
     "name": "stderr",
     "output_type": "stream",
     "text": [
      " 88%|████████▊ | 1561/1768 [14:00<02:06,  1.64it/s]"
     ]
    },
    {
     "name": "stdout",
     "output_type": "stream",
     "text": [
      "Image and info_dict saved for df1a94aad76bd2e7beadcf00dfc715bb_0 in /Volumes/Newsmy/FM_dataset/VinDr-Mammo-finding/Test/df1a94aad76bd2e7beadcf00dfc715bb_0\n"
     ]
    },
    {
     "name": "stderr",
     "output_type": "stream",
     "text": [
      " 88%|████████▊ | 1562/1768 [14:00<02:04,  1.65it/s]"
     ]
    },
    {
     "name": "stdout",
     "output_type": "stream",
     "text": [
      "Image and info_dict saved for df23dd36fa532db5c49f27bbac7e6eaa_0 in /Volumes/Newsmy/FM_dataset/VinDr-Mammo-finding/Train/df23dd36fa532db5c49f27bbac7e6eaa_0\n"
     ]
    },
    {
     "name": "stderr",
     "output_type": "stream",
     "text": [
      " 88%|████████▊ | 1563/1768 [14:01<01:54,  1.78it/s]"
     ]
    },
    {
     "name": "stdout",
     "output_type": "stream",
     "text": [
      "Image and info_dict saved for df4b1cfb384dab76abc34cc4db0f5b30_0 in /Volumes/Newsmy/FM_dataset/VinDr-Mammo-finding/Train/df4b1cfb384dab76abc34cc4db0f5b30_0\n"
     ]
    },
    {
     "name": "stderr",
     "output_type": "stream",
     "text": [
      " 88%|████████▊ | 1564/1768 [14:01<01:50,  1.84it/s]"
     ]
    },
    {
     "name": "stdout",
     "output_type": "stream",
     "text": [
      "Image and info_dict saved for df5ffc387843a45e3c29f51f6d663317_0 in /Volumes/Newsmy/FM_dataset/VinDr-Mammo-finding/Test/df5ffc387843a45e3c29f51f6d663317_0\n"
     ]
    },
    {
     "name": "stderr",
     "output_type": "stream",
     "text": [
      " 89%|████████▊ | 1565/1768 [14:02<01:54,  1.78it/s]"
     ]
    },
    {
     "name": "stdout",
     "output_type": "stream",
     "text": [
      "Image and info_dict saved for df8b9763dad465e61b23875932af4f7d_0 in /Volumes/Newsmy/FM_dataset/VinDr-Mammo-finding/Train/df8b9763dad465e61b23875932af4f7d_0\n",
      "Image and info_dict saved for df8b9763dad465e61b23875932af4f7d_1 in /Volumes/Newsmy/FM_dataset/VinDr-Mammo-finding/Train/df8b9763dad465e61b23875932af4f7d_1\n",
      "Image and info_dict saved for df8b9763dad465e61b23875932af4f7d_2 in /Volumes/Newsmy/FM_dataset/VinDr-Mammo-finding/Train/df8b9763dad465e61b23875932af4f7d_2\n"
     ]
    },
    {
     "name": "stderr",
     "output_type": "stream",
     "text": [
      " 89%|████████▊ | 1566/1768 [14:02<01:50,  1.82it/s]"
     ]
    },
    {
     "name": "stdout",
     "output_type": "stream",
     "text": [
      "Image and info_dict saved for dff3ff1be2ea5f9c47dadf8de0c8a189_0 in /Volumes/Newsmy/FM_dataset/VinDr-Mammo-finding/Train/dff3ff1be2ea5f9c47dadf8de0c8a189_0\n"
     ]
    },
    {
     "name": "stderr",
     "output_type": "stream",
     "text": [
      " 89%|████████▊ | 1567/1768 [14:03<01:37,  2.06it/s]"
     ]
    },
    {
     "name": "stdout",
     "output_type": "stream",
     "text": [
      "Image and info_dict saved for e07cf8ec5f1048ca51adfedb641aae47_0 in /Volumes/Newsmy/FM_dataset/VinDr-Mammo-finding/Train/e07cf8ec5f1048ca51adfedb641aae47_0\n"
     ]
    },
    {
     "name": "stderr",
     "output_type": "stream",
     "text": [
      " 89%|████████▊ | 1568/1768 [14:03<01:37,  2.05it/s]"
     ]
    },
    {
     "name": "stdout",
     "output_type": "stream",
     "text": [
      "Image and info_dict saved for e0f23bcf8a746448d3357d77218431e9_0 in /Volumes/Newsmy/FM_dataset/VinDr-Mammo-finding/Train/e0f23bcf8a746448d3357d77218431e9_0\n"
     ]
    },
    {
     "name": "stderr",
     "output_type": "stream",
     "text": [
      " 89%|████████▊ | 1569/1768 [14:04<02:17,  1.44it/s]"
     ]
    },
    {
     "name": "stdout",
     "output_type": "stream",
     "text": [
      "Image and info_dict saved for e13c80239d7714e3d964b5f3e37bcff6_0 in /Volumes/Newsmy/FM_dataset/VinDr-Mammo-finding/Train/e13c80239d7714e3d964b5f3e37bcff6_0\n"
     ]
    },
    {
     "name": "stderr",
     "output_type": "stream",
     "text": [
      " 89%|████████▉ | 1570/1768 [14:05<02:05,  1.57it/s]"
     ]
    },
    {
     "name": "stdout",
     "output_type": "stream",
     "text": [
      "Image and info_dict saved for e14aa863caca3f418a89edbc4d2cec42_0 in /Volumes/Newsmy/FM_dataset/VinDr-Mammo-finding/Train/e14aa863caca3f418a89edbc4d2cec42_0\n"
     ]
    },
    {
     "name": "stderr",
     "output_type": "stream",
     "text": [
      " 89%|████████▉ | 1571/1768 [14:05<01:55,  1.70it/s]"
     ]
    },
    {
     "name": "stdout",
     "output_type": "stream",
     "text": [
      "Image and info_dict saved for e153f0c95056a74dfe8bc5c5260ee939_0 in /Volumes/Newsmy/FM_dataset/VinDr-Mammo-finding/Train/e153f0c95056a74dfe8bc5c5260ee939_0\n"
     ]
    },
    {
     "name": "stderr",
     "output_type": "stream",
     "text": [
      " 89%|████████▉ | 1572/1768 [14:06<02:19,  1.41it/s]"
     ]
    },
    {
     "name": "stdout",
     "output_type": "stream",
     "text": [
      "Image and info_dict saved for e160aa97a7ea45e3ac38ecc0585baea6_0 in /Volumes/Newsmy/FM_dataset/VinDr-Mammo-finding/Train/e160aa97a7ea45e3ac38ecc0585baea6_0\n"
     ]
    },
    {
     "name": "stderr",
     "output_type": "stream",
     "text": [
      " 89%|████████▉ | 1573/1768 [14:07<02:03,  1.58it/s]"
     ]
    },
    {
     "name": "stdout",
     "output_type": "stream",
     "text": [
      "Image and info_dict saved for e1903db5e457961ff8bd95e77faa92c7_0 in /Volumes/Newsmy/FM_dataset/VinDr-Mammo-finding/Train/e1903db5e457961ff8bd95e77faa92c7_0\n"
     ]
    },
    {
     "name": "stderr",
     "output_type": "stream",
     "text": [
      " 89%|████████▉ | 1574/1768 [14:07<01:55,  1.69it/s]"
     ]
    },
    {
     "name": "stdout",
     "output_type": "stream",
     "text": [
      "Image and info_dict saved for e193c56a12780c7b1096b3c65aea01a2_0 in /Volumes/Newsmy/FM_dataset/VinDr-Mammo-finding/Test/e193c56a12780c7b1096b3c65aea01a2_0\n"
     ]
    },
    {
     "name": "stderr",
     "output_type": "stream",
     "text": [
      " 89%|████████▉ | 1575/1768 [14:08<01:49,  1.76it/s]"
     ]
    },
    {
     "name": "stdout",
     "output_type": "stream",
     "text": [
      "Image and info_dict saved for e1ad3882c48c3e953b037813ff8fbe3a_0 in /Volumes/Newsmy/FM_dataset/VinDr-Mammo-finding/Train/e1ad3882c48c3e953b037813ff8fbe3a_0\n"
     ]
    },
    {
     "name": "stderr",
     "output_type": "stream",
     "text": [
      " 89%|████████▉ | 1576/1768 [14:08<01:33,  2.06it/s]"
     ]
    },
    {
     "name": "stdout",
     "output_type": "stream",
     "text": [
      "Image and info_dict saved for e1f7f81388214e360ac989ff48e340d3_0 in /Volumes/Newsmy/FM_dataset/VinDr-Mammo-finding/Train/e1f7f81388214e360ac989ff48e340d3_0\n"
     ]
    },
    {
     "name": "stderr",
     "output_type": "stream",
     "text": [
      " 89%|████████▉ | 1577/1768 [14:09<01:30,  2.12it/s]"
     ]
    },
    {
     "name": "stdout",
     "output_type": "stream",
     "text": [
      "Image and info_dict saved for e21672283ffef748a7ac7bf68ba9250e_0 in /Volumes/Newsmy/FM_dataset/VinDr-Mammo-finding/Train/e21672283ffef748a7ac7bf68ba9250e_0\n"
     ]
    },
    {
     "name": "stderr",
     "output_type": "stream",
     "text": [
      " 89%|████████▉ | 1578/1768 [14:09<01:26,  2.19it/s]"
     ]
    },
    {
     "name": "stdout",
     "output_type": "stream",
     "text": [
      "Image and info_dict saved for e22e24c243bde531bd5ed18e90702768_0 in /Volumes/Newsmy/FM_dataset/VinDr-Mammo-finding/Train/e22e24c243bde531bd5ed18e90702768_0\n"
     ]
    },
    {
     "name": "stderr",
     "output_type": "stream",
     "text": [
      " 89%|████████▉ | 1579/1768 [14:09<01:26,  2.19it/s]"
     ]
    },
    {
     "name": "stdout",
     "output_type": "stream",
     "text": [
      "Image and info_dict saved for e272af368c6b1e46a93a8f9e99ac7143_0 in /Volumes/Newsmy/FM_dataset/VinDr-Mammo-finding/Train/e272af368c6b1e46a93a8f9e99ac7143_0\n"
     ]
    },
    {
     "name": "stderr",
     "output_type": "stream",
     "text": [
      " 89%|████████▉ | 1580/1768 [14:10<01:28,  2.12it/s]"
     ]
    },
    {
     "name": "stdout",
     "output_type": "stream",
     "text": [
      "Image and info_dict saved for e27ed8c89c7da67e40a76b91c6eee419_0 in /Volumes/Newsmy/FM_dataset/VinDr-Mammo-finding/Train/e27ed8c89c7da67e40a76b91c6eee419_0\n"
     ]
    },
    {
     "name": "stderr",
     "output_type": "stream",
     "text": [
      " 89%|████████▉ | 1581/1768 [14:11<01:34,  1.98it/s]"
     ]
    },
    {
     "name": "stdout",
     "output_type": "stream",
     "text": [
      "Image and info_dict saved for e2914e693746bea51abebd1ebcb66195_0 in /Volumes/Newsmy/FM_dataset/VinDr-Mammo-finding/Eval/e2914e693746bea51abebd1ebcb66195_0\n"
     ]
    },
    {
     "name": "stderr",
     "output_type": "stream",
     "text": [
      " 89%|████████▉ | 1582/1768 [14:11<01:47,  1.72it/s]"
     ]
    },
    {
     "name": "stdout",
     "output_type": "stream",
     "text": [
      "Image and info_dict saved for e2aac118bc937b21a9be2c705b6cbab9_0 in /Volumes/Newsmy/FM_dataset/VinDr-Mammo-finding/Train/e2aac118bc937b21a9be2c705b6cbab9_0\n"
     ]
    },
    {
     "name": "stderr",
     "output_type": "stream",
     "text": [
      " 90%|████████▉ | 1583/1768 [14:12<01:38,  1.87it/s]"
     ]
    },
    {
     "name": "stdout",
     "output_type": "stream",
     "text": [
      "Image and info_dict saved for e2dfa8e5c2b50091ffbdb20dff13cd01_0 in /Volumes/Newsmy/FM_dataset/VinDr-Mammo-finding/Train/e2dfa8e5c2b50091ffbdb20dff13cd01_0\n",
      "Image and info_dict saved for e2dfa8e5c2b50091ffbdb20dff13cd01_1 in /Volumes/Newsmy/FM_dataset/VinDr-Mammo-finding/Train/e2dfa8e5c2b50091ffbdb20dff13cd01_1\n"
     ]
    },
    {
     "name": "stderr",
     "output_type": "stream",
     "text": [
      " 90%|████████▉ | 1584/1768 [14:12<01:32,  1.99it/s]"
     ]
    },
    {
     "name": "stdout",
     "output_type": "stream",
     "text": [
      "Image and info_dict saved for e2e3e576991129315bfe76683798a270_0 in /Volumes/Newsmy/FM_dataset/VinDr-Mammo-finding/Train/e2e3e576991129315bfe76683798a270_0\n"
     ]
    },
    {
     "name": "stderr",
     "output_type": "stream",
     "text": [
      " 90%|████████▉ | 1585/1768 [14:13<01:33,  1.97it/s]"
     ]
    },
    {
     "name": "stdout",
     "output_type": "stream",
     "text": [
      "Image and info_dict saved for e37792d195d7dc26d0163ee9a8295b1a_0 in /Volumes/Newsmy/FM_dataset/VinDr-Mammo-finding/Train/e37792d195d7dc26d0163ee9a8295b1a_0\n"
     ]
    },
    {
     "name": "stderr",
     "output_type": "stream",
     "text": [
      " 90%|████████▉ | 1586/1768 [14:13<01:26,  2.11it/s]"
     ]
    },
    {
     "name": "stdout",
     "output_type": "stream",
     "text": [
      "Image and info_dict saved for e38002fcb59bdbe4d065eb2659026d35_0 in /Volumes/Newsmy/FM_dataset/VinDr-Mammo-finding/Train/e38002fcb59bdbe4d065eb2659026d35_0\n"
     ]
    },
    {
     "name": "stderr",
     "output_type": "stream",
     "text": [
      " 90%|████████▉ | 1587/1768 [14:14<01:24,  2.13it/s]"
     ]
    },
    {
     "name": "stdout",
     "output_type": "stream",
     "text": [
      "Image and info_dict saved for e394f33dc6ce5be8f6b28f9d256889a9_0 in /Volumes/Newsmy/FM_dataset/VinDr-Mammo-finding/Train/e394f33dc6ce5be8f6b28f9d256889a9_0\n"
     ]
    },
    {
     "name": "stderr",
     "output_type": "stream",
     "text": [
      " 90%|████████▉ | 1588/1768 [14:14<01:29,  2.00it/s]"
     ]
    },
    {
     "name": "stdout",
     "output_type": "stream",
     "text": [
      "Image and info_dict saved for e3b7ab3f7b67be5266477cdd919dc807_0 in /Volumes/Newsmy/FM_dataset/VinDr-Mammo-finding/Test/e3b7ab3f7b67be5266477cdd919dc807_0\n"
     ]
    },
    {
     "name": "stderr",
     "output_type": "stream",
     "text": [
      " 90%|████████▉ | 1589/1768 [14:15<01:27,  2.03it/s]"
     ]
    },
    {
     "name": "stdout",
     "output_type": "stream",
     "text": [
      "Image and info_dict saved for e49e6e054d2e93ed4de4b356626bc45f_0 in /Volumes/Newsmy/FM_dataset/VinDr-Mammo-finding/Test/e49e6e054d2e93ed4de4b356626bc45f_0\n"
     ]
    },
    {
     "name": "stderr",
     "output_type": "stream",
     "text": [
      " 90%|████████▉ | 1590/1768 [14:15<01:25,  2.07it/s]"
     ]
    },
    {
     "name": "stdout",
     "output_type": "stream",
     "text": [
      "Image and info_dict saved for e507bee7c9fba777c89f4f1a96887f78_0 in /Volumes/Newsmy/FM_dataset/VinDr-Mammo-finding/Test/e507bee7c9fba777c89f4f1a96887f78_0\n"
     ]
    },
    {
     "name": "stderr",
     "output_type": "stream",
     "text": [
      " 90%|████████▉ | 1591/1768 [14:16<01:41,  1.74it/s]"
     ]
    },
    {
     "name": "stdout",
     "output_type": "stream",
     "text": [
      "Image and info_dict saved for e53529554e91d180a18f3d76d9f7dc9e_0 in /Volumes/Newsmy/FM_dataset/VinDr-Mammo-finding/Train/e53529554e91d180a18f3d76d9f7dc9e_0\n"
     ]
    },
    {
     "name": "stderr",
     "output_type": "stream",
     "text": [
      " 90%|█████████ | 1592/1768 [14:16<01:46,  1.65it/s]"
     ]
    },
    {
     "name": "stdout",
     "output_type": "stream",
     "text": [
      "Image and info_dict saved for e542f9387674418e51d71d44dd35a496_0 in /Volumes/Newsmy/FM_dataset/VinDr-Mammo-finding/Train/e542f9387674418e51d71d44dd35a496_0\n",
      "Image and info_dict saved for e542f9387674418e51d71d44dd35a496_1 in /Volumes/Newsmy/FM_dataset/VinDr-Mammo-finding/Train/e542f9387674418e51d71d44dd35a496_1\n",
      "Image and info_dict saved for e542f9387674418e51d71d44dd35a496_2 in /Volumes/Newsmy/FM_dataset/VinDr-Mammo-finding/Train/e542f9387674418e51d71d44dd35a496_2\n"
     ]
    },
    {
     "name": "stderr",
     "output_type": "stream",
     "text": [
      " 90%|█████████ | 1593/1768 [14:17<01:41,  1.73it/s]"
     ]
    },
    {
     "name": "stdout",
     "output_type": "stream",
     "text": [
      "Image and info_dict saved for e579d7a7361e460066d86a92b169606d_0 in /Volumes/Newsmy/FM_dataset/VinDr-Mammo-finding/Train/e579d7a7361e460066d86a92b169606d_0\n"
     ]
    },
    {
     "name": "stderr",
     "output_type": "stream",
     "text": [
      " 90%|█████████ | 1594/1768 [14:17<01:35,  1.83it/s]"
     ]
    },
    {
     "name": "stdout",
     "output_type": "stream",
     "text": [
      "Image and info_dict saved for e584baaff798425b74b2f255c6eaf02e_0 in /Volumes/Newsmy/FM_dataset/VinDr-Mammo-finding/Eval/e584baaff798425b74b2f255c6eaf02e_0\n"
     ]
    },
    {
     "name": "stderr",
     "output_type": "stream",
     "text": [
      " 90%|█████████ | 1595/1768 [14:18<01:26,  2.01it/s]"
     ]
    },
    {
     "name": "stdout",
     "output_type": "stream",
     "text": [
      "Image and info_dict saved for e5a40edb09c0e49526fbd86f05910e61_0 in /Volumes/Newsmy/FM_dataset/VinDr-Mammo-finding/Train/e5a40edb09c0e49526fbd86f05910e61_0\n"
     ]
    },
    {
     "name": "stderr",
     "output_type": "stream",
     "text": [
      " 90%|█████████ | 1596/1768 [14:18<01:17,  2.21it/s]"
     ]
    },
    {
     "name": "stdout",
     "output_type": "stream",
     "text": [
      "Image and info_dict saved for e5a6d0b284154d01a6adc7830d584445_0 in /Volumes/Newsmy/FM_dataset/VinDr-Mammo-finding/Train/e5a6d0b284154d01a6adc7830d584445_0\n"
     ]
    },
    {
     "name": "stderr",
     "output_type": "stream",
     "text": [
      " 90%|█████████ | 1597/1768 [14:19<01:19,  2.16it/s]"
     ]
    },
    {
     "name": "stdout",
     "output_type": "stream",
     "text": [
      "Image and info_dict saved for e5bc3f728fad5d69a6be168c04e6855b_0 in /Volumes/Newsmy/FM_dataset/VinDr-Mammo-finding/Eval/e5bc3f728fad5d69a6be168c04e6855b_0\n"
     ]
    },
    {
     "name": "stderr",
     "output_type": "stream",
     "text": [
      " 90%|█████████ | 1598/1768 [14:19<01:17,  2.20it/s]"
     ]
    },
    {
     "name": "stdout",
     "output_type": "stream",
     "text": [
      "Image and info_dict saved for e5fb50fe073153c6006638c2cd264363_0 in /Volumes/Newsmy/FM_dataset/VinDr-Mammo-finding/Train/e5fb50fe073153c6006638c2cd264363_0\n"
     ]
    },
    {
     "name": "stderr",
     "output_type": "stream",
     "text": [
      " 90%|█████████ | 1599/1768 [14:20<01:20,  2.09it/s]"
     ]
    },
    {
     "name": "stdout",
     "output_type": "stream",
     "text": [
      "Image and info_dict saved for e608d957bf2ecd894c524d0969b05868_0 in /Volumes/Newsmy/FM_dataset/VinDr-Mammo-finding/Train/e608d957bf2ecd894c524d0969b05868_0\n",
      "Image and info_dict saved for e608d957bf2ecd894c524d0969b05868_1 in /Volumes/Newsmy/FM_dataset/VinDr-Mammo-finding/Train/e608d957bf2ecd894c524d0969b05868_1\n"
     ]
    },
    {
     "name": "stderr",
     "output_type": "stream",
     "text": [
      " 90%|█████████ | 1600/1768 [14:20<01:21,  2.07it/s]"
     ]
    },
    {
     "name": "stdout",
     "output_type": "stream",
     "text": [
      "Image and info_dict saved for e6147b88edd1b0dca1772e8e47e3ed82_0 in /Volumes/Newsmy/FM_dataset/VinDr-Mammo-finding/Train/e6147b88edd1b0dca1772e8e47e3ed82_0\n"
     ]
    },
    {
     "name": "stderr",
     "output_type": "stream",
     "text": [
      " 91%|█████████ | 1601/1768 [14:21<01:23,  2.00it/s]"
     ]
    },
    {
     "name": "stdout",
     "output_type": "stream",
     "text": [
      "Image and info_dict saved for e61d36901ebb6b37ac41f6ca84e5c81b_0 in /Volumes/Newsmy/FM_dataset/VinDr-Mammo-finding/Train/e61d36901ebb6b37ac41f6ca84e5c81b_0\n",
      "Image and info_dict saved for e648eee49dff6f5a92bccdae2b8a48d0_0 in /Volumes/Newsmy/FM_dataset/VinDr-Mammo-finding/Train/e648eee49dff6f5a92bccdae2b8a48d0_0\n",
      "Image and info_dict saved for e648eee49dff6f5a92bccdae2b8a48d0_1 in /Volumes/Newsmy/FM_dataset/VinDr-Mammo-finding/Train/e648eee49dff6f5a92bccdae2b8a48d0_1\n"
     ]
    },
    {
     "name": "stderr",
     "output_type": "stream",
     "text": [
      " 91%|█████████ | 1602/1768 [14:23<03:15,  1.18s/it]"
     ]
    },
    {
     "name": "stdout",
     "output_type": "stream",
     "text": [
      "Image and info_dict saved for e648eee49dff6f5a92bccdae2b8a48d0_2 in /Volumes/Newsmy/FM_dataset/VinDr-Mammo-finding/Train/e648eee49dff6f5a92bccdae2b8a48d0_2\n"
     ]
    },
    {
     "name": "stderr",
     "output_type": "stream",
     "text": [
      " 91%|█████████ | 1603/1768 [14:24<03:06,  1.13s/it]"
     ]
    },
    {
     "name": "stdout",
     "output_type": "stream",
     "text": [
      "Image and info_dict saved for e6a5252283c2aea95e089c564ca6260f_0 in /Volumes/Newsmy/FM_dataset/VinDr-Mammo-finding/Eval/e6a5252283c2aea95e089c564ca6260f_0\n"
     ]
    },
    {
     "name": "stderr",
     "output_type": "stream",
     "text": [
      " 91%|█████████ | 1604/1768 [14:25<02:41,  1.02it/s]"
     ]
    },
    {
     "name": "stdout",
     "output_type": "stream",
     "text": [
      "Image and info_dict saved for e6d1fee02d8d4700ae9923cc5ffe25f3_0 in /Volumes/Newsmy/FM_dataset/VinDr-Mammo-finding/Train/e6d1fee02d8d4700ae9923cc5ffe25f3_0\n"
     ]
    },
    {
     "name": "stderr",
     "output_type": "stream",
     "text": [
      " 91%|█████████ | 1605/1768 [14:26<02:16,  1.19it/s]"
     ]
    },
    {
     "name": "stdout",
     "output_type": "stream",
     "text": [
      "Image and info_dict saved for e6d36785309f9f0e21046406b937c374_0 in /Volumes/Newsmy/FM_dataset/VinDr-Mammo-finding/Test/e6d36785309f9f0e21046406b937c374_0\n"
     ]
    },
    {
     "name": "stderr",
     "output_type": "stream",
     "text": [
      " 91%|█████████ | 1606/1768 [14:26<01:59,  1.35it/s]"
     ]
    },
    {
     "name": "stdout",
     "output_type": "stream",
     "text": [
      "Image and info_dict saved for e70431691ffb5b4aab0f98c1de3792ae_0 in /Volumes/Newsmy/FM_dataset/VinDr-Mammo-finding/Test/e70431691ffb5b4aab0f98c1de3792ae_0\n"
     ]
    },
    {
     "name": "stderr",
     "output_type": "stream",
     "text": [
      " 91%|█████████ | 1607/1768 [14:27<01:51,  1.45it/s]"
     ]
    },
    {
     "name": "stdout",
     "output_type": "stream",
     "text": [
      "Image and info_dict saved for e73311b5a4387010e5d3743a940a4e3e_0 in /Volumes/Newsmy/FM_dataset/VinDr-Mammo-finding/Eval/e73311b5a4387010e5d3743a940a4e3e_0\n",
      "Image and info_dict saved for e751e5a947089704457741eea74c2280_0 in /Volumes/Newsmy/FM_dataset/VinDr-Mammo-finding/Train/e751e5a947089704457741eea74c2280_0\n",
      "Image and info_dict saved for e751e5a947089704457741eea74c2280_1 in /Volumes/Newsmy/FM_dataset/VinDr-Mammo-finding/Train/e751e5a947089704457741eea74c2280_1\n"
     ]
    },
    {
     "name": "stderr",
     "output_type": "stream",
     "text": [
      " 91%|█████████ | 1608/1768 [14:28<01:58,  1.35it/s]"
     ]
    },
    {
     "name": "stdout",
     "output_type": "stream",
     "text": [
      "Image and info_dict saved for e751e5a947089704457741eea74c2280_2 in /Volumes/Newsmy/FM_dataset/VinDr-Mammo-finding/Train/e751e5a947089704457741eea74c2280_2\n",
      "Image and info_dict saved for e751e5a947089704457741eea74c2280_3 in /Volumes/Newsmy/FM_dataset/VinDr-Mammo-finding/Train/e751e5a947089704457741eea74c2280_3\n"
     ]
    },
    {
     "name": "stderr",
     "output_type": "stream",
     "text": [
      " 91%|█████████ | 1609/1768 [14:28<01:47,  1.48it/s]"
     ]
    },
    {
     "name": "stdout",
     "output_type": "stream",
     "text": [
      "Image and info_dict saved for e755c240ce3e6567fdfec4fca1544547_0 in /Volumes/Newsmy/FM_dataset/VinDr-Mammo-finding/Train/e755c240ce3e6567fdfec4fca1544547_0\n"
     ]
    },
    {
     "name": "stderr",
     "output_type": "stream",
     "text": [
      " 91%|█████████ | 1610/1768 [14:29<01:38,  1.61it/s]"
     ]
    },
    {
     "name": "stdout",
     "output_type": "stream",
     "text": [
      "Image and info_dict saved for e788be650ac8e1f81beda55451f217e3_0 in /Volumes/Newsmy/FM_dataset/VinDr-Mammo-finding/Train/e788be650ac8e1f81beda55451f217e3_0\n"
     ]
    },
    {
     "name": "stderr",
     "output_type": "stream",
     "text": [
      " 91%|█████████ | 1611/1768 [14:29<01:30,  1.74it/s]"
     ]
    },
    {
     "name": "stdout",
     "output_type": "stream",
     "text": [
      "Image and info_dict saved for e793562ebc24362abe53753378f9cf28_0 in /Volumes/Newsmy/FM_dataset/VinDr-Mammo-finding/Train/e793562ebc24362abe53753378f9cf28_0\n"
     ]
    },
    {
     "name": "stderr",
     "output_type": "stream",
     "text": [
      " 91%|█████████ | 1612/1768 [14:30<01:31,  1.71it/s]"
     ]
    },
    {
     "name": "stdout",
     "output_type": "stream",
     "text": [
      "Image and info_dict saved for e79f419d756e9902fc6ff80ca0d7f7a3_0 in /Volumes/Newsmy/FM_dataset/VinDr-Mammo-finding/Test/e79f419d756e9902fc6ff80ca0d7f7a3_0\n"
     ]
    },
    {
     "name": "stderr",
     "output_type": "stream",
     "text": [
      " 91%|█████████ | 1613/1768 [14:30<01:26,  1.78it/s]"
     ]
    },
    {
     "name": "stdout",
     "output_type": "stream",
     "text": [
      "Image and info_dict saved for e7bea2e7c5fcd472c66ef49fbcd16de1_0 in /Volumes/Newsmy/FM_dataset/VinDr-Mammo-finding/Train/e7bea2e7c5fcd472c66ef49fbcd16de1_0\n"
     ]
    },
    {
     "name": "stderr",
     "output_type": "stream",
     "text": [
      " 91%|█████████▏| 1614/1768 [14:31<01:50,  1.39it/s]"
     ]
    },
    {
     "name": "stdout",
     "output_type": "stream",
     "text": [
      "Image and info_dict saved for e7c534f3c4d99a2a017cd64191b73923_0 in /Volumes/Newsmy/FM_dataset/VinDr-Mammo-finding/Test/e7c534f3c4d99a2a017cd64191b73923_0\n",
      "Image and info_dict saved for e7c534f3c4d99a2a017cd64191b73923_1 in /Volumes/Newsmy/FM_dataset/VinDr-Mammo-finding/Test/e7c534f3c4d99a2a017cd64191b73923_1\n"
     ]
    },
    {
     "name": "stderr",
     "output_type": "stream",
     "text": [
      " 91%|█████████▏| 1615/1768 [14:32<01:40,  1.52it/s]"
     ]
    },
    {
     "name": "stdout",
     "output_type": "stream",
     "text": [
      "Image and info_dict saved for e7ed852e596846ff61f0cea69d9f2ae6_0 in /Volumes/Newsmy/FM_dataset/VinDr-Mammo-finding/Train/e7ed852e596846ff61f0cea69d9f2ae6_0\n"
     ]
    },
    {
     "name": "stderr",
     "output_type": "stream",
     "text": [
      " 91%|█████████▏| 1616/1768 [14:32<01:29,  1.69it/s]"
     ]
    },
    {
     "name": "stdout",
     "output_type": "stream",
     "text": [
      "Image and info_dict saved for e80bb54bc1220a5b522767f5bc2be268_0 in /Volumes/Newsmy/FM_dataset/VinDr-Mammo-finding/Train/e80bb54bc1220a5b522767f5bc2be268_0\n"
     ]
    },
    {
     "name": "stderr",
     "output_type": "stream",
     "text": [
      " 91%|█████████▏| 1617/1768 [14:33<01:25,  1.77it/s]"
     ]
    },
    {
     "name": "stdout",
     "output_type": "stream",
     "text": [
      "Image and info_dict saved for e817f44d9b70c87868aadd41629a176d_0 in /Volumes/Newsmy/FM_dataset/VinDr-Mammo-finding/Train/e817f44d9b70c87868aadd41629a176d_0\n"
     ]
    },
    {
     "name": "stderr",
     "output_type": "stream",
     "text": [
      " 92%|█████████▏| 1618/1768 [14:33<01:16,  1.97it/s]"
     ]
    },
    {
     "name": "stdout",
     "output_type": "stream",
     "text": [
      "Image and info_dict saved for e8196dac677d9ac410215b47bfa38b06_0 in /Volumes/Newsmy/FM_dataset/VinDr-Mammo-finding/Train/e8196dac677d9ac410215b47bfa38b06_0\n"
     ]
    },
    {
     "name": "stderr",
     "output_type": "stream",
     "text": [
      " 92%|█████████▏| 1619/1768 [14:34<01:21,  1.83it/s]"
     ]
    },
    {
     "name": "stdout",
     "output_type": "stream",
     "text": [
      "Image and info_dict saved for e82b6324ff951df4158627cf430996b7_0 in /Volumes/Newsmy/FM_dataset/VinDr-Mammo-finding/Train/e82b6324ff951df4158627cf430996b7_0\n",
      "Image and info_dict saved for e82b6324ff951df4158627cf430996b7_1 in /Volumes/Newsmy/FM_dataset/VinDr-Mammo-finding/Train/e82b6324ff951df4158627cf430996b7_1\n"
     ]
    },
    {
     "name": "stderr",
     "output_type": "stream",
     "text": [
      " 92%|█████████▏| 1620/1768 [14:34<01:16,  1.94it/s]"
     ]
    },
    {
     "name": "stdout",
     "output_type": "stream",
     "text": [
      "Image and info_dict saved for e8622a694ac7d18bb14ae8dde1346294_0 in /Volumes/Newsmy/FM_dataset/VinDr-Mammo-finding/Train/e8622a694ac7d18bb14ae8dde1346294_0\n"
     ]
    },
    {
     "name": "stderr",
     "output_type": "stream",
     "text": [
      " 92%|█████████▏| 1621/1768 [14:35<01:15,  1.96it/s]"
     ]
    },
    {
     "name": "stdout",
     "output_type": "stream",
     "text": [
      "Image and info_dict saved for e86ee7c6d128444a1cd1307b158a7e67_0 in /Volumes/Newsmy/FM_dataset/VinDr-Mammo-finding/Train/e86ee7c6d128444a1cd1307b158a7e67_0\n"
     ]
    },
    {
     "name": "stderr",
     "output_type": "stream",
     "text": [
      " 92%|█████████▏| 1622/1768 [14:35<01:17,  1.88it/s]"
     ]
    },
    {
     "name": "stdout",
     "output_type": "stream",
     "text": [
      "Image and info_dict saved for e87781720c2771e22823701fcc0aaf44_0 in /Volumes/Newsmy/FM_dataset/VinDr-Mammo-finding/Train/e87781720c2771e22823701fcc0aaf44_0\n",
      "Image and info_dict saved for e87781720c2771e22823701fcc0aaf44_1 in /Volumes/Newsmy/FM_dataset/VinDr-Mammo-finding/Train/e87781720c2771e22823701fcc0aaf44_1\n",
      "Image and info_dict saved for e8807d2cd8bceca2378375fb986cf578_0 in /Volumes/Newsmy/FM_dataset/VinDr-Mammo-finding/Train/e8807d2cd8bceca2378375fb986cf578_0\n",
      "Image and info_dict saved for e8807d2cd8bceca2378375fb986cf578_1 in /Volumes/Newsmy/FM_dataset/VinDr-Mammo-finding/Train/e8807d2cd8bceca2378375fb986cf578_1\n"
     ]
    },
    {
     "name": "stderr",
     "output_type": "stream",
     "text": [
      " 92%|█████████▏| 1623/1768 [14:36<01:21,  1.78it/s]"
     ]
    },
    {
     "name": "stdout",
     "output_type": "stream",
     "text": [
      "Image and info_dict saved for e8807d2cd8bceca2378375fb986cf578_2 in /Volumes/Newsmy/FM_dataset/VinDr-Mammo-finding/Train/e8807d2cd8bceca2378375fb986cf578_2\n"
     ]
    },
    {
     "name": "stderr",
     "output_type": "stream",
     "text": [
      " 92%|█████████▏| 1624/1768 [14:36<01:13,  1.95it/s]"
     ]
    },
    {
     "name": "stdout",
     "output_type": "stream",
     "text": [
      "Image and info_dict saved for e895f87388a267a494cf45495e933293_0 in /Volumes/Newsmy/FM_dataset/VinDr-Mammo-finding/Train/e895f87388a267a494cf45495e933293_0\n"
     ]
    },
    {
     "name": "stderr",
     "output_type": "stream",
     "text": [
      " 92%|█████████▏| 1625/1768 [14:37<01:10,  2.02it/s]"
     ]
    },
    {
     "name": "stdout",
     "output_type": "stream",
     "text": [
      "Image and info_dict saved for e8b40315a5d5ca3d4d50cf215474b056_0 in /Volumes/Newsmy/FM_dataset/VinDr-Mammo-finding/Train/e8b40315a5d5ca3d4d50cf215474b056_0\n"
     ]
    },
    {
     "name": "stderr",
     "output_type": "stream",
     "text": [
      " 92%|█████████▏| 1626/1768 [14:37<01:06,  2.14it/s]"
     ]
    },
    {
     "name": "stdout",
     "output_type": "stream",
     "text": [
      "Image and info_dict saved for e8dfd88e396c4cc90611cd8b6a2278ac_0 in /Volumes/Newsmy/FM_dataset/VinDr-Mammo-finding/Train/e8dfd88e396c4cc90611cd8b6a2278ac_0\n"
     ]
    },
    {
     "name": "stderr",
     "output_type": "stream",
     "text": [
      " 92%|█████████▏| 1627/1768 [14:38<01:14,  1.90it/s]"
     ]
    },
    {
     "name": "stdout",
     "output_type": "stream",
     "text": [
      "Image and info_dict saved for e8ecea5b336770a426df5b8ae88a543e_0 in /Volumes/Newsmy/FM_dataset/VinDr-Mammo-finding/Train/e8ecea5b336770a426df5b8ae88a543e_0\n",
      "Image and info_dict saved for e8ecea5b336770a426df5b8ae88a543e_1 in /Volumes/Newsmy/FM_dataset/VinDr-Mammo-finding/Train/e8ecea5b336770a426df5b8ae88a543e_1\n"
     ]
    },
    {
     "name": "stderr",
     "output_type": "stream",
     "text": [
      " 92%|█████████▏| 1628/1768 [14:38<01:13,  1.91it/s]"
     ]
    },
    {
     "name": "stdout",
     "output_type": "stream",
     "text": [
      "Image and info_dict saved for e90cc402de4511d7801d61d4ac0c54c7_0 in /Volumes/Newsmy/FM_dataset/VinDr-Mammo-finding/Train/e90cc402de4511d7801d61d4ac0c54c7_0\n"
     ]
    },
    {
     "name": "stderr",
     "output_type": "stream",
     "text": [
      " 92%|█████████▏| 1629/1768 [14:39<01:10,  1.97it/s]"
     ]
    },
    {
     "name": "stdout",
     "output_type": "stream",
     "text": [
      "Image and info_dict saved for e9136e59d32433a6803d72c8c97fe513_0 in /Volumes/Newsmy/FM_dataset/VinDr-Mammo-finding/Test/e9136e59d32433a6803d72c8c97fe513_0\n"
     ]
    },
    {
     "name": "stderr",
     "output_type": "stream",
     "text": [
      " 92%|█████████▏| 1630/1768 [14:39<01:16,  1.80it/s]"
     ]
    },
    {
     "name": "stdout",
     "output_type": "stream",
     "text": [
      "Image and info_dict saved for e930e60393f84e267e348ed76b458b1a_0 in /Volumes/Newsmy/FM_dataset/VinDr-Mammo-finding/Train/e930e60393f84e267e348ed76b458b1a_0\n"
     ]
    },
    {
     "name": "stderr",
     "output_type": "stream",
     "text": [
      " 92%|█████████▏| 1631/1768 [14:40<01:22,  1.66it/s]"
     ]
    },
    {
     "name": "stdout",
     "output_type": "stream",
     "text": [
      "Image and info_dict saved for e9474b0f6b8fee9cf11dca4ac57b8959_0 in /Volumes/Newsmy/FM_dataset/VinDr-Mammo-finding/Test/e9474b0f6b8fee9cf11dca4ac57b8959_0\n",
      "Image and info_dict saved for e9474b0f6b8fee9cf11dca4ac57b8959_1 in /Volumes/Newsmy/FM_dataset/VinDr-Mammo-finding/Test/e9474b0f6b8fee9cf11dca4ac57b8959_1\n",
      "Image and info_dict saved for e97550e9877faea678557c5e3d52438b_0 in /Volumes/Newsmy/FM_dataset/VinDr-Mammo-finding/Train/e97550e9877faea678557c5e3d52438b_0\n",
      "Image and info_dict saved for e97550e9877faea678557c5e3d52438b_1 in /Volumes/Newsmy/FM_dataset/VinDr-Mammo-finding/Train/e97550e9877faea678557c5e3d52438b_1\n"
     ]
    },
    {
     "name": "stderr",
     "output_type": "stream",
     "text": [
      " 92%|█████████▏| 1632/1768 [14:41<01:20,  1.68it/s]"
     ]
    },
    {
     "name": "stdout",
     "output_type": "stream",
     "text": [
      "Image and info_dict saved for e97550e9877faea678557c5e3d52438b_2 in /Volumes/Newsmy/FM_dataset/VinDr-Mammo-finding/Train/e97550e9877faea678557c5e3d52438b_2\n"
     ]
    },
    {
     "name": "stderr",
     "output_type": "stream",
     "text": [
      " 92%|█████████▏| 1633/1768 [14:41<01:16,  1.77it/s]"
     ]
    },
    {
     "name": "stdout",
     "output_type": "stream",
     "text": [
      "Image and info_dict saved for e98319fe7089d659f509b284b880bfdd_0 in /Volumes/Newsmy/FM_dataset/VinDr-Mammo-finding/Train/e98319fe7089d659f509b284b880bfdd_0\n"
     ]
    },
    {
     "name": "stderr",
     "output_type": "stream",
     "text": [
      " 92%|█████████▏| 1634/1768 [14:42<01:14,  1.79it/s]"
     ]
    },
    {
     "name": "stdout",
     "output_type": "stream",
     "text": [
      "Image and info_dict saved for e9a772495692cf0d9ca09e8f5eea3453_0 in /Volumes/Newsmy/FM_dataset/VinDr-Mammo-finding/Train/e9a772495692cf0d9ca09e8f5eea3453_0\n"
     ]
    },
    {
     "name": "stderr",
     "output_type": "stream",
     "text": [
      " 92%|█████████▏| 1635/1768 [14:42<01:12,  1.82it/s]"
     ]
    },
    {
     "name": "stdout",
     "output_type": "stream",
     "text": [
      "Image and info_dict saved for e9c639f5926584509413a6d71f7be603_0 in /Volumes/Newsmy/FM_dataset/VinDr-Mammo-finding/Train/e9c639f5926584509413a6d71f7be603_0\n"
     ]
    },
    {
     "name": "stderr",
     "output_type": "stream",
     "text": [
      " 93%|█████████▎| 1636/1768 [14:43<01:08,  1.94it/s]"
     ]
    },
    {
     "name": "stdout",
     "output_type": "stream",
     "text": [
      "Image and info_dict saved for e9c9392e87e712277b454f4b4f5a1f3b_0 in /Volumes/Newsmy/FM_dataset/VinDr-Mammo-finding/Train/e9c9392e87e712277b454f4b4f5a1f3b_0\n"
     ]
    },
    {
     "name": "stderr",
     "output_type": "stream",
     "text": [
      " 93%|█████████▎| 1637/1768 [14:43<01:05,  2.00it/s]"
     ]
    },
    {
     "name": "stdout",
     "output_type": "stream",
     "text": [
      "Image and info_dict saved for e9f60c6702fa4dfe424362daa1b95e46_0 in /Volumes/Newsmy/FM_dataset/VinDr-Mammo-finding/Train/e9f60c6702fa4dfe424362daa1b95e46_0\n"
     ]
    },
    {
     "name": "stderr",
     "output_type": "stream",
     "text": [
      " 93%|█████████▎| 1638/1768 [14:44<01:03,  2.04it/s]"
     ]
    },
    {
     "name": "stdout",
     "output_type": "stream",
     "text": [
      "Image and info_dict saved for e9faac66d3b96626a72677128a2c8235_0 in /Volumes/Newsmy/FM_dataset/VinDr-Mammo-finding/Train/e9faac66d3b96626a72677128a2c8235_0\n"
     ]
    },
    {
     "name": "stderr",
     "output_type": "stream",
     "text": [
      " 93%|█████████▎| 1639/1768 [14:44<01:12,  1.78it/s]"
     ]
    },
    {
     "name": "stdout",
     "output_type": "stream",
     "text": [
      "Image and info_dict saved for ea3a74a576e8034ff523de62665ed2f6_0 in /Volumes/Newsmy/FM_dataset/VinDr-Mammo-finding/Train/ea3a74a576e8034ff523de62665ed2f6_0\n"
     ]
    },
    {
     "name": "stderr",
     "output_type": "stream",
     "text": [
      " 93%|█████████▎| 1640/1768 [14:45<01:06,  1.93it/s]"
     ]
    },
    {
     "name": "stdout",
     "output_type": "stream",
     "text": [
      "Image and info_dict saved for ea4558d72397cf5713783f668b5efaa6_0 in /Volumes/Newsmy/FM_dataset/VinDr-Mammo-finding/Eval/ea4558d72397cf5713783f668b5efaa6_0\n"
     ]
    },
    {
     "name": "stderr",
     "output_type": "stream",
     "text": [
      " 93%|█████████▎| 1641/1768 [14:45<01:03,  2.00it/s]"
     ]
    },
    {
     "name": "stdout",
     "output_type": "stream",
     "text": [
      "Image and info_dict saved for ea46f4834d92e77afe1da27757b0678b_0 in /Volumes/Newsmy/FM_dataset/VinDr-Mammo-finding/Test/ea46f4834d92e77afe1da27757b0678b_0\n"
     ]
    },
    {
     "name": "stderr",
     "output_type": "stream",
     "text": [
      " 93%|█████████▎| 1642/1768 [14:46<01:04,  1.96it/s]"
     ]
    },
    {
     "name": "stdout",
     "output_type": "stream",
     "text": [
      "Image and info_dict saved for ea48fbfce53b34c264ea92a318ba748f_0 in /Volumes/Newsmy/FM_dataset/VinDr-Mammo-finding/Eval/ea48fbfce53b34c264ea92a318ba748f_0\n",
      "Image and info_dict saved for ea48fbfce53b34c264ea92a318ba748f_1 in /Volumes/Newsmy/FM_dataset/VinDr-Mammo-finding/Eval/ea48fbfce53b34c264ea92a318ba748f_1\n"
     ]
    },
    {
     "name": "stderr",
     "output_type": "stream",
     "text": [
      " 93%|█████████▎| 1643/1768 [14:46<01:00,  2.05it/s]"
     ]
    },
    {
     "name": "stdout",
     "output_type": "stream",
     "text": [
      "Image and info_dict saved for ea8790b418b754139457d48e5228c077_0 in /Volumes/Newsmy/FM_dataset/VinDr-Mammo-finding/Train/ea8790b418b754139457d48e5228c077_0\n",
      "Image and info_dict saved for ea8790b418b754139457d48e5228c077_1 in /Volumes/Newsmy/FM_dataset/VinDr-Mammo-finding/Train/ea8790b418b754139457d48e5228c077_1\n"
     ]
    },
    {
     "name": "stderr",
     "output_type": "stream",
     "text": [
      " 93%|█████████▎| 1644/1768 [14:47<00:59,  2.09it/s]"
     ]
    },
    {
     "name": "stdout",
     "output_type": "stream",
     "text": [
      "Image and info_dict saved for eaf9352abcc67846d1f69f4d21474e2f_0 in /Volumes/Newsmy/FM_dataset/VinDr-Mammo-finding/Train/eaf9352abcc67846d1f69f4d21474e2f_0\n",
      "Image and info_dict saved for eaf9352abcc67846d1f69f4d21474e2f_1 in /Volumes/Newsmy/FM_dataset/VinDr-Mammo-finding/Train/eaf9352abcc67846d1f69f4d21474e2f_1\n"
     ]
    },
    {
     "name": "stderr",
     "output_type": "stream",
     "text": [
      " 93%|█████████▎| 1645/1768 [14:47<00:58,  2.09it/s]"
     ]
    },
    {
     "name": "stdout",
     "output_type": "stream",
     "text": [
      "Image and info_dict saved for ebdd44111a12abdfb8846e43788c16a1_0 in /Volumes/Newsmy/FM_dataset/VinDr-Mammo-finding/Train/ebdd44111a12abdfb8846e43788c16a1_0\n"
     ]
    },
    {
     "name": "stderr",
     "output_type": "stream",
     "text": [
      " 93%|█████████▎| 1646/1768 [14:48<01:02,  1.96it/s]"
     ]
    },
    {
     "name": "stdout",
     "output_type": "stream",
     "text": [
      "Image and info_dict saved for ebe0d766cf25c8576d78d0e7a351e39a_0 in /Volumes/Newsmy/FM_dataset/VinDr-Mammo-finding/Train/ebe0d766cf25c8576d78d0e7a351e39a_0\n"
     ]
    },
    {
     "name": "stderr",
     "output_type": "stream",
     "text": [
      " 93%|█████████▎| 1647/1768 [14:48<01:08,  1.78it/s]"
     ]
    },
    {
     "name": "stdout",
     "output_type": "stream",
     "text": [
      "Image and info_dict saved for ec2c69b6d06c24bf6b93e7323f66c257_0 in /Volumes/Newsmy/FM_dataset/VinDr-Mammo-finding/Eval/ec2c69b6d06c24bf6b93e7323f66c257_0\n",
      "Image and info_dict saved for ec2c69b6d06c24bf6b93e7323f66c257_1 in /Volumes/Newsmy/FM_dataset/VinDr-Mammo-finding/Eval/ec2c69b6d06c24bf6b93e7323f66c257_1\n"
     ]
    },
    {
     "name": "stderr",
     "output_type": "stream",
     "text": [
      " 93%|█████████▎| 1648/1768 [14:49<01:05,  1.83it/s]"
     ]
    },
    {
     "name": "stdout",
     "output_type": "stream",
     "text": [
      "Image and info_dict saved for ec84e73ed122ba2efdd4548d471d371e_0 in /Volumes/Newsmy/FM_dataset/VinDr-Mammo-finding/Train/ec84e73ed122ba2efdd4548d471d371e_0\n"
     ]
    },
    {
     "name": "stderr",
     "output_type": "stream",
     "text": [
      " 93%|█████████▎| 1649/1768 [14:49<01:01,  1.94it/s]"
     ]
    },
    {
     "name": "stdout",
     "output_type": "stream",
     "text": [
      "Image and info_dict saved for ec9477ee8b60f14857c324dd63b71b87_0 in /Volumes/Newsmy/FM_dataset/VinDr-Mammo-finding/Test/ec9477ee8b60f14857c324dd63b71b87_0\n"
     ]
    },
    {
     "name": "stderr",
     "output_type": "stream",
     "text": [
      " 93%|█████████▎| 1650/1768 [14:50<01:00,  1.95it/s]"
     ]
    },
    {
     "name": "stdout",
     "output_type": "stream",
     "text": [
      "Image and info_dict saved for ecc7ed202ac2b9a6dbedcf323e9c5673_0 in /Volumes/Newsmy/FM_dataset/VinDr-Mammo-finding/Test/ecc7ed202ac2b9a6dbedcf323e9c5673_0\n"
     ]
    },
    {
     "name": "stderr",
     "output_type": "stream",
     "text": [
      " 93%|█████████▎| 1651/1768 [14:50<00:56,  2.08it/s]"
     ]
    },
    {
     "name": "stdout",
     "output_type": "stream",
     "text": [
      "Image and info_dict saved for eceb26b4e6e65380b4e320233a755cfc_0 in /Volumes/Newsmy/FM_dataset/VinDr-Mammo-finding/Train/eceb26b4e6e65380b4e320233a755cfc_0\n"
     ]
    },
    {
     "name": "stderr",
     "output_type": "stream",
     "text": [
      " 93%|█████████▎| 1652/1768 [14:51<00:55,  2.08it/s]"
     ]
    },
    {
     "name": "stdout",
     "output_type": "stream",
     "text": [
      "Image and info_dict saved for ecf3e1acbf1f692b1f0663dc745347e8_0 in /Volumes/Newsmy/FM_dataset/VinDr-Mammo-finding/Train/ecf3e1acbf1f692b1f0663dc745347e8_0\n",
      "Image and info_dict saved for ed15e2630a1d858c0e0fa9aa2348eceb_0 in /Volumes/Newsmy/FM_dataset/VinDr-Mammo-finding/Test/ed15e2630a1d858c0e0fa9aa2348eceb_0\n",
      "Image and info_dict saved for ed15e2630a1d858c0e0fa9aa2348eceb_1 in /Volumes/Newsmy/FM_dataset/VinDr-Mammo-finding/Test/ed15e2630a1d858c0e0fa9aa2348eceb_1\n"
     ]
    },
    {
     "name": "stderr",
     "output_type": "stream",
     "text": [
      " 93%|█████████▎| 1653/1768 [14:51<01:01,  1.88it/s]"
     ]
    },
    {
     "name": "stdout",
     "output_type": "stream",
     "text": [
      "Image and info_dict saved for ed15e2630a1d858c0e0fa9aa2348eceb_2 in /Volumes/Newsmy/FM_dataset/VinDr-Mammo-finding/Test/ed15e2630a1d858c0e0fa9aa2348eceb_2\n",
      "Image and info_dict saved for ed15e2630a1d858c0e0fa9aa2348eceb_3 in /Volumes/Newsmy/FM_dataset/VinDr-Mammo-finding/Test/ed15e2630a1d858c0e0fa9aa2348eceb_3\n"
     ]
    },
    {
     "name": "stderr",
     "output_type": "stream",
     "text": [
      " 94%|█████████▎| 1654/1768 [14:52<00:58,  1.94it/s]"
     ]
    },
    {
     "name": "stdout",
     "output_type": "stream",
     "text": [
      "Image and info_dict saved for ed6643439c5e0ec39ec171b579188dca_0 in /Volumes/Newsmy/FM_dataset/VinDr-Mammo-finding/Test/ed6643439c5e0ec39ec171b579188dca_0\n"
     ]
    },
    {
     "name": "stderr",
     "output_type": "stream",
     "text": [
      " 94%|█████████▎| 1655/1768 [14:53<01:04,  1.76it/s]"
     ]
    },
    {
     "name": "stdout",
     "output_type": "stream",
     "text": [
      "Image and info_dict saved for ed7f08bd090ef198bd907807d1808961_0 in /Volumes/Newsmy/FM_dataset/VinDr-Mammo-finding/Train/ed7f08bd090ef198bd907807d1808961_0\n"
     ]
    },
    {
     "name": "stderr",
     "output_type": "stream",
     "text": [
      " 94%|█████████▎| 1656/1768 [14:53<01:00,  1.85it/s]"
     ]
    },
    {
     "name": "stdout",
     "output_type": "stream",
     "text": [
      "Image and info_dict saved for edb7f6e44809405ec40a9c2537da62e6_0 in /Volumes/Newsmy/FM_dataset/VinDr-Mammo-finding/Test/edb7f6e44809405ec40a9c2537da62e6_0\n"
     ]
    },
    {
     "name": "stderr",
     "output_type": "stream",
     "text": [
      " 94%|█████████▎| 1657/1768 [14:54<00:58,  1.90it/s]"
     ]
    },
    {
     "name": "stdout",
     "output_type": "stream",
     "text": [
      "Image and info_dict saved for ee26824eaf12a3d9fa242240d7094331_0 in /Volumes/Newsmy/FM_dataset/VinDr-Mammo-finding/Train/ee26824eaf12a3d9fa242240d7094331_0\n"
     ]
    },
    {
     "name": "stderr",
     "output_type": "stream",
     "text": [
      " 94%|█████████▍| 1658/1768 [14:54<00:53,  2.06it/s]"
     ]
    },
    {
     "name": "stdout",
     "output_type": "stream",
     "text": [
      "Image and info_dict saved for eecfb481b3da4f3b400e8093eeda7309_0 in /Volumes/Newsmy/FM_dataset/VinDr-Mammo-finding/Train/eecfb481b3da4f3b400e8093eeda7309_0\n"
     ]
    },
    {
     "name": "stderr",
     "output_type": "stream",
     "text": [
      " 94%|█████████▍| 1659/1768 [14:54<00:51,  2.12it/s]"
     ]
    },
    {
     "name": "stdout",
     "output_type": "stream",
     "text": [
      "Image and info_dict saved for eee68a195e1bca0721597bdd923edb3e_0 in /Volumes/Newsmy/FM_dataset/VinDr-Mammo-finding/Eval/eee68a195e1bca0721597bdd923edb3e_0\n"
     ]
    },
    {
     "name": "stderr",
     "output_type": "stream",
     "text": [
      " 94%|█████████▍| 1660/1768 [14:55<00:49,  2.17it/s]"
     ]
    },
    {
     "name": "stdout",
     "output_type": "stream",
     "text": [
      "Image and info_dict saved for eef5cd5a78bcf8da9057f8cababd9ae2_0 in /Volumes/Newsmy/FM_dataset/VinDr-Mammo-finding/Train/eef5cd5a78bcf8da9057f8cababd9ae2_0\n"
     ]
    },
    {
     "name": "stderr",
     "output_type": "stream",
     "text": [
      " 94%|█████████▍| 1661/1768 [14:55<00:47,  2.25it/s]"
     ]
    },
    {
     "name": "stdout",
     "output_type": "stream",
     "text": [
      "Image and info_dict saved for eefd7f23922a576ee1fafc96e5815ecd_0 in /Volumes/Newsmy/FM_dataset/VinDr-Mammo-finding/Eval/eefd7f23922a576ee1fafc96e5815ecd_0\n"
     ]
    },
    {
     "name": "stderr",
     "output_type": "stream",
     "text": [
      " 94%|█████████▍| 1662/1768 [14:56<00:49,  2.16it/s]"
     ]
    },
    {
     "name": "stdout",
     "output_type": "stream",
     "text": [
      "Image and info_dict saved for efcb0eafdd9b5125468295d63e6ce173_0 in /Volumes/Newsmy/FM_dataset/VinDr-Mammo-finding/Train/efcb0eafdd9b5125468295d63e6ce173_0\n"
     ]
    },
    {
     "name": "stderr",
     "output_type": "stream",
     "text": [
      " 94%|█████████▍| 1663/1768 [14:56<00:48,  2.18it/s]"
     ]
    },
    {
     "name": "stdout",
     "output_type": "stream",
     "text": [
      "Image and info_dict saved for eff50bb27749afa48947f9fcce83c929_0 in /Volumes/Newsmy/FM_dataset/VinDr-Mammo-finding/Train/eff50bb27749afa48947f9fcce83c929_0\n"
     ]
    },
    {
     "name": "stderr",
     "output_type": "stream",
     "text": [
      " 94%|█████████▍| 1664/1768 [14:57<00:49,  2.12it/s]"
     ]
    },
    {
     "name": "stdout",
     "output_type": "stream",
     "text": [
      "Image and info_dict saved for f019726318cc1f7ab98ae646583d8895_0 in /Volumes/Newsmy/FM_dataset/VinDr-Mammo-finding/Train/f019726318cc1f7ab98ae646583d8895_0\n"
     ]
    },
    {
     "name": "stderr",
     "output_type": "stream",
     "text": [
      " 94%|█████████▍| 1665/1768 [14:57<00:48,  2.10it/s]"
     ]
    },
    {
     "name": "stdout",
     "output_type": "stream",
     "text": [
      "Image and info_dict saved for f0385fe91bcc5d28e1fcb23ff8081975_0 in /Volumes/Newsmy/FM_dataset/VinDr-Mammo-finding/Train/f0385fe91bcc5d28e1fcb23ff8081975_0\n"
     ]
    },
    {
     "name": "stderr",
     "output_type": "stream",
     "text": [
      " 94%|█████████▍| 1666/1768 [14:58<00:46,  2.18it/s]"
     ]
    },
    {
     "name": "stdout",
     "output_type": "stream",
     "text": [
      "Image and info_dict saved for f080cbb94257cf0e7549898060822902_0 in /Volumes/Newsmy/FM_dataset/VinDr-Mammo-finding/Train/f080cbb94257cf0e7549898060822902_0\n"
     ]
    },
    {
     "name": "stderr",
     "output_type": "stream",
     "text": [
      " 94%|█████████▍| 1667/1768 [14:58<00:50,  2.01it/s]"
     ]
    },
    {
     "name": "stdout",
     "output_type": "stream",
     "text": [
      "Image and info_dict saved for f0b2d42e07ab703ffc8f70ff56a6c960_0 in /Volumes/Newsmy/FM_dataset/VinDr-Mammo-finding/Train/f0b2d42e07ab703ffc8f70ff56a6c960_0\n"
     ]
    },
    {
     "name": "stderr",
     "output_type": "stream",
     "text": [
      " 94%|█████████▍| 1668/1768 [14:59<00:53,  1.85it/s]"
     ]
    },
    {
     "name": "stdout",
     "output_type": "stream",
     "text": [
      "Image and info_dict saved for f0e839f095171073b5348bb756afb32f_0 in /Volumes/Newsmy/FM_dataset/VinDr-Mammo-finding/Train/f0e839f095171073b5348bb756afb32f_0\n",
      "Image and info_dict saved for f0e839f095171073b5348bb756afb32f_1 in /Volumes/Newsmy/FM_dataset/VinDr-Mammo-finding/Train/f0e839f095171073b5348bb756afb32f_1\n"
     ]
    },
    {
     "name": "stderr",
     "output_type": "stream",
     "text": [
      " 94%|█████████▍| 1669/1768 [14:59<00:55,  1.77it/s]"
     ]
    },
    {
     "name": "stdout",
     "output_type": "stream",
     "text": [
      "Image and info_dict saved for f0f3808a479ac5e71f07084bcac83c68_0 in /Volumes/Newsmy/FM_dataset/VinDr-Mammo-finding/Eval/f0f3808a479ac5e71f07084bcac83c68_0\n"
     ]
    },
    {
     "name": "stderr",
     "output_type": "stream",
     "text": [
      " 94%|█████████▍| 1670/1768 [15:00<00:51,  1.90it/s]"
     ]
    },
    {
     "name": "stdout",
     "output_type": "stream",
     "text": [
      "Image and info_dict saved for f1097a8a50765e2261af176d00347cf0_0 in /Volumes/Newsmy/FM_dataset/VinDr-Mammo-finding/Train/f1097a8a50765e2261af176d00347cf0_0\n",
      "Image and info_dict saved for f1097a8a50765e2261af176d00347cf0_1 in /Volumes/Newsmy/FM_dataset/VinDr-Mammo-finding/Train/f1097a8a50765e2261af176d00347cf0_1\n"
     ]
    },
    {
     "name": "stderr",
     "output_type": "stream",
     "text": [
      " 95%|█████████▍| 1671/1768 [15:00<00:49,  1.96it/s]"
     ]
    },
    {
     "name": "stdout",
     "output_type": "stream",
     "text": [
      "Image and info_dict saved for f1301e728ee3553f3a701c15e64ea041_0 in /Volumes/Newsmy/FM_dataset/VinDr-Mammo-finding/Train/f1301e728ee3553f3a701c15e64ea041_0\n"
     ]
    },
    {
     "name": "stderr",
     "output_type": "stream",
     "text": [
      " 95%|█████████▍| 1672/1768 [15:01<00:47,  2.04it/s]"
     ]
    },
    {
     "name": "stdout",
     "output_type": "stream",
     "text": [
      "Image and info_dict saved for f13af0df8b6fdeecca7e36affeb56988_0 in /Volumes/Newsmy/FM_dataset/VinDr-Mammo-finding/Train/f13af0df8b6fdeecca7e36affeb56988_0\n",
      "Image and info_dict saved for f17d87b660e35d32339d60cd3fb556b0_0 in /Volumes/Newsmy/FM_dataset/VinDr-Mammo-finding/Eval/f17d87b660e35d32339d60cd3fb556b0_0\n",
      "Image and info_dict saved for f17d87b660e35d32339d60cd3fb556b0_1 in /Volumes/Newsmy/FM_dataset/VinDr-Mammo-finding/Eval/f17d87b660e35d32339d60cd3fb556b0_1\n"
     ]
    },
    {
     "name": "stderr",
     "output_type": "stream",
     "text": [
      " 95%|█████████▍| 1673/1768 [15:02<00:59,  1.60it/s]"
     ]
    },
    {
     "name": "stdout",
     "output_type": "stream",
     "text": [
      "Image and info_dict saved for f17d87b660e35d32339d60cd3fb556b0_2 in /Volumes/Newsmy/FM_dataset/VinDr-Mammo-finding/Eval/f17d87b660e35d32339d60cd3fb556b0_2\n",
      "Image and info_dict saved for f17d87b660e35d32339d60cd3fb556b0_3 in /Volumes/Newsmy/FM_dataset/VinDr-Mammo-finding/Eval/f17d87b660e35d32339d60cd3fb556b0_3\n",
      "Image and info_dict saved for f1b0fbd4eebff392ed4b9886034c29ca_0 in /Volumes/Newsmy/FM_dataset/VinDr-Mammo-finding/Train/f1b0fbd4eebff392ed4b9886034c29ca_0\n",
      "Image and info_dict saved for f1b0fbd4eebff392ed4b9886034c29ca_1 in /Volumes/Newsmy/FM_dataset/VinDr-Mammo-finding/Train/f1b0fbd4eebff392ed4b9886034c29ca_1\n"
     ]
    },
    {
     "name": "stderr",
     "output_type": "stream",
     "text": [
      " 95%|█████████▍| 1674/1768 [15:03<01:08,  1.37it/s]"
     ]
    },
    {
     "name": "stdout",
     "output_type": "stream",
     "text": [
      "Image and info_dict saved for f1b0fbd4eebff392ed4b9886034c29ca_2 in /Volumes/Newsmy/FM_dataset/VinDr-Mammo-finding/Train/f1b0fbd4eebff392ed4b9886034c29ca_2\n",
      "Image and info_dict saved for f1b0fbd4eebff392ed4b9886034c29ca_3 in /Volumes/Newsmy/FM_dataset/VinDr-Mammo-finding/Train/f1b0fbd4eebff392ed4b9886034c29ca_3\n",
      "Image and info_dict saved for f1b0fbd4eebff392ed4b9886034c29ca_4 in /Volumes/Newsmy/FM_dataset/VinDr-Mammo-finding/Train/f1b0fbd4eebff392ed4b9886034c29ca_4\n"
     ]
    },
    {
     "name": "stderr",
     "output_type": "stream",
     "text": [
      " 95%|█████████▍| 1675/1768 [15:03<01:02,  1.49it/s]"
     ]
    },
    {
     "name": "stdout",
     "output_type": "stream",
     "text": [
      "Image and info_dict saved for f1bfdcca5002d093e4b07e0099e252ec_0 in /Volumes/Newsmy/FM_dataset/VinDr-Mammo-finding/Eval/f1bfdcca5002d093e4b07e0099e252ec_0\n"
     ]
    },
    {
     "name": "stderr",
     "output_type": "stream",
     "text": [
      " 95%|█████████▍| 1676/1768 [15:04<00:55,  1.66it/s]"
     ]
    },
    {
     "name": "stdout",
     "output_type": "stream",
     "text": [
      "Image and info_dict saved for f1dd8037a1a5f684cebc10a22e2e2797_0 in /Volumes/Newsmy/FM_dataset/VinDr-Mammo-finding/Train/f1dd8037a1a5f684cebc10a22e2e2797_0\n"
     ]
    },
    {
     "name": "stderr",
     "output_type": "stream",
     "text": [
      " 95%|█████████▍| 1677/1768 [15:04<01:00,  1.51it/s]"
     ]
    },
    {
     "name": "stdout",
     "output_type": "stream",
     "text": [
      "Image and info_dict saved for f1f79501410a98782c0a03b48e66df83_0 in /Volumes/Newsmy/FM_dataset/VinDr-Mammo-finding/Train/f1f79501410a98782c0a03b48e66df83_0\n"
     ]
    },
    {
     "name": "stderr",
     "output_type": "stream",
     "text": [
      " 95%|█████████▍| 1678/1768 [15:05<00:52,  1.71it/s]"
     ]
    },
    {
     "name": "stdout",
     "output_type": "stream",
     "text": [
      "Image and info_dict saved for f2504628e2a4c5e04bb39655b4776f57_0 in /Volumes/Newsmy/FM_dataset/VinDr-Mammo-finding/Train/f2504628e2a4c5e04bb39655b4776f57_0\n"
     ]
    },
    {
     "name": "stderr",
     "output_type": "stream",
     "text": [
      " 95%|█████████▍| 1679/1768 [15:05<00:48,  1.85it/s]"
     ]
    },
    {
     "name": "stdout",
     "output_type": "stream",
     "text": [
      "Image and info_dict saved for f27721b219f110a419193176e5e53151_0 in /Volumes/Newsmy/FM_dataset/VinDr-Mammo-finding/Train/f27721b219f110a419193176e5e53151_0\n"
     ]
    },
    {
     "name": "stderr",
     "output_type": "stream",
     "text": [
      " 95%|█████████▌| 1680/1768 [15:06<00:44,  2.00it/s]"
     ]
    },
    {
     "name": "stdout",
     "output_type": "stream",
     "text": [
      "Image and info_dict saved for f2786858678ae3f92196a0024533eaaa_0 in /Volumes/Newsmy/FM_dataset/VinDr-Mammo-finding/Train/f2786858678ae3f92196a0024533eaaa_0\n",
      "Image and info_dict saved for f2a755158e2f2f4af7d1f8b6257893f5_0 in /Volumes/Newsmy/FM_dataset/VinDr-Mammo-finding/Train/f2a755158e2f2f4af7d1f8b6257893f5_0\n",
      "Image and info_dict saved for f2a755158e2f2f4af7d1f8b6257893f5_1 in /Volumes/Newsmy/FM_dataset/VinDr-Mammo-finding/Train/f2a755158e2f2f4af7d1f8b6257893f5_1\n",
      "Image and info_dict saved for f2a755158e2f2f4af7d1f8b6257893f5_2 in /Volumes/Newsmy/FM_dataset/VinDr-Mammo-finding/Train/f2a755158e2f2f4af7d1f8b6257893f5_2\n"
     ]
    },
    {
     "name": "stderr",
     "output_type": "stream",
     "text": [
      " 95%|█████████▌| 1681/1768 [15:07<00:51,  1.68it/s]"
     ]
    },
    {
     "name": "stdout",
     "output_type": "stream",
     "text": [
      "Image and info_dict saved for f2a755158e2f2f4af7d1f8b6257893f5_3 in /Volumes/Newsmy/FM_dataset/VinDr-Mammo-finding/Train/f2a755158e2f2f4af7d1f8b6257893f5_3\n"
     ]
    },
    {
     "name": "stderr",
     "output_type": "stream",
     "text": [
      " 95%|█████████▌| 1682/1768 [15:07<00:50,  1.69it/s]"
     ]
    },
    {
     "name": "stdout",
     "output_type": "stream",
     "text": [
      "Image and info_dict saved for f2d214b69a7661d43e755f8921706206_0 in /Volumes/Newsmy/FM_dataset/VinDr-Mammo-finding/Test/f2d214b69a7661d43e755f8921706206_0\n"
     ]
    },
    {
     "name": "stderr",
     "output_type": "stream",
     "text": [
      " 95%|█████████▌| 1683/1768 [15:08<00:46,  1.84it/s]"
     ]
    },
    {
     "name": "stdout",
     "output_type": "stream",
     "text": [
      "Image and info_dict saved for f2ebfa37e63f0aa3306b4cfdd4c7a18c_0 in /Volumes/Newsmy/FM_dataset/VinDr-Mammo-finding/Train/f2ebfa37e63f0aa3306b4cfdd4c7a18c_0\n",
      "Image and info_dict saved for f2ebfa37e63f0aa3306b4cfdd4c7a18c_1 in /Volumes/Newsmy/FM_dataset/VinDr-Mammo-finding/Train/f2ebfa37e63f0aa3306b4cfdd4c7a18c_1\n"
     ]
    },
    {
     "name": "stderr",
     "output_type": "stream",
     "text": [
      " 95%|█████████▌| 1684/1768 [15:08<00:43,  1.93it/s]"
     ]
    },
    {
     "name": "stdout",
     "output_type": "stream",
     "text": [
      "Image and info_dict saved for f3711f016588cb28c893cc65cf1efcdf_0 in /Volumes/Newsmy/FM_dataset/VinDr-Mammo-finding/Train/f3711f016588cb28c893cc65cf1efcdf_0\n"
     ]
    },
    {
     "name": "stderr",
     "output_type": "stream",
     "text": [
      " 95%|█████████▌| 1685/1768 [15:09<00:44,  1.87it/s]"
     ]
    },
    {
     "name": "stdout",
     "output_type": "stream",
     "text": [
      "Image and info_dict saved for f3a4d89c558db44c3f9d81c07206a90e_0 in /Volumes/Newsmy/FM_dataset/VinDr-Mammo-finding/Train/f3a4d89c558db44c3f9d81c07206a90e_0\n"
     ]
    },
    {
     "name": "stderr",
     "output_type": "stream",
     "text": [
      " 95%|█████████▌| 1686/1768 [15:09<00:46,  1.77it/s]"
     ]
    },
    {
     "name": "stdout",
     "output_type": "stream",
     "text": [
      "Image and info_dict saved for f3b7da5f9ca3b14e89f6a66b7d1c2ef0_0 in /Volumes/Newsmy/FM_dataset/VinDr-Mammo-finding/Train/f3b7da5f9ca3b14e89f6a66b7d1c2ef0_0\n",
      "Image and info_dict saved for f3b7da5f9ca3b14e89f6a66b7d1c2ef0_1 in /Volumes/Newsmy/FM_dataset/VinDr-Mammo-finding/Train/f3b7da5f9ca3b14e89f6a66b7d1c2ef0_1\n"
     ]
    },
    {
     "name": "stderr",
     "output_type": "stream",
     "text": [
      " 95%|█████████▌| 1687/1768 [15:10<00:41,  1.95it/s]"
     ]
    },
    {
     "name": "stdout",
     "output_type": "stream",
     "text": [
      "Image and info_dict saved for f3dee44f17d451479bf163107dbb9cf4_0 in /Volumes/Newsmy/FM_dataset/VinDr-Mammo-finding/Eval/f3dee44f17d451479bf163107dbb9cf4_0\n",
      "Image and info_dict saved for f3dee44f17d451479bf163107dbb9cf4_1 in /Volumes/Newsmy/FM_dataset/VinDr-Mammo-finding/Eval/f3dee44f17d451479bf163107dbb9cf4_1\n"
     ]
    },
    {
     "name": "stderr",
     "output_type": "stream",
     "text": [
      " 95%|█████████▌| 1688/1768 [15:10<00:37,  2.11it/s]"
     ]
    },
    {
     "name": "stdout",
     "output_type": "stream",
     "text": [
      "Image and info_dict saved for f3f7753468997b03b3d8707edd9bef37_0 in /Volumes/Newsmy/FM_dataset/VinDr-Mammo-finding/Train/f3f7753468997b03b3d8707edd9bef37_0\n"
     ]
    },
    {
     "name": "stderr",
     "output_type": "stream",
     "text": [
      " 96%|█████████▌| 1689/1768 [15:10<00:36,  2.16it/s]"
     ]
    },
    {
     "name": "stdout",
     "output_type": "stream",
     "text": [
      "Image and info_dict saved for f408e08de2e665c068356dee7afd9b18_0 in /Volumes/Newsmy/FM_dataset/VinDr-Mammo-finding/Train/f408e08de2e665c068356dee7afd9b18_0\n"
     ]
    },
    {
     "name": "stderr",
     "output_type": "stream",
     "text": [
      " 96%|█████████▌| 1690/1768 [15:11<00:34,  2.25it/s]"
     ]
    },
    {
     "name": "stdout",
     "output_type": "stream",
     "text": [
      "Image and info_dict saved for f4148e1f2c31d89196e03761e4c23315_0 in /Volumes/Newsmy/FM_dataset/VinDr-Mammo-finding/Train/f4148e1f2c31d89196e03761e4c23315_0\n"
     ]
    },
    {
     "name": "stderr",
     "output_type": "stream",
     "text": [
      " 96%|█████████▌| 1691/1768 [15:11<00:34,  2.26it/s]"
     ]
    },
    {
     "name": "stdout",
     "output_type": "stream",
     "text": [
      "Image and info_dict saved for f440c8794f743a8652cf8b76cc666f72_0 in /Volumes/Newsmy/FM_dataset/VinDr-Mammo-finding/Train/f440c8794f743a8652cf8b76cc666f72_0\n"
     ]
    },
    {
     "name": "stderr",
     "output_type": "stream",
     "text": [
      " 96%|█████████▌| 1692/1768 [15:12<00:35,  2.17it/s]"
     ]
    },
    {
     "name": "stdout",
     "output_type": "stream",
     "text": [
      "Image and info_dict saved for f448ee036cf84e001c689b24b05cf96c_0 in /Volumes/Newsmy/FM_dataset/VinDr-Mammo-finding/Train/f448ee036cf84e001c689b24b05cf96c_0\n"
     ]
    },
    {
     "name": "stderr",
     "output_type": "stream",
     "text": [
      " 96%|█████████▌| 1693/1768 [15:12<00:35,  2.09it/s]"
     ]
    },
    {
     "name": "stdout",
     "output_type": "stream",
     "text": [
      "Image and info_dict saved for f48421c66df7a8d198f64022fbc6b5c8_0 in /Volumes/Newsmy/FM_dataset/VinDr-Mammo-finding/Train/f48421c66df7a8d198f64022fbc6b5c8_0\n"
     ]
    },
    {
     "name": "stderr",
     "output_type": "stream",
     "text": [
      " 96%|█████████▌| 1694/1768 [15:13<00:33,  2.23it/s]"
     ]
    },
    {
     "name": "stdout",
     "output_type": "stream",
     "text": [
      "Image and info_dict saved for f4ba658d56e0d50cb0093fa1052e1972_0 in /Volumes/Newsmy/FM_dataset/VinDr-Mammo-finding/Train/f4ba658d56e0d50cb0093fa1052e1972_0\n"
     ]
    },
    {
     "name": "stderr",
     "output_type": "stream",
     "text": [
      " 96%|█████████▌| 1695/1768 [15:13<00:34,  2.14it/s]"
     ]
    },
    {
     "name": "stdout",
     "output_type": "stream",
     "text": [
      "Image and info_dict saved for f502474200958c14accc60cd2d319ccf_0 in /Volumes/Newsmy/FM_dataset/VinDr-Mammo-finding/Train/f502474200958c14accc60cd2d319ccf_0\n"
     ]
    },
    {
     "name": "stderr",
     "output_type": "stream",
     "text": [
      " 96%|█████████▌| 1696/1768 [15:14<00:33,  2.12it/s]"
     ]
    },
    {
     "name": "stdout",
     "output_type": "stream",
     "text": [
      "Image and info_dict saved for f50d531553d2958b575c4f5bb7141b17_0 in /Volumes/Newsmy/FM_dataset/VinDr-Mammo-finding/Test/f50d531553d2958b575c4f5bb7141b17_0\n"
     ]
    },
    {
     "name": "stderr",
     "output_type": "stream",
     "text": [
      " 96%|█████████▌| 1697/1768 [15:14<00:35,  2.02it/s]"
     ]
    },
    {
     "name": "stdout",
     "output_type": "stream",
     "text": [
      "Image and info_dict saved for f51e0c5db5201a2cf58b424437007197_0 in /Volumes/Newsmy/FM_dataset/VinDr-Mammo-finding/Train/f51e0c5db5201a2cf58b424437007197_0\n"
     ]
    },
    {
     "name": "stderr",
     "output_type": "stream",
     "text": [
      " 96%|█████████▌| 1698/1768 [15:15<00:35,  1.98it/s]"
     ]
    },
    {
     "name": "stdout",
     "output_type": "stream",
     "text": [
      "Image and info_dict saved for f5423eafd23bac6bf7452214fe3c5c07_0 in /Volumes/Newsmy/FM_dataset/VinDr-Mammo-finding/Train/f5423eafd23bac6bf7452214fe3c5c07_0\n"
     ]
    },
    {
     "name": "stderr",
     "output_type": "stream",
     "text": [
      " 96%|█████████▌| 1699/1768 [15:15<00:32,  2.12it/s]"
     ]
    },
    {
     "name": "stdout",
     "output_type": "stream",
     "text": [
      "Image and info_dict saved for f54b07517cb46e8a59c1c10748bdb5ed_0 in /Volumes/Newsmy/FM_dataset/VinDr-Mammo-finding/Test/f54b07517cb46e8a59c1c10748bdb5ed_0\n",
      "Image and info_dict saved for f54b07517cb46e8a59c1c10748bdb5ed_1 in /Volumes/Newsmy/FM_dataset/VinDr-Mammo-finding/Test/f54b07517cb46e8a59c1c10748bdb5ed_1\n"
     ]
    },
    {
     "name": "stderr",
     "output_type": "stream",
     "text": [
      " 96%|█████████▌| 1700/1768 [15:16<00:33,  2.01it/s]"
     ]
    },
    {
     "name": "stdout",
     "output_type": "stream",
     "text": [
      "Image and info_dict saved for f56a57a109aed21840b83c8453e06a6e_0 in /Volumes/Newsmy/FM_dataset/VinDr-Mammo-finding/Train/f56a57a109aed21840b83c8453e06a6e_0\n",
      "Image and info_dict saved for f56a57a109aed21840b83c8453e06a6e_1 in /Volumes/Newsmy/FM_dataset/VinDr-Mammo-finding/Train/f56a57a109aed21840b83c8453e06a6e_1\n"
     ]
    },
    {
     "name": "stderr",
     "output_type": "stream",
     "text": [
      " 96%|█████████▌| 1701/1768 [15:16<00:32,  2.09it/s]"
     ]
    },
    {
     "name": "stdout",
     "output_type": "stream",
     "text": [
      "Image and info_dict saved for f581ef53bb7e61f4575db33eceac8ff8_0 in /Volumes/Newsmy/FM_dataset/VinDr-Mammo-finding/Train/f581ef53bb7e61f4575db33eceac8ff8_0\n"
     ]
    },
    {
     "name": "stderr",
     "output_type": "stream",
     "text": [
      " 96%|█████████▋| 1702/1768 [15:17<00:31,  2.08it/s]"
     ]
    },
    {
     "name": "stdout",
     "output_type": "stream",
     "text": [
      "Image and info_dict saved for f5b9c502a087f77d0606b0291a2e0606_0 in /Volumes/Newsmy/FM_dataset/VinDr-Mammo-finding/Test/f5b9c502a087f77d0606b0291a2e0606_0\n"
     ]
    },
    {
     "name": "stderr",
     "output_type": "stream",
     "text": [
      " 96%|█████████▋| 1703/1768 [15:17<00:30,  2.13it/s]"
     ]
    },
    {
     "name": "stdout",
     "output_type": "stream",
     "text": [
      "Image and info_dict saved for f5f3ccc0b7e731df08c1768258aa1efd_0 in /Volumes/Newsmy/FM_dataset/VinDr-Mammo-finding/Train/f5f3ccc0b7e731df08c1768258aa1efd_0\n",
      "Image and info_dict saved for f60e4a6ab3f58f13e178fe8d98e532c5_0 in /Volumes/Newsmy/FM_dataset/VinDr-Mammo-finding/Test/f60e4a6ab3f58f13e178fe8d98e532c5_0\n",
      "Image and info_dict saved for f60e4a6ab3f58f13e178fe8d98e532c5_1 in /Volumes/Newsmy/FM_dataset/VinDr-Mammo-finding/Test/f60e4a6ab3f58f13e178fe8d98e532c5_1\n"
     ]
    },
    {
     "name": "stderr",
     "output_type": "stream",
     "text": [
      " 96%|█████████▋| 1704/1768 [15:18<00:33,  1.89it/s]"
     ]
    },
    {
     "name": "stdout",
     "output_type": "stream",
     "text": [
      "Image and info_dict saved for f60e4a6ab3f58f13e178fe8d98e532c5_2 in /Volumes/Newsmy/FM_dataset/VinDr-Mammo-finding/Test/f60e4a6ab3f58f13e178fe8d98e532c5_2\n"
     ]
    },
    {
     "name": "stderr",
     "output_type": "stream",
     "text": [
      " 96%|█████████▋| 1705/1768 [15:18<00:33,  1.89it/s]"
     ]
    },
    {
     "name": "stdout",
     "output_type": "stream",
     "text": [
      "Image and info_dict saved for f64044166ba386f5b0114bafd5fb9fd9_0 in /Volumes/Newsmy/FM_dataset/VinDr-Mammo-finding/Train/f64044166ba386f5b0114bafd5fb9fd9_0\n"
     ]
    },
    {
     "name": "stderr",
     "output_type": "stream",
     "text": [
      " 96%|█████████▋| 1706/1768 [15:19<00:33,  1.88it/s]"
     ]
    },
    {
     "name": "stdout",
     "output_type": "stream",
     "text": [
      "Image and info_dict saved for f6b19e19ebc1302afc17c9a3140a4ae9_0 in /Volumes/Newsmy/FM_dataset/VinDr-Mammo-finding/Train/f6b19e19ebc1302afc17c9a3140a4ae9_0\n"
     ]
    },
    {
     "name": "stderr",
     "output_type": "stream",
     "text": [
      " 97%|█████████▋| 1707/1768 [15:19<00:31,  1.92it/s]"
     ]
    },
    {
     "name": "stdout",
     "output_type": "stream",
     "text": [
      "Image and info_dict saved for f6c7f3c3e03d612002800f20b1282309_0 in /Volumes/Newsmy/FM_dataset/VinDr-Mammo-finding/Train/f6c7f3c3e03d612002800f20b1282309_0\n"
     ]
    },
    {
     "name": "stderr",
     "output_type": "stream",
     "text": [
      " 97%|█████████▋| 1708/1768 [15:20<00:28,  2.08it/s]"
     ]
    },
    {
     "name": "stdout",
     "output_type": "stream",
     "text": [
      "Image and info_dict saved for f6ef3ace1f818d483e8f20e8c35d1bc2_0 in /Volumes/Newsmy/FM_dataset/VinDr-Mammo-finding/Train/f6ef3ace1f818d483e8f20e8c35d1bc2_0\n"
     ]
    },
    {
     "name": "stderr",
     "output_type": "stream",
     "text": [
      " 97%|█████████▋| 1709/1768 [15:20<00:29,  1.97it/s]"
     ]
    },
    {
     "name": "stdout",
     "output_type": "stream",
     "text": [
      "Image and info_dict saved for f71ca674d3bf9549f9e68b67ead86d25_0 in /Volumes/Newsmy/FM_dataset/VinDr-Mammo-finding/Test/f71ca674d3bf9549f9e68b67ead86d25_0\n"
     ]
    },
    {
     "name": "stderr",
     "output_type": "stream",
     "text": [
      " 97%|█████████▋| 1710/1768 [15:21<00:27,  2.13it/s]"
     ]
    },
    {
     "name": "stdout",
     "output_type": "stream",
     "text": [
      "Image and info_dict saved for f727cb1ce049cd0f565a7bf1e919a5bf_0 in /Volumes/Newsmy/FM_dataset/VinDr-Mammo-finding/Test/f727cb1ce049cd0f565a7bf1e919a5bf_0\n"
     ]
    },
    {
     "name": "stderr",
     "output_type": "stream",
     "text": [
      " 97%|█████████▋| 1711/1768 [15:21<00:27,  2.05it/s]"
     ]
    },
    {
     "name": "stdout",
     "output_type": "stream",
     "text": [
      "Image and info_dict saved for f75e7aff7268ba2e462c284e30cfc5b5_0 in /Volumes/Newsmy/FM_dataset/VinDr-Mammo-finding/Test/f75e7aff7268ba2e462c284e30cfc5b5_0\n"
     ]
    },
    {
     "name": "stderr",
     "output_type": "stream",
     "text": [
      " 97%|█████████▋| 1712/1768 [15:22<00:32,  1.73it/s]"
     ]
    },
    {
     "name": "stdout",
     "output_type": "stream",
     "text": [
      "Image and info_dict saved for f78853b3aa2445fb60d677f6f5d82ca7_0 in /Volumes/Newsmy/FM_dataset/VinDr-Mammo-finding/Train/f78853b3aa2445fb60d677f6f5d82ca7_0\n"
     ]
    },
    {
     "name": "stderr",
     "output_type": "stream",
     "text": [
      " 97%|█████████▋| 1713/1768 [15:23<00:39,  1.41it/s]"
     ]
    },
    {
     "name": "stdout",
     "output_type": "stream",
     "text": [
      "Image and info_dict saved for f7991e3050b979c13e12fde5d5634b28_0 in /Volumes/Newsmy/FM_dataset/VinDr-Mammo-finding/Train/f7991e3050b979c13e12fde5d5634b28_0\n"
     ]
    },
    {
     "name": "stderr",
     "output_type": "stream",
     "text": [
      " 97%|█████████▋| 1714/1768 [15:24<00:35,  1.52it/s]"
     ]
    },
    {
     "name": "stdout",
     "output_type": "stream",
     "text": [
      "Image and info_dict saved for f7b6c452218153d612c4c28f14971296_0 in /Volumes/Newsmy/FM_dataset/VinDr-Mammo-finding/Train/f7b6c452218153d612c4c28f14971296_0\n"
     ]
    },
    {
     "name": "stderr",
     "output_type": "stream",
     "text": [
      " 97%|█████████▋| 1715/1768 [15:24<00:29,  1.78it/s]"
     ]
    },
    {
     "name": "stdout",
     "output_type": "stream",
     "text": [
      "Image and info_dict saved for f7cdf7b22955e66d34cc1efccdab5fbf_0 in /Volumes/Newsmy/FM_dataset/VinDr-Mammo-finding/Test/f7cdf7b22955e66d34cc1efccdab5fbf_0\n"
     ]
    },
    {
     "name": "stderr",
     "output_type": "stream",
     "text": [
      " 97%|█████████▋| 1716/1768 [15:24<00:27,  1.88it/s]"
     ]
    },
    {
     "name": "stdout",
     "output_type": "stream",
     "text": [
      "Image and info_dict saved for f7d9acd8e1f576d801c24f90ad5a99d3_0 in /Volumes/Newsmy/FM_dataset/VinDr-Mammo-finding/Test/f7d9acd8e1f576d801c24f90ad5a99d3_0\n"
     ]
    },
    {
     "name": "stderr",
     "output_type": "stream",
     "text": [
      " 97%|█████████▋| 1717/1768 [15:25<00:30,  1.70it/s]"
     ]
    },
    {
     "name": "stdout",
     "output_type": "stream",
     "text": [
      "Image and info_dict saved for f824ca07593cb971f4d2348de8def504_0 in /Volumes/Newsmy/FM_dataset/VinDr-Mammo-finding/Train/f824ca07593cb971f4d2348de8def504_0\n"
     ]
    },
    {
     "name": "stderr",
     "output_type": "stream",
     "text": [
      " 97%|█████████▋| 1718/1768 [15:25<00:26,  1.86it/s]"
     ]
    },
    {
     "name": "stdout",
     "output_type": "stream",
     "text": [
      "Image and info_dict saved for f8b75219cf050a795846c2772fad3e94_0 in /Volumes/Newsmy/FM_dataset/VinDr-Mammo-finding/Eval/f8b75219cf050a795846c2772fad3e94_0\n",
      "Image and info_dict saved for f8bbdcf948609aea0b384583364379e5_0 in /Volumes/Newsmy/FM_dataset/VinDr-Mammo-finding/Train/f8bbdcf948609aea0b384583364379e5_0\n",
      "Image and info_dict saved for f8bbdcf948609aea0b384583364379e5_1 in /Volumes/Newsmy/FM_dataset/VinDr-Mammo-finding/Train/f8bbdcf948609aea0b384583364379e5_1\n"
     ]
    },
    {
     "name": "stderr",
     "output_type": "stream",
     "text": [
      " 97%|█████████▋| 1719/1768 [15:26<00:28,  1.73it/s]"
     ]
    },
    {
     "name": "stdout",
     "output_type": "stream",
     "text": [
      "Image and info_dict saved for f8bbdcf948609aea0b384583364379e5_2 in /Volumes/Newsmy/FM_dataset/VinDr-Mammo-finding/Train/f8bbdcf948609aea0b384583364379e5_2\n"
     ]
    },
    {
     "name": "stderr",
     "output_type": "stream",
     "text": [
      " 97%|█████████▋| 1720/1768 [15:27<00:29,  1.65it/s]"
     ]
    },
    {
     "name": "stdout",
     "output_type": "stream",
     "text": [
      "Image and info_dict saved for f8bfea7bae6392d0db67fddb39dcee32_0 in /Volumes/Newsmy/FM_dataset/VinDr-Mammo-finding/Train/f8bfea7bae6392d0db67fddb39dcee32_0\n"
     ]
    },
    {
     "name": "stderr",
     "output_type": "stream",
     "text": [
      " 97%|█████████▋| 1721/1768 [15:27<00:27,  1.68it/s]"
     ]
    },
    {
     "name": "stdout",
     "output_type": "stream",
     "text": [
      "Image and info_dict saved for f909934b0d96d977fffee6ee0777a1a7_0 in /Volumes/Newsmy/FM_dataset/VinDr-Mammo-finding/Train/f909934b0d96d977fffee6ee0777a1a7_0\n"
     ]
    },
    {
     "name": "stderr",
     "output_type": "stream",
     "text": [
      " 97%|█████████▋| 1722/1768 [15:28<00:24,  1.84it/s]"
     ]
    },
    {
     "name": "stdout",
     "output_type": "stream",
     "text": [
      "Image and info_dict saved for f90d9c5b3c032980a35d7bface8e8fd4_0 in /Volumes/Newsmy/FM_dataset/VinDr-Mammo-finding/Train/f90d9c5b3c032980a35d7bface8e8fd4_0\n"
     ]
    },
    {
     "name": "stderr",
     "output_type": "stream",
     "text": [
      " 97%|█████████▋| 1723/1768 [15:28<00:22,  2.02it/s]"
     ]
    },
    {
     "name": "stdout",
     "output_type": "stream",
     "text": [
      "Image and info_dict saved for f90ec8e52522a65d1c0c9f999837cc6c_0 in /Volumes/Newsmy/FM_dataset/VinDr-Mammo-finding/Train/f90ec8e52522a65d1c0c9f999837cc6c_0\n"
     ]
    },
    {
     "name": "stderr",
     "output_type": "stream",
     "text": [
      " 98%|█████████▊| 1724/1768 [15:29<00:22,  1.95it/s]"
     ]
    },
    {
     "name": "stdout",
     "output_type": "stream",
     "text": [
      "Image and info_dict saved for f910a580645aee0ea0147a66c27c6fbf_0 in /Volumes/Newsmy/FM_dataset/VinDr-Mammo-finding/Train/f910a580645aee0ea0147a66c27c6fbf_0\n"
     ]
    },
    {
     "name": "stderr",
     "output_type": "stream",
     "text": [
      " 98%|█████████▊| 1725/1768 [15:29<00:23,  1.85it/s]"
     ]
    },
    {
     "name": "stdout",
     "output_type": "stream",
     "text": [
      "Image and info_dict saved for f9326c0d08afc3d402d21dd075feed3b_0 in /Volumes/Newsmy/FM_dataset/VinDr-Mammo-finding/Train/f9326c0d08afc3d402d21dd075feed3b_0\n"
     ]
    },
    {
     "name": "stderr",
     "output_type": "stream",
     "text": [
      " 98%|█████████▊| 1726/1768 [15:30<00:21,  1.93it/s]"
     ]
    },
    {
     "name": "stdout",
     "output_type": "stream",
     "text": [
      "Image and info_dict saved for f978cb9d32a74171873fb280779aa37f_0 in /Volumes/Newsmy/FM_dataset/VinDr-Mammo-finding/Test/f978cb9d32a74171873fb280779aa37f_0\n",
      "Image and info_dict saved for f978cb9d32a74171873fb280779aa37f_1 in /Volumes/Newsmy/FM_dataset/VinDr-Mammo-finding/Test/f978cb9d32a74171873fb280779aa37f_1\n",
      "Image and info_dict saved for f97cd5b8d0049cbceda56350c01a66d5_0 in /Volumes/Newsmy/FM_dataset/VinDr-Mammo-finding/Train/f97cd5b8d0049cbceda56350c01a66d5_0\n",
      "Image and info_dict saved for f97cd5b8d0049cbceda56350c01a66d5_1 in /Volumes/Newsmy/FM_dataset/VinDr-Mammo-finding/Train/f97cd5b8d0049cbceda56350c01a66d5_1\n"
     ]
    },
    {
     "name": "stderr",
     "output_type": "stream",
     "text": [
      " 98%|█████████▊| 1727/1768 [15:30<00:23,  1.76it/s]"
     ]
    },
    {
     "name": "stdout",
     "output_type": "stream",
     "text": [
      "Image and info_dict saved for f97cd5b8d0049cbceda56350c01a66d5_2 in /Volumes/Newsmy/FM_dataset/VinDr-Mammo-finding/Train/f97cd5b8d0049cbceda56350c01a66d5_2\n"
     ]
    },
    {
     "name": "stderr",
     "output_type": "stream",
     "text": [
      " 98%|█████████▊| 1728/1768 [15:31<00:21,  1.85it/s]"
     ]
    },
    {
     "name": "stdout",
     "output_type": "stream",
     "text": [
      "Image and info_dict saved for f9918b3feb92e1f38a0c86a6a28c14a0_0 in /Volumes/Newsmy/FM_dataset/VinDr-Mammo-finding/Train/f9918b3feb92e1f38a0c86a6a28c14a0_0\n"
     ]
    },
    {
     "name": "stderr",
     "output_type": "stream",
     "text": [
      " 98%|█████████▊| 1729/1768 [15:31<00:20,  1.87it/s]"
     ]
    },
    {
     "name": "stdout",
     "output_type": "stream",
     "text": [
      "Image and info_dict saved for f99e08afa8e94624cc4e4d71b272c44d_0 in /Volumes/Newsmy/FM_dataset/VinDr-Mammo-finding/Eval/f99e08afa8e94624cc4e4d71b272c44d_0\n"
     ]
    },
    {
     "name": "stderr",
     "output_type": "stream",
     "text": [
      " 98%|█████████▊| 1730/1768 [15:32<00:19,  1.91it/s]"
     ]
    },
    {
     "name": "stdout",
     "output_type": "stream",
     "text": [
      "Image and info_dict saved for f9a54449757586583a8f36ccc821f7ac_0 in /Volumes/Newsmy/FM_dataset/VinDr-Mammo-finding/Train/f9a54449757586583a8f36ccc821f7ac_0\n"
     ]
    },
    {
     "name": "stderr",
     "output_type": "stream",
     "text": [
      " 98%|█████████▊| 1731/1768 [15:33<00:21,  1.73it/s]"
     ]
    },
    {
     "name": "stdout",
     "output_type": "stream",
     "text": [
      "Image and info_dict saved for fa0104443e2e60effcb1e0222a9b015d_0 in /Volumes/Newsmy/FM_dataset/VinDr-Mammo-finding/Train/fa0104443e2e60effcb1e0222a9b015d_0\n",
      "Image and info_dict saved for fa0104443e2e60effcb1e0222a9b015d_1 in /Volumes/Newsmy/FM_dataset/VinDr-Mammo-finding/Train/fa0104443e2e60effcb1e0222a9b015d_1\n"
     ]
    },
    {
     "name": "stderr",
     "output_type": "stream",
     "text": [
      " 98%|█████████▊| 1732/1768 [15:33<00:19,  1.84it/s]"
     ]
    },
    {
     "name": "stdout",
     "output_type": "stream",
     "text": [
      "Image and info_dict saved for fa0d61ab7e2e1115fa871ff94d457d9b_0 in /Volumes/Newsmy/FM_dataset/VinDr-Mammo-finding/Train/fa0d61ab7e2e1115fa871ff94d457d9b_0\n"
     ]
    },
    {
     "name": "stderr",
     "output_type": "stream",
     "text": [
      " 98%|█████████▊| 1733/1768 [15:34<00:19,  1.76it/s]"
     ]
    },
    {
     "name": "stdout",
     "output_type": "stream",
     "text": [
      "Image and info_dict saved for fa145776ca39abb6df42fc67e519bcf3_0 in /Volumes/Newsmy/FM_dataset/VinDr-Mammo-finding/Train/fa145776ca39abb6df42fc67e519bcf3_0\n",
      "Image and info_dict saved for fa145776ca39abb6df42fc67e519bcf3_1 in /Volumes/Newsmy/FM_dataset/VinDr-Mammo-finding/Train/fa145776ca39abb6df42fc67e519bcf3_1\n"
     ]
    },
    {
     "name": "stderr",
     "output_type": "stream",
     "text": [
      " 98%|█████████▊| 1734/1768 [15:34<00:18,  1.82it/s]"
     ]
    },
    {
     "name": "stdout",
     "output_type": "stream",
     "text": [
      "Image and info_dict saved for fa2f7816bf1b07f2104aa4edeff9b107_0 in /Volumes/Newsmy/FM_dataset/VinDr-Mammo-finding/Test/fa2f7816bf1b07f2104aa4edeff9b107_0\n"
     ]
    },
    {
     "name": "stderr",
     "output_type": "stream",
     "text": [
      " 98%|█████████▊| 1735/1768 [15:35<00:17,  1.91it/s]"
     ]
    },
    {
     "name": "stdout",
     "output_type": "stream",
     "text": [
      "Image and info_dict saved for fa4f9cc52819bd2aa35c57ad8a83113a_0 in /Volumes/Newsmy/FM_dataset/VinDr-Mammo-finding/Eval/fa4f9cc52819bd2aa35c57ad8a83113a_0\n"
     ]
    },
    {
     "name": "stderr",
     "output_type": "stream",
     "text": [
      " 98%|█████████▊| 1736/1768 [15:35<00:16,  1.99it/s]"
     ]
    },
    {
     "name": "stdout",
     "output_type": "stream",
     "text": [
      "Image and info_dict saved for fa62bfb18ecd5fe37a4cc21b957a4eed_0 in /Volumes/Newsmy/FM_dataset/VinDr-Mammo-finding/Train/fa62bfb18ecd5fe37a4cc21b957a4eed_0\n"
     ]
    },
    {
     "name": "stderr",
     "output_type": "stream",
     "text": [
      " 98%|█████████▊| 1737/1768 [15:36<00:17,  1.82it/s]"
     ]
    },
    {
     "name": "stdout",
     "output_type": "stream",
     "text": [
      "Image and info_dict saved for fa81d6994805601937dd950bca2e61a0_0 in /Volumes/Newsmy/FM_dataset/VinDr-Mammo-finding/Train/fa81d6994805601937dd950bca2e61a0_0\n"
     ]
    },
    {
     "name": "stderr",
     "output_type": "stream",
     "text": [
      " 98%|█████████▊| 1738/1768 [15:37<00:17,  1.70it/s]"
     ]
    },
    {
     "name": "stdout",
     "output_type": "stream",
     "text": [
      "Image and info_dict saved for fa8e8eee66d4b88a869e9ced96a2238f_0 in /Volumes/Newsmy/FM_dataset/VinDr-Mammo-finding/Train/fa8e8eee66d4b88a869e9ced96a2238f_0\n"
     ]
    },
    {
     "name": "stderr",
     "output_type": "stream",
     "text": [
      " 98%|█████████▊| 1739/1768 [15:37<00:17,  1.65it/s]"
     ]
    },
    {
     "name": "stdout",
     "output_type": "stream",
     "text": [
      "Image and info_dict saved for fabc21b31c91a6f8b0900a6767d46515_0 in /Volumes/Newsmy/FM_dataset/VinDr-Mammo-finding/Train/fabc21b31c91a6f8b0900a6767d46515_0\n",
      "Image and info_dict saved for fabc21b31c91a6f8b0900a6767d46515_1 in /Volumes/Newsmy/FM_dataset/VinDr-Mammo-finding/Train/fabc21b31c91a6f8b0900a6767d46515_1\n"
     ]
    },
    {
     "name": "stderr",
     "output_type": "stream",
     "text": [
      " 98%|█████████▊| 1740/1768 [15:38<00:15,  1.81it/s]"
     ]
    },
    {
     "name": "stdout",
     "output_type": "stream",
     "text": [
      "Image and info_dict saved for fad1035fa251f5f7fc318dea403aa7dc_0 in /Volumes/Newsmy/FM_dataset/VinDr-Mammo-finding/Train/fad1035fa251f5f7fc318dea403aa7dc_0\n"
     ]
    },
    {
     "name": "stderr",
     "output_type": "stream",
     "text": [
      " 98%|█████████▊| 1741/1768 [15:38<00:15,  1.79it/s]"
     ]
    },
    {
     "name": "stdout",
     "output_type": "stream",
     "text": [
      "Image and info_dict saved for fae5f8cf37f37b672454a67ff7b16ef0_0 in /Volumes/Newsmy/FM_dataset/VinDr-Mammo-finding/Train/fae5f8cf37f37b672454a67ff7b16ef0_0\n"
     ]
    },
    {
     "name": "stderr",
     "output_type": "stream",
     "text": [
      " 99%|█████████▊| 1742/1768 [15:39<00:14,  1.78it/s]"
     ]
    },
    {
     "name": "stdout",
     "output_type": "stream",
     "text": [
      "Image and info_dict saved for fb16653152c4808c9e759888d15e42c4_0 in /Volumes/Newsmy/FM_dataset/VinDr-Mammo-finding/Train/fb16653152c4808c9e759888d15e42c4_0\n"
     ]
    },
    {
     "name": "stderr",
     "output_type": "stream",
     "text": [
      " 99%|█████████▊| 1743/1768 [15:39<00:13,  1.86it/s]"
     ]
    },
    {
     "name": "stdout",
     "output_type": "stream",
     "text": [
      "Image and info_dict saved for fb37f7f1423480f1173ff376ca8e6ada_0 in /Volumes/Newsmy/FM_dataset/VinDr-Mammo-finding/Train/fb37f7f1423480f1173ff376ca8e6ada_0\n"
     ]
    },
    {
     "name": "stderr",
     "output_type": "stream",
     "text": [
      " 99%|█████████▊| 1744/1768 [15:40<00:12,  1.91it/s]"
     ]
    },
    {
     "name": "stdout",
     "output_type": "stream",
     "text": [
      "Image and info_dict saved for fb3eca52ff53f6b49df9ea75bf2b9dd7_0 in /Volumes/Newsmy/FM_dataset/VinDr-Mammo-finding/Train/fb3eca52ff53f6b49df9ea75bf2b9dd7_0\n"
     ]
    },
    {
     "name": "stderr",
     "output_type": "stream",
     "text": [
      " 99%|█████████▊| 1745/1768 [15:40<00:12,  1.82it/s]"
     ]
    },
    {
     "name": "stdout",
     "output_type": "stream",
     "text": [
      "Image and info_dict saved for fb413cf6ef972090326d9886fa500aa2_0 in /Volumes/Newsmy/FM_dataset/VinDr-Mammo-finding/Test/fb413cf6ef972090326d9886fa500aa2_0\n"
     ]
    },
    {
     "name": "stderr",
     "output_type": "stream",
     "text": [
      " 99%|█████████▉| 1746/1768 [15:41<00:11,  1.99it/s]"
     ]
    },
    {
     "name": "stdout",
     "output_type": "stream",
     "text": [
      "Image and info_dict saved for fb70bcb1b4be4e6942a47e775b497aec_0 in /Volumes/Newsmy/FM_dataset/VinDr-Mammo-finding/Test/fb70bcb1b4be4e6942a47e775b497aec_0\n"
     ]
    },
    {
     "name": "stderr",
     "output_type": "stream",
     "text": [
      " 99%|█████████▉| 1747/1768 [15:41<00:10,  1.99it/s]"
     ]
    },
    {
     "name": "stdout",
     "output_type": "stream",
     "text": [
      "Image and info_dict saved for fbe89362c0679ef85b12823a1a3fd3de_0 in /Volumes/Newsmy/FM_dataset/VinDr-Mammo-finding/Eval/fbe89362c0679ef85b12823a1a3fd3de_0\n"
     ]
    },
    {
     "name": "stderr",
     "output_type": "stream",
     "text": [
      " 99%|█████████▉| 1748/1768 [15:42<00:10,  1.83it/s]"
     ]
    },
    {
     "name": "stdout",
     "output_type": "stream",
     "text": [
      "Image and info_dict saved for fc35547785ce94420408f99bbfad57fb_0 in /Volumes/Newsmy/FM_dataset/VinDr-Mammo-finding/Eval/fc35547785ce94420408f99bbfad57fb_0\n"
     ]
    },
    {
     "name": "stderr",
     "output_type": "stream",
     "text": [
      " 99%|█████████▉| 1749/1768 [15:42<00:10,  1.76it/s]"
     ]
    },
    {
     "name": "stdout",
     "output_type": "stream",
     "text": [
      "Image and info_dict saved for fc6a348a61d4282a66ac2dc6dbec5981_0 in /Volumes/Newsmy/FM_dataset/VinDr-Mammo-finding/Train/fc6a348a61d4282a66ac2dc6dbec5981_0\n",
      "Image and info_dict saved for fc6a348a61d4282a66ac2dc6dbec5981_1 in /Volumes/Newsmy/FM_dataset/VinDr-Mammo-finding/Train/fc6a348a61d4282a66ac2dc6dbec5981_1\n",
      "Image and info_dict saved for fc869569babcc087c18d01ff23b27a18_0 in /Volumes/Newsmy/FM_dataset/VinDr-Mammo-finding/Test/fc869569babcc087c18d01ff23b27a18_0\n",
      "Image and info_dict saved for fc869569babcc087c18d01ff23b27a18_1 in /Volumes/Newsmy/FM_dataset/VinDr-Mammo-finding/Test/fc869569babcc087c18d01ff23b27a18_1\n"
     ]
    },
    {
     "name": "stderr",
     "output_type": "stream",
     "text": [
      " 99%|█████████▉| 1750/1768 [15:43<00:09,  1.83it/s]"
     ]
    },
    {
     "name": "stdout",
     "output_type": "stream",
     "text": [
      "Image and info_dict saved for fc869569babcc087c18d01ff23b27a18_2 in /Volumes/Newsmy/FM_dataset/VinDr-Mammo-finding/Test/fc869569babcc087c18d01ff23b27a18_2\n"
     ]
    },
    {
     "name": "stderr",
     "output_type": "stream",
     "text": [
      " 99%|█████████▉| 1751/1768 [15:44<00:09,  1.78it/s]"
     ]
    },
    {
     "name": "stdout",
     "output_type": "stream",
     "text": [
      "Image and info_dict saved for fca53ee93a666b922a4d11c07501143f_0 in /Volumes/Newsmy/FM_dataset/VinDr-Mammo-finding/Train/fca53ee93a666b922a4d11c07501143f_0\n"
     ]
    },
    {
     "name": "stderr",
     "output_type": "stream",
     "text": [
      " 99%|█████████▉| 1752/1768 [15:44<00:08,  1.91it/s]"
     ]
    },
    {
     "name": "stdout",
     "output_type": "stream",
     "text": [
      "Image and info_dict saved for fcfc75c0adef3f1491137de3f855d39c_0 in /Volumes/Newsmy/FM_dataset/VinDr-Mammo-finding/Train/fcfc75c0adef3f1491137de3f855d39c_0\n"
     ]
    },
    {
     "name": "stderr",
     "output_type": "stream",
     "text": [
      " 99%|█████████▉| 1753/1768 [15:45<00:08,  1.76it/s]"
     ]
    },
    {
     "name": "stdout",
     "output_type": "stream",
     "text": [
      "Image and info_dict saved for fd0c0b70adb9608b5b2dcf57f05668f3_0 in /Volumes/Newsmy/FM_dataset/VinDr-Mammo-finding/Eval/fd0c0b70adb9608b5b2dcf57f05668f3_0\n"
     ]
    },
    {
     "name": "stderr",
     "output_type": "stream",
     "text": [
      " 99%|█████████▉| 1754/1768 [15:45<00:07,  1.76it/s]"
     ]
    },
    {
     "name": "stdout",
     "output_type": "stream",
     "text": [
      "Image and info_dict saved for fd3a1956f031a897741ae12ba7356b40_0 in /Volumes/Newsmy/FM_dataset/VinDr-Mammo-finding/Train/fd3a1956f031a897741ae12ba7356b40_0\n"
     ]
    },
    {
     "name": "stderr",
     "output_type": "stream",
     "text": [
      " 99%|█████████▉| 1755/1768 [15:46<00:07,  1.77it/s]"
     ]
    },
    {
     "name": "stdout",
     "output_type": "stream",
     "text": [
      "Image and info_dict saved for fd5b39474bd0c0e81bf3af47bbc0c487_0 in /Volumes/Newsmy/FM_dataset/VinDr-Mammo-finding/Test/fd5b39474bd0c0e81bf3af47bbc0c487_0\n"
     ]
    },
    {
     "name": "stderr",
     "output_type": "stream",
     "text": [
      " 99%|█████████▉| 1756/1768 [15:46<00:06,  1.79it/s]"
     ]
    },
    {
     "name": "stdout",
     "output_type": "stream",
     "text": [
      "Image and info_dict saved for fdc97a4e0c7da3511cad7b0f8f3f71f3_0 in /Volumes/Newsmy/FM_dataset/VinDr-Mammo-finding/Test/fdc97a4e0c7da3511cad7b0f8f3f71f3_0\n",
      "Image and info_dict saved for fde1086cce41c66b9efc68270f537837_0 in /Volumes/Newsmy/FM_dataset/VinDr-Mammo-finding/Train/fde1086cce41c66b9efc68270f537837_0\n",
      "Image and info_dict saved for fde1086cce41c66b9efc68270f537837_1 in /Volumes/Newsmy/FM_dataset/VinDr-Mammo-finding/Train/fde1086cce41c66b9efc68270f537837_1\n",
      "Image and info_dict saved for fde1086cce41c66b9efc68270f537837_2 in /Volumes/Newsmy/FM_dataset/VinDr-Mammo-finding/Train/fde1086cce41c66b9efc68270f537837_2\n"
     ]
    },
    {
     "name": "stderr",
     "output_type": "stream",
     "text": [
      " 99%|█████████▉| 1757/1768 [15:47<00:07,  1.49it/s]"
     ]
    },
    {
     "name": "stdout",
     "output_type": "stream",
     "text": [
      "Image and info_dict saved for fde1086cce41c66b9efc68270f537837_3 in /Volumes/Newsmy/FM_dataset/VinDr-Mammo-finding/Train/fde1086cce41c66b9efc68270f537837_3\n"
     ]
    },
    {
     "name": "stderr",
     "output_type": "stream",
     "text": [
      " 99%|█████████▉| 1758/1768 [15:48<00:06,  1.60it/s]"
     ]
    },
    {
     "name": "stdout",
     "output_type": "stream",
     "text": [
      "Image and info_dict saved for fde50065b6d598d0bb62a08a0f0d97b7_0 in /Volumes/Newsmy/FM_dataset/VinDr-Mammo-finding/Train/fde50065b6d598d0bb62a08a0f0d97b7_0\n"
     ]
    },
    {
     "name": "stderr",
     "output_type": "stream",
     "text": [
      " 99%|█████████▉| 1759/1768 [15:48<00:05,  1.68it/s]"
     ]
    },
    {
     "name": "stdout",
     "output_type": "stream",
     "text": [
      "Image and info_dict saved for fdef102a89845c81d40fa6c8869fb99a_0 in /Volumes/Newsmy/FM_dataset/VinDr-Mammo-finding/Train/fdef102a89845c81d40fa6c8869fb99a_0\n"
     ]
    },
    {
     "name": "stderr",
     "output_type": "stream",
     "text": [
      "100%|█████████▉| 1760/1768 [15:49<00:04,  1.60it/s]"
     ]
    },
    {
     "name": "stdout",
     "output_type": "stream",
     "text": [
      "Image and info_dict saved for fe4273ea38a3028f91f80e5e12a84301_0 in /Volumes/Newsmy/FM_dataset/VinDr-Mammo-finding/Train/fe4273ea38a3028f91f80e5e12a84301_0\n"
     ]
    },
    {
     "name": "stderr",
     "output_type": "stream",
     "text": [
      "100%|█████████▉| 1761/1768 [15:50<00:04,  1.70it/s]"
     ]
    },
    {
     "name": "stdout",
     "output_type": "stream",
     "text": [
      "Image and info_dict saved for ff1006f34fb13f42dff90aff81dc33ce_0 in /Volumes/Newsmy/FM_dataset/VinDr-Mammo-finding/Test/ff1006f34fb13f42dff90aff81dc33ce_0\n"
     ]
    },
    {
     "name": "stderr",
     "output_type": "stream",
     "text": [
      "100%|█████████▉| 1762/1768 [15:50<00:03,  1.85it/s]"
     ]
    },
    {
     "name": "stdout",
     "output_type": "stream",
     "text": [
      "Image and info_dict saved for ff1ac3371deae6d83a882e5ac36378e6_0 in /Volumes/Newsmy/FM_dataset/VinDr-Mammo-finding/Train/ff1ac3371deae6d83a882e5ac36378e6_0\n"
     ]
    },
    {
     "name": "stderr",
     "output_type": "stream",
     "text": [
      "100%|█████████▉| 1763/1768 [15:50<00:02,  2.02it/s]"
     ]
    },
    {
     "name": "stdout",
     "output_type": "stream",
     "text": [
      "Image and info_dict saved for ff476c753265aa0baa6685c58d5ef05a_0 in /Volumes/Newsmy/FM_dataset/VinDr-Mammo-finding/Train/ff476c753265aa0baa6685c58d5ef05a_0\n"
     ]
    },
    {
     "name": "stderr",
     "output_type": "stream",
     "text": [
      "100%|█████████▉| 1764/1768 [15:51<00:02,  1.90it/s]"
     ]
    },
    {
     "name": "stdout",
     "output_type": "stream",
     "text": [
      "Image and info_dict saved for ff6716b4004598670fa72d8cefea454c_0 in /Volumes/Newsmy/FM_dataset/VinDr-Mammo-finding/Train/ff6716b4004598670fa72d8cefea454c_0\n",
      "Image and info_dict saved for ff6716b4004598670fa72d8cefea454c_1 in /Volumes/Newsmy/FM_dataset/VinDr-Mammo-finding/Train/ff6716b4004598670fa72d8cefea454c_1\n"
     ]
    },
    {
     "name": "stderr",
     "output_type": "stream",
     "text": [
      "100%|█████████▉| 1765/1768 [15:51<00:01,  1.90it/s]"
     ]
    },
    {
     "name": "stdout",
     "output_type": "stream",
     "text": [
      "Image and info_dict saved for ffac8bc2803630da2fb467c566d1f136_0 in /Volumes/Newsmy/FM_dataset/VinDr-Mammo-finding/Train/ffac8bc2803630da2fb467c566d1f136_0\n"
     ]
    },
    {
     "name": "stderr",
     "output_type": "stream",
     "text": [
      "100%|█████████▉| 1766/1768 [15:52<00:01,  1.99it/s]"
     ]
    },
    {
     "name": "stdout",
     "output_type": "stream",
     "text": [
      "Image and info_dict saved for ffb94da823c87898c7ce19b197dc24c9_0 in /Volumes/Newsmy/FM_dataset/VinDr-Mammo-finding/Train/ffb94da823c87898c7ce19b197dc24c9_0\n"
     ]
    },
    {
     "name": "stderr",
     "output_type": "stream",
     "text": [
      "100%|█████████▉| 1767/1768 [15:52<00:00,  1.95it/s]"
     ]
    },
    {
     "name": "stdout",
     "output_type": "stream",
     "text": [
      "Image and info_dict saved for ffd951bc4cd3d91f8994d2d1d36f038d_0 in /Volumes/Newsmy/FM_dataset/VinDr-Mammo-finding/Eval/ffd951bc4cd3d91f8994d2d1d36f038d_0\n"
     ]
    },
    {
     "name": "stderr",
     "output_type": "stream",
     "text": [
      "100%|██████████| 1768/1768 [15:53<00:00,  1.85it/s]"
     ]
    },
    {
     "name": "stdout",
     "output_type": "stream",
     "text": [
      "Image and info_dict saved for ffe25766ac37ab145ae7f0bd78665f81_0 in /Volumes/Newsmy/FM_dataset/VinDr-Mammo-finding/Train/ffe25766ac37ab145ae7f0bd78665f81_0\n",
      "Image and info_dict saved for ffe25766ac37ab145ae7f0bd78665f81_1 in /Volumes/Newsmy/FM_dataset/VinDr-Mammo-finding/Train/ffe25766ac37ab145ae7f0bd78665f81_1\n",
      "Image and info_dict saved for ffe25766ac37ab145ae7f0bd78665f81_2 in /Volumes/Newsmy/FM_dataset/VinDr-Mammo-finding/Train/ffe25766ac37ab145ae7f0bd78665f81_2\n",
      "Processing complete.\n"
     ]
    },
    {
     "name": "stderr",
     "output_type": "stream",
     "text": [
      "\n"
     ]
    }
   ],
   "source": [
    "import pandas as pd\n",
    "import numpy as np\n",
    "import os\n",
    "import pydicom\n",
    "import cv2\n",
    "from tqdm import tqdm\n",
    "import ast\n",
    "from pydicom.pixel_data_handlers.util import apply_voi_lut\n",
    "\n",
    "def fit_image(fname):\n",
    "    dicom = pydicom.dcmread(fname)\n",
    "    X = apply_voi_lut(dicom.pixel_array, dicom, prefer_lut=False)\n",
    "    X = (X - X.min()) / (X.max() - X.min())\n",
    "    if dicom.PhotometricInterpretation == \"MONOCHROME1\":\n",
    "        X = 1 - X\n",
    "    X = X * 255\n",
    "    return X\n",
    "\n",
    "def crop_image(X, xmin, ymin, xmax, ymax):\n",
    "    xmin = max(0, xmin)\n",
    "    ymin = max(0, ymin)\n",
    "    xmax = min(X.shape[1], xmax)\n",
    "    ymax = min(X.shape[0], ymax)\n",
    "    return X[ymin:ymax, xmin:xmax]\n",
    "\n",
    "# 读取CSV文件\n",
    "csv_path = '/Volumes/图图/VinDr/VinDr-Mammo/finding_annotations.csv'\n",
    "split_csv_path = '../classification_data/classification_split.csv'\n",
    "df = pd.read_csv(csv_path)\n",
    "\n",
    "# 读取数据划分CSV文件\n",
    "split_df = pd.read_csv(split_csv_path)\n",
    "split_df = split_df[split_df['dataset'] == 'VinDr-Mammo-finding']\n",
    "\n",
    "# 修正边界框坐标，筛选有异常的图像\n",
    "df['finding_categories'] = df['finding_categories'].apply(ast.literal_eval)\n",
    "df = df[df['finding_categories'].apply(lambda x: x != ['No Finding'])]\n",
    "\n",
    "# 按 image_id 分组\n",
    "grouped_df = df.groupby('image_id')\n",
    "\n",
    "# 定义基本路径\n",
    "base_path = '/Volumes/图图/VinDr/VinDr-Mammo/images'\n",
    "target_path = '../classification_data/VinDr-Mammo-finding'\n",
    "\n",
    "# 创建目标文件夹\n",
    "os.makedirs(target_path, exist_ok=True)\n",
    "\n",
    "# 处理每个图像及其对应的边界框\n",
    "for image_id, group in tqdm(grouped_df):\n",
    "    study_id = group['study_id'].iloc[0]\n",
    "    img_dir = os.path.join(base_path, study_id)\n",
    "    img_path = os.path.join(img_dir, image_id + '.dicom')\n",
    "\n",
    "    if not os.path.exists(img_path):\n",
    "        print(f\"Image not found: {img_path}\")\n",
    "        continue\n",
    "\n",
    "    img = fit_image(img_path)\n",
    "    \n",
    "    for i, row in enumerate(group.itertuples()):\n",
    "        # 生成data_name\n",
    "        data_name = f\"{image_id}_{i}\"\n",
    "        \n",
    "        # 查找对应的data_split\n",
    "        split_info = split_df[split_df['data_name'] == data_name]\n",
    "        if split_info.empty:\n",
    "            print(f\"No split info found for {data_name}\")\n",
    "            continue\n",
    "            \n",
    "        data_split = split_info['data_split'].values[0]\n",
    "        \n",
    "        # 裁剪图像\n",
    "        xmin, ymin, xmax, ymax = int(row.xmin), int(row.ymin), int(row.xmax), int(row.ymax)\n",
    "        cropped_img = crop_image(img, xmin, ymin, xmax, ymax)\n",
    "        \n",
    "        # 创建输出目录\n",
    "        img_folder = os.path.join(target_path, data_split, data_name)\n",
    "        os.makedirs(img_folder, exist_ok=True)\n",
    "        \n",
    "        # 保存图像\n",
    "        jpg_path = os.path.join(img_folder, 'img.jpg')\n",
    "        cv2.imwrite(jpg_path, cropped_img)\n",
    "\n",
    "        # 保存元数据\n",
    "        info_dict = {\n",
    "            'Finding': row.finding_categories\n",
    "        }\n",
    "        npy_path = os.path.join(img_folder, 'info_dict.npy')\n",
    "        np.save(npy_path, info_dict)\n",
    "\n",
    "        print(f'Processed {data_name} for {data_split} set')\n",
    "\n",
    "print(\"Processing complete.\")"
   ]
  },
  {
   "cell_type": "markdown",
   "metadata": {},
   "source": [
    "Detection"
   ]
  },
  {
   "cell_type": "code",
   "execution_count": null,
   "metadata": {},
   "outputs": [
    {
     "name": "stderr",
     "output_type": "stream",
     "text": [
      "100%|██████████| 1226/1226 [08:03<00:00,  2.54it/s]"
     ]
    },
    {
     "name": "stdout",
     "output_type": "stream",
     "text": [
      "Processing complete.\n"
     ]
    },
    {
     "name": "stderr",
     "output_type": "stream",
     "text": [
      "\n"
     ]
    }
   ],
   "source": [
    "import pandas as pd\n",
    "import numpy as np\n",
    "import os\n",
    "import pydicom\n",
    "import cv2\n",
    "from tqdm import tqdm\n",
    "import ast\n",
    "from pydicom.pixel_data_handlers.util import apply_voi_lut\n",
    "\n",
    "def fit_image(fname):\n",
    "    dicom = pydicom.dcmread(fname)\n",
    "    X = apply_voi_lut(dicom.pixel_array, dicom, prefer_lut=False)\n",
    "    \n",
    "    X = (X - X.min()) / (X.max() - X.min())\n",
    "    \n",
    "    if dicom.PhotometricInterpretation == \"MONOCHROME1\":\n",
    "        X = 1 - X\n",
    "    \n",
    "    X = X * 255\n",
    "    X = X[10:-10, 10:-10]  # Cut off narrow frame\n",
    "    \n",
    "    output = cv2.connectedComponentsWithStats((X > 20).astype(np.uint8), 8, cv2.CV_32S)\n",
    "    stats = output[2]\n",
    "    \n",
    "    idx = stats[1:, 4].argmax() + 1\n",
    "    x1, y1, w, h = stats[idx][:4]\n",
    "    x2 = x1 + w\n",
    "    y2 = y1 + h\n",
    "    \n",
    "    X_fit = X[y1: y2, x1: x2]\n",
    "    return X_fit, x1, y1  # Return the image and the offsets\n",
    "\n",
    "# Read the CSV files\n",
    "csv_path = '/Volumes/图图/VinDr/VinDr-Mammo/finding_annotations.csv'\n",
    "split_csv_path = '../segdetdata/segdet_split.csv'\n",
    "df = pd.read_csv(csv_path)\n",
    "split_df = pd.read_csv(split_csv_path)\n",
    "\n",
    "# Filter for VinDr-Mammo dataset\n",
    "split_df = split_df[split_df['dataset'] == 'VinDr-Mammo']\n",
    "\n",
    "# Only keep rows where 'finding_categories' contains 'Mass'\n",
    "df['finding_categories'] = df['finding_categories'].apply(ast.literal_eval)\n",
    "df = df[df['finding_categories'].apply(lambda x: 'Mass' in x)]\n",
    "\n",
    "# Adjust bboxes after image has been fit\n",
    "def adjust_bboxes(row, x_offset, y_offset):\n",
    "    xmin = max(row['xmin'] - x_offset, 0)\n",
    "    ymin = max(row['ymin'] - y_offset, 0)\n",
    "    xmax = max(row['xmax'] - x_offset, 0)\n",
    "    ymax = max(row['ymax'] - y_offset, 0)\n",
    "    return [xmin, ymin, xmax, ymax]\n",
    "\n",
    "base_path = '/Volumes/图图/VinDr/VinDr-Mammo/images'\n",
    "target_path = '../segdetdata/VinDr-Mammo'\n",
    "\n",
    "# Create output directories\n",
    "for split in ['Train', 'Eval', 'Test']:\n",
    "    os.makedirs(os.path.join(target_path, split), exist_ok=True)\n",
    "\n",
    "for idx, row in tqdm(df.iterrows(), total=len(df)):\n",
    "    img_path = os.path.join(base_path, row['study_id'], row['image_id'] + '.dicom')\n",
    "    \n",
    "    if not os.path.exists(img_path):\n",
    "        continue\n",
    "    \n",
    "    # Get split information from CSV\n",
    "    split_info = split_df[split_df['data_name'] == row['image_id']]\n",
    "    if split_info.empty:\n",
    "        print(f\"No split info found for {row['image_id']}\")\n",
    "        continue\n",
    "    \n",
    "    data_split = split_info['data_split'].values[0]\n",
    "    \n",
    "    # Process image and bboxes\n",
    "    img, x_offset, y_offset = fit_image(img_path)\n",
    "    \n",
    "    bboxes = []\n",
    "    for _, r in df[df['image_id'] == row['image_id']].iterrows():\n",
    "        bbox = adjust_bboxes(r, x_offset, y_offset)\n",
    "        bboxes.append(bbox)\n",
    "    \n",
    "    img_folder = os.path.join(target_path, data_split, row['image_id'])\n",
    "    os.makedirs(img_folder, exist_ok=True)\n",
    "    \n",
    "    # Save image\n",
    "    jpg_path = os.path.join(img_folder, 'img.jpg')\n",
    "    cv2.imwrite(jpg_path, img)\n",
    "\n",
    "    # Save bboxes\n",
    "    npy_path = os.path.join(img_folder, 'bboxes.npy')\n",
    "    np.save(npy_path, bboxes)\n",
    "\n",
    "print(\"Processing complete.\")"
   ]
  },
  {
   "cell_type": "code",
   "execution_count": null,
   "metadata": {},
   "outputs": [],
   "source": []
  }
 ],
 "metadata": {
  "kernelspec": {
   "display_name": "base",
   "language": "python",
   "name": "python3"
  },
  "language_info": {
   "codemirror_mode": {
    "name": "ipython",
    "version": 3
   },
   "file_extension": ".py",
   "mimetype": "text/x-python",
   "name": "python",
   "nbconvert_exporter": "python",
   "pygments_lexer": "ipython3",
   "version": "3.8.18"
  }
 },
 "nbformat": 4,
 "nbformat_minor": 2
}
