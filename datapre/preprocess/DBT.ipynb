{
 "cells": [
  {
   "cell_type": "code",
   "execution_count": null,
   "metadata": {},
   "outputs": [
    {
     "name": "stderr",
     "output_type": "stream",
     "text": [
      "  0%|          | 0/136 [00:00<?, ?it/s]/opt/anaconda3/lib/python3.9/site-packages/pydicom/pixel_data_handlers/pillow_handler.py:238: UserWarning: The (0028,0101) 'Bits Stored' value (10-bit) doesn't match the JPEG 2000 data (16-bit). It's recommended that you change the 'Bits Stored' value\n",
      "  warnings.warn(\n",
      " 54%|█████▎    | 73/136 [16:22<28:45, 27.39s/it]/opt/anaconda3/lib/python3.9/site-packages/pydicom/filereader.py:440: UserWarning: End of file reached before delimiter (fffe, e0dd) found in file /Volumes/Newsmy/DBT/Test/manifest-1617905855234/Breast-Cancer-Screening-DBT/DBT-P02308/01-01-2000-DBT-S00377-MAMMO diagnostic digital bilateral-02419/5940.000000-66346/1-1.dcm\n",
      "  warnings.warn(msg, UserWarning)\n",
      " 54%|█████▍    | 74/136 [16:28<21:39, 20.96s/it]"
     ]
    },
    {
     "name": "stdout",
     "output_type": "stream",
     "text": [
      "Error processing /Volumes/Newsmy/DBT/Test/manifest-1617905855234/Breast-Cancer-Screening-DBT/DBT-P02308/01-01-2000-DBT-S00377-MAMMO diagnostic digital bilateral-02419/5940.000000-66346/1-1.dcm: 'FileDataset' object has no attribute 'PixelData'\n"
     ]
    },
    {
     "name": "stderr",
     "output_type": "stream",
     "text": [
      "100%|██████████| 136/136 [30:45<00:00, 13.57s/it]\n"
     ]
    },
    {
     "name": "stdout",
     "output_type": "stream",
     "text": [
      "Processing completed successfully! Total processed: 135\n"
     ]
    }
   ],
   "source": [
    "import os\n",
    "import pandas as pd\n",
    "import pydicom\n",
    "import numpy as np\n",
    "import cv2\n",
    "from PIL import Image\n",
    "import shutil\n",
    "from tqdm import tqdm\n",
    "\n",
    "# 设置随机种子以保证可重复性\n",
    "np.random.seed(42)\n",
    "\n",
    "# 输入文件路径\n",
    "boxes_csv_path = \"/Volumes/Newsmy/DBT/Test/BCS-DBT-boxes-test-v2-PHASE-2-Jan-2024.csv\"\n",
    "paths_csv_path = \"/Volumes/Newsmy/DBT/Test/BCS-DBT-file-paths-test-v2.csv\"\n",
    "dcm_base_path = \"/Volumes/Newsmy/DBT/Test/manifest-1617905855234\"\n",
    "split_csv_path = \"../classification_data/classification_split.csv\"\n",
    "\n",
    "# 输出文件夹\n",
    "output_base = \"../classification_data/DBT\"\n",
    "os.makedirs(output_base, exist_ok=True)\n",
    "\n",
    "# 读取CSV文件\n",
    "boxes_df = pd.read_csv(boxes_csv_path)\n",
    "paths_df = pd.read_csv(paths_csv_path)\n",
    "split_df = pd.read_csv(split_csv_path)\n",
    "\n",
    "# 只保留DBT数据集\n",
    "split_df = split_df[split_df['dataset'] == 'DBT']\n",
    "\n",
    "# 为boxes_df添加唯一标识符（处理重复的PatientID+StudyUID+View组合）\n",
    "boxes_df['unique_id'] = boxes_df.groupby(['PatientID', 'StudyUID', 'View']).cumcount()\n",
    "\n",
    "# 合并两个DataFrame以获取每个box对应的dcm路径\n",
    "merged_df = pd.merge(boxes_df, paths_df, on=[\"PatientID\", \"StudyUID\", \"View\"])\n",
    "\n",
    "# 添加完整的dcm路径\n",
    "merged_df[\"full_dcm_path\"] = dcm_base_path + \"/\" + merged_df[\"descriptive_path\"]\n",
    "\n",
    "# 创建输出目录结构\n",
    "split_folders = [\"Train\", \"Eval\", \"Test\"]\n",
    "for folder in split_folders:\n",
    "    os.makedirs(os.path.join(output_base, folder), exist_ok=True)\n",
    "\n",
    "def process_dcm_and_save(row, output_dir):\n",
    "    try:\n",
    "        # 读取DICOM文件\n",
    "        dcm = pydicom.dcmread(row[\"full_dcm_path\"])\n",
    "        \n",
    "        # 获取像素数据\n",
    "        pixel_array = dcm.pixel_array\n",
    "        \n",
    "        # 检查是否是3D数据\n",
    "        if len(pixel_array.shape) != 3:\n",
    "            print(f\"Skipping {row['full_dcm_path']} - not 3D data\")\n",
    "            return False\n",
    "        \n",
    "        # 获取指定切片\n",
    "        slice_idx = row[\"Slice\"] - 1  # 转换为0-based索引\n",
    "        if slice_idx >= pixel_array.shape[0]:\n",
    "            print(f\"Skipping {row['full_dcm_path']} - slice {row['Slice']} out of range\")\n",
    "            return False\n",
    "        \n",
    "        slice_img = pixel_array[slice_idx]\n",
    "        \n",
    "        # 转换为8位无符号整数 (0-255)\n",
    "        if slice_img.dtype != np.uint8:\n",
    "            slice_img = cv2.normalize(slice_img, None, 0, 255, cv2.NORM_MINMAX).astype(np.uint8)\n",
    "        \n",
    "        # 转换为PIL图像\n",
    "        img = Image.fromarray(slice_img)\n",
    "        \n",
    "        # 裁剪ROI\n",
    "        x, y, width, height = row[\"X\"], row[\"Y\"], row[\"Width\"], row[\"Height\"]\n",
    "        roi = img.crop((x, y, x + width, y + height))\n",
    "        \n",
    "        # 从路径中提取唯一标识符\n",
    "        path_parts = row['descriptive_path'].split('/')\n",
    "        study_id = path_parts[-2].split('-')[-1] if len(path_parts) >= 2 else \"unknown\"\n",
    "        \n",
    "        # 创建唯一输出文件夹名称 (包含unique_id以区分相同PatientID+StudyUID+View的组合)\n",
    "        data_name = f\"{row['Class']}_{study_id}_{row['unique_id']}\"\n",
    "        \n",
    "        # 查找对应的data_split\n",
    "        split_info = split_df[split_df['data_name'] == data_name]\n",
    "        if split_info.empty:\n",
    "            print(f\"No split info found for {data_name}\")\n",
    "            return False\n",
    "        \n",
    "        data_split = split_info['data_split'].values[0]\n",
    "        output_folder = os.path.join(output_dir, data_split, data_name)\n",
    "        os.makedirs(output_folder, exist_ok=True)\n",
    "        \n",
    "        # 保存图像\n",
    "        roi.save(os.path.join(output_folder, \"img.jpg\"))\n",
    "        \n",
    "        # 创建并保存更详细的info_dict.npy\n",
    "        pathology = \"Malignant\" if row[\"Class\"] == \"cancer\" else \"Benign\"\n",
    "        metadata = {\n",
    "            \"Pathology\": pathology\n",
    "        }\n",
    "        np.save(os.path.join(output_folder, \"info_dict.npy\"), metadata)\n",
    "        \n",
    "        return True\n",
    "    \n",
    "    except Exception as e:\n",
    "        print(f\"Error processing {row['full_dcm_path']}: {str(e)}\")\n",
    "        return False\n",
    "\n",
    "# 处理所有图像并直接保存到对应的分割目录\n",
    "processed_count = 0\n",
    "for _, row in tqdm(merged_df.iterrows(), total=len(merged_df)):\n",
    "    if process_dcm_and_save(row, output_base):\n",
    "        processed_count += 1\n",
    "\n",
    "print(f\"Processing completed successfully! Total processed: {processed_count}\")"
   ]
  },
  {
   "cell_type": "code",
   "execution_count": null,
   "metadata": {},
   "outputs": [],
   "source": []
  }
 ],
 "metadata": {
  "kernelspec": {
   "display_name": "base",
   "language": "python",
   "name": "python3"
  },
  "language_info": {
   "codemirror_mode": {
    "name": "ipython",
    "version": 3
   },
   "file_extension": ".py",
   "mimetype": "text/x-python",
   "name": "python",
   "nbconvert_exporter": "python",
   "pygments_lexer": "ipython3",
   "version": "3.9.21"
  }
 },
 "nbformat": 4,
 "nbformat_minor": 2
}
